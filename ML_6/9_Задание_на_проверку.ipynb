{
  "cells": [
    {
      "cell_type": "code",
      "execution_count": 1,
      "metadata": {
        "id": "eGtkXYUl-Lx5"
      },
      "outputs": [],
      "source": [
        "import pandas as pd\n",
        "import numpy as np\n",
        "\n",
        "from sklearn.model_selection import train_test_split\n",
        "from sklearn.linear_model import LinearRegression\n",
        "from sklearn.metrics import mean_absolute_error\n",
        "from sklearn.metrics import r2_score"
      ]
    },
    {
      "cell_type": "markdown",
      "metadata": {
        "id": "cmjIgwep-cNS"
      },
      "source": [
        "## Загрузка данных"
      ]
    },
    {
      "cell_type": "code",
      "execution_count": 2,
      "metadata": {
        "id": "il5FEAp5-UFr"
      },
      "outputs": [],
      "source": [
        "#%%capture\n",
        "#!wget https://www.dropbox.com/s/64ol9q9ssggz6f1/data_ford_price.xlsx"
      ]
    },
    {
      "cell_type": "code",
      "execution_count": 3,
      "metadata": {
        "id": "CHMsCtre-ef2"
      },
      "outputs": [],
      "source": [
        "data = pd.read_excel('data/data_ford_price.xlsx') "
      ]
    },
    {
      "cell_type": "markdown",
      "metadata": {
        "id": "sNWjSviw-h5b"
      },
      "source": [
        "## Отбор признаков: мотивация\n",
        "\n",
        "### Предобработка данных"
      ]
    },
    {
      "cell_type": "code",
      "execution_count": 4,
      "metadata": {
        "id": "fEanAoMn-gZ-"
      },
      "outputs": [],
      "source": [
        "data = data[['price','year', 'cylinders', 'odometer', 'lat', 'long', 'weather']]\n",
        "data.dropna(inplace = True)\n",
        "\n",
        "y = data['price']\n",
        "x = data.drop(columns='price')\n",
        "\n",
        "X_train, X_test, y_train, y_test = train_test_split(x, y, test_size=0.2, random_state=42)"
      ]
    },
    {
      "cell_type": "markdown",
      "metadata": {
        "id": "m7FaBHYl-myl"
      },
      "source": [
        "## Отбор признаков: классификация методов\n",
        "\n",
        "###Метод рекурсивного исключения признаков"
      ]
    },
    {
      "cell_type": "code",
      "execution_count": 5,
      "metadata": {
        "id": "_2vAHOgS-k9D"
      },
      "outputs": [],
      "source": [
        "from sklearn.feature_selection import RFE"
      ]
    },
    {
      "cell_type": "code",
      "execution_count": 6,
      "metadata": {
        "colab": {
          "base_uri": "https://localhost:8080/"
        },
        "id": "AqloWcUg-rYT",
        "outputId": "381bc3c7-6114-47d2-98d6-b5a373253e37"
      },
      "outputs": [
        {
          "data": {
            "text/plain": [
              "array(['year', 'cylinders', 'lat'], dtype=object)"
            ]
          },
          "execution_count": 6,
          "metadata": {},
          "output_type": "execute_result"
        }
      ],
      "source": [
        "estimator = LinearRegression()\n",
        "selector = RFE(estimator, n_features_to_select=3, step=1)\n",
        "selector = selector.fit(X_train, y_train)\n",
        " \n",
        "selector.get_feature_names_out()"
      ]
    },
    {
      "cell_type": "markdown",
      "metadata": {
        "id": "fI5Akgsv-uzx"
      },
      "source": [
        "Приоритетные признаки 'year', 'cylinders' и 'lat'."
      ]
    },
    {
      "cell_type": "code",
      "execution_count": 7,
      "metadata": {
        "id": "BGSJILJM-s1M"
      },
      "outputs": [],
      "source": [
        "data_RFE = data[['year', 'cylinders', 'lat']].copy()\n",
        "\n",
        "y = data['price']\n",
        "x = data_RFE\n",
        "\n",
        "X_train, X_test, y_train, y_test = train_test_split(x, y, test_size=0.2, random_state=42)"
      ]
    },
    {
      "cell_type": "markdown",
      "metadata": {
        "id": "kbkBHlvd-y2A"
      },
      "source": [
        "## Обучение модели на 3 столбцах по методу RFE"
      ]
    },
    {
      "cell_type": "code",
      "execution_count": 8,
      "metadata": {
        "colab": {
          "base_uri": "https://localhost:8080/"
        },
        "id": "6iNKa4IW-xWr",
        "outputId": "df025cf8-ef73-485b-ec55-420c1c94cc10"
      },
      "outputs": [
        {
          "name": "stdout",
          "output_type": "stream",
          "text": [
            "MAE RFE: 5280.017\n",
            "R2_RFE: 0.562\n"
          ]
        }
      ],
      "source": [
        "model_RFE= LinearRegression()\n",
        "\n",
        "model_RFE.fit(X_train, y_train)\n",
        "y_predicted_RFE = model_RFE.predict(X_test)\n",
        " \n",
        "mae_RFE = mean_absolute_error(y_test, y_predicted_RFE)\n",
        "R2_RFE = r2_score(y_test, y_predicted_RFE)\n",
        "print('MAE RFE: %.3f' % mae_RFE)\n",
        "print('R2_RFE: %.3f' % R2_RFE)"
      ]
    },
    {
      "cell_type": "markdown",
      "metadata": {
        "id": "vPl4YxGo-3Iu"
      },
      "source": [
        "## МЕТОДЫ ВЫБОРА ПРИЗНАКОВ НА ОСНОВЕ ФИЛЬТРОВ"
      ]
    },
    {
      "cell_type": "code",
      "execution_count": 9,
      "metadata": {
        "id": "8CaIrbHv-1ME"
      },
      "outputs": [],
      "source": [
        "from sklearn.feature_selection import SelectKBest, f_regression"
      ]
    },
    {
      "cell_type": "code",
      "execution_count": 10,
      "metadata": {
        "id": "dsG5Uht3-49k"
      },
      "outputs": [],
      "source": [
        "y = data['price']\n",
        "x = data.drop(columns='price')\n",
        "\n",
        "X_train, X_test, y_train, y_test = train_test_split(x, y, test_size=0.2, random_state=42)"
      ]
    },
    {
      "cell_type": "code",
      "execution_count": 11,
      "metadata": {
        "colab": {
          "base_uri": "https://localhost:8080/"
        },
        "id": "K9g760Ye-84V",
        "outputId": "5723ec69-886b-4aa3-b6c1-c149365a3275"
      },
      "outputs": [
        {
          "data": {
            "text/plain": [
              "array(['year', 'cylinders', 'odometer'], dtype=object)"
            ]
          },
          "execution_count": 11,
          "metadata": {},
          "output_type": "execute_result"
        }
      ],
      "source": [
        "selector = SelectKBest(f_regression, k=3)\n",
        "selector.fit(X_train, y_train)\n",
        " \n",
        "selector.get_feature_names_out()"
      ]
    },
    {
      "cell_type": "code",
      "execution_count": 12,
      "metadata": {
        "id": "68fXHbMg-_VM"
      },
      "outputs": [],
      "source": [
        "data_pearson = data[['year', 'cylinders', 'odometer']].copy()\n",
        "\n",
        "y = data['price']\n",
        "x = data_pearson\n",
        "\n",
        "X_train, X_test, y_train, y_test = train_test_split(x, y, test_size=0.2, random_state=42)"
      ]
    },
    {
      "cell_type": "markdown",
      "metadata": {
        "id": "jk50JWDR_FND"
      },
      "source": [
        "## Обучение модели на 3 столбцах по методу Pearson`s"
      ]
    },
    {
      "cell_type": "code",
      "execution_count": 13,
      "metadata": {
        "colab": {
          "base_uri": "https://localhost:8080/"
        },
        "id": "fxfI13Ue_CX2",
        "outputId": "753d206a-94ac-4fdd-cdb8-b1294818035e"
      },
      "outputs": [
        {
          "name": "stdout",
          "output_type": "stream",
          "text": [
            "MAE Pearson: 4925.458\n",
            "R2_Pearson: 0.598\n"
          ]
        }
      ],
      "source": [
        "model_pearson= LinearRegression()\n",
        "\n",
        "model_pearson.fit(X_train, y_train)\n",
        "y_predicted_pearson = model_pearson.predict(X_test)\n",
        " \n",
        "mae_pearson = mean_absolute_error(y_test, y_predicted_pearson)\n",
        "R2_pearson = r2_score(y_test, y_predicted_pearson)\n",
        "print('MAE Pearson: %.3f' % mae_pearson)\n",
        "print('R2_Pearson: %.3f' % R2_pearson)"
      ]
    },
    {
      "cell_type": "markdown",
      "metadata": {
        "id": "pwINgvwW_aoL"
      },
      "source": [
        "# **ВЫВОД**\n",
        "\n",
        "Метрики линейной регрессии на признаках, отобранных по методу рекурсивного исключения (RFE):\n",
        "+ MAE RFE: 5280.017\n",
        "+ R2_RFE: 0.562\n",
        "\n",
        "Метрики линейной регресии на признаках отобранных по коэффициенту корреляции Пирсона:\n",
        "+ MAE Pearson: 4925.458\n",
        "+ R2_Pearson: 0.598\n",
        "\n",
        "## По результатам метрик видим, что значимость признаков по коэффициенту корреляци Пирсона лучше влияют на модель по абсолютной ошибке MAE и коэффициенту детерминаци."
      ]
    }
  ],
  "metadata": {
    "colab": {
      "collapsed_sections": [],
      "provenance": []
    },
    "kernelspec": {
      "display_name": "Python 3",
      "language": "python",
      "name": "python3"
    },
    "language_info": {
      "codemirror_mode": {
        "name": "ipython",
        "version": 3
      },
      "file_extension": ".py",
      "mimetype": "text/x-python",
      "name": "python",
      "nbconvert_exporter": "python",
      "pygments_lexer": "ipython3",
      "version": "3.10.8"
    },
    "vscode": {
      "interpreter": {
        "hash": "321ab55950f37df101268a46266f5dff6fbc802a7a8ebb790c29b4e197aadd34"
      }
    }
  },
  "nbformat": 4,
  "nbformat_minor": 0
}
