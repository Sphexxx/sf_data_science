{
 "cells": [
  {
   "cell_type": "code",
   "execution_count": 1,
   "metadata": {},
   "outputs": [],
   "source": [
    "import pandas as pd\n",
    "import numpy as np"
   ]
  },
  {
   "cell_type": "code",
   "execution_count": 2,
   "metadata": {},
   "outputs": [
    {
     "data": {
      "text/plain": [
       "matrix([[ 1,  2,  3],\n",
       "        [ 4,  5,  6],\n",
       "        [ 7,  8, 10]])"
      ]
     },
     "execution_count": 2,
     "metadata": {},
     "output_type": "execute_result"
    }
   ],
   "source": [
    "A = np.matrix('1,2,3; 4,5,6; 7, 8, 10')\n",
    "A"
   ]
  },
  {
   "cell_type": "code",
   "execution_count": 3,
   "metadata": {},
   "outputs": [
    {
     "data": {
      "text/plain": [
       "matrix([[-0.66666667, -1.33333333,  1.        ],\n",
       "        [-0.66666667,  3.66666667, -2.        ],\n",
       "        [ 1.        , -2.        ,  1.        ]])"
      ]
     },
     "execution_count": 3,
     "metadata": {},
     "output_type": "execute_result"
    }
   ],
   "source": [
    "np.linalg.inv(A)"
   ]
  },
  {
   "cell_type": "code",
   "execution_count": 4,
   "metadata": {},
   "outputs": [
    {
     "name": "stdout",
     "output_type": "stream",
     "text": [
      "-2.9999999999999996\n"
     ]
    }
   ],
   "source": [
    "import numpy as np\n",
    "A = np.matrix (\"1, 2, 3; 4, 5, 6 ; 7, 8, 10\")\n",
    "print(np.linalg.det(A))"
   ]
  },
  {
   "cell_type": "code",
   "execution_count": 8,
   "metadata": {},
   "outputs": [
    {
     "name": "stdout",
     "output_type": "stream",
     "text": [
      "2\n"
     ]
    }
   ],
   "source": [
    "import numpy as np\n",
    "v1 = np.array([1,2,3,1])\n",
    "v2 = np.array([4,5,6,1])\n",
    "v3 = np.array([7,8,9,1])\n",
    "A = np.array([v1, v2, v3]).T\n",
    "print(np.linalg.matrix_rank(A))"
   ]
  },
  {
   "cell_type": "code",
   "execution_count": 9,
   "metadata": {},
   "outputs": [
    {
     "name": "stdout",
     "output_type": "stream",
     "text": [
      "3\n"
     ]
    }
   ],
   "source": [
    "import numpy as np\n",
    "v1 = np.array([1,2,3,1])\n",
    "v2 = np.array([4,5,6,1])\n",
    "v3 = np.array([7,8,10,1])\n",
    "A = np.array([v1, v2, v3]).T\n",
    "print(np.linalg.matrix_rank(A))"
   ]
  }
 ],
 "metadata": {
  "kernelspec": {
   "display_name": "Python 3",
   "language": "python",
   "name": "python3"
  },
  "language_info": {
   "codemirror_mode": {
    "name": "ipython",
    "version": 3
   },
   "file_extension": ".py",
   "mimetype": "text/x-python",
   "name": "python",
   "nbconvert_exporter": "python",
   "pygments_lexer": "ipython3",
   "version": "3.10.8"
  },
  "orig_nbformat": 4,
  "vscode": {
   "interpreter": {
    "hash": "321ab55950f37df101268a46266f5dff6fbc802a7a8ebb790c29b4e197aadd34"
   }
  }
 },
 "nbformat": 4,
 "nbformat_minor": 2
}
