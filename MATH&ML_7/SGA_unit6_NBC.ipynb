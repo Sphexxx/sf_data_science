{
  "cells": [
    {
      "cell_type": "code",
      "execution_count": 1,
      "id": "a4925538",
      "metadata": {},
      "outputs": [],
      "source": [
        "import pandas as pd\n",
        "import numpy as np\n",
        "\n",
        "from sklearn import metrics\n",
        "from sklearn.model_selection import train_test_split, GridSearchCV\n",
        "from sklearn.naive_bayes import ComplementNB\n",
        "\n",
        "import matplotlib.pyplot as plt"
      ]
    },
    {
      "cell_type": "markdown",
      "id": "00009cca",
      "metadata": {
        "id": "00009cca"
      },
      "source": [
        "# Классификация текстов с использованием Наивного Байесовского Классификатора"
      ]
    },
    {
      "cell_type": "markdown",
      "id": "a52414b8",
      "metadata": {
        "id": "a52414b8"
      },
      "source": [
        "## Задание 1 (1 балл)"
      ]
    },
    {
      "cell_type": "markdown",
      "id": "f5f27b43",
      "metadata": {
        "id": "f5f27b43"
      },
      "source": [
        "Откройте данные. Узнайте, сколько в них спам- и не спам-писем. Визуализируйте полученные соотношение подходящим образом."
      ]
    },
    {
      "cell_type": "code",
      "execution_count": 2,
      "id": "ac369274",
      "metadata": {
        "id": "ac369274"
      },
      "outputs": [
        {
          "data": {
            "text/html": [
              "<div>\n",
              "<style scoped>\n",
              "    .dataframe tbody tr th:only-of-type {\n",
              "        vertical-align: middle;\n",
              "    }\n",
              "\n",
              "    .dataframe tbody tr th {\n",
              "        vertical-align: top;\n",
              "    }\n",
              "\n",
              "    .dataframe thead th {\n",
              "        text-align: right;\n",
              "    }\n",
              "</style>\n",
              "<table border=\"1\" class=\"dataframe\">\n",
              "  <thead>\n",
              "    <tr style=\"text-align: right;\">\n",
              "      <th></th>\n",
              "      <th>email</th>\n",
              "      <th>label</th>\n",
              "    </tr>\n",
              "  </thead>\n",
              "  <tbody>\n",
              "    <tr>\n",
              "      <th>0</th>\n",
              "      <td>date wed NUMBER aug NUMBER NUMBER NUMBER NUMB...</td>\n",
              "      <td>0</td>\n",
              "    </tr>\n",
              "    <tr>\n",
              "      <th>1</th>\n",
              "      <td>martin a posted tassos papadopoulos the greek ...</td>\n",
              "      <td>0</td>\n",
              "    </tr>\n",
              "    <tr>\n",
              "      <th>2</th>\n",
              "      <td>man threatens explosion in moscow thursday aug...</td>\n",
              "      <td>0</td>\n",
              "    </tr>\n",
              "    <tr>\n",
              "      <th>3</th>\n",
              "      <td>klez the virus that won t die already the most...</td>\n",
              "      <td>0</td>\n",
              "    </tr>\n",
              "    <tr>\n",
              "      <th>4</th>\n",
              "      <td>in adding cream to spaghetti carbonara which ...</td>\n",
              "      <td>0</td>\n",
              "    </tr>\n",
              "  </tbody>\n",
              "</table>\n",
              "</div>"
            ],
            "text/plain": [
              "                                               email  label\n",
              "0   date wed NUMBER aug NUMBER NUMBER NUMBER NUMB...      0\n",
              "1  martin a posted tassos papadopoulos the greek ...      0\n",
              "2  man threatens explosion in moscow thursday aug...      0\n",
              "3  klez the virus that won t die already the most...      0\n",
              "4   in adding cream to spaghetti carbonara which ...      0"
            ]
          },
          "execution_count": 2,
          "metadata": {},
          "output_type": "execute_result"
        }
      ],
      "source": [
        "# откройте данные: ваш код здесь\n",
        "email_data = pd.read_csv('data/spam_or_not_spam.csv')\n",
        "email_data.head()"
      ]
    },
    {
      "cell_type": "code",
      "execution_count": 3,
      "id": "f4231781",
      "metadata": {
        "id": "f4231781"
      },
      "outputs": [
        {
          "data": {
            "text/plain": [
              "0    2500\n",
              "1     500\n",
              "Name: label, dtype: int64"
            ]
          },
          "execution_count": 3,
          "metadata": {},
          "output_type": "execute_result"
        }
      ],
      "source": [
        "# рассчитайте частоты для классов : ваш код здесь\n",
        "email_data['label'].value_counts()"
      ]
    },
    {
      "cell_type": "code",
      "execution_count": 7,
      "id": "9b871636",
      "metadata": {
        "id": "9b871636"
      },
      "outputs": [
        {
          "data": {
            "image/png": "[encoded data removed]",
            "text/plain": [
              "<Figure size 500x500 with 1 Axes>"
            ]
          },
          "metadata": {},
          "output_type": "display_data"
        }
      ],
      "source": [
        "# визуализируйте результат: ваш код здесь\n",
        "fig1 = plt.figure(figsize=(5, 5))\n",
        "axes = fig1.add_axes([0, 0, 1 ,1])\n",
        "axes.pie(\n",
        "    email_data['label'].value_counts(),\n",
        "    wedgeprops= dict(width = 0.6),\n",
        "    colors= ('green', 'blue'),\n",
        "    explode= (0, 0.1),\n",
        "    labels=['Не спам', 'Спам'],\n",
        "    textprops={'fontsize': 14},\n",
        "    autopct='%.1f%%'\n",
        ");"
      ]
    },
    {
      "cell_type": "markdown",
      "id": "b161614b",
      "metadata": {
        "id": "b161614b"
      },
      "source": [
        "## Задание 2 (2 балла)"
      ]
    },
    {
      "cell_type": "markdown",
      "id": "dd29763b",
      "metadata": {
        "id": "dd29763b"
      },
      "source": [
        "Вам необходимо предобработать ваши данные и перевести их в векторный вид. Подгрузим необходимый модуль:"
      ]
    },
    {
      "cell_type": "code",
      "execution_count": 8,
      "id": "382eac9c",
      "metadata": {
        "id": "382eac9c"
      },
      "outputs": [],
      "source": [
        "from sklearn.feature_extraction.text import CountVectorizer"
      ]
    },
    {
      "cell_type": "markdown",
      "id": "89546b95",
      "metadata": {
        "id": "89546b95"
      },
      "source": [
        "Замените в данных все пустые строки и строки, состоящие из пробелов, на пропуски (NaN). После этого удалите из данных все строки, в которых наблюдаются пропущенные значения."
      ]
    },
    {
      "cell_type": "code",
      "execution_count": 9,
      "id": "45180f82",
      "metadata": {
        "id": "45180f82"
      },
      "outputs": [],
      "source": [
        "#ваш код здесь\n",
        "email_data = email_data.replace(r\"^\\s*$\", np.NaN, regex=True).dropna()"
      ]
    },
    {
      "cell_type": "markdown",
      "id": "2ca2fe88",
      "metadata": {
        "id": "2ca2fe88"
      },
      "source": [
        "Переводим данные в векторный вид:"
      ]
    },
    {
      "cell_type": "code",
      "execution_count": 10,
      "id": "29e9a37b",
      "metadata": {
        "id": "29e9a37b"
      },
      "outputs": [],
      "source": [
        "vectorizer = CountVectorizer()\n",
        "X = vectorizer.fit_transform(email_data[\"email\"])"
      ]
    },
    {
      "cell_type": "markdown",
      "id": "88c8b726",
      "metadata": {
        "id": "88c8b726"
      },
      "source": [
        "Определите, сколько теперь признаков в нашем наборе данных:"
      ]
    },
    {
      "cell_type": "code",
      "execution_count": 11,
      "id": "f19c2a02",
      "metadata": {
        "id": "f19c2a02"
      },
      "outputs": [
        {
          "name": "stdout",
          "output_type": "stream",
          "text": [
            "В наборе данных 34116 признаков.\n"
          ]
        }
      ],
      "source": [
        "#ваш код здесь\n",
        "print(f'В наборе данных {X.shape[1]} признаков.')"
      ]
    },
    {
      "cell_type": "markdown",
      "id": "1803f282",
      "metadata": {
        "id": "1803f282"
      },
      "source": [
        "## Задание 3 (2 балла)"
      ]
    },
    {
      "cell_type": "markdown",
      "id": "39f400b7",
      "metadata": {
        "id": "39f400b7"
      },
      "source": [
        "Определите целевую переменную и признаки:"
      ]
    },
    {
      "cell_type": "code",
      "execution_count": 12,
      "id": "31f1acb6",
      "metadata": {
        "id": "31f1acb6"
      },
      "outputs": [],
      "source": [
        "#ваш код здесь\n",
        "y = email_data['label']"
      ]
    },
    {
      "cell_type": "markdown",
      "id": "b20f273e",
      "metadata": {
        "id": "b20f273e"
      },
      "source": [
        "Разделите выборку на обучающую и тестовую, размер тестовой выборки возьмите как 0.25, параметр random_state определите со значением 42:"
      ]
    },
    {
      "cell_type": "code",
      "execution_count": 13,
      "id": "96538fb6",
      "metadata": {
        "id": "96538fb6"
      },
      "outputs": [],
      "source": [
        "#ваш код здесь\n",
        "X_train, X_test, y_train, y_test = train_test_split(X, y, test_size=0.25, random_state=42)"
      ]
    },
    {
      "cell_type": "markdown",
      "id": "139dac3d",
      "metadata": {
        "id": "139dac3d"
      },
      "source": [
        "Рассчитайте среднее значение целевой переменной по тестовой выборке:"
      ]
    },
    {
      "cell_type": "code",
      "execution_count": 14,
      "id": "e9baf72d",
      "metadata": {
        "id": "e9baf72d"
      },
      "outputs": [
        {
          "name": "stdout",
          "output_type": "stream",
          "text": [
            "Среднее значение целевой переменной на тестовой выборке: 0.177\n"
          ]
        }
      ],
      "source": [
        "#ваш код здесь\n",
        "print(f'Среднее значение целевой переменной на тестовой выборке: {round(y_test.mean(), 3)}')"
      ]
    },
    {
      "cell_type": "markdown",
      "id": "710e0e94",
      "metadata": {
        "id": "710e0e94"
      },
      "source": [
        "## Задание 4 (3 балла)"
      ]
    },
    {
      "cell_type": "markdown",
      "id": "26cf6885",
      "metadata": {
        "id": "26cf6885"
      },
      "source": [
        "Определите и обучите подходящий алгоритм с параметром alpha = 0.01"
      ]
    },
    {
      "cell_type": "code",
      "execution_count": 15,
      "id": "4865dd78",
      "metadata": {
        "id": "4865dd78"
      },
      "outputs": [
        {
          "data": {
            "text/html": [
              "<style>#sk-container-id-1 {color: black;background-color: white;}#sk-container-id-1 pre{padding: 0;}#sk-container-id-1 div.sk-toggleable {background-color: white;}#sk-container-id-1 label.sk-toggleable__label {cursor: pointer;display: block;width: 100%;margin-bottom: 0;padding: 0.3em;box-sizing: border-box;text-align: center;}#sk-container-id-1 label.sk-toggleable__label-arrow:before {content: \"▸\";float: left;margin-right: 0.25em;color: #696969;}#sk-container-id-1 label.sk-toggleable__label-arrow:hover:before {color: black;}#sk-container-id-1 div.sk-estimator:hover label.sk-toggleable__label-arrow:before {color: black;}#sk-container-id-1 div.sk-toggleable__content {max-height: 0;max-width: 0;overflow: hidden;text-align: left;background-color: #f0f8ff;}#sk-container-id-1 div.sk-toggleable__content pre {margin: 0.2em;color: black;border-radius: 0.25em;background-color: #f0f8ff;}#sk-container-id-1 input.sk-toggleable__control:checked~div.sk-toggleable__content {max-height: 200px;max-width: 100%;overflow: auto;}#sk-container-id-1 input.sk-toggleable__control:checked~label.sk-toggleable__label-arrow:before {content: \"▾\";}#sk-container-id-1 div.sk-estimator input.sk-toggleable__control:checked~label.sk-toggleable__label {background-color: #d4ebff;}#sk-container-id-1 div.sk-label input.sk-toggleable__control:checked~label.sk-toggleable__label {background-color: #d4ebff;}#sk-container-id-1 input.sk-hidden--visually {border: 0;clip: rect(1px 1px 1px 1px);clip: rect(1px, 1px, 1px, 1px);height: 1px;margin: -1px;overflow: hidden;padding: 0;position: absolute;width: 1px;}#sk-container-id-1 div.sk-estimator {font-family: monospace;background-color: #f0f8ff;border: 1px dotted black;border-radius: 0.25em;box-sizing: border-box;margin-bottom: 0.5em;}#sk-container-id-1 div.sk-estimator:hover {background-color: #d4ebff;}#sk-container-id-1 div.sk-parallel-item::after {content: \"\";width: 100%;border-bottom: 1px solid gray;flex-grow: 1;}#sk-container-id-1 div.sk-label:hover label.sk-toggleable__label {background-color: #d4ebff;}#sk-container-id-1 div.sk-serial::before {content: \"\";position: absolute;border-left: 1px solid gray;box-sizing: border-box;top: 0;bottom: 0;left: 50%;z-index: 0;}#sk-container-id-1 div.sk-serial {display: flex;flex-direction: column;align-items: center;background-color: white;padding-right: 0.2em;padding-left: 0.2em;position: relative;}#sk-container-id-1 div.sk-item {position: relative;z-index: 1;}#sk-container-id-1 div.sk-parallel {display: flex;align-items: stretch;justify-content: center;background-color: white;position: relative;}#sk-container-id-1 div.sk-item::before, #sk-container-id-1 div.sk-parallel-item::before {content: \"\";position: absolute;border-left: 1px solid gray;box-sizing: border-box;top: 0;bottom: 0;left: 50%;z-index: -1;}#sk-container-id-1 div.sk-parallel-item {display: flex;flex-direction: column;z-index: 1;position: relative;background-color: white;}#sk-container-id-1 div.sk-parallel-item:first-child::after {align-self: flex-end;width: 50%;}#sk-container-id-1 div.sk-parallel-item:last-child::after {align-self: flex-start;width: 50%;}#sk-container-id-1 div.sk-parallel-item:only-child::after {width: 0;}#sk-container-id-1 div.sk-dashed-wrapped {border: 1px dashed gray;margin: 0 0.4em 0.5em 0.4em;box-sizing: border-box;padding-bottom: 0.4em;background-color: white;}#sk-container-id-1 div.sk-label label {font-family: monospace;font-weight: bold;display: inline-block;line-height: 1.2em;}#sk-container-id-1 div.sk-label-container {text-align: center;}#sk-container-id-1 div.sk-container {/* jupyter's `normalize.less` sets `[hidden] { display: none; }` but bootstrap.min.css set `[hidden] { display: none !important; }` so we also need the `!important` here to be able to override the default hidden behavior on the sphinx rendered scikit-learn.org. See: https://github.com/scikit-learn/scikit-learn/issues/21755 */display: inline-block !important;position: relative;}#sk-container-id-1 div.sk-text-repr-fallback {display: none;}</style><div id=\"sk-container-id-1\" class=\"sk-top-container\"><div class=\"sk-text-repr-fallback\"><pre>ComplementNB(alpha=0.01)</pre><b>In a Jupyter environment, please rerun this cell to show the HTML representation or trust the notebook. <br />On GitHub, the HTML representation is unable to render, please try loading this page with nbviewer.org.</b></div><div class=\"sk-container\" hidden><div class=\"sk-item\"><div class=\"sk-estimator sk-toggleable\"><input class=\"sk-toggleable__control sk-hidden--visually\" id=\"sk-estimator-id-1\" type=\"checkbox\" checked><label for=\"sk-estimator-id-1\" class=\"sk-toggleable__label sk-toggleable__label-arrow\">ComplementNB</label><div class=\"sk-toggleable__content\"><pre>ComplementNB(alpha=0.01)</pre></div></div></div></div></div>"
            ],
            "text/plain": [
              "ComplementNB(alpha=0.01)"
            ]
          },
          "execution_count": 15,
          "metadata": {},
          "output_type": "execute_result"
        }
      ],
      "source": [
        "#ваш код здесь\n",
        "compNB = ComplementNB(alpha=0.01)\n",
        "compNB.fit(X_train, y_train)"
      ]
    },
    {
      "cell_type": "markdown",
      "id": "d803fbe3",
      "metadata": {
        "id": "d803fbe3"
      },
      "source": [
        "Оцените результат с точки зрения всех известных вам метрик (не менее трёх):"
      ]
    },
    {
      "cell_type": "code",
      "execution_count": 16,
      "id": "b0bbc4d2",
      "metadata": {
        "id": "b0bbc4d2"
      },
      "outputs": [
        {
          "name": "stdout",
          "output_type": "stream",
          "text": [
            "Accuracy: 0.991\n",
            "Precision: 0.977\n",
            "Recall: 0.970\n",
            "F1 score: 0.974\n"
          ]
        }
      ],
      "source": [
        "#ваш код здесь\n",
        "y_pred = compNB.predict(X_test)\n",
        "\n",
        "#Рассчитываем accuracy\n",
        "print('Accuracy: {:.3f}'.format(metrics.accuracy_score(y_test, y_pred)))\n",
        "#Рассчитываем precision\n",
        "print('Precision: {:.3f}'.format(metrics.precision_score(y_test, y_pred)))\n",
        "#Рассчитываем recall\n",
        "print('Recall: {:.3f}'.format(metrics.recall_score(y_test, y_pred)))\n",
        "#Рассчитываем F1-меру\n",
        "print('F1 score: {:.3f}'.format(metrics.f1_score(y_test, y_pred)))"
      ]
    },
    {
      "cell_type": "markdown",
      "id": "c85976d1",
      "metadata": {
        "id": "c85976d1"
      },
      "source": [
        "Нарисуйте ROC-кривую:"
      ]
    },
    {
      "cell_type": "code",
      "execution_count": 17,
      "id": "b4195126",
      "metadata": {
        "id": "b4195126"
      },
      "outputs": [
        {
          "data": {
            "image/png": "[encoded data removed]",
            "text/plain": [
              "<Figure size 1000x500 with 1 Axes>"
            ]
          },
          "metadata": {},
          "output_type": "display_data"
        }
      ],
      "source": [
        "#ваш код здесь\n",
        "y_pred_proba = compNB.predict_proba (X_test)[::,1]\n",
        "fpr, tpr, _ = metrics. roc_curve (y_test, y_pred_proba)\n",
        "auc = metrics.roc_auc_score (y_test, y_pred_proba)\n",
        "\n",
        "fig2 = plt.figure(figsize=(10, 5))\n",
        "plt.plot (fpr,tpr,label=\" AUC= \"+str(auc))\n",
        "plt.ylabel('True Positive Rate')\n",
        "plt.xlabel('False Positive Rate')\n",
        "plt.legend(loc=4)\n",
        "plt.show()"
      ]
    },
    {
      "cell_type": "markdown",
      "id": "cf0bb49b",
      "metadata": {
        "id": "cf0bb49b"
      },
      "source": [
        "## Задание 5 (3 балла)"
      ]
    },
    {
      "cell_type": "markdown",
      "id": "30b7a0ae",
      "metadata": {
        "id": "30b7a0ae"
      },
      "source": [
        "Переберите несколько значений alpha с помощью кросс-валидации. Оцените, зависит ли от этого параметра качество классификации."
      ]
    },
    {
      "cell_type": "code",
      "execution_count": 19,
      "id": "3513d907",
      "metadata": {
        "id": "3513d907"
      },
      "outputs": [
        {
          "name": "stdout",
          "output_type": "stream",
          "text": [
            "CPU times: total: 0 ns\n",
            "Wall time: 0 ns\n",
            "Наилучшие значения гиперпараметров: {'alpha': 0.1}\n"
          ]
        }
      ],
      "source": [
        "#ваш код здесь\n",
        "param_grid = {'alpha': [1, 0.5, 0.1, 0.01, 0.001, 0.0001]}\n",
        "\n",
        "grid_search = GridSearchCV(\n",
        "    estimator=compNB,\n",
        "    param_grid=param_grid,\n",
        "    cv=5,\n",
        "    scoring='accuracy',\n",
        "    n_jobs = -1\n",
        ")\n",
        "\n",
        "%time\n",
        "grid_search.fit(X_train, y_train)\n",
        "y_test_pred = grid_search.predict(X_test)\n",
        "print(\"Наилучшие значения гиперпараметров: {}\".format(grid_search.best_params_))"
      ]
    }
  ],
  "metadata": {
    "colab": {
      "name": "SGA_unit6_NBC.ipynb",
      "provenance": []
    },
    "kernelspec": {
      "display_name": "Python 3",
      "language": "python",
      "name": "python3"
    },
    "language_info": {
      "codemirror_mode": {
        "name": "ipython",
        "version": 3
      },
      "file_extension": ".py",
      "mimetype": "text/x-python",
      "name": "python",
      "nbconvert_exporter": "python",
      "pygments_lexer": "ipython3",
      "version": "3.10.8"
    },
    "vscode": {
      "interpreter": {
        "hash": "321ab55950f37df101268a46266f5dff6fbc802a7a8ebb790c29b4e197aadd34"
      }
    }
  },
  "nbformat": 4,
  "nbformat_minor": 5
}
