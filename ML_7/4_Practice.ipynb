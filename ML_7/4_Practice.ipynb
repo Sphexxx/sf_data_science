{
  "cells": [
    {
      "cell_type": "markdown",
      "metadata": {
        "id": "1zTpqv-tvlZ5"
      },
      "source": [
        "## Необходимо предсказать биологический ответ молекул (столбец 'Activity') по их химическому составу (столбцы D1-D1776)."
      ]
    },
    {
      "cell_type": "code",
      "execution_count": 1,
      "metadata": {
        "colab": {
          "base_uri": "https://localhost:8080/"
        },
        "id": "wGrxZiwkvlZ9",
        "outputId": "70b48886-d45b-48b8-db01-1343443ab559"
      },
      "outputs": [],
      "source": [
        "#импорт библиотек\n",
        "import numpy as np #для матричных вычислений\n",
        "import pandas as pd #для анализа и предобработки данных\n",
        "import matplotlib.pyplot as plt #для визуализации\n",
        "import seaborn as sns #для визуализации\n",
        "\n",
        "from sklearn import linear_model #линейные модели\n",
        "from sklearn import tree #деревья решений\n",
        "from sklearn import ensemble #ансамбли\n",
        "from sklearn import metrics #метрики\n",
        "from sklearn import preprocessing #предобработка\n",
        "from sklearn.model_selection import train_test_split #сплитование выборки\n",
        "from sklearn.model_selection import cross_val_score #Кросс валидация\n",
        "\n",
        "# Импорт оптимизаторов параметров\n",
        "from sklearn.model_selection import GridSearchCV\n",
        "from sklearn.model_selection import RandomizedSearchCV\n",
        "\n",
        "import hyperopt\n",
        "from hyperopt import hp, fmin, tpe, Trials\n",
        "\n",
        "import optuna\n",
        "\n",
        "%matplotlib inline\n",
        "plt.style.use('seaborn')"
      ]
    },
    {
      "cell_type": "code",
      "execution_count": 2,
      "metadata": {
        "colab": {
          "base_uri": "https://localhost:8080/",
          "height": 236
        },
        "id": "llBfqp5cvlZ_",
        "outputId": "1505531b-f376-47f7-877b-d58e148c94b0"
      },
      "outputs": [
        {
          "data": {
            "text/html": [
              "<div>\n",
              "<style scoped>\n",
              "    .dataframe tbody tr th:only-of-type {\n",
              "        vertical-align: middle;\n",
              "    }\n",
              "\n",
              "    .dataframe tbody tr th {\n",
              "        vertical-align: top;\n",
              "    }\n",
              "\n",
              "    .dataframe thead th {\n",
              "        text-align: right;\n",
              "    }\n",
              "</style>\n",
              "<table border=\"1\" class=\"dataframe\">\n",
              "  <thead>\n",
              "    <tr style=\"text-align: right;\">\n",
              "      <th></th>\n",
              "      <th>Activity</th>\n",
              "      <th>D1</th>\n",
              "      <th>D2</th>\n",
              "      <th>D3</th>\n",
              "      <th>D4</th>\n",
              "      <th>D5</th>\n",
              "      <th>D6</th>\n",
              "      <th>D7</th>\n",
              "      <th>D8</th>\n",
              "      <th>D9</th>\n",
              "      <th>...</th>\n",
              "      <th>D1767</th>\n",
              "      <th>D1768</th>\n",
              "      <th>D1769</th>\n",
              "      <th>D1770</th>\n",
              "      <th>D1771</th>\n",
              "      <th>D1772</th>\n",
              "      <th>D1773</th>\n",
              "      <th>D1774</th>\n",
              "      <th>D1775</th>\n",
              "      <th>D1776</th>\n",
              "    </tr>\n",
              "  </thead>\n",
              "  <tbody>\n",
              "    <tr>\n",
              "      <th>0</th>\n",
              "      <td>1</td>\n",
              "      <td>0.000000</td>\n",
              "      <td>0.497009</td>\n",
              "      <td>0.10</td>\n",
              "      <td>0.0</td>\n",
              "      <td>0.132956</td>\n",
              "      <td>0.678031</td>\n",
              "      <td>0.273166</td>\n",
              "      <td>0.585445</td>\n",
              "      <td>0.743663</td>\n",
              "      <td>...</td>\n",
              "      <td>0</td>\n",
              "      <td>0</td>\n",
              "      <td>0</td>\n",
              "      <td>0</td>\n",
              "      <td>0</td>\n",
              "      <td>0</td>\n",
              "      <td>0</td>\n",
              "      <td>0</td>\n",
              "      <td>0</td>\n",
              "      <td>0</td>\n",
              "    </tr>\n",
              "    <tr>\n",
              "      <th>1</th>\n",
              "      <td>1</td>\n",
              "      <td>0.366667</td>\n",
              "      <td>0.606291</td>\n",
              "      <td>0.05</td>\n",
              "      <td>0.0</td>\n",
              "      <td>0.111209</td>\n",
              "      <td>0.803455</td>\n",
              "      <td>0.106105</td>\n",
              "      <td>0.411754</td>\n",
              "      <td>0.836582</td>\n",
              "      <td>...</td>\n",
              "      <td>1</td>\n",
              "      <td>1</td>\n",
              "      <td>1</td>\n",
              "      <td>1</td>\n",
              "      <td>0</td>\n",
              "      <td>1</td>\n",
              "      <td>0</td>\n",
              "      <td>0</td>\n",
              "      <td>1</td>\n",
              "      <td>0</td>\n",
              "    </tr>\n",
              "    <tr>\n",
              "      <th>2</th>\n",
              "      <td>1</td>\n",
              "      <td>0.033300</td>\n",
              "      <td>0.480124</td>\n",
              "      <td>0.00</td>\n",
              "      <td>0.0</td>\n",
              "      <td>0.209791</td>\n",
              "      <td>0.610350</td>\n",
              "      <td>0.356453</td>\n",
              "      <td>0.517720</td>\n",
              "      <td>0.679051</td>\n",
              "      <td>...</td>\n",
              "      <td>0</td>\n",
              "      <td>0</td>\n",
              "      <td>0</td>\n",
              "      <td>0</td>\n",
              "      <td>0</td>\n",
              "      <td>0</td>\n",
              "      <td>0</td>\n",
              "      <td>0</td>\n",
              "      <td>0</td>\n",
              "      <td>0</td>\n",
              "    </tr>\n",
              "    <tr>\n",
              "      <th>3</th>\n",
              "      <td>1</td>\n",
              "      <td>0.000000</td>\n",
              "      <td>0.538825</td>\n",
              "      <td>0.00</td>\n",
              "      <td>0.5</td>\n",
              "      <td>0.196344</td>\n",
              "      <td>0.724230</td>\n",
              "      <td>0.235606</td>\n",
              "      <td>0.288764</td>\n",
              "      <td>0.805110</td>\n",
              "      <td>...</td>\n",
              "      <td>0</td>\n",
              "      <td>0</td>\n",
              "      <td>0</td>\n",
              "      <td>0</td>\n",
              "      <td>0</td>\n",
              "      <td>0</td>\n",
              "      <td>0</td>\n",
              "      <td>0</td>\n",
              "      <td>0</td>\n",
              "      <td>0</td>\n",
              "    </tr>\n",
              "    <tr>\n",
              "      <th>4</th>\n",
              "      <td>0</td>\n",
              "      <td>0.100000</td>\n",
              "      <td>0.517794</td>\n",
              "      <td>0.00</td>\n",
              "      <td>0.0</td>\n",
              "      <td>0.494734</td>\n",
              "      <td>0.781422</td>\n",
              "      <td>0.154361</td>\n",
              "      <td>0.303809</td>\n",
              "      <td>0.812646</td>\n",
              "      <td>...</td>\n",
              "      <td>0</td>\n",
              "      <td>0</td>\n",
              "      <td>0</td>\n",
              "      <td>0</td>\n",
              "      <td>0</td>\n",
              "      <td>0</td>\n",
              "      <td>0</td>\n",
              "      <td>0</td>\n",
              "      <td>0</td>\n",
              "      <td>0</td>\n",
              "    </tr>\n",
              "  </tbody>\n",
              "</table>\n",
              "<p>5 rows × 1777 columns</p>\n",
              "</div>"
            ],
            "text/plain": [
              "   Activity        D1        D2    D3   D4        D5        D6        D7  \\\n",
              "0         1  0.000000  0.497009  0.10  0.0  0.132956  0.678031  0.273166   \n",
              "1         1  0.366667  0.606291  0.05  0.0  0.111209  0.803455  0.106105   \n",
              "2         1  0.033300  0.480124  0.00  0.0  0.209791  0.610350  0.356453   \n",
              "3         1  0.000000  0.538825  0.00  0.5  0.196344  0.724230  0.235606   \n",
              "4         0  0.100000  0.517794  0.00  0.0  0.494734  0.781422  0.154361   \n",
              "\n",
              "         D8        D9  ...  D1767  D1768  D1769  D1770  D1771  D1772  D1773  \\\n",
              "0  0.585445  0.743663  ...      0      0      0      0      0      0      0   \n",
              "1  0.411754  0.836582  ...      1      1      1      1      0      1      0   \n",
              "2  0.517720  0.679051  ...      0      0      0      0      0      0      0   \n",
              "3  0.288764  0.805110  ...      0      0      0      0      0      0      0   \n",
              "4  0.303809  0.812646  ...      0      0      0      0      0      0      0   \n",
              "\n",
              "   D1774  D1775  D1776  \n",
              "0      0      0      0  \n",
              "1      0      1      0  \n",
              "2      0      0      0  \n",
              "3      0      0      0  \n",
              "4      0      0      0  \n",
              "\n",
              "[5 rows x 1777 columns]"
            ]
          },
          "execution_count": 2,
          "metadata": {},
          "output_type": "execute_result"
        }
      ],
      "source": [
        "data = pd.read_csv('data/train_sem09.zip')\n",
        "data.head()"
      ]
    },
    {
      "cell_type": "markdown",
      "metadata": {
        "id": "Xwz4uUDTvlaB"
      },
      "source": [
        "+ Первый столбец *Activity* содержит экспериментальные данные, описывающие фактический биологический ответ [0, 1]; \n",
        "+ Остальные столбцы D1-D1776 представляют собой молекулярные **дескрипторы** — это вычисляемые свойства, которые могут фиксировать некоторые характеристики молекулы, например размер, форму или состав элементов.\n"
      ]
    },
    {
      "cell_type": "markdown",
      "metadata": {
        "id": "pR0R-0iQvlaC"
      },
      "source": [
        "## Предварительная обработка не требуется, данные уже закодированы и нормализованы.\n",
        "\n",
        "В качестве метрики будем использовать **F1-score**.\n",
        "\n",
        "Необходимо обучить две модели: **логистическую регрессию и случайный лес**. Далее нужно сделать подбор гиперпараметров с помощью базовых и продвинутых методов оптимизации. Важно использовать **все четыре метода** (*GridSeachCV, RandomizedSearchCV, Hyperopt, Optuna*) хотя бы по разу, максимальное количество итераций не должно превышать 50."
      ]
    },
    {
      "cell_type": "code",
      "execution_count": 3,
      "metadata": {
        "id": "C7N0hj4uvlaC"
      },
      "outputs": [],
      "source": [
        "X = data.drop(['Activity'], axis = 1)\n",
        "y = data['Activity']"
      ]
    },
    {
      "cell_type": "code",
      "execution_count": 4,
      "metadata": {
        "colab": {
          "base_uri": "https://localhost:8080/"
        },
        "id": "1kT5uS9TvlaD",
        "outputId": "692b492e-3913-4b92-9e15-b6c20d1b8369"
      },
      "outputs": [
        {
          "name": "stdout",
          "output_type": "stream",
          "text": [
            "Размер data (3751, 1777)\n",
            "Размер X (3751, 1776)\n",
            "Размер y (3751,)\n"
          ]
        }
      ],
      "source": [
        "#Проверим по размерам выборок что разделение прошло успешно\n",
        "\n",
        "print('Размер data', data.shape)\n",
        "print('Размер X', X.shape)\n",
        "print('Размер y', y.shape)"
      ]
    },
    {
      "cell_type": "code",
      "execution_count": 5,
      "metadata": {
        "colab": {
          "base_uri": "https://localhost:8080/"
        },
        "id": "xqk5UAiwvlaD",
        "outputId": "d860ba65-f0ae-47cb-8044-f4fc81dbeedb"
      },
      "outputs": [
        {
          "data": {
            "text/plain": [
              "1    0.542255\n",
              "0    0.457745\n",
              "Name: Activity, dtype: float64"
            ]
          },
          "execution_count": 5,
          "metadata": {},
          "output_type": "execute_result"
        }
      ],
      "source": [
        "#Проверим, насколько равномерно разделены целевые данные\n",
        "y.value_counts(normalize=True)"
      ]
    },
    {
      "cell_type": "markdown",
      "metadata": {
        "id": "CD6h-U-gvlaE"
      },
      "source": [
        "Данные разделены примерно одинаково, поэтому делать стратификацию не обязательно"
      ]
    },
    {
      "cell_type": "code",
      "execution_count": 6,
      "metadata": {
        "id": "tRPSRu1uvlaF"
      },
      "outputs": [],
      "source": [
        "#Разделим данные на тренировочные и тестовые\n",
        "\n",
        "X_train, X_test, y_train, y_test = train_test_split(X, y, test_size = 0.2, random_state= 42)"
      ]
    },
    {
      "cell_type": "markdown",
      "metadata": {
        "id": "95SmNCgSvlaF"
      },
      "source": [
        "## **Создание BaseLine моделей**\n",
        "\n",
        "Рассчитаем F1-score, на параметрах по умолчанию, для моделей логистической регрессии и случайном леса"
      ]
    },
    {
      "cell_type": "code",
      "execution_count": 7,
      "metadata": {
        "colab": {
          "base_uri": "https://localhost:8080/"
        },
        "id": "O-XtC3oHvlaG",
        "outputId": "9a28b76f-60c4-44aa-aceb-c6625ced3d51"
      },
      "outputs": [
        {
          "name": "stderr",
          "output_type": "stream",
          "text": [
            "/usr/local/lib/python3.7/dist-packages/sklearn/linear_model/_logistic.py:818: ConvergenceWarning: lbfgs failed to converge (status=1):\n",
            "STOP: TOTAL NO. of ITERATIONS REACHED LIMIT.\n",
            "\n",
            "Increase the number of iterations (max_iter) or scale the data as shown in:\n",
            "    https://scikit-learn.org/stable/modules/preprocessing.html\n",
            "Please also refer to the documentation for alternative solver options:\n",
            "    https://scikit-learn.org/stable/modules/linear_model.html#logistic-regression\n",
            "  extra_warning_msg=_LOGISTIC_SOLVER_CONVERGENCE_MSG,\n"
          ]
        }
      ],
      "source": [
        "#Baseline для логистической регрессии\n",
        "logReg_base = linear_model.LogisticRegression(random_state=42, max_iter= 50)\n",
        "\n",
        "logReg_base.fit(X_train, y_train)\n",
        "\n",
        "y_pred_logReg_base = logReg_base.predict(X_test)\n",
        "\n",
        "f1_logReg_base = metrics.f1_score(y_test, y_pred_logReg_base)\n"
      ]
    },
    {
      "cell_type": "code",
      "execution_count": 8,
      "metadata": {
        "colab": {
          "base_uri": "https://localhost:8080/"
        },
        "id": "Sa8vygUIvlaG",
        "outputId": "3f234eba-697a-4ded-8288-f07581ecd3d7"
      },
      "outputs": [
        {
          "name": "stdout",
          "output_type": "stream",
          "text": [
            "F1-score на Baseline для логистической регресии равен 0.79\n"
          ]
        }
      ],
      "source": [
        "print('F1-score на Baseline для логистической регресии равен {:.2f}'.format(f1_logReg_base))"
      ]
    },
    {
      "cell_type": "code",
      "execution_count": 9,
      "metadata": {
        "id": "eN7fWKirvlaH"
      },
      "outputs": [],
      "source": [
        "#Baseline для случайного леса\n",
        "\n",
        "rf_base = ensemble.RandomForestClassifier(random_state= 42)\n",
        "\n",
        "rf_base.fit(X_train, y_train)\n",
        "\n",
        "y_pred_rf_base = rf_base.predict(X_test)\n",
        "\n",
        "f1_rf_base = metrics.f1_score(y_test, y_pred_rf_base)"
      ]
    },
    {
      "cell_type": "code",
      "execution_count": 10,
      "metadata": {
        "colab": {
          "base_uri": "https://localhost:8080/"
        },
        "id": "K-fFigyYvlaH",
        "outputId": "cdd98ead-b347-4106-919d-63785ec4da2e"
      },
      "outputs": [
        {
          "name": "stdout",
          "output_type": "stream",
          "text": [
            "F1-score на Baseline для случайного леса равен 0.83\n"
          ]
        }
      ],
      "source": [
        "print('F1-score на Baseline для случайного леса равен {:.2f}'.format(f1_rf_base))"
      ]
    },
    {
      "cell_type": "markdown",
      "metadata": {
        "id": "FDjl3UkkwM2Z"
      },
      "source": [
        "## **Построение модели с помощью GridSearchCV**\n",
        "\n",
        "На основе логистической регресии"
      ]
    },
    {
      "cell_type": "code",
      "execution_count": 11,
      "metadata": {
        "colab": {
          "base_uri": "https://localhost:8080/"
        },
        "id": "4LAbI47ZvlaI",
        "outputId": "def0cd42-b347-4234-ba97-23e4444e01c8"
      },
      "outputs": [
        {
          "name": "stdout",
          "output_type": "stream",
          "text": [
            "CPU times: user 18.5 s, sys: 2.31 s, total: 20.8 s\n",
            "Wall time: 25min 40s\n"
          ]
        }
      ],
      "source": [
        "param_grid = [\n",
        "    {'penalty' : ['l2', 'none'], # тип регуляризации\n",
        "    'solver' : ['newton-cg', 'lbfgs', 'sag'], # алгоритм оптимизации\n",
        "    'C' : [0.01, 0.1, 0.3, 0.5, 0.7, 0.9, 1]}, # уровень силы регурялизации\n",
        "    \n",
        "    #поскольку разные алгоритмы поддерживают разные типы регуляризации мы создадим еще 1 набор параметров\n",
        "    {'penalty': ['l1', 'l2'] ,\n",
        "    'solver': ['liblinear', 'saga'],\n",
        "    'C': [0.01, 0.1, 0.3, 0.5, 0.7, 0.9, 1]}\n",
        "]\n",
        "\n",
        "gs_logReg = GridSearchCV(\n",
        "    estimator = linear_model.LogisticRegression(random_state= 42, max_iter = 50),\n",
        "    param_grid = param_grid,\n",
        "    cv = 5,\n",
        "    n_jobs = -1,\n",
        "    scoring = 'f1'\n",
        ")\n",
        "\n",
        "%time gs_logReg.fit(X_train, y_train)\n",
        "\n",
        "y_pred_gs_logReg = gs_logReg.predict(X_test)\n",
        "\n",
        "f1_gs_logReg = metrics.f1_score(y_test, y_pred_gs_logReg)"
      ]
    },
    {
      "cell_type": "code",
      "execution_count": 12,
      "metadata": {
        "colab": {
          "base_uri": "https://localhost:8080/"
        },
        "id": "DdCKftWA_ZOa",
        "outputId": "0ce51932-87b2-41fe-8a02-af1a2a7a6def"
      },
      "outputs": [
        {
          "name": "stdout",
          "output_type": "stream",
          "text": [
            "Наилучшие значения гиперпараметров: {'C': 0.1, 'penalty': 'l2', 'solver': 'newton-cg'}\n"
          ]
        }
      ],
      "source": [
        "print(\"Наилучшие значения гиперпараметров: {}\".format(gs_logReg.best_params_))"
      ]
    },
    {
      "cell_type": "code",
      "execution_count": 13,
      "metadata": {
        "colab": {
          "base_uri": "https://localhost:8080/",
          "height": 378
        },
        "id": "lC0iulFM_Zxr",
        "outputId": "4961b23e-bc96-4731-ab9a-8064dd71e349"
      },
      "outputs": [
        {
          "data": {
            "image/png": "[encoded data removed]",
            "text/plain": [
              "<Figure size 576x396 with 2 Axes>"
            ]
          },
          "metadata": {},
          "output_type": "display_data"
        }
      ],
      "source": [
        "# посмотрим как менялась точность при различных гиперпараметрах\n",
        "visual = pd.pivot_table(pd.DataFrame(gs_logReg.cv_results_),\n",
        "                        values ='mean_test_score', index ='param_C',\n",
        "                        columns ='param_solver')\n",
        "sns.heatmap(visual)\n",
        "plt.title('Тепловая карта зависимости метрики accuracy от solver и С') # подпись графика\n",
        "sns.set(rc={'figure.figsize':(15, 8)}) #задаем размер графика"
      ]
    },
    {
      "cell_type": "markdown",
      "metadata": {
        "id": "a-Yj-exg_mnu"
      },
      "source": [
        "Из тепловой карты видно, что нет смысла пробовать создать модель с большей силой регуляризации"
      ]
    },
    {
      "cell_type": "code",
      "execution_count": 14,
      "metadata": {
        "colab": {
          "base_uri": "https://localhost:8080/"
        },
        "id": "18AeeChJ_iNd",
        "outputId": "f2d2745c-cf38-4377-9639-79a948bf28fc"
      },
      "outputs": [
        {
          "name": "stdout",
          "output_type": "stream",
          "text": [
            "F1-score на Baseline для логистической регресии равен 0.79\n",
            "F1-score на GridSearchCV для логистической регресии равен 0.79\n"
          ]
        }
      ],
      "source": [
        "#Сравним результат с BaseLine\n",
        "print('F1-score на Baseline для логистической регресии равен {:.2f}'.format(f1_logReg_base))\n",
        "print('F1-score на GridSearchCV для логистической регресии равен {:.2f}'.format(f1_gs_logReg))"
      ]
    },
    {
      "cell_type": "markdown",
      "metadata": {
        "id": "-4aE5Y6K_1wL"
      },
      "source": [
        "*К сожалению метрику улучшить не удалось*"
      ]
    },
    {
      "cell_type": "markdown",
      "metadata": {
        "id": "sTS1nOvO_9ob"
      },
      "source": [
        "На основе Случайного Леса"
      ]
    },
    {
      "cell_type": "code",
      "execution_count": 15,
      "metadata": {
        "colab": {
          "base_uri": "https://localhost:8080/"
        },
        "id": "xuuGYdqJ_qDF",
        "outputId": "8c7e5a2b-5781-446d-cc19-8dce70d8c846"
      },
      "outputs": [
        {
          "name": "stdout",
          "output_type": "stream",
          "text": [
            "CPU times: user 17.6 s, sys: 1.34 s, total: 19 s\n",
            "Wall time: 17min 59s\n"
          ]
        }
      ],
      "source": [
        "param_grid = {'n_estimators': list(range(80, 200, 30)),\n",
        "              'min_samples_leaf': list(np.linspace(5, 25, 10, dtype=int)),\n",
        "              'max_depth': list(np.linspace(1, 30, 6, dtype=int))\n",
        "              }\n",
        "            \n",
        "gs_rf = GridSearchCV(\n",
        "    estimator = ensemble.RandomForestClassifier(random_state= 42),\n",
        "    param_grid = param_grid,\n",
        "    cv = 5,\n",
        "    n_jobs = -1,\n",
        "    scoring = 'f1'\n",
        ")\n",
        "\n",
        "%time gs_rf.fit(X_train, y_train)\n",
        "\n",
        "f1_gs_rf = gs_rf.score(X_test, y_test)"
      ]
    },
    {
      "cell_type": "code",
      "execution_count": 16,
      "metadata": {
        "colab": {
          "base_uri": "https://localhost:8080/"
        },
        "id": "edzwav_LARg9",
        "outputId": "8f280eca-0958-4ccb-b8c6-a28d57ab54e3"
      },
      "outputs": [
        {
          "name": "stdout",
          "output_type": "stream",
          "text": [
            "Наилучшие значения гиперпараметров: {'max_depth': 30, 'min_samples_leaf': 5, 'n_estimators': 140}\n"
          ]
        }
      ],
      "source": [
        "print(\"Наилучшие значения гиперпараметров: {}\".format(gs_rf.best_params_))"
      ]
    },
    {
      "cell_type": "code",
      "execution_count": 17,
      "metadata": {
        "colab": {
          "base_uri": "https://localhost:8080/"
        },
        "id": "tjqMX-a1srO8",
        "outputId": "7b3622d8-a6e6-449d-aabd-9ca26ad94a43"
      },
      "outputs": [
        {
          "name": "stdout",
          "output_type": "stream",
          "text": [
            "F1-score на Baseline для случайного леса равен 0.83\n",
            "F1-score на GridResearchCV для случайного леса равен 0.84\n"
          ]
        }
      ],
      "source": [
        "print('F1-score на Baseline для случайного леса равен {:.2f}'.format(f1_rf_base))\n",
        "print('F1-score на GridResearchCV для случайного леса равен {:.2f}'.format(f1_gs_rf))"
      ]
    },
    {
      "cell_type": "markdown",
      "metadata": {
        "id": "wF0yOsF18t2u"
      },
      "source": [
        "*Метрика немного улучшилась*"
      ]
    },
    {
      "cell_type": "markdown",
      "metadata": {
        "id": "NTQLKOPA80Gy"
      },
      "source": [
        "## **RandomizedSearchCV**\n",
        "\n",
        "Логистическая регрессия"
      ]
    },
    {
      "cell_type": "code",
      "execution_count": 18,
      "metadata": {
        "colab": {
          "base_uri": "https://localhost:8080/"
        },
        "id": "v4ktb2x0suWk",
        "outputId": "7f2bc74b-fe24-4162-c50a-a78e81ec12ff"
      },
      "outputs": [
        {
          "name": "stdout",
          "output_type": "stream",
          "text": [
            "CPU times: user 10.8 s, sys: 1.33 s, total: 12.1 s\n",
            "Wall time: 19min 23s\n"
          ]
        }
      ],
      "source": [
        "param_distribution = [\n",
        "    {'penalty' : ['l2', 'none'], # тип регуляризации\n",
        "    'solver' : ['newton-cg', 'lbfgs', 'sag'], # алгоритм оптимизации\n",
        "    'C': list(np.linspace(0.01, 1, 10, dtype=float))}, # уровень силы регурялизации\n",
        "    \n",
        "    #поскольку разные алгоритмы поддерживают разные типы регуляризации мы создадим еще 1 набор параметров\n",
        "    {'penalty': ['l1', 'l2'] ,\n",
        "    'solver': ['liblinear', 'saga'],\n",
        "    'C': list(np.linspace(0.01, 1, 10, dtype=float))}\n",
        "]\n",
        "\n",
        "rs_logReg = RandomizedSearchCV(\n",
        "    estimator= linear_model.LogisticRegression(random_state=42, max_iter=50),\n",
        "    param_distributions=param_distribution,\n",
        "    cv = 5,\n",
        "    n_iter = 50,\n",
        "    n_jobs = -1,\n",
        "    scoring = 'f1'\n",
        ")\n",
        "\n",
        "%time rs_logReg.fit(X_train, y_train)\n",
        "\n",
        "f1_rs_logReg = rs_logReg.score(X_test, y_test)"
      ]
    },
    {
      "cell_type": "code",
      "execution_count": 19,
      "metadata": {
        "colab": {
          "base_uri": "https://localhost:8080/"
        },
        "id": "9eDH21jB845z",
        "outputId": "d9e438bc-f5cf-40d0-a678-5360c57cd503"
      },
      "outputs": [
        {
          "name": "stdout",
          "output_type": "stream",
          "text": [
            "Наилучшие значения гиперпараметров: {'solver': 'liblinear', 'penalty': 'l1', 'C': 0.34}\n"
          ]
        }
      ],
      "source": [
        "print(\"Наилучшие значения гиперпараметров: {}\".format(rs_logReg.best_params_))"
      ]
    },
    {
      "cell_type": "code",
      "execution_count": 20,
      "metadata": {
        "colab": {
          "base_uri": "https://localhost:8080/"
        },
        "id": "xo2MWmhBAr3e",
        "outputId": "ee55a199-396e-4106-8e80-f2a7a23fb8ec"
      },
      "outputs": [
        {
          "name": "stdout",
          "output_type": "stream",
          "text": [
            "F1-score на Baseline для логистической регресии равен 0.79\n",
            "F1-score на RandomizedSrearchCV для логистической регресии равен 0.80\n"
          ]
        }
      ],
      "source": [
        "#Сравним результат с BaseLine\n",
        "print('F1-score на Baseline для логистической регресии равен {:.2f}'.format(f1_logReg_base))\n",
        "print('F1-score на RandomizedSrearchCV для логистической регресии равен {:.2f}'.format(f1_rs_logReg))"
      ]
    },
    {
      "cell_type": "markdown",
      "metadata": {
        "id": "DBl3mBb6Avx8"
      },
      "source": [
        "Случайный лес"
      ]
    },
    {
      "cell_type": "code",
      "execution_count": 21,
      "metadata": {
        "colab": {
          "base_uri": "https://localhost:8080/"
        },
        "id": "g__0RRm_At5O",
        "outputId": "23439d09-224a-415f-a35a-fb67283be4fc"
      },
      "outputs": [
        {
          "name": "stdout",
          "output_type": "stream",
          "text": [
            "CPU times: user 6.49 s, sys: 353 ms, total: 6.85 s\n",
            "Wall time: 4min 6s\n"
          ]
        }
      ],
      "source": [
        "param_distribution = {\n",
        "    'min_samples_leaf' : list(np.linspace(5, 25, 10, dtype=int)),\n",
        "    'max_depth' : list(np.linspace(1, 30, 6, dtype = int)),\n",
        "    'n_estimators' : list(range(80, 200, 30))\n",
        "}\n",
        "\n",
        "rs_rf = RandomizedSearchCV(\n",
        "    estimator=ensemble.RandomForestClassifier(random_state=42),\n",
        "    param_distributions=param_distribution,\n",
        "    cv = 5,\n",
        "    n_iter = 50,\n",
        "    n_jobs = -1,\n",
        "    scoring = 'f1'\n",
        ")\n",
        "\n",
        "%time rs_rf.fit(X_train, y_train)\n",
        "\n",
        "f1_rs_rf = rs_rf.score(X_test, y_test)"
      ]
    },
    {
      "cell_type": "code",
      "execution_count": 22,
      "metadata": {
        "colab": {
          "base_uri": "https://localhost:8080/"
        },
        "id": "0RsiaxP5CpsU",
        "outputId": "5a460f28-9cdf-4e72-9665-bc5e8f28eb3c"
      },
      "outputs": [
        {
          "name": "stdout",
          "output_type": "stream",
          "text": [
            "Наилучшие значения гиперпараметров: {'n_estimators': 140, 'min_samples_leaf': 5, 'max_depth': 30}\n"
          ]
        }
      ],
      "source": [
        "print(\"Наилучшие значения гиперпараметров: {}\".format(rs_rf.best_params_))"
      ]
    },
    {
      "cell_type": "code",
      "execution_count": 23,
      "metadata": {
        "colab": {
          "base_uri": "https://localhost:8080/"
        },
        "id": "Nhuf3omSCqH-",
        "outputId": "57e350e2-c134-42d5-c2bb-ee663f688dd8"
      },
      "outputs": [
        {
          "name": "stdout",
          "output_type": "stream",
          "text": [
            "F1-score на Baseline для случайного леса равен 0.83\n",
            "F1-score на RandomizedSrearchCV для случайного леса равен 0.84\n"
          ]
        }
      ],
      "source": [
        "#Сравним результат с BaseLine\n",
        "print('F1-score на Baseline для случайного леса равен {:.2f}'.format(f1_rf_base))\n",
        "print('F1-score на RandomizedSrearchCV для случайного леса равен {:.2f}'.format(f1_rs_rf))"
      ]
    },
    {
      "cell_type": "markdown",
      "metadata": {
        "id": "6rDbxusMCvaj"
      },
      "source": [
        "## **HyperOpt**\n",
        "\n",
        "Логистическая регрессия"
      ]
    },
    {
      "cell_type": "code",
      "execution_count": 24,
      "metadata": {
        "colab": {
          "base_uri": "https://localhost:8080/"
        },
        "id": "P9fk3uTpD7In",
        "outputId": "7e6ab0f7-e342-4bbe-e02a-1be83cd0cbce"
      },
      "outputs": [
        {
          "name": "stdout",
          "output_type": "stream",
          "text": [
            "CPU times: user 2 µs, sys: 1 µs, total: 3 µs\n",
            "Wall time: 5.96 µs\n",
            "100%|██████████| 50/50 [21:55<00:00, 26.31s/it, best loss: -0.7918486627890561]\n",
            "Наилучшие значения гиперпараметров {'C': 0.028607707583252345, 'penalty': 0, 'solver': 1}\n"
          ]
        }
      ],
      "source": [
        "# зададим пространство поиска гиперпараметров - получится 3 набора\n",
        "# так как для каждого типа регуляции подходят только определённые алгоритмы оптимизации\n",
        "space = {'penalty': hp.choice(label='penalty', options=['l2', 'none']) , # тип регуляризации\n",
        "              'solver': hp.choice(label='solver', options=['lbfgs', 'sag', 'newton-cg']), # алгоритм оптимизации\n",
        "              'C': hp.uniform('C', 0.01, 1)\n",
        "              } # алгоритм оптимизации\n",
        "\n",
        "# зафиксируем random_state\n",
        "random_state = 42\n",
        "\n",
        "def hyperopt(space, cv=5, X=X, y=y, random_state=random_state):\n",
        "    \"\"\" Функция, обучающая модель LogisticRegression\n",
        "    по переданным гиперпараметрам\n",
        "\n",
        "    Args:\n",
        "        space (dict): набор гиперпараметров\n",
        "        cv (int, optional=5): Количество холдов кросс-валидации. Defaults to 5.\n",
        "        X (DataFrame): DataFrame с признаками. Defaults to X_train.\n",
        "        y (Series): Series с целевым признаком. Defaults to y_train.\n",
        "        random_state (int): Рандомное число для воспроизводимости результата. Defaults to random_state.\n",
        "\n",
        "    Returns:\n",
        "        score(float): метрика F1\n",
        "    \"\"\"\n",
        "    try:\n",
        "        model = linear_model.LogisticRegression(\n",
        "        penalty = space['penalty'],\n",
        "        solver = space['solver'],\n",
        "        C = np.abs(float(space['C'])),\n",
        "        l1_ratio = float(space['l1_ratio']),\n",
        "        random_state = random_state,\n",
        "        max_iter = 50        \n",
        "    )        \n",
        "    except KeyError:\n",
        "          \n",
        "        model = linear_model.LogisticRegression(\n",
        "        penalty = space['penalty'],\n",
        "        solver = space['solver'],\n",
        "        C = np.abs(float(space['C'])),\n",
        "        random_state = random_state,\n",
        "        max_iter = 50\n",
        "           )\n",
        "        \n",
        "     \n",
        "    # применим  cross validation \n",
        "    score = cross_val_score(model, X, y, cv=cv, scoring=\"f1\", n_jobs=-1).mean()\n",
        "    # метрику необходимо минимизировать, поэтому ставим знак минус\n",
        "    return -score\n",
        "\n",
        "\n",
        "\n",
        "%time\n",
        "              \n",
        "trials = Trials() # используется для логирования результатов  \n",
        "\n",
        "best = fmin(hyperopt, # наша функция \n",
        "          space = space, # пространство гиперпараметров\n",
        "          algo = tpe.suggest, # алгоритм оптимизации, установлен по умолчанию, задавать необязательно\n",
        "          max_evals = 50, # максимальное количество итераций\n",
        "          trials = trials, # логирование результатов\n",
        "          rstate = np.random.RandomState(random_state)# фиксируем для повторяемости результата\n",
        "         )\n",
        "print(f'Наилучшие значения гиперпараметров {best}')"
      ]
    },
    {
      "cell_type": "code",
      "execution_count": 25,
      "metadata": {
        "colab": {
          "base_uri": "https://localhost:8080/"
        },
        "id": "1g6_N9BTEeRA",
        "outputId": "039ca93d-7f57-4807-a330-028af907ff63"
      },
      "outputs": [
        {
          "data": {
            "text/plain": [
              "{'C': 0.028607707583252345, 'penalty': 'l2', 'solver': 'sag'}"
            ]
          },
          "execution_count": 25,
          "metadata": {},
          "output_type": "execute_result"
        }
      ],
      "source": [
        "from hyperopt import space_eval\n",
        "hyperparams = space_eval(space, best)\n",
        "hyperparams"
      ]
    },
    {
      "cell_type": "code",
      "execution_count": 27,
      "metadata": {
        "colab": {
          "base_uri": "https://localhost:8080/"
        },
        "id": "-F3c7zZMI28y",
        "outputId": "09f37960-d0dd-439a-a4d9-9d72c2d0d95e"
      },
      "outputs": [
        {
          "name": "stderr",
          "output_type": "stream",
          "text": [
            "/usr/local/lib/python3.7/dist-packages/sklearn/linear_model/_sag.py:354: ConvergenceWarning: The max_iter was reached which means the coef_ did not converge\n",
            "  ConvergenceWarning,\n"
          ]
        }
      ],
      "source": [
        "# рассчитаем точность для тестовой выборки\n",
        "model = linear_model.LogisticRegression(\n",
        "    random_state = random_state, \n",
        "    penalty = hyperparams['penalty'],\n",
        "    solver = hyperparams['solver'],\n",
        "    C = hyperparams['C']\n",
        ")\n",
        "model.fit(X_train, y_train)\n",
        "\n",
        "y_pred_ho_lr = model.predict(X_test)\n",
        "\n",
        "f1_ho_lr = metrics.f1_score(y_test, y_pred_ho_lr)"
      ]
    },
    {
      "cell_type": "code",
      "execution_count": 28,
      "metadata": {
        "colab": {
          "base_uri": "https://localhost:8080/"
        },
        "id": "8cBk8KW9I6iK",
        "outputId": "17fccb59-3f2f-48c0-8aa5-5d000a715127"
      },
      "outputs": [
        {
          "name": "stdout",
          "output_type": "stream",
          "text": [
            "F1-score на Baseline для логистической регресии равен 0.79\n",
            "F1-score на HyperOpt для логистической регресии равен 0.80\n"
          ]
        }
      ],
      "source": [
        "#Сравним результат с BaseLine\n",
        "print('F1-score на Baseline для логистической регресии равен {:.2f}'.format(f1_logReg_base))\n",
        "print('F1-score на HyperOpt для логистической регресии равен {:.2f}'.format(f1_ho_lr))"
      ]
    },
    {
      "cell_type": "markdown",
      "metadata": {
        "id": "uDWDJ7qQJAvn"
      },
      "source": [
        "Случайный лес"
      ]
    },
    {
      "cell_type": "code",
      "execution_count": 29,
      "metadata": {
        "id": "RVcA2UNnI_Ar"
      },
      "outputs": [],
      "source": [
        "space={'n_estimators': hp.quniform('n_estimators', 80, 200, 1),\n",
        "       'max_depth' : hp.quniform('max_depth', 1, 30, 1),\n",
        "       'min_samples_leaf': hp.quniform('min_samples_leaf', 5, 25, 1)\n",
        "      }"
      ]
    },
    {
      "cell_type": "code",
      "execution_count": 30,
      "metadata": {
        "id": "lTXKiivrJDLv"
      },
      "outputs": [],
      "source": [
        "def hyperopt_rf(params, cv=5, X=X_train, y=y_train, random_state=random_state):\n",
        "    \n",
        "    params = {'n_estimators': int(params['n_estimators']), \n",
        "              'max_depth': int(params['max_depth']), \n",
        "             'min_samples_leaf': int(params['min_samples_leaf'])\n",
        "    }\n",
        "    # используем эту комбинацию для построения модели   \n",
        "    model = ensemble.RandomForestClassifier(**params, random_state=random_state)\n",
        "\n",
        "    # обучаем модель\n",
        "    model.fit(X, y)\n",
        "    score = cross_val_score(model, X, y, cv=cv, scoring=\"f1\", n_jobs=-1).mean()\n",
        "    \n",
        "    return -score    "
      ]
    },
    {
      "cell_type": "code",
      "execution_count": 31,
      "metadata": {
        "colab": {
          "base_uri": "https://localhost:8080/"
        },
        "id": "cz8iI_YbJE7Q",
        "outputId": "625b3eca-109c-4693-a677-66cad6e5ed0c"
      },
      "outputs": [
        {
          "name": "stdout",
          "output_type": "stream",
          "text": [
            "CPU times: user 35 µs, sys: 0 ns, total: 35 µs\n",
            "Wall time: 56 µs\n",
            "100%|██████████| 50/50 [07:24<00:00,  8.88s/it, best loss: -0.8014811813337108]\n",
            "Наилучшие значения гиперпараметров {'max_depth': 26.0, 'min_samples_leaf': 5.0, 'n_estimators': 143.0}\n"
          ]
        }
      ],
      "source": [
        "%time\n",
        "\n",
        "trials = Trials() # используется для логирования результатов\n",
        "\n",
        "best = fmin(hyperopt_rf, # наша функция \n",
        "          space = space, # пространство гиперпараметров\n",
        "          algo = tpe.suggest, # алгоритм оптимизации, установлен по умолчанию, задавать необязательно\n",
        "          max_evals = 50, # максимальное количество итераций\n",
        "          trials = trials, # логирование результатов\n",
        "          rstate = np.random.RandomState(random_state)# фиксируем для повторяемости результата\n",
        "         )\n",
        "print(\"Наилучшие значения гиперпараметров {}\".format(best))"
      ]
    },
    {
      "cell_type": "code",
      "execution_count": 32,
      "metadata": {
        "id": "crs9_Er4JHQe"
      },
      "outputs": [],
      "source": [
        "# рассчитаем точность для тестовой выборки\n",
        "model = ensemble.RandomForestClassifier(\n",
        "    random_state = random_state, \n",
        "    n_estimators = int(best['n_estimators']),\n",
        "    max_depth = int(best['max_depth']),\n",
        "    min_samples_leaf = int(best['min_samples_leaf'])\n",
        ")\n",
        "model.fit(X_train, y_train)\n",
        "\n",
        "y_pred_ho_rf = model.predict(X_test)\n",
        "\n",
        "f1_ho_rf = metrics.f1_score(y_test, y_pred_ho_rf)"
      ]
    },
    {
      "cell_type": "code",
      "execution_count": 33,
      "metadata": {
        "colab": {
          "base_uri": "https://localhost:8080/"
        },
        "id": "_2MnR32WK0nd",
        "outputId": "a9230ee1-0ad3-4157-8fa8-340cbb966000"
      },
      "outputs": [
        {
          "name": "stdout",
          "output_type": "stream",
          "text": [
            "F1-score на Baseline для случайного леса равен 0.83\n",
            "F1-score на HyperOpt для случайного леса равен 0.83\n"
          ]
        }
      ],
      "source": [
        "#Сравним результат с BaseLine\n",
        "print('F1-score на Baseline для случайного леса равен {:.2f}'.format(f1_rf_base))\n",
        "print('F1-score на HyperOpt для случайного леса равен {:.2f}'.format(f1_ho_rf))"
      ]
    },
    {
      "cell_type": "markdown",
      "metadata": {
        "id": "h0_r_K2hK4-9"
      },
      "source": [
        "## **Optuna**\n",
        "\n",
        "Логистическая регрессия"
      ]
    },
    {
      "cell_type": "code",
      "execution_count": 34,
      "metadata": {
        "id": "jDemj9nTK255"
      },
      "outputs": [],
      "source": [
        "def optuna_lr(trial):\n",
        "    penalty = trial.suggest_categorical(name='penalty', choices= ['l2', 'none']) # тип регуляризации\n",
        "    solver = trial.suggest_categorical(name = 'solver', choices= ['newton-cg', 'lbfgs', 'sag']) # алгоритм оптимизации\n",
        "    C = trial.suggest_float(name='C', low=0.01, high=1, step = 0.1) # уровень силы регурялизации\n",
        "    \n",
        "    model = linear_model.LogisticRegression(\n",
        "        penalty = penalty,\n",
        "        solver = solver,\n",
        "        C = C,\n",
        "        random_state = random_state\n",
        "    )\n",
        "    \n",
        "    model.fit(X_train, y_train)\n",
        "    score = cross_val_score(model, X_train, y_train, cv=5, scoring=\"f1\", n_jobs=-1).mean()\n",
        "    \n",
        "    return score"
      ]
    },
    {
      "cell_type": "code",
      "execution_count": 35,
      "metadata": {
        "colab": {
          "base_uri": "https://localhost:8080/"
        },
        "id": "H2zwm5y3K8mA",
        "outputId": "3d1261a9-0690-4675-d7a1-3b388c9aaa5d"
      },
      "outputs": [
        {
          "name": "stderr",
          "output_type": "stream",
          "text": [
            "\u001b[32m[I 2022-11-16 09:13:55,998]\u001b[0m A new study created in memory with name: LogisticRegression\u001b[0m\n",
            "/usr/local/lib/python3.7/dist-packages/optuna/distributions.py:671: UserWarning: The distribution is specified by [0.01, 1] and step=0.1, but the range is not divisible by `step`. It will be replaced by [0.01, 0.91].\n",
            "  low=low, old_high=old_high, high=high, step=step\n",
            "/usr/local/lib/python3.7/dist-packages/sklearn/linear_model/_logistic.py:1484: UserWarning: Setting penalty='none' will ignore the C and l1_ratio parameters\n",
            "  \"Setting penalty='none' will ignore the C and l1_ratio parameters\"\n",
            "/usr/local/lib/python3.7/dist-packages/sklearn/linear_model/_logistic.py:818: ConvergenceWarning: lbfgs failed to converge (status=1):\n",
            "STOP: TOTAL NO. of ITERATIONS REACHED LIMIT.\n",
            "\n",
            "Increase the number of iterations (max_iter) or scale the data as shown in:\n",
            "    https://scikit-learn.org/stable/modules/preprocessing.html\n",
            "Please also refer to the documentation for alternative solver options:\n",
            "    https://scikit-learn.org/stable/modules/linear_model.html#logistic-regression\n",
            "  extra_warning_msg=_LOGISTIC_SOLVER_CONVERGENCE_MSG,\n",
            "\u001b[32m[I 2022-11-16 09:14:02,597]\u001b[0m Trial 0 finished with value: 0.7552105607977898 and parameters: {'penalty': 'none', 'solver': 'lbfgs', 'C': 0.11}. Best is trial 0 with value: 0.7552105607977898.\u001b[0m\n",
            "/usr/local/lib/python3.7/dist-packages/optuna/distributions.py:671: UserWarning: The distribution is specified by [0.01, 1] and step=0.1, but the range is not divisible by `step`. It will be replaced by [0.01, 0.91].\n",
            "  low=low, old_high=old_high, high=high, step=step\n",
            "/usr/local/lib/python3.7/dist-packages/sklearn/linear_model/_logistic.py:1484: UserWarning: Setting penalty='none' will ignore the C and l1_ratio parameters\n",
            "  \"Setting penalty='none' will ignore the C and l1_ratio parameters\"\n",
            "/usr/local/lib/python3.7/dist-packages/sklearn/utils/optimize.py:212: ConvergenceWarning: newton-cg failed to converge. Increase the number of iterations.\n",
            "  ConvergenceWarning,\n",
            "\u001b[32m[I 2022-11-16 09:18:26,066]\u001b[0m Trial 1 finished with value: 0.7213884309422244 and parameters: {'penalty': 'none', 'solver': 'newton-cg', 'C': 0.91}. Best is trial 0 with value: 0.7552105607977898.\u001b[0m\n",
            "/usr/local/lib/python3.7/dist-packages/optuna/distributions.py:671: UserWarning: The distribution is specified by [0.01, 1] and step=0.1, but the range is not divisible by `step`. It will be replaced by [0.01, 0.91].\n",
            "  low=low, old_high=old_high, high=high, step=step\n",
            "/usr/local/lib/python3.7/dist-packages/sklearn/linear_model/_logistic.py:1484: UserWarning: Setting penalty='none' will ignore the C and l1_ratio parameters\n",
            "  \"Setting penalty='none' will ignore the C and l1_ratio parameters\"\n",
            "/usr/local/lib/python3.7/dist-packages/sklearn/utils/optimize.py:212: ConvergenceWarning: newton-cg failed to converge. Increase the number of iterations.\n",
            "  ConvergenceWarning,\n",
            "\u001b[32m[I 2022-11-16 09:22:47,953]\u001b[0m Trial 2 finished with value: 0.7213884309422244 and parameters: {'penalty': 'none', 'solver': 'newton-cg', 'C': 0.01}. Best is trial 0 with value: 0.7552105607977898.\u001b[0m\n",
            "/usr/local/lib/python3.7/dist-packages/optuna/distributions.py:671: UserWarning: The distribution is specified by [0.01, 1] and step=0.1, but the range is not divisible by `step`. It will be replaced by [0.01, 0.91].\n",
            "  low=low, old_high=old_high, high=high, step=step\n",
            "/usr/local/lib/python3.7/dist-packages/sklearn/linear_model/_sag.py:354: ConvergenceWarning: The max_iter was reached which means the coef_ did not converge\n",
            "  ConvergenceWarning,\n",
            "\u001b[32m[I 2022-11-16 09:23:14,983]\u001b[0m Trial 3 finished with value: 0.7799921548046879 and parameters: {'penalty': 'l2', 'solver': 'sag', 'C': 0.31000000000000005}. Best is trial 3 with value: 0.7799921548046879.\u001b[0m\n",
            "/usr/local/lib/python3.7/dist-packages/optuna/distributions.py:671: UserWarning: The distribution is specified by [0.01, 1] and step=0.1, but the range is not divisible by `step`. It will be replaced by [0.01, 0.91].\n",
            "  low=low, old_high=old_high, high=high, step=step\n",
            "\u001b[32m[I 2022-11-16 09:23:35,863]\u001b[0m Trial 4 finished with value: 0.7721107699415347 and parameters: {'penalty': 'l2', 'solver': 'newton-cg', 'C': 0.6100000000000001}. Best is trial 3 with value: 0.7799921548046879.\u001b[0m\n",
            "/usr/local/lib/python3.7/dist-packages/optuna/distributions.py:671: UserWarning: The distribution is specified by [0.01, 1] and step=0.1, but the range is not divisible by `step`. It will be replaced by [0.01, 0.91].\n",
            "  low=low, old_high=old_high, high=high, step=step\n",
            "\u001b[32m[I 2022-11-16 09:23:51,602]\u001b[0m Trial 5 finished with value: 0.7837290544819175 and parameters: {'penalty': 'l2', 'solver': 'newton-cg', 'C': 0.11}. Best is trial 5 with value: 0.7837290544819175.\u001b[0m\n",
            "/usr/local/lib/python3.7/dist-packages/optuna/distributions.py:671: UserWarning: The distribution is specified by [0.01, 1] and step=0.1, but the range is not divisible by `step`. It will be replaced by [0.01, 0.91].\n",
            "  low=low, old_high=old_high, high=high, step=step\n",
            "/usr/local/lib/python3.7/dist-packages/sklearn/linear_model/_logistic.py:1484: UserWarning: Setting penalty='none' will ignore the C and l1_ratio parameters\n",
            "  \"Setting penalty='none' will ignore the C and l1_ratio parameters\"\n",
            "/usr/local/lib/python3.7/dist-packages/sklearn/linear_model/_logistic.py:818: ConvergenceWarning: lbfgs failed to converge (status=1):\n",
            "STOP: TOTAL NO. of ITERATIONS REACHED LIMIT.\n",
            "\n",
            "Increase the number of iterations (max_iter) or scale the data as shown in:\n",
            "    https://scikit-learn.org/stable/modules/preprocessing.html\n",
            "Please also refer to the documentation for alternative solver options:\n",
            "    https://scikit-learn.org/stable/modules/linear_model.html#logistic-regression\n",
            "  extra_warning_msg=_LOGISTIC_SOLVER_CONVERGENCE_MSG,\n",
            "\u001b[32m[I 2022-11-16 09:23:57,591]\u001b[0m Trial 6 finished with value: 0.7552105607977898 and parameters: {'penalty': 'none', 'solver': 'lbfgs', 'C': 0.51}. Best is trial 5 with value: 0.7837290544819175.\u001b[0m\n",
            "/usr/local/lib/python3.7/dist-packages/optuna/distributions.py:671: UserWarning: The distribution is specified by [0.01, 1] and step=0.1, but the range is not divisible by `step`. It will be replaced by [0.01, 0.91].\n",
            "  low=low, old_high=old_high, high=high, step=step\n",
            "/usr/local/lib/python3.7/dist-packages/sklearn/linear_model/_logistic.py:1484: UserWarning: Setting penalty='none' will ignore the C and l1_ratio parameters\n",
            "  \"Setting penalty='none' will ignore the C and l1_ratio parameters\"\n",
            "/usr/local/lib/python3.7/dist-packages/sklearn/utils/optimize.py:212: ConvergenceWarning: newton-cg failed to converge. Increase the number of iterations.\n",
            "  ConvergenceWarning,\n",
            "\u001b[32m[I 2022-11-16 09:28:16,544]\u001b[0m Trial 7 finished with value: 0.7213884309422244 and parameters: {'penalty': 'none', 'solver': 'newton-cg', 'C': 0.7100000000000001}. Best is trial 5 with value: 0.7837290544819175.\u001b[0m\n",
            "/usr/local/lib/python3.7/dist-packages/optuna/distributions.py:671: UserWarning: The distribution is specified by [0.01, 1] and step=0.1, but the range is not divisible by `step`. It will be replaced by [0.01, 0.91].\n",
            "  low=low, old_high=old_high, high=high, step=step\n",
            "/usr/local/lib/python3.7/dist-packages/sklearn/linear_model/_sag.py:354: ConvergenceWarning: The max_iter was reached which means the coef_ did not converge\n",
            "  ConvergenceWarning,\n",
            "\u001b[32m[I 2022-11-16 09:28:44,563]\u001b[0m Trial 8 finished with value: 0.7696711455789366 and parameters: {'penalty': 'l2', 'solver': 'sag', 'C': 0.91}. Best is trial 5 with value: 0.7837290544819175.\u001b[0m\n",
            "/usr/local/lib/python3.7/dist-packages/optuna/distributions.py:671: UserWarning: The distribution is specified by [0.01, 1] and step=0.1, but the range is not divisible by `step`. It will be replaced by [0.01, 0.91].\n",
            "  low=low, old_high=old_high, high=high, step=step\n",
            "/usr/local/lib/python3.7/dist-packages/sklearn/linear_model/_logistic.py:1484: UserWarning: Setting penalty='none' will ignore the C and l1_ratio parameters\n",
            "  \"Setting penalty='none' will ignore the C and l1_ratio parameters\"\n",
            "/usr/local/lib/python3.7/dist-packages/sklearn/utils/optimize.py:212: ConvergenceWarning: newton-cg failed to converge. Increase the number of iterations.\n",
            "  ConvergenceWarning,\n",
            "\u001b[32m[I 2022-11-16 09:33:45,886]\u001b[0m Trial 9 finished with value: 0.7213884309422244 and parameters: {'penalty': 'none', 'solver': 'newton-cg', 'C': 0.81}. Best is trial 5 with value: 0.7837290544819175.\u001b[0m\n",
            "/usr/local/lib/python3.7/dist-packages/optuna/distributions.py:671: UserWarning: The distribution is specified by [0.01, 1] and step=0.1, but the range is not divisible by `step`. It will be replaced by [0.01, 0.91].\n",
            "  low=low, old_high=old_high, high=high, step=step\n",
            "/usr/local/lib/python3.7/dist-packages/sklearn/linear_model/_logistic.py:818: ConvergenceWarning: lbfgs failed to converge (status=1):\n",
            "STOP: TOTAL NO. of ITERATIONS REACHED LIMIT.\n",
            "\n",
            "Increase the number of iterations (max_iter) or scale the data as shown in:\n",
            "    https://scikit-learn.org/stable/modules/preprocessing.html\n",
            "Please also refer to the documentation for alternative solver options:\n",
            "    https://scikit-learn.org/stable/modules/linear_model.html#logistic-regression\n",
            "  extra_warning_msg=_LOGISTIC_SOLVER_CONVERGENCE_MSG,\n",
            "\u001b[32m[I 2022-11-16 09:33:52,138]\u001b[0m Trial 10 finished with value: 0.779237413989353 and parameters: {'penalty': 'l2', 'solver': 'lbfgs', 'C': 0.31000000000000005}. Best is trial 5 with value: 0.7837290544819175.\u001b[0m\n",
            "/usr/local/lib/python3.7/dist-packages/optuna/distributions.py:671: UserWarning: The distribution is specified by [0.01, 1] and step=0.1, but the range is not divisible by `step`. It will be replaced by [0.01, 0.91].\n",
            "  low=low, old_high=old_high, high=high, step=step\n",
            "/usr/local/lib/python3.7/dist-packages/sklearn/linear_model/_sag.py:354: ConvergenceWarning: The max_iter was reached which means the coef_ did not converge\n",
            "  ConvergenceWarning,\n",
            "\u001b[32m[I 2022-11-16 09:34:19,414]\u001b[0m Trial 11 finished with value: 0.7799921548046879 and parameters: {'penalty': 'l2', 'solver': 'sag', 'C': 0.31000000000000005}. Best is trial 5 with value: 0.7837290544819175.\u001b[0m\n",
            "/usr/local/lib/python3.7/dist-packages/optuna/distributions.py:671: UserWarning: The distribution is specified by [0.01, 1] and step=0.1, but the range is not divisible by `step`. It will be replaced by [0.01, 0.91].\n",
            "  low=low, old_high=old_high, high=high, step=step\n",
            "/usr/local/lib/python3.7/dist-packages/sklearn/linear_model/_sag.py:354: ConvergenceWarning: The max_iter was reached which means the coef_ did not converge\n",
            "  ConvergenceWarning,\n",
            "\u001b[32m[I 2022-11-16 09:34:48,391]\u001b[0m Trial 12 finished with value: 0.7805104493934761 and parameters: {'penalty': 'l2', 'solver': 'sag', 'C': 0.21000000000000002}. Best is trial 5 with value: 0.7837290544819175.\u001b[0m\n",
            "/usr/local/lib/python3.7/dist-packages/optuna/distributions.py:671: UserWarning: The distribution is specified by [0.01, 1] and step=0.1, but the range is not divisible by `step`. It will be replaced by [0.01, 0.91].\n",
            "  low=low, old_high=old_high, high=high, step=step\n",
            "/usr/local/lib/python3.7/dist-packages/sklearn/linear_model/_sag.py:354: ConvergenceWarning: The max_iter was reached which means the coef_ did not converge\n",
            "  ConvergenceWarning,\n",
            "\u001b[32m[I 2022-11-16 09:35:16,545]\u001b[0m Trial 13 finished with value: 0.7820005016970459 and parameters: {'penalty': 'l2', 'solver': 'sag', 'C': 0.11}. Best is trial 5 with value: 0.7837290544819175.\u001b[0m\n",
            "/usr/local/lib/python3.7/dist-packages/optuna/distributions.py:671: UserWarning: The distribution is specified by [0.01, 1] and step=0.1, but the range is not divisible by `step`. It will be replaced by [0.01, 0.91].\n",
            "  low=low, old_high=old_high, high=high, step=step\n",
            "\u001b[32m[I 2022-11-16 09:35:39,015]\u001b[0m Trial 14 finished with value: 0.7743180436015331 and parameters: {'penalty': 'l2', 'solver': 'sag', 'C': 0.01}. Best is trial 5 with value: 0.7837290544819175.\u001b[0m\n",
            "/usr/local/lib/python3.7/dist-packages/optuna/distributions.py:671: UserWarning: The distribution is specified by [0.01, 1] and step=0.1, but the range is not divisible by `step`. It will be replaced by [0.01, 0.91].\n",
            "  low=low, old_high=old_high, high=high, step=step\n",
            "/usr/local/lib/python3.7/dist-packages/sklearn/linear_model/_sag.py:354: ConvergenceWarning: The max_iter was reached which means the coef_ did not converge\n",
            "  ConvergenceWarning,\n",
            "\u001b[32m[I 2022-11-16 09:36:07,518]\u001b[0m Trial 15 finished with value: 0.7820005016970459 and parameters: {'penalty': 'l2', 'solver': 'sag', 'C': 0.11}. Best is trial 5 with value: 0.7837290544819175.\u001b[0m\n",
            "/usr/local/lib/python3.7/dist-packages/optuna/distributions.py:671: UserWarning: The distribution is specified by [0.01, 1] and step=0.1, but the range is not divisible by `step`. It will be replaced by [0.01, 0.91].\n",
            "  low=low, old_high=old_high, high=high, step=step\n",
            "\u001b[32m[I 2022-11-16 09:36:27,217]\u001b[0m Trial 16 finished with value: 0.7772292673632061 and parameters: {'penalty': 'l2', 'solver': 'newton-cg', 'C': 0.41000000000000003}. Best is trial 5 with value: 0.7837290544819175.\u001b[0m\n",
            "/usr/local/lib/python3.7/dist-packages/optuna/distributions.py:671: UserWarning: The distribution is specified by [0.01, 1] and step=0.1, but the range is not divisible by `step`. It will be replaced by [0.01, 0.91].\n",
            "  low=low, old_high=old_high, high=high, step=step\n",
            "/usr/local/lib/python3.7/dist-packages/sklearn/linear_model/_sag.py:354: ConvergenceWarning: The max_iter was reached which means the coef_ did not converge\n",
            "  ConvergenceWarning,\n",
            "\u001b[32m[I 2022-11-16 09:36:54,174]\u001b[0m Trial 17 finished with value: 0.7820005016970459 and parameters: {'penalty': 'l2', 'solver': 'sag', 'C': 0.11}. Best is trial 5 with value: 0.7837290544819175.\u001b[0m\n",
            "/usr/local/lib/python3.7/dist-packages/optuna/distributions.py:671: UserWarning: The distribution is specified by [0.01, 1] and step=0.1, but the range is not divisible by `step`. It will be replaced by [0.01, 0.91].\n",
            "  low=low, old_high=old_high, high=high, step=step\n",
            "\u001b[32m[I 2022-11-16 09:37:11,953]\u001b[0m Trial 18 finished with value: 0.7803982420461868 and parameters: {'penalty': 'l2', 'solver': 'newton-cg', 'C': 0.21000000000000002}. Best is trial 5 with value: 0.7837290544819175.\u001b[0m\n",
            "/usr/local/lib/python3.7/dist-packages/optuna/distributions.py:671: UserWarning: The distribution is specified by [0.01, 1] and step=0.1, but the range is not divisible by `step`. It will be replaced by [0.01, 0.91].\n",
            "  low=low, old_high=old_high, high=high, step=step\n",
            "/usr/local/lib/python3.7/dist-packages/sklearn/linear_model/_logistic.py:818: ConvergenceWarning: lbfgs failed to converge (status=1):\n",
            "STOP: TOTAL NO. of ITERATIONS REACHED LIMIT.\n",
            "\n",
            "Increase the number of iterations (max_iter) or scale the data as shown in:\n",
            "    https://scikit-learn.org/stable/modules/preprocessing.html\n",
            "Please also refer to the documentation for alternative solver options:\n",
            "    https://scikit-learn.org/stable/modules/linear_model.html#logistic-regression\n",
            "  extra_warning_msg=_LOGISTIC_SOLVER_CONVERGENCE_MSG,\n",
            "\u001b[32m[I 2022-11-16 09:37:17,043]\u001b[0m Trial 19 finished with value: 0.7737257662151599 and parameters: {'penalty': 'l2', 'solver': 'lbfgs', 'C': 0.51}. Best is trial 5 with value: 0.7837290544819175.\u001b[0m\n",
            "/usr/local/lib/python3.7/dist-packages/optuna/distributions.py:671: UserWarning: The distribution is specified by [0.01, 1] and step=0.1, but the range is not divisible by `step`. It will be replaced by [0.01, 0.91].\n",
            "  low=low, old_high=old_high, high=high, step=step\n",
            "\u001b[32m[I 2022-11-16 09:37:38,803]\u001b[0m Trial 20 finished with value: 0.7743180436015331 and parameters: {'penalty': 'l2', 'solver': 'sag', 'C': 0.01}. Best is trial 5 with value: 0.7837290544819175.\u001b[0m\n",
            "/usr/local/lib/python3.7/dist-packages/optuna/distributions.py:671: UserWarning: The distribution is specified by [0.01, 1] and step=0.1, but the range is not divisible by `step`. It will be replaced by [0.01, 0.91].\n",
            "  low=low, old_high=old_high, high=high, step=step\n",
            "/usr/local/lib/python3.7/dist-packages/sklearn/linear_model/_sag.py:354: ConvergenceWarning: The max_iter was reached which means the coef_ did not converge\n",
            "  ConvergenceWarning,\n",
            "\u001b[32m[I 2022-11-16 09:38:05,954]\u001b[0m Trial 21 finished with value: 0.7820005016970459 and parameters: {'penalty': 'l2', 'solver': 'sag', 'C': 0.11}. Best is trial 5 with value: 0.7837290544819175.\u001b[0m\n",
            "/usr/local/lib/python3.7/dist-packages/optuna/distributions.py:671: UserWarning: The distribution is specified by [0.01, 1] and step=0.1, but the range is not divisible by `step`. It will be replaced by [0.01, 0.91].\n",
            "  low=low, old_high=old_high, high=high, step=step\n",
            "/usr/local/lib/python3.7/dist-packages/sklearn/linear_model/_sag.py:354: ConvergenceWarning: The max_iter was reached which means the coef_ did not converge\n",
            "  ConvergenceWarning,\n",
            "\u001b[32m[I 2022-11-16 09:38:34,458]\u001b[0m Trial 22 finished with value: 0.7805104493934761 and parameters: {'penalty': 'l2', 'solver': 'sag', 'C': 0.21000000000000002}. Best is trial 5 with value: 0.7837290544819175.\u001b[0m\n",
            "/usr/local/lib/python3.7/dist-packages/optuna/distributions.py:671: UserWarning: The distribution is specified by [0.01, 1] and step=0.1, but the range is not divisible by `step`. It will be replaced by [0.01, 0.91].\n",
            "  low=low, old_high=old_high, high=high, step=step\n",
            "/usr/local/lib/python3.7/dist-packages/sklearn/linear_model/_sag.py:354: ConvergenceWarning: The max_iter was reached which means the coef_ did not converge\n",
            "  ConvergenceWarning,\n",
            "\u001b[32m[I 2022-11-16 09:39:01,405]\u001b[0m Trial 23 finished with value: 0.7820005016970459 and parameters: {'penalty': 'l2', 'solver': 'sag', 'C': 0.11}. Best is trial 5 with value: 0.7837290544819175.\u001b[0m\n",
            "/usr/local/lib/python3.7/dist-packages/optuna/distributions.py:671: UserWarning: The distribution is specified by [0.01, 1] and step=0.1, but the range is not divisible by `step`. It will be replaced by [0.01, 0.91].\n",
            "  low=low, old_high=old_high, high=high, step=step\n",
            "/usr/local/lib/python3.7/dist-packages/sklearn/linear_model/_sag.py:354: ConvergenceWarning: The max_iter was reached which means the coef_ did not converge\n",
            "  ConvergenceWarning,\n",
            "\u001b[32m[I 2022-11-16 09:39:30,319]\u001b[0m Trial 24 finished with value: 0.7778486011141373 and parameters: {'penalty': 'l2', 'solver': 'sag', 'C': 0.41000000000000003}. Best is trial 5 with value: 0.7837290544819175.\u001b[0m\n",
            "/usr/local/lib/python3.7/dist-packages/optuna/distributions.py:671: UserWarning: The distribution is specified by [0.01, 1] and step=0.1, but the range is not divisible by `step`. It will be replaced by [0.01, 0.91].\n",
            "  low=low, old_high=old_high, high=high, step=step\n",
            "\u001b[32m[I 2022-11-16 09:39:46,099]\u001b[0m Trial 25 finished with value: 0.7803982420461868 and parameters: {'penalty': 'l2', 'solver': 'newton-cg', 'C': 0.21000000000000002}. Best is trial 5 with value: 0.7837290544819175.\u001b[0m\n",
            "/usr/local/lib/python3.7/dist-packages/optuna/distributions.py:671: UserWarning: The distribution is specified by [0.01, 1] and step=0.1, but the range is not divisible by `step`. It will be replaced by [0.01, 0.91].\n",
            "  low=low, old_high=old_high, high=high, step=step\n",
            "\u001b[32m[I 2022-11-16 09:40:07,819]\u001b[0m Trial 26 finished with value: 0.7743180436015331 and parameters: {'penalty': 'l2', 'solver': 'sag', 'C': 0.01}. Best is trial 5 with value: 0.7837290544819175.\u001b[0m\n",
            "/usr/local/lib/python3.7/dist-packages/optuna/distributions.py:671: UserWarning: The distribution is specified by [0.01, 1] and step=0.1, but the range is not divisible by `step`. It will be replaced by [0.01, 0.91].\n",
            "  low=low, old_high=old_high, high=high, step=step\n",
            "\u001b[32m[I 2022-11-16 09:40:22,735]\u001b[0m Trial 27 finished with value: 0.7837290544819175 and parameters: {'penalty': 'l2', 'solver': 'newton-cg', 'C': 0.11}. Best is trial 5 with value: 0.7837290544819175.\u001b[0m\n",
            "/usr/local/lib/python3.7/dist-packages/optuna/distributions.py:671: UserWarning: The distribution is specified by [0.01, 1] and step=0.1, but the range is not divisible by `step`. It will be replaced by [0.01, 0.91].\n",
            "  low=low, old_high=old_high, high=high, step=step\n",
            "\u001b[32m[I 2022-11-16 09:40:39,164]\u001b[0m Trial 28 finished with value: 0.7794872072632637 and parameters: {'penalty': 'l2', 'solver': 'newton-cg', 'C': 0.31000000000000005}. Best is trial 5 with value: 0.7837290544819175.\u001b[0m\n",
            "/usr/local/lib/python3.7/dist-packages/optuna/distributions.py:671: UserWarning: The distribution is specified by [0.01, 1] and step=0.1, but the range is not divisible by `step`. It will be replaced by [0.01, 0.91].\n",
            "  low=low, old_high=old_high, high=high, step=step\n",
            "/usr/local/lib/python3.7/dist-packages/sklearn/linear_model/_logistic.py:1484: UserWarning: Setting penalty='none' will ignore the C and l1_ratio parameters\n",
            "  \"Setting penalty='none' will ignore the C and l1_ratio parameters\"\n",
            "/usr/local/lib/python3.7/dist-packages/sklearn/utils/optimize.py:212: ConvergenceWarning: newton-cg failed to converge. Increase the number of iterations.\n",
            "  ConvergenceWarning,\n",
            "\u001b[32m[I 2022-11-16 09:45:12,227]\u001b[0m Trial 29 finished with value: 0.7213884309422244 and parameters: {'penalty': 'none', 'solver': 'newton-cg', 'C': 0.21000000000000002}. Best is trial 5 with value: 0.7837290544819175.\u001b[0m\n",
            "/usr/local/lib/python3.7/dist-packages/optuna/distributions.py:671: UserWarning: The distribution is specified by [0.01, 1] and step=0.1, but the range is not divisible by `step`. It will be replaced by [0.01, 0.91].\n",
            "  low=low, old_high=old_high, high=high, step=step\n",
            "\u001b[32m[I 2022-11-16 09:45:15,820]\u001b[0m Trial 30 finished with value: 0.7749459870866194 and parameters: {'penalty': 'l2', 'solver': 'lbfgs', 'C': 0.01}. Best is trial 5 with value: 0.7837290544819175.\u001b[0m\n",
            "/usr/local/lib/python3.7/dist-packages/optuna/distributions.py:671: UserWarning: The distribution is specified by [0.01, 1] and step=0.1, but the range is not divisible by `step`. It will be replaced by [0.01, 0.91].\n",
            "  low=low, old_high=old_high, high=high, step=step\n",
            "\u001b[32m[I 2022-11-16 09:45:30,858]\u001b[0m Trial 31 finished with value: 0.7837290544819175 and parameters: {'penalty': 'l2', 'solver': 'newton-cg', 'C': 0.11}. Best is trial 5 with value: 0.7837290544819175.\u001b[0m\n",
            "/usr/local/lib/python3.7/dist-packages/optuna/distributions.py:671: UserWarning: The distribution is specified by [0.01, 1] and step=0.1, but the range is not divisible by `step`. It will be replaced by [0.01, 0.91].\n",
            "  low=low, old_high=old_high, high=high, step=step\n",
            "\u001b[32m[I 2022-11-16 09:45:44,267]\u001b[0m Trial 32 finished with value: 0.7837290544819175 and parameters: {'penalty': 'l2', 'solver': 'newton-cg', 'C': 0.11}. Best is trial 5 with value: 0.7837290544819175.\u001b[0m\n",
            "/usr/local/lib/python3.7/dist-packages/optuna/distributions.py:671: UserWarning: The distribution is specified by [0.01, 1] and step=0.1, but the range is not divisible by `step`. It will be replaced by [0.01, 0.91].\n",
            "  low=low, old_high=old_high, high=high, step=step\n",
            "\u001b[32m[I 2022-11-16 09:45:56,043]\u001b[0m Trial 33 finished with value: 0.7837290544819175 and parameters: {'penalty': 'l2', 'solver': 'newton-cg', 'C': 0.11}. Best is trial 5 with value: 0.7837290544819175.\u001b[0m\n",
            "/usr/local/lib/python3.7/dist-packages/optuna/distributions.py:671: UserWarning: The distribution is specified by [0.01, 1] and step=0.1, but the range is not divisible by `step`. It will be replaced by [0.01, 0.91].\n",
            "  low=low, old_high=old_high, high=high, step=step\n",
            "/usr/local/lib/python3.7/dist-packages/sklearn/linear_model/_logistic.py:1484: UserWarning: Setting penalty='none' will ignore the C and l1_ratio parameters\n",
            "  \"Setting penalty='none' will ignore the C and l1_ratio parameters\"\n",
            "/usr/local/lib/python3.7/dist-packages/sklearn/utils/optimize.py:212: ConvergenceWarning: newton-cg failed to converge. Increase the number of iterations.\n",
            "  ConvergenceWarning,\n",
            "\u001b[32m[I 2022-11-16 09:50:03,165]\u001b[0m Trial 34 finished with value: 0.7213884309422244 and parameters: {'penalty': 'none', 'solver': 'newton-cg', 'C': 0.01}. Best is trial 5 with value: 0.7837290544819175.\u001b[0m\n",
            "/usr/local/lib/python3.7/dist-packages/optuna/distributions.py:671: UserWarning: The distribution is specified by [0.01, 1] and step=0.1, but the range is not divisible by `step`. It will be replaced by [0.01, 0.91].\n",
            "  low=low, old_high=old_high, high=high, step=step\n",
            "\u001b[32m[I 2022-11-16 09:50:20,398]\u001b[0m Trial 35 finished with value: 0.7803982420461868 and parameters: {'penalty': 'l2', 'solver': 'newton-cg', 'C': 0.21000000000000002}. Best is trial 5 with value: 0.7837290544819175.\u001b[0m\n",
            "/usr/local/lib/python3.7/dist-packages/optuna/distributions.py:671: UserWarning: The distribution is specified by [0.01, 1] and step=0.1, but the range is not divisible by `step`. It will be replaced by [0.01, 0.91].\n",
            "  low=low, old_high=old_high, high=high, step=step\n",
            "\u001b[32m[I 2022-11-16 09:50:35,518]\u001b[0m Trial 36 finished with value: 0.7794872072632637 and parameters: {'penalty': 'l2', 'solver': 'newton-cg', 'C': 0.31000000000000005}. Best is trial 5 with value: 0.7837290544819175.\u001b[0m\n",
            "/usr/local/lib/python3.7/dist-packages/optuna/distributions.py:671: UserWarning: The distribution is specified by [0.01, 1] and step=0.1, but the range is not divisible by `step`. It will be replaced by [0.01, 0.91].\n",
            "  low=low, old_high=old_high, high=high, step=step\n",
            "/usr/local/lib/python3.7/dist-packages/sklearn/linear_model/_logistic.py:1484: UserWarning: Setting penalty='none' will ignore the C and l1_ratio parameters\n",
            "  \"Setting penalty='none' will ignore the C and l1_ratio parameters\"\n",
            "/usr/local/lib/python3.7/dist-packages/sklearn/utils/optimize.py:212: ConvergenceWarning: newton-cg failed to converge. Increase the number of iterations.\n",
            "  ConvergenceWarning,\n",
            "\u001b[32m[I 2022-11-16 09:54:46,914]\u001b[0m Trial 37 finished with value: 0.7213884309422244 and parameters: {'penalty': 'none', 'solver': 'newton-cg', 'C': 0.01}. Best is trial 5 with value: 0.7837290544819175.\u001b[0m\n",
            "/usr/local/lib/python3.7/dist-packages/optuna/distributions.py:671: UserWarning: The distribution is specified by [0.01, 1] and step=0.1, but the range is not divisible by `step`. It will be replaced by [0.01, 0.91].\n",
            "  low=low, old_high=old_high, high=high, step=step\n",
            "\u001b[32m[I 2022-11-16 09:55:01,692]\u001b[0m Trial 38 finished with value: 0.7837290544819175 and parameters: {'penalty': 'l2', 'solver': 'newton-cg', 'C': 0.11}. Best is trial 5 with value: 0.7837290544819175.\u001b[0m\n",
            "/usr/local/lib/python3.7/dist-packages/optuna/distributions.py:671: UserWarning: The distribution is specified by [0.01, 1] and step=0.1, but the range is not divisible by `step`. It will be replaced by [0.01, 0.91].\n",
            "  low=low, old_high=old_high, high=high, step=step\n",
            "/usr/local/lib/python3.7/dist-packages/sklearn/linear_model/_logistic.py:1484: UserWarning: Setting penalty='none' will ignore the C and l1_ratio parameters\n",
            "  \"Setting penalty='none' will ignore the C and l1_ratio parameters\"\n",
            "/usr/local/lib/python3.7/dist-packages/sklearn/utils/optimize.py:212: ConvergenceWarning: newton-cg failed to converge. Increase the number of iterations.\n",
            "  ConvergenceWarning,\n",
            "\u001b[32m[I 2022-11-16 09:59:16,866]\u001b[0m Trial 39 finished with value: 0.7213884309422244 and parameters: {'penalty': 'none', 'solver': 'newton-cg', 'C': 0.41000000000000003}. Best is trial 5 with value: 0.7837290544819175.\u001b[0m\n",
            "/usr/local/lib/python3.7/dist-packages/optuna/distributions.py:671: UserWarning: The distribution is specified by [0.01, 1] and step=0.1, but the range is not divisible by `step`. It will be replaced by [0.01, 0.91].\n",
            "  low=low, old_high=old_high, high=high, step=step\n",
            "\u001b[32m[I 2022-11-16 09:59:35,606]\u001b[0m Trial 40 finished with value: 0.7721107699415347 and parameters: {'penalty': 'l2', 'solver': 'newton-cg', 'C': 0.6100000000000001}. Best is trial 5 with value: 0.7837290544819175.\u001b[0m\n",
            "/usr/local/lib/python3.7/dist-packages/optuna/distributions.py:671: UserWarning: The distribution is specified by [0.01, 1] and step=0.1, but the range is not divisible by `step`. It will be replaced by [0.01, 0.91].\n",
            "  low=low, old_high=old_high, high=high, step=step\n",
            "\u001b[32m[I 2022-11-16 09:59:50,102]\u001b[0m Trial 41 finished with value: 0.7837290544819175 and parameters: {'penalty': 'l2', 'solver': 'newton-cg', 'C': 0.11}. Best is trial 5 with value: 0.7837290544819175.\u001b[0m\n",
            "/usr/local/lib/python3.7/dist-packages/optuna/distributions.py:671: UserWarning: The distribution is specified by [0.01, 1] and step=0.1, but the range is not divisible by `step`. It will be replaced by [0.01, 0.91].\n",
            "  low=low, old_high=old_high, high=high, step=step\n",
            "\u001b[32m[I 2022-11-16 10:00:04,101]\u001b[0m Trial 42 finished with value: 0.7803982420461868 and parameters: {'penalty': 'l2', 'solver': 'newton-cg', 'C': 0.21000000000000002}. Best is trial 5 with value: 0.7837290544819175.\u001b[0m\n",
            "/usr/local/lib/python3.7/dist-packages/optuna/distributions.py:671: UserWarning: The distribution is specified by [0.01, 1] and step=0.1, but the range is not divisible by `step`. It will be replaced by [0.01, 0.91].\n",
            "  low=low, old_high=old_high, high=high, step=step\n",
            "\u001b[32m[I 2022-11-16 10:00:17,717]\u001b[0m Trial 43 finished with value: 0.7837290544819175 and parameters: {'penalty': 'l2', 'solver': 'newton-cg', 'C': 0.11}. Best is trial 5 with value: 0.7837290544819175.\u001b[0m\n",
            "/usr/local/lib/python3.7/dist-packages/optuna/distributions.py:671: UserWarning: The distribution is specified by [0.01, 1] and step=0.1, but the range is not divisible by `step`. It will be replaced by [0.01, 0.91].\n",
            "  low=low, old_high=old_high, high=high, step=step\n",
            "\u001b[32m[I 2022-11-16 10:00:31,852]\u001b[0m Trial 44 finished with value: 0.7837290544819175 and parameters: {'penalty': 'l2', 'solver': 'newton-cg', 'C': 0.11}. Best is trial 5 with value: 0.7837290544819175.\u001b[0m\n",
            "/usr/local/lib/python3.7/dist-packages/optuna/distributions.py:671: UserWarning: The distribution is specified by [0.01, 1] and step=0.1, but the range is not divisible by `step`. It will be replaced by [0.01, 0.91].\n",
            "  low=low, old_high=old_high, high=high, step=step\n",
            "\u001b[32m[I 2022-11-16 10:00:40,728]\u001b[0m Trial 45 finished with value: 0.7749459870866194 and parameters: {'penalty': 'l2', 'solver': 'newton-cg', 'C': 0.01}. Best is trial 5 with value: 0.7837290544819175.\u001b[0m\n",
            "/usr/local/lib/python3.7/dist-packages/optuna/distributions.py:671: UserWarning: The distribution is specified by [0.01, 1] and step=0.1, but the range is not divisible by `step`. It will be replaced by [0.01, 0.91].\n",
            "  low=low, old_high=old_high, high=high, step=step\n",
            "/usr/local/lib/python3.7/dist-packages/sklearn/linear_model/_logistic.py:818: ConvergenceWarning: lbfgs failed to converge (status=1):\n",
            "STOP: TOTAL NO. of ITERATIONS REACHED LIMIT.\n",
            "\n",
            "Increase the number of iterations (max_iter) or scale the data as shown in:\n",
            "    https://scikit-learn.org/stable/modules/preprocessing.html\n",
            "Please also refer to the documentation for alternative solver options:\n",
            "    https://scikit-learn.org/stable/modules/linear_model.html#logistic-regression\n",
            "  extra_warning_msg=_LOGISTIC_SOLVER_CONVERGENCE_MSG,\n",
            "\u001b[32m[I 2022-11-16 10:00:47,261]\u001b[0m Trial 46 finished with value: 0.7716759100571287 and parameters: {'penalty': 'l2', 'solver': 'lbfgs', 'C': 0.81}. Best is trial 5 with value: 0.7837290544819175.\u001b[0m\n",
            "/usr/local/lib/python3.7/dist-packages/optuna/distributions.py:671: UserWarning: The distribution is specified by [0.01, 1] and step=0.1, but the range is not divisible by `step`. It will be replaced by [0.01, 0.91].\n",
            "  low=low, old_high=old_high, high=high, step=step\n",
            "/usr/local/lib/python3.7/dist-packages/sklearn/linear_model/_logistic.py:1484: UserWarning: Setting penalty='none' will ignore the C and l1_ratio parameters\n",
            "  \"Setting penalty='none' will ignore the C and l1_ratio parameters\"\n",
            "/usr/local/lib/python3.7/dist-packages/sklearn/utils/optimize.py:212: ConvergenceWarning: newton-cg failed to converge. Increase the number of iterations.\n",
            "  ConvergenceWarning,\n",
            "\u001b[32m[I 2022-11-16 10:04:51,847]\u001b[0m Trial 47 finished with value: 0.7213884309422244 and parameters: {'penalty': 'none', 'solver': 'newton-cg', 'C': 0.31000000000000005}. Best is trial 5 with value: 0.7837290544819175.\u001b[0m\n",
            "/usr/local/lib/python3.7/dist-packages/optuna/distributions.py:671: UserWarning: The distribution is specified by [0.01, 1] and step=0.1, but the range is not divisible by `step`. It will be replaced by [0.01, 0.91].\n",
            "  low=low, old_high=old_high, high=high, step=step\n",
            "\u001b[32m[I 2022-11-16 10:05:08,171]\u001b[0m Trial 48 finished with value: 0.7803982420461868 and parameters: {'penalty': 'l2', 'solver': 'newton-cg', 'C': 0.21000000000000002}. Best is trial 5 with value: 0.7837290544819175.\u001b[0m\n",
            "/usr/local/lib/python3.7/dist-packages/optuna/distributions.py:671: UserWarning: The distribution is specified by [0.01, 1] and step=0.1, but the range is not divisible by `step`. It will be replaced by [0.01, 0.91].\n",
            "  low=low, old_high=old_high, high=high, step=step\n",
            "\u001b[32m[I 2022-11-16 10:05:16,095]\u001b[0m Trial 49 finished with value: 0.7749459870866194 and parameters: {'penalty': 'l2', 'solver': 'newton-cg', 'C': 0.01}. Best is trial 5 with value: 0.7837290544819175.\u001b[0m\n"
          ]
        },
        {
          "name": "stdout",
          "output_type": "stream",
          "text": [
            "CPU times: user 25min 1s, sys: 1min 43s, total: 26min 45s\n",
            "Wall time: 51min 20s\n"
          ]
        }
      ],
      "source": [
        "%%time\n",
        "\n",
        "study = optuna.create_study(study_name='LogisticRegression', direction='maximize')\n",
        "\n",
        "study.optimize(optuna_lr, n_trials= 50)"
      ]
    },
    {
      "cell_type": "code",
      "execution_count": 36,
      "metadata": {
        "id": "bnUcFgA1K-ht"
      },
      "outputs": [],
      "source": [
        "model = linear_model.LogisticRegression(**study.best_params, random_state=random_state)\n",
        "model.fit(X_train, y_train)\n",
        "\n",
        "y_pred_optuna_lr = model.predict(X_test)\n",
        "\n",
        "f1_optuna_lr = metrics.f1_score(y_test, y_pred_optuna_lr)"
      ]
    },
    {
      "cell_type": "code",
      "execution_count": 37,
      "metadata": {
        "colab": {
          "base_uri": "https://localhost:8080/"
        },
        "id": "Ydq3nNrrNu0Z",
        "outputId": "aaa6719e-020b-4156-e3d9-8b5828e134af"
      },
      "outputs": [
        {
          "name": "stdout",
          "output_type": "stream",
          "text": [
            "F1-score на Baseline для логистической регресии равен 0.79\n",
            "F1-score на Optuna для логистической регресии равен 0.79\n"
          ]
        }
      ],
      "source": [
        "#Сравним результат с BaseLine\n",
        "print('F1-score на Baseline для логистической регресии равен {:.2f}'.format(f1_logReg_base))\n",
        "print('F1-score на Optuna для логистической регресии равен {:.2f}'.format(f1_optuna_lr))"
      ]
    },
    {
      "cell_type": "markdown",
      "metadata": {
        "id": "0kYw6NQ0NyZC"
      },
      "source": [
        "Случайный лес"
      ]
    },
    {
      "cell_type": "code",
      "execution_count": 38,
      "metadata": {
        "id": "PtSS31XcNwoz"
      },
      "outputs": [],
      "source": [
        "def optuna_rf(trial):\n",
        "    n_estimators =  trial.suggest_int('n_estimators', 80, 200, 1)\n",
        "    max_depth = trial.suggest_int('max_depth', 1, 30, 1)\n",
        "    min_samples_leaf = trial.suggest_int('min_samples_leaf', 5, 25, 1)\n",
        "    \n",
        "    model = ensemble.RandomForestClassifier(\n",
        "        n_estimators = n_estimators,\n",
        "        max_depth = max_depth,\n",
        "        min_samples_leaf = min_samples_leaf,\n",
        "        random_state = random_state \n",
        "    )\n",
        "    \n",
        "    model.fit(X_train, y_train)\n",
        "    score = cross_val_score(model, X_train, y_train, cv = 5, scoring = 'f1', n_jobs= -1).mean()\n",
        "    \n",
        "    return score"
      ]
    },
    {
      "cell_type": "code",
      "execution_count": 39,
      "metadata": {
        "colab": {
          "base_uri": "https://localhost:8080/"
        },
        "id": "2eu7HpfsN0sU",
        "outputId": "f743a187-ad6c-493a-f49d-bd869e232005"
      },
      "outputs": [
        {
          "name": "stderr",
          "output_type": "stream",
          "text": [
            "\u001b[32m[I 2022-11-16 10:05:19,887]\u001b[0m A new study created in memory with name: RandomForestClassification\u001b[0m\n",
            "\u001b[32m[I 2022-11-16 10:05:25,988]\u001b[0m Trial 0 finished with value: 0.7715536235447596 and parameters: {'n_estimators': 115, 'max_depth': 26, 'min_samples_leaf': 21}. Best is trial 0 with value: 0.7715536235447596.\u001b[0m\n",
            "\u001b[32m[I 2022-11-16 10:05:28,173]\u001b[0m Trial 1 finished with value: 0.7265528869608301 and parameters: {'n_estimators': 96, 'max_depth': 2, 'min_samples_leaf': 19}. Best is trial 0 with value: 0.7715536235447596.\u001b[0m\n",
            "\u001b[32m[I 2022-11-16 10:05:35,325]\u001b[0m Trial 2 finished with value: 0.7726968938159083 and parameters: {'n_estimators': 157, 'max_depth': 18, 'min_samples_leaf': 23}. Best is trial 2 with value: 0.7726968938159083.\u001b[0m\n",
            "\u001b[32m[I 2022-11-16 10:05:39,828]\u001b[0m Trial 3 finished with value: 0.7763241768638831 and parameters: {'n_estimators': 88, 'max_depth': 17, 'min_samples_leaf': 18}. Best is trial 3 with value: 0.7763241768638831.\u001b[0m\n",
            "\u001b[32m[I 2022-11-16 10:05:47,398]\u001b[0m Trial 4 finished with value: 0.7814270048828271 and parameters: {'n_estimators': 155, 'max_depth': 17, 'min_samples_leaf': 17}. Best is trial 4 with value: 0.7814270048828271.\u001b[0m\n",
            "\u001b[32m[I 2022-11-16 10:05:51,864]\u001b[0m Trial 5 finished with value: 0.7852228773418288 and parameters: {'n_estimators': 84, 'max_depth': 21, 'min_samples_leaf': 13}. Best is trial 5 with value: 0.7852228773418288.\u001b[0m\n",
            "\u001b[32m[I 2022-11-16 10:05:58,820]\u001b[0m Trial 6 finished with value: 0.7810836919253239 and parameters: {'n_estimators': 148, 'max_depth': 19, 'min_samples_leaf': 18}. Best is trial 5 with value: 0.7852228773418288.\u001b[0m\n",
            "\u001b[32m[I 2022-11-16 10:06:05,568]\u001b[0m Trial 7 finished with value: 0.7838279923285222 and parameters: {'n_estimators': 123, 'max_depth': 23, 'min_samples_leaf': 14}. Best is trial 5 with value: 0.7852228773418288.\u001b[0m\n",
            "\u001b[32m[I 2022-11-16 10:06:11,340]\u001b[0m Trial 8 finished with value: 0.7749127058260044 and parameters: {'n_estimators': 113, 'max_depth': 13, 'min_samples_leaf': 23}. Best is trial 5 with value: 0.7852228773418288.\u001b[0m\n",
            "\u001b[32m[I 2022-11-16 10:06:19,714]\u001b[0m Trial 9 finished with value: 0.7672851538337373 and parameters: {'n_estimators': 191, 'max_depth': 7, 'min_samples_leaf': 13}. Best is trial 5 with value: 0.7852228773418288.\u001b[0m\n",
            "\u001b[32m[I 2022-11-16 10:06:32,447]\u001b[0m Trial 10 finished with value: 0.7991979147306016 and parameters: {'n_estimators': 198, 'max_depth': 30, 'min_samples_leaf': 7}. Best is trial 10 with value: 0.7991979147306016.\u001b[0m\n",
            "\u001b[32m[I 2022-11-16 10:06:45,141]\u001b[0m Trial 11 finished with value: 0.7988139400619344 and parameters: {'n_estimators': 197, 'max_depth': 28, 'min_samples_leaf': 6}. Best is trial 10 with value: 0.7991979147306016.\u001b[0m\n",
            "\u001b[32m[I 2022-11-16 10:06:56,791]\u001b[0m Trial 12 finished with value: 0.7985766075441063 and parameters: {'n_estimators': 190, 'max_depth': 30, 'min_samples_leaf': 7}. Best is trial 10 with value: 0.7991979147306016.\u001b[0m\n",
            "\u001b[32m[I 2022-11-16 10:07:08,195]\u001b[0m Trial 13 finished with value: 0.7974356514053134 and parameters: {'n_estimators': 175, 'max_depth': 30, 'min_samples_leaf': 6}. Best is trial 10 with value: 0.7991979147306016.\u001b[0m\n",
            "\u001b[32m[I 2022-11-16 10:07:19,960]\u001b[0m Trial 14 finished with value: 0.7951302158587147 and parameters: {'n_estimators': 199, 'max_depth': 26, 'min_samples_leaf': 9}. Best is trial 10 with value: 0.7991979147306016.\u001b[0m\n",
            "\u001b[32m[I 2022-11-16 10:07:29,813]\u001b[0m Trial 15 finished with value: 0.7877723263918918 and parameters: {'n_estimators': 173, 'max_depth': 12, 'min_samples_leaf': 10}. Best is trial 10 with value: 0.7991979147306016.\u001b[0m\n",
            "\u001b[32m[I 2022-11-16 10:07:40,723]\u001b[0m Trial 16 finished with value: 0.8020111072311635 and parameters: {'n_estimators': 176, 'max_depth': 26, 'min_samples_leaf': 5}. Best is trial 16 with value: 0.8020111072311635.\u001b[0m\n",
            "\u001b[32m[I 2022-11-16 10:07:51,297]\u001b[0m Trial 17 finished with value: 0.7947413830985143 and parameters: {'n_estimators': 172, 'max_depth': 25, 'min_samples_leaf': 9}. Best is trial 16 with value: 0.8020111072311635.\u001b[0m\n",
            "\u001b[32m[I 2022-11-16 10:08:03,166]\u001b[0m Trial 18 finished with value: 0.8026173358307769 and parameters: {'n_estimators': 180, 'max_depth': 22, 'min_samples_leaf': 5}. Best is trial 18 with value: 0.8026173358307769.\u001b[0m\n",
            "\u001b[32m[I 2022-11-16 10:08:12,441]\u001b[0m Trial 19 finished with value: 0.8020057640620643 and parameters: {'n_estimators': 135, 'max_depth': 22, 'min_samples_leaf': 5}. Best is trial 18 with value: 0.8026173358307769.\u001b[0m\n",
            "\u001b[32m[I 2022-11-16 10:08:22,060]\u001b[0m Trial 20 finished with value: 0.7873880644963205 and parameters: {'n_estimators': 182, 'max_depth': 14, 'min_samples_leaf': 11}. Best is trial 18 with value: 0.8026173358307769.\u001b[0m\n",
            "\u001b[32m[I 2022-11-16 10:08:32,862]\u001b[0m Trial 21 finished with value: 0.8024721136070327 and parameters: {'n_estimators': 133, 'max_depth': 22, 'min_samples_leaf': 5}. Best is trial 18 with value: 0.8026173358307769.\u001b[0m\n",
            "\u001b[32m[I 2022-11-16 10:08:44,165]\u001b[0m Trial 22 finished with value: 0.8002369386193993 and parameters: {'n_estimators': 162, 'max_depth': 24, 'min_samples_leaf': 5}. Best is trial 18 with value: 0.8026173358307769.\u001b[0m\n",
            "\u001b[32m[I 2022-11-16 10:08:52,462]\u001b[0m Trial 23 finished with value: 0.7981873770891458 and parameters: {'n_estimators': 137, 'max_depth': 20, 'min_samples_leaf': 8}. Best is trial 18 with value: 0.8026173358307769.\u001b[0m\n",
            "\u001b[32m[I 2022-11-16 10:09:02,730]\u001b[0m Trial 24 finished with value: 0.8031220331059327 and parameters: {'n_estimators': 147, 'max_depth': 22, 'min_samples_leaf': 5}. Best is trial 24 with value: 0.8031220331059327.\u001b[0m\n",
            "\u001b[32m[I 2022-11-16 10:09:09,981]\u001b[0m Trial 25 finished with value: 0.7812592079861543 and parameters: {'n_estimators': 129, 'max_depth': 11, 'min_samples_leaf': 11}. Best is trial 24 with value: 0.8031220331059327.\u001b[0m\n",
            "\u001b[32m[I 2022-11-16 10:09:19,158]\u001b[0m Trial 26 finished with value: 0.7955904652172145 and parameters: {'n_estimators': 145, 'max_depth': 21, 'min_samples_leaf': 8}. Best is trial 24 with value: 0.8031220331059327.\u001b[0m\n",
            "\u001b[32m[I 2022-11-16 10:09:24,338]\u001b[0m Trial 27 finished with value: 0.7735835911222456 and parameters: {'n_estimators': 107, 'max_depth': 15, 'min_samples_leaf': 25}. Best is trial 24 with value: 0.8031220331059327.\u001b[0m\n",
            "\u001b[32m[I 2022-11-16 10:09:34,548]\u001b[0m Trial 28 finished with value: 0.8024409753927652 and parameters: {'n_estimators': 163, 'max_depth': 24, 'min_samples_leaf': 7}. Best is trial 24 with value: 0.8031220331059327.\u001b[0m\n",
            "\u001b[32m[I 2022-11-16 10:09:44,975]\u001b[0m Trial 29 finished with value: 0.7673112711727853 and parameters: {'n_estimators': 122, 'max_depth': 9, 'min_samples_leaf': 16}. Best is trial 24 with value: 0.8031220331059327.\u001b[0m\n",
            "\u001b[32m[I 2022-11-16 10:09:54,893]\u001b[0m Trial 30 finished with value: 0.7859337624040714 and parameters: {'n_estimators': 144, 'max_depth': 27, 'min_samples_leaf': 11}. Best is trial 24 with value: 0.8031220331059327.\u001b[0m\n",
            "\u001b[32m[I 2022-11-16 10:10:06,039]\u001b[0m Trial 31 finished with value: 0.8012252672486806 and parameters: {'n_estimators': 166, 'max_depth': 23, 'min_samples_leaf': 7}. Best is trial 24 with value: 0.8031220331059327.\u001b[0m\n",
            "\u001b[32m[I 2022-11-16 10:10:16,165]\u001b[0m Trial 32 finished with value: 0.8011869605579628 and parameters: {'n_estimators': 153, 'max_depth': 24, 'min_samples_leaf': 5}. Best is trial 24 with value: 0.8031220331059327.\u001b[0m\n",
            "\u001b[32m[I 2022-11-16 10:10:27,352]\u001b[0m Trial 33 finished with value: 0.7987609279467821 and parameters: {'n_estimators': 166, 'max_depth': 19, 'min_samples_leaf': 6}. Best is trial 24 with value: 0.8031220331059327.\u001b[0m\n",
            "\u001b[32m[I 2022-11-16 10:10:32,065]\u001b[0m Trial 34 finished with value: 0.7243884774714836 and parameters: {'n_estimators': 160, 'max_depth': 2, 'min_samples_leaf': 8}. Best is trial 24 with value: 0.8031220331059327.\u001b[0m\n",
            "\u001b[32m[I 2022-11-16 10:10:43,350]\u001b[0m Trial 35 finished with value: 0.7760173348699432 and parameters: {'n_estimators': 151, 'max_depth': 16, 'min_samples_leaf': 20}. Best is trial 24 with value: 0.8031220331059327.\u001b[0m\n",
            "\u001b[32m[I 2022-11-16 10:10:53,885]\u001b[0m Trial 36 finished with value: 0.7913966036828504 and parameters: {'n_estimators': 181, 'max_depth': 28, 'min_samples_leaf': 9}. Best is trial 24 with value: 0.8031220331059327.\u001b[0m\n",
            "\u001b[32m[I 2022-11-16 10:11:01,390]\u001b[0m Trial 37 finished with value: 0.7959261717855551 and parameters: {'n_estimators': 100, 'max_depth': 18, 'min_samples_leaf': 6}. Best is trial 24 with value: 0.8031220331059327.\u001b[0m\n",
            "\u001b[32m[I 2022-11-16 10:11:09,590]\u001b[0m Trial 38 finished with value: 0.8015450468715436 and parameters: {'n_estimators': 125, 'max_depth': 22, 'min_samples_leaf': 5}. Best is trial 24 with value: 0.8031220331059327.\u001b[0m\n",
            "\u001b[32m[I 2022-11-16 10:11:17,714]\u001b[0m Trial 39 finished with value: 0.7976877301023733 and parameters: {'n_estimators': 131, 'max_depth': 21, 'min_samples_leaf': 7}. Best is trial 24 with value: 0.8031220331059327.\u001b[0m\n",
            "\u001b[32m[I 2022-11-16 10:11:26,322]\u001b[0m Trial 40 finished with value: 0.7850713641182505 and parameters: {'n_estimators': 144, 'max_depth': 17, 'min_samples_leaf': 13}. Best is trial 24 with value: 0.8031220331059327.\u001b[0m\n",
            "\u001b[32m[I 2022-11-16 10:11:40,315]\u001b[0m Trial 41 finished with value: 0.8028835776561293 and parameters: {'n_estimators': 183, 'max_depth': 26, 'min_samples_leaf': 5}. Best is trial 24 with value: 0.8031220331059327.\u001b[0m\n",
            "\u001b[32m[I 2022-11-16 10:11:53,652]\u001b[0m Trial 42 finished with value: 0.7984506306641999 and parameters: {'n_estimators': 186, 'max_depth': 24, 'min_samples_leaf': 6}. Best is trial 24 with value: 0.8031220331059327.\u001b[0m\n",
            "\u001b[32m[I 2022-11-16 10:12:04,014]\u001b[0m Trial 43 finished with value: 0.8005822651590808 and parameters: {'n_estimators': 157, 'max_depth': 28, 'min_samples_leaf': 7}. Best is trial 24 with value: 0.8031220331059327.\u001b[0m\n",
            "\u001b[32m[I 2022-11-16 10:12:16,454]\u001b[0m Trial 44 finished with value: 0.7998699883238574 and parameters: {'n_estimators': 167, 'max_depth': 19, 'min_samples_leaf': 5}. Best is trial 24 with value: 0.8031220331059327.\u001b[0m\n",
            "\u001b[32m[I 2022-11-16 10:12:27,997]\u001b[0m Trial 45 finished with value: 0.7974604137801115 and parameters: {'n_estimators': 181, 'max_depth': 23, 'min_samples_leaf': 8}. Best is trial 24 with value: 0.8031220331059327.\u001b[0m\n",
            "\u001b[32m[I 2022-11-16 10:12:40,998]\u001b[0m Trial 46 finished with value: 0.7986222533812016 and parameters: {'n_estimators': 192, 'max_depth': 25, 'min_samples_leaf': 6}. Best is trial 24 with value: 0.8031220331059327.\u001b[0m\n",
            "\u001b[32m[I 2022-11-16 10:12:49,017]\u001b[0m Trial 47 finished with value: 0.7820313869219587 and parameters: {'n_estimators': 150, 'max_depth': 21, 'min_samples_leaf': 15}. Best is trial 24 with value: 0.8031220331059327.\u001b[0m\n",
            "\u001b[32m[I 2022-11-16 10:12:57,356]\u001b[0m Trial 48 finished with value: 0.7889794544351711 and parameters: {'n_estimators': 140, 'max_depth': 27, 'min_samples_leaf': 10}. Best is trial 24 with value: 0.8031220331059327.\u001b[0m\n",
            "\u001b[32m[I 2022-11-16 10:13:08,931]\u001b[0m Trial 49 finished with value: 0.8009418311045859 and parameters: {'n_estimators': 171, 'max_depth': 25, 'min_samples_leaf': 7}. Best is trial 24 with value: 0.8031220331059327.\u001b[0m\n"
          ]
        },
        {
          "name": "stdout",
          "output_type": "stream",
          "text": [
            "CPU times: user 1min 56s, sys: 2.24 s, total: 1min 58s\n",
            "Wall time: 7min 49s\n"
          ]
        }
      ],
      "source": [
        "%%time\n",
        "\n",
        "study = optuna.create_study(study_name='RandomForestClassification', direction='maximize')\n",
        "\n",
        "study.optimize(optuna_rf, n_trials= 50)"
      ]
    },
    {
      "cell_type": "code",
      "execution_count": 40,
      "metadata": {
        "id": "mde-euWSN2Qt"
      },
      "outputs": [],
      "source": [
        "model = ensemble.RandomForestClassifier(**study.best_params, random_state=random_state)\n",
        "\n",
        "model.fit(X_train, y_train)\n",
        "\n",
        "y_pred_optuna_rf = model.predict(X_test)\n",
        "\n",
        "f1_optuna_rf = metrics.f1_score(y_test, y_pred_optuna_rf)"
      ]
    },
    {
      "cell_type": "code",
      "execution_count": 41,
      "metadata": {
        "colab": {
          "base_uri": "https://localhost:8080/"
        },
        "id": "m0NagJvuPRou",
        "outputId": "e9a5faa1-66e5-48dd-dca0-0bc28e660a65"
      },
      "outputs": [
        {
          "name": "stdout",
          "output_type": "stream",
          "text": [
            "F1-score на Baseline для Случайного леса равен 0.83\n",
            "F1-score на Optuna для Случайного леса равен 0.84\n"
          ]
        }
      ],
      "source": [
        "#Сравним результат с BaseLine\n",
        "print('F1-score на Baseline для Случайного леса равен {:.2f}'.format(f1_rf_base))\n",
        "print('F1-score на Optuna для Случайного леса равен {:.2f}'.format(f1_optuna_rf))"
      ]
    },
    {
      "cell_type": "code",
      "execution_count": 45,
      "metadata": {
        "colab": {
          "base_uri": "https://localhost:8080/",
          "height": 542
        },
        "id": "PLYIJOHI6oBT",
        "outputId": "8afd0fff-3e58-4d2c-e484-bdc286cce2fe"
      },
      "outputs": [
        {
          "data": {
            "text/html": [
              "<html>\n",
              "<head><meta charset=\"utf-8\" /></head>\n",
              "<body>\n",
              "    <div>            <script src=\"https://cdnjs.cloudflare.com/ajax/libs/mathjax/2.7.5/MathJax.js?config=TeX-AMS-MML_SVG\"></script><script type=\"text/javascript\">if (window.MathJax) {MathJax.Hub.Config({SVG: {font: \"STIX-Web\"}});}</script>                <script type=\"text/javascript\">window.PlotlyConfig = {MathJaxConfig: 'local'};</script>\n",
              "        <script src=\"https://cdn.plot.ly/plotly-2.8.3.min.js\"></script>                <div id=\"80a0af53-763c-4124-8a4e-44378ce07c45\" class=\"plotly-graph-div\" style=\"height:525px; width:100%;\"></div>            <script type=\"text/javascript\">                                    window.PLOTLYENV=window.PLOTLYENV || {};                                    if (document.getElementById(\"80a0af53-763c-4124-8a4e-44378ce07c45\")) {                    Plotly.newPlot(                        \"80a0af53-763c-4124-8a4e-44378ce07c45\",                        [{\"mode\":\"markers\",\"name\":\"F1-score\",\"x\":[0,1,2,3,4,5,6,7,8,9,10,11,12,13,14,15,16,17,18,19,20,21,22,23,24,25,26,27,28,29,30,31,32,33,34,35,36,37,38,39,40,41,42,43,44,45,46,47,48,49],\"y\":[0.7715536235447596,0.7265528869608301,0.7726968938159083,0.7763241768638831,0.7814270048828271,0.7852228773418288,0.7810836919253239,0.7838279923285222,0.7749127058260044,0.7672851538337373,0.7991979147306016,0.7988139400619344,0.7985766075441063,0.7974356514053134,0.7951302158587147,0.7877723263918918,0.8020111072311635,0.7947413830985143,0.8026173358307769,0.8020057640620643,0.7873880644963205,0.8024721136070327,0.8002369386193993,0.7981873770891458,0.8031220331059327,0.7812592079861543,0.7955904652172145,0.7735835911222456,0.8024409753927652,0.7673112711727853,0.7859337624040714,0.8012252672486806,0.8011869605579628,0.7987609279467821,0.7243884774714836,0.7760173348699432,0.7913966036828504,0.7959261717855551,0.8015450468715436,0.7976877301023733,0.7850713641182505,0.8028835776561293,0.7984506306641999,0.8005822651590808,0.7998699883238574,0.7974604137801115,0.7986222533812016,0.7820313869219587,0.7889794544351711,0.8009418311045859],\"type\":\"scatter\"},{\"name\":\"Best Value\",\"x\":[0,1,2,3,4,5,6,7,8,9,10,11,12,13,14,15,16,17,18,19,20,21,22,23,24,25,26,27,28,29,30,31,32,33,34,35,36,37,38,39,40,41,42,43,44,45,46,47,48,49],\"y\":[0.7715536235447596,0.7715536235447596,0.7726968938159083,0.7763241768638831,0.7814270048828271,0.7852228773418288,0.7852228773418288,0.7852228773418288,0.7852228773418288,0.7852228773418288,0.7991979147306016,0.7991979147306016,0.7991979147306016,0.7991979147306016,0.7991979147306016,0.7991979147306016,0.8020111072311635,0.8020111072311635,0.8026173358307769,0.8026173358307769,0.8026173358307769,0.8026173358307769,0.8026173358307769,0.8026173358307769,0.8031220331059327,0.8031220331059327,0.8031220331059327,0.8031220331059327,0.8031220331059327,0.8031220331059327,0.8031220331059327,0.8031220331059327,0.8031220331059327,0.8031220331059327,0.8031220331059327,0.8031220331059327,0.8031220331059327,0.8031220331059327,0.8031220331059327,0.8031220331059327,0.8031220331059327,0.8031220331059327,0.8031220331059327,0.8031220331059327,0.8031220331059327,0.8031220331059327,0.8031220331059327,0.8031220331059327,0.8031220331059327,0.8031220331059327],\"type\":\"scatter\"}],                        {\"title\":{\"text\":\"Optimization History Plot\"},\"xaxis\":{\"title\":{\"text\":\"Trial\"}},\"yaxis\":{\"title\":{\"text\":\"F1-score\"}},\"template\":{\"data\":{\"bar\":[{\"error_x\":{\"color\":\"#2a3f5f\"},\"error_y\":{\"color\":\"#2a3f5f\"},\"marker\":{\"line\":{\"color\":\"#E5ECF6\",\"width\":0.5},\"pattern\":{\"fillmode\":\"overlay\",\"size\":10,\"solidity\":0.2}},\"type\":\"bar\"}],\"barpolar\":[{\"marker\":{\"line\":{\"color\":\"#E5ECF6\",\"width\":0.5},\"pattern\":{\"fillmode\":\"overlay\",\"size\":10,\"solidity\":0.2}},\"type\":\"barpolar\"}],\"carpet\":[{\"aaxis\":{\"endlinecolor\":\"#2a3f5f\",\"gridcolor\":\"white\",\"linecolor\":\"white\",\"minorgridcolor\":\"white\",\"startlinecolor\":\"#2a3f5f\"},\"baxis\":{\"endlinecolor\":\"#2a3f5f\",\"gridcolor\":\"white\",\"linecolor\":\"white\",\"minorgridcolor\":\"white\",\"startlinecolor\":\"#2a3f5f\"},\"type\":\"carpet\"}],\"choropleth\":[{\"colorbar\":{\"outlinewidth\":0,\"ticks\":\"\"},\"type\":\"choropleth\"}],\"contour\":[{\"colorbar\":{\"outlinewidth\":0,\"ticks\":\"\"},\"colorscale\":[[0.0,\"#0d0887\"],[0.1111111111111111,\"#46039f\"],[0.2222222222222222,\"#7201a8\"],[0.3333333333333333,\"#9c179e\"],[0.4444444444444444,\"#bd3786\"],[0.5555555555555556,\"#d8576b\"],[0.6666666666666666,\"#ed7953\"],[0.7777777777777778,\"#fb9f3a\"],[0.8888888888888888,\"#fdca26\"],[1.0,\"#f0f921\"]],\"type\":\"contour\"}],\"contourcarpet\":[{\"colorbar\":{\"outlinewidth\":0,\"ticks\":\"\"},\"type\":\"contourcarpet\"}],\"heatmap\":[{\"colorbar\":{\"outlinewidth\":0,\"ticks\":\"\"},\"colorscale\":[[0.0,\"#0d0887\"],[0.1111111111111111,\"#46039f\"],[0.2222222222222222,\"#7201a8\"],[0.3333333333333333,\"#9c179e\"],[0.4444444444444444,\"#bd3786\"],[0.5555555555555556,\"#d8576b\"],[0.6666666666666666,\"#ed7953\"],[0.7777777777777778,\"#fb9f3a\"],[0.8888888888888888,\"#fdca26\"],[1.0,\"#f0f921\"]],\"type\":\"heatmap\"}],\"heatmapgl\":[{\"colorbar\":{\"outlinewidth\":0,\"ticks\":\"\"},\"colorscale\":[[0.0,\"#0d0887\"],[0.1111111111111111,\"#46039f\"],[0.2222222222222222,\"#7201a8\"],[0.3333333333333333,\"#9c179e\"],[0.4444444444444444,\"#bd3786\"],[0.5555555555555556,\"#d8576b\"],[0.6666666666666666,\"#ed7953\"],[0.7777777777777778,\"#fb9f3a\"],[0.8888888888888888,\"#fdca26\"],[1.0,\"#f0f921\"]],\"type\":\"heatmapgl\"}],\"histogram\":[{\"marker\":{\"pattern\":{\"fillmode\":\"overlay\",\"size\":10,\"solidity\":0.2}},\"type\":\"histogram\"}],\"histogram2d\":[{\"colorbar\":{\"outlinewidth\":0,\"ticks\":\"\"},\"colorscale\":[[0.0,\"#0d0887\"],[0.1111111111111111,\"#46039f\"],[0.2222222222222222,\"#7201a8\"],[0.3333333333333333,\"#9c179e\"],[0.4444444444444444,\"#bd3786\"],[0.5555555555555556,\"#d8576b\"],[0.6666666666666666,\"#ed7953\"],[0.7777777777777778,\"#fb9f3a\"],[0.8888888888888888,\"#fdca26\"],[1.0,\"#f0f921\"]],\"type\":\"histogram2d\"}],\"histogram2dcontour\":[{\"colorbar\":{\"outlinewidth\":0,\"ticks\":\"\"},\"colorscale\":[[0.0,\"#0d0887\"],[0.1111111111111111,\"#46039f\"],[0.2222222222222222,\"#7201a8\"],[0.3333333333333333,\"#9c179e\"],[0.4444444444444444,\"#bd3786\"],[0.5555555555555556,\"#d8576b\"],[0.6666666666666666,\"#ed7953\"],[0.7777777777777778,\"#fb9f3a\"],[0.8888888888888888,\"#fdca26\"],[1.0,\"#f0f921\"]],\"type\":\"histogram2dcontour\"}],\"mesh3d\":[{\"colorbar\":{\"outlinewidth\":0,\"ticks\":\"\"},\"type\":\"mesh3d\"}],\"parcoords\":[{\"line\":{\"colorbar\":{\"outlinewidth\":0,\"ticks\":\"\"}},\"type\":\"parcoords\"}],\"pie\":[{\"automargin\":true,\"type\":\"pie\"}],\"scatter\":[{\"marker\":{\"colorbar\":{\"outlinewidth\":0,\"ticks\":\"\"}},\"type\":\"scatter\"}],\"scatter3d\":[{\"line\":{\"colorbar\":{\"outlinewidth\":0,\"ticks\":\"\"}},\"marker\":{\"colorbar\":{\"outlinewidth\":0,\"ticks\":\"\"}},\"type\":\"scatter3d\"}],\"scattercarpet\":[{\"marker\":{\"colorbar\":{\"outlinewidth\":0,\"ticks\":\"\"}},\"type\":\"scattercarpet\"}],\"scattergeo\":[{\"marker\":{\"colorbar\":{\"outlinewidth\":0,\"ticks\":\"\"}},\"type\":\"scattergeo\"}],\"scattergl\":[{\"marker\":{\"colorbar\":{\"outlinewidth\":0,\"ticks\":\"\"}},\"type\":\"scattergl\"}],\"scattermapbox\":[{\"marker\":{\"colorbar\":{\"outlinewidth\":0,\"ticks\":\"\"}},\"type\":\"scattermapbox\"}],\"scatterpolar\":[{\"marker\":{\"colorbar\":{\"outlinewidth\":0,\"ticks\":\"\"}},\"type\":\"scatterpolar\"}],\"scatterpolargl\":[{\"marker\":{\"colorbar\":{\"outlinewidth\":0,\"ticks\":\"\"}},\"type\":\"scatterpolargl\"}],\"scatterternary\":[{\"marker\":{\"colorbar\":{\"outlinewidth\":0,\"ticks\":\"\"}},\"type\":\"scatterternary\"}],\"surface\":[{\"colorbar\":{\"outlinewidth\":0,\"ticks\":\"\"},\"colorscale\":[[0.0,\"#0d0887\"],[0.1111111111111111,\"#46039f\"],[0.2222222222222222,\"#7201a8\"],[0.3333333333333333,\"#9c179e\"],[0.4444444444444444,\"#bd3786\"],[0.5555555555555556,\"#d8576b\"],[0.6666666666666666,\"#ed7953\"],[0.7777777777777778,\"#fb9f3a\"],[0.8888888888888888,\"#fdca26\"],[1.0,\"#f0f921\"]],\"type\":\"surface\"}],\"table\":[{\"cells\":{\"fill\":{\"color\":\"#EBF0F8\"},\"line\":{\"color\":\"white\"}},\"header\":{\"fill\":{\"color\":\"#C8D4E3\"},\"line\":{\"color\":\"white\"}},\"type\":\"table\"}]},\"layout\":{\"annotationdefaults\":{\"arrowcolor\":\"#2a3f5f\",\"arrowhead\":0,\"arrowwidth\":1},\"autotypenumbers\":\"strict\",\"coloraxis\":{\"colorbar\":{\"outlinewidth\":0,\"ticks\":\"\"}},\"colorscale\":{\"diverging\":[[0,\"#8e0152\"],[0.1,\"#c51b7d\"],[0.2,\"#de77ae\"],[0.3,\"#f1b6da\"],[0.4,\"#fde0ef\"],[0.5,\"#f7f7f7\"],[0.6,\"#e6f5d0\"],[0.7,\"#b8e186\"],[0.8,\"#7fbc41\"],[0.9,\"#4d9221\"],[1,\"#276419\"]],\"sequential\":[[0.0,\"#0d0887\"],[0.1111111111111111,\"#46039f\"],[0.2222222222222222,\"#7201a8\"],[0.3333333333333333,\"#9c179e\"],[0.4444444444444444,\"#bd3786\"],[0.5555555555555556,\"#d8576b\"],[0.6666666666666666,\"#ed7953\"],[0.7777777777777778,\"#fb9f3a\"],[0.8888888888888888,\"#fdca26\"],[1.0,\"#f0f921\"]],\"sequentialminus\":[[0.0,\"#0d0887\"],[0.1111111111111111,\"#46039f\"],[0.2222222222222222,\"#7201a8\"],[0.3333333333333333,\"#9c179e\"],[0.4444444444444444,\"#bd3786\"],[0.5555555555555556,\"#d8576b\"],[0.6666666666666666,\"#ed7953\"],[0.7777777777777778,\"#fb9f3a\"],[0.8888888888888888,\"#fdca26\"],[1.0,\"#f0f921\"]]},\"colorway\":[\"#636efa\",\"#EF553B\",\"#00cc96\",\"#ab63fa\",\"#FFA15A\",\"#19d3f3\",\"#FF6692\",\"#B6E880\",\"#FF97FF\",\"#FECB52\"],\"font\":{\"color\":\"#2a3f5f\"},\"geo\":{\"bgcolor\":\"white\",\"lakecolor\":\"white\",\"landcolor\":\"#E5ECF6\",\"showlakes\":true,\"showland\":true,\"subunitcolor\":\"white\"},\"hoverlabel\":{\"align\":\"left\"},\"hovermode\":\"closest\",\"mapbox\":{\"style\":\"light\"},\"paper_bgcolor\":\"white\",\"plot_bgcolor\":\"#E5ECF6\",\"polar\":{\"angularaxis\":{\"gridcolor\":\"white\",\"linecolor\":\"white\",\"ticks\":\"\"},\"bgcolor\":\"#E5ECF6\",\"radialaxis\":{\"gridcolor\":\"white\",\"linecolor\":\"white\",\"ticks\":\"\"}},\"scene\":{\"xaxis\":{\"backgroundcolor\":\"#E5ECF6\",\"gridcolor\":\"white\",\"gridwidth\":2,\"linecolor\":\"white\",\"showbackground\":true,\"ticks\":\"\",\"zerolinecolor\":\"white\"},\"yaxis\":{\"backgroundcolor\":\"#E5ECF6\",\"gridcolor\":\"white\",\"gridwidth\":2,\"linecolor\":\"white\",\"showbackground\":true,\"ticks\":\"\",\"zerolinecolor\":\"white\"},\"zaxis\":{\"backgroundcolor\":\"#E5ECF6\",\"gridcolor\":\"white\",\"gridwidth\":2,\"linecolor\":\"white\",\"showbackground\":true,\"ticks\":\"\",\"zerolinecolor\":\"white\"}},\"shapedefaults\":{\"line\":{\"color\":\"#2a3f5f\"}},\"ternary\":{\"aaxis\":{\"gridcolor\":\"white\",\"linecolor\":\"white\",\"ticks\":\"\"},\"baxis\":{\"gridcolor\":\"white\",\"linecolor\":\"white\",\"ticks\":\"\"},\"bgcolor\":\"#E5ECF6\",\"caxis\":{\"gridcolor\":\"white\",\"linecolor\":\"white\",\"ticks\":\"\"}},\"title\":{\"x\":0.05},\"xaxis\":{\"automargin\":true,\"gridcolor\":\"white\",\"linecolor\":\"white\",\"ticks\":\"\",\"title\":{\"standoff\":15},\"zerolinecolor\":\"white\",\"zerolinewidth\":2},\"yaxis\":{\"automargin\":true,\"gridcolor\":\"white\",\"linecolor\":\"white\",\"ticks\":\"\",\"title\":{\"standoff\":15},\"zerolinecolor\":\"white\",\"zerolinewidth\":2}}}},                        {\"responsive\": true}                    ).then(function(){\n",
              "                            \n",
              "var gd = document.getElementById('80a0af53-763c-4124-8a4e-44378ce07c45');\n",
              "var x = new MutationObserver(function (mutations, observer) {{\n",
              "        var display = window.getComputedStyle(gd).display;\n",
              "        if (!display || display === 'none') {{\n",
              "            console.log([gd, 'removed!']);\n",
              "            Plotly.purge(gd);\n",
              "            observer.disconnect();\n",
              "        }}\n",
              "}});\n",
              "\n",
              "// Listen for the removal of the full notebook cells\n",
              "var notebookContainer = gd.closest('#notebook-container');\n",
              "if (notebookContainer) {{\n",
              "    x.observe(notebookContainer, {childList: true});\n",
              "}}\n",
              "\n",
              "// Listen for the clearing of the current output cell\n",
              "var outputEl = gd.closest('.output');\n",
              "if (outputEl) {{\n",
              "    x.observe(outputEl, {childList: true});\n",
              "}}\n",
              "\n",
              "                        })                };                            </script>        </div>\n",
              "</body>\n",
              "</html>"
            ]
          },
          "metadata": {},
          "output_type": "display_data"
        }
      ],
      "source": [
        "optuna.visualization.plot_optimization_history(study, target_name=\"F1-score\")"
      ]
    },
    {
      "cell_type": "markdown",
      "metadata": {
        "id": "N4KG_R0jPUhn"
      },
      "source": [
        "## **Итоги**\n",
        "\n",
        "Линейная регрессия"
      ]
    },
    {
      "cell_type": "code",
      "execution_count": 42,
      "metadata": {
        "colab": {
          "base_uri": "https://localhost:8080/"
        },
        "id": "XssPEUZTPTCb",
        "outputId": "8e95e138-9fd9-4330-9ac9-01736795620d"
      },
      "outputs": [
        {
          "name": "stdout",
          "output_type": "stream",
          "text": [
            "F1-score на Baseline для логистической регресии равен 0.79\n",
            "F1-score на GridSearchCV для логистической регресии равен 0.79\n",
            "F1-score на RandomizedSrearchCV для логистической регресии равен 0.80\n",
            "F1-score на HyperOpt для логистической регресии равен 0.80\n",
            "F1-score на Optuna для логистической регресии равен 0.79\n"
          ]
        }
      ],
      "source": [
        "print('F1-score на Baseline для логистической регресии равен {:.2f}'.format(f1_logReg_base))\n",
        "print('F1-score на GridSearchCV для логистической регресии равен {:.2f}'.format(f1_gs_logReg))\n",
        "print('F1-score на RandomizedSrearchCV для логистической регресии равен {:.2f}'.format(f1_rs_logReg))\n",
        "print('F1-score на HyperOpt для логистической регресии равен {:.2f}'.format(f1_ho_lr))\n",
        "print('F1-score на Optuna для логистической регресии равен {:.2f}'.format(f1_optuna_lr))"
      ]
    },
    {
      "cell_type": "markdown",
      "metadata": {
        "id": "HlzZf65ZPZEp"
      },
      "source": [
        "Случайный лес"
      ]
    },
    {
      "cell_type": "code",
      "execution_count": 43,
      "metadata": {
        "colab": {
          "base_uri": "https://localhost:8080/"
        },
        "id": "B1Iq4ycaPW3j",
        "outputId": "fdd73495-2f58-4a32-f66b-8ce70ded03c2"
      },
      "outputs": [
        {
          "name": "stdout",
          "output_type": "stream",
          "text": [
            "F1-score на Baseline для Случайного леса равен 0.83\n",
            "F1-score на GridResearchCV для случайного леса равен 0.84\n",
            "F1-score на RandomizedSrearchCV для случайного леса равен 0.84\n",
            "F1-score на HyperOpt для случайного леса равен 0.83\n",
            "F1-score на Optuna для Случайного леса равен 0.84\n"
          ]
        }
      ],
      "source": [
        "print('F1-score на Baseline для Случайного леса равен {:.2f}'.format(f1_rf_base))\n",
        "print('F1-score на GridResearchCV для случайного леса равен {:.2f}'.format(f1_gs_rf))\n",
        "print('F1-score на RandomizedSrearchCV для случайного леса равен {:.2f}'.format(f1_rs_rf))\n",
        "print('F1-score на HyperOpt для случайного леса равен {:.2f}'.format(f1_ho_rf))\n",
        "print('F1-score на Optuna для Случайного леса равен {:.2f}'.format(f1_optuna_rf))"
      ]
    }
  ],
  "metadata": {
    "colab": {
      "collapsed_sections": [],
      "provenance": []
    },
    "kernelspec": {
      "display_name": "Python 3",
      "language": "python",
      "name": "python3"
    },
    "language_info": {
      "codemirror_mode": {
        "name": "ipython",
        "version": 3
      },
      "file_extension": ".py",
      "mimetype": "text/x-python",
      "name": "python",
      "nbconvert_exporter": "python",
      "pygments_lexer": "ipython3",
      "version": "3.10.8"
    },
    "orig_nbformat": 4,
    "vscode": {
      "interpreter": {
        "hash": "321ab55950f37df101268a46266f5dff6fbc802a7a8ebb790c29b4e197aadd34"
      }
    }
  },
  "nbformat": 4,
  "nbformat_minor": 0
}
