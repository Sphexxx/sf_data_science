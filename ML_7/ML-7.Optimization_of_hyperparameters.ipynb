{
  "cells": [
    {
      "cell_type": "markdown",
      "id": "AoeSkz4KaANH",
      "metadata": {
        "id": "AoeSkz4KaANH"
      },
      "source": [
        "# ML-7. Оптимизация гиперпараметров модели"
      ]
    },
    {
      "cell_type": "markdown",
      "id": "af628f85-6780-4b24-8212-e9946c388196",
      "metadata": {
        "id": "af628f85-6780-4b24-8212-e9946c388196",
        "tags": []
      },
      "source": [
        "## 1. Введение"
      ]
    },
    {
      "cell_type": "markdown",
      "id": "b8896f5c-1683-4a55-987f-60ce00207db5",
      "metadata": {
        "id": "b8896f5c-1683-4a55-987f-60ce00207db5"
      },
      "source": [
        "Цели модуля:\n",
        "* Узнать, какие есть базовые способы оптимизации гиперпараметров (GridSearchCV, RandomSearchCV);\n",
        "* Узнать, какие есть продвинутые способами оптимизации (Hyperopt, Optuna);\n",
        "* Научиться их настраивать и обучать модели с их использованием,  так, чтобы улучшать итоговую метрику.  \n",
        "* Провести сравнение и понять преимущества и недостатки каждого из методов\n"
      ]
    },
    {
      "cell_type": "markdown",
      "id": "203fb80e-a314-4876-850c-5e4913f78563",
      "metadata": {
        "id": "203fb80e-a314-4876-850c-5e4913f78563",
        "tags": []
      },
      "source": [
        "## 2. Базовая оптимизация"
      ]
    },
    {
      "cell_type": "code",
      "execution_count": 1,
      "id": "d8q91-MSaAOG",
      "metadata": {
        "id": "d8q91-MSaAOG"
      },
      "outputs": [],
      "source": [
        "#импорт библиотек\n",
        "import numpy as np #для матричных вычислений\n",
        "import pandas as pd #для анализа и предобработки данных\n",
        "import matplotlib.pyplot as plt #для визуализации\n",
        "import seaborn as sns #для визуализации\n",
        "\n",
        "from sklearn import linear_model #линейные моделиё\n",
        "from sklearn import tree #деревья решений\n",
        "from sklearn import ensemble #ансамбли\n",
        "from sklearn import metrics #метрики\n",
        "from sklearn import preprocessing #предобработка\n",
        "from sklearn.model_selection import train_test_split #сплитование выборки\n",
        "\n",
        "%matplotlib inline\n",
        "plt.style.use('seaborn')"
      ]
    },
    {
      "cell_type": "markdown",
      "id": "ezanmTbEaAOe",
      "metadata": {
        "id": "ezanmTbEaAOe",
        "tags": []
      },
      "source": [
        "### Описание задачи"
      ]
    },
    {
      "cell_type": "markdown",
      "id": "8SprnF5HaAOj",
      "metadata": {
        "id": "8SprnF5HaAOj"
      },
      "source": [
        "Продолжим решать задачу кассификации из модуля ML-3: \"Предсказание категории дохода человека\"\n",
        "\n",
        "Данные, с которыми мы будем работать были извлечены из базы данных **Бюро переписи населения 1994 года** Ронни Кохави и Барри Беккером (интеллектуальный анализ данных и визуализация, Silicon Graphics). Датасет содержит информацию о людях и их доходе. В оригинальном датасете задача была регрессионной - предсказание дохода.\n",
        "\n",
        "Мы будем использовать версию датасета, где доход участников переписи разделен на две категории: больше и меньше (либо равен) 50K $.\n"
      ]
    },
    {
      "cell_type": "markdown",
      "id": "8lbyun1kaAOy",
      "metadata": {
        "id": "8lbyun1kaAOy",
        "tags": []
      },
      "source": [
        "### Знакомство с данными и их исследование"
      ]
    },
    {
      "cell_type": "code",
      "execution_count": 2,
      "id": "p770SmlfaAO3",
      "metadata": {
        "colab": {
          "base_uri": "https://localhost:8080/",
          "height": 206
        },
        "id": "p770SmlfaAO3",
        "outputId": "81030444-d97d-43ee-ebf7-faf6a423c439"
      },
      "outputs": [
        {
          "output_type": "execute_result",
          "data": {
            "text/plain": [
              "   age workclass  fnlwgt     education  education.num marital.status  \\\n",
              "0   90         ?   77053       HS-grad              9        Widowed   \n",
              "1   82   Private  132870       HS-grad              9        Widowed   \n",
              "2   66         ?  186061  Some-college             10        Widowed   \n",
              "3   54   Private  140359       7th-8th              4       Divorced   \n",
              "4   41   Private  264663  Some-college             10      Separated   \n",
              "\n",
              "          occupation   relationship   race     sex  capital.gain  \\\n",
              "0                  ?  Not-in-family  White  Female             0   \n",
              "1    Exec-managerial  Not-in-family  White  Female             0   \n",
              "2                  ?      Unmarried  Black  Female             0   \n",
              "3  Machine-op-inspct      Unmarried  White  Female             0   \n",
              "4     Prof-specialty      Own-child  White  Female             0   \n",
              "\n",
              "   capital.loss  hours.per.week native.country income  \n",
              "0          4356              40  United-States  <=50K  \n",
              "1          4356              18  United-States  <=50K  \n",
              "2          4356              40  United-States  <=50K  \n",
              "3          3900              40  United-States  <=50K  \n",
              "4          3900              40  United-States  <=50K  "
            ],
            "text/html": [
              "\n",
              "  <div id=\"df-d811c4b2-6a9c-40d0-be71-06d540b7efd5\">\n",
              "    <div class=\"colab-df-container\">\n",
              "      <div>\n",
              "<style scoped>\n",
              "    .dataframe tbody tr th:only-of-type {\n",
              "        vertical-align: middle;\n",
              "    }\n",
              "\n",
              "    .dataframe tbody tr th {\n",
              "        vertical-align: top;\n",
              "    }\n",
              "\n",
              "    .dataframe thead th {\n",
              "        text-align: right;\n",
              "    }\n",
              "</style>\n",
              "<table border=\"1\" class=\"dataframe\">\n",
              "  <thead>\n",
              "    <tr style=\"text-align: right;\">\n",
              "      <th></th>\n",
              "      <th>age</th>\n",
              "      <th>workclass</th>\n",
              "      <th>fnlwgt</th>\n",
              "      <th>education</th>\n",
              "      <th>education.num</th>\n",
              "      <th>marital.status</th>\n",
              "      <th>occupation</th>\n",
              "      <th>relationship</th>\n",
              "      <th>race</th>\n",
              "      <th>sex</th>\n",
              "      <th>capital.gain</th>\n",
              "      <th>capital.loss</th>\n",
              "      <th>hours.per.week</th>\n",
              "      <th>native.country</th>\n",
              "      <th>income</th>\n",
              "    </tr>\n",
              "  </thead>\n",
              "  <tbody>\n",
              "    <tr>\n",
              "      <th>0</th>\n",
              "      <td>90</td>\n",
              "      <td>?</td>\n",
              "      <td>77053</td>\n",
              "      <td>HS-grad</td>\n",
              "      <td>9</td>\n",
              "      <td>Widowed</td>\n",
              "      <td>?</td>\n",
              "      <td>Not-in-family</td>\n",
              "      <td>White</td>\n",
              "      <td>Female</td>\n",
              "      <td>0</td>\n",
              "      <td>4356</td>\n",
              "      <td>40</td>\n",
              "      <td>United-States</td>\n",
              "      <td>&lt;=50K</td>\n",
              "    </tr>\n",
              "    <tr>\n",
              "      <th>1</th>\n",
              "      <td>82</td>\n",
              "      <td>Private</td>\n",
              "      <td>132870</td>\n",
              "      <td>HS-grad</td>\n",
              "      <td>9</td>\n",
              "      <td>Widowed</td>\n",
              "      <td>Exec-managerial</td>\n",
              "      <td>Not-in-family</td>\n",
              "      <td>White</td>\n",
              "      <td>Female</td>\n",
              "      <td>0</td>\n",
              "      <td>4356</td>\n",
              "      <td>18</td>\n",
              "      <td>United-States</td>\n",
              "      <td>&lt;=50K</td>\n",
              "    </tr>\n",
              "    <tr>\n",
              "      <th>2</th>\n",
              "      <td>66</td>\n",
              "      <td>?</td>\n",
              "      <td>186061</td>\n",
              "      <td>Some-college</td>\n",
              "      <td>10</td>\n",
              "      <td>Widowed</td>\n",
              "      <td>?</td>\n",
              "      <td>Unmarried</td>\n",
              "      <td>Black</td>\n",
              "      <td>Female</td>\n",
              "      <td>0</td>\n",
              "      <td>4356</td>\n",
              "      <td>40</td>\n",
              "      <td>United-States</td>\n",
              "      <td>&lt;=50K</td>\n",
              "    </tr>\n",
              "    <tr>\n",
              "      <th>3</th>\n",
              "      <td>54</td>\n",
              "      <td>Private</td>\n",
              "      <td>140359</td>\n",
              "      <td>7th-8th</td>\n",
              "      <td>4</td>\n",
              "      <td>Divorced</td>\n",
              "      <td>Machine-op-inspct</td>\n",
              "      <td>Unmarried</td>\n",
              "      <td>White</td>\n",
              "      <td>Female</td>\n",
              "      <td>0</td>\n",
              "      <td>3900</td>\n",
              "      <td>40</td>\n",
              "      <td>United-States</td>\n",
              "      <td>&lt;=50K</td>\n",
              "    </tr>\n",
              "    <tr>\n",
              "      <th>4</th>\n",
              "      <td>41</td>\n",
              "      <td>Private</td>\n",
              "      <td>264663</td>\n",
              "      <td>Some-college</td>\n",
              "      <td>10</td>\n",
              "      <td>Separated</td>\n",
              "      <td>Prof-specialty</td>\n",
              "      <td>Own-child</td>\n",
              "      <td>White</td>\n",
              "      <td>Female</td>\n",
              "      <td>0</td>\n",
              "      <td>3900</td>\n",
              "      <td>40</td>\n",
              "      <td>United-States</td>\n",
              "      <td>&lt;=50K</td>\n",
              "    </tr>\n",
              "  </tbody>\n",
              "</table>\n",
              "</div>\n",
              "      <button class=\"colab-df-convert\" onclick=\"convertToInteractive('df-d811c4b2-6a9c-40d0-be71-06d540b7efd5')\"\n",
              "              title=\"Convert this dataframe to an interactive table.\"\n",
              "              style=\"display:none;\">\n",
              "        \n",
              "  <svg xmlns=\"http://www.w3.org/2000/svg\" height=\"24px\"viewBox=\"0 0 24 24\"\n",
              "       width=\"24px\">\n",
              "    <path d=\"M0 0h24v24H0V0z\" fill=\"none\"/>\n",
              "    <path d=\"M18.56 5.44l.94 2.06.94-2.06 2.06-.94-2.06-.94-.94-2.06-.94 2.06-2.06.94zm-11 1L8.5 8.5l.94-2.06 2.06-.94-2.06-.94L8.5 2.5l-.94 2.06-2.06.94zm10 10l.94 2.06.94-2.06 2.06-.94-2.06-.94-.94-2.06-.94 2.06-2.06.94z\"/><path d=\"M17.41 7.96l-1.37-1.37c-.4-.4-.92-.59-1.43-.59-.52 0-1.04.2-1.43.59L10.3 9.45l-7.72 7.72c-.78.78-.78 2.05 0 2.83L4 21.41c.39.39.9.59 1.41.59.51 0 1.02-.2 1.41-.59l7.78-7.78 2.81-2.81c.8-.78.8-2.07 0-2.86zM5.41 20L4 18.59l7.72-7.72 1.47 1.35L5.41 20z\"/>\n",
              "  </svg>\n",
              "      </button>\n",
              "      \n",
              "  <style>\n",
              "    .colab-df-container {\n",
              "      display:flex;\n",
              "      flex-wrap:wrap;\n",
              "      gap: 12px;\n",
              "    }\n",
              "\n",
              "    .colab-df-convert {\n",
              "      background-color: #E8F0FE;\n",
              "      border: none;\n",
              "      border-radius: 50%;\n",
              "      cursor: pointer;\n",
              "      display: none;\n",
              "      fill: #1967D2;\n",
              "      height: 32px;\n",
              "      padding: 0 0 0 0;\n",
              "      width: 32px;\n",
              "    }\n",
              "\n",
              "    .colab-df-convert:hover {\n",
              "      background-color: #E2EBFA;\n",
              "      box-shadow: 0px 1px 2px rgba(60, 64, 67, 0.3), 0px 1px 3px 1px rgba(60, 64, 67, 0.15);\n",
              "      fill: #174EA6;\n",
              "    }\n",
              "\n",
              "    [theme=dark] .colab-df-convert {\n",
              "      background-color: #3B4455;\n",
              "      fill: #D2E3FC;\n",
              "    }\n",
              "\n",
              "    [theme=dark] .colab-df-convert:hover {\n",
              "      background-color: #434B5C;\n",
              "      box-shadow: 0px 1px 3px 1px rgba(0, 0, 0, 0.15);\n",
              "      filter: drop-shadow(0px 1px 2px rgba(0, 0, 0, 0.3));\n",
              "      fill: #FFFFFF;\n",
              "    }\n",
              "  </style>\n",
              "\n",
              "      <script>\n",
              "        const buttonEl =\n",
              "          document.querySelector('#df-d811c4b2-6a9c-40d0-be71-06d540b7efd5 button.colab-df-convert');\n",
              "        buttonEl.style.display =\n",
              "          google.colab.kernel.accessAllowed ? 'block' : 'none';\n",
              "\n",
              "        async function convertToInteractive(key) {\n",
              "          const element = document.querySelector('#df-d811c4b2-6a9c-40d0-be71-06d540b7efd5');\n",
              "          const dataTable =\n",
              "            await google.colab.kernel.invokeFunction('convertToInteractive',\n",
              "                                                     [key], {});\n",
              "          if (!dataTable) return;\n",
              "\n",
              "          const docLinkHtml = 'Like what you see? Visit the ' +\n",
              "            '<a target=\"_blank\" href=https://colab.research.google.com/notebooks/data_table.ipynb>data table notebook</a>'\n",
              "            + ' to learn more about interactive tables.';\n",
              "          element.innerHTML = '';\n",
              "          dataTable['output_type'] = 'display_data';\n",
              "          await google.colab.output.renderOutput(dataTable, element);\n",
              "          const docLink = document.createElement('div');\n",
              "          docLink.innerHTML = docLinkHtml;\n",
              "          element.appendChild(docLink);\n",
              "        }\n",
              "      </script>\n",
              "    </div>\n",
              "  </div>\n",
              "  "
            ]
          },
          "metadata": {},
          "execution_count": 2
        }
      ],
      "source": [
        "#ЕСЛИ РАБОТАЕМ В IDE\n",
        "data = pd.read_csv('adult.csv')\n",
        "\n",
        "#ЕСЛИ РАБОТАЕМ В GOOGLE COLAB\n",
        "# подключаем google диск, где у нас хранятся данные\n",
        "# from google.colab import drive\n",
        "# drive.mount('/content/drive')\n",
        "# # берем необходимый нам файл с диска, указав путь\n",
        "# data = pd.read_csv('./drive/MyDrive/SF/SF module 7/adult.csv')\n",
        "data.head()"
      ]
    },
    {
      "cell_type": "markdown",
      "id": "OU2FqvNJaAPB",
      "metadata": {
        "id": "OU2FqvNJaAPB"
      },
      "source": [
        "Признаки:\n",
        "* age - возраст\n",
        "* workclass - статус занятости\n",
        "* fnlwgt - общий вес, это число людей, которых, по мнению эксперта, представляет эта категория занятости\n",
        "* education - образование\n",
        "* education.num - образовательная ступень (в виде числа)\n",
        "* marital.status - брачный статус\n",
        "* occupation - профессия\n",
        "* relationship - тип отношений\n",
        "* race - раса\n",
        "* sex - пол\n",
        "* capital.gain - ежегодный дополнительный прирост капитала\n",
        "* capital.loss - ежегодная дополнительная потеря капитала\n",
        "* hours.per.week - число рабочих часов в неделю\n",
        "* native.country - Родина \n",
        "* income - категория дохода (целевой признак)"
      ]
    },
    {
      "cell_type": "markdown",
      "id": "g2w-AD7uaAPK",
      "metadata": {
        "id": "g2w-AD7uaAPK"
      },
      "source": [
        "Проверяем наличие пропусков"
      ]
    },
    {
      "cell_type": "code",
      "execution_count": 3,
      "id": "-0L4fYsbaAPP",
      "metadata": {
        "colab": {
          "base_uri": "https://localhost:8080/"
        },
        "id": "-0L4fYsbaAPP",
        "outputId": "bfb61b1a-0c04-44d2-d1e8-a7de8b902be3"
      },
      "outputs": [
        {
          "output_type": "execute_result",
          "data": {
            "text/plain": [
              "age               0\n",
              "workclass         0\n",
              "fnlwgt            0\n",
              "education         0\n",
              "education.num     0\n",
              "marital.status    0\n",
              "occupation        0\n",
              "relationship      0\n",
              "race              0\n",
              "sex               0\n",
              "capital.gain      0\n",
              "capital.loss      0\n",
              "hours.per.week    0\n",
              "native.country    0\n",
              "income            0\n",
              "dtype: int64"
            ]
          },
          "metadata": {},
          "execution_count": 3
        }
      ],
      "source": [
        "data.isnull().sum()"
      ]
    },
    {
      "cell_type": "code",
      "execution_count": 4,
      "id": "OkBZOD4eaAPW",
      "metadata": {
        "colab": {
          "base_uri": "https://localhost:8080/",
          "height": 175
        },
        "id": "OkBZOD4eaAPW",
        "outputId": "cdd9408c-073f-49ee-9fc0-31c74b87a330"
      },
      "outputs": [
        {
          "output_type": "execute_result",
          "data": {
            "text/plain": [
              "       workclass education      marital.status      occupation relationship  \\\n",
              "count      32561     32561               32561           32561        32561   \n",
              "unique         9        16                   7              15            6   \n",
              "top      Private   HS-grad  Married-civ-spouse  Prof-specialty      Husband   \n",
              "freq       22696     10501               14976            4140        13193   \n",
              "\n",
              "         race    sex native.country income  \n",
              "count   32561  32561          32561  32561  \n",
              "unique      5      2             42      2  \n",
              "top     White   Male  United-States  <=50K  \n",
              "freq    27816  21790          29170  24720  "
            ],
            "text/html": [
              "\n",
              "  <div id=\"df-ef869d8f-52a8-44cb-9267-ce870bd170c3\">\n",
              "    <div class=\"colab-df-container\">\n",
              "      <div>\n",
              "<style scoped>\n",
              "    .dataframe tbody tr th:only-of-type {\n",
              "        vertical-align: middle;\n",
              "    }\n",
              "\n",
              "    .dataframe tbody tr th {\n",
              "        vertical-align: top;\n",
              "    }\n",
              "\n",
              "    .dataframe thead th {\n",
              "        text-align: right;\n",
              "    }\n",
              "</style>\n",
              "<table border=\"1\" class=\"dataframe\">\n",
              "  <thead>\n",
              "    <tr style=\"text-align: right;\">\n",
              "      <th></th>\n",
              "      <th>workclass</th>\n",
              "      <th>education</th>\n",
              "      <th>marital.status</th>\n",
              "      <th>occupation</th>\n",
              "      <th>relationship</th>\n",
              "      <th>race</th>\n",
              "      <th>sex</th>\n",
              "      <th>native.country</th>\n",
              "      <th>income</th>\n",
              "    </tr>\n",
              "  </thead>\n",
              "  <tbody>\n",
              "    <tr>\n",
              "      <th>count</th>\n",
              "      <td>32561</td>\n",
              "      <td>32561</td>\n",
              "      <td>32561</td>\n",
              "      <td>32561</td>\n",
              "      <td>32561</td>\n",
              "      <td>32561</td>\n",
              "      <td>32561</td>\n",
              "      <td>32561</td>\n",
              "      <td>32561</td>\n",
              "    </tr>\n",
              "    <tr>\n",
              "      <th>unique</th>\n",
              "      <td>9</td>\n",
              "      <td>16</td>\n",
              "      <td>7</td>\n",
              "      <td>15</td>\n",
              "      <td>6</td>\n",
              "      <td>5</td>\n",
              "      <td>2</td>\n",
              "      <td>42</td>\n",
              "      <td>2</td>\n",
              "    </tr>\n",
              "    <tr>\n",
              "      <th>top</th>\n",
              "      <td>Private</td>\n",
              "      <td>HS-grad</td>\n",
              "      <td>Married-civ-spouse</td>\n",
              "      <td>Prof-specialty</td>\n",
              "      <td>Husband</td>\n",
              "      <td>White</td>\n",
              "      <td>Male</td>\n",
              "      <td>United-States</td>\n",
              "      <td>&lt;=50K</td>\n",
              "    </tr>\n",
              "    <tr>\n",
              "      <th>freq</th>\n",
              "      <td>22696</td>\n",
              "      <td>10501</td>\n",
              "      <td>14976</td>\n",
              "      <td>4140</td>\n",
              "      <td>13193</td>\n",
              "      <td>27816</td>\n",
              "      <td>21790</td>\n",
              "      <td>29170</td>\n",
              "      <td>24720</td>\n",
              "    </tr>\n",
              "  </tbody>\n",
              "</table>\n",
              "</div>\n",
              "      <button class=\"colab-df-convert\" onclick=\"convertToInteractive('df-ef869d8f-52a8-44cb-9267-ce870bd170c3')\"\n",
              "              title=\"Convert this dataframe to an interactive table.\"\n",
              "              style=\"display:none;\">\n",
              "        \n",
              "  <svg xmlns=\"http://www.w3.org/2000/svg\" height=\"24px\"viewBox=\"0 0 24 24\"\n",
              "       width=\"24px\">\n",
              "    <path d=\"M0 0h24v24H0V0z\" fill=\"none\"/>\n",
              "    <path d=\"M18.56 5.44l.94 2.06.94-2.06 2.06-.94-2.06-.94-.94-2.06-.94 2.06-2.06.94zm-11 1L8.5 8.5l.94-2.06 2.06-.94-2.06-.94L8.5 2.5l-.94 2.06-2.06.94zm10 10l.94 2.06.94-2.06 2.06-.94-2.06-.94-.94-2.06-.94 2.06-2.06.94z\"/><path d=\"M17.41 7.96l-1.37-1.37c-.4-.4-.92-.59-1.43-.59-.52 0-1.04.2-1.43.59L10.3 9.45l-7.72 7.72c-.78.78-.78 2.05 0 2.83L4 21.41c.39.39.9.59 1.41.59.51 0 1.02-.2 1.41-.59l7.78-7.78 2.81-2.81c.8-.78.8-2.07 0-2.86zM5.41 20L4 18.59l7.72-7.72 1.47 1.35L5.41 20z\"/>\n",
              "  </svg>\n",
              "      </button>\n",
              "      \n",
              "  <style>\n",
              "    .colab-df-container {\n",
              "      display:flex;\n",
              "      flex-wrap:wrap;\n",
              "      gap: 12px;\n",
              "    }\n",
              "\n",
              "    .colab-df-convert {\n",
              "      background-color: #E8F0FE;\n",
              "      border: none;\n",
              "      border-radius: 50%;\n",
              "      cursor: pointer;\n",
              "      display: none;\n",
              "      fill: #1967D2;\n",
              "      height: 32px;\n",
              "      padding: 0 0 0 0;\n",
              "      width: 32px;\n",
              "    }\n",
              "\n",
              "    .colab-df-convert:hover {\n",
              "      background-color: #E2EBFA;\n",
              "      box-shadow: 0px 1px 2px rgba(60, 64, 67, 0.3), 0px 1px 3px 1px rgba(60, 64, 67, 0.15);\n",
              "      fill: #174EA6;\n",
              "    }\n",
              "\n",
              "    [theme=dark] .colab-df-convert {\n",
              "      background-color: #3B4455;\n",
              "      fill: #D2E3FC;\n",
              "    }\n",
              "\n",
              "    [theme=dark] .colab-df-convert:hover {\n",
              "      background-color: #434B5C;\n",
              "      box-shadow: 0px 1px 3px 1px rgba(0, 0, 0, 0.15);\n",
              "      filter: drop-shadow(0px 1px 2px rgba(0, 0, 0, 0.3));\n",
              "      fill: #FFFFFF;\n",
              "    }\n",
              "  </style>\n",
              "\n",
              "      <script>\n",
              "        const buttonEl =\n",
              "          document.querySelector('#df-ef869d8f-52a8-44cb-9267-ce870bd170c3 button.colab-df-convert');\n",
              "        buttonEl.style.display =\n",
              "          google.colab.kernel.accessAllowed ? 'block' : 'none';\n",
              "\n",
              "        async function convertToInteractive(key) {\n",
              "          const element = document.querySelector('#df-ef869d8f-52a8-44cb-9267-ce870bd170c3');\n",
              "          const dataTable =\n",
              "            await google.colab.kernel.invokeFunction('convertToInteractive',\n",
              "                                                     [key], {});\n",
              "          if (!dataTable) return;\n",
              "\n",
              "          const docLinkHtml = 'Like what you see? Visit the ' +\n",
              "            '<a target=\"_blank\" href=https://colab.research.google.com/notebooks/data_table.ipynb>data table notebook</a>'\n",
              "            + ' to learn more about interactive tables.';\n",
              "          element.innerHTML = '';\n",
              "          dataTable['output_type'] = 'display_data';\n",
              "          await google.colab.output.renderOutput(dataTable, element);\n",
              "          const docLink = document.createElement('div');\n",
              "          docLink.innerHTML = docLinkHtml;\n",
              "          element.appendChild(docLink);\n",
              "        }\n",
              "      </script>\n",
              "    </div>\n",
              "  </div>\n",
              "  "
            ]
          },
          "metadata": {},
          "execution_count": 4
        }
      ],
      "source": [
        "data.describe(include='object')"
      ]
    },
    {
      "cell_type": "markdown",
      "id": "0jbyUoPlaAPc",
      "metadata": {
        "id": "0jbyUoPlaAPc"
      },
      "source": [
        "Смотрим на сбалансированность классов:"
      ]
    },
    {
      "cell_type": "code",
      "execution_count": 5,
      "id": "PPo2xmRdaAPf",
      "metadata": {
        "colab": {
          "base_uri": "https://localhost:8080/",
          "height": 361
        },
        "id": "PPo2xmRdaAPf",
        "outputId": "e4ca8671-e5de-4887-9de5-d039524b366a"
      },
      "outputs": [
        {
          "output_type": "display_data",
          "data": {
            "text/plain": [
              "<Figure size 576x396 with 1 Axes>"
            ],
            "image/png": "[encoded data removed]"
          },
          "metadata": {}
        }
      ],
      "source": [
        "sns.countplot(data=data, x='income');"
      ]
    },
    {
      "cell_type": "markdown",
      "id": "K6Is8AOmaAPo",
      "metadata": {
        "id": "K6Is8AOmaAPo"
      },
      "source": [
        "Для удобства переобозначим целевой признак (не обязательный шаг)"
      ]
    },
    {
      "cell_type": "code",
      "execution_count": 6,
      "id": "Usgcbq1XaAPs",
      "metadata": {
        "id": "Usgcbq1XaAPs"
      },
      "outputs": [],
      "source": [
        "data['income'] = data['income'].apply(lambda x: 1 if x == '>50K' else 0)"
      ]
    },
    {
      "cell_type": "markdown",
      "id": "xIwY2FQhaAPy",
      "metadata": {
        "id": "xIwY2FQhaAPy"
      },
      "source": [
        "Исследуем категориальные признаки"
      ]
    },
    {
      "cell_type": "code",
      "execution_count": 7,
      "id": "JmkrvmJRaAP1",
      "metadata": {
        "colab": {
          "base_uri": "https://localhost:8080/"
        },
        "id": "JmkrvmJRaAP1",
        "outputId": "48ee7cb2-2f30-46ea-8895-ebb3128c0df5"
      },
      "outputs": [
        {
          "output_type": "execute_result",
          "data": {
            "text/plain": [
              "['workclass',\n",
              " 'education',\n",
              " 'marital.status',\n",
              " 'occupation',\n",
              " 'relationship',\n",
              " 'race',\n",
              " 'sex',\n",
              " 'native.country']"
            ]
          },
          "metadata": {},
          "execution_count": 7
        }
      ],
      "source": [
        "types = data.dtypes\n",
        "cat_features = list(types[(types == 'object')].index)\n",
        "cat_features"
      ]
    },
    {
      "cell_type": "code",
      "execution_count": 8,
      "id": "3yxdU4pcaAP6",
      "metadata": {
        "colab": {
          "base_uri": "https://localhost:8080/",
          "height": 1000
        },
        "id": "3yxdU4pcaAP6",
        "outputId": "7569a051-1be1-4932-bcae-964748066291"
      },
      "outputs": [
        {
          "output_type": "display_data",
          "data": {
            "text/plain": [
              "<Figure size 1080x2880 with 16 Axes>"
            ],
            "image/png": "[encoded data removed]"
          },
          "metadata": {}
        }
      ],
      "source": [
        "n = len(cat_features) #число категориальных признаков\n",
        "fig, axes = plt.subplots(n, 2, figsize=(15, 40)) #фигура+n*2 координатных плоскостей\n",
        "#Создаем цикл для всех признаков из списка категориальных признаков\n",
        "for i, feature in enumerate(cat_features):\n",
        "    #Строим количественную столбчатую для долевого соотношения каждой из категорий в данных\n",
        "    count_data = (data[feature].value_counts(normalize=True)\n",
        "                  .sort_values(ascending=False)\n",
        "                  .rename('percentage')\n",
        "                  .reset_index())\n",
        "    count_barplot = sns.barplot(data=count_data, x='index', y='percentage', ax=axes[i][0])\n",
        "    count_barplot.xaxis.set_tick_params(rotation=60)\n",
        "    #Строим столбчатую диаграмму доли людей зарабатывающих >50K (среднее по столбцу income) в зависимости от категории\n",
        "    mean_barplot = sns.barplot(data=data, x=feature, y='income', ax=axes[i][1])\n",
        "    mean_barplot.xaxis.set_tick_params(rotation=60)\n",
        "plt.tight_layout() #выравнивание графиков"
      ]
    },
    {
      "cell_type": "markdown",
      "id": "M20nsIRfaAP-",
      "metadata": {
        "id": "M20nsIRfaAP-",
        "tags": []
      },
      "source": [
        "### Подготовка данных (предобработка)"
      ]
    },
    {
      "cell_type": "markdown",
      "id": "4CRck6QraAQA",
      "metadata": {
        "id": "4CRck6QraAQA"
      },
      "source": [
        "Предобрабатываем категориальые признаки: уменьшаем количество категорий"
      ]
    },
    {
      "cell_type": "code",
      "execution_count": 9,
      "id": "ekkIvx0VaAQB",
      "metadata": {
        "id": "ekkIvx0VaAQB"
      },
      "outputs": [],
      "source": [
        "adult_data = data.copy()\n",
        "#Определяем школьников в отдельную категорию\n",
        "adult_data['education'] = adult_data['education'].apply(\n",
        "    lambda x: 'School' if x == '11th' or x == '7th-8th' or x == '10th' \n",
        "        or x == '5th-6th' or x == '9th' or x == '12th' or x == '1st-4th' else x\n",
        ")\n",
        "#Объединяем категории Assoc-acdm и Assoc-voc (доценты)\n",
        "adult_data['education'] = adult_data['education'].apply(\n",
        "    lambda x: 'Associate' if x == 'Assoc-acdm' or x == 'Assoc-voc' else x\n",
        ")\n",
        "#Объединяем вдовцов,разведенных и живущих раздельно в одну категорию\n",
        "adult_data['marital.status'] = adult_data['marital.status'].apply(\n",
        "    lambda x: 'Prev-Married' if (x == 'Widowed' or x == 'Divorced' or x == 'Separated') else x\n",
        ")\n",
        "#Объединяем всех женатых/за мужем в одну категорию\n",
        "adult_data['marital.status'] = adult_data['marital.status'].apply(\n",
        "    lambda x: 'Married' if (x == 'Married-civ-spouse' or x == 'Married-spouse-absent' or x == 'Married-AF-spouse') else x\n",
        ")\n",
        "#Объединяем мужей и жен в одну категорию, остальных в другую\n",
        "adult_data['relationship'] = adult_data['relationship'].apply(\n",
        "    lambda x: 'In relationship' if (x == 'Husband' or x == 'Whife') else 'Not in relationship'\n",
        ")\n",
        "\n",
        "#Объединяем типы занятоностей, не приносящих дохода в одну категорию\n",
        "adult_data['workclass'] = adult_data['workclass'].apply(\n",
        "    lambda x: 'No income' if x == 'Never-worked' or x == 'Without-pay' else x\n",
        ")\n",
        "#Объединяем всех приезжих в одну категорию\n",
        "adult_data['native.country'] = adult_data['native.country'].apply(\n",
        "    lambda x: 'Other' if x != 'United-States' else x\n",
        ")"
      ]
    },
    {
      "cell_type": "markdown",
      "id": "C2Vbxb0UaAQG",
      "metadata": {
        "id": "C2Vbxb0UaAQG"
      },
      "source": [
        "Предобрабатываем числовые признаки"
      ]
    },
    {
      "cell_type": "code",
      "execution_count": 10,
      "id": "a2zydTN0aAQH",
      "metadata": {
        "id": "a2zydTN0aAQH"
      },
      "outputs": [],
      "source": [
        "#Логарифмируем числовые признаки, чтобы придать им форму нормального распределения\n",
        "adult_data['capital.gain'] = np.log(adult_data['capital.gain']+1)\n",
        "adult_data['capital.loss'] = np.log(adult_data['capital.loss']+1)\n",
        "adult_data['fnlwgt'] = np.log(adult_data['fnlwgt']+1)\n",
        "\n",
        "#Создаем новый признак - разность между приростом капитала и его убылью\n",
        "adult_data['capital_diff'] = abs((adult_data['capital.gain'] - adult_data['capital.loss']))"
      ]
    },
    {
      "cell_type": "code",
      "execution_count": 11,
      "id": "i-NdGAE2aAQK",
      "metadata": {
        "id": "i-NdGAE2aAQK"
      },
      "outputs": [],
      "source": [
        "#Удаляем лишние признаки\n",
        "adult_data = adult_data.drop(['education.num', 'capital.gain', 'capital.loss'], axis=1)"
      ]
    },
    {
      "cell_type": "markdown",
      "id": "Qw-yZvffaAQM",
      "metadata": {
        "id": "Qw-yZvffaAQM"
      },
      "source": [
        "Проверяем результаты предобработки"
      ]
    },
    {
      "cell_type": "code",
      "execution_count": 12,
      "id": "OVCSQzHEaAQO",
      "metadata": {
        "colab": {
          "base_uri": "https://localhost:8080/",
          "height": 175
        },
        "id": "OVCSQzHEaAQO",
        "outputId": "d6ab9493-11b9-4461-bde1-436121e6bbe4"
      },
      "outputs": [
        {
          "output_type": "execute_result",
          "data": {
            "text/plain": [
              "       workclass education marital.status      occupation  \\\n",
              "count      32561     32561          32561           32561   \n",
              "unique         8         9              3              15   \n",
              "top      Private   HS-grad        Married  Prof-specialty   \n",
              "freq       22696     10501          15417            4140   \n",
              "\n",
              "               relationship   race    sex native.country  \n",
              "count                 32561  32561  32561          32561  \n",
              "unique                    2      5      2              2  \n",
              "top     Not in relationship  White   Male  United-States  \n",
              "freq                  19368  27816  21790          29170  "
            ],
            "text/html": [
              "\n",
              "  <div id=\"df-563b0617-ade2-4437-98b7-7c3e1e547b14\">\n",
              "    <div class=\"colab-df-container\">\n",
              "      <div>\n",
              "<style scoped>\n",
              "    .dataframe tbody tr th:only-of-type {\n",
              "        vertical-align: middle;\n",
              "    }\n",
              "\n",
              "    .dataframe tbody tr th {\n",
              "        vertical-align: top;\n",
              "    }\n",
              "\n",
              "    .dataframe thead th {\n",
              "        text-align: right;\n",
              "    }\n",
              "</style>\n",
              "<table border=\"1\" class=\"dataframe\">\n",
              "  <thead>\n",
              "    <tr style=\"text-align: right;\">\n",
              "      <th></th>\n",
              "      <th>workclass</th>\n",
              "      <th>education</th>\n",
              "      <th>marital.status</th>\n",
              "      <th>occupation</th>\n",
              "      <th>relationship</th>\n",
              "      <th>race</th>\n",
              "      <th>sex</th>\n",
              "      <th>native.country</th>\n",
              "    </tr>\n",
              "  </thead>\n",
              "  <tbody>\n",
              "    <tr>\n",
              "      <th>count</th>\n",
              "      <td>32561</td>\n",
              "      <td>32561</td>\n",
              "      <td>32561</td>\n",
              "      <td>32561</td>\n",
              "      <td>32561</td>\n",
              "      <td>32561</td>\n",
              "      <td>32561</td>\n",
              "      <td>32561</td>\n",
              "    </tr>\n",
              "    <tr>\n",
              "      <th>unique</th>\n",
              "      <td>8</td>\n",
              "      <td>9</td>\n",
              "      <td>3</td>\n",
              "      <td>15</td>\n",
              "      <td>2</td>\n",
              "      <td>5</td>\n",
              "      <td>2</td>\n",
              "      <td>2</td>\n",
              "    </tr>\n",
              "    <tr>\n",
              "      <th>top</th>\n",
              "      <td>Private</td>\n",
              "      <td>HS-grad</td>\n",
              "      <td>Married</td>\n",
              "      <td>Prof-specialty</td>\n",
              "      <td>Not in relationship</td>\n",
              "      <td>White</td>\n",
              "      <td>Male</td>\n",
              "      <td>United-States</td>\n",
              "    </tr>\n",
              "    <tr>\n",
              "      <th>freq</th>\n",
              "      <td>22696</td>\n",
              "      <td>10501</td>\n",
              "      <td>15417</td>\n",
              "      <td>4140</td>\n",
              "      <td>19368</td>\n",
              "      <td>27816</td>\n",
              "      <td>21790</td>\n",
              "      <td>29170</td>\n",
              "    </tr>\n",
              "  </tbody>\n",
              "</table>\n",
              "</div>\n",
              "      <button class=\"colab-df-convert\" onclick=\"convertToInteractive('df-563b0617-ade2-4437-98b7-7c3e1e547b14')\"\n",
              "              title=\"Convert this dataframe to an interactive table.\"\n",
              "              style=\"display:none;\">\n",
              "        \n",
              "  <svg xmlns=\"http://www.w3.org/2000/svg\" height=\"24px\"viewBox=\"0 0 24 24\"\n",
              "       width=\"24px\">\n",
              "    <path d=\"M0 0h24v24H0V0z\" fill=\"none\"/>\n",
              "    <path d=\"M18.56 5.44l.94 2.06.94-2.06 2.06-.94-2.06-.94-.94-2.06-.94 2.06-2.06.94zm-11 1L8.5 8.5l.94-2.06 2.06-.94-2.06-.94L8.5 2.5l-.94 2.06-2.06.94zm10 10l.94 2.06.94-2.06 2.06-.94-2.06-.94-.94-2.06-.94 2.06-2.06.94z\"/><path d=\"M17.41 7.96l-1.37-1.37c-.4-.4-.92-.59-1.43-.59-.52 0-1.04.2-1.43.59L10.3 9.45l-7.72 7.72c-.78.78-.78 2.05 0 2.83L4 21.41c.39.39.9.59 1.41.59.51 0 1.02-.2 1.41-.59l7.78-7.78 2.81-2.81c.8-.78.8-2.07 0-2.86zM5.41 20L4 18.59l7.72-7.72 1.47 1.35L5.41 20z\"/>\n",
              "  </svg>\n",
              "      </button>\n",
              "      \n",
              "  <style>\n",
              "    .colab-df-container {\n",
              "      display:flex;\n",
              "      flex-wrap:wrap;\n",
              "      gap: 12px;\n",
              "    }\n",
              "\n",
              "    .colab-df-convert {\n",
              "      background-color: #E8F0FE;\n",
              "      border: none;\n",
              "      border-radius: 50%;\n",
              "      cursor: pointer;\n",
              "      display: none;\n",
              "      fill: #1967D2;\n",
              "      height: 32px;\n",
              "      padding: 0 0 0 0;\n",
              "      width: 32px;\n",
              "    }\n",
              "\n",
              "    .colab-df-convert:hover {\n",
              "      background-color: #E2EBFA;\n",
              "      box-shadow: 0px 1px 2px rgba(60, 64, 67, 0.3), 0px 1px 3px 1px rgba(60, 64, 67, 0.15);\n",
              "      fill: #174EA6;\n",
              "    }\n",
              "\n",
              "    [theme=dark] .colab-df-convert {\n",
              "      background-color: #3B4455;\n",
              "      fill: #D2E3FC;\n",
              "    }\n",
              "\n",
              "    [theme=dark] .colab-df-convert:hover {\n",
              "      background-color: #434B5C;\n",
              "      box-shadow: 0px 1px 3px 1px rgba(0, 0, 0, 0.15);\n",
              "      filter: drop-shadow(0px 1px 2px rgba(0, 0, 0, 0.3));\n",
              "      fill: #FFFFFF;\n",
              "    }\n",
              "  </style>\n",
              "\n",
              "      <script>\n",
              "        const buttonEl =\n",
              "          document.querySelector('#df-563b0617-ade2-4437-98b7-7c3e1e547b14 button.colab-df-convert');\n",
              "        buttonEl.style.display =\n",
              "          google.colab.kernel.accessAllowed ? 'block' : 'none';\n",
              "\n",
              "        async function convertToInteractive(key) {\n",
              "          const element = document.querySelector('#df-563b0617-ade2-4437-98b7-7c3e1e547b14');\n",
              "          const dataTable =\n",
              "            await google.colab.kernel.invokeFunction('convertToInteractive',\n",
              "                                                     [key], {});\n",
              "          if (!dataTable) return;\n",
              "\n",
              "          const docLinkHtml = 'Like what you see? Visit the ' +\n",
              "            '<a target=\"_blank\" href=https://colab.research.google.com/notebooks/data_table.ipynb>data table notebook</a>'\n",
              "            + ' to learn more about interactive tables.';\n",
              "          element.innerHTML = '';\n",
              "          dataTable['output_type'] = 'display_data';\n",
              "          await google.colab.output.renderOutput(dataTable, element);\n",
              "          const docLink = document.createElement('div');\n",
              "          docLink.innerHTML = docLinkHtml;\n",
              "          element.appendChild(docLink);\n",
              "        }\n",
              "      </script>\n",
              "    </div>\n",
              "  </div>\n",
              "  "
            ]
          },
          "metadata": {},
          "execution_count": 12
        }
      ],
      "source": [
        "adult_data.describe(include='object')"
      ]
    },
    {
      "cell_type": "markdown",
      "id": "v50Y0j8DaAQP",
      "metadata": {
        "id": "v50Y0j8DaAQP"
      },
      "source": [
        "Оцениваем мультиколинеарность и взаимосвязь с целевым признаком"
      ]
    },
    {
      "cell_type": "code",
      "execution_count": 13,
      "id": "iy_THHijaAQQ",
      "metadata": {
        "colab": {
          "base_uri": "https://localhost:8080/",
          "height": 324
        },
        "id": "iy_THHijaAQQ",
        "outputId": "a658e38a-c758-4805-8f43-b2eeb892dc01"
      },
      "outputs": [
        {
          "output_type": "display_data",
          "data": {
            "text/plain": [
              "<Figure size 720x360 with 2 Axes>"
            ],
            "image/png": "[encoded data removed]"
          },
          "metadata": {}
        }
      ],
      "source": [
        "plt.figure(figsize = (10, 5))\n",
        "sns.heatmap(adult_data.corr(), annot = True);"
      ]
    },
    {
      "cell_type": "markdown",
      "id": "R8TLEU3UaAQS",
      "metadata": {
        "id": "R8TLEU3UaAQS"
      },
      "source": [
        "Кодируем текстовые категориальные признаки"
      ]
    },
    {
      "cell_type": "code",
      "execution_count": 14,
      "id": "dCxltn1NaAQU",
      "metadata": {
        "colab": {
          "base_uri": "https://localhost:8080/",
          "height": 334
        },
        "id": "dCxltn1NaAQU",
        "outputId": "5e2d8f95-50dc-459c-c104-8c4408f811fa"
      },
      "outputs": [
        {
          "output_type": "execute_result",
          "data": {
            "text/plain": [
              "   age     fnlwgt  hours.per.week  income  capital_diff  \\\n",
              "0   90  11.252262              40       0      8.379539   \n",
              "1   82  11.797134              18       0      8.379539   \n",
              "2   66  12.133835              40       0      8.379539   \n",
              "3   54  11.851966              40       0      8.268988   \n",
              "4   41  12.486216              40       0      8.268988   \n",
              "\n",
              "   workclass_Federal-gov  workclass_Local-gov  workclass_No income  \\\n",
              "0                      0                    0                    0   \n",
              "1                      0                    0                    0   \n",
              "2                      0                    0                    0   \n",
              "3                      0                    0                    0   \n",
              "4                      0                    0                    0   \n",
              "\n",
              "   workclass_Private  workclass_Self-emp-inc  ...  occupation_Sales  \\\n",
              "0                  0                       0  ...                 0   \n",
              "1                  1                       0  ...                 0   \n",
              "2                  0                       0  ...                 0   \n",
              "3                  1                       0  ...                 0   \n",
              "4                  1                       0  ...                 0   \n",
              "\n",
              "   occupation_Tech-support  occupation_Transport-moving  \\\n",
              "0                        0                            0   \n",
              "1                        0                            0   \n",
              "2                        0                            0   \n",
              "3                        0                            0   \n",
              "4                        0                            0   \n",
              "\n",
              "   relationship_Not in relationship  race_Asian-Pac-Islander  race_Black  \\\n",
              "0                                 1                        0           0   \n",
              "1                                 1                        0           0   \n",
              "2                                 1                        0           1   \n",
              "3                                 1                        0           0   \n",
              "4                                 1                        0           0   \n",
              "\n",
              "   race_Other  race_White  sex_Male  native.country_United-States  \n",
              "0           0           1         0                             1  \n",
              "1           0           1         0                             1  \n",
              "2           0           0         0                             1  \n",
              "3           0           1         0                             1  \n",
              "4           0           1         0                             1  \n",
              "\n",
              "[5 rows x 43 columns]"
            ],
            "text/html": [
              "\n",
              "  <div id=\"df-7f4d01cb-234f-4346-aea4-74d7c6f37f00\">\n",
              "    <div class=\"colab-df-container\">\n",
              "      <div>\n",
              "<style scoped>\n",
              "    .dataframe tbody tr th:only-of-type {\n",
              "        vertical-align: middle;\n",
              "    }\n",
              "\n",
              "    .dataframe tbody tr th {\n",
              "        vertical-align: top;\n",
              "    }\n",
              "\n",
              "    .dataframe thead th {\n",
              "        text-align: right;\n",
              "    }\n",
              "</style>\n",
              "<table border=\"1\" class=\"dataframe\">\n",
              "  <thead>\n",
              "    <tr style=\"text-align: right;\">\n",
              "      <th></th>\n",
              "      <th>age</th>\n",
              "      <th>fnlwgt</th>\n",
              "      <th>hours.per.week</th>\n",
              "      <th>income</th>\n",
              "      <th>capital_diff</th>\n",
              "      <th>workclass_Federal-gov</th>\n",
              "      <th>workclass_Local-gov</th>\n",
              "      <th>workclass_No income</th>\n",
              "      <th>workclass_Private</th>\n",
              "      <th>workclass_Self-emp-inc</th>\n",
              "      <th>...</th>\n",
              "      <th>occupation_Sales</th>\n",
              "      <th>occupation_Tech-support</th>\n",
              "      <th>occupation_Transport-moving</th>\n",
              "      <th>relationship_Not in relationship</th>\n",
              "      <th>race_Asian-Pac-Islander</th>\n",
              "      <th>race_Black</th>\n",
              "      <th>race_Other</th>\n",
              "      <th>race_White</th>\n",
              "      <th>sex_Male</th>\n",
              "      <th>native.country_United-States</th>\n",
              "    </tr>\n",
              "  </thead>\n",
              "  <tbody>\n",
              "    <tr>\n",
              "      <th>0</th>\n",
              "      <td>90</td>\n",
              "      <td>11.252262</td>\n",
              "      <td>40</td>\n",
              "      <td>0</td>\n",
              "      <td>8.379539</td>\n",
              "      <td>0</td>\n",
              "      <td>0</td>\n",
              "      <td>0</td>\n",
              "      <td>0</td>\n",
              "      <td>0</td>\n",
              "      <td>...</td>\n",
              "      <td>0</td>\n",
              "      <td>0</td>\n",
              "      <td>0</td>\n",
              "      <td>1</td>\n",
              "      <td>0</td>\n",
              "      <td>0</td>\n",
              "      <td>0</td>\n",
              "      <td>1</td>\n",
              "      <td>0</td>\n",
              "      <td>1</td>\n",
              "    </tr>\n",
              "    <tr>\n",
              "      <th>1</th>\n",
              "      <td>82</td>\n",
              "      <td>11.797134</td>\n",
              "      <td>18</td>\n",
              "      <td>0</td>\n",
              "      <td>8.379539</td>\n",
              "      <td>0</td>\n",
              "      <td>0</td>\n",
              "      <td>0</td>\n",
              "      <td>1</td>\n",
              "      <td>0</td>\n",
              "      <td>...</td>\n",
              "      <td>0</td>\n",
              "      <td>0</td>\n",
              "      <td>0</td>\n",
              "      <td>1</td>\n",
              "      <td>0</td>\n",
              "      <td>0</td>\n",
              "      <td>0</td>\n",
              "      <td>1</td>\n",
              "      <td>0</td>\n",
              "      <td>1</td>\n",
              "    </tr>\n",
              "    <tr>\n",
              "      <th>2</th>\n",
              "      <td>66</td>\n",
              "      <td>12.133835</td>\n",
              "      <td>40</td>\n",
              "      <td>0</td>\n",
              "      <td>8.379539</td>\n",
              "      <td>0</td>\n",
              "      <td>0</td>\n",
              "      <td>0</td>\n",
              "      <td>0</td>\n",
              "      <td>0</td>\n",
              "      <td>...</td>\n",
              "      <td>0</td>\n",
              "      <td>0</td>\n",
              "      <td>0</td>\n",
              "      <td>1</td>\n",
              "      <td>0</td>\n",
              "      <td>1</td>\n",
              "      <td>0</td>\n",
              "      <td>0</td>\n",
              "      <td>0</td>\n",
              "      <td>1</td>\n",
              "    </tr>\n",
              "    <tr>\n",
              "      <th>3</th>\n",
              "      <td>54</td>\n",
              "      <td>11.851966</td>\n",
              "      <td>40</td>\n",
              "      <td>0</td>\n",
              "      <td>8.268988</td>\n",
              "      <td>0</td>\n",
              "      <td>0</td>\n",
              "      <td>0</td>\n",
              "      <td>1</td>\n",
              "      <td>0</td>\n",
              "      <td>...</td>\n",
              "      <td>0</td>\n",
              "      <td>0</td>\n",
              "      <td>0</td>\n",
              "      <td>1</td>\n",
              "      <td>0</td>\n",
              "      <td>0</td>\n",
              "      <td>0</td>\n",
              "      <td>1</td>\n",
              "      <td>0</td>\n",
              "      <td>1</td>\n",
              "    </tr>\n",
              "    <tr>\n",
              "      <th>4</th>\n",
              "      <td>41</td>\n",
              "      <td>12.486216</td>\n",
              "      <td>40</td>\n",
              "      <td>0</td>\n",
              "      <td>8.268988</td>\n",
              "      <td>0</td>\n",
              "      <td>0</td>\n",
              "      <td>0</td>\n",
              "      <td>1</td>\n",
              "      <td>0</td>\n",
              "      <td>...</td>\n",
              "      <td>0</td>\n",
              "      <td>0</td>\n",
              "      <td>0</td>\n",
              "      <td>1</td>\n",
              "      <td>0</td>\n",
              "      <td>0</td>\n",
              "      <td>0</td>\n",
              "      <td>1</td>\n",
              "      <td>0</td>\n",
              "      <td>1</td>\n",
              "    </tr>\n",
              "  </tbody>\n",
              "</table>\n",
              "<p>5 rows × 43 columns</p>\n",
              "</div>\n",
              "      <button class=\"colab-df-convert\" onclick=\"convertToInteractive('df-7f4d01cb-234f-4346-aea4-74d7c6f37f00')\"\n",
              "              title=\"Convert this dataframe to an interactive table.\"\n",
              "              style=\"display:none;\">\n",
              "        \n",
              "  <svg xmlns=\"http://www.w3.org/2000/svg\" height=\"24px\"viewBox=\"0 0 24 24\"\n",
              "       width=\"24px\">\n",
              "    <path d=\"M0 0h24v24H0V0z\" fill=\"none\"/>\n",
              "    <path d=\"M18.56 5.44l.94 2.06.94-2.06 2.06-.94-2.06-.94-.94-2.06-.94 2.06-2.06.94zm-11 1L8.5 8.5l.94-2.06 2.06-.94-2.06-.94L8.5 2.5l-.94 2.06-2.06.94zm10 10l.94 2.06.94-2.06 2.06-.94-2.06-.94-.94-2.06-.94 2.06-2.06.94z\"/><path d=\"M17.41 7.96l-1.37-1.37c-.4-.4-.92-.59-1.43-.59-.52 0-1.04.2-1.43.59L10.3 9.45l-7.72 7.72c-.78.78-.78 2.05 0 2.83L4 21.41c.39.39.9.59 1.41.59.51 0 1.02-.2 1.41-.59l7.78-7.78 2.81-2.81c.8-.78.8-2.07 0-2.86zM5.41 20L4 18.59l7.72-7.72 1.47 1.35L5.41 20z\"/>\n",
              "  </svg>\n",
              "      </button>\n",
              "      \n",
              "  <style>\n",
              "    .colab-df-container {\n",
              "      display:flex;\n",
              "      flex-wrap:wrap;\n",
              "      gap: 12px;\n",
              "    }\n",
              "\n",
              "    .colab-df-convert {\n",
              "      background-color: #E8F0FE;\n",
              "      border: none;\n",
              "      border-radius: 50%;\n",
              "      cursor: pointer;\n",
              "      display: none;\n",
              "      fill: #1967D2;\n",
              "      height: 32px;\n",
              "      padding: 0 0 0 0;\n",
              "      width: 32px;\n",
              "    }\n",
              "\n",
              "    .colab-df-convert:hover {\n",
              "      background-color: #E2EBFA;\n",
              "      box-shadow: 0px 1px 2px rgba(60, 64, 67, 0.3), 0px 1px 3px 1px rgba(60, 64, 67, 0.15);\n",
              "      fill: #174EA6;\n",
              "    }\n",
              "\n",
              "    [theme=dark] .colab-df-convert {\n",
              "      background-color: #3B4455;\n",
              "      fill: #D2E3FC;\n",
              "    }\n",
              "\n",
              "    [theme=dark] .colab-df-convert:hover {\n",
              "      background-color: #434B5C;\n",
              "      box-shadow: 0px 1px 3px 1px rgba(0, 0, 0, 0.15);\n",
              "      filter: drop-shadow(0px 1px 2px rgba(0, 0, 0, 0.3));\n",
              "      fill: #FFFFFF;\n",
              "    }\n",
              "  </style>\n",
              "\n",
              "      <script>\n",
              "        const buttonEl =\n",
              "          document.querySelector('#df-7f4d01cb-234f-4346-aea4-74d7c6f37f00 button.colab-df-convert');\n",
              "        buttonEl.style.display =\n",
              "          google.colab.kernel.accessAllowed ? 'block' : 'none';\n",
              "\n",
              "        async function convertToInteractive(key) {\n",
              "          const element = document.querySelector('#df-7f4d01cb-234f-4346-aea4-74d7c6f37f00');\n",
              "          const dataTable =\n",
              "            await google.colab.kernel.invokeFunction('convertToInteractive',\n",
              "                                                     [key], {});\n",
              "          if (!dataTable) return;\n",
              "\n",
              "          const docLinkHtml = 'Like what you see? Visit the ' +\n",
              "            '<a target=\"_blank\" href=https://colab.research.google.com/notebooks/data_table.ipynb>data table notebook</a>'\n",
              "            + ' to learn more about interactive tables.';\n",
              "          element.innerHTML = '';\n",
              "          dataTable['output_type'] = 'display_data';\n",
              "          await google.colab.output.renderOutput(dataTable, element);\n",
              "          const docLink = document.createElement('div');\n",
              "          docLink.innerHTML = docLinkHtml;\n",
              "          element.appendChild(docLink);\n",
              "        }\n",
              "      </script>\n",
              "    </div>\n",
              "  </div>\n",
              "  "
            ]
          },
          "metadata": {},
          "execution_count": 14
        }
      ],
      "source": [
        "dummies_data = pd.get_dummies(adult_data, drop_first=True)\n",
        "dummies_data.head()"
      ]
    },
    {
      "cell_type": "markdown",
      "id": "8p3eELnEaAQW",
      "metadata": {
        "id": "8p3eELnEaAQW"
      },
      "source": [
        "Создаем матрицу наблюдений $X$ и вектор ответов $y$"
      ]
    },
    {
      "cell_type": "code",
      "execution_count": 15,
      "id": "_2GncsCbaAQY",
      "metadata": {
        "id": "_2GncsCbaAQY"
      },
      "outputs": [],
      "source": [
        "X = dummies_data.drop(['income'], axis=1)\n",
        "y = dummies_data['income']"
      ]
    },
    {
      "cell_type": "markdown",
      "id": "q4SyRSFhaAQZ",
      "metadata": {
        "id": "q4SyRSFhaAQZ"
      },
      "source": [
        "Разделяем выборку на тренировочную и тестовую в соотношении 80/20. Для сохранения соотношений целевого признака используем параметр stratify (стратифицированное разбиение). "
      ]
    },
    {
      "cell_type": "code",
      "execution_count": 16,
      "id": "Fl_eJIInaAQa",
      "metadata": {
        "id": "Fl_eJIInaAQa"
      },
      "outputs": [],
      "source": [
        "X_train, X_test, y_train, y_test = train_test_split(X, y, stratify=y, random_state = 1, test_size = 0.2)"
      ]
    },
    {
      "cell_type": "markdown",
      "id": "NTmUGmXqaAQc",
      "metadata": {
        "id": "NTmUGmXqaAQc"
      },
      "source": [
        "Производим нормализацию данных с помощью min-max нормализации"
      ]
    },
    {
      "cell_type": "code",
      "execution_count": 17,
      "id": "dcAjG5bKaAQd",
      "metadata": {
        "id": "dcAjG5bKaAQd"
      },
      "outputs": [],
      "source": [
        "scaler = preprocessing.MinMaxScaler()\n",
        "scaler.fit(X_train)\n",
        "X_train_scaled = scaler.transform(X_train)\n",
        "X_test_scaled = scaler.transform(X_test)"
      ]
    },
    {
      "cell_type": "markdown",
      "id": "H7DZBta2aAQf",
      "metadata": {
        "id": "H7DZBta2aAQf",
        "tags": []
      },
      "source": [
        "### Оптимизация гиперпараметров модели"
      ]
    },
    {
      "cell_type": "markdown",
      "id": "CE7v-medaAQh",
      "metadata": {
        "id": "CE7v-medaAQh",
        "tags": []
      },
      "source": [
        "#### **Логистическая регрессия**"
      ]
    },
    {
      "cell_type": "markdown",
      "id": "5b6d603a-1ce0-414e-b095-e0f61113c0e7",
      "metadata": {
        "id": "5b6d603a-1ce0-414e-b095-e0f61113c0e7"
      },
      "source": [
        "Зафиксируем только метрики, которые были получены без дополнительной настройки, т.е со значениями гиперпараметров, установленных по умолчанию:"
      ]
    },
    {
      "cell_type": "code",
      "execution_count": 18,
      "id": "0aMCHU3-aAQn",
      "metadata": {
        "colab": {
          "base_uri": "https://localhost:8080/"
        },
        "id": "0aMCHU3-aAQn",
        "outputId": "e5617472-2c89-4172-a5f1-809494c19537"
      },
      "outputs": [
        {
          "output_type": "stream",
          "name": "stdout",
          "text": [
            "accuracy на тестовом наборе: 0.84\n",
            "f1_score на тестовом наборе: 0.64\n"
          ]
        }
      ],
      "source": [
        "#Создаем объект класса логистическая регрессия\n",
        "log_reg = linear_model.LogisticRegression(max_iter = 1000)\n",
        "#Обучаем модель, минимизируя logloss\n",
        "log_reg.fit(X_train_scaled, y_train)\n",
        "print(\"accuracy на тестовом наборе: {:.2f}\".format(log_reg.score(X_test_scaled, y_test)))\n",
        "y_test_pred = log_reg.predict(X_test_scaled)\n",
        "print('f1_score на тестовом наборе: {:.2f}'.format(metrics.f1_score(y_test, y_test_pred)))"
      ]
    },
    {
      "cell_type": "markdown",
      "id": "Q6PP7ObJp7WG",
      "metadata": {
        "id": "Q6PP7ObJp7WG"
      },
      "source": [
        "### <center> **GridSearchCV**"
      ]
    },
    {
      "cell_type": "markdown",
      "id": "VfXtklWP5cJI",
      "metadata": {
        "id": "VfXtklWP5cJI"
      },
      "source": [
        "Чтобы воспользоваться классом GridSearchCV:\n",
        "- сначала необходимо импортировать библиотеку; \n",
        "- затем указать искомые гиперпараметры в виде словаря: ключами словаря являются имена настраиваемых гиперпараметров, а значениями – тестируемые настройки гиперпараметров; \n",
        "- после передаем модель (LogisticRegression), сетку искомых параметров (param_grid), а также число фолдов, которые мы хотим использовать в кросс-валидации, (допустим, пятиблочную кросс-валидацию, cv=5) и n_jobs = -1, чтобы использовать все доступные ядра для расчетов.\n",
        "\n",
        "Созданный нами объект grid_search аналогичен классификатору, мы можем вызвать стандартные методы fit, predict и score от его имени. Однако, когда мы вызываем fit, он запускает кросс-валидацию для каждой комбинации гиперпараметров, указанных в param_grid.\n",
        "\n",
        "GridSearchCV включает в себя не только поиск лучших параметров, но и автоматическое построение новой модели на всем обучающем наборе данных, используя параметры, которые дают наилучшее значение точности при кросс-валидации.\n"
      ]
    },
    {
      "cell_type": "code",
      "execution_count": 19,
      "id": "gLkG_sbSkBcu",
      "metadata": {
        "colab": {
          "base_uri": "https://localhost:8080/"
        },
        "id": "gLkG_sbSkBcu",
        "outputId": "b6774752-1294-4d98-90c7-d9a710d6cd8a"
      },
      "outputs": [
        {
          "output_type": "stream",
          "name": "stdout",
          "text": [
            "CPU times: user 1.54 s, sys: 694 ms, total: 2.23 s\n",
            "Wall time: 54.4 s\n",
            "accuracy на тестовом наборе: 0.84\n",
            "f1_score на тестовом наборе: 0.64\n",
            "Наилучшие значения гиперпараметров: {'penalty': 'none', 'solver': 'lbfgs'}\n"
          ]
        }
      ],
      "source": [
        "from sklearn.model_selection import GridSearchCV\n",
        "\n",
        "param_grid = {'penalty': ['l2', 'none'] ,#тип регурялизации\n",
        "              'solver': ['lbfgs', 'saga'], #алгоритм оптимизации\n",
        "              }\n",
        "grid_search = GridSearchCV(\n",
        "    estimator=linear_model.LogisticRegression(\n",
        "        random_state=42, #генератор случайных чисел\n",
        "        max_iter=1000 #количество итераций на сходимость\n",
        "    ), \n",
        "    param_grid=param_grid, \n",
        "    cv=5, \n",
        "    n_jobs = -1\n",
        ")  \n",
        "%time grid_search.fit(X_train_scaled, y_train) \n",
        "print(\"accuracy на тестовом наборе: {:.2f}\".format(grid_search.score(X_test_scaled, y_test)))\n",
        "y_test_pred = grid_search.predict(X_test_scaled)\n",
        "print('f1_score на тестовом наборе: {:.2f}'.format(metrics.f1_score(y_test, y_test_pred)))\n",
        "print(\"Наилучшие значения гиперпараметров: {}\".format(grid_search.best_params_))"
      ]
    },
    {
      "cell_type": "markdown",
      "id": "C6O5rNDhXwN6",
      "metadata": {
        "id": "C6O5rNDhXwN6"
      },
      "source": [
        "Значения метрик не изменились, но это значит лишь, что мы не нашли комбинацию внешних параметров лучше, чем заданы по умолчанию. Это не удивительно и достаточно часто исходные  гиперпараметры дают неплохой результат, но это не повод останавливаться."
      ]
    },
    {
      "cell_type": "markdown",
      "id": "hfB5oM25HGp2",
      "metadata": {
        "id": "hfB5oM25HGp2",
        "tags": []
      },
      "source": [
        "**Попробуем расширить сетку гиперпараметров.**"
      ]
    },
    {
      "cell_type": "code",
      "execution_count": 20,
      "id": "drR8M2WLjOyM",
      "metadata": {
        "colab": {
          "base_uri": "https://localhost:8080/"
        },
        "id": "drR8M2WLjOyM",
        "outputId": "f54343dd-4c1d-439b-d8d6-7e4d29bfc22b"
      },
      "outputs": [
        {
          "output_type": "stream",
          "name": "stdout",
          "text": [
            "CPU times: user 2.45 s, sys: 464 ms, total: 2.91 s\n",
            "Wall time: 4min 53s\n",
            "accuracy на тестовом наборе: 0.84\n",
            "f1_score на тестовом наборе: 0.64\n",
            "Наилучшие значения гиперпараметров: {'C': 0.3, 'penalty': 'l2', 'solver': 'lbfgs'}\n"
          ]
        }
      ],
      "source": [
        "param_grid = [\n",
        "              {'penalty': ['l2', 'none'] , # тип регуляризации\n",
        "              'solver': ['lbfgs', 'sag'], # алгоритм оптимизации\n",
        "               'C': [0.01, 0.1, 0.3, 0.5, 0.7, 0.9, 1]}, # уровень силы регурялизации\n",
        "              \n",
        "              {'penalty': ['l1', 'l2'] ,\n",
        "              'solver': ['liblinear', 'saga'],\n",
        "               'C': [0.01, 0.1, 0.3, 0.5, 0.7, 0.9, 1]}\n",
        "]\n",
        "grid_search_1 = GridSearchCV(\n",
        "    estimator=linear_model.LogisticRegression(random_state=1, max_iter=1000), \n",
        "    param_grid=param_grid, \n",
        "    cv=5, \n",
        "    n_jobs = -1\n",
        ")  \n",
        "%time grid_search_1.fit(X_train_scaled, y_train) \n",
        "print(\"accuracy на тестовом наборе: {:.2f}\".format(grid_search_1.score(X_test_scaled, y_test)))\n",
        "y_test_pred = grid_search_1.predict(X_test_scaled)\n",
        "print('f1_score на тестовом наборе: {:.2f}'.format(metrics.f1_score(y_test, y_test_pred)))\n",
        "print(\"Наилучшие значения гиперпараметров: {}\".format(grid_search_1.best_params_))"
      ]
    },
    {
      "cell_type": "markdown",
      "id": "ln1LrZaOXcLU",
      "metadata": {
        "id": "ln1LrZaOXcLU"
      },
      "source": [
        "**Метрику опять не удалось улучшить, а время потратили много, в 5 раз больше!**\n",
        "\n",
        "Поиск по сетке не гарантирует, что мы найдем наилучшую комбинацию гиперпараметров, а все потому что сетка значений конечна и фактическое наилучшее значение может отсутствовать или оказаться между значений, заданными нами.\n"
      ]
    },
    {
      "cell_type": "markdown",
      "id": "GA09esoBG6WS",
      "metadata": {
        "id": "GA09esoBG6WS"
      },
      "source": [
        "Ознакомиться с итоговой полученной моделью можно с помощью best_estimator_. "
      ]
    },
    {
      "cell_type": "code",
      "execution_count": 21,
      "id": "8hzskokPDJ00",
      "metadata": {
        "colab": {
          "base_uri": "https://localhost:8080/"
        },
        "id": "8hzskokPDJ00",
        "outputId": "a1637a51-6535-4b49-bea1-933369741284"
      },
      "outputs": [
        {
          "output_type": "stream",
          "name": "stdout",
          "text": [
            "Наилучшая модель:\n",
            "LogisticRegression(max_iter=1000, penalty='none', random_state=42)\n"
          ]
        }
      ],
      "source": [
        "print(\"Наилучшая модель:\\n{}\".format(grid_search.best_estimator_))"
      ]
    },
    {
      "cell_type": "markdown",
      "id": "N-zMC1gqGntK",
      "metadata": {
        "id": "N-zMC1gqGntK"
      },
      "source": [
        "А наилучшее значение точности кросс-валидации (значение точности, усредненное по всем разбиениям для данной комбинации гиперпараметров) – в атрибуте best_score_. \n",
        "\n",
        "**не путайте best_score_ со значением точности модели, которое вычисляется на тестовом наборе с помощью метода score. Метод score (оценивающий качество результатов, полученных с помощью метода predict) использует модель, построенную на всем обучающем наборе данных. В атрибуте best_score_ записывается средняя точность кросс-валидации. Для ее вычисления используется модель, построенная на обучающем наборе кросс-валидации."
      ]
    },
    {
      "cell_type": "code",
      "execution_count": 22,
      "id": "BNIsmrjP6GZY",
      "metadata": {
        "colab": {
          "base_uri": "https://localhost:8080/"
        },
        "id": "BNIsmrjP6GZY",
        "outputId": "fbaace5e-f67f-4f09-cf4b-74305a7be773"
      },
      "outputs": [
        {
          "output_type": "stream",
          "name": "stdout",
          "text": [
            "Наилучшее значение точности при кросс-валидаци: 0.84\n"
          ]
        }
      ],
      "source": [
        "print(\"Наилучшее значение точности при кросс-валидаци: {:.2f}\".format(grid_search.best_score_))"
      ]
    },
    {
      "cell_type": "code",
      "execution_count": 23,
      "id": "fASVNY14lbzb",
      "metadata": {
        "colab": {
          "base_uri": "https://localhost:8080/",
          "height": 350
        },
        "id": "fASVNY14lbzb",
        "outputId": "1848bd38-d424-4c1f-ca00-0e444b7d45d2"
      },
      "outputs": [
        {
          "output_type": "execute_result",
          "data": {
            "text/plain": [
              "   mean_fit_time  std_fit_time  mean_score_time  std_score_time param_C  \\\n",
              "0       0.109702      0.013747         0.001036        0.000053    0.01   \n",
              "1       0.187281      0.007010         0.001193        0.000130    0.01   \n",
              "\n",
              "  param_penalty param_solver                                           params  \\\n",
              "0            l2        lbfgs  {'C': 0.01, 'penalty': 'l2', 'solver': 'lbfgs'}   \n",
              "1            l2          sag    {'C': 0.01, 'penalty': 'l2', 'solver': 'sag'}   \n",
              "\n",
              "   split0_test_score  split1_test_score  split2_test_score  split3_test_score  \\\n",
              "0           0.838004           0.833781           0.838004           0.839317   \n",
              "1           0.838004           0.833781           0.838004           0.839317   \n",
              "\n",
              "   split4_test_score  mean_test_score  std_test_score  rank_test_score  \n",
              "0           0.836437         0.837108        0.001897               51  \n",
              "1           0.836437         0.837108        0.001897               51  "
            ],
            "text/html": [
              "\n",
              "  <div id=\"df-cad95cc1-aafa-45e8-9c2b-048b940b3984\">\n",
              "    <div class=\"colab-df-container\">\n",
              "      <div>\n",
              "<style scoped>\n",
              "    .dataframe tbody tr th:only-of-type {\n",
              "        vertical-align: middle;\n",
              "    }\n",
              "\n",
              "    .dataframe tbody tr th {\n",
              "        vertical-align: top;\n",
              "    }\n",
              "\n",
              "    .dataframe thead th {\n",
              "        text-align: right;\n",
              "    }\n",
              "</style>\n",
              "<table border=\"1\" class=\"dataframe\">\n",
              "  <thead>\n",
              "    <tr style=\"text-align: right;\">\n",
              "      <th></th>\n",
              "      <th>mean_fit_time</th>\n",
              "      <th>std_fit_time</th>\n",
              "      <th>mean_score_time</th>\n",
              "      <th>std_score_time</th>\n",
              "      <th>param_C</th>\n",
              "      <th>param_penalty</th>\n",
              "      <th>param_solver</th>\n",
              "      <th>params</th>\n",
              "      <th>split0_test_score</th>\n",
              "      <th>split1_test_score</th>\n",
              "      <th>split2_test_score</th>\n",
              "      <th>split3_test_score</th>\n",
              "      <th>split4_test_score</th>\n",
              "      <th>mean_test_score</th>\n",
              "      <th>std_test_score</th>\n",
              "      <th>rank_test_score</th>\n",
              "    </tr>\n",
              "  </thead>\n",
              "  <tbody>\n",
              "    <tr>\n",
              "      <th>0</th>\n",
              "      <td>0.109702</td>\n",
              "      <td>0.013747</td>\n",
              "      <td>0.001036</td>\n",
              "      <td>0.000053</td>\n",
              "      <td>0.01</td>\n",
              "      <td>l2</td>\n",
              "      <td>lbfgs</td>\n",
              "      <td>{'C': 0.01, 'penalty': 'l2', 'solver': 'lbfgs'}</td>\n",
              "      <td>0.838004</td>\n",
              "      <td>0.833781</td>\n",
              "      <td>0.838004</td>\n",
              "      <td>0.839317</td>\n",
              "      <td>0.836437</td>\n",
              "      <td>0.837108</td>\n",
              "      <td>0.001897</td>\n",
              "      <td>51</td>\n",
              "    </tr>\n",
              "    <tr>\n",
              "      <th>1</th>\n",
              "      <td>0.187281</td>\n",
              "      <td>0.007010</td>\n",
              "      <td>0.001193</td>\n",
              "      <td>0.000130</td>\n",
              "      <td>0.01</td>\n",
              "      <td>l2</td>\n",
              "      <td>sag</td>\n",
              "      <td>{'C': 0.01, 'penalty': 'l2', 'solver': 'sag'}</td>\n",
              "      <td>0.838004</td>\n",
              "      <td>0.833781</td>\n",
              "      <td>0.838004</td>\n",
              "      <td>0.839317</td>\n",
              "      <td>0.836437</td>\n",
              "      <td>0.837108</td>\n",
              "      <td>0.001897</td>\n",
              "      <td>51</td>\n",
              "    </tr>\n",
              "  </tbody>\n",
              "</table>\n",
              "</div>\n",
              "      <button class=\"colab-df-convert\" onclick=\"convertToInteractive('df-cad95cc1-aafa-45e8-9c2b-048b940b3984')\"\n",
              "              title=\"Convert this dataframe to an interactive table.\"\n",
              "              style=\"display:none;\">\n",
              "        \n",
              "  <svg xmlns=\"http://www.w3.org/2000/svg\" height=\"24px\"viewBox=\"0 0 24 24\"\n",
              "       width=\"24px\">\n",
              "    <path d=\"M0 0h24v24H0V0z\" fill=\"none\"/>\n",
              "    <path d=\"M18.56 5.44l.94 2.06.94-2.06 2.06-.94-2.06-.94-.94-2.06-.94 2.06-2.06.94zm-11 1L8.5 8.5l.94-2.06 2.06-.94-2.06-.94L8.5 2.5l-.94 2.06-2.06.94zm10 10l.94 2.06.94-2.06 2.06-.94-2.06-.94-.94-2.06-.94 2.06-2.06.94z\"/><path d=\"M17.41 7.96l-1.37-1.37c-.4-.4-.92-.59-1.43-.59-.52 0-1.04.2-1.43.59L10.3 9.45l-7.72 7.72c-.78.78-.78 2.05 0 2.83L4 21.41c.39.39.9.59 1.41.59.51 0 1.02-.2 1.41-.59l7.78-7.78 2.81-2.81c.8-.78.8-2.07 0-2.86zM5.41 20L4 18.59l7.72-7.72 1.47 1.35L5.41 20z\"/>\n",
              "  </svg>\n",
              "      </button>\n",
              "      \n",
              "  <style>\n",
              "    .colab-df-container {\n",
              "      display:flex;\n",
              "      flex-wrap:wrap;\n",
              "      gap: 12px;\n",
              "    }\n",
              "\n",
              "    .colab-df-convert {\n",
              "      background-color: #E8F0FE;\n",
              "      border: none;\n",
              "      border-radius: 50%;\n",
              "      cursor: pointer;\n",
              "      display: none;\n",
              "      fill: #1967D2;\n",
              "      height: 32px;\n",
              "      padding: 0 0 0 0;\n",
              "      width: 32px;\n",
              "    }\n",
              "\n",
              "    .colab-df-convert:hover {\n",
              "      background-color: #E2EBFA;\n",
              "      box-shadow: 0px 1px 2px rgba(60, 64, 67, 0.3), 0px 1px 3px 1px rgba(60, 64, 67, 0.15);\n",
              "      fill: #174EA6;\n",
              "    }\n",
              "\n",
              "    [theme=dark] .colab-df-convert {\n",
              "      background-color: #3B4455;\n",
              "      fill: #D2E3FC;\n",
              "    }\n",
              "\n",
              "    [theme=dark] .colab-df-convert:hover {\n",
              "      background-color: #434B5C;\n",
              "      box-shadow: 0px 1px 3px 1px rgba(0, 0, 0, 0.15);\n",
              "      filter: drop-shadow(0px 1px 2px rgba(0, 0, 0, 0.3));\n",
              "      fill: #FFFFFF;\n",
              "    }\n",
              "  </style>\n",
              "\n",
              "      <script>\n",
              "        const buttonEl =\n",
              "          document.querySelector('#df-cad95cc1-aafa-45e8-9c2b-048b940b3984 button.colab-df-convert');\n",
              "        buttonEl.style.display =\n",
              "          google.colab.kernel.accessAllowed ? 'block' : 'none';\n",
              "\n",
              "        async function convertToInteractive(key) {\n",
              "          const element = document.querySelector('#df-cad95cc1-aafa-45e8-9c2b-048b940b3984');\n",
              "          const dataTable =\n",
              "            await google.colab.kernel.invokeFunction('convertToInteractive',\n",
              "                                                     [key], {});\n",
              "          if (!dataTable) return;\n",
              "\n",
              "          const docLinkHtml = 'Like what you see? Visit the ' +\n",
              "            '<a target=\"_blank\" href=https://colab.research.google.com/notebooks/data_table.ipynb>data table notebook</a>'\n",
              "            + ' to learn more about interactive tables.';\n",
              "          element.innerHTML = '';\n",
              "          dataTable['output_type'] = 'display_data';\n",
              "          await google.colab.output.renderOutput(dataTable, element);\n",
              "          const docLink = document.createElement('div');\n",
              "          docLink.innerHTML = docLinkHtml;\n",
              "          element.appendChild(docLink);\n",
              "        }\n",
              "      </script>\n",
              "    </div>\n",
              "  </div>\n",
              "  "
            ]
          },
          "metadata": {},
          "execution_count": 23
        }
      ],
      "source": [
        "# Взглянем на результаты кросс-валидации\n",
        "result_cv = pd.DataFrame(grid_search_1.cv_results_)\n",
        "result_cv.head(2)\n"
      ]
    },
    {
      "cell_type": "code",
      "execution_count": 24,
      "id": "POygdqzwlFeu",
      "metadata": {
        "colab": {
          "base_uri": "https://localhost:8080/"
        },
        "id": "POygdqzwlFeu",
        "outputId": "4368c6a7-eace-4452-807e-2fa2638b9ff2"
      },
      "outputs": [
        {
          "output_type": "execute_result",
          "data": {
            "text/plain": [
              "Index(['mean_fit_time', 'std_fit_time', 'mean_score_time', 'std_score_time',\n",
              "       'param_C', 'param_penalty', 'param_solver', 'params',\n",
              "       'split0_test_score', 'split1_test_score', 'split2_test_score',\n",
              "       'split3_test_score', 'split4_test_score', 'mean_test_score',\n",
              "       'std_test_score', 'rank_test_score'],\n",
              "      dtype='object')"
            ]
          },
          "metadata": {},
          "execution_count": 24
        }
      ],
      "source": [
        "result_cv.columns"
      ]
    },
    {
      "cell_type": "code",
      "execution_count": 25,
      "id": "J8Fvuix4j1o5",
      "metadata": {
        "colab": {
          "base_uri": "https://localhost:8080/",
          "height": 378
        },
        "id": "J8Fvuix4j1o5",
        "outputId": "c8837913-8bcb-4548-b1aa-d10f5df88f0a"
      },
      "outputs": [
        {
          "output_type": "display_data",
          "data": {
            "text/plain": [
              "<Figure size 576x396 with 2 Axes>"
            ],
            "image/png": "[encoded data removed]"
          },
          "metadata": {}
        }
      ],
      "source": [
        "# отрисуем, как менялась точность при различных гиперпараметрах\n",
        "visual = pd.pivot_table(pd.DataFrame(grid_search_1.cv_results_),\n",
        "                        values='mean_test_score', index='param_C',\n",
        "                        columns='param_solver')\n",
        "sns.heatmap(visual)\n",
        "plt.title('Тепловая карта зависимости метрики accuracy от solver и С') # подпись графика\n",
        "sns.set(rc={'figure.figsize':(12, 8)}) #задаем размер графика"
      ]
    },
    {
      "cell_type": "markdown",
      "id": "HdhfiJvUSia7",
      "metadata": {
        "id": "HdhfiJvUSia7"
      },
      "source": [
        "Видим, что слабая регуляризация С = 0,01 отрицательно влияет на метрику, поэтому есть смысл брать значения больше 0,5 и  алгоритмы оптимизации lbfgs и sag работают лучше."
      ]
    },
    {
      "cell_type": "markdown",
      "id": "QOlWE5zSptj0",
      "metadata": {
        "id": "QOlWE5zSptj0"
      },
      "source": [
        "### <center> **RandomizedSearchCV**"
      ]
    },
    {
      "cell_type": "markdown",
      "id": "stnYdU2-rN4a",
      "metadata": {
        "id": "stnYdU2-rN4a"
      },
      "source": [
        "В отличие от GridSearchCV, не все комбинации гиперпараметров проверяются, а только заданное количество комбинаций выбирается из указанных распределений. Количество комбинаций гиперпараметров задается n_iter.\n",
        "\n",
        "С использованием класса RandomizedSearchCV из библиотеки scikit learn мы осуществим оптимизацию гиперпараметров для алгоритмов логистической регрессии, дерева решений и случайного леса, а также сравним результаты с GridSearchCV и значениями по умолчанию."
      ]
    },
    {
      "cell_type": "code",
      "execution_count": 26,
      "id": "4yjUJJKntcX7",
      "metadata": {
        "colab": {
          "base_uri": "https://localhost:8080/"
        },
        "id": "4yjUJJKntcX7",
        "outputId": "844da279-572e-436b-a662-24dc03d9b843"
      },
      "outputs": [
        {
          "output_type": "stream",
          "name": "stdout",
          "text": [
            "CPU times: user 821 ms, sys: 277 ms, total: 1.1 s\n",
            "Wall time: 44 s\n",
            "accuracy на тестовом наборе: 0.84\n",
            "f1_score на тестовом наборе: 0.64\n",
            "Наилучшие значения гиперпараметров: {'solver': 'lbfgs', 'penalty': 'l2', 'C': 0.89}\n"
          ]
        }
      ],
      "source": [
        "from sklearn.model_selection import RandomizedSearchCV\n",
        "\n",
        "#np.linspace(start(от), stop(до), num=50(количество),dtype- тип данных)\n",
        "param_distributions = {'penalty': ['l2', 'none'] ,\n",
        "              'solver': ['lbfgs', 'sag'],\n",
        "               'C': list(np.linspace(0.01, 1, 10, dtype=float))},\n",
        "            \n",
        "random_search = RandomizedSearchCV(\n",
        "    estimator=linear_model.LogisticRegression(random_state=42, max_iter=1000), \n",
        "    param_distributions=param_distributions, \n",
        "    cv=5, \n",
        "    n_iter = 10, \n",
        "    n_jobs = -1\n",
        ")  \n",
        "%time random_search.fit(X_train_scaled, y_train) \n",
        "print(\"accuracy на тестовом наборе: {:.2f}\".format(random_search.score(X_test_scaled, y_test)))\n",
        "y_test_pred = random_search.predict(X_test_scaled)\n",
        "print('f1_score на тестовом наборе: {:.2f}'.format(metrics.f1_score(y_test, y_test_pred)))\n",
        "print(\"Наилучшие значения гиперпараметров: {}\".format(random_search.best_params_))"
      ]
    },
    {
      "cell_type": "markdown",
      "id": "o70ZkAU5Ok4A",
      "metadata": {
        "id": "o70ZkAU5Ok4A"
      },
      "source": [
        "За 10 итераций метрику улучшить не удалось, но обратите внимание на время. Давайте зададим аналогичную сетку и проделаем тоже с помощью GridSearchCV и сравним:"
      ]
    },
    {
      "cell_type": "code",
      "execution_count": 27,
      "id": "bhBsJm_irM5e",
      "metadata": {
        "colab": {
          "base_uri": "https://localhost:8080/"
        },
        "id": "bhBsJm_irM5e",
        "outputId": "e10982e5-24eb-48f3-a742-8dccdf5ab5fa"
      },
      "outputs": [
        {
          "output_type": "stream",
          "name": "stdout",
          "text": [
            "CPU times: user 2.82 s, sys: 593 ms, total: 3.42 s\n",
            "Wall time: 6min 15s\n",
            "accuracy на тестовом наборе: 0.84\n",
            "f1_score на тестовом наборе: 0.64\n",
            "Наилучшие значения гиперпараметров: {'C': 3.34, 'penalty': 'l2', 'solver': 'lbfgs'}\n"
          ]
        }
      ],
      "source": [
        "param_grid = {'penalty': ['l2', 'none'] ,\n",
        "              'solver': ['lbfgs', 'sag'],\n",
        "               'C': list(np.linspace(0.01, 10, 10, dtype=float))},\n",
        "            \n",
        "grid_search_2 = GridSearchCV(\n",
        "    estimator=linear_model.LogisticRegression(random_state=42, max_iter=1000), \n",
        "    param_grid=param_grid, \n",
        "    cv=5, \n",
        "    n_jobs = -1\n",
        ")  \n",
        "%time grid_search_2.fit(X_train_scaled, y_train) \n",
        "print(\"accuracy на тестовом наборе: {:.2f}\".format(grid_search_2.score(X_test_scaled, y_test)))\n",
        "y_test_pred = grid_search_2.predict(X_test_scaled)\n",
        "print('f1_score на тестовом наборе: {:.2f}'.format(metrics.f1_score(y_test, y_test_pred)))\n",
        "print(\"Наилучшие значения гиперпараметров: {}\".format(grid_search_2.best_params_))"
      ]
    },
    {
      "cell_type": "markdown",
      "id": "620d146e-a62d-4837-83a5-f952cb6e9162",
      "metadata": {
        "id": "620d146e-a62d-4837-83a5-f952cb6e9162",
        "tags": []
      },
      "source": [
        "#### **Дерево решений**"
      ]
    },
    {
      "cell_type": "markdown",
      "id": "df10934a-ebd0-475b-b6e5-1cd9f09df42e",
      "metadata": {
        "id": "df10934a-ebd0-475b-b6e5-1cd9f09df42e",
        "tags": []
      },
      "source": [
        "Проделаем аналогичное для DecisionTreeClassifier().\n",
        "Сначала посчитаем модель с параметрами по умолчанию и оценим метрику:"
      ]
    },
    {
      "cell_type": "code",
      "execution_count": 28,
      "id": "vGfBXfL9aAQ3",
      "metadata": {
        "colab": {
          "base_uri": "https://localhost:8080/"
        },
        "id": "vGfBXfL9aAQ3",
        "outputId": "9bd6e853-ce21-44b8-85b3-212cf40dce53"
      },
      "outputs": [
        {
          "output_type": "stream",
          "name": "stdout",
          "text": [
            "Train: 1.00\n",
            "Test: 0.62\n"
          ]
        }
      ],
      "source": [
        "#Создаем объект класса дерево решений\n",
        "dt = tree.DecisionTreeClassifier(random_state=42)\n",
        "#Обучаем дерево по алгоритму CARTrint\n",
        "dt.fit(X_train_scaled, y_train)\n",
        "#Выводим значения метрики \n",
        "y_train_pred = dt.predict(X_train_scaled)\n",
        "print('Train: {:.2f}'.format(metrics.f1_score(y_train, y_train_pred)))\n",
        "y_test_pred = dt.predict(X_test_scaled)\n",
        "print('Test: {:.2f}'.format(metrics.f1_score(y_test, y_test_pred)))"
      ]
    },
    {
      "cell_type": "markdown",
      "id": "1JLRNmlMPk12",
      "metadata": {
        "id": "1JLRNmlMPk12"
      },
      "source": [
        "Теперь зададим сетку гиперпараметров:  \n",
        "*  'min_samples_leaf' - минимальное количество объектов в листе;\n",
        "*  'max_depth': максимальная глубина дерева, не должна быть слишком большой, иначе будет переобучение;\n",
        "*  'criterion' - критерий информативности\n",
        "\n",
        "И посчитаем RandomizedSearchCV() и затем GridSearchCV()\n",
        "\n",
        "\n",
        "\n"
      ]
    },
    {
      "cell_type": "code",
      "execution_count": 29,
      "id": "cx_ssVADwFVl",
      "metadata": {
        "colab": {
          "base_uri": "https://localhost:8080/"
        },
        "id": "cx_ssVADwFVl",
        "outputId": "198c8bad-fc6e-4611-8cdb-ff16697933b3"
      },
      "outputs": [
        {
          "output_type": "stream",
          "name": "stdout",
          "text": [
            "CPU times: user 597 ms, sys: 62.9 ms, total: 660 ms\n",
            "Wall time: 13.2 s\n",
            "accuracy на тестовом наборе: 0.85\n",
            "f1_score на тестовом наборе: 0.66\n",
            "Наилучшие значения гиперпараметров: {'min_samples_leaf': 45, 'max_depth': 16, 'criterion': 'entropy'}\n"
          ]
        }
      ],
      "source": [
        "param_distributions = {'min_samples_leaf': list(np.linspace(5, 100, 50, dtype=int)),\n",
        "              'max_depth': list(np.linspace(1, 30, 50, dtype=int)),\n",
        "              'criterion':['entropy','gini']\n",
        "              }\n",
        "            \n",
        "random_search_tree = RandomizedSearchCV(\n",
        "    estimator=tree.DecisionTreeClassifier(random_state=42), \n",
        "    param_distributions=param_distributions, \n",
        "    cv=5,\n",
        "    n_iter = 50, \n",
        "    n_jobs = -1\n",
        ")  \n",
        "%time random_search_tree.fit(X_train_scaled, y_train) \n",
        "print(\"accuracy на тестовом наборе: {:.2f}\".format(random_search_tree.score(X_test_scaled, y_test)))\n",
        "y_test_pred = random_search_tree.predict(X_test_scaled)\n",
        "print('f1_score на тестовом наборе: {:.2f}'.format(metrics.f1_score(y_test, y_test_pred)))\n",
        "print(\"Наилучшие значения гиперпараметров: {}\".format(random_search_tree.best_params_))"
      ]
    },
    {
      "cell_type": "code",
      "execution_count": 30,
      "id": "h45GmL6bwFJi",
      "metadata": {
        "colab": {
          "base_uri": "https://localhost:8080/"
        },
        "id": "h45GmL6bwFJi",
        "outputId": "ba53ccfc-56a7-4f56-d62e-2e5fbd1c5a83"
      },
      "outputs": [
        {
          "output_type": "stream",
          "name": "stdout",
          "text": [
            "CPU times: user 1min 17s, sys: 7.96 s, total: 1min 25s\n",
            "Wall time: 22min 53s\n",
            "accuracy на тестовом наборе: 0.85\n",
            "f1_score на тестовом наборе: 0.65\n",
            "Наилучшие значения гиперпараметров: {'criterion': 'gini', 'max_depth': 12, 'min_samples_leaf': 39}\n"
          ]
        }
      ],
      "source": [
        "param_grid = {'min_samples_leaf': list(np.linspace(5, 100, 50, dtype=int)),\n",
        "              'max_depth': list(np.linspace(1, 30, 50, dtype=int)),\n",
        "              'criterion':['entropy','gini']\n",
        "              }\n",
        "            \n",
        "grid_search_tree = GridSearchCV(\n",
        "    estimator=tree.DecisionTreeClassifier(random_state=42), \n",
        "    param_grid=param_grid, \n",
        "    cv=5, \n",
        "    n_jobs = -1\n",
        ")  \n",
        "%time grid_search_tree.fit(X_train_scaled, y_train) \n",
        "print(\"accuracy на тестовом наборе: {:.2f}\".format(grid_search_tree.score(X_test_scaled, y_test)))\n",
        "y_test_pred = grid_search_tree.predict(X_test_scaled)\n",
        "print('f1_score на тестовом наборе: {:.2f}'.format(metrics.f1_score(y_test, y_test_pred)))\n",
        "print(\"Наилучшие значения гиперпараметров: {}\".format(grid_search_tree.best_params_))"
      ]
    },
    {
      "cell_type": "markdown",
      "id": "XsuSxN-kUyJl",
      "metadata": {
        "id": "XsuSxN-kUyJl"
      },
      "source": [
        "Метрику удалось улучшить  с помощью обоих методов, но RandomizedSearchCV потребовалось меньше времени;"
      ]
    },
    {
      "cell_type": "markdown",
      "id": "jBSbPYAYaAQ9",
      "metadata": {
        "id": "jBSbPYAYaAQ9",
        "tags": []
      },
      "source": [
        "#### **Случайный лес**"
      ]
    },
    {
      "cell_type": "markdown",
      "id": "-4-TPHjgTBOs",
      "metadata": {
        "id": "-4-TPHjgTBOs"
      },
      "source": [
        "Проделаем аналогичное для RandomForestClassifier().\n",
        "Сначала посчитаем модель с параметрами по умолчанию и оценим метрику:"
      ]
    },
    {
      "cell_type": "code",
      "execution_count": 31,
      "id": "XUYSiTfraARA",
      "metadata": {
        "colab": {
          "base_uri": "https://localhost:8080/"
        },
        "id": "XUYSiTfraARA",
        "outputId": "4cb7cc56-126d-4ee1-97b1-8ae08cfb6395"
      },
      "outputs": [
        {
          "output_type": "stream",
          "name": "stdout",
          "text": [
            "Train: 1.00\n",
            "Test: 0.66\n"
          ]
        }
      ],
      "source": [
        "#Создаем объект класса случайный лес\n",
        "rf = ensemble.RandomForestClassifier(random_state=42)\n",
        "\n",
        "#Обучаем модель\n",
        "rf.fit(X_train_scaled, y_train)\n",
        "#Выводим значения метрики \n",
        "y_train_pred = rf.predict(X_train_scaled)\n",
        "print('Train: {:.2f}'.format(metrics.f1_score(y_train, y_train_pred)))\n",
        "y_test_pred = rf.predict(X_test_scaled)\n",
        "print('Test: {:.2f}'.format(metrics.f1_score(y_test, y_test_pred)))"
      ]
    },
    {
      "cell_type": "markdown",
      "id": "mFu0_kEXVp1q",
      "metadata": {
        "id": "mFu0_kEXVp1q"
      },
      "source": [
        "Теперь зададим сетку гиперпараметров: \n",
        "\n",
        "*   'n_estimators' - количество деревьев в лесу, по умолчанию =100\n",
        "\n",
        "*  'min_samples_leaf' - минимальное количество объектов в листе;\n",
        "*  'max_depth': максимальная глубина дерева, не должна быть слишком большой, иначе будет переобучение;\n",
        "\n",
        "\n",
        "\n",
        "\n",
        "И посчитаем RandomizedSearchCV() и затем GridSearchCV()\n",
        "\n",
        "\n",
        "\n"
      ]
    },
    {
      "cell_type": "code",
      "execution_count": 32,
      "id": "TBSxQJ6JzS1f",
      "metadata": {
        "colab": {
          "base_uri": "https://localhost:8080/"
        },
        "id": "TBSxQJ6JzS1f",
        "outputId": "db4c2d4a-74ca-4979-f44a-834e081bf54f"
      },
      "outputs": [
        {
          "output_type": "stream",
          "name": "stdout",
          "text": [
            "CPU times: user 1.9 s, sys: 51.8 ms, total: 1.96 s\n",
            "Wall time: 1min 4s\n",
            "f1_score на обучающем наборе: 0.72\n",
            "accuracy на тестовом наборе: 0.86\n",
            "f1_score на тестовом наборе: 0.67\n",
            "Наилучшие значения гиперпараметров: {'n_estimators': 80, 'min_samples_leaf': 5, 'max_depth': 24}\n"
          ]
        }
      ],
      "source": [
        "param_distributions = {'n_estimators': list(range(80, 200, 30)),\n",
        "              'min_samples_leaf': [5],\n",
        "              'max_depth': list(np.linspace(20, 40, 10, dtype=int))\n",
        "              }\n",
        "            \n",
        "random_search_forest = RandomizedSearchCV(\n",
        "    estimator=ensemble.RandomForestClassifier(random_state=42), \n",
        "    param_distributions=param_distributions, \n",
        "    cv=5,\n",
        "    n_iter = 10, \n",
        "    n_jobs = -1\n",
        ")  \n",
        "%time random_search_forest.fit(X_train_scaled, y_train) \n",
        "y_train_pred = random_search_forest.predict(X_train_scaled)\n",
        "print('f1_score на обучающем наборе: {:.2f}'.format(metrics.f1_score(y_train, y_train_pred)))\n",
        "print(\"accuracy на тестовом наборе: {:.2f}\".format(random_search_forest.score(X_test_scaled, y_test)))\n",
        "y_test_pred = random_search_forest.predict(X_test_scaled)\n",
        "print('f1_score на тестовом наборе: {:.2f}'.format(metrics.f1_score(y_test, y_test_pred)))\n",
        "print(\"Наилучшие значения гиперпараметров: {}\".format(random_search_forest.best_params_))"
      ]
    },
    {
      "cell_type": "code",
      "execution_count": 33,
      "id": "FMojHKnN06ke",
      "metadata": {
        "colab": {
          "base_uri": "https://localhost:8080/"
        },
        "id": "FMojHKnN06ke",
        "outputId": "e15185d5-1328-46ec-efe7-f59c096be71f"
      },
      "outputs": [
        {
          "output_type": "stream",
          "name": "stdout",
          "text": [
            "CPU times: user 2.86 s, sys: 93.3 ms, total: 2.96 s\n",
            "Wall time: 2min 10s\n",
            "f1_score на обучающем наборе: 0.71\n",
            "accuracy на тестовом наборе: 0.86\n",
            "f1_score на тестовом наборе: 0.67\n",
            "Наилучшие значения гиперпараметров: {'max_depth': 20, 'min_samples_leaf': 5, 'n_estimators': 110}\n"
          ]
        }
      ],
      "source": [
        "param_grid = {'n_estimators': list(range(80, 200, 30)),\n",
        "              'min_samples_leaf': [5],\n",
        "              'max_depth': list(np.linspace(20, 40, 5, dtype=int))\n",
        "              }\n",
        "            \n",
        "grid_search_forest = GridSearchCV(\n",
        "    estimator=ensemble.RandomForestClassifier(random_state=42), \n",
        "    param_grid=param_grid, \n",
        "    cv=5, \n",
        "    n_jobs = -1\n",
        ")  \n",
        "%time grid_search_forest.fit(X_train_scaled, y_train) \n",
        "y_train_pred = grid_search_forest.predict(X_train_scaled)\n",
        "print('f1_score на обучающем наборе: {:.2f}'.format(metrics.f1_score(y_train, y_train_pred)))\n",
        "print(\"accuracy на тестовом наборе: {:.2f}\".format(grid_search_forest.score(X_test_scaled, y_test)))\n",
        "y_test_pred = grid_search_forest.predict(X_test_scaled)\n",
        "print('f1_score на тестовом наборе: {:.2f}'.format(metrics.f1_score(y_test, y_test_pred)))\n",
        "print(\"Наилучшие значения гиперпараметров: {}\".format(grid_search_forest.best_params_))"
      ]
    },
    {
      "cell_type": "markdown",
      "id": "WkQaYLPQXZvp",
      "metadata": {
        "id": "WkQaYLPQXZvp"
      },
      "source": [
        "Метрику удалось еще больше улучшить с помощью обоих методов, но RandomizedSearchCV опять же потребовалось в два раза меньше времени;"
      ]
    },
    {
      "cell_type": "markdown",
      "id": "Z0oexy_WZsgj",
      "metadata": {
        "id": "Z0oexy_WZsgj"
      },
      "source": [
        "#### **Вывод по базовой оптимизации:**\n",
        "На множестве примеров нам удалось продемонстрировать более эффективную и быструю работу RandomizedSearchCV над GridSearchCV."
      ]
    },
    {
      "cell_type": "markdown",
      "id": "9c224fa3-0468-4aa0-9877-057a98a92010",
      "metadata": {
        "id": "9c224fa3-0468-4aa0-9877-057a98a92010"
      },
      "source": [
        "## 3. Продвинутая оптимизация."
      ]
    },
    {
      "cell_type": "markdown",
      "id": "abd91fa8-8b52-4c41-ade6-ec96a1895a0a",
      "metadata": {
        "id": "abd91fa8-8b52-4c41-ade6-ec96a1895a0a"
      },
      "source": [
        "Оценка качества модели для каждой комбинации гиперпараметров является дорогостоящей частью оптимизации, поэтому в идеале мы хотим делать это самым эффективным образом. Один из способов  — это выбор следующей комбинации гиперпараметров на основе прошлых результатов. \n",
        "Байесовская оптимизация отличается от случайного поиска или поиска по сетке тем, что делает именно это: вместо того, чтобы просто выбирать комбинации из сетки, не имеющей информации о прошлых оценках, байесовские методы учитывают предыдущие результаты, чтобы попробовать более многообещающие комбинации значений. Это позволяет во многих случаях найти лучшие значения гиперпараметров модели за меньшее количество времени.\n",
        "Таким образом, мы получаем и более быструю оптимизацию, и более качественный результат. Это два желаемых результата, особенно когда мы работаем с настройкой гиперпараметров моделей машинного обучения."
      ]
    },
    {
      "cell_type": "markdown",
      "id": "Kmo2b6kPChhN",
      "metadata": {
        "id": "Kmo2b6kPChhN"
      },
      "source": [
        "### <center> Hyperopt"
      ]
    },
    {
      "cell_type": "code",
      "execution_count": 34,
      "id": "aSpCOHIW7i_u",
      "metadata": {
        "id": "aSpCOHIW7i_u"
      },
      "outputs": [],
      "source": [
        "# Устанавливаем библиотеку\n",
        "# !pip install hyperopt\n",
        "# или\n",
        "#!conda install -c conda-forge hyperopt"
      ]
    },
    {
      "cell_type": "code",
      "execution_count": 35,
      "id": "Ae44foDuCzke",
      "metadata": {
        "colab": {
          "base_uri": "https://localhost:8080/"
        },
        "id": "Ae44foDuCzke",
        "outputId": "be5a22c4-6f12-40d2-adb9-84f76d9c6b36"
      },
      "outputs": [
        {
          "output_type": "stream",
          "name": "stdout",
          "text": [
            "Версия Hyperopt : 0.2\n"
          ]
        }
      ],
      "source": [
        "#делаем импорт и выведем версию библиотеки\n",
        "from sklearn.model_selection import cross_val_score\n",
        "import hyperopt\n",
        "from hyperopt import hp, fmin, tpe, Trials\n",
        "# fmin - основная функция, она будет минимизировать наш функционал\n",
        "# tpe - алгоритм оптимизации\n",
        "# hp - включает набор методов для объявления пространства поиска гиперпараметров\n",
        "# trails - используется для логирования результатов\n",
        "\n",
        "print(\"Версия Hyperopt : {}\".format(hyperopt.__version__))"
      ]
    },
    {
      "cell_type": "markdown",
      "id": "z9K7uLdZ69xr",
      "metadata": {
        "id": "z9K7uLdZ69xr"
      },
      "source": [
        "Настроим оптимизацию гиперпараметров для алгоритма случайного леса."
      ]
    },
    {
      "cell_type": "code",
      "execution_count": 36,
      "id": "8dWxW_9K_qJp",
      "metadata": {
        "id": "8dWxW_9K_qJp"
      },
      "outputs": [],
      "source": [
        "# зададим пространство поиска гиперпараметров\n",
        "space={'n_estimators': hp.quniform('n_estimators', 100, 200, 1),\n",
        "       'max_depth' : hp.quniform('max_depth', 15, 26, 1),\n",
        "       'min_samples_leaf': hp.quniform('min_samples_leaf', 2, 10, 1)\n",
        "      }"
      ]
    },
    {
      "cell_type": "markdown",
      "id": "pci4SxXM_Cb4",
      "metadata": {
        "id": "pci4SxXM_Cb4"
      },
      "source": [
        "Интерфейс hyperopt отличается от Grid или RandomizedSearch, поэтому нам нужно создать функцию для минимизации, она должна принимать словарь значений гиперпараметров и возвращать значение целевой функции."
      ]
    },
    {
      "cell_type": "code",
      "execution_count": 37,
      "id": "t3JS7HXU8pd2",
      "metadata": {
        "id": "t3JS7HXU8pd2"
      },
      "outputs": [],
      "source": [
        "# зафксируем random_state\n",
        "random_state = 42\n",
        "def hyperopt_rf(params, cv=5, X=X_train_scaled, y=y_train, random_state=random_state):\n",
        "    # функция получает комбинацию гиперпараметров в \"params\"\n",
        "    params = {'n_estimators': int(params['n_estimators']), \n",
        "              'max_depth': int(params['max_depth']), \n",
        "             'min_samples_leaf': int(params['min_samples_leaf'])\n",
        "              }\n",
        "  \n",
        "    # используем эту комбинацию для построения модели\n",
        "    model = ensemble.RandomForestClassifier(**params, random_state=random_state)\n",
        "\n",
        "    # обучаем модель\n",
        "    model.fit(X, y)\n",
        "    score = metrics.f1_score(y, model.predict(X))\n",
        "    \n",
        "    # обучать модель можно также с помощью кросс-валидации\n",
        "    # применим  cross validation с тем же количеством фолдов\n",
        "    # score = cross_val_score(model, X, y, cv=cv, scoring=\"f1\", n_jobs=-1).mean()\n",
        "\n",
        "    # метрику необходимо минимизировать, поэтому ставим знак минус\n",
        "    return -score"
      ]
    },
    {
      "cell_type": "code",
      "execution_count": 38,
      "id": "qxKIThc002O1",
      "metadata": {
        "colab": {
          "base_uri": "https://localhost:8080/"
        },
        "id": "qxKIThc002O1",
        "outputId": "abadef96-0f3c-4a58-be46-9981be74e312"
      },
      "outputs": [
        {
          "output_type": "stream",
          "name": "stdout",
          "text": [
            "100%|██████████| 20/20 [01:06<00:00,  3.35s/it, best loss: -0.7986892215038526]\n",
            "Наилучшие значения гиперпараметров {'max_depth': 24.0, 'min_samples_leaf': 2.0, 'n_estimators': 153.0}\n",
            "CPU times: user 1min 5s, sys: 117 ms, total: 1min 5s\n",
            "Wall time: 1min 6s\n"
          ]
        }
      ],
      "source": [
        "# начинаем подбор гиперпараметров\n",
        "%%time\n",
        "\n",
        "trials = Trials() # используется для логирования результатов\n",
        "\n",
        "best=fmin(hyperopt_rf, # наша функция \n",
        "          space=space, # пространство гиперпараметров\n",
        "          algo=tpe.suggest, # алгоритм оптимизации, установлен по умолчанию, задавать необязательно\n",
        "          max_evals=20, # максимальное количество итераций\n",
        "          trials=trials, # логирование результатов\n",
        "          rstate=np.random.RandomState(random_state)# фиксируем для повторяемости результата\n",
        "         )\n",
        "print(\"Наилучшие значения гиперпараметров {}\".format(best))"
      ]
    },
    {
      "cell_type": "code",
      "execution_count": 39,
      "id": "GjN-n5J601hy",
      "metadata": {
        "colab": {
          "base_uri": "https://localhost:8080/"
        },
        "id": "GjN-n5J601hy",
        "outputId": "ba9d64e5-88e1-4488-b475-4a9bc6cba097"
      },
      "outputs": [
        {
          "output_type": "stream",
          "name": "stdout",
          "text": [
            "f1_score на обучающем наборе: 0.80\n",
            "accuracy на тестовом наборе: 0.86\n",
            "f1_score на тестовом наборе: 0.68\n"
          ]
        }
      ],
      "source": [
        "# рассчитаем точность для тестовой выборки\n",
        "model = ensemble.RandomForestClassifier(\n",
        "    random_state=random_state, \n",
        "    n_estimators=int(best['n_estimators']),\n",
        "    max_depth=int(best['max_depth']),\n",
        "    min_samples_leaf=int(best['min_samples_leaf'])\n",
        ")\n",
        "model.fit(X_train_scaled, y_train)\n",
        "y_train_pred = model.predict(X_train_scaled)\n",
        "print('f1_score на обучающем наборе: {:.2f}'.format(metrics.f1_score(y_train, y_train_pred)))\n",
        "print(\"accuracy на тестовом наборе: {:.2f}\".format(model.score(X_test_scaled, y_test)))\n",
        "y_test_pred = model.predict(X_test_scaled)\n",
        "print('f1_score на тестовом наборе: {:.2f}'.format(metrics.f1_score(y_test, y_test_pred)))"
      ]
    },
    {
      "cell_type": "markdown",
      "id": "ZgKKr7KXV4aV",
      "metadata": {
        "id": "ZgKKr7KXV4aV"
      },
      "source": [
        "Мы можем продолжить поиск гиперпараметров, чтобы получить лучшие результаты.\n",
        "\n",
        "Для байесовских оптимизаторов это возможно, так как они ориентируются на прошлые результаты: предыдущие входные данные для целевой функции и результирующие потери.\n",
        "\n",
        "Hyperopt продолжит поиск с того места, где он остановился, если мы передадим ему объект Trials, который уже содержит информацию о предыдущих запусках.\n",
        "\n",
        "Всегда сохраняйте свои предыдущие результаты."
      ]
    },
    {
      "cell_type": "code",
      "execution_count": 40,
      "id": "-veH7VaqSKlD",
      "metadata": {
        "colab": {
          "base_uri": "https://localhost:8080/"
        },
        "id": "-veH7VaqSKlD",
        "outputId": "7afa735b-4039-45a2-8e56-7b22a41fcf79"
      },
      "outputs": [
        {
          "output_type": "stream",
          "name": "stdout",
          "text": [
            "100%|██████████| 3/3 [00:07<00:00,  2.62s/it, best loss: -0.7986892215038526]\n",
            "Наилучшие значения гиперпараметров {'max_depth': 24.0, 'min_samples_leaf': 2.0, 'n_estimators': 153.0}\n"
          ]
        }
      ],
      "source": [
        "# если необходимо продолжить подбор, \n",
        "# то увеличиваем max_evals(должен быть строго больше, чем на предыдуших итерациях) \n",
        "# и используем старый trials\n",
        "best=fmin(hyperopt_rf, # наша функция \n",
        "          space=space, # пространство гиперпараметров\n",
        "          algo=tpe.suggest, # алгоритм оптимизации, установлен по умолчанию, задавать необязательно\n",
        "          max_evals=23, # максимальное количество итераций\n",
        "          trials=trials, # логирование результатов\n",
        "          rstate=np.random.RandomState(random_state)# фиксируем для повторяемости результата\n",
        "         )\n",
        "print(\"Наилучшие значения гиперпараметров {}\".format(best))"
      ]
    },
    {
      "cell_type": "markdown",
      "id": "TqQqJI7UHLUJ",
      "metadata": {
        "id": "TqQqJI7UHLUJ"
      },
      "source": [
        "Видим, что Hyperot смог улучшить нашу метрику, причем за меньшее время."
      ]
    },
    {
      "cell_type": "code",
      "execution_count": 41,
      "id": "m2DYa5gQ9Ffu",
      "metadata": {
        "colab": {
          "base_uri": "https://localhost:8080/",
          "height": 598
        },
        "id": "m2DYa5gQ9Ffu",
        "outputId": "c735d073-873f-4c63-ffb0-7a8812f3f12a"
      },
      "outputs": [
        {
          "output_type": "display_data",
          "data": {
            "text/plain": [
              "<Figure size 720x720 with 3 Axes>"
            ],
            "image/png": "[encoded data removed]"
          },
          "metadata": {}
        }
      ],
      "source": [
        "# отрисуем, как менялась точность при различных гиперпараметрах\n",
        "tpe_results=np.array([[x['result']['loss'],\n",
        "                      x['misc']['vals']['max_depth'][0],\n",
        "                      x['misc']['vals']['n_estimators'][0]] for x in trials.trials])\n",
        "\n",
        "tpe_results_df=pd.DataFrame(tpe_results,\n",
        "                           columns=['score', 'max_depth', 'n_estimators'])\n",
        "# тепловая карта в данном случае не очень наглядна, возьмем линейный график\n",
        "tpe_results_df.plot(subplots=True,figsize=(10, 10));"
      ]
    },
    {
      "cell_type": "markdown",
      "id": "gawHqGmsHf4G",
      "metadata": {
        "id": "gawHqGmsHf4G"
      },
      "source": [
        "По графикам видно, что лучшая точность достигается именно в best_params. Но заметьте, что метрика отрицательная, так как нам необходимо максимизировать нашу метрику, в то время как,  hyperopt может только минимизировать."
      ]
    },
    {
      "cell_type": "markdown",
      "id": "b8734d51-d5d5-4424-b8a3-b341dde985b5",
      "metadata": {
        "id": "b8734d51-d5d5-4424-b8a3-b341dde985b5"
      },
      "source": [
        "## <center> Optuna"
      ]
    },
    {
      "cell_type": "markdown",
      "id": "64a579c2-4e99-4373-b3c4-ca4aad36e5c0",
      "metadata": {
        "id": "64a579c2-4e99-4373-b3c4-ca4aad36e5c0"
      },
      "source": [
        "Optuna - это достаточно новый фреймворк/библиотека, разработанный специально для оптимизации гиперпараметров. Помимо байесовских алгоритмов, есть возможность удаления плохих комбинаций из рассмотрения. По умолчанию удаляет комбинации, в которых модель дает качество ниже медианы из уже рассмотренных. Optuna помогает  быстрее находить лучшие гиперпараметры и работает с большинством современных известных библиотек ML, таких как scikit-learn, xgboost, PyTorch, TensorFlow, skorch, lightgbm, Keras, fast-ai и др."
      ]
    },
    {
      "cell_type": "code",
      "execution_count": 44,
      "id": "cNySTr2GqwbF",
      "metadata": {
        "id": "cNySTr2GqwbF",
        "colab": {
          "base_uri": "https://localhost:8080/"
        },
        "outputId": "0c29fffa-5fc0-4726-ffe6-7ab49dd9a2c8"
      },
      "outputs": [
        {
          "output_type": "stream",
          "name": "stdout",
          "text": [
            "Looking in indexes: https://pypi.org/simple, https://us-python.pkg.dev/colab-wheels/public/simple/\n",
            "Collecting optuna\n",
            "  Downloading optuna-3.0.3-py3-none-any.whl (348 kB)\n",
            "\u001b[K     |████████████████████████████████| 348 kB 24.7 MB/s \n",
            "\u001b[?25hRequirement already satisfied: scipy<1.9.0,>=1.7.0 in /usr/local/lib/python3.7/dist-packages (from optuna) (1.7.3)\n",
            "Requirement already satisfied: numpy in /usr/local/lib/python3.7/dist-packages (from optuna) (1.21.6)\n",
            "Requirement already satisfied: sqlalchemy>=1.3.0 in /usr/local/lib/python3.7/dist-packages (from optuna) (1.4.43)\n",
            "Collecting colorlog\n",
            "  Downloading colorlog-6.7.0-py2.py3-none-any.whl (11 kB)\n",
            "Requirement already satisfied: importlib-metadata<5.0.0 in /usr/local/lib/python3.7/dist-packages (from optuna) (4.13.0)\n",
            "Requirement already satisfied: PyYAML in /usr/local/lib/python3.7/dist-packages (from optuna) (6.0)\n",
            "Requirement already satisfied: tqdm in /usr/local/lib/python3.7/dist-packages (from optuna) (4.64.1)\n",
            "Collecting alembic>=1.5.0\n",
            "  Downloading alembic-1.8.1-py3-none-any.whl (209 kB)\n",
            "\u001b[K     |████████████████████████████████| 209 kB 77.2 MB/s \n",
            "\u001b[?25hRequirement already satisfied: packaging>=20.0 in /usr/local/lib/python3.7/dist-packages (from optuna) (21.3)\n",
            "Collecting cliff\n",
            "  Downloading cliff-3.10.1-py3-none-any.whl (81 kB)\n",
            "\u001b[K     |████████████████████████████████| 81 kB 10.5 MB/s \n",
            "\u001b[?25hCollecting cmaes>=0.8.2\n",
            "  Downloading cmaes-0.9.0-py3-none-any.whl (23 kB)\n",
            "Collecting Mako\n",
            "  Downloading Mako-1.2.3-py3-none-any.whl (78 kB)\n",
            "\u001b[K     |████████████████████████████████| 78 kB 9.0 MB/s \n",
            "\u001b[?25hRequirement already satisfied: importlib-resources in /usr/local/lib/python3.7/dist-packages (from alembic>=1.5.0->optuna) (5.10.0)\n",
            "Requirement already satisfied: typing-extensions>=3.6.4 in /usr/local/lib/python3.7/dist-packages (from importlib-metadata<5.0.0->optuna) (4.1.1)\n",
            "Requirement already satisfied: zipp>=0.5 in /usr/local/lib/python3.7/dist-packages (from importlib-metadata<5.0.0->optuna) (3.10.0)\n",
            "Requirement already satisfied: pyparsing!=3.0.5,>=2.0.2 in /usr/local/lib/python3.7/dist-packages (from packaging>=20.0->optuna) (3.0.9)\n",
            "Requirement already satisfied: greenlet!=0.4.17 in /usr/local/lib/python3.7/dist-packages (from sqlalchemy>=1.3.0->optuna) (2.0.1)\n",
            "Collecting cmd2>=1.0.0\n",
            "  Downloading cmd2-2.4.2-py3-none-any.whl (147 kB)\n",
            "\u001b[K     |████████████████████████████████| 147 kB 75.1 MB/s \n",
            "\u001b[?25hCollecting pbr!=2.1.0,>=2.0.0\n",
            "  Downloading pbr-5.11.0-py2.py3-none-any.whl (112 kB)\n",
            "\u001b[K     |████████████████████████████████| 112 kB 77.7 MB/s \n",
            "\u001b[?25hRequirement already satisfied: PrettyTable>=0.7.2 in /usr/local/lib/python3.7/dist-packages (from cliff->optuna) (3.5.0)\n",
            "Collecting stevedore>=2.0.1\n",
            "  Downloading stevedore-3.5.2-py3-none-any.whl (50 kB)\n",
            "\u001b[K     |████████████████████████████████| 50 kB 8.0 MB/s \n",
            "\u001b[?25hCollecting autopage>=0.4.0\n",
            "  Downloading autopage-0.5.1-py3-none-any.whl (29 kB)\n",
            "Requirement already satisfied: wcwidth>=0.1.7 in /usr/local/lib/python3.7/dist-packages (from cmd2>=1.0.0->cliff->optuna) (0.2.5)\n",
            "Collecting pyperclip>=1.6\n",
            "  Downloading pyperclip-1.8.2.tar.gz (20 kB)\n",
            "Requirement already satisfied: attrs>=16.3.0 in /usr/local/lib/python3.7/dist-packages (from cmd2>=1.0.0->cliff->optuna) (22.1.0)\n",
            "Requirement already satisfied: MarkupSafe>=0.9.2 in /usr/local/lib/python3.7/dist-packages (from Mako->alembic>=1.5.0->optuna) (2.0.1)\n",
            "Building wheels for collected packages: pyperclip\n",
            "  Building wheel for pyperclip (setup.py) ... \u001b[?25l\u001b[?25hdone\n",
            "  Created wheel for pyperclip: filename=pyperclip-1.8.2-py3-none-any.whl size=11137 sha256=a2c68f10566a32020c8dff1bf5da6752ab76c19617f50d9655aeaadbd4c09b75\n",
            "  Stored in directory: /root/.cache/pip/wheels/9f/18/84/8f69f8b08169c7bae2dde6bd7daf0c19fca8c8e500ee620a28\n",
            "Successfully built pyperclip\n",
            "Installing collected packages: pyperclip, pbr, stevedore, Mako, cmd2, autopage, colorlog, cmaes, cliff, alembic, optuna\n",
            "Successfully installed Mako-1.2.3 alembic-1.8.1 autopage-0.5.1 cliff-3.10.1 cmaes-0.9.0 cmd2-2.4.2 colorlog-6.7.0 optuna-3.0.3 pbr-5.11.0 pyperclip-1.8.2 stevedore-3.5.2\n"
          ]
        }
      ],
      "source": [
        "# Устанавливаем библиотеку\n",
        "# !pip install optuna\n",
        "# или\n",
        "#!conda install -c conda-forge optuna"
      ]
    },
    {
      "cell_type": "code",
      "execution_count": 45,
      "id": "CQL0pyNGqQgR",
      "metadata": {
        "colab": {
          "base_uri": "https://localhost:8080/"
        },
        "id": "CQL0pyNGqQgR",
        "outputId": "6f9088cd-7d63-4793-d31d-e2d86081f743"
      },
      "outputs": [
        {
          "output_type": "stream",
          "name": "stdout",
          "text": [
            "Версия Optuna: 3.0.3\n"
          ]
        }
      ],
      "source": [
        "import optuna\n",
        "\n",
        "print(\"Версия Optuna: {}\".format(optuna.__version__))"
      ]
    },
    {
      "cell_type": "markdown",
      "id": "PPR54ca3DbDi",
      "metadata": {
        "id": "PPR54ca3DbDi"
      },
      "source": [
        "Настроим оптимизацию гиперпараметров для алгоритма случайного леса."
      ]
    },
    {
      "cell_type": "code",
      "execution_count": 46,
      "id": "aSF_70FWu3T6",
      "metadata": {
        "id": "aSF_70FWu3T6"
      },
      "outputs": [],
      "source": [
        "def optuna_rf(trial):\n",
        "  # задаем пространства поиска гиперпараметров\n",
        "  n_estimators = trial.suggest_int('n_estimators', 100, 200, 1)\n",
        "  max_depth = trial.suggest_int('max_depth', 10, 30, 1)\n",
        "  min_samples_leaf = trial.suggest_int('min_samples_leaf', 2, 10, 1)\n",
        "\n",
        "  # создаем модель\n",
        "  model = ensemble.RandomForestClassifier(n_estimators=n_estimators,\n",
        "                                          max_depth=max_depth,\n",
        "                                          min_samples_leaf=min_samples_leaf,\n",
        "                                          random_state=random_state)\n",
        "  # обучаем модель\n",
        "  model.fit(X_train_scaled, y_train)\n",
        "  score = metrics.f1_score(y_train, model.predict(X_train_scaled))\n",
        "\n",
        "  return score\n",
        "  \n",
        "  "
      ]
    },
    {
      "cell_type": "code",
      "execution_count": 47,
      "id": "ubC21yLQpYyF",
      "metadata": {
        "colab": {
          "base_uri": "https://localhost:8080/"
        },
        "id": "ubC21yLQpYyF",
        "outputId": "41744d10-d9a9-4618-9e75-c43d965d5c0a"
      },
      "outputs": [
        {
          "output_type": "stream",
          "name": "stderr",
          "text": [
            "\u001b[32m[I 2022-11-12 14:25:31,772]\u001b[0m A new study created in memory with name: RandomForestClassifier\u001b[0m\n",
            "\u001b[32m[I 2022-11-12 14:25:37,866]\u001b[0m Trial 0 finished with value: 0.6582662245381337 and parameters: {'n_estimators': 154, 'max_depth': 14, 'min_samples_leaf': 9}. Best is trial 0 with value: 0.6582662245381337.\u001b[0m\n",
            "\u001b[32m[I 2022-11-12 14:25:43,329]\u001b[0m Trial 1 finished with value: 0.6952633019987223 and parameters: {'n_estimators': 150, 'max_depth': 27, 'min_samples_leaf': 8}. Best is trial 1 with value: 0.6952633019987223.\u001b[0m\n",
            "\u001b[32m[I 2022-11-12 14:25:45,674]\u001b[0m Trial 2 finished with value: 0.6449885233358837 and parameters: {'n_estimators': 140, 'max_depth': 12, 'min_samples_leaf': 10}. Best is trial 1 with value: 0.6952633019987223.\u001b[0m\n",
            "\u001b[32m[I 2022-11-12 14:25:47,645]\u001b[0m Trial 3 finished with value: 0.6354579746590578 and parameters: {'n_estimators': 127, 'max_depth': 10, 'min_samples_leaf': 6}. Best is trial 1 with value: 0.6952633019987223.\u001b[0m\n",
            "\u001b[32m[I 2022-11-12 14:25:50,903]\u001b[0m Trial 4 finished with value: 0.7194989106753812 and parameters: {'n_estimators': 135, 'max_depth': 28, 'min_samples_leaf': 5}. Best is trial 4 with value: 0.7194989106753812.\u001b[0m\n",
            "\u001b[32m[I 2022-11-12 14:25:58,304]\u001b[0m Trial 5 finished with value: 0.7263005256479971 and parameters: {'n_estimators': 159, 'max_depth': 21, 'min_samples_leaf': 4}. Best is trial 5 with value: 0.7263005256479971.\u001b[0m\n",
            "\u001b[32m[I 2022-11-12 14:26:01,699]\u001b[0m Trial 6 finished with value: 0.6894879209029009 and parameters: {'n_estimators': 111, 'max_depth': 14, 'min_samples_leaf': 3}. Best is trial 5 with value: 0.7263005256479971.\u001b[0m\n",
            "\u001b[32m[I 2022-11-12 14:26:04,533]\u001b[0m Trial 7 finished with value: 0.7570520282976627 and parameters: {'n_estimators': 130, 'max_depth': 25, 'min_samples_leaf': 3}. Best is trial 7 with value: 0.7570520282976627.\u001b[0m\n",
            "\u001b[32m[I 2022-11-12 14:26:07,860]\u001b[0m Trial 8 finished with value: 0.6478576893649578 and parameters: {'n_estimators': 197, 'max_depth': 12, 'min_samples_leaf': 8}. Best is trial 7 with value: 0.7570520282976627.\u001b[0m\n",
            "\u001b[32m[I 2022-11-12 14:26:11,832]\u001b[0m Trial 9 finished with value: 0.7032246310803425 and parameters: {'n_estimators': 153, 'max_depth': 28, 'min_samples_leaf': 7}. Best is trial 7 with value: 0.7570520282976627.\u001b[0m\n",
            "\u001b[32m[I 2022-11-12 14:26:14,140]\u001b[0m Trial 10 finished with value: 0.7922885572139302 and parameters: {'n_estimators': 102, 'max_depth': 23, 'min_samples_leaf': 2}. Best is trial 10 with value: 0.7922885572139302.\u001b[0m\n",
            "\u001b[32m[I 2022-11-12 14:26:16,473]\u001b[0m Trial 11 finished with value: 0.7863111111111111 and parameters: {'n_estimators': 101, 'max_depth': 22, 'min_samples_leaf': 2}. Best is trial 10 with value: 0.7922885572139302.\u001b[0m\n",
            "\u001b[32m[I 2022-11-12 14:26:18,729]\u001b[0m Trial 12 finished with value: 0.7734241908006814 and parameters: {'n_estimators': 100, 'max_depth': 20, 'min_samples_leaf': 2}. Best is trial 10 with value: 0.7922885572139302.\u001b[0m\n",
            "\u001b[32m[I 2022-11-12 14:26:21,245]\u001b[0m Trial 13 finished with value: 0.7851614625033361 and parameters: {'n_estimators': 112, 'max_depth': 22, 'min_samples_leaf': 2}. Best is trial 10 with value: 0.7922885572139302.\u001b[0m\n",
            "\u001b[32m[I 2022-11-12 14:26:23,254]\u001b[0m Trial 14 finished with value: 0.7174806024646281 and parameters: {'n_estimators': 101, 'max_depth': 19, 'min_samples_leaf': 4}. Best is trial 10 with value: 0.7922885572139302.\u001b[0m\n",
            "\u001b[32m[I 2022-11-12 14:26:27,664]\u001b[0m Trial 15 finished with value: 0.8002125398512221 and parameters: {'n_estimators': 195, 'max_depth': 24, 'min_samples_leaf': 2}. Best is trial 15 with value: 0.8002125398512221.\u001b[0m\n",
            "\u001b[32m[I 2022-11-12 14:26:31,807]\u001b[0m Trial 16 finished with value: 0.732648278348657 and parameters: {'n_estimators': 196, 'max_depth': 25, 'min_samples_leaf': 4}. Best is trial 15 with value: 0.8002125398512221.\u001b[0m\n",
            "\u001b[32m[I 2022-11-12 14:26:35,415]\u001b[0m Trial 17 finished with value: 0.7030391797876235 and parameters: {'n_estimators': 177, 'max_depth': 18, 'min_samples_leaf': 5}. Best is trial 15 with value: 0.8002125398512221.\u001b[0m\n",
            "\u001b[32m[I 2022-11-12 14:26:39,353]\u001b[0m Trial 18 finished with value: 0.7674232309746329 and parameters: {'n_estimators': 172, 'max_depth': 30, 'min_samples_leaf': 3}. Best is trial 15 with value: 0.8002125398512221.\u001b[0m\n",
            "\u001b[32m[I 2022-11-12 14:26:43,114]\u001b[0m Trial 19 finished with value: 0.7064195050680303 and parameters: {'n_estimators': 182, 'max_depth': 24, 'min_samples_leaf': 6}. Best is trial 15 with value: 0.8002125398512221.\u001b[0m\n"
          ]
        },
        {
          "output_type": "stream",
          "name": "stdout",
          "text": [
            "CPU times: user 1min 4s, sys: 174 ms, total: 1min 4s\n",
            "Wall time: 1min 11s\n"
          ]
        }
      ],
      "source": [
        "%%time\n",
        "# cоздаем объект исследования\n",
        "# можем напрямую указать, что нам необходимо максимизировать метрику direction=\"maximize\"\n",
        "study = optuna.create_study(study_name=\"RandomForestClassifier\", direction=\"maximize\")\n",
        "# ищем лучшую комбинацию гиперпараметров n_trials раз\n",
        "study.optimize(optuna_rf, n_trials=20)"
      ]
    },
    {
      "cell_type": "code",
      "execution_count": 48,
      "id": "6cNF33I2pYaq",
      "metadata": {
        "colab": {
          "base_uri": "https://localhost:8080/"
        },
        "id": "6cNF33I2pYaq",
        "outputId": "b7366743-ef4a-4826-e687-26eef549a895"
      },
      "outputs": [
        {
          "output_type": "stream",
          "name": "stdout",
          "text": [
            "Наилучшие значения гиперпараметров {'n_estimators': 195, 'max_depth': 24, 'min_samples_leaf': 2}\n",
            "f1_score на обучающем наборе: 0.80\n"
          ]
        }
      ],
      "source": [
        "# выводим результаты на обучающей выборке\n",
        "print(\"Наилучшие значения гиперпараметров {}\".format(study.best_params))\n",
        "print(\"f1_score на обучающем наборе: {:.2f}\".format(study.best_value))"
      ]
    },
    {
      "cell_type": "code",
      "execution_count": 49,
      "id": "JlFIQ0p1pYAJ",
      "metadata": {
        "colab": {
          "base_uri": "https://localhost:8080/"
        },
        "id": "JlFIQ0p1pYAJ",
        "outputId": "d6aebe93-40ae-4db1-ac46-5468a41e2d9c"
      },
      "outputs": [
        {
          "output_type": "stream",
          "name": "stdout",
          "text": [
            "accuracy на тестовом наборе: 0.86\n",
            "f1_score на тестовом наборе: 0.67\n"
          ]
        }
      ],
      "source": [
        "# рассчитаем точность для тестовой выборки\n",
        "model = ensemble.RandomForestClassifier(**study.best_params,random_state=random_state, )\n",
        "model.fit(X_train_scaled, y_train)\n",
        "y_train_pred = model.predict(X_train_scaled)\n",
        "print(\"accuracy на тестовом наборе: {:.2f}\".format(model.score(X_test_scaled, y_test)))\n",
        "y_test_pred = model.predict(X_test_scaled)\n",
        "print('f1_score на тестовом наборе: {:.2f}'.format(metrics.f1_score(y_test, y_test_pred)))"
      ]
    },
    {
      "cell_type": "code",
      "execution_count": 50,
      "id": "bvRT3n2Brck_",
      "metadata": {
        "colab": {
          "base_uri": "https://localhost:8080/"
        },
        "id": "bvRT3n2Brck_",
        "outputId": "b4443356-7a2b-46bf-d3f4-2f8cd0a2f7bb"
      },
      "outputs": [
        {
          "output_type": "stream",
          "name": "stderr",
          "text": [
            "\u001b[32m[I 2022-11-12 14:26:53,783]\u001b[0m Trial 20 finished with value: 0.734228065370218 and parameters: {'n_estimators': 170, 'max_depth': 16, 'min_samples_leaf': 2}. Best is trial 15 with value: 0.8002125398512221.\u001b[0m\n",
            "\u001b[32m[I 2022-11-12 14:26:56,500]\u001b[0m Trial 21 finished with value: 0.7940653873489695 and parameters: {'n_estimators': 117, 'max_depth': 23, 'min_samples_leaf': 2}. Best is trial 15 with value: 0.8002125398512221.\u001b[0m\n",
            "\u001b[32m[I 2022-11-12 14:26:59,114]\u001b[0m Trial 22 finished with value: 0.7481081081081081 and parameters: {'n_estimators': 120, 'max_depth': 23, 'min_samples_leaf': 3}. Best is trial 15 with value: 0.8002125398512221.\u001b[0m\n",
            "\u001b[32m[I 2022-11-12 14:27:01,769]\u001b[0m Trial 23 finished with value: 0.8044860473330979 and parameters: {'n_estimators': 114, 'max_depth': 25, 'min_samples_leaf': 2}. Best is trial 23 with value: 0.8044860473330979.\u001b[0m\n",
            "\u001b[32m[I 2022-11-12 14:27:04,918]\u001b[0m Trial 24 finished with value: 0.762568086436289 and parameters: {'n_estimators': 141, 'max_depth': 26, 'min_samples_leaf': 3}. Best is trial 23 with value: 0.8044860473330979.\u001b[0m\n",
            "\u001b[32m[I 2022-11-12 14:27:07,439]\u001b[0m Trial 25 finished with value: 0.7406213627003313 and parameters: {'n_estimators': 118, 'max_depth': 30, 'min_samples_leaf': 4}. Best is trial 23 with value: 0.8044860473330979.\u001b[0m\n",
            "\u001b[32m[I 2022-11-12 14:27:11,137]\u001b[0m Trial 26 finished with value: 0.7019248395967004 and parameters: {'n_estimators': 187, 'max_depth': 18, 'min_samples_leaf': 5}. Best is trial 23 with value: 0.8044860473330979.\u001b[0m\n",
            "\u001b[32m[I 2022-11-12 14:27:14,009]\u001b[0m Trial 27 finished with value: 0.8090164656159197 and parameters: {'n_estimators': 122, 'max_depth': 26, 'min_samples_leaf': 2}. Best is trial 27 with value: 0.8090164656159197.\u001b[0m\n",
            "\u001b[32m[I 2022-11-12 14:27:17,590]\u001b[0m Trial 28 finished with value: 0.7584973166368515 and parameters: {'n_estimators': 163, 'max_depth': 27, 'min_samples_leaf': 3}. Best is trial 27 with value: 0.8090164656159197.\u001b[0m\n",
            "\u001b[32m[I 2022-11-12 14:27:20,637]\u001b[0m Trial 29 finished with value: 0.7324731570874312 and parameters: {'n_estimators': 142, 'max_depth': 25, 'min_samples_leaf': 4}. Best is trial 27 with value: 0.8090164656159197.\u001b[0m\n"
          ]
        },
        {
          "output_type": "stream",
          "name": "stdout",
          "text": [
            "CPU times: user 30.4 s, sys: 78.1 ms, total: 30.5 s\n",
            "Wall time: 31.2 s\n"
          ]
        }
      ],
      "source": [
        "%%time\n",
        "# можем прододжить подбор, указав n_trials(любое число, которое добавится к предыдущим итерациям) \n",
        "study.optimize(optuna_rf, n_trials=10)"
      ]
    },
    {
      "cell_type": "markdown",
      "id": "7YnKbvg0MFCs",
      "metadata": {
        "id": "7YnKbvg0MFCs"
      },
      "source": [
        "**Видим, что Optuna также удалось увеличить метрику, но за меньшее время, чем Hyperopt.**"
      ]
    },
    {
      "cell_type": "markdown",
      "id": "VmEnYQzmvgNa",
      "metadata": {
        "id": "VmEnYQzmvgNa"
      },
      "source": [
        "Рассмотрим различные визуализации, доступные через Optuna, которые помогают принимать лучшие решения, видеть влияние различных гиперпараметров на производительность модели.\n",
        "\n",
        "Сначало необходимо проверить, доступна ли поддержка визуализации: is_available (), т.е. доступны ли правильные версии plotly и matplotlib для создания визуализаций."
      ]
    },
    {
      "cell_type": "code",
      "execution_count": 51,
      "id": "uFSzqrVzssLs",
      "metadata": {
        "colab": {
          "base_uri": "https://localhost:8080/"
        },
        "id": "uFSzqrVzssLs",
        "outputId": "726c657b-9b2a-4d14-c278-9a32a87b26b6"
      },
      "outputs": [
        {
          "output_type": "execute_result",
          "data": {
            "text/plain": [
              "True"
            ]
          },
          "metadata": {},
          "execution_count": 51
        }
      ],
      "source": [
        "optuna.visualization.is_available()"
      ]
    },
    {
      "cell_type": "markdown",
      "id": "fBO5EyP1wT6i",
      "metadata": {
        "id": "fBO5EyP1wT6i"
      },
      "source": [
        "График истории оптимизации - отображает количество испытаний на оси Х и метрику на оси Y.\n",
        "\n",
        "Следует использовать эту диаграмму, чтобы проверить, идет ли оптимизация гиперпараметров в правильном направлении или нет."
      ]
    },
    {
      "cell_type": "code",
      "execution_count": 52,
      "id": "mQAxHDbMsrpl",
      "metadata": {
        "colab": {
          "base_uri": "https://localhost:8080/",
          "height": 542
        },
        "id": "mQAxHDbMsrpl",
        "outputId": "5d8b6c38-b4d2-43c5-d21a-b676d33467cb"
      },
      "outputs": [
        {
          "output_type": "display_data",
          "data": {
            "text/html": [
              "<html>\n",
              "<head><meta charset=\"utf-8\" /></head>\n",
              "<body>\n",
              "    <div>            <script src=\"https://cdnjs.cloudflare.com/ajax/libs/mathjax/2.7.5/MathJax.js?config=TeX-AMS-MML_SVG\"></script><script type=\"text/javascript\">if (window.MathJax) {MathJax.Hub.Config({SVG: {font: \"STIX-Web\"}});}</script>                <script type=\"text/javascript\">window.PlotlyConfig = {MathJaxConfig: 'local'};</script>\n",
              "        <script src=\"https://cdn.plot.ly/plotly-2.8.3.min.js\"></script>                <div id=\"9a523c97-1c35-4842-9cba-15c732ec6026\" class=\"plotly-graph-div\" style=\"height:525px; width:100%;\"></div>            <script type=\"text/javascript\">                                    window.PLOTLYENV=window.PLOTLYENV || {};                                    if (document.getElementById(\"9a523c97-1c35-4842-9cba-15c732ec6026\")) {                    Plotly.newPlot(                        \"9a523c97-1c35-4842-9cba-15c732ec6026\",                        [{\"mode\":\"markers\",\"name\":\"f1_score\",\"x\":[0,1,2,3,4,5,6,7,8,9,10,11,12,13,14,15,16,17,18,19,20,21,22,23,24,25,26,27,28,29],\"y\":[0.6582662245381337,0.6952633019987223,0.6449885233358837,0.6354579746590578,0.7194989106753812,0.7263005256479971,0.6894879209029009,0.7570520282976627,0.6478576893649578,0.7032246310803425,0.7922885572139302,0.7863111111111111,0.7734241908006814,0.7851614625033361,0.7174806024646281,0.8002125398512221,0.732648278348657,0.7030391797876235,0.7674232309746329,0.7064195050680303,0.734228065370218,0.7940653873489695,0.7481081081081081,0.8044860473330979,0.762568086436289,0.7406213627003313,0.7019248395967004,0.8090164656159197,0.7584973166368515,0.7324731570874312],\"type\":\"scatter\"},{\"name\":\"Best Value\",\"x\":[0,1,2,3,4,5,6,7,8,9,10,11,12,13,14,15,16,17,18,19,20,21,22,23,24,25,26,27,28,29],\"y\":[0.6582662245381337,0.6952633019987223,0.6952633019987223,0.6952633019987223,0.7194989106753812,0.7263005256479971,0.7263005256479971,0.7570520282976627,0.7570520282976627,0.7570520282976627,0.7922885572139302,0.7922885572139302,0.7922885572139302,0.7922885572139302,0.7922885572139302,0.8002125398512221,0.8002125398512221,0.8002125398512221,0.8002125398512221,0.8002125398512221,0.8002125398512221,0.8002125398512221,0.8002125398512221,0.8044860473330979,0.8044860473330979,0.8044860473330979,0.8044860473330979,0.8090164656159197,0.8090164656159197,0.8090164656159197],\"type\":\"scatter\"}],                        {\"title\":{\"text\":\"Optimization History Plot\"},\"xaxis\":{\"title\":{\"text\":\"Trial\"}},\"yaxis\":{\"title\":{\"text\":\"f1_score\"}},\"template\":{\"data\":{\"bar\":[{\"error_x\":{\"color\":\"#2a3f5f\"},\"error_y\":{\"color\":\"#2a3f5f\"},\"marker\":{\"line\":{\"color\":\"#E5ECF6\",\"width\":0.5},\"pattern\":{\"fillmode\":\"overlay\",\"size\":10,\"solidity\":0.2}},\"type\":\"bar\"}],\"barpolar\":[{\"marker\":{\"line\":{\"color\":\"#E5ECF6\",\"width\":0.5},\"pattern\":{\"fillmode\":\"overlay\",\"size\":10,\"solidity\":0.2}},\"type\":\"barpolar\"}],\"carpet\":[{\"aaxis\":{\"endlinecolor\":\"#2a3f5f\",\"gridcolor\":\"white\",\"linecolor\":\"white\",\"minorgridcolor\":\"white\",\"startlinecolor\":\"#2a3f5f\"},\"baxis\":{\"endlinecolor\":\"#2a3f5f\",\"gridcolor\":\"white\",\"linecolor\":\"white\",\"minorgridcolor\":\"white\",\"startlinecolor\":\"#2a3f5f\"},\"type\":\"carpet\"}],\"choropleth\":[{\"colorbar\":{\"outlinewidth\":0,\"ticks\":\"\"},\"type\":\"choropleth\"}],\"contour\":[{\"colorbar\":{\"outlinewidth\":0,\"ticks\":\"\"},\"colorscale\":[[0.0,\"#0d0887\"],[0.1111111111111111,\"#46039f\"],[0.2222222222222222,\"#7201a8\"],[0.3333333333333333,\"#9c179e\"],[0.4444444444444444,\"#bd3786\"],[0.5555555555555556,\"#d8576b\"],[0.6666666666666666,\"#ed7953\"],[0.7777777777777778,\"#fb9f3a\"],[0.8888888888888888,\"#fdca26\"],[1.0,\"#f0f921\"]],\"type\":\"contour\"}],\"contourcarpet\":[{\"colorbar\":{\"outlinewidth\":0,\"ticks\":\"\"},\"type\":\"contourcarpet\"}],\"heatmap\":[{\"colorbar\":{\"outlinewidth\":0,\"ticks\":\"\"},\"colorscale\":[[0.0,\"#0d0887\"],[0.1111111111111111,\"#46039f\"],[0.2222222222222222,\"#7201a8\"],[0.3333333333333333,\"#9c179e\"],[0.4444444444444444,\"#bd3786\"],[0.5555555555555556,\"#d8576b\"],[0.6666666666666666,\"#ed7953\"],[0.7777777777777778,\"#fb9f3a\"],[0.8888888888888888,\"#fdca26\"],[1.0,\"#f0f921\"]],\"type\":\"heatmap\"}],\"heatmapgl\":[{\"colorbar\":{\"outlinewidth\":0,\"ticks\":\"\"},\"colorscale\":[[0.0,\"#0d0887\"],[0.1111111111111111,\"#46039f\"],[0.2222222222222222,\"#7201a8\"],[0.3333333333333333,\"#9c179e\"],[0.4444444444444444,\"#bd3786\"],[0.5555555555555556,\"#d8576b\"],[0.6666666666666666,\"#ed7953\"],[0.7777777777777778,\"#fb9f3a\"],[0.8888888888888888,\"#fdca26\"],[1.0,\"#f0f921\"]],\"type\":\"heatmapgl\"}],\"histogram\":[{\"marker\":{\"pattern\":{\"fillmode\":\"overlay\",\"size\":10,\"solidity\":0.2}},\"type\":\"histogram\"}],\"histogram2d\":[{\"colorbar\":{\"outlinewidth\":0,\"ticks\":\"\"},\"colorscale\":[[0.0,\"#0d0887\"],[0.1111111111111111,\"#46039f\"],[0.2222222222222222,\"#7201a8\"],[0.3333333333333333,\"#9c179e\"],[0.4444444444444444,\"#bd3786\"],[0.5555555555555556,\"#d8576b\"],[0.6666666666666666,\"#ed7953\"],[0.7777777777777778,\"#fb9f3a\"],[0.8888888888888888,\"#fdca26\"],[1.0,\"#f0f921\"]],\"type\":\"histogram2d\"}],\"histogram2dcontour\":[{\"colorbar\":{\"outlinewidth\":0,\"ticks\":\"\"},\"colorscale\":[[0.0,\"#0d0887\"],[0.1111111111111111,\"#46039f\"],[0.2222222222222222,\"#7201a8\"],[0.3333333333333333,\"#9c179e\"],[0.4444444444444444,\"#bd3786\"],[0.5555555555555556,\"#d8576b\"],[0.6666666666666666,\"#ed7953\"],[0.7777777777777778,\"#fb9f3a\"],[0.8888888888888888,\"#fdca26\"],[1.0,\"#f0f921\"]],\"type\":\"histogram2dcontour\"}],\"mesh3d\":[{\"colorbar\":{\"outlinewidth\":0,\"ticks\":\"\"},\"type\":\"mesh3d\"}],\"parcoords\":[{\"line\":{\"colorbar\":{\"outlinewidth\":0,\"ticks\":\"\"}},\"type\":\"parcoords\"}],\"pie\":[{\"automargin\":true,\"type\":\"pie\"}],\"scatter\":[{\"marker\":{\"colorbar\":{\"outlinewidth\":0,\"ticks\":\"\"}},\"type\":\"scatter\"}],\"scatter3d\":[{\"line\":{\"colorbar\":{\"outlinewidth\":0,\"ticks\":\"\"}},\"marker\":{\"colorbar\":{\"outlinewidth\":0,\"ticks\":\"\"}},\"type\":\"scatter3d\"}],\"scattercarpet\":[{\"marker\":{\"colorbar\":{\"outlinewidth\":0,\"ticks\":\"\"}},\"type\":\"scattercarpet\"}],\"scattergeo\":[{\"marker\":{\"colorbar\":{\"outlinewidth\":0,\"ticks\":\"\"}},\"type\":\"scattergeo\"}],\"scattergl\":[{\"marker\":{\"colorbar\":{\"outlinewidth\":0,\"ticks\":\"\"}},\"type\":\"scattergl\"}],\"scattermapbox\":[{\"marker\":{\"colorbar\":{\"outlinewidth\":0,\"ticks\":\"\"}},\"type\":\"scattermapbox\"}],\"scatterpolar\":[{\"marker\":{\"colorbar\":{\"outlinewidth\":0,\"ticks\":\"\"}},\"type\":\"scatterpolar\"}],\"scatterpolargl\":[{\"marker\":{\"colorbar\":{\"outlinewidth\":0,\"ticks\":\"\"}},\"type\":\"scatterpolargl\"}],\"scatterternary\":[{\"marker\":{\"colorbar\":{\"outlinewidth\":0,\"ticks\":\"\"}},\"type\":\"scatterternary\"}],\"surface\":[{\"colorbar\":{\"outlinewidth\":0,\"ticks\":\"\"},\"colorscale\":[[0.0,\"#0d0887\"],[0.1111111111111111,\"#46039f\"],[0.2222222222222222,\"#7201a8\"],[0.3333333333333333,\"#9c179e\"],[0.4444444444444444,\"#bd3786\"],[0.5555555555555556,\"#d8576b\"],[0.6666666666666666,\"#ed7953\"],[0.7777777777777778,\"#fb9f3a\"],[0.8888888888888888,\"#fdca26\"],[1.0,\"#f0f921\"]],\"type\":\"surface\"}],\"table\":[{\"cells\":{\"fill\":{\"color\":\"#EBF0F8\"},\"line\":{\"color\":\"white\"}},\"header\":{\"fill\":{\"color\":\"#C8D4E3\"},\"line\":{\"color\":\"white\"}},\"type\":\"table\"}]},\"layout\":{\"annotationdefaults\":{\"arrowcolor\":\"#2a3f5f\",\"arrowhead\":0,\"arrowwidth\":1},\"autotypenumbers\":\"strict\",\"coloraxis\":{\"colorbar\":{\"outlinewidth\":0,\"ticks\":\"\"}},\"colorscale\":{\"diverging\":[[0,\"#8e0152\"],[0.1,\"#c51b7d\"],[0.2,\"#de77ae\"],[0.3,\"#f1b6da\"],[0.4,\"#fde0ef\"],[0.5,\"#f7f7f7\"],[0.6,\"#e6f5d0\"],[0.7,\"#b8e186\"],[0.8,\"#7fbc41\"],[0.9,\"#4d9221\"],[1,\"#276419\"]],\"sequential\":[[0.0,\"#0d0887\"],[0.1111111111111111,\"#46039f\"],[0.2222222222222222,\"#7201a8\"],[0.3333333333333333,\"#9c179e\"],[0.4444444444444444,\"#bd3786\"],[0.5555555555555556,\"#d8576b\"],[0.6666666666666666,\"#ed7953\"],[0.7777777777777778,\"#fb9f3a\"],[0.8888888888888888,\"#fdca26\"],[1.0,\"#f0f921\"]],\"sequentialminus\":[[0.0,\"#0d0887\"],[0.1111111111111111,\"#46039f\"],[0.2222222222222222,\"#7201a8\"],[0.3333333333333333,\"#9c179e\"],[0.4444444444444444,\"#bd3786\"],[0.5555555555555556,\"#d8576b\"],[0.6666666666666666,\"#ed7953\"],[0.7777777777777778,\"#fb9f3a\"],[0.8888888888888888,\"#fdca26\"],[1.0,\"#f0f921\"]]},\"colorway\":[\"#636efa\",\"#EF553B\",\"#00cc96\",\"#ab63fa\",\"#FFA15A\",\"#19d3f3\",\"#FF6692\",\"#B6E880\",\"#FF97FF\",\"#FECB52\"],\"font\":{\"color\":\"#2a3f5f\"},\"geo\":{\"bgcolor\":\"white\",\"lakecolor\":\"white\",\"landcolor\":\"#E5ECF6\",\"showlakes\":true,\"showland\":true,\"subunitcolor\":\"white\"},\"hoverlabel\":{\"align\":\"left\"},\"hovermode\":\"closest\",\"mapbox\":{\"style\":\"light\"},\"paper_bgcolor\":\"white\",\"plot_bgcolor\":\"#E5ECF6\",\"polar\":{\"angularaxis\":{\"gridcolor\":\"white\",\"linecolor\":\"white\",\"ticks\":\"\"},\"bgcolor\":\"#E5ECF6\",\"radialaxis\":{\"gridcolor\":\"white\",\"linecolor\":\"white\",\"ticks\":\"\"}},\"scene\":{\"xaxis\":{\"backgroundcolor\":\"#E5ECF6\",\"gridcolor\":\"white\",\"gridwidth\":2,\"linecolor\":\"white\",\"showbackground\":true,\"ticks\":\"\",\"zerolinecolor\":\"white\"},\"yaxis\":{\"backgroundcolor\":\"#E5ECF6\",\"gridcolor\":\"white\",\"gridwidth\":2,\"linecolor\":\"white\",\"showbackground\":true,\"ticks\":\"\",\"zerolinecolor\":\"white\"},\"zaxis\":{\"backgroundcolor\":\"#E5ECF6\",\"gridcolor\":\"white\",\"gridwidth\":2,\"linecolor\":\"white\",\"showbackground\":true,\"ticks\":\"\",\"zerolinecolor\":\"white\"}},\"shapedefaults\":{\"line\":{\"color\":\"#2a3f5f\"}},\"ternary\":{\"aaxis\":{\"gridcolor\":\"white\",\"linecolor\":\"white\",\"ticks\":\"\"},\"baxis\":{\"gridcolor\":\"white\",\"linecolor\":\"white\",\"ticks\":\"\"},\"bgcolor\":\"#E5ECF6\",\"caxis\":{\"gridcolor\":\"white\",\"linecolor\":\"white\",\"ticks\":\"\"}},\"title\":{\"x\":0.05},\"xaxis\":{\"automargin\":true,\"gridcolor\":\"white\",\"linecolor\":\"white\",\"ticks\":\"\",\"title\":{\"standoff\":15},\"zerolinecolor\":\"white\",\"zerolinewidth\":2},\"yaxis\":{\"automargin\":true,\"gridcolor\":\"white\",\"linecolor\":\"white\",\"ticks\":\"\",\"title\":{\"standoff\":15},\"zerolinecolor\":\"white\",\"zerolinewidth\":2}}}},                        {\"responsive\": true}                    ).then(function(){\n",
              "                            \n",
              "var gd = document.getElementById('9a523c97-1c35-4842-9cba-15c732ec6026');\n",
              "var x = new MutationObserver(function (mutations, observer) {{\n",
              "        var display = window.getComputedStyle(gd).display;\n",
              "        if (!display || display === 'none') {{\n",
              "            console.log([gd, 'removed!']);\n",
              "            Plotly.purge(gd);\n",
              "            observer.disconnect();\n",
              "        }}\n",
              "}});\n",
              "\n",
              "// Listen for the removal of the full notebook cells\n",
              "var notebookContainer = gd.closest('#notebook-container');\n",
              "if (notebookContainer) {{\n",
              "    x.observe(notebookContainer, {childList: true});\n",
              "}}\n",
              "\n",
              "// Listen for the clearing of the current output cell\n",
              "var outputEl = gd.closest('.output');\n",
              "if (outputEl) {{\n",
              "    x.observe(outputEl, {childList: true});\n",
              "}}\n",
              "\n",
              "                        })                };                            </script>        </div>\n",
              "</body>\n",
              "</html>"
            ]
          },
          "metadata": {}
        }
      ],
      "source": [
        "optuna.visualization.plot_optimization_history(study, target_name=\"f1_score\")"
      ]
    },
    {
      "cell_type": "markdown",
      "id": "d16TJE58x925",
      "metadata": {
        "id": "d16TJE58x925"
      },
      "source": [
        "В нашем случае, все идет верно, метрика максимизируется."
      ]
    },
    {
      "cell_type": "markdown",
      "id": "asr2cGgsyZk9",
      "metadata": {
        "id": "asr2cGgsyZk9"
      },
      "source": [
        "График важности гиперпараметров - помогает понять, какие гиперпараметры вносят больший вклад в минимизацию/максимизацию метрики."
      ]
    },
    {
      "cell_type": "code",
      "execution_count": 53,
      "id": "xP9C7m9nx5tE",
      "metadata": {
        "colab": {
          "base_uri": "https://localhost:8080/",
          "height": 542
        },
        "id": "xP9C7m9nx5tE",
        "outputId": "c3bc93ee-e92f-4a8c-96e5-10a2798ea172"
      },
      "outputs": [
        {
          "output_type": "display_data",
          "data": {
            "text/html": [
              "<html>\n",
              "<head><meta charset=\"utf-8\" /></head>\n",
              "<body>\n",
              "    <div>            <script src=\"https://cdnjs.cloudflare.com/ajax/libs/mathjax/2.7.5/MathJax.js?config=TeX-AMS-MML_SVG\"></script><script type=\"text/javascript\">if (window.MathJax) {MathJax.Hub.Config({SVG: {font: \"STIX-Web\"}});}</script>                <script type=\"text/javascript\">window.PlotlyConfig = {MathJaxConfig: 'local'};</script>\n",
              "        <script src=\"https://cdn.plot.ly/plotly-2.8.3.min.js\"></script>                <div id=\"3a962db6-eda5-4449-ad78-9b8644e13292\" class=\"plotly-graph-div\" style=\"height:525px; width:100%;\"></div>            <script type=\"text/javascript\">                                    window.PLOTLYENV=window.PLOTLYENV || {};                                    if (document.getElementById(\"3a962db6-eda5-4449-ad78-9b8644e13292\")) {                    Plotly.newPlot(                        \"3a962db6-eda5-4449-ad78-9b8644e13292\",                        [{\"cliponaxis\":false,\"hovertemplate\":[\"n_estimators (IntDistribution): 0.02264087185307854<extra></extra>\",\"max_depth (IntDistribution): 0.45802285021878<extra></extra>\",\"min_samples_leaf (IntDistribution): 0.5193362779281416<extra></extra>\"],\"marker\":{\"color\":\"rgb(66,146,198)\"},\"orientation\":\"h\",\"text\":[\"0.02\",\"0.46\",\"0.52\"],\"textposition\":\"outside\",\"x\":[0.02264087185307854,0.45802285021878,0.5193362779281416],\"y\":[\"n_estimators\",\"max_depth\",\"min_samples_leaf\"],\"type\":\"bar\"}],                        {\"showlegend\":false,\"title\":{\"text\":\"Hyperparameter Importances\"},\"xaxis\":{\"title\":{\"text\":\"Importance for f1_score\"}},\"yaxis\":{\"title\":{\"text\":\"Hyperparameter\"}},\"template\":{\"data\":{\"bar\":[{\"error_x\":{\"color\":\"#2a3f5f\"},\"error_y\":{\"color\":\"#2a3f5f\"},\"marker\":{\"line\":{\"color\":\"#E5ECF6\",\"width\":0.5},\"pattern\":{\"fillmode\":\"overlay\",\"size\":10,\"solidity\":0.2}},\"type\":\"bar\"}],\"barpolar\":[{\"marker\":{\"line\":{\"color\":\"#E5ECF6\",\"width\":0.5},\"pattern\":{\"fillmode\":\"overlay\",\"size\":10,\"solidity\":0.2}},\"type\":\"barpolar\"}],\"carpet\":[{\"aaxis\":{\"endlinecolor\":\"#2a3f5f\",\"gridcolor\":\"white\",\"linecolor\":\"white\",\"minorgridcolor\":\"white\",\"startlinecolor\":\"#2a3f5f\"},\"baxis\":{\"endlinecolor\":\"#2a3f5f\",\"gridcolor\":\"white\",\"linecolor\":\"white\",\"minorgridcolor\":\"white\",\"startlinecolor\":\"#2a3f5f\"},\"type\":\"carpet\"}],\"choropleth\":[{\"colorbar\":{\"outlinewidth\":0,\"ticks\":\"\"},\"type\":\"choropleth\"}],\"contour\":[{\"colorbar\":{\"outlinewidth\":0,\"ticks\":\"\"},\"colorscale\":[[0.0,\"#0d0887\"],[0.1111111111111111,\"#46039f\"],[0.2222222222222222,\"#7201a8\"],[0.3333333333333333,\"#9c179e\"],[0.4444444444444444,\"#bd3786\"],[0.5555555555555556,\"#d8576b\"],[0.6666666666666666,\"#ed7953\"],[0.7777777777777778,\"#fb9f3a\"],[0.8888888888888888,\"#fdca26\"],[1.0,\"#f0f921\"]],\"type\":\"contour\"}],\"contourcarpet\":[{\"colorbar\":{\"outlinewidth\":0,\"ticks\":\"\"},\"type\":\"contourcarpet\"}],\"heatmap\":[{\"colorbar\":{\"outlinewidth\":0,\"ticks\":\"\"},\"colorscale\":[[0.0,\"#0d0887\"],[0.1111111111111111,\"#46039f\"],[0.2222222222222222,\"#7201a8\"],[0.3333333333333333,\"#9c179e\"],[0.4444444444444444,\"#bd3786\"],[0.5555555555555556,\"#d8576b\"],[0.6666666666666666,\"#ed7953\"],[0.7777777777777778,\"#fb9f3a\"],[0.8888888888888888,\"#fdca26\"],[1.0,\"#f0f921\"]],\"type\":\"heatmap\"}],\"heatmapgl\":[{\"colorbar\":{\"outlinewidth\":0,\"ticks\":\"\"},\"colorscale\":[[0.0,\"#0d0887\"],[0.1111111111111111,\"#46039f\"],[0.2222222222222222,\"#7201a8\"],[0.3333333333333333,\"#9c179e\"],[0.4444444444444444,\"#bd3786\"],[0.5555555555555556,\"#d8576b\"],[0.6666666666666666,\"#ed7953\"],[0.7777777777777778,\"#fb9f3a\"],[0.8888888888888888,\"#fdca26\"],[1.0,\"#f0f921\"]],\"type\":\"heatmapgl\"}],\"histogram\":[{\"marker\":{\"pattern\":{\"fillmode\":\"overlay\",\"size\":10,\"solidity\":0.2}},\"type\":\"histogram\"}],\"histogram2d\":[{\"colorbar\":{\"outlinewidth\":0,\"ticks\":\"\"},\"colorscale\":[[0.0,\"#0d0887\"],[0.1111111111111111,\"#46039f\"],[0.2222222222222222,\"#7201a8\"],[0.3333333333333333,\"#9c179e\"],[0.4444444444444444,\"#bd3786\"],[0.5555555555555556,\"#d8576b\"],[0.6666666666666666,\"#ed7953\"],[0.7777777777777778,\"#fb9f3a\"],[0.8888888888888888,\"#fdca26\"],[1.0,\"#f0f921\"]],\"type\":\"histogram2d\"}],\"histogram2dcontour\":[{\"colorbar\":{\"outlinewidth\":0,\"ticks\":\"\"},\"colorscale\":[[0.0,\"#0d0887\"],[0.1111111111111111,\"#46039f\"],[0.2222222222222222,\"#7201a8\"],[0.3333333333333333,\"#9c179e\"],[0.4444444444444444,\"#bd3786\"],[0.5555555555555556,\"#d8576b\"],[0.6666666666666666,\"#ed7953\"],[0.7777777777777778,\"#fb9f3a\"],[0.8888888888888888,\"#fdca26\"],[1.0,\"#f0f921\"]],\"type\":\"histogram2dcontour\"}],\"mesh3d\":[{\"colorbar\":{\"outlinewidth\":0,\"ticks\":\"\"},\"type\":\"mesh3d\"}],\"parcoords\":[{\"line\":{\"colorbar\":{\"outlinewidth\":0,\"ticks\":\"\"}},\"type\":\"parcoords\"}],\"pie\":[{\"automargin\":true,\"type\":\"pie\"}],\"scatter\":[{\"marker\":{\"colorbar\":{\"outlinewidth\":0,\"ticks\":\"\"}},\"type\":\"scatter\"}],\"scatter3d\":[{\"line\":{\"colorbar\":{\"outlinewidth\":0,\"ticks\":\"\"}},\"marker\":{\"colorbar\":{\"outlinewidth\":0,\"ticks\":\"\"}},\"type\":\"scatter3d\"}],\"scattercarpet\":[{\"marker\":{\"colorbar\":{\"outlinewidth\":0,\"ticks\":\"\"}},\"type\":\"scattercarpet\"}],\"scattergeo\":[{\"marker\":{\"colorbar\":{\"outlinewidth\":0,\"ticks\":\"\"}},\"type\":\"scattergeo\"}],\"scattergl\":[{\"marker\":{\"colorbar\":{\"outlinewidth\":0,\"ticks\":\"\"}},\"type\":\"scattergl\"}],\"scattermapbox\":[{\"marker\":{\"colorbar\":{\"outlinewidth\":0,\"ticks\":\"\"}},\"type\":\"scattermapbox\"}],\"scatterpolar\":[{\"marker\":{\"colorbar\":{\"outlinewidth\":0,\"ticks\":\"\"}},\"type\":\"scatterpolar\"}],\"scatterpolargl\":[{\"marker\":{\"colorbar\":{\"outlinewidth\":0,\"ticks\":\"\"}},\"type\":\"scatterpolargl\"}],\"scatterternary\":[{\"marker\":{\"colorbar\":{\"outlinewidth\":0,\"ticks\":\"\"}},\"type\":\"scatterternary\"}],\"surface\":[{\"colorbar\":{\"outlinewidth\":0,\"ticks\":\"\"},\"colorscale\":[[0.0,\"#0d0887\"],[0.1111111111111111,\"#46039f\"],[0.2222222222222222,\"#7201a8\"],[0.3333333333333333,\"#9c179e\"],[0.4444444444444444,\"#bd3786\"],[0.5555555555555556,\"#d8576b\"],[0.6666666666666666,\"#ed7953\"],[0.7777777777777778,\"#fb9f3a\"],[0.8888888888888888,\"#fdca26\"],[1.0,\"#f0f921\"]],\"type\":\"surface\"}],\"table\":[{\"cells\":{\"fill\":{\"color\":\"#EBF0F8\"},\"line\":{\"color\":\"white\"}},\"header\":{\"fill\":{\"color\":\"#C8D4E3\"},\"line\":{\"color\":\"white\"}},\"type\":\"table\"}]},\"layout\":{\"annotationdefaults\":{\"arrowcolor\":\"#2a3f5f\",\"arrowhead\":0,\"arrowwidth\":1},\"autotypenumbers\":\"strict\",\"coloraxis\":{\"colorbar\":{\"outlinewidth\":0,\"ticks\":\"\"}},\"colorscale\":{\"diverging\":[[0,\"#8e0152\"],[0.1,\"#c51b7d\"],[0.2,\"#de77ae\"],[0.3,\"#f1b6da\"],[0.4,\"#fde0ef\"],[0.5,\"#f7f7f7\"],[0.6,\"#e6f5d0\"],[0.7,\"#b8e186\"],[0.8,\"#7fbc41\"],[0.9,\"#4d9221\"],[1,\"#276419\"]],\"sequential\":[[0.0,\"#0d0887\"],[0.1111111111111111,\"#46039f\"],[0.2222222222222222,\"#7201a8\"],[0.3333333333333333,\"#9c179e\"],[0.4444444444444444,\"#bd3786\"],[0.5555555555555556,\"#d8576b\"],[0.6666666666666666,\"#ed7953\"],[0.7777777777777778,\"#fb9f3a\"],[0.8888888888888888,\"#fdca26\"],[1.0,\"#f0f921\"]],\"sequentialminus\":[[0.0,\"#0d0887\"],[0.1111111111111111,\"#46039f\"],[0.2222222222222222,\"#7201a8\"],[0.3333333333333333,\"#9c179e\"],[0.4444444444444444,\"#bd3786\"],[0.5555555555555556,\"#d8576b\"],[0.6666666666666666,\"#ed7953\"],[0.7777777777777778,\"#fb9f3a\"],[0.8888888888888888,\"#fdca26\"],[1.0,\"#f0f921\"]]},\"colorway\":[\"#636efa\",\"#EF553B\",\"#00cc96\",\"#ab63fa\",\"#FFA15A\",\"#19d3f3\",\"#FF6692\",\"#B6E880\",\"#FF97FF\",\"#FECB52\"],\"font\":{\"color\":\"#2a3f5f\"},\"geo\":{\"bgcolor\":\"white\",\"lakecolor\":\"white\",\"landcolor\":\"#E5ECF6\",\"showlakes\":true,\"showland\":true,\"subunitcolor\":\"white\"},\"hoverlabel\":{\"align\":\"left\"},\"hovermode\":\"closest\",\"mapbox\":{\"style\":\"light\"},\"paper_bgcolor\":\"white\",\"plot_bgcolor\":\"#E5ECF6\",\"polar\":{\"angularaxis\":{\"gridcolor\":\"white\",\"linecolor\":\"white\",\"ticks\":\"\"},\"bgcolor\":\"#E5ECF6\",\"radialaxis\":{\"gridcolor\":\"white\",\"linecolor\":\"white\",\"ticks\":\"\"}},\"scene\":{\"xaxis\":{\"backgroundcolor\":\"#E5ECF6\",\"gridcolor\":\"white\",\"gridwidth\":2,\"linecolor\":\"white\",\"showbackground\":true,\"ticks\":\"\",\"zerolinecolor\":\"white\"},\"yaxis\":{\"backgroundcolor\":\"#E5ECF6\",\"gridcolor\":\"white\",\"gridwidth\":2,\"linecolor\":\"white\",\"showbackground\":true,\"ticks\":\"\",\"zerolinecolor\":\"white\"},\"zaxis\":{\"backgroundcolor\":\"#E5ECF6\",\"gridcolor\":\"white\",\"gridwidth\":2,\"linecolor\":\"white\",\"showbackground\":true,\"ticks\":\"\",\"zerolinecolor\":\"white\"}},\"shapedefaults\":{\"line\":{\"color\":\"#2a3f5f\"}},\"ternary\":{\"aaxis\":{\"gridcolor\":\"white\",\"linecolor\":\"white\",\"ticks\":\"\"},\"baxis\":{\"gridcolor\":\"white\",\"linecolor\":\"white\",\"ticks\":\"\"},\"bgcolor\":\"#E5ECF6\",\"caxis\":{\"gridcolor\":\"white\",\"linecolor\":\"white\",\"ticks\":\"\"}},\"title\":{\"x\":0.05},\"xaxis\":{\"automargin\":true,\"gridcolor\":\"white\",\"linecolor\":\"white\",\"ticks\":\"\",\"title\":{\"standoff\":15},\"zerolinecolor\":\"white\",\"zerolinewidth\":2},\"yaxis\":{\"automargin\":true,\"gridcolor\":\"white\",\"linecolor\":\"white\",\"ticks\":\"\",\"title\":{\"standoff\":15},\"zerolinecolor\":\"white\",\"zerolinewidth\":2}}}},                        {\"responsive\": true}                    ).then(function(){\n",
              "                            \n",
              "var gd = document.getElementById('3a962db6-eda5-4449-ad78-9b8644e13292');\n",
              "var x = new MutationObserver(function (mutations, observer) {{\n",
              "        var display = window.getComputedStyle(gd).display;\n",
              "        if (!display || display === 'none') {{\n",
              "            console.log([gd, 'removed!']);\n",
              "            Plotly.purge(gd);\n",
              "            observer.disconnect();\n",
              "        }}\n",
              "}});\n",
              "\n",
              "// Listen for the removal of the full notebook cells\n",
              "var notebookContainer = gd.closest('#notebook-container');\n",
              "if (notebookContainer) {{\n",
              "    x.observe(notebookContainer, {childList: true});\n",
              "}}\n",
              "\n",
              "// Listen for the clearing of the current output cell\n",
              "var outputEl = gd.closest('.output');\n",
              "if (outputEl) {{\n",
              "    x.observe(outputEl, {childList: true});\n",
              "}}\n",
              "\n",
              "                        })                };                            </script>        </div>\n",
              "</body>\n",
              "</html>"
            ]
          },
          "metadata": {}
        }
      ],
      "source": [
        "optuna.visualization.plot_param_importances(study, target_name=\"f1_score\")"
      ]
    },
    {
      "cell_type": "markdown",
      "id": "iJJBn2LrzRJF",
      "metadata": {
        "id": "iJJBn2LrzRJF"
      },
      "source": [
        "Из этого графика можно сделать вывод, что стоит обратить большее внимание на настройку гиперпараметра min_sampeles_leaf"
      ]
    },
    {
      "cell_type": "markdown",
      "id": "87pcgbkg0nT0",
      "metadata": {
        "id": "87pcgbkg0nT0"
      },
      "source": [
        "График контура отношений гиперпараметров\n",
        "\n",
        "Он показывает связь между различными комбинациями гиперпараметров и значение метрики для этих комбинаций в виде контурного графика."
      ]
    },
    {
      "cell_type": "code",
      "execution_count": 54,
      "id": "vmtplbIt1Mmf",
      "metadata": {
        "colab": {
          "base_uri": "https://localhost:8080/",
          "height": 542
        },
        "id": "vmtplbIt1Mmf",
        "outputId": "6f49969d-b199-44b2-8734-f1e9708f301e"
      },
      "outputs": [
        {
          "output_type": "display_data",
          "data": {
            "text/html": [
              "<html>\n",
              "<head><meta charset=\"utf-8\" /></head>\n",
              "<body>\n",
              "    <div>            <script src=\"https://cdnjs.cloudflare.com/ajax/libs/mathjax/2.7.5/MathJax.js?config=TeX-AMS-MML_SVG\"></script><script type=\"text/javascript\">if (window.MathJax) {MathJax.Hub.Config({SVG: {font: \"STIX-Web\"}});}</script>                <script type=\"text/javascript\">window.PlotlyConfig = {MathJaxConfig: 'local'};</script>\n",
              "        <script src=\"https://cdn.plot.ly/plotly-2.8.3.min.js\"></script>                <div id=\"f853ace1-1325-454a-986a-f14c37c73283\" class=\"plotly-graph-div\" style=\"height:525px; width:100%;\"></div>            <script type=\"text/javascript\">                                    window.PLOTLYENV=window.PLOTLYENV || {};                                    if (document.getElementById(\"f853ace1-1325-454a-986a-f14c37c73283\")) {                    Plotly.newPlot(                        \"f853ace1-1325-454a-986a-f14c37c73283\",                        [{\"colorbar\":{\"title\":{\"text\":\"f1_score\"}},\"colorscale\":[[0.0,\"rgb(247,251,255)\"],[0.125,\"rgb(222,235,247)\"],[0.25,\"rgb(198,219,239)\"],[0.375,\"rgb(158,202,225)\"],[0.5,\"rgb(107,174,214)\"],[0.625,\"rgb(66,146,198)\"],[0.75,\"rgb(33,113,181)\"],[0.875,\"rgb(8,81,156)\"],[1.0,\"rgb(8,48,107)\"]],\"connectgaps\":true,\"contours\":{\"coloring\":\"heatmap\"},\"hoverinfo\":\"none\",\"line\":{\"smoothing\":1.3},\"reversescale\":false,\"x\":[9.0,10,12,14,16,18,19,20,21,22,23,24,25,26,27,28,30,31.0],\"y\":[95.15,100,101,102,111,112,114,117,118,120,122,127,130,135,140,141,142,150,153,154,159,163,170,172,177,182,187,195,196,197,201.85],\"z\":[[null,null,null,null,null,null,null,null,null,null,null,null,null,null,null,null,null,null],[null,null,null,null,null,null,null,0.7734241908006814,null,null,null,null,null,null,null,null,null,null],[null,null,null,null,null,null,0.7174806024646281,null,null,0.7863111111111111,null,null,null,null,null,null,null,null],[null,null,null,null,null,null,null,null,null,null,0.7922885572139302,null,null,null,null,null,null,null],[null,null,null,0.6894879209029009,null,null,null,null,null,null,null,null,null,null,null,null,null,null],[null,null,null,null,null,null,null,null,null,0.7851614625033361,null,null,null,null,null,null,null,null],[null,null,null,null,null,null,null,null,null,null,null,null,0.8044860473330979,null,null,null,null,null],[null,null,null,null,null,null,null,null,null,null,0.7940653873489695,null,null,null,null,null,null,null],[null,null,null,null,null,null,null,null,null,null,null,null,null,null,null,null,0.7406213627003313,null],[null,null,null,null,null,null,null,null,null,null,0.7481081081081081,null,null,null,null,null,null,null],[null,null,null,null,null,null,null,null,null,null,null,null,null,0.8090164656159197,null,null,null,null],[null,0.6354579746590578,null,null,null,null,null,null,null,null,null,null,null,null,null,null,null,null],[null,null,null,null,null,null,null,null,null,null,null,null,0.7570520282976627,null,null,null,null,null],[null,null,null,null,null,null,null,null,null,null,null,null,null,null,null,0.7194989106753812,null,null],[null,null,0.6449885233358837,null,null,null,null,null,null,null,null,null,null,null,null,null,null,null],[null,null,null,null,null,null,null,null,null,null,null,null,null,0.762568086436289,null,null,null,null],[null,null,null,null,null,null,null,null,null,null,null,null,0.7324731570874312,null,null,null,null,null],[null,null,null,null,null,null,null,null,null,null,null,null,null,null,0.6952633019987223,null,null,null],[null,null,null,null,null,null,null,null,null,null,null,null,null,null,null,0.7032246310803425,null,null],[null,null,null,0.6582662245381337,null,null,null,null,null,null,null,null,null,null,null,null,null,null],[null,null,null,null,null,null,null,null,0.7263005256479971,null,null,null,null,null,null,null,null,null],[null,null,null,null,null,null,null,null,null,null,null,null,null,null,0.7584973166368515,null,null,null],[null,null,null,null,0.734228065370218,null,null,null,null,null,null,null,null,null,null,null,null,null],[null,null,null,null,null,null,null,null,null,null,null,null,null,null,null,null,0.7674232309746329,null],[null,null,null,null,null,0.7030391797876235,null,null,null,null,null,null,null,null,null,null,null,null],[null,null,null,null,null,null,null,null,null,null,null,0.7064195050680303,null,null,null,null,null,null],[null,null,null,null,null,0.7019248395967004,null,null,null,null,null,null,null,null,null,null,null,null],[null,null,null,null,null,null,null,null,null,null,null,0.8002125398512221,null,null,null,null,null,null],[null,null,null,null,null,null,null,null,null,null,null,null,0.732648278348657,null,null,null,null,null],[null,null,0.6478576893649578,null,null,null,null,null,null,null,null,null,null,null,null,null,null,null],[null,null,null,null,null,null,null,null,null,null,null,null,null,null,null,null,null,null]],\"type\":\"contour\"},{\"marker\":{\"color\":\"black\",\"line\":{\"color\":\"Grey\",\"width\":2.0}},\"mode\":\"markers\",\"showlegend\":false,\"x\":[14,27,12,10,28,21,14,25,12,28,23,22,20,22,19,24,25,18,30,24,16,23,23,25,26,30,18,26,27,25],\"y\":[154,150,140,127,135,159,111,130,197,153,102,101,100,112,101,195,196,177,172,182,170,117,120,114,141,118,187,122,163,142],\"type\":\"scatter\"}],                        {\"title\":{\"text\":\"Contour Plot\"},\"template\":{\"data\":{\"bar\":[{\"error_x\":{\"color\":\"#2a3f5f\"},\"error_y\":{\"color\":\"#2a3f5f\"},\"marker\":{\"line\":{\"color\":\"#E5ECF6\",\"width\":0.5},\"pattern\":{\"fillmode\":\"overlay\",\"size\":10,\"solidity\":0.2}},\"type\":\"bar\"}],\"barpolar\":[{\"marker\":{\"line\":{\"color\":\"#E5ECF6\",\"width\":0.5},\"pattern\":{\"fillmode\":\"overlay\",\"size\":10,\"solidity\":0.2}},\"type\":\"barpolar\"}],\"carpet\":[{\"aaxis\":{\"endlinecolor\":\"#2a3f5f\",\"gridcolor\":\"white\",\"linecolor\":\"white\",\"minorgridcolor\":\"white\",\"startlinecolor\":\"#2a3f5f\"},\"baxis\":{\"endlinecolor\":\"#2a3f5f\",\"gridcolor\":\"white\",\"linecolor\":\"white\",\"minorgridcolor\":\"white\",\"startlinecolor\":\"#2a3f5f\"},\"type\":\"carpet\"}],\"choropleth\":[{\"colorbar\":{\"outlinewidth\":0,\"ticks\":\"\"},\"type\":\"choropleth\"}],\"contour\":[{\"colorbar\":{\"outlinewidth\":0,\"ticks\":\"\"},\"colorscale\":[[0.0,\"#0d0887\"],[0.1111111111111111,\"#46039f\"],[0.2222222222222222,\"#7201a8\"],[0.3333333333333333,\"#9c179e\"],[0.4444444444444444,\"#bd3786\"],[0.5555555555555556,\"#d8576b\"],[0.6666666666666666,\"#ed7953\"],[0.7777777777777778,\"#fb9f3a\"],[0.8888888888888888,\"#fdca26\"],[1.0,\"#f0f921\"]],\"type\":\"contour\"}],\"contourcarpet\":[{\"colorbar\":{\"outlinewidth\":0,\"ticks\":\"\"},\"type\":\"contourcarpet\"}],\"heatmap\":[{\"colorbar\":{\"outlinewidth\":0,\"ticks\":\"\"},\"colorscale\":[[0.0,\"#0d0887\"],[0.1111111111111111,\"#46039f\"],[0.2222222222222222,\"#7201a8\"],[0.3333333333333333,\"#9c179e\"],[0.4444444444444444,\"#bd3786\"],[0.5555555555555556,\"#d8576b\"],[0.6666666666666666,\"#ed7953\"],[0.7777777777777778,\"#fb9f3a\"],[0.8888888888888888,\"#fdca26\"],[1.0,\"#f0f921\"]],\"type\":\"heatmap\"}],\"heatmapgl\":[{\"colorbar\":{\"outlinewidth\":0,\"ticks\":\"\"},\"colorscale\":[[0.0,\"#0d0887\"],[0.1111111111111111,\"#46039f\"],[0.2222222222222222,\"#7201a8\"],[0.3333333333333333,\"#9c179e\"],[0.4444444444444444,\"#bd3786\"],[0.5555555555555556,\"#d8576b\"],[0.6666666666666666,\"#ed7953\"],[0.7777777777777778,\"#fb9f3a\"],[0.8888888888888888,\"#fdca26\"],[1.0,\"#f0f921\"]],\"type\":\"heatmapgl\"}],\"histogram\":[{\"marker\":{\"pattern\":{\"fillmode\":\"overlay\",\"size\":10,\"solidity\":0.2}},\"type\":\"histogram\"}],\"histogram2d\":[{\"colorbar\":{\"outlinewidth\":0,\"ticks\":\"\"},\"colorscale\":[[0.0,\"#0d0887\"],[0.1111111111111111,\"#46039f\"],[0.2222222222222222,\"#7201a8\"],[0.3333333333333333,\"#9c179e\"],[0.4444444444444444,\"#bd3786\"],[0.5555555555555556,\"#d8576b\"],[0.6666666666666666,\"#ed7953\"],[0.7777777777777778,\"#fb9f3a\"],[0.8888888888888888,\"#fdca26\"],[1.0,\"#f0f921\"]],\"type\":\"histogram2d\"}],\"histogram2dcontour\":[{\"colorbar\":{\"outlinewidth\":0,\"ticks\":\"\"},\"colorscale\":[[0.0,\"#0d0887\"],[0.1111111111111111,\"#46039f\"],[0.2222222222222222,\"#7201a8\"],[0.3333333333333333,\"#9c179e\"],[0.4444444444444444,\"#bd3786\"],[0.5555555555555556,\"#d8576b\"],[0.6666666666666666,\"#ed7953\"],[0.7777777777777778,\"#fb9f3a\"],[0.8888888888888888,\"#fdca26\"],[1.0,\"#f0f921\"]],\"type\":\"histogram2dcontour\"}],\"mesh3d\":[{\"colorbar\":{\"outlinewidth\":0,\"ticks\":\"\"},\"type\":\"mesh3d\"}],\"parcoords\":[{\"line\":{\"colorbar\":{\"outlinewidth\":0,\"ticks\":\"\"}},\"type\":\"parcoords\"}],\"pie\":[{\"automargin\":true,\"type\":\"pie\"}],\"scatter\":[{\"marker\":{\"colorbar\":{\"outlinewidth\":0,\"ticks\":\"\"}},\"type\":\"scatter\"}],\"scatter3d\":[{\"line\":{\"colorbar\":{\"outlinewidth\":0,\"ticks\":\"\"}},\"marker\":{\"colorbar\":{\"outlinewidth\":0,\"ticks\":\"\"}},\"type\":\"scatter3d\"}],\"scattercarpet\":[{\"marker\":{\"colorbar\":{\"outlinewidth\":0,\"ticks\":\"\"}},\"type\":\"scattercarpet\"}],\"scattergeo\":[{\"marker\":{\"colorbar\":{\"outlinewidth\":0,\"ticks\":\"\"}},\"type\":\"scattergeo\"}],\"scattergl\":[{\"marker\":{\"colorbar\":{\"outlinewidth\":0,\"ticks\":\"\"}},\"type\":\"scattergl\"}],\"scattermapbox\":[{\"marker\":{\"colorbar\":{\"outlinewidth\":0,\"ticks\":\"\"}},\"type\":\"scattermapbox\"}],\"scatterpolar\":[{\"marker\":{\"colorbar\":{\"outlinewidth\":0,\"ticks\":\"\"}},\"type\":\"scatterpolar\"}],\"scatterpolargl\":[{\"marker\":{\"colorbar\":{\"outlinewidth\":0,\"ticks\":\"\"}},\"type\":\"scatterpolargl\"}],\"scatterternary\":[{\"marker\":{\"colorbar\":{\"outlinewidth\":0,\"ticks\":\"\"}},\"type\":\"scatterternary\"}],\"surface\":[{\"colorbar\":{\"outlinewidth\":0,\"ticks\":\"\"},\"colorscale\":[[0.0,\"#0d0887\"],[0.1111111111111111,\"#46039f\"],[0.2222222222222222,\"#7201a8\"],[0.3333333333333333,\"#9c179e\"],[0.4444444444444444,\"#bd3786\"],[0.5555555555555556,\"#d8576b\"],[0.6666666666666666,\"#ed7953\"],[0.7777777777777778,\"#fb9f3a\"],[0.8888888888888888,\"#fdca26\"],[1.0,\"#f0f921\"]],\"type\":\"surface\"}],\"table\":[{\"cells\":{\"fill\":{\"color\":\"#EBF0F8\"},\"line\":{\"color\":\"white\"}},\"header\":{\"fill\":{\"color\":\"#C8D4E3\"},\"line\":{\"color\":\"white\"}},\"type\":\"table\"}]},\"layout\":{\"annotationdefaults\":{\"arrowcolor\":\"#2a3f5f\",\"arrowhead\":0,\"arrowwidth\":1},\"autotypenumbers\":\"strict\",\"coloraxis\":{\"colorbar\":{\"outlinewidth\":0,\"ticks\":\"\"}},\"colorscale\":{\"diverging\":[[0,\"#8e0152\"],[0.1,\"#c51b7d\"],[0.2,\"#de77ae\"],[0.3,\"#f1b6da\"],[0.4,\"#fde0ef\"],[0.5,\"#f7f7f7\"],[0.6,\"#e6f5d0\"],[0.7,\"#b8e186\"],[0.8,\"#7fbc41\"],[0.9,\"#4d9221\"],[1,\"#276419\"]],\"sequential\":[[0.0,\"#0d0887\"],[0.1111111111111111,\"#46039f\"],[0.2222222222222222,\"#7201a8\"],[0.3333333333333333,\"#9c179e\"],[0.4444444444444444,\"#bd3786\"],[0.5555555555555556,\"#d8576b\"],[0.6666666666666666,\"#ed7953\"],[0.7777777777777778,\"#fb9f3a\"],[0.8888888888888888,\"#fdca26\"],[1.0,\"#f0f921\"]],\"sequentialminus\":[[0.0,\"#0d0887\"],[0.1111111111111111,\"#46039f\"],[0.2222222222222222,\"#7201a8\"],[0.3333333333333333,\"#9c179e\"],[0.4444444444444444,\"#bd3786\"],[0.5555555555555556,\"#d8576b\"],[0.6666666666666666,\"#ed7953\"],[0.7777777777777778,\"#fb9f3a\"],[0.8888888888888888,\"#fdca26\"],[1.0,\"#f0f921\"]]},\"colorway\":[\"#636efa\",\"#EF553B\",\"#00cc96\",\"#ab63fa\",\"#FFA15A\",\"#19d3f3\",\"#FF6692\",\"#B6E880\",\"#FF97FF\",\"#FECB52\"],\"font\":{\"color\":\"#2a3f5f\"},\"geo\":{\"bgcolor\":\"white\",\"lakecolor\":\"white\",\"landcolor\":\"#E5ECF6\",\"showlakes\":true,\"showland\":true,\"subunitcolor\":\"white\"},\"hoverlabel\":{\"align\":\"left\"},\"hovermode\":\"closest\",\"mapbox\":{\"style\":\"light\"},\"paper_bgcolor\":\"white\",\"plot_bgcolor\":\"#E5ECF6\",\"polar\":{\"angularaxis\":{\"gridcolor\":\"white\",\"linecolor\":\"white\",\"ticks\":\"\"},\"bgcolor\":\"#E5ECF6\",\"radialaxis\":{\"gridcolor\":\"white\",\"linecolor\":\"white\",\"ticks\":\"\"}},\"scene\":{\"xaxis\":{\"backgroundcolor\":\"#E5ECF6\",\"gridcolor\":\"white\",\"gridwidth\":2,\"linecolor\":\"white\",\"showbackground\":true,\"ticks\":\"\",\"zerolinecolor\":\"white\"},\"yaxis\":{\"backgroundcolor\":\"#E5ECF6\",\"gridcolor\":\"white\",\"gridwidth\":2,\"linecolor\":\"white\",\"showbackground\":true,\"ticks\":\"\",\"zerolinecolor\":\"white\"},\"zaxis\":{\"backgroundcolor\":\"#E5ECF6\",\"gridcolor\":\"white\",\"gridwidth\":2,\"linecolor\":\"white\",\"showbackground\":true,\"ticks\":\"\",\"zerolinecolor\":\"white\"}},\"shapedefaults\":{\"line\":{\"color\":\"#2a3f5f\"}},\"ternary\":{\"aaxis\":{\"gridcolor\":\"white\",\"linecolor\":\"white\",\"ticks\":\"\"},\"baxis\":{\"gridcolor\":\"white\",\"linecolor\":\"white\",\"ticks\":\"\"},\"bgcolor\":\"#E5ECF6\",\"caxis\":{\"gridcolor\":\"white\",\"linecolor\":\"white\",\"ticks\":\"\"}},\"title\":{\"x\":0.05},\"xaxis\":{\"automargin\":true,\"gridcolor\":\"white\",\"linecolor\":\"white\",\"ticks\":\"\",\"title\":{\"standoff\":15},\"zerolinecolor\":\"white\",\"zerolinewidth\":2},\"yaxis\":{\"automargin\":true,\"gridcolor\":\"white\",\"linecolor\":\"white\",\"ticks\":\"\",\"title\":{\"standoff\":15},\"zerolinecolor\":\"white\",\"zerolinewidth\":2}}},\"xaxis\":{\"title\":{\"text\":\"max_depth\"},\"range\":[9.0,31.0]},\"yaxis\":{\"title\":{\"text\":\"n_estimators\"},\"range\":[95.15,201.85]}},                        {\"responsive\": true}                    ).then(function(){\n",
              "                            \n",
              "var gd = document.getElementById('f853ace1-1325-454a-986a-f14c37c73283');\n",
              "var x = new MutationObserver(function (mutations, observer) {{\n",
              "        var display = window.getComputedStyle(gd).display;\n",
              "        if (!display || display === 'none') {{\n",
              "            console.log([gd, 'removed!']);\n",
              "            Plotly.purge(gd);\n",
              "            observer.disconnect();\n",
              "        }}\n",
              "}});\n",
              "\n",
              "// Listen for the removal of the full notebook cells\n",
              "var notebookContainer = gd.closest('#notebook-container');\n",
              "if (notebookContainer) {{\n",
              "    x.observe(notebookContainer, {childList: true});\n",
              "}}\n",
              "\n",
              "// Listen for the clearing of the current output cell\n",
              "var outputEl = gd.closest('.output');\n",
              "if (outputEl) {{\n",
              "    x.observe(outputEl, {childList: true});\n",
              "}}\n",
              "\n",
              "                        })                };                            </script>        </div>\n",
              "</body>\n",
              "</html>"
            ]
          },
          "metadata": {}
        }
      ],
      "source": [
        "optuna.visualization.plot_contour(study, params=[\"max_depth\", \"n_estimators\"],\n",
        "                                  target_name=\"f1_score\")"
      ]
    },
    {
      "cell_type": "markdown",
      "id": "CfkEVQS1NNQy",
      "metadata": {
        "id": "CfkEVQS1NNQy"
      },
      "source": [
        "Точки с белым фоном это и есть лучшии комбинации n_estimator, max_depth.\n",
        "\n",
        "\n",
        "\n",
        "\n",
        "\n",
        "\n",
        "\n",
        "\n",
        "\n",
        "\n",
        "\n",
        "\n",
        "\n",
        "\n"
      ]
    }
  ],
  "metadata": {
    "colab": {
      "collapsed_sections": [
        "ezanmTbEaAOe",
        "8lbyun1kaAOy",
        "M20nsIRfaAP-"
      ],
      "provenance": []
    },
    "kernelspec": {
      "display_name": "Python 3",
      "language": "python",
      "name": "python3"
    },
    "language_info": {
      "codemirror_mode": {
        "name": "ipython",
        "version": 3
      },
      "file_extension": ".py",
      "mimetype": "text/x-python",
      "name": "python",
      "nbconvert_exporter": "python",
      "pygments_lexer": "ipython3",
      "version": "3.10.8 (tags/v3.10.8:aaaf517, Oct 11 2022, 16:50:30) [MSC v.1933 64 bit (AMD64)]"
    },
    "vscode": {
      "interpreter": {
        "hash": "321ab55950f37df101268a46266f5dff6fbc802a7a8ebb790c29b4e197aadd34"
      }
    }
  },
  "nbformat": 4,
  "nbformat_minor": 5
}