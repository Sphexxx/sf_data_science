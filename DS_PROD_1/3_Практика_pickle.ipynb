{
  "nbformat": 4,
  "nbformat_minor": 0,
  "metadata": {
    "colab": {
      "provenance": []
    },
    "kernelspec": {
      "name": "python3",
      "display_name": "Python 3"
    },
    "language_info": {
      "name": "python"
    }
  },
  "cells": [
    {
      "cell_type": "markdown",
      "source": [
        "![image.png](data:image/png;base64,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)\n",
        "\n",
        "В первом практическом юните этого модуля мы будем учиться работать с модулем pickle.\n",
        "\n",
        "### Ваш коллега Василий обучил модель и теперь просит вас проверить её на ваших данных. Он присылает вам pickle-файл. Загрузите [модель](https://lms-cdn.skillfactory.ru/assets/courseware/v1/edb336d23fdbf18a919f9dbfad55426a/asset-v1:SkillFactory+DST-3.0+28FEB2021+type@asset+block/model.pkl), используя модуль pickle."
      ],
      "metadata": {
        "id": "IAlm2t9AYLj4"
      }
    },
    {
      "cell_type": "code",
      "execution_count": 1,
      "metadata": {
        "id": "Dys3OuCmcsgD"
      },
      "outputs": [],
      "source": [
        "import pandas as pd\n",
        "import numpy as np\n",
        "import pickle"
      ]
    },
    {
      "cell_type": "markdown",
      "source": [
        "## Задание 3.1\n",
        "\n",
        "При загрузке вывелся секретный код. Введите его в поле ниже."
      ],
      "metadata": {
        "id": "JcdweRnMYY1Z"
      }
    },
    {
      "cell_type": "code",
      "source": [
        "with open('model.pkl', 'rb') as pkl_file:\n",
        "    model = pickle.load(pkl_file)"
      ],
      "metadata": {
        "colab": {
          "base_uri": "https://localhost:8080/"
        },
        "id": "A6jkEXy5gb0q",
        "outputId": "1754df6f-9eaa-4138-c6f7-290f0ccdff68"
      },
      "execution_count": 2,
      "outputs": [
        {
          "output_type": "stream",
          "name": "stdout",
          "text": [
            "secret word: skillfactory\n",
            "how is this possible? answer is here: https://youtu.be/xm-A-h9QkXg\n"
          ]
        },
        {
          "output_type": "stream",
          "name": "stderr",
          "text": [
            "/usr/local/lib/python3.10/dist-packages/sklearn/base.py:318: UserWarning: Trying to unpickle estimator LinearRegression from version 1.0.2 when using version 1.2.2. This might lead to breaking code or invalid results. Use at your own risk. For more info please refer to:\n",
            "https://scikit-learn.org/stable/model_persistence.html#security-maintainability-limitations\n",
            "  warnings.warn(\n"
          ]
        }
      ]
    },
    {
      "cell_type": "markdown",
      "source": [
        "## Задание 3.2\n",
        "\n",
        "Проверьте, объект какого типа получился. Какую модель вам прислал коллега?"
      ],
      "metadata": {
        "id": "G_YueIUFYcME"
      }
    },
    {
      "cell_type": "code",
      "source": [
        "model"
      ],
      "metadata": {
        "colab": {
          "base_uri": "https://localhost:8080/",
          "height": 75
        },
        "id": "ORB9R-nxg2G2",
        "outputId": "88329413-4b15-4243-e145-61a97d8d43f7"
      },
      "execution_count": 3,
      "outputs": [
        {
          "output_type": "execute_result",
          "data": {
            "text/plain": [
              "LinearRegression(positive=True)"
            ],
            "text/html": [
              "<style>#sk-container-id-1 {color: black;background-color: white;}#sk-container-id-1 pre{padding: 0;}#sk-container-id-1 div.sk-toggleable {background-color: white;}#sk-container-id-1 label.sk-toggleable__label {cursor: pointer;display: block;width: 100%;margin-bottom: 0;padding: 0.3em;box-sizing: border-box;text-align: center;}#sk-container-id-1 label.sk-toggleable__label-arrow:before {content: \"▸\";float: left;margin-right: 0.25em;color: #696969;}#sk-container-id-1 label.sk-toggleable__label-arrow:hover:before {color: black;}#sk-container-id-1 div.sk-estimator:hover label.sk-toggleable__label-arrow:before {color: black;}#sk-container-id-1 div.sk-toggleable__content {max-height: 0;max-width: 0;overflow: hidden;text-align: left;background-color: #f0f8ff;}#sk-container-id-1 div.sk-toggleable__content pre {margin: 0.2em;color: black;border-radius: 0.25em;background-color: #f0f8ff;}#sk-container-id-1 input.sk-toggleable__control:checked~div.sk-toggleable__content {max-height: 200px;max-width: 100%;overflow: auto;}#sk-container-id-1 input.sk-toggleable__control:checked~label.sk-toggleable__label-arrow:before {content: \"▾\";}#sk-container-id-1 div.sk-estimator input.sk-toggleable__control:checked~label.sk-toggleable__label {background-color: #d4ebff;}#sk-container-id-1 div.sk-label input.sk-toggleable__control:checked~label.sk-toggleable__label {background-color: #d4ebff;}#sk-container-id-1 input.sk-hidden--visually {border: 0;clip: rect(1px 1px 1px 1px);clip: rect(1px, 1px, 1px, 1px);height: 1px;margin: -1px;overflow: hidden;padding: 0;position: absolute;width: 1px;}#sk-container-id-1 div.sk-estimator {font-family: monospace;background-color: #f0f8ff;border: 1px dotted black;border-radius: 0.25em;box-sizing: border-box;margin-bottom: 0.5em;}#sk-container-id-1 div.sk-estimator:hover {background-color: #d4ebff;}#sk-container-id-1 div.sk-parallel-item::after {content: \"\";width: 100%;border-bottom: 1px solid gray;flex-grow: 1;}#sk-container-id-1 div.sk-label:hover label.sk-toggleable__label {background-color: #d4ebff;}#sk-container-id-1 div.sk-serial::before {content: \"\";position: absolute;border-left: 1px solid gray;box-sizing: border-box;top: 0;bottom: 0;left: 50%;z-index: 0;}#sk-container-id-1 div.sk-serial {display: flex;flex-direction: column;align-items: center;background-color: white;padding-right: 0.2em;padding-left: 0.2em;position: relative;}#sk-container-id-1 div.sk-item {position: relative;z-index: 1;}#sk-container-id-1 div.sk-parallel {display: flex;align-items: stretch;justify-content: center;background-color: white;position: relative;}#sk-container-id-1 div.sk-item::before, #sk-container-id-1 div.sk-parallel-item::before {content: \"\";position: absolute;border-left: 1px solid gray;box-sizing: border-box;top: 0;bottom: 0;left: 50%;z-index: -1;}#sk-container-id-1 div.sk-parallel-item {display: flex;flex-direction: column;z-index: 1;position: relative;background-color: white;}#sk-container-id-1 div.sk-parallel-item:first-child::after {align-self: flex-end;width: 50%;}#sk-container-id-1 div.sk-parallel-item:last-child::after {align-self: flex-start;width: 50%;}#sk-container-id-1 div.sk-parallel-item:only-child::after {width: 0;}#sk-container-id-1 div.sk-dashed-wrapped {border: 1px dashed gray;margin: 0 0.4em 0.5em 0.4em;box-sizing: border-box;padding-bottom: 0.4em;background-color: white;}#sk-container-id-1 div.sk-label label {font-family: monospace;font-weight: bold;display: inline-block;line-height: 1.2em;}#sk-container-id-1 div.sk-label-container {text-align: center;}#sk-container-id-1 div.sk-container {/* jupyter's `normalize.less` sets `[hidden] { display: none; }` but bootstrap.min.css set `[hidden] { display: none !important; }` so we also need the `!important` here to be able to override the default hidden behavior on the sphinx rendered scikit-learn.org. See: https://github.com/scikit-learn/scikit-learn/issues/21755 */display: inline-block !important;position: relative;}#sk-container-id-1 div.sk-text-repr-fallback {display: none;}</style><div id=\"sk-container-id-1\" class=\"sk-top-container\"><div class=\"sk-text-repr-fallback\"><pre>LinearRegression(positive=True)</pre><b>In a Jupyter environment, please rerun this cell to show the HTML representation or trust the notebook. <br />On GitHub, the HTML representation is unable to render, please try loading this page with nbviewer.org.</b></div><div class=\"sk-container\" hidden><div class=\"sk-item\"><div class=\"sk-estimator sk-toggleable\"><input class=\"sk-toggleable__control sk-hidden--visually\" id=\"sk-estimator-id-1\" type=\"checkbox\" checked><label for=\"sk-estimator-id-1\" class=\"sk-toggleable__label sk-toggleable__label-arrow\">LinearRegression</label><div class=\"sk-toggleable__content\"><pre>LinearRegression(positive=True)</pre></div></div></div></div></div>"
            ]
          },
          "metadata": {},
          "execution_count": 3
        }
      ]
    },
    {
      "cell_type": "markdown",
      "source": [
        "## Задание 3.3\n",
        "\n",
        "Теперь необходимо применить модель. Сделайте предсказание для следующего набора фичей: [1, 1, 1, 0.661212487096872]. Введите результат, предварительно округлив его до трёх знаков после точки-разделителя."
      ],
      "metadata": {
        "id": "tUloo5oWYewJ"
      }
    },
    {
      "cell_type": "code",
      "source": [
        "print(model.predict([[1, 1, 1, 0.661212487096872]]))"
      ],
      "metadata": {
        "colab": {
          "base_uri": "https://localhost:8080/"
        },
        "id": "7KJYKMnshEVo",
        "outputId": "d522fb5d-cd2a-490c-ca61-c1cf35964b40"
      },
      "execution_count": 5,
      "outputs": [
        {
          "output_type": "stream",
          "name": "stdout",
          "text": [
            "[0.666]\n"
          ]
        }
      ]
    },
    {
      "cell_type": "markdown",
      "source": [
        "### У присланной вам модели есть два поля (атрибута) с именами a и b. Создайте из них словарь с такими же именами ключей и значениями, а затем сохраните его в файл с помощью модуля pickle.\n",
        "\n",
        "Чтобы вы могли проверить правильность решения задания, мы создали специальный проверочный скрипт. Скачайте его [здесь](https://lms-cdn.skillfactory.ru/assets/courseware/v1/9ece277164851c1c246712a4d3522fa4/asset-v1:SkillFactory+DST-3.0+28FEB2021+type@asset+block/hw1_check_ol.py).\n",
        "\n",
        "Сохраните его рядом с вашим pickle-файлом (в той же папке) и запустите, передав первым аргументом имя файла. Если вы всё сделали правильно, на экран выведется ответ для следующего задания."
      ],
      "metadata": {
        "id": "Y44_Y_sOYjTf"
      }
    },
    {
      "cell_type": "markdown",
      "source": [
        "## Задание 3.4\n",
        "\n",
        "Если вы всё сделали правильно, в результате выполнения проверочного скрипта будет выведен секретный код.\n",
        "\n",
        "Впишите полученный код в окно ниже:"
      ],
      "metadata": {
        "id": "DY-y4n3QYsJg"
      }
    },
    {
      "cell_type": "code",
      "source": [
        "my_dict = {'a': model.a, 'b': model.b}\n",
        "\n",
        "with open('my_dict.pkl', 'wb') as pkl_file:\n",
        "    pickle.dump(my_dict, pkl_file)\n",
        "\n",
        "!python hw1_check_ol.py my_dict.pkl"
      ],
      "metadata": {
        "colab": {
          "base_uri": "https://localhost:8080/"
        },
        "id": "36jXlWr5hbCD",
        "outputId": "fe2904f1-bbd3-457a-c7cd-b2cd613024ec"
      },
      "execution_count": 6,
      "outputs": [
        {
          "output_type": "stream",
          "name": "stdout",
          "text": [
            "('secret code 2:', '3c508')\n"
          ]
        }
      ]
    }
  ]
}