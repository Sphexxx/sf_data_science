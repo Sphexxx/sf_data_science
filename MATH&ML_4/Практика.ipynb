{
  "cells": [
    {
      "cell_type": "markdown",
      "id": "f468bf1e",
      "metadata": {
        "id": "f468bf1e"
      },
      "source": [
        "## Область определения"
      ]
    },
    {
      "cell_type": "code",
      "execution_count": 17,
      "id": "c95eac41",
      "metadata": {
        "colab": {
          "base_uri": "https://localhost:8080/",
          "height": 37
        },
        "id": "c95eac41",
        "outputId": "f8477b54-82a6-40c2-8abc-c44115621be4"
      },
      "outputs": [
        {
          "output_type": "execute_result",
          "data": {
            "text/plain": [
              "Union(Interval.open(-oo, -1), Interval.open(-1, 1), Interval.open(1, oo))"
            ],
            "text/latex": "$\\displaystyle \\left(-\\infty, -1\\right) \\cup \\left(-1, 1\\right) \\cup \\left(1, \\infty\\right)$"
          },
          "metadata": {},
          "execution_count": 17
        }
      ],
      "source": [
        "from sympy import Symbol, S\n",
        "from sympy.calculus.util import continuous_domain \n",
        "x = Symbol(\"x\") \n",
        "f = (x**3)/(x**2-1) \n",
        "continuous_domain(f, x, S.Reals)\n"
      ]
    },
    {
      "cell_type": "markdown",
      "id": "3def5ae7",
      "metadata": {
        "id": "3def5ae7"
      },
      "source": [
        "## Область значений функции"
      ]
    },
    {
      "cell_type": "code",
      "execution_count": 18,
      "id": "84f388ff",
      "metadata": {
        "colab": {
          "base_uri": "https://localhost:8080/",
          "height": 37
        },
        "id": "84f388ff",
        "outputId": "7af68007-7548-45f8-f17b-f7833f5a63d0"
      },
      "outputs": [
        {
          "output_type": "execute_result",
          "data": {
            "text/plain": [
              "Interval(-oo, oo)"
            ],
            "text/latex": "$\\displaystyle \\left(-\\infty, \\infty\\right)$"
          },
          "metadata": {},
          "execution_count": 18
        }
      ],
      "source": [
        "from sympy import Symbol, S\n",
        "from sympy.calculus.util import function_range\n",
        "x = Symbol(\"x\") \n",
        "f = (x**3)/(x**2-1) \n",
        "function_range(f, x, S.Reals)\n"
      ]
    },
    {
      "cell_type": "markdown",
      "id": "39726364",
      "metadata": {
        "id": "39726364"
      },
      "source": [
        "## Нахождение точек пересечения с осями координат"
      ]
    },
    {
      "cell_type": "code",
      "execution_count": 19,
      "id": "c484f33f",
      "metadata": {
        "colab": {
          "base_uri": "https://localhost:8080/",
          "height": 37
        },
        "id": "c484f33f",
        "outputId": "9aab7349-00a5-4178-80b1-bbf139b765b4"
      },
      "outputs": [
        {
          "output_type": "execute_result",
          "data": {
            "text/plain": [
              "FiniteSet(0)"
            ],
            "text/latex": "$\\displaystyle \\left\\{0\\right\\}$"
          },
          "metadata": {},
          "execution_count": 19
        }
      ],
      "source": [
        "from sympy import solveset, Eq\n",
        "f = (x**3)/(x**2-1) \n",
        "solveset(Eq(f, 0), x)"
      ]
    },
    {
      "cell_type": "code",
      "execution_count": 20,
      "id": "a11f173f",
      "metadata": {
        "colab": {
          "base_uri": "https://localhost:8080/",
          "height": 37
        },
        "id": "a11f173f",
        "outputId": "a3f53cdb-2ceb-4dd2-e3d4-8cb418e3f332"
      },
      "outputs": [
        {
          "output_type": "execute_result",
          "data": {
            "text/plain": [
              "0"
            ],
            "text/latex": "$\\displaystyle 0$"
          },
          "metadata": {},
          "execution_count": 20
        }
      ],
      "source": [
        "x = Symbol(\"x\")\n",
        "f = (x**3)/(x**2-1)\n",
        "f.subs(x, 0)"
      ]
    },
    {
      "cell_type": "markdown",
      "id": "14d60350",
      "metadata": {
        "id": "14d60350"
      },
      "source": [
        "## Нахождение производной"
      ]
    },
    {
      "cell_type": "code",
      "execution_count": 21,
      "id": "749f70c3",
      "metadata": {
        "colab": {
          "base_uri": "https://localhost:8080/",
          "height": 61
        },
        "id": "749f70c3",
        "outputId": "e18c6916-ff87-4b68-b73e-131527da95d5"
      },
      "outputs": [
        {
          "output_type": "execute_result",
          "data": {
            "text/plain": [
              "-2*x**4/(x**2 - 1)**2 + 3*x**2/(x**2 - 1)"
            ],
            "text/latex": "$\\displaystyle - \\frac{2 x^{4}}{\\left(x^{2} - 1\\right)^{2}} + \\frac{3 x^{2}}{x^{2} - 1}$"
          },
          "metadata": {},
          "execution_count": 21
        }
      ],
      "source": [
        "import sympy\n",
        "from sympy import diff\n",
        "x = sympy.Symbol(\"x\")\n",
        "expr = (x**3)/(x**2-1)\n",
        "expr.diff(x)\n"
      ]
    },
    {
      "cell_type": "code",
      "execution_count": 22,
      "id": "7d1093f9",
      "metadata": {
        "colab": {
          "base_uri": "https://localhost:8080/",
          "height": 47
        },
        "id": "7d1093f9",
        "outputId": "6fd0da04-2ac1-467c-94ba-1a4747b97a19"
      },
      "outputs": [
        {
          "output_type": "execute_result",
          "data": {
            "text/plain": [
              "FiniteSet(0, sqrt(3), -sqrt(3))"
            ],
            "text/latex": "$\\displaystyle \\left\\{0, - \\sqrt{3}, \\sqrt{3}\\right\\}$"
          },
          "metadata": {},
          "execution_count": 22
        }
      ],
      "source": [
        "y = expr.diff(x)\n",
        "solveset(Eq(y, 0), x)"
      ]
    },
    {
      "cell_type": "markdown",
      "id": "10d568f8",
      "metadata": {
        "id": "10d568f8"
      },
      "source": [
        "## Нахождение второй производной"
      ]
    },
    {
      "cell_type": "code",
      "execution_count": 38,
      "id": "cfebc61b",
      "metadata": {
        "colab": {
          "base_uri": "https://localhost:8080/",
          "height": 78
        },
        "id": "cfebc61b",
        "outputId": "0ac2183d-f637-43af-e2ae-69c19ece22bf"
      },
      "outputs": [
        {
          "output_type": "execute_result",
          "data": {
            "text/plain": [
              "2*x*(x**2*(4*x**2/(x**2 - 1) - 1)/(x**2 - 1) - 6*x**2/(x**2 - 1) + 3)/(x**2 - 1)"
            ],
            "text/latex": "$\\displaystyle \\frac{2 x \\left(\\frac{x^{2} \\left(\\frac{4 x^{2}}{x^{2} - 1} - 1\\right)}{x^{2} - 1} - \\frac{6 x^{2}}{x^{2} - 1} + 3\\right)}{x^{2} - 1}$"
          },
          "metadata": {},
          "execution_count": 38
        }
      ],
      "source": [
        "import sympy\n",
        "from sympy import diff\n",
        "x = sympy.Symbol(\"x\")\n",
        "expr = (x**3)/(x**2-1)\n",
        "expr.diff(x,2)"
      ]
    },
    {
      "cell_type": "code",
      "execution_count": null,
      "id": "31d8a7c8",
      "metadata": {
        "colab": {
          "base_uri": "https://localhost:8080/",
          "height": 47
        },
        "id": "31d8a7c8",
        "outputId": "76d5e197-0377-49a8-cb90-c02437384078"
      },
      "outputs": [
        {
          "output_type": "execute_result",
          "data": {
            "text/plain": [
              "FiniteSet(0, sqrt(3)*I, -sqrt(3)*I)"
            ],
            "text/latex": "$\\displaystyle \\left\\{0, - \\sqrt{3} i, \\sqrt{3} i\\right\\}$"
          },
          "metadata": {},
          "execution_count": 16
        }
      ],
      "source": [
        "y = expr.diff(x,2)\n",
        "solveset(Eq(y, 0), x)"
      ]
    },
    {
      "cell_type": "markdown",
      "id": "fc9a293e",
      "metadata": {
        "id": "fc9a293e"
      },
      "source": [
        "## Нахождение асимптот"
      ]
    },
    {
      "cell_type": "code",
      "execution_count": 23,
      "id": "9015fba6",
      "metadata": {
        "id": "9015fba6",
        "outputId": "11114786-8b0c-439e-8924-bf453d66ad77",
        "colab": {
          "base_uri": "https://localhost:8080/",
          "height": 37
        }
      },
      "outputs": [
        {
          "output_type": "execute_result",
          "data": {
            "text/plain": [
              "oo"
            ],
            "text/latex": "$\\displaystyle \\infty$"
          },
          "metadata": {},
          "execution_count": 23
        }
      ],
      "source": [
        "from sympy import Symbol, limit, oo\n",
        "x = Symbol(\"x\")\n",
        "f = (x**3)/(x**2-1)\n",
        "limit(f,x,oo)\n"
      ]
    },
    {
      "cell_type": "code",
      "execution_count": 24,
      "id": "ad626e7c",
      "metadata": {
        "id": "ad626e7c",
        "outputId": "8cdd9b24-8208-4386-f0a8-c330f7def44b",
        "colab": {
          "base_uri": "https://localhost:8080/",
          "height": 37
        }
      },
      "outputs": [
        {
          "output_type": "execute_result",
          "data": {
            "text/plain": [
              "oo"
            ],
            "text/latex": "$\\displaystyle \\infty$"
          },
          "metadata": {},
          "execution_count": 24
        }
      ],
      "source": [
        "from sympy import Symbol, limit, oo\n",
        "x = Symbol(\"x\")\n",
        "f = (x**3)/(x**2-1)\n",
        "limit(f,x,1)\n"
      ]
    },
    {
      "cell_type": "code",
      "execution_count": 25,
      "id": "13913fbf",
      "metadata": {
        "id": "13913fbf",
        "outputId": "342949e7-be90-4c48-bcc5-ed62eec8bdc2",
        "colab": {
          "base_uri": "https://localhost:8080/",
          "height": 37
        }
      },
      "outputs": [
        {
          "output_type": "execute_result",
          "data": {
            "text/plain": [
              "oo"
            ],
            "text/latex": "$\\displaystyle \\infty$"
          },
          "metadata": {},
          "execution_count": 25
        }
      ],
      "source": [
        "from sympy import Symbol, limit, oo\n",
        "x = Symbol(\"x\")\n",
        "f = (x**3)/(x**2-1)\n",
        "limit(f,x,-1)\n"
      ]
    },
    {
      "cell_type": "code",
      "execution_count": 26,
      "id": "dfb2adc9",
      "metadata": {
        "id": "dfb2adc9",
        "outputId": "82be20d4-6e88-441f-a252-d4e69556945e",
        "colab": {
          "base_uri": "https://localhost:8080/",
          "height": 37
        }
      },
      "outputs": [
        {
          "output_type": "execute_result",
          "data": {
            "text/plain": [
              "1"
            ],
            "text/latex": "$\\displaystyle 1$"
          },
          "metadata": {},
          "execution_count": 26
        }
      ],
      "source": [
        "from sympy import Symbol, limit, oo\n",
        "x = Symbol(\"x\")\n",
        "f = (x**3)/((x**2-1)*x)\n",
        "limit(f,x,oo)\n"
      ]
    },
    {
      "cell_type": "code",
      "execution_count": 27,
      "id": "1ed7d557",
      "metadata": {
        "id": "1ed7d557",
        "outputId": "02568858-603f-4204-c3eb-3bf8a07d8780",
        "colab": {
          "base_uri": "https://localhost:8080/",
          "height": 37
        }
      },
      "outputs": [
        {
          "output_type": "execute_result",
          "data": {
            "text/plain": [
              "0"
            ],
            "text/latex": "$\\displaystyle 0$"
          },
          "metadata": {},
          "execution_count": 27
        }
      ],
      "source": [
        "from sympy import Symbol, limit, oo\n",
        "x = Symbol(\"x\")\n",
        "f = (x**3)/((x**2-1)) - 1*x\n",
        "limit(f,x,oo)\n"
      ]
    },
    {
      "cell_type": "markdown",
      "source": [
        "## Задание 8.1\n",
        "\n",
        "Найдите область определения функции:\n",
        "\n"
      ],
      "metadata": {
        "id": "6Wld_U1ZVGiw"
      },
      "id": "6Wld_U1ZVGiw"
    },
    {
      "cell_type": "code",
      "execution_count": 30,
      "id": "23f4c70f",
      "metadata": {
        "id": "23f4c70f",
        "colab": {
          "base_uri": "https://localhost:8080/",
          "height": 38
        },
        "outputId": "b1f8b1ee-d166-4c98-fc10-b009a7c73712"
      },
      "outputs": [
        {
          "output_type": "execute_result",
          "data": {
            "text/plain": [
              "Reals"
            ],
            "text/latex": "$\\displaystyle \\mathbb{R}$"
          },
          "metadata": {},
          "execution_count": 30
        }
      ],
      "source": [
        "from sympy import Symbol, S\n",
        "from sympy.calculus.util import continuous_domain \n",
        "x = Symbol(\"x\") \n",
        "f = (x**3)/2*(x+5)**2\n",
        "continuous_domain(f, x, S.Reals)"
      ]
    },
    {
      "cell_type": "markdown",
      "source": [
        "## Задание 8.2\n",
        "\n",
        "Найдите область значений функции:"
      ],
      "metadata": {
        "id": "3n09yBVSWzXA"
      },
      "id": "3n09yBVSWzXA"
    },
    {
      "cell_type": "code",
      "source": [
        "from sympy import Symbol, S\n",
        "from sympy.calculus.util import function_range\n",
        "x = Symbol(\"x\") \n",
        "f = (x**3)/2*(x+5)**2\n",
        "function_range(f, x, S.Reals)"
      ],
      "metadata": {
        "colab": {
          "base_uri": "https://localhost:8080/",
          "height": 37
        },
        "id": "XxA63KxSVXc6",
        "outputId": "f4a10579-040a-4bf8-fe5b-0d945f8b0c1e"
      },
      "id": "XxA63KxSVXc6",
      "execution_count": 31,
      "outputs": [
        {
          "output_type": "execute_result",
          "data": {
            "text/plain": [
              "Interval(-oo, oo)"
            ],
            "text/latex": "$\\displaystyle \\left(-\\infty, \\infty\\right)$"
          },
          "metadata": {},
          "execution_count": 31
        }
      ]
    },
    {
      "cell_type": "markdown",
      "source": [
        "## Задание 8.3\n",
        "\n",
        "Исследуйте функцию на чётность. Какой она является?\n",
        "\n",
        "+ Ни чётной, ни нечётной"
      ],
      "metadata": {
        "id": "boXZFQiiX49I"
      },
      "id": "boXZFQiiX49I"
    },
    {
      "cell_type": "markdown",
      "source": [
        "## Задание 8.4\n",
        "\n",
        "В какой точке график пересекает ось абсцисс? В качестве ответа введите координату по х."
      ],
      "metadata": {
        "id": "0myt016aX87z"
      },
      "id": "0myt016aX87z"
    },
    {
      "cell_type": "code",
      "source": [
        "from sympy import solveset, Eq\n",
        "f = (x**3)/2*((x+5)**2)\n",
        "solveset(Eq(f, 0), x)"
      ],
      "metadata": {
        "colab": {
          "base_uri": "https://localhost:8080/",
          "height": 37
        },
        "id": "0UqsVMj8W7jA",
        "outputId": "014edc19-803e-4dcf-cde1-e49149dbd329"
      },
      "id": "0UqsVMj8W7jA",
      "execution_count": 34,
      "outputs": [
        {
          "output_type": "execute_result",
          "data": {
            "text/plain": [
              "FiniteSet(-5, 0)"
            ],
            "text/latex": "$\\displaystyle \\left\\{-5, 0\\right\\}$"
          },
          "metadata": {},
          "execution_count": 34
        }
      ]
    },
    {
      "cell_type": "markdown",
      "source": [
        "## Задание 8.5\n",
        "\n",
        "В какой точке график пересекает ось ординат? В качестве ответа введите координату по y."
      ],
      "metadata": {
        "id": "WJ7Qp_nSYi2t"
      },
      "id": "WJ7Qp_nSYi2t"
    },
    {
      "cell_type": "code",
      "source": [
        "x = Symbol(\"x\")\n",
        "f = (x**3)/2*((x+5)**2)\n",
        "f.subs(x, 0)"
      ],
      "metadata": {
        "colab": {
          "base_uri": "https://localhost:8080/",
          "height": 37
        },
        "id": "3DAJNHb4YDIx",
        "outputId": "d9f64884-4a77-4388-925c-0b4fb2f9c197"
      },
      "id": "3DAJNHb4YDIx",
      "execution_count": 35,
      "outputs": [
        {
          "output_type": "execute_result",
          "data": {
            "text/plain": [
              "0"
            ],
            "text/latex": "$\\displaystyle 0$"
          },
          "metadata": {},
          "execution_count": 35
        }
      ]
    },
    {
      "cell_type": "markdown",
      "source": [
        "## Задание 8.6\n",
        "\n",
        "Найдите производную от функции:"
      ],
      "metadata": {
        "id": "S54Ak9AlYfDf"
      },
      "id": "S54Ak9AlYfDf"
    },
    {
      "cell_type": "code",
      "source": [
        "import sympy\n",
        "from sympy import diff\n",
        "x = sympy.Symbol(\"x\")\n",
        "expr = (x**3)/2*(x+5)**2\n",
        "expr.diff(x)"
      ],
      "metadata": {
        "colab": {
          "base_uri": "https://localhost:8080/",
          "height": 56
        },
        "id": "Lwz309S8YYST",
        "outputId": "7b64e68a-d30e-40cc-c1a3-a59a4ca93a17"
      },
      "id": "Lwz309S8YYST",
      "execution_count": 37,
      "outputs": [
        {
          "output_type": "execute_result",
          "data": {
            "text/plain": [
              "x**3*(2*x + 10)/2 + 3*x**2*(x + 5)**2/2"
            ],
            "text/latex": "$\\displaystyle \\frac{x^{3} \\left(2 x + 10\\right)}{2} + \\frac{3 x^{2} \\left(x + 5\\right)^{2}}{2}$"
          },
          "metadata": {},
          "execution_count": 37
        }
      ]
    },
    {
      "cell_type": "code",
      "source": [
        "y = expr.diff(x)\n",
        "solveset(Eq(y, 0), x)"
      ],
      "metadata": {
        "colab": {
          "base_uri": "https://localhost:8080/",
          "height": 47
        },
        "id": "VC48b78uYoWD",
        "outputId": "cc8d34a2-ac80-4026-d263-91b2d7d81b25"
      },
      "id": "VC48b78uYoWD",
      "execution_count": 39,
      "outputs": [
        {
          "output_type": "execute_result",
          "data": {
            "text/plain": [
              "FiniteSet(0, sqrt(3), -sqrt(3))"
            ],
            "text/latex": "$\\displaystyle \\left\\{0, - \\sqrt{3}, \\sqrt{3}\\right\\}$"
          },
          "metadata": {},
          "execution_count": 39
        }
      ]
    },
    {
      "cell_type": "code",
      "source": [],
      "metadata": {
        "id": "Y4uZTj3OghY-"
      },
      "id": "Y4uZTj3OghY-",
      "execution_count": null,
      "outputs": []
    }
  ],
  "metadata": {
    "kernelspec": {
      "display_name": "Python 3 (ipykernel)",
      "language": "python",
      "name": "python3"
    },
    "language_info": {
      "codemirror_mode": {
        "name": "ipython",
        "version": 3
      },
      "file_extension": ".py",
      "mimetype": "text/x-python",
      "name": "python",
      "nbconvert_exporter": "python",
      "pygments_lexer": "ipython3",
      "version": "3.9.12"
    },
    "colab": {
      "provenance": []
    }
  },
  "nbformat": 4,
  "nbformat_minor": 5
}