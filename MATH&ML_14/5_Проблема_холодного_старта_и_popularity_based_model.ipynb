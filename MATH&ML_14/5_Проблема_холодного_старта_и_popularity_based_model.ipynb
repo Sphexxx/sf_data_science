{
  "cells": [
    {
      "attachments": {},
      "cell_type": "markdown",
      "metadata": {
        "id": "MsrgSgEexssw"
      },
      "source": [
        "✍ Рекомендательные системы строятся на данных о товарах и о пользователях. Но что делать, если какой-то информации не хватает или если данных вообще нет?"
      ]
    },
    {
      "attachments": {},
      "cell_type": "markdown",
      "metadata": {
        "id": "sqlvGCY-xutm"
      },
      "source": [
        "В таком случае говорят о **проблеме холодного старта**. Требуется потратить немного времени или сделать несколько шагов, чтобы «разогреть» сервис рекомендаций, прежде чем он начнёт выдавать релевантные результаты с достаточной эффективностью.\n",
        "\n",
        "Можно выделить два вида проблем холодного старта:\n",
        "\n",
        "- проблема холодного старта пользователя;\n",
        "- проблема холодного старта продукта."
      ]
    },
    {
      "attachments": {},
      "cell_type": "markdown",
      "metadata": {
        "id": "7DQ8Gu5ux0dA"
      },
      "source": [
        "# ХОЛОДНЫЙ СТАРТ ПОЛЬЗОВАТЕЛЯ\n",
        "\n",
        "Когда система сталкивается с новыми посетителями веб-сайта, не имеющими истории просмотров или известных предпочтений, создание персонализированного опыта для них становится сложной задачей, поскольку данные, обычно используемые для создания рекомендаций, отсутствуют.\n",
        "\n",
        "Рекомендательные системы не могут дать корректную рекомендацию не только для тех, кто впервые заходит на сайт. Пользовательский «холодный старт» может возникнуть даже у постоянных посетителей, если их поведение и предпочтения меняются от одной сессии к другой. С этой проблемой обычно сталкиваются сайты объявлений. К примеру, какое-то время пользователь может искать и сравнивать надувные байдарки, но после того как он купит нужный ему товар, он перейдёт к чему-то другому, совершенно не связанному с предыдущим интересом, например к подержанным укулеле. В таком случае история просмотров пользователя не даст полезных подсказок для угадывания его следующего выбора.\n",
        "\n",
        "В более широком смысле определённая степень «холодного старта» пользователей будет сохраняться всегда, пока пользователи сервиса будут изучать новые темы, пока их образ жизни, обстоятельства и потребности будут развиваться.\n",
        "\n",
        "### Зачастую основной метод при работе с новыми пользователями — попросить их в явном виде сообщить свои предпочтения, чтобы создать первоначальный профиль пользователя. Вы могли видеть формат такого взаимодействия на Netflix, когда про интересы и любимые сериалы спрашивают при регистрации."
      ]
    },
    {
      "attachments": {},
      "cell_type": "markdown",
      "metadata": {
        "id": "g2i_9dQGx4ui"
      },
      "source": [
        "# ХОЛОДНЫЙ СТАРТ ПРОДУКТА\n",
        "\n",
        "Когда новый товар добавляется в интернет-магазин или когда свежий контент загружается на медиаплатформу, первое время о нём никто не знает. С нулевым количеством взаимодействий или оценок он практически невидим для рекомендательной системы независимо от того, насколько релевантным он будет для пользователей.\n",
        "\n",
        "### Среди тех, кто больше всего страдает от этого явления, — сайты объявлений и новостные платформы. Здесь свежие продукты, как правило, самые «горячие», но их ценность быстро снижается: вчерашняя новость сегодня уже устарела, а велосипед, выставленный на продажу на прошлой неделе, уже продан."
      ]
    },
    {
      "attachments": {},
      "cell_type": "markdown",
      "metadata": {
        "id": "dddXt1XUx8M8"
      },
      "source": [
        "# POPULARITY-BASED MODEL\n",
        "\n",
        "О том, как можно преодолеть холодный старт продукта, мы поговорим в следующем модуле, а сейчас давайте рассмотрим один из вариантов построения рекомендаций в случае холодного старта пользователя.\n",
        "\n",
        "### Если к нам приходит клиент, про которого мы ничего не знаем, мы можем создать для него рекомендации с использованием popularity-based-модели. Это тип РС, которая формирует рекомендации на основе популярности продуктов. Например, если большинство людей часто покупает определённый продукт, то система знает, что он наиболее востребован среди аудитории, поэтому каждому новому пользователю, который только что зарегистрировался, система будет рекомендовать этот продукт.\n",
        "\n",
        "## ПРЕИМУЩЕСТВА И НЕДОСТАТКИ РЕКОМЕНДАТЕЛЬНОЙ СИСТЕМЫ НА ОСНОВЕ ПОПУЛЯРНОСТИ:\n",
        "\n",
        "![image.png](data:image/png;base64,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)\n",
        "\n",
        "Примеры использования popularity-based-моделей в известных сервисах:\n",
        "\n",
        "+ Google Новости — новости, отфильтрованные по трендам и самым популярным новостям;\n",
        "+ YouTube — самые популярные видео."
      ]
    },
    {
      "attachments": {},
      "cell_type": "markdown",
      "metadata": {
        "id": "9QJPPXsVyL5S"
      },
      "source": [
        "Давайте на примере рассмотрим, как можно построить систему рекомендаций на основе популярности.\n",
        "\n",
        "Мы будем работать с набором данных Movie Lens. Он содержит идентификаторы для каждого фильма и пользователя, который его смотрел, а также оценку, которую пользователь поставил фильму. В датасете представлено 25 000 095 оценок фильмов от 162 541 пользователя со шкалой оценок от 0.5 до 5.0.\n",
        "\n",
        "Из этого набора нам понадобится два файла:\n",
        "\n",
        "+ [данные о фильмах (movies);](https://lms.skillfactory.ru/assets/courseware/v1/4dc5c1a1e1cc649c1c263450521a00b1/asset-v1:SkillFactory+DST-3.0+28FEB2021+type@asset+block/movie.zip)\n",
        "+ [данные о выставленных оценках (ratings).](https://drive.google.com/file/d/1HwsPtZ3I9skYVI0EQCGO_nyagJH9aG-E/view?usp=sharing)"
      ]
    },
    {
      "cell_type": "code",
      "execution_count": 1,
      "metadata": {
        "id": "SRLxHaPux8Bg"
      },
      "outputs": [],
      "source": [
        "import pandas as pd\n",
        "import numpy as np"
      ]
    },
    {
      "cell_type": "code",
      "execution_count": 2,
      "metadata": {
        "colab": {
          "base_uri": "https://localhost:8080/",
          "height": 206
        },
        "id": "ua7sumDry9-v",
        "outputId": "38176eaa-f154-420e-901e-b9005e2eb00d"
      },
      "outputs": [
        {
          "data": {
            "text/html": [
              "<div>\n",
              "<style scoped>\n",
              "    .dataframe tbody tr th:only-of-type {\n",
              "        vertical-align: middle;\n",
              "    }\n",
              "\n",
              "    .dataframe tbody tr th {\n",
              "        vertical-align: top;\n",
              "    }\n",
              "\n",
              "    .dataframe thead th {\n",
              "        text-align: right;\n",
              "    }\n",
              "</style>\n",
              "<table border=\"1\" class=\"dataframe\">\n",
              "  <thead>\n",
              "    <tr style=\"text-align: right;\">\n",
              "      <th></th>\n",
              "      <th>movieId</th>\n",
              "      <th>title</th>\n",
              "      <th>genres</th>\n",
              "    </tr>\n",
              "  </thead>\n",
              "  <tbody>\n",
              "    <tr>\n",
              "      <th>0</th>\n",
              "      <td>1</td>\n",
              "      <td>Toy Story (1995)</td>\n",
              "      <td>Adventure|Animation|Children|Comedy|Fantasy</td>\n",
              "    </tr>\n",
              "    <tr>\n",
              "      <th>1</th>\n",
              "      <td>2</td>\n",
              "      <td>Jumanji (1995)</td>\n",
              "      <td>Adventure|Children|Fantasy</td>\n",
              "    </tr>\n",
              "    <tr>\n",
              "      <th>2</th>\n",
              "      <td>3</td>\n",
              "      <td>Grumpier Old Men (1995)</td>\n",
              "      <td>Comedy|Romance</td>\n",
              "    </tr>\n",
              "    <tr>\n",
              "      <th>3</th>\n",
              "      <td>4</td>\n",
              "      <td>Waiting to Exhale (1995)</td>\n",
              "      <td>Comedy|Drama|Romance</td>\n",
              "    </tr>\n",
              "    <tr>\n",
              "      <th>4</th>\n",
              "      <td>5</td>\n",
              "      <td>Father of the Bride Part II (1995)</td>\n",
              "      <td>Comedy</td>\n",
              "    </tr>\n",
              "  </tbody>\n",
              "</table>\n",
              "</div>"
            ],
            "text/plain": [
              "   movieId                               title  \\\n",
              "0        1                    Toy Story (1995)   \n",
              "1        2                      Jumanji (1995)   \n",
              "2        3             Grumpier Old Men (1995)   \n",
              "3        4            Waiting to Exhale (1995)   \n",
              "4        5  Father of the Bride Part II (1995)   \n",
              "\n",
              "                                        genres  \n",
              "0  Adventure|Animation|Children|Comedy|Fantasy  \n",
              "1                   Adventure|Children|Fantasy  \n",
              "2                               Comedy|Romance  \n",
              "3                         Comedy|Drama|Romance  \n",
              "4                                       Comedy  "
            ]
          },
          "execution_count": 2,
          "metadata": {},
          "output_type": "execute_result"
        }
      ],
      "source": [
        "movies = pd.read_csv('data/movie.csv')\n",
        "movies.head()"
      ]
    },
    {
      "cell_type": "code",
      "execution_count": 3,
      "metadata": {
        "colab": {
          "base_uri": "https://localhost:8080/",
          "height": 206
        },
        "id": "Vy79AgKCzL3P",
        "outputId": "66bf3f84-a69a-43c2-e977-cc4d2e2ebad7"
      },
      "outputs": [
        {
          "data": {
            "text/html": [
              "<div>\n",
              "<style scoped>\n",
              "    .dataframe tbody tr th:only-of-type {\n",
              "        vertical-align: middle;\n",
              "    }\n",
              "\n",
              "    .dataframe tbody tr th {\n",
              "        vertical-align: top;\n",
              "    }\n",
              "\n",
              "    .dataframe thead th {\n",
              "        text-align: right;\n",
              "    }\n",
              "</style>\n",
              "<table border=\"1\" class=\"dataframe\">\n",
              "  <thead>\n",
              "    <tr style=\"text-align: right;\">\n",
              "      <th></th>\n",
              "      <th>userId</th>\n",
              "      <th>movieId</th>\n",
              "      <th>rating</th>\n",
              "      <th>timestamp</th>\n",
              "    </tr>\n",
              "  </thead>\n",
              "  <tbody>\n",
              "    <tr>\n",
              "      <th>0</th>\n",
              "      <td>1</td>\n",
              "      <td>2</td>\n",
              "      <td>3.5</td>\n",
              "      <td>2005-04-02 23:53:47</td>\n",
              "    </tr>\n",
              "    <tr>\n",
              "      <th>1</th>\n",
              "      <td>1</td>\n",
              "      <td>29</td>\n",
              "      <td>3.5</td>\n",
              "      <td>2005-04-02 23:31:16</td>\n",
              "    </tr>\n",
              "    <tr>\n",
              "      <th>2</th>\n",
              "      <td>1</td>\n",
              "      <td>32</td>\n",
              "      <td>3.5</td>\n",
              "      <td>2005-04-02 23:33:39</td>\n",
              "    </tr>\n",
              "    <tr>\n",
              "      <th>3</th>\n",
              "      <td>1</td>\n",
              "      <td>47</td>\n",
              "      <td>3.5</td>\n",
              "      <td>2005-04-02 23:32:07</td>\n",
              "    </tr>\n",
              "    <tr>\n",
              "      <th>4</th>\n",
              "      <td>1</td>\n",
              "      <td>50</td>\n",
              "      <td>3.5</td>\n",
              "      <td>2005-04-02 23:29:40</td>\n",
              "    </tr>\n",
              "  </tbody>\n",
              "</table>\n",
              "</div>"
            ],
            "text/plain": [
              "   userId  movieId  rating            timestamp\n",
              "0       1        2     3.5  2005-04-02 23:53:47\n",
              "1       1       29     3.5  2005-04-02 23:31:16\n",
              "2       1       32     3.5  2005-04-02 23:33:39\n",
              "3       1       47     3.5  2005-04-02 23:32:07\n",
              "4       1       50     3.5  2005-04-02 23:29:40"
            ]
          },
          "execution_count": 3,
          "metadata": {},
          "output_type": "execute_result"
        }
      ],
      "source": [
        "ratings = pd.read_csv('data/ratings.csv')\n",
        "ratings.head()"
      ]
    },
    {
      "attachments": {},
      "cell_type": "markdown",
      "metadata": {
        "id": "pGuHFNWDVtSF"
      },
      "source": [
        "Объединим их:"
      ]
    },
    {
      "cell_type": "code",
      "execution_count": 4,
      "metadata": {
        "colab": {
          "base_uri": "https://localhost:8080/",
          "height": 206
        },
        "id": "NPI5sWSv0aQE",
        "outputId": "59e60936-1390-4d1a-de4c-d282d96920e1"
      },
      "outputs": [
        {
          "data": {
            "text/html": [
              "<div>\n",
              "<style scoped>\n",
              "    .dataframe tbody tr th:only-of-type {\n",
              "        vertical-align: middle;\n",
              "    }\n",
              "\n",
              "    .dataframe tbody tr th {\n",
              "        vertical-align: top;\n",
              "    }\n",
              "\n",
              "    .dataframe thead th {\n",
              "        text-align: right;\n",
              "    }\n",
              "</style>\n",
              "<table border=\"1\" class=\"dataframe\">\n",
              "  <thead>\n",
              "    <tr style=\"text-align: right;\">\n",
              "      <th></th>\n",
              "      <th>userId</th>\n",
              "      <th>movieId</th>\n",
              "      <th>rating</th>\n",
              "      <th>timestamp</th>\n",
              "      <th>title</th>\n",
              "      <th>genres</th>\n",
              "    </tr>\n",
              "  </thead>\n",
              "  <tbody>\n",
              "    <tr>\n",
              "      <th>0</th>\n",
              "      <td>1</td>\n",
              "      <td>2</td>\n",
              "      <td>3.5</td>\n",
              "      <td>2005-04-02 23:53:47</td>\n",
              "      <td>Jumanji (1995)</td>\n",
              "      <td>Adventure|Children|Fantasy</td>\n",
              "    </tr>\n",
              "    <tr>\n",
              "      <th>1</th>\n",
              "      <td>1</td>\n",
              "      <td>29</td>\n",
              "      <td>3.5</td>\n",
              "      <td>2005-04-02 23:31:16</td>\n",
              "      <td>City of Lost Children, The (Cité des enfants p...</td>\n",
              "      <td>Adventure|Drama|Fantasy|Mystery|Sci-Fi</td>\n",
              "    </tr>\n",
              "    <tr>\n",
              "      <th>2</th>\n",
              "      <td>1</td>\n",
              "      <td>32</td>\n",
              "      <td>3.5</td>\n",
              "      <td>2005-04-02 23:33:39</td>\n",
              "      <td>Twelve Monkeys (a.k.a. 12 Monkeys) (1995)</td>\n",
              "      <td>Mystery|Sci-Fi|Thriller</td>\n",
              "    </tr>\n",
              "    <tr>\n",
              "      <th>3</th>\n",
              "      <td>1</td>\n",
              "      <td>47</td>\n",
              "      <td>3.5</td>\n",
              "      <td>2005-04-02 23:32:07</td>\n",
              "      <td>Seven (a.k.a. Se7en) (1995)</td>\n",
              "      <td>Mystery|Thriller</td>\n",
              "    </tr>\n",
              "    <tr>\n",
              "      <th>4</th>\n",
              "      <td>1</td>\n",
              "      <td>50</td>\n",
              "      <td>3.5</td>\n",
              "      <td>2005-04-02 23:29:40</td>\n",
              "      <td>Usual Suspects, The (1995)</td>\n",
              "      <td>Crime|Mystery|Thriller</td>\n",
              "    </tr>\n",
              "  </tbody>\n",
              "</table>\n",
              "</div>"
            ],
            "text/plain": [
              "   userId  movieId  rating            timestamp  \\\n",
              "0       1        2     3.5  2005-04-02 23:53:47   \n",
              "1       1       29     3.5  2005-04-02 23:31:16   \n",
              "2       1       32     3.5  2005-04-02 23:33:39   \n",
              "3       1       47     3.5  2005-04-02 23:32:07   \n",
              "4       1       50     3.5  2005-04-02 23:29:40   \n",
              "\n",
              "                                               title  \\\n",
              "0                                     Jumanji (1995)   \n",
              "1  City of Lost Children, The (Cité des enfants p...   \n",
              "2          Twelve Monkeys (a.k.a. 12 Monkeys) (1995)   \n",
              "3                        Seven (a.k.a. Se7en) (1995)   \n",
              "4                         Usual Suspects, The (1995)   \n",
              "\n",
              "                                   genres  \n",
              "0              Adventure|Children|Fantasy  \n",
              "1  Adventure|Drama|Fantasy|Mystery|Sci-Fi  \n",
              "2                 Mystery|Sci-Fi|Thriller  \n",
              "3                        Mystery|Thriller  \n",
              "4                  Crime|Mystery|Thriller  "
            ]
          },
          "execution_count": 4,
          "metadata": {},
          "output_type": "execute_result"
        }
      ],
      "source": [
        "df = pd.merge(ratings,movies, how='left',on='movieId')\n",
        "df.head()"
      ]
    },
    {
      "attachments": {},
      "cell_type": "markdown",
      "metadata": {
        "id": "PuZM66O-VvMx"
      },
      "source": [
        "+ userId — id пользователя;\n",
        "+ movieId — id фильма;\n",
        "+ rating — выставленный пользователем рейтинг для фильма;\n",
        "+ timestamp — время выставления рейтинга;\n",
        "+ title — название фильма;\n",
        "+ genres — жанры, к которым относится фильм."
      ]
    },
    {
      "attachments": {},
      "cell_type": "markdown",
      "metadata": {
        "id": "wcbLss8UVyrj"
      },
      "source": [
        "## Задание 5.1\n",
        "\n",
        "Подсчитайте, сколько раз каждый фильм встречается в наборе данных. Отметьте среди перечисленных ниже фильмов те, что встречаются в топ-5 по популярности."
      ]
    },
    {
      "cell_type": "code",
      "execution_count": 5,
      "metadata": {
        "colab": {
          "base_uri": "https://localhost:8080/"
        },
        "id": "qbzPiGxQ0j1P",
        "outputId": "a73553e4-f227-47a4-82af-f95e6edfae03"
      },
      "outputs": [
        {
          "name": "stdout",
          "output_type": "stream",
          "text": [
            "Index(['Pulp Fiction (1994)', 'Forrest Gump (1994)',\n",
            "       'Shawshank Redemption, The (1994)', 'Silence of the Lambs, The (1991)',\n",
            "       'Jurassic Park (1993)'],\n",
            "      dtype='object')\n"
          ]
        }
      ],
      "source": [
        "movie_popularity = df[\"title\"].value_counts()\n",
        "print(movie_popularity.head().index)"
      ]
    },
    {
      "attachments": {},
      "cell_type": "markdown",
      "metadata": {
        "id": "7cB_6cqFWHTz"
      },
      "source": [
        "## Задание 5.2\n",
        "\n",
        "Отлично, мы нашли самые востребованные фильмы. Однако если фильм посмотрело много людей, это ещё не значит, что он им понравился. Чтобы понять, как зритель на самом деле относится к фильму, нужны более чёткие данные. К счастью, в наборе данных Movie Lens есть оценки каждого из зрителей.\n",
        "\n",
        "+ Найдите средний рейтинг для каждого из фильмов.\n",
        "+ Найдите фильмы с наивысшим средним рейтингом.\n",
        "+ Введите в качестве ответа фильм, занимающий последнее место среди фильмов с наивысшим рейтингом, если предварительно отсортировать их по алфавитному порядку."
      ]
    },
    {
      "cell_type": "code",
      "execution_count": 6,
      "metadata": {
        "colab": {
          "base_uri": "https://localhost:8080/"
        },
        "id": "fXehe_85V2uO",
        "outputId": "0fb2a208-f208-461a-dea8-9aa78f96c28e"
      },
      "outputs": [
        {
          "name": "stdout",
          "output_type": "stream",
          "text": [
            "                                                   rating\n",
            "title                                                    \n",
            "Yonkers Joe (2008)                                    5.0\n",
            "Year Zero: The Silent Death of Cambodia (1979)        5.0\n",
            "Who Killed Vincent Chin? (1987)                       5.0\n",
            "When I Walk (2013)                                    5.0\n",
            "Welcome to Australia (1999)                           5.0\n",
            "Victor and the Secret of Crocodile Mansion (2012)     5.0\n",
            "Turkish Dance, Ella Lola (1898)                       5.0\n",
            "This Thing With Sarah (2013)                          5.0\n",
            "The great match (2007)                                5.0\n",
            "The Wrecking Crew (2008)                              5.0\n"
          ]
        }
      ],
      "source": [
        "average_rating_df = df[[\"title\", \"rating\"]].groupby('title').mean()\n",
        "sorted_average_ratings = average_rating_df.sort_values(by=[\"rating\",'title'], ascending=False)\n",
        "\n",
        "print(sorted_average_ratings.head(10))"
      ]
    },
    {
      "attachments": {},
      "cell_type": "markdown",
      "metadata": {
        "id": "BbQbDZyGWZmT"
      },
      "source": [
        "## Задание 5.3\n",
        "\n",
        "В двух предыдущих заданиях вы использовали два самых простых метода для создания неперсонализированных рекомендаций. Однако у них обоих есть свои недостатки: поиск наиболее часто просматриваемых фильмов не учитывает того, насколько фильм нравится аудитории, а поиск среднего рейтинга может вывести в рекомендуемые фильмы малоизвестные специфические картины с одной-двумя оценками.\n",
        "\n",
        "Чтобы решить эти проблемы, объединим два подхода и будем искать средний рейтинг только для фильмов, которые были оценены более 50 раз.\n",
        "\n",
        "Сколько таких фильмов?"
      ]
    },
    {
      "cell_type": "code",
      "execution_count": 7,
      "metadata": {
        "colab": {
          "base_uri": "https://localhost:8080/"
        },
        "id": "smDa0YnJWM0C",
        "outputId": "7f605470-75f6-4e81-c1fd-a755b12ba957"
      },
      "outputs": [
        {
          "name": "stdout",
          "output_type": "stream",
          "text": [
            "10472\n"
          ]
        }
      ],
      "source": [
        "movie_popularity = df[\"title\"].value_counts()\n",
        "popular_movies = movie_popularity[movie_popularity > 50].index\n",
        "\n",
        "print(popular_movies.shape[0])"
      ]
    },
    {
      "attachments": {},
      "cell_type": "markdown",
      "metadata": {
        "id": "bnUipkPgWjeZ"
      },
      "source": [
        "## Задание 5.4\n",
        "\n",
        "Постройте простейшую рекомендацию: возьмите фильмы, которые смотрели более 50 раз, и найдите среди них фильм с наивысшей оценкой. В качестве ответа запишите название этого фильма без артикля и года выхода на экран."
      ]
    },
    {
      "cell_type": "code",
      "execution_count": 8,
      "metadata": {
        "colab": {
          "base_uri": "https://localhost:8080/"
        },
        "id": "KZtmtPE9WfZ-",
        "outputId": "48fa7184-eeb2-460a-cd63-857161572b8d"
      },
      "outputs": [
        {
          "name": "stdout",
          "output_type": "stream",
          "text": [
            "                                                 rating\n",
            "title                                                  \n",
            "Shawshank Redemption, The (1994)               4.446990\n",
            "Godfather, The (1972)                          4.364732\n",
            "Usual Suspects, The (1995)                     4.334372\n",
            "Schindler's List (1993)                        4.310175\n",
            "Godfather: Part II, The (1974)                 4.275641\n",
            "Seven Samurai (Shichinin no samurai) (1954)    4.274180\n",
            "Rear Window (1954)                             4.271334\n",
            "Band of Brothers (2001)                        4.263182\n",
            "Casablanca (1942)                              4.258327\n",
            "Sunset Blvd. (a.k.a. Sunset Boulevard) (1950)  4.256935\n"
          ]
        }
      ],
      "source": [
        "movie_popularity = df[\"title\"].value_counts()\n",
        "popular_movies = movie_popularity[movie_popularity > 50].index\n",
        "df2 = df[df.title.isin(popular_movies)]\n",
        "average_rating_df2 = df2[[\"title\", \"rating\"]].groupby('title').mean()\n",
        "\n",
        "sorted_average_ratings = average_rating_df2.sort_values(by=[\"rating\",'title'], ascending=False)\n",
        "\n",
        "print(sorted_average_ratings.head(10))"
      ]
    },
    {
      "attachments": {},
      "cell_type": "markdown",
      "metadata": {
        "id": "t2gNUEw6Wwg1"
      },
      "source": [
        "По сути, вы только что построили простейшую рекомендательную систему. В следующем юните вы решите более объёмную задачу, пройдя все этапы от предобработки данных до оценки качества получившейся системы рекомендаций."
      ]
    }
  ],
  "metadata": {
    "colab": {
      "provenance": []
    },
    "kernelspec": {
      "display_name": "Python 3",
      "name": "python3"
    },
    "language_info": {
      "codemirror_mode": {
        "name": "ipython",
        "version": 3
      },
      "file_extension": ".py",
      "mimetype": "text/x-python",
      "name": "python",
      "nbconvert_exporter": "python",
      "pygments_lexer": "ipython3",
      "version": "3.10.8"
    }
  },
  "nbformat": 4,
  "nbformat_minor": 0
}
