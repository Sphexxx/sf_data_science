{
  "cells": [
    {
      "cell_type": "markdown",
      "source": [
        "✍ Итак, вы познакомились с основными методами построения рекомендательных систем, и теперь настало время закрепить полученные знания на практике. В предыдущем модуле мы начали строить РС для сервиса чтения статей CI&T DeskDrop. В этом юните мы продолжим работу над ней.\n",
        "\n",
        "Примечание. Если у вас не сохранился код, который мы использовали ранее, вы можете найти его в ноутбуке."
      ],
      "metadata": {
        "id": "RzuVxaii-TDn"
      }
    },
    {
      "cell_type": "code",
      "execution_count": 1,
      "metadata": {
        "_cell_guid": "719f3966-e6fd-49c8-9f60-7bd741542450",
        "_uuid": "b61cd3125a7f8f991fc1bda85ae3cd26f74090ae",
        "id": "wNfQwXV17w32"
      },
      "outputs": [],
      "source": [
        "import pandas as pd\n",
        "import numpy as np\n",
        "import math"
      ]
    },
    {
      "cell_type": "code",
      "execution_count": 2,
      "metadata": {
        "_cell_guid": "e601f966-d03f-4edc-886f-ca3d511a8045",
        "_uuid": "569c301bd128f66f29b4d97c34171e4d1712015a",
        "id": "y7UAvo9Y7w33"
      },
      "outputs": [],
      "source": [
        "articles_df = pd.read_csv('shared_articles.csv')\n",
        "articles_df = articles_df[articles_df['eventType'] == 'CONTENT SHARED']"
      ]
    },
    {
      "cell_type": "code",
      "execution_count": 3,
      "metadata": {
        "_cell_guid": "445d39ec-f6b0-4155-9f92-0a2540918bd1",
        "_uuid": "9829842326037e364de457f832deceae074d6164",
        "id": "ivJz48uV7w33"
      },
      "outputs": [],
      "source": [
        "interactions_df = pd.read_csv('users_interactions.csv')"
      ]
    },
    {
      "cell_type": "code",
      "execution_count": 4,
      "metadata": {
        "id": "IeZKXvNf7w34"
      },
      "outputs": [],
      "source": [
        "interactions_df.personId = interactions_df.personId.astype(str)\n",
        "interactions_df.contentId = interactions_df.contentId.astype(str)\n",
        "articles_df.contentId = articles_df.contentId.astype(str)"
      ]
    },
    {
      "cell_type": "code",
      "execution_count": 5,
      "metadata": {
        "_cell_guid": "3239c376-05b8-4a58-9afc-f6f57f67405f",
        "_uuid": "b06f8c0b082f0ad07bf773a5ad2fae33c1f7acc2",
        "id": "7WY1Hykv7w34"
      },
      "outputs": [],
      "source": [
        "event_type_strength = {\n",
        "   'VIEW': 1.0,\n",
        "   'LIKE': 2.0, \n",
        "   'BOOKMARK': 2.5, \n",
        "   'FOLLOW': 3.0,\n",
        "   'COMMENT CREATED': 4.0,  \n",
        "}"
      ]
    },
    {
      "cell_type": "code",
      "execution_count": 6,
      "metadata": {
        "id": "Z69ayTpr7w34"
      },
      "outputs": [],
      "source": [
        "interactions_df['eventStrength'] = interactions_df.eventType.apply(lambda x: event_type_strength[x])"
      ]
    },
    {
      "cell_type": "code",
      "execution_count": 7,
      "metadata": {
        "_cell_guid": "bad1d8ea-9b67-4a47-80c5-87a5e55c4f38",
        "_uuid": "1698c88340183baa7f3ebb8c3b60eaa8e6ca708f",
        "id": "Rr43SIq_7w35"
      },
      "outputs": [],
      "source": [
        "users_interactions_count_df = (\n",
        "    interactions_df\n",
        "    .groupby(['personId', 'contentId'])\n",
        "    .first()\n",
        "    .reset_index()\n",
        "    .groupby('personId').size())\n",
        "\n",
        "users_with_enough_interactions_df = \\\n",
        "    users_interactions_count_df[users_interactions_count_df >= 5].reset_index()[['personId']]"
      ]
    },
    {
      "cell_type": "code",
      "execution_count": 8,
      "metadata": {
        "_cell_guid": "4e79a418-a9d6-4e01-9f38-9b290a645626",
        "_uuid": "0f428a4c6e76f95de7ea328dc33c6539389ae5f0",
        "id": "g5ni03Z57w35"
      },
      "outputs": [],
      "source": [
        "interactions_from_selected_users_df = interactions_df.loc[np.in1d(interactions_df.personId,\n",
        "            users_with_enough_interactions_df)]"
      ]
    },
    {
      "cell_type": "code",
      "execution_count": 9,
      "metadata": {
        "_cell_guid": "54c82dd1-1102-4f11-ac6a-7993f8e5e842",
        "_uuid": "dcd64b20b47cf2c365341303ff410626a801f7a6",
        "id": "5mXOPSjW7w36"
      },
      "outputs": [],
      "source": [
        "def smooth_user_preference(x):\n",
        "    return math.log(1+x, 2)\n",
        "    \n",
        "interactions_full_df = (\n",
        "    interactions_from_selected_users_df\n",
        "    .groupby(['personId', 'contentId']).eventStrength.sum()\n",
        "    .apply(smooth_user_preference)\n",
        "    .reset_index().set_index(['personId', 'contentId'])\n",
        ")\n",
        "interactions_full_df['last_timestamp'] = (\n",
        "    interactions_from_selected_users_df\n",
        "    .groupby(['personId', 'contentId'])['timestamp'].last()\n",
        ")\n",
        "        \n",
        "interactions_full_df = interactions_full_df.reset_index()"
      ]
    },
    {
      "cell_type": "code",
      "execution_count": 10,
      "metadata": {
        "_cell_guid": "e594a5ef-255a-4d30-9ab2-7cebe12fe798",
        "_uuid": "babda61be5306281b34422dbded67675a0aab17d",
        "id": "Qix5uD7f7w37"
      },
      "outputs": [],
      "source": [
        "from sklearn.model_selection import train_test_split\n",
        "\n",
        "split_ts = 1475519545\n",
        "interactions_train_df = interactions_full_df.loc[interactions_full_df.last_timestamp < split_ts].copy()\n",
        "interactions_test_df = interactions_full_df.loc[interactions_full_df.last_timestamp >= split_ts].copy()\n"
      ]
    },
    {
      "cell_type": "markdown",
      "source": [
        "Так как теперь вам известны более сложные алгоритмы построения рекомендательных систем, начнём с них.\n",
        "\n",
        "Для начала необходимо построить матрицу, в которой по столбцам будут находиться id статей, по строкам — id пользователей, а на пересечениях строк и столбцов — оценка взаимодействия пользователя со статьёй. Если взаимодействия не было, в соответствующей ячейке должен стоять ноль."
      ],
      "metadata": {
        "id": "EkTTRP87-ZLn"
      }
    },
    {
      "cell_type": "markdown",
      "source": [
        "## Задание 6.1\n",
        "\n",
        "Найдите оценку взаимодействия пользователя с ID -1032019229384696495 со статьёй с ID 943818026930898372. Результат округлите до двух знаков после точки-разделителя."
      ],
      "metadata": {
        "id": "rPdeem6sRH-t"
      }
    },
    {
      "cell_type": "code",
      "source": [
        "ratings = pd.pivot_table(\n",
        "    interactions_train_df,\n",
        "    values=\"eventStrength\",\n",
        "    index=\"personId\",\n",
        "    columns=\"contentId\",\n",
        ").fillna(0)\n",
        "round(ratings.loc[\"-1032019229384696495\", \"943818026930898372\"], 2)"
      ],
      "metadata": {
        "colab": {
          "base_uri": "https://localhost:8080/"
        },
        "id": "-TbmtkNVRDIV",
        "outputId": "cdcd9e83-5cb8-4071-e1b7-2865c6a6e714"
      },
      "execution_count": 11,
      "outputs": [
        {
          "output_type": "execute_result",
          "data": {
            "text/plain": [
              "2.32"
            ]
          },
          "metadata": {},
          "execution_count": 11
        }
      ]
    },
    {
      "cell_type": "markdown",
      "source": [
        "Теперь давайте попробуем применить memory-based-подход коллаборативной фильтрации.\n",
        "\n",
        "Примечание. Данных достаточно много, поэтому для увеличения скорости работы преобразуйте таблицу в массив numpy."
      ],
      "metadata": {
        "id": "FAK4smcw-5Wx"
      }
    },
    {
      "cell_type": "markdown",
      "source": [
        "## Задание 6.2\n",
        "\n",
        "Найдите среднее арифметическое всех чисел в получившемся массиве. Результат округлите до трёх знаков после точки-разделителя."
      ],
      "metadata": {
        "id": "6zyGPm-7-7U_"
      }
    },
    {
      "cell_type": "code",
      "source": [
        "ratings_m = ratings.values\n",
        "ratings_m.mean()"
      ],
      "metadata": {
        "id": "bLHAtVx6RDcg",
        "colab": {
          "base_uri": "https://localhost:8080/"
        },
        "outputId": "14a93d2c-ab59-473b-b68a-3dc21471d6b5"
      },
      "execution_count": 12,
      "outputs": [
        {
          "output_type": "execute_result",
          "data": {
            "text/plain": [
              "0.016673743043640697"
            ]
          },
          "metadata": {},
          "execution_count": 12
        }
      ]
    },
    {
      "cell_type": "markdown",
      "source": [
        "Перейдём к реализации коллаборативной фильтрации. Ранее мы делали это с помощью библиотеки surprise, однако это не всегда удобно, так как эта библиотека имеет ограниченное количество метрик для оценки качества и небольшой потенциал для более тонкой настройки алгоритма. Поэтому давайте попробуем реализовать алгоритмы коллаборативной фильтрации «с нуля». Такая практика применяется, если необходимо выстроить более сложную систему, чем могут предложить готовые модули. Кроме того, «ручная» реализация алгоритмов позволит лучше понять принцип их работы."
      ],
      "metadata": {
        "id": "6gSzj9ZR_Nlt"
      }
    },
    {
      "cell_type": "markdown",
      "source": [
        "## Задание 6.3\n",
        "\n",
        "Постройте матрицу схожести. Для этого вычислите все попарные коэффициенты корреляции для матрицы, полученной в предыдущем задании. Для каждой пары учитывайте только ненулевые значения (так как нулевые обозначают отсутствие взаимодействия и не интересуют нас). Выведите результат, полученный в ячейке с третьим индексом по строкам и сороковым — по столбцам.\n",
        "\n",
        "Чтобы построить матрицу схожести, сначала создайте нулевую матрицу, у которой количество строк и столбцов будет соответствовать количеству элементов в массиве из предыдущего задания. Затем реализуйте цикл в цикле (используйте цикл for): заполните ячейки коэффициентами корреляции, если оба элемента с рассматриваемыми индексами не равны 0."
      ],
      "metadata": {
        "id": "bhGim7z9_PF_"
      }
    },
    {
      "cell_type": "code",
      "source": [
        "similarity_users = np.zeros((len(ratings_m), len(ratings_m)))\n",
        "for i in (range(len(ratings_m)-1)):\n",
        "    for j in range(i+1, len(ratings_m)):\n",
        "     \n",
        "        mask_uv = (ratings_m[i] != 0) & (ratings_m[j] != 0)\n",
        "        ratings_v = ratings_m[i, mask_uv]\n",
        "        ratings_u = ratings_m[j, mask_uv]\n",
        "\n",
        "        similarity_users[i,j] = np.corrcoef(ratings_v, ratings_u)[0, 1]\n",
        "        similarity_users[j,i] = similarity_users[i,j]\n",
        "\n",
        "similarity_users[3,40]"
      ],
      "metadata": {
        "colab": {
          "base_uri": "https://localhost:8080/"
        },
        "id": "lsINBfai_ARY",
        "outputId": "98729572-bc45-44d9-fcb7-b6b47131c984"
      },
      "execution_count": 13,
      "outputs": [
        {
          "output_type": "stream",
          "name": "stderr",
          "text": [
            "/usr/local/lib/python3.10/dist-packages/numpy/lib/function_base.py:495: RuntimeWarning: Mean of empty slice.\n",
            "  avg = a.mean(axis)\n",
            "/usr/local/lib/python3.10/dist-packages/numpy/core/_methods.py:181: RuntimeWarning: invalid value encountered in true_divide\n",
            "  ret = um.true_divide(\n",
            "/usr/local/lib/python3.10/dist-packages/numpy/lib/function_base.py:2821: RuntimeWarning: Degrees of freedom <= 0 for slice\n",
            "  c = cov(x, y, rowvar, dtype=dtype)\n",
            "/usr/local/lib/python3.10/dist-packages/numpy/lib/function_base.py:2680: RuntimeWarning: divide by zero encountered in true_divide\n",
            "  c *= np.true_divide(1, fact)\n",
            "/usr/local/lib/python3.10/dist-packages/numpy/lib/function_base.py:2680: RuntimeWarning: invalid value encountered in multiply\n",
            "  c *= np.true_divide(1, fact)\n",
            "/usr/local/lib/python3.10/dist-packages/numpy/lib/function_base.py:2829: RuntimeWarning: invalid value encountered in true_divide\n",
            "  c /= stddev[:, None]\n",
            "/usr/local/lib/python3.10/dist-packages/numpy/lib/function_base.py:2830: RuntimeWarning: invalid value encountered in true_divide\n",
            "  c /= stddev[None, :]\n"
          ]
        },
        {
          "output_type": "execute_result",
          "data": {
            "text/plain": [
              "-0.3333333333333333"
            ]
          },
          "metadata": {},
          "execution_count": 13
        }
      ]
    },
    {
      "cell_type": "markdown",
      "source": [
        "Теперь у нас есть матрицы схожести пользователей. Их можно использовать для построения рекомендаций. Чтобы это сделать, надо реализовать следующий алгоритм.\n",
        "\n",
        "Для каждого пользователя:\n",
        "\n",
        "1. Найти пользователей с похожестью больше 0.\n",
        "2. Для каждой статьи вычислить долю пользователей (среди выделенных на первом шаге), которые взаимодействовали со статьёй.\n",
        "3. Порекомендовать статьи с наибольшими долями со второго шага (среди тех, которые пользователь ещё не видел)."
      ],
      "metadata": {
        "id": "HVj9CvJv_8YD"
      }
    },
    {
      "cell_type": "markdown",
      "source": [
        "## Задание 6.4\n",
        "\n",
        "Постройте рекомендательную систему по алгоритму, описанному выше. Найдите первую рекомендацию для строки 35 (если считать с нуля)."
      ],
      "metadata": {
        "id": "ENWmFXOqAAO1"
      }
    },
    {
      "cell_type": "code",
      "source": [
        "interactions = (\n",
        "    interactions_train_df\n",
        "    .groupby('personId')['contentId'].agg(lambda x: list(x))\n",
        "    .reset_index()\n",
        "    .rename(columns={'contentId': 'true_train'})\n",
        "    .set_index('personId')\n",
        ")\n",
        " \n",
        "interactions['true_test'] = (\n",
        "    interactions_test_df\n",
        "    .groupby('personId')['contentId'].agg(lambda x: list(x))\n",
        ")\n",
        " \n",
        "interactions['true_test'] = [ [] if x is np.NaN else x for x in interactions['true_test'] ]\n",
        "\n",
        "prediction_user_based = []\n",
        "for i in range(len(similarity_users)):\n",
        "    users_sim = similarity_users[i] > 0\n",
        "    if not any(users_sim):\n",
        "        prediction_user_based.append([])\n",
        "    else:\n",
        "        tmp_recommend = np.argsort(ratings_m[users_sim].sum(axis=0))[::-1]\n",
        "        tmp_recommend = ratings.columns[tmp_recommend]\n",
        "        recommend = np.array(tmp_recommend)[~np.in1d(tmp_recommend, interactions.iloc[i][\"true_train\"])][:10]\n",
        "        prediction_user_based.append(list(recommend))\n",
        "interactions['prediction_user_based'] = prediction_user_based\n",
        "prediction_user_based[35][0]"
      ],
      "metadata": {
        "colab": {
          "base_uri": "https://localhost:8080/",
          "height": 35
        },
        "id": "i3GcO4GV_axF",
        "outputId": "09421433-5b12-4b00-c342-fe5b16c19262"
      },
      "execution_count": 14,
      "outputs": [
        {
          "output_type": "execute_result",
          "data": {
            "text/plain": [
              "'-5148591903395022444'"
            ],
            "application/vnd.google.colaboratory.intrinsic+json": {
              "type": "string"
            }
          },
          "metadata": {},
          "execution_count": 14
        }
      ]
    },
    {
      "cell_type": "markdown",
      "source": [
        "После того как сделаны предсказания, можно вычислить качество по метрике, которую мы определили в предыдущем модуле при решении этой задачи:"
      ],
      "metadata": {
        "id": "S1tMc1zwANXM"
      }
    },
    {
      "cell_type": "code",
      "source": [
        "def calc_precision(column):\n",
        "    return ( interactions.apply(  lambda row:len(set(row['true_test']).intersection(\n",
        "                set(row[column]))) /min(len(row['true_test']) + 0.001, 10.0), axis=1)).mean()"
      ],
      "metadata": {
        "id": "Ql6q6GTKAEph"
      },
      "execution_count": 15,
      "outputs": []
    },
    {
      "cell_type": "markdown",
      "source": [
        "## Задание 6.5\n",
        "\n",
        "Вычислите точность полученного предсказания. Ответ округлите до трёх знаков после точки-разделителя."
      ],
      "metadata": {
        "id": "vVC15b9TAQX-"
      }
    },
    {
      "cell_type": "code",
      "source": [
        "round(calc_precision('prediction_user_based'), 3)"
      ],
      "metadata": {
        "colab": {
          "base_uri": "https://localhost:8080/"
        },
        "id": "fcjHoU_BAPIG",
        "outputId": "d22e56e4-8741-4ba1-d416-3abe29ed07f9"
      },
      "execution_count": 16,
      "outputs": [
        {
          "output_type": "execute_result",
          "data": {
            "text/plain": [
              "0.005"
            ]
          },
          "metadata": {},
          "execution_count": 16
        }
      ]
    },
    {
      "cell_type": "markdown",
      "source": [
        "## Задание 6.6\n",
        "\n",
        "Теперь реализуем рекомендательную систему с использованием SVD.\n",
        "\n",
        "Разложите матрицу взаимодействий пользователей со статьями с помощью функции svd из модуля scipy. Найдите максимальное значение в получившейся матрице U. Результат округлите до двух знаков после точки-разделителя."
      ],
      "metadata": {
        "id": "vmjQ1C7JAkj1"
      }
    },
    {
      "cell_type": "code",
      "source": [
        "from scipy import linalg\n",
        "\n",
        "U, sigma, V = linalg.svd(ratings)\n",
        "U.max()"
      ],
      "metadata": {
        "colab": {
          "base_uri": "https://localhost:8080/"
        },
        "id": "1lMfEA7RASiX",
        "outputId": "5afcd1f1-9082-4070-d07c-c0c2e5629e17"
      },
      "execution_count": 19,
      "outputs": [
        {
          "output_type": "execute_result",
          "data": {
            "text/plain": [
              "0.7071067811865459"
            ]
          },
          "metadata": {},
          "execution_count": 19
        }
      ]
    },
    {
      "cell_type": "markdown",
      "source": [
        "Значения матрицы с сингулярными числами отсортированы по убыванию. Допустим, мы хотим оставить только первые 100 компонент и получить скрытые представления размерности 100. Для этого необходимо оставить 100 столбцов в матрице U, только первые 100 значений из sigma (и сделать из них диагональную матрицу) и 100 столбцов в матрице V. Затем необходимо перемножить преобразованные матрицы."
      ],
      "metadata": {
        "id": "MIlYfjJLCEE_"
      }
    },
    {
      "cell_type": "markdown",
      "source": [
        "## Задание 6.7\n",
        "\n",
        "Найдите сумму всех элементов в новой сингулярной матрице. Ответ округлите до двух знаков после точки-разделителя."
      ],
      "metadata": {
        "id": "TXO6QcAlCFdG"
      }
    },
    {
      "cell_type": "code",
      "source": [
        "k = 100\n",
        "s = np.diag(sigma[:k])\n",
        "U = U[:, 0:k]\n",
        "V = V[0:k, :]\n",
        "\n",
        "round(s.sum(), 2)"
      ],
      "metadata": {
        "colab": {
          "base_uri": "https://localhost:8080/"
        },
        "id": "1uPP28PeAoPq",
        "outputId": "83c5ddf3-3191-4341-a727-b0aefea8b38d"
      },
      "execution_count": 20,
      "outputs": [
        {
          "output_type": "execute_result",
          "data": {
            "text/plain": [
              "2096.53"
            ]
          },
          "metadata": {},
          "execution_count": 20
        }
      ]
    },
    {
      "cell_type": "markdown",
      "source": [
        "Теперь мы можем сделать предсказание по полученной матрице.\n",
        "\n",
        "Примечание. Помните, что не нужно учитывать статьи, которые уже были просмотрены пользователем.\n",
        "\n",
        "Найдите для каждого пользователя статьи с наибольшими оценками в восстановленной матрице."
      ],
      "metadata": {
        "id": "dWtV087uCMOS"
      }
    },
    {
      "cell_type": "markdown",
      "source": [
        "## Задание 6.8\n",
        "\n",
        "Вычислите качество полученного предсказания, используя всё ту же метрику точности. Ответ округлите до трёх знаков после точки-разделителя."
      ],
      "metadata": {
        "id": "9u3SQoAHCPWV"
      }
    },
    {
      "cell_type": "code",
      "source": [
        "new_ratings = pd.DataFrame(\n",
        "    U.dot(s).dot(V), index=ratings.index, columns=ratings.columns\n",
        ")\n",
        "top_k = 10\n",
        "predictions = []\n",
        "\n",
        "for personId in interactions.index:\n",
        "    prediction = (\n",
        "        new_ratings.loc[personId].sort_values(ascending=False).index.values\n",
        "    )\n",
        "\n",
        "    predictions.append(\n",
        "        list(\n",
        "            prediction[\n",
        "                ~np.in1d(prediction, interactions.loc[personId, \"true_train\"])\n",
        "            ]\n",
        "        )[:top_k]\n",
        "    )\n",
        "\n",
        "interactions[\"prediction_svd\"] = predictions\n",
        "\n",
        "calc_precision(\"prediction_svd\")"
      ],
      "metadata": {
        "colab": {
          "base_uri": "https://localhost:8080/"
        },
        "id": "-4IJ_PugCH1w",
        "outputId": "45055d9a-73fa-42ed-f369-1dbee1291bcd"
      },
      "execution_count": 21,
      "outputs": [
        {
          "output_type": "execute_result",
          "data": {
            "text/plain": [
              "0.012212989310270756"
            ]
          },
          "metadata": {},
          "execution_count": 21
        }
      ]
    },
    {
      "cell_type": "markdown",
      "source": [
        "Итак, мы реализовали два алгоритма коллаборативной фильтрации буквально с нуля! Теперь для полноты картины давайте реализуем на этих данных гибридную модель и посмотрим, какое качество получится. Для этого воспользуемся уже изученной библиотекой LightFM."
      ],
      "metadata": {
        "id": "VZy2mQ1kCp_S"
      }
    },
    {
      "cell_type": "markdown",
      "source": [
        "## Задание 6.9\n",
        "\n",
        "Возьмите матрицу, подготовленную в задании 6.1. Преобразуйте её в разреженную матрицу:"
      ],
      "metadata": {
        "id": "G9V5JQq_Cr-1"
      }
    },
    {
      "cell_type": "code",
      "source": [
        "from scipy.sparse import csr_matrix\n",
        "ratings_matrix = csr_matrix(ratings)"
      ],
      "metadata": {
        "id": "WzECkSBACSFR"
      },
      "execution_count": 22,
      "outputs": []
    },
    {
      "cell_type": "markdown",
      "source": [
        "Воспользовавшись функцией random_train_test_split() из библиотеки lightfm, разделите данные на валидационную и обучающую выборки в соотношении 1:2 (30% на валидационную выборку, 70% на обучающую). В качестве значения параметра random_state возьмите число 13.\n",
        "\n",
        "Обучите модель LightFM со 100 компонентами, параметром random_state = 13, темпом обучения 0.05 и функцией потерь 'warp'. Обратите внимание на то, что так как в данном случае у нас нет item-признаков, то параметр item_features задавать не нужно.\n",
        "\n",
        "Вычислите показатель точности (precision@k) при k = 10. Ответ округлите до двух знаков после точки-разделителя."
      ],
      "metadata": {
        "id": "kwdPYNYDCvFo"
      }
    },
    {
      "cell_type": "code",
      "source": [
        "!pip install LightFM"
      ],
      "metadata": {
        "colab": {
          "base_uri": "https://localhost:8080/"
        },
        "id": "rTEhhfr0C0Fn",
        "outputId": "1f4cc1ae-721e-4292-e775-8134e87e4bd7"
      },
      "execution_count": 24,
      "outputs": [
        {
          "output_type": "stream",
          "name": "stdout",
          "text": [
            "Looking in indexes: https://pypi.org/simple, https://us-python.pkg.dev/colab-wheels/public/simple/\n",
            "Collecting LightFM\n",
            "  Downloading lightfm-1.17.tar.gz (316 kB)\n",
            "\u001b[2K     \u001b[90m━━━━━━━━━━━━━━━━━━━━━━━━━━━━━━━━━━━━━━\u001b[0m \u001b[32m316.4/316.4 kB\u001b[0m \u001b[31m16.9 MB/s\u001b[0m eta \u001b[36m0:00:00\u001b[0m\n",
            "\u001b[?25h  Preparing metadata (setup.py) ... \u001b[?25l\u001b[?25hdone\n",
            "Requirement already satisfied: numpy in /usr/local/lib/python3.10/dist-packages (from LightFM) (1.22.4)\n",
            "Requirement already satisfied: scipy>=0.17.0 in /usr/local/lib/python3.10/dist-packages (from LightFM) (1.10.1)\n",
            "Requirement already satisfied: requests in /usr/local/lib/python3.10/dist-packages (from LightFM) (2.27.1)\n",
            "Requirement already satisfied: scikit-learn in /usr/local/lib/python3.10/dist-packages (from LightFM) (1.2.2)\n",
            "Requirement already satisfied: urllib3<1.27,>=1.21.1 in /usr/local/lib/python3.10/dist-packages (from requests->LightFM) (1.26.15)\n",
            "Requirement already satisfied: certifi>=2017.4.17 in /usr/local/lib/python3.10/dist-packages (from requests->LightFM) (2022.12.7)\n",
            "Requirement already satisfied: charset-normalizer~=2.0.0 in /usr/local/lib/python3.10/dist-packages (from requests->LightFM) (2.0.12)\n",
            "Requirement already satisfied: idna<4,>=2.5 in /usr/local/lib/python3.10/dist-packages (from requests->LightFM) (3.4)\n",
            "Requirement already satisfied: joblib>=1.1.1 in /usr/local/lib/python3.10/dist-packages (from scikit-learn->LightFM) (1.2.0)\n",
            "Requirement already satisfied: threadpoolctl>=2.0.0 in /usr/local/lib/python3.10/dist-packages (from scikit-learn->LightFM) (3.1.0)\n",
            "Building wheels for collected packages: LightFM\n",
            "  Building wheel for LightFM (setup.py) ... \u001b[?25l\u001b[?25hdone\n",
            "  Created wheel for LightFM: filename=lightfm-1.17-cp310-cp310-linux_x86_64.whl size=879177 sha256=fe306f04e59d23858904e9672a4922de5796873ec560b83814e256b613ae5e0d\n",
            "  Stored in directory: /root/.cache/pip/wheels/4f/9b/7e/0b256f2168511d8fa4dae4fae0200fdbd729eb424a912ad636\n",
            "Successfully built LightFM\n",
            "Installing collected packages: LightFM\n",
            "Successfully installed LightFM-1.17\n"
          ]
        }
      ]
    },
    {
      "cell_type": "code",
      "source": [
        "from lightfm import LightFM\n",
        "from lightfm.cross_validation import random_train_test_split\n",
        "from lightfm.evaluation import precision_at_k, recall_at_k  \n",
        "from scipy.sparse import csr_matrix\n",
        "\n",
        "ratings_matrix = csr_matrix(ratings) # передаём в качестве аргументов в функцию выставленный рейтинг (это будут значения матрицы), а также id пользователя и id книги (это будут индексы для строк и столбцов матрицы)\n",
        "model = LightFM(loss='warp', #определяем функцию потерь\n",
        "                random_state=13, #фиксируем случайное разбиение\n",
        "                learning_rate=0.05, #темп обучения\n",
        "                no_components=100) #размерность вектора для представления данных в модели\n",
        "\n",
        "train,test = random_train_test_split(ratings_matrix, test_percentage=0.3, random_state=13)\n",
        "model.fit(train)\n",
        "prec_score = precision_at_k(model, test).mean()\n",
        "\n",
        "\n",
        "print(round(prec_score, 2))"
      ],
      "metadata": {
        "colab": {
          "base_uri": "https://localhost:8080/"
        },
        "id": "P6edkJGFCt67",
        "outputId": "6f0d55f0-d503-4d06-aabf-59d01fc72663"
      },
      "execution_count": 25,
      "outputs": [
        {
          "output_type": "stream",
          "name": "stdout",
          "text": [
            "0.04\n"
          ]
        }
      ]
    },
    {
      "cell_type": "markdown",
      "source": [
        "В данном случае модель «из коробки» показала наилучший результат, однако это совсем не показатель того, что стоит пользоваться исключительно готовыми функциями. Зная тонкости работы алгоритмов, вы можете создавать собственные гибридные системы, настраивать отдельные алгоритмы и добиваться ещё лучших результатов."
      ],
      "metadata": {
        "id": "ip8IJZfkDAgL"
      }
    }
  ],
  "metadata": {
    "kernelspec": {
      "display_name": "Python 3 (ipykernel)",
      "language": "python",
      "name": "python3"
    },
    "language_info": {
      "codemirror_mode": {
        "name": "ipython",
        "version": 3
      },
      "file_extension": ".py",
      "mimetype": "text/x-python",
      "name": "python",
      "nbconvert_exporter": "python",
      "pygments_lexer": "ipython3",
      "version": "3.9.12"
    },
    "colab": {
      "provenance": []
    }
  },
  "nbformat": 4,
  "nbformat_minor": 0
}