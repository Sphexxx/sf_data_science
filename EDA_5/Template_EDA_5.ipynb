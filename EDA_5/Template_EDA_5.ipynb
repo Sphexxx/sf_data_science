{
  "cells": [
    {
      "cell_type": "markdown",
      "id": "c8a6af25-08d3-487a-bd90-001772ac9161",
      "metadata": {
        "id": "c8a6af25-08d3-487a-bd90-001772ac9161"
      },
      "source": [
        "## <center> **Анализ результатов A/B-тестирования**"
      ]
    },
    {
      "cell_type": "markdown",
      "id": "d7d45571-6545-4904-a86b-9b3b6b8163d3",
      "metadata": {
        "id": "d7d45571-6545-4904-a86b-9b3b6b8163d3"
      },
      "source": [
        "Компания планирует запустить новую акцию, чтобы продать как можно больше туров. Команда разработала два варианта посадочной страницы официального сайта компании и провела A/B-тестирование. Собранные в результате проведения эксперимента данные вы можете найти здесь.\n",
        "\n",
        "Вам предстоит решить настоящую бизнес-задачу: проанализировать эффективность обоих вариантов посадочной страницы сразу по двум критериям: конверсии покупки и среднему чеку. На основе проведенного анализа вам будет необходимо сделать выводы и принять решение: какой из вариантов дизайна более предпочтительный.\n",
        "\n",
        "Итак, наша фирма предлагает следующие варианты туров и их соответствующие стоимости:\n",
        "* Таиланд — 100000 рублей;\n",
        "* Турция — 60000 рублей;\n",
        "* Мальдивы — 200000 рублей;\n",
        "* Санкт-Петербург — 10000 рублей;\n",
        "* Камчатка — 150000 рублей."
      ]
    },
    {
      "cell_type": "code",
      "execution_count": 1,
      "id": "a974b482-e192-4014-8520-8a5c0c946da6",
      "metadata": {
        "id": "a974b482-e192-4014-8520-8a5c0c946da6"
      },
      "outputs": [],
      "source": [
        "from IPython.display import display\n",
        "import pandas as pd\n",
        "import numpy as np\n",
        "from datetime import timedelta\n",
        "from matplotlib import pyplot as plt, dates\n",
        "import seaborn as sns\n",
        "from scipy.stats import norm, t, ttest_ind, shapiro\n",
        "from statsmodels.stats.proportion import proportions_ztest"
      ]
    },
    {
      "cell_type": "markdown",
      "id": "55c84550-4162-4325-acc2-7d3c0aafe6f0",
      "metadata": {
        "id": "55c84550-4162-4325-acc2-7d3c0aafe6f0"
      },
      "source": [
        "Прочитаем наши данные и посмотрим на столбцы таблицы:"
      ]
    },
    {
      "cell_type": "code",
      "execution_count": 2,
      "id": "b0d18245-b9da-44bd-8aea-d272ea74b63a",
      "metadata": {
        "colab": {
          "base_uri": "https://localhost:8080/",
          "height": 206
        },
        "id": "b0d18245-b9da-44bd-8aea-d272ea74b63a",
        "outputId": "c623b9f8-52d2-4014-e914-1a0b0fde2fb8"
      },
      "outputs": [
        {
          "data": {
            "text/html": [
              "<div>\n",
              "<style scoped>\n",
              "    .dataframe tbody tr th:only-of-type {\n",
              "        vertical-align: middle;\n",
              "    }\n",
              "\n",
              "    .dataframe tbody tr th {\n",
              "        vertical-align: top;\n",
              "    }\n",
              "\n",
              "    .dataframe thead th {\n",
              "        text-align: right;\n",
              "    }\n",
              "</style>\n",
              "<table border=\"1\" class=\"dataframe\">\n",
              "  <thead>\n",
              "    <tr style=\"text-align: right;\">\n",
              "      <th></th>\n",
              "      <th>user_id</th>\n",
              "      <th>date</th>\n",
              "      <th>group</th>\n",
              "      <th>purchase</th>\n",
              "      <th>price</th>\n",
              "    </tr>\n",
              "  </thead>\n",
              "  <tbody>\n",
              "    <tr>\n",
              "      <th>0</th>\n",
              "      <td>851104</td>\n",
              "      <td>2021-01-21</td>\n",
              "      <td>A</td>\n",
              "      <td>0</td>\n",
              "      <td>0</td>\n",
              "    </tr>\n",
              "    <tr>\n",
              "      <th>1</th>\n",
              "      <td>804228</td>\n",
              "      <td>2021-01-12</td>\n",
              "      <td>A</td>\n",
              "      <td>0</td>\n",
              "      <td>0</td>\n",
              "    </tr>\n",
              "    <tr>\n",
              "      <th>2</th>\n",
              "      <td>661590</td>\n",
              "      <td>2021-01-11</td>\n",
              "      <td>B</td>\n",
              "      <td>0</td>\n",
              "      <td>0</td>\n",
              "    </tr>\n",
              "    <tr>\n",
              "      <th>3</th>\n",
              "      <td>853541</td>\n",
              "      <td>2021-01-08</td>\n",
              "      <td>B</td>\n",
              "      <td>0</td>\n",
              "      <td>0</td>\n",
              "    </tr>\n",
              "    <tr>\n",
              "      <th>4</th>\n",
              "      <td>864975</td>\n",
              "      <td>2021-01-21</td>\n",
              "      <td>A</td>\n",
              "      <td>1</td>\n",
              "      <td>150000</td>\n",
              "    </tr>\n",
              "  </tbody>\n",
              "</table>\n",
              "</div>"
            ],
            "text/plain": [
              "   user_id        date group  purchase   price\n",
              "0   851104  2021-01-21     A         0       0\n",
              "1   804228  2021-01-12     A         0       0\n",
              "2   661590  2021-01-11     B         0       0\n",
              "3   853541  2021-01-08     B         0       0\n",
              "4   864975  2021-01-21     A         1  150000"
            ]
          },
          "execution_count": 2,
          "metadata": {},
          "output_type": "execute_result"
        }
      ],
      "source": [
        "data = pd.read_csv('data/ab_data_tourist.csv')\n",
        "data.head()"
      ]
    },
    {
      "cell_type": "markdown",
      "id": "2fc48225-26ac-49c4-b99d-8b2a03dd74a1",
      "metadata": {
        "id": "2fc48225-26ac-49c4-b99d-8b2a03dd74a1",
        "tags": []
      },
      "source": [
        "## **Задание 7.1.**\n",
        "\n",
        "Начнем с исследования структуры наших данных. С помощью метода info() выведите информацию о типах данных и количестве непустых значений. Какой тип данных имеет столбец date?"
      ]
    },
    {
      "cell_type": "code",
      "execution_count": 3,
      "id": "23496521-4878-46e2-ab02-1a98be14884a",
      "metadata": {
        "colab": {
          "base_uri": "https://localhost:8080/"
        },
        "id": "23496521-4878-46e2-ab02-1a98be14884a",
        "outputId": "c8ee2c35-bbe8-464c-b729-df3589b82de5"
      },
      "outputs": [
        {
          "name": "stdout",
          "output_type": "stream",
          "text": [
            "<class 'pandas.core.frame.DataFrame'>\n",
            "RangeIndex: 294478 entries, 0 to 294477\n",
            "Data columns (total 5 columns):\n",
            " #   Column    Non-Null Count   Dtype \n",
            "---  ------    --------------   ----- \n",
            " 0   user_id   294478 non-null  int64 \n",
            " 1   date      294478 non-null  object\n",
            " 2   group     294478 non-null  object\n",
            " 3   purchase  294478 non-null  int64 \n",
            " 4   price     294478 non-null  int64 \n",
            "dtypes: int64(3), object(2)\n",
            "memory usage: 11.2+ MB\n"
          ]
        }
      ],
      "source": [
        "data.info()"
      ]
    },
    {
      "cell_type": "markdown",
      "id": "946d017d-b4fe-4a17-b91d-0ce369d1ab2e",
      "metadata": {
        "id": "946d017d-b4fe-4a17-b91d-0ce369d1ab2e",
        "tags": []
      },
      "source": [
        "## **Задание 7.2.**\n",
        "\n",
        "Приведите столбец date к типу данных datetime. Убедитесь в равной длительности проведения тестирования для каждой из группы. Для этого сгруппируйте данные по признаку группы и определите первую и последнюю дату наблюдения для каждой из групп. \n",
        "\n",
        "В какой промежуток времени проводился A/B-тест?\n"
      ]
    },
    {
      "cell_type": "code",
      "execution_count": 4,
      "id": "604c619d-6338-45c8-8248-ac098a2366bb",
      "metadata": {
        "colab": {
          "base_uri": "https://localhost:8080/",
          "height": 143
        },
        "id": "604c619d-6338-45c8-8248-ac098a2366bb",
        "outputId": "6edfd5c6-c510-426b-a375-0a07448f7506"
      },
      "outputs": [
        {
          "data": {
            "text/html": [
              "<div>\n",
              "<style scoped>\n",
              "    .dataframe tbody tr th:only-of-type {\n",
              "        vertical-align: middle;\n",
              "    }\n",
              "\n",
              "    .dataframe tbody tr th {\n",
              "        vertical-align: top;\n",
              "    }\n",
              "\n",
              "    .dataframe thead th {\n",
              "        text-align: right;\n",
              "    }\n",
              "</style>\n",
              "<table border=\"1\" class=\"dataframe\">\n",
              "  <thead>\n",
              "    <tr style=\"text-align: right;\">\n",
              "      <th></th>\n",
              "      <th>min</th>\n",
              "      <th>max</th>\n",
              "    </tr>\n",
              "    <tr>\n",
              "      <th>group</th>\n",
              "      <th></th>\n",
              "      <th></th>\n",
              "    </tr>\n",
              "  </thead>\n",
              "  <tbody>\n",
              "    <tr>\n",
              "      <th>A</th>\n",
              "      <td>2021-01-02</td>\n",
              "      <td>2021-01-24</td>\n",
              "    </tr>\n",
              "    <tr>\n",
              "      <th>B</th>\n",
              "      <td>2021-01-02</td>\n",
              "      <td>2021-01-24</td>\n",
              "    </tr>\n",
              "  </tbody>\n",
              "</table>\n",
              "</div>"
            ],
            "text/plain": [
              "             min        max\n",
              "group                      \n",
              "A     2021-01-02 2021-01-24\n",
              "B     2021-01-02 2021-01-24"
            ]
          },
          "execution_count": 4,
          "metadata": {},
          "output_type": "execute_result"
        }
      ],
      "source": [
        "data['date'] = pd.to_datetime(data['date'], format='%Y-%m-%d')\n",
        "data.groupby('group')['date'].agg(['min', 'max'])"
      ]
    },
    {
      "cell_type": "markdown",
      "id": "e04eb341-52ae-48b3-9dc2-0578ca91641a",
      "metadata": {
        "id": "e04eb341-52ae-48b3-9dc2-0578ca91641a"
      },
      "source": [
        "## **Задание 7.3.**\n",
        "\n",
        "* Чему равно количество посещений сайта в группах А и B?\n",
        "\n",
        "* Чему равно суммарное количество покупок в группах А и B?\n",
        "\n",
        "* Чему равна сумма всех покупок в группах А и B? Ответ приведите в миллионах рублей. Например, 185.52 млн. руб."
      ]
    },
    {
      "cell_type": "code",
      "execution_count": 5,
      "id": "02bf0148-488e-4f34-95bf-37794b2fa98b",
      "metadata": {
        "colab": {
          "base_uri": "https://localhost:8080/",
          "height": 143
        },
        "id": "02bf0148-488e-4f34-95bf-37794b2fa98b",
        "outputId": "216e80dc-27fe-4f1b-81f5-5048c8691a25"
      },
      "outputs": [
        {
          "data": {
            "text/html": [
              "<div>\n",
              "<style scoped>\n",
              "    .dataframe tbody tr th:only-of-type {\n",
              "        vertical-align: middle;\n",
              "    }\n",
              "\n",
              "    .dataframe tbody tr th {\n",
              "        vertical-align: top;\n",
              "    }\n",
              "\n",
              "    .dataframe thead th {\n",
              "        text-align: right;\n",
              "    }\n",
              "</style>\n",
              "<table border=\"1\" class=\"dataframe\">\n",
              "  <thead>\n",
              "    <tr style=\"text-align: right;\">\n",
              "      <th></th>\n",
              "      <th>users_count</th>\n",
              "      <th>purchases</th>\n",
              "      <th>sum</th>\n",
              "    </tr>\n",
              "    <tr>\n",
              "      <th>group</th>\n",
              "      <th></th>\n",
              "      <th></th>\n",
              "      <th></th>\n",
              "    </tr>\n",
              "  </thead>\n",
              "  <tbody>\n",
              "    <tr>\n",
              "      <th>A</th>\n",
              "      <td>147202</td>\n",
              "      <td>17723</td>\n",
              "      <td>1436.26</td>\n",
              "    </tr>\n",
              "    <tr>\n",
              "      <th>B</th>\n",
              "      <td>147276</td>\n",
              "      <td>17514</td>\n",
              "      <td>1554.10</td>\n",
              "    </tr>\n",
              "  </tbody>\n",
              "</table>\n",
              "</div>"
            ],
            "text/plain": [
              "       users_count  purchases      sum\n",
              "group                                 \n",
              "A           147202      17723  1436.26\n",
              "B           147276      17514  1554.10"
            ]
          },
          "metadata": {},
          "output_type": "display_data"
        }
      ],
      "source": [
        "# составим таблицу сводных показателей:\n",
        "pivot = data.groupby('group').agg({\n",
        "    'user_id': 'count',\n",
        "    'purchase': 'sum',\n",
        "    'price': (lambda x: x.sum()/1e6)\n",
        "}).rename(columns={'user_id': 'users_count', 'purchase': 'purchases', 'price': 'sum'})\n",
        "\n",
        "display(pivot)"
      ]
    },
    {
      "cell_type": "markdown",
      "id": "2434db1b-17e6-4977-8e54-1df875c6f221",
      "metadata": {
        "id": "2434db1b-17e6-4977-8e54-1df875c6f221",
        "tags": []
      },
      "source": [
        "## **Задание 7.4.**\n",
        "\n",
        "Проверьте, есть ли пользователи, которые в процессе A/B-теста попали в обе тестовые группы? Если да, то сколько таких уникальных пользователей, если нет - введите в поле для ответа 0?\n",
        "\n",
        "**Подсказка:**\n",
        "\n",
        "*Создайте множество пользователей группы А и множество пользователей группы B. Пересеките два этих множества (операция intersection) и вычислите количество элементов в полученном множестве.*\n"
      ]
    },
    {
      "cell_type": "code",
      "execution_count": 6,
      "id": "57a2d711-057d-4f8b-9f56-df0f772d41c8",
      "metadata": {
        "colab": {
          "base_uri": "https://localhost:8080/"
        },
        "id": "57a2d711-057d-4f8b-9f56-df0f772d41c8",
        "outputId": "998579d2-ac2e-42a4-cea2-72b77c1ee1a0"
      },
      "outputs": [
        {
          "name": "stdout",
          "output_type": "stream",
          "text": [
            "Уникальных пользователей, попавших в обе группы - 1895\n"
          ]
        }
      ],
      "source": [
        "users_a = set(data[data['group'] == 'A']['user_id'])\n",
        "users_b = set(data[data['group'] == 'B']['user_id'])\n",
        "users_intersection = users_a.intersection(users_b)\n",
        "\n",
        "print('Уникальных пользователей, попавших в обе группы - {}'.format(len(users_intersection)))"
      ]
    },
    {
      "cell_type": "markdown",
      "id": "118b1904-7d7a-4935-825e-535da45c611b",
      "metadata": {
        "id": "118b1904-7d7a-4935-825e-535da45c611b",
        "tags": []
      },
      "source": [
        "## **Исключите пользователей, оказавшихся в обеих группах**\n",
        "\n",
        "Так как мы не можем определить, какая из версий сайта повлияла на принятие решения, исключим этих пользователей. Далее мы будем работать только с очищенными от пересечений данными.\n",
        "\n",
        "Возможный вариант исключения пользователей:"
      ]
    },
    {
      "cell_type": "code",
      "execution_count": 7,
      "id": "f618b34b-35a3-4bf1-8d6d-38b3401930b7",
      "metadata": {
        "id": "f618b34b-35a3-4bf1-8d6d-38b3401930b7"
      },
      "outputs": [],
      "source": [
        "updated_data = data[data['user_id'].apply(lambda x: x not in users_intersection)]"
      ]
    },
    {
      "cell_type": "markdown",
      "id": "2bce6c9a-6580-4250-b280-204d40d20da2",
      "metadata": {
        "id": "2bce6c9a-6580-4250-b280-204d40d20da2"
      },
      "source": [
        "Где user_intersection - множество пересечений пользователей групп А и B."
      ]
    },
    {
      "cell_type": "markdown",
      "id": "2ddf6b2c-7987-41f3-82b1-8992630ae97b",
      "metadata": {
        "id": "2ddf6b2c-7987-41f3-82b1-8992630ae97b",
        "tags": []
      },
      "source": [
        "## **Задание 7.5.**\n",
        "\n",
        "Для первичного анализа результатов A/B-тестирования нам понадобится таблица следующего вида:\n",
        "\n",
        "![image.png](attachment:95f235d2-6323-4799-bf69-697fc57f727b.png)\n",
        " \n",
        " \n",
        "Для того, чтобы получить такую таблицу, сгруппируйте данные по признаку группы. В каждой группе рассчитайте следующие показатели:\n",
        "* количество посещений (количество пользователей)\n",
        "* количество совершенных покупок\n",
        "* сумма всех покупок в группе\n",
        "\n",
        "В полученной сгруппированной таблице переименуйте столбцы на **count_visits, count_purchases и sum_price**.\n",
        "\n",
        "**Подсказка:**\n",
        "\n",
        "*Для переименования столбцов можно использовать метод rename() с параметром columns, в который передается словарь. Ключи этого словаря - старые имена столбцов, а значения - новые.*\n",
        "\n",
        "Чему на этот раз равно количество посещений сайта в группах А и B?\n"
      ]
    },
    {
      "cell_type": "code",
      "execution_count": 8,
      "id": "5c0c018e-a250-48e9-b72a-e3c7be586ebd",
      "metadata": {
        "colab": {
          "base_uri": "https://localhost:8080/",
          "height": 143
        },
        "id": "5c0c018e-a250-48e9-b72a-e3c7be586ebd",
        "outputId": "2b9ae6bc-4928-4583-997f-bebf72d91eab"
      },
      "outputs": [
        {
          "data": {
            "text/html": [
              "<div>\n",
              "<style scoped>\n",
              "    .dataframe tbody tr th:only-of-type {\n",
              "        vertical-align: middle;\n",
              "    }\n",
              "\n",
              "    .dataframe tbody tr th {\n",
              "        vertical-align: top;\n",
              "    }\n",
              "\n",
              "    .dataframe thead th {\n",
              "        text-align: right;\n",
              "    }\n",
              "</style>\n",
              "<table border=\"1\" class=\"dataframe\">\n",
              "  <thead>\n",
              "    <tr style=\"text-align: right;\">\n",
              "      <th></th>\n",
              "      <th>count_visits</th>\n",
              "      <th>count_purchases</th>\n",
              "      <th>sum_price</th>\n",
              "    </tr>\n",
              "    <tr>\n",
              "      <th>group</th>\n",
              "      <th></th>\n",
              "      <th></th>\n",
              "      <th></th>\n",
              "    </tr>\n",
              "  </thead>\n",
              "  <tbody>\n",
              "    <tr>\n",
              "      <th>A</th>\n",
              "      <td>145307</td>\n",
              "      <td>17487</td>\n",
              "      <td>1417780000</td>\n",
              "    </tr>\n",
              "    <tr>\n",
              "      <th>B</th>\n",
              "      <td>145381</td>\n",
              "      <td>17290</td>\n",
              "      <td>1533010000</td>\n",
              "    </tr>\n",
              "  </tbody>\n",
              "</table>\n",
              "</div>"
            ],
            "text/plain": [
              "       count_visits  count_purchases   sum_price\n",
              "group                                           \n",
              "A            145307            17487  1417780000\n",
              "B            145381            17290  1533010000"
            ]
          },
          "metadata": {},
          "output_type": "display_data"
        }
      ],
      "source": [
        "# составим таблицу сводных показателей:\n",
        "pivot = updated_data.groupby('group').agg({\n",
        "    'user_id': 'count',\n",
        "    'purchase': 'sum',\n",
        "    'price': 'sum'\n",
        "}).rename(columns={'user_id': 'count_visits', 'purchase': 'count_purchases', 'price': 'sum_price'})\n",
        "\n",
        "display(pivot)"
      ]
    },
    {
      "cell_type": "markdown",
      "id": "b71e1390-9846-4a8e-b357-f82b847d1952",
      "metadata": {
        "id": "b71e1390-9846-4a8e-b357-f82b847d1952"
      },
      "source": [
        "✍️ Приведите промежуточные выводы по построенной таблице. Сопоставимо ли количество посещений обоих вариантов посадочной странице, можно ли говорить о сбалансированности выборок?"
      ]
    },
    {
      "cell_type": "markdown",
      "id": "4ea1b65b-475e-4bff-9460-fac0acdb9620",
      "metadata": {
        "id": "4ea1b65b-475e-4bff-9460-fac0acdb9620"
      },
      "source": [
        "## **Выводы: Из сводной таблицы видно, что количество посещений на сайт практичеси идентичны, и отличаются лишь на сотые доли процента. Можно однозначно назвать выборки сбалансированными.**"
      ]
    },
    {
      "cell_type": "markdown",
      "id": "afb2ee0a-31d1-45a5-be42-a2bf168b9448",
      "metadata": {
        "id": "afb2ee0a-31d1-45a5-be42-a2bf168b9448",
        "tags": []
      },
      "source": [
        "## **Задание 7.6.**\n",
        "\n",
        "Добавьте в сгруппированную таблицу столбцы conversion - конверсия покупки (отношение количества покупок к количеству посещений сайта в каждой группе, выраженное в процентах) и mean_check - средний чек (отношение суммы покупок к количеству покупок в каждой группе).\n",
        "\n",
        "* Чему равна конверсия в группах? Ответ приведите в процентах и округлите до сотых. Например, 75.12 %\n",
        "* Чему равен средний чек в группах? Ответ приведите в рублях и округлите до целых. Например, 120519 рублей."
      ]
    },
    {
      "cell_type": "code",
      "execution_count": 9,
      "id": "bd9c3b3e-5956-41a8-bae0-43693f6de1f2",
      "metadata": {
        "colab": {
          "base_uri": "https://localhost:8080/",
          "height": 143
        },
        "id": "bd9c3b3e-5956-41a8-bae0-43693f6de1f2",
        "outputId": "caaaa300-9fcf-4932-a7ed-82619e99f157"
      },
      "outputs": [
        {
          "data": {
            "text/html": [
              "<div>\n",
              "<style scoped>\n",
              "    .dataframe tbody tr th:only-of-type {\n",
              "        vertical-align: middle;\n",
              "    }\n",
              "\n",
              "    .dataframe tbody tr th {\n",
              "        vertical-align: top;\n",
              "    }\n",
              "\n",
              "    .dataframe thead th {\n",
              "        text-align: right;\n",
              "    }\n",
              "</style>\n",
              "<table border=\"1\" class=\"dataframe\">\n",
              "  <thead>\n",
              "    <tr style=\"text-align: right;\">\n",
              "      <th></th>\n",
              "      <th>count_visits</th>\n",
              "      <th>count_purchases</th>\n",
              "      <th>sum_price</th>\n",
              "      <th>conversion</th>\n",
              "      <th>mean_check</th>\n",
              "    </tr>\n",
              "    <tr>\n",
              "      <th>group</th>\n",
              "      <th></th>\n",
              "      <th></th>\n",
              "      <th></th>\n",
              "      <th></th>\n",
              "      <th></th>\n",
              "    </tr>\n",
              "  </thead>\n",
              "  <tbody>\n",
              "    <tr>\n",
              "      <th>A</th>\n",
              "      <td>145307</td>\n",
              "      <td>17487</td>\n",
              "      <td>1417780000</td>\n",
              "      <td>12.03</td>\n",
              "      <td>81076.0</td>\n",
              "    </tr>\n",
              "    <tr>\n",
              "      <th>B</th>\n",
              "      <td>145381</td>\n",
              "      <td>17290</td>\n",
              "      <td>1533010000</td>\n",
              "      <td>11.89</td>\n",
              "      <td>88665.0</td>\n",
              "    </tr>\n",
              "  </tbody>\n",
              "</table>\n",
              "</div>"
            ],
            "text/plain": [
              "       count_visits  count_purchases   sum_price  conversion  mean_check\n",
              "group                                                                   \n",
              "A            145307            17487  1417780000       12.03     81076.0\n",
              "B            145381            17290  1533010000       11.89     88665.0"
            ]
          },
          "metadata": {},
          "output_type": "display_data"
        }
      ],
      "source": [
        "pivot['conversion'] = round(pivot['count_purchases'] / pivot['count_visits'] * 100, 2)\n",
        "pivot['mean_check'] = round(pivot['sum_price'] / pivot['count_purchases'])\n",
        "\n",
        "display(pivot)"
      ]
    },
    {
      "cell_type": "markdown",
      "id": "1eb6e140-c702-43e0-b301-9914a7f49448",
      "metadata": {
        "id": "1eb6e140-c702-43e0-b301-9914a7f49448"
      },
      "source": [
        "Приведите промежуточные выводы по таблице. По какому(им) показателю(ям) вариант А эффективнее варианта B и наоборот?"
      ]
    },
    {
      "cell_type": "markdown",
      "id": "9e88c883-84f9-44ec-accd-04d5d459b261",
      "metadata": {
        "id": "9e88c883-84f9-44ec-accd-04d5d459b261"
      },
      "source": [
        "## **Выводы: Сравнивая показатели групп, можно сказать, что конверсия в группе А немного выше, зато средний чек в группе B намного превосходит показатель группы А. На первый взгляд кажется, что вариант В эффективнее, так как разница в конверсиях очень мала, и может лежать в пределах статистической погрешности, а вот различия в размере среднего чека очень ощутимы (это от 8% до 9%).**"
      ]
    },
    {
      "cell_type": "markdown",
      "id": "7f9f1ae0-f12f-49b3-8b57-1c299c208c49",
      "metadata": {
        "id": "7f9f1ae0-f12f-49b3-8b57-1c299c208c49",
        "tags": []
      },
      "source": [
        "## **Задание 7.7.**\n",
        "\n",
        "Теперь давайте сравним варианты по покупательской способности туров. Для этого постройте сводную таблицу, которая покажет зависимость количества продаж от группы и цены тура. "
      ]
    },
    {
      "cell_type": "code",
      "execution_count": 10,
      "id": "78d46a02-cc30-4783-9b18-9fc9c6a08012",
      "metadata": {
        "colab": {
          "base_uri": "https://localhost:8080/",
          "height": 143
        },
        "id": "78d46a02-cc30-4783-9b18-9fc9c6a08012",
        "outputId": "7e58d5f0-537e-4997-ca8f-c975680beb40"
      },
      "outputs": [
        {
          "data": {
            "text/html": [
              "<div>\n",
              "<style scoped>\n",
              "    .dataframe tbody tr th:only-of-type {\n",
              "        vertical-align: middle;\n",
              "    }\n",
              "\n",
              "    .dataframe tbody tr th {\n",
              "        vertical-align: top;\n",
              "    }\n",
              "\n",
              "    .dataframe thead th {\n",
              "        text-align: right;\n",
              "    }\n",
              "</style>\n",
              "<table border=\"1\" class=\"dataframe\">\n",
              "  <thead>\n",
              "    <tr style=\"text-align: right;\">\n",
              "      <th>price</th>\n",
              "      <th>10000</th>\n",
              "      <th>60000</th>\n",
              "      <th>100000</th>\n",
              "      <th>150000</th>\n",
              "      <th>200000</th>\n",
              "    </tr>\n",
              "    <tr>\n",
              "      <th>group</th>\n",
              "      <th></th>\n",
              "      <th></th>\n",
              "      <th></th>\n",
              "      <th></th>\n",
              "      <th></th>\n",
              "    </tr>\n",
              "  </thead>\n",
              "  <tbody>\n",
              "    <tr>\n",
              "      <th>A</th>\n",
              "      <td>5182</td>\n",
              "      <td>5271</td>\n",
              "      <td>1832</td>\n",
              "      <td>3478</td>\n",
              "      <td>1724</td>\n",
              "    </tr>\n",
              "    <tr>\n",
              "      <th>B</th>\n",
              "      <td>5201</td>\n",
              "      <td>1730</td>\n",
              "      <td>5227</td>\n",
              "      <td>3438</td>\n",
              "      <td>1694</td>\n",
              "    </tr>\n",
              "  </tbody>\n",
              "</table>\n",
              "</div>"
            ],
            "text/plain": [
              "price  10000   60000   100000  150000  200000\n",
              "group                                        \n",
              "A        5182    5271    1832    3478    1724\n",
              "B        5201    1730    5227    3438    1694"
            ]
          },
          "metadata": {},
          "output_type": "display_data"
        }
      ],
      "source": [
        "# формируем сводную таблицу:\n",
        "pivot_tours = pd.pivot_table(\n",
        "    updated_data[updated_data['price'] > 0],\n",
        "    values='purchase',\n",
        "    index='group',\n",
        "    columns='price',\n",
        "    aggfunc='count'\n",
        ")\n",
        "\n",
        "display(pivot_tours)"
      ]
    },
    {
      "cell_type": "markdown",
      "id": "977423ed-8f8d-475c-b773-621edd95338d",
      "metadata": {
        "id": "977423ed-8f8d-475c-b773-621edd95338d"
      },
      "source": [
        "Визуализируйте полученную сводную таблицу с помощью тепловой карты с аннотацией. \n",
        "Чему равно количество проданных туров за 60000 рублей в группах?"
      ]
    },
    {
      "cell_type": "code",
      "execution_count": 11,
      "id": "f634fa8d-585c-42e3-b7d5-78e8d9eaa8c5",
      "metadata": {
        "colab": {
          "base_uri": "https://localhost:8080/",
          "height": 407
        },
        "id": "f634fa8d-585c-42e3-b7d5-78e8d9eaa8c5",
        "outputId": "5cc5b4e2-01a5-48db-c46e-249fa2e7bdb8"
      },
      "outputs": [
        {
          "data": {
            "image/png": "[encoded data removed]",
            "text/plain": [
              "<Figure size 1296x432 with 2 Axes>"
            ]
          },
          "metadata": {
            "needs_background": "light"
          },
          "output_type": "display_data"
        }
      ],
      "source": [
        "fig, ax1 = plt.subplots(1, 1, figsize = (18, 6))\n",
        "tours_on_price = sns.heatmap(\n",
        "    data=pivot_tours,\n",
        "    annot=True,\n",
        "    annot_kws={\"fontsize\":18},\n",
        "    xticklabels=['С.-Петербург — 10 000', 'Турция — 60 000', 'Таиланд — 100 000', 'Камчатка - 150 000', 'Мальдивы - 200 000'],\n",
        "    fmt='.0f',\n",
        "    cmap='viridis'\n",
        ")\n",
        "ax1.set_xlabel('')\n",
        "ax1.set_ylabel('')\n",
        "ax1.set_yticklabels(['группа A', 'группа B'], fontsize=14)\n",
        "tours_on_price.set_title('Тепловая карта покупательской способности туров в группах', fontsize=16, pad=20);"
      ]
    },
    {
      "cell_type": "markdown",
      "id": "9caa92ca-e261-4b8f-a16c-2abc322c9ffb",
      "metadata": {
        "id": "9caa92ca-e261-4b8f-a16c-2abc322c9ffb"
      },
      "source": [
        "Сделайте выводы по построенной таблице. По каким турам покупательская способность участников группы А выше, чем участников группы B и наоборот?"
      ]
    },
    {
      "cell_type": "markdown",
      "id": "6d13fd45-e3df-468f-9d32-1fc45d38b10c",
      "metadata": {
        "id": "6d13fd45-e3df-468f-9d32-1fc45d38b10c"
      },
      "source": [
        "## **Выводы: По турам в Санкт-Петербург, на Камчатку и на Мальдивы покупательская способность в обоих группах практически совпадает. А вот на туры в Турцию и Тайланд отличаются диаметрально противоположно. В группе А туры в Турцию продаются почти в 3 раза больше, чем в Тайлайд, а в группе В с точностью до наоборот. Можно с уверенность сказать, что именно данное различие сильно влияет на общую выручку по группам.**"
      ]
    },
    {
      "cell_type": "markdown",
      "id": "8f021fb4-d0f6-4e43-b518-1a96c07a4531",
      "metadata": {
        "id": "8f021fb4-d0f6-4e43-b518-1a96c07a4531",
        "tags": []
      },
      "source": [
        "## **Задание 7.8.**\n",
        "\n",
        "Настало время поговорить о стабилизации кумулятивных метрик во времени. Но прежде, чем перейти к кумулятивным метрикам, нам необходимо построить таблицу с ежедневными данными результатов проведения A/B-тестирования.\n",
        "\n",
        "Сгруппируйте данные по дате и группе тестирования. В каждой группе вычислите количество посещений страницы, количество покупок и сумму покупок. \n",
        "\n",
        "Добавьте в таблицу информацию о ежедневной конверсии (ежедневное количество покупок / ежедневное количество посещений) в группе и ежедневном среднем чеке (ежедневная сумма покупок / ежедневное количество покупок)\n",
        "* Чему равна конверсия 3 января 2021 года? Ответ приведите в процентах и округлите до сотых.\n",
        "\n",
        "* Чему равен средний чек 3 января 2021 года? Ответ приведите в рублях и округлите до целого."
      ]
    },
    {
      "cell_type": "code",
      "execution_count": 12,
      "id": "4503b528-412e-433a-bc03-da7da52fa1a3",
      "metadata": {
        "colab": {
          "base_uri": "https://localhost:8080/",
          "height": 206
        },
        "id": "4503b528-412e-433a-bc03-da7da52fa1a3",
        "outputId": "cf54170e-232c-4f97-e0fd-b04e8ee7592e"
      },
      "outputs": [
        {
          "data": {
            "text/html": [
              "<div>\n",
              "<style scoped>\n",
              "    .dataframe tbody tr th:only-of-type {\n",
              "        vertical-align: middle;\n",
              "    }\n",
              "\n",
              "    .dataframe tbody tr th {\n",
              "        vertical-align: top;\n",
              "    }\n",
              "\n",
              "    .dataframe thead th {\n",
              "        text-align: right;\n",
              "    }\n",
              "</style>\n",
              "<table border=\"1\" class=\"dataframe\">\n",
              "  <thead>\n",
              "    <tr style=\"text-align: right;\">\n",
              "      <th></th>\n",
              "      <th>date</th>\n",
              "      <th>group</th>\n",
              "      <th>count_visits</th>\n",
              "      <th>count_purchases</th>\n",
              "      <th>sum_price</th>\n",
              "      <th>conversion</th>\n",
              "      <th>mean_check</th>\n",
              "    </tr>\n",
              "  </thead>\n",
              "  <tbody>\n",
              "    <tr>\n",
              "      <th>0</th>\n",
              "      <td>2021-01-02</td>\n",
              "      <td>A</td>\n",
              "      <td>2854</td>\n",
              "      <td>359</td>\n",
              "      <td>29410000</td>\n",
              "      <td>12.58</td>\n",
              "      <td>81922.0</td>\n",
              "    </tr>\n",
              "    <tr>\n",
              "      <th>1</th>\n",
              "      <td>2021-01-02</td>\n",
              "      <td>B</td>\n",
              "      <td>2861</td>\n",
              "      <td>345</td>\n",
              "      <td>29660000</td>\n",
              "      <td>12.06</td>\n",
              "      <td>85971.0</td>\n",
              "    </tr>\n",
              "    <tr>\n",
              "      <th>2</th>\n",
              "      <td>2021-01-03</td>\n",
              "      <td>A</td>\n",
              "      <td>6596</td>\n",
              "      <td>748</td>\n",
              "      <td>62000000</td>\n",
              "      <td>11.34</td>\n",
              "      <td>82888.0</td>\n",
              "    </tr>\n",
              "    <tr>\n",
              "      <th>3</th>\n",
              "      <td>2021-01-03</td>\n",
              "      <td>B</td>\n",
              "      <td>6619</td>\n",
              "      <td>754</td>\n",
              "      <td>65960000</td>\n",
              "      <td>11.39</td>\n",
              "      <td>87480.0</td>\n",
              "    </tr>\n",
              "    <tr>\n",
              "      <th>4</th>\n",
              "      <td>2021-01-04</td>\n",
              "      <td>A</td>\n",
              "      <td>6566</td>\n",
              "      <td>799</td>\n",
              "      <td>64250000</td>\n",
              "      <td>12.17</td>\n",
              "      <td>80413.0</td>\n",
              "    </tr>\n",
              "  </tbody>\n",
              "</table>\n",
              "</div>"
            ],
            "text/plain": [
              "        date group  count_visits  count_purchases  sum_price  conversion  \\\n",
              "0 2021-01-02     A          2854              359   29410000       12.58   \n",
              "1 2021-01-02     B          2861              345   29660000       12.06   \n",
              "2 2021-01-03     A          6596              748   62000000       11.34   \n",
              "3 2021-01-03     B          6619              754   65960000       11.39   \n",
              "4 2021-01-04     A          6566              799   64250000       12.17   \n",
              "\n",
              "   mean_check  \n",
              "0     81922.0  \n",
              "1     85971.0  \n",
              "2     82888.0  \n",
              "3     87480.0  \n",
              "4     80413.0  "
            ]
          },
          "metadata": {},
          "output_type": "display_data"
        }
      ],
      "source": [
        "# сгруппируем данные по дням:\n",
        "daily_data = updated_data.groupby(['date','group']).agg({\n",
        "    'user_id': 'count',\n",
        "    'purchase': 'sum',\n",
        "    'price': 'sum'\n",
        "}).reset_index().rename(columns={'user_id': 'count_visits', 'purchase': 'count_purchases', 'price': 'sum_price'})\n",
        "\n",
        "# добавим информацию о ежедневной конверсии и ежедневном среднем чеке:\n",
        "daily_data['conversion'] = round(daily_data['count_purchases'] / daily_data['count_visits'] * 100, 2)\n",
        "daily_data['mean_check'] = round(daily_data['sum_price'] / daily_data['count_purchases'])\n",
        "\n",
        "display(daily_data.head())"
      ]
    },
    {
      "cell_type": "markdown",
      "id": "bc8e241b-1ef1-4f67-ab90-77251889b7f2",
      "metadata": {
        "id": "bc8e241b-1ef1-4f67-ab90-77251889b7f2"
      },
      "source": [
        "## **Задание 7.9.** \n",
        "\n",
        "Добавьте в таблицу с ежедневными показателями кумулятивные признаки:\n",
        "* кумулятивное количество посещений страницы\n",
        "* кумулятивное количество покупок\n",
        "* кумулятивную сумму покупок\n",
        "\n",
        "Не забудьте при расчете кумулятивной суммы сгруппировать данные по группам. \n",
        "\n",
        "Вычислите кумулятивную конверсию и кумулятивный средний чек на основе полученных кумулятивных показателей. \n",
        "\n",
        "* Какая **кумулятивная** конверсия была в группе B на 20 января? Ответ приведите в процентах, округлив до сотых.\n",
        "* Какой **кумулятивный** средний чек был в группе А на 12 января 2021 года? Ответ приведите в рублях, округлив до целых."
      ]
    },
    {
      "cell_type": "code",
      "execution_count": 13,
      "id": "afe59f9a-8d39-45c1-a14f-9f62091d81a1",
      "metadata": {
        "colab": {
          "base_uri": "https://localhost:8080/",
          "height": 242
        },
        "id": "afe59f9a-8d39-45c1-a14f-9f62091d81a1",
        "outputId": "b4f62c8c-16f4-485c-9779-c7f7fbd28cc9"
      },
      "outputs": [
        {
          "name": "stdout",
          "output_type": "stream",
          "text": [
            "Кумулятивная конверсия 20 января 2020 года:\n"
          ]
        },
        {
          "data": {
            "text/html": [
              "<div>\n",
              "<style scoped>\n",
              "    .dataframe tbody tr th:only-of-type {\n",
              "        vertical-align: middle;\n",
              "    }\n",
              "\n",
              "    .dataframe tbody tr th {\n",
              "        vertical-align: top;\n",
              "    }\n",
              "\n",
              "    .dataframe thead th {\n",
              "        text-align: right;\n",
              "    }\n",
              "</style>\n",
              "<table border=\"1\" class=\"dataframe\">\n",
              "  <thead>\n",
              "    <tr style=\"text-align: right;\">\n",
              "      <th></th>\n",
              "      <th>group</th>\n",
              "      <th>cum_conversion</th>\n",
              "    </tr>\n",
              "  </thead>\n",
              "  <tbody>\n",
              "    <tr>\n",
              "      <th>36</th>\n",
              "      <td>A</td>\n",
              "      <td>11.98</td>\n",
              "    </tr>\n",
              "    <tr>\n",
              "      <th>37</th>\n",
              "      <td>B</td>\n",
              "      <td>11.90</td>\n",
              "    </tr>\n",
              "  </tbody>\n",
              "</table>\n",
              "</div>"
            ],
            "text/plain": [
              "   group  cum_conversion\n",
              "36     A           11.98\n",
              "37     B           11.90"
            ]
          },
          "metadata": {},
          "output_type": "display_data"
        },
        {
          "name": "stdout",
          "output_type": "stream",
          "text": [
            "Кумулятивная конверсия 12 января 2020 года:\n"
          ]
        },
        {
          "data": {
            "text/html": [
              "<div>\n",
              "<style scoped>\n",
              "    .dataframe tbody tr th:only-of-type {\n",
              "        vertical-align: middle;\n",
              "    }\n",
              "\n",
              "    .dataframe tbody tr th {\n",
              "        vertical-align: top;\n",
              "    }\n",
              "\n",
              "    .dataframe thead th {\n",
              "        text-align: right;\n",
              "    }\n",
              "</style>\n",
              "<table border=\"1\" class=\"dataframe\">\n",
              "  <thead>\n",
              "    <tr style=\"text-align: right;\">\n",
              "      <th></th>\n",
              "      <th>group</th>\n",
              "      <th>cum_mean_check</th>\n",
              "    </tr>\n",
              "  </thead>\n",
              "  <tbody>\n",
              "    <tr>\n",
              "      <th>20</th>\n",
              "      <td>A</td>\n",
              "      <td>81492.0</td>\n",
              "    </tr>\n",
              "    <tr>\n",
              "      <th>21</th>\n",
              "      <td>B</td>\n",
              "      <td>88352.0</td>\n",
              "    </tr>\n",
              "  </tbody>\n",
              "</table>\n",
              "</div>"
            ],
            "text/plain": [
              "   group  cum_mean_check\n",
              "20     A         81492.0\n",
              "21     B         88352.0"
            ]
          },
          "metadata": {},
          "output_type": "display_data"
        }
      ],
      "source": [
        "# вычисляем кумулятивное количество посещений страницы:\n",
        "daily_data['cum_count_visits'] = daily_data.groupby(['group'])['count_visits'].cumsum()\n",
        "# вычисляем кумулятивное количество покупок:\n",
        "daily_data['cum_count_purchases'] = daily_data.groupby(['group'])['count_purchases'].cumsum()\n",
        "# вычисляем кумулятивную сумму покупок:\n",
        "daily_data['cum_sum_price'] = daily_data.groupby(['group'])['sum_price'].cumsum()\n",
        "# вычисляем кумулятивную конверсию и кумулятивный средний чек:\n",
        "daily_data['cum_conversion'] = round(daily_data['cum_count_purchases']/daily_data['cum_count_visits'] * 100, 2)\n",
        "daily_data['cum_mean_check'] = round(daily_data['cum_sum_price']/daily_data['cum_count_purchases'])\n",
        "\n",
        "print('Кумулятивная конверсия 20 января 2020 года:')\n",
        "display(daily_data[daily_data['date'] == pd.to_datetime('2021-01-20')][['group', 'cum_conversion']].round(2))\n",
        "print('Кумулятивная конверсия 12 января 2020 года:')\n",
        "display(daily_data[daily_data['date'] == pd.to_datetime('2021-01-12')][['group', 'cum_mean_check']].round())"
      ]
    },
    {
      "cell_type": "markdown",
      "id": "c252b8ba-371b-4795-8fc3-a62317e9ba39",
      "metadata": {
        "id": "c252b8ba-371b-4795-8fc3-a62317e9ba39"
      },
      "source": [
        "Постройте кумулятивные графики конверсии и среднего чека в каждой группе по дням. Сделайте выводы. Можно ли назвать A/B-тест завершенным - стабилизировались ли значения метрик во времени? Как соотносятся кумулятивные показатели в каждой группе?"
      ]
    },
    {
      "cell_type": "code",
      "execution_count": 14,
      "id": "27e23d20-7ed6-4a26-973d-6d0320b81adb",
      "metadata": {
        "colab": {
          "base_uri": "https://localhost:8080/",
          "height": 497
        },
        "id": "27e23d20-7ed6-4a26-973d-6d0320b81adb",
        "outputId": "e7150cc2-45e4-4489-c7f8-63f3ba586164"
      },
      "outputs": [
        {
          "data": {
            "image/png": "[encoded data removed]",
            "text/plain": [
              "<Figure size 1152x504 with 2 Axes>"
            ]
          },
          "metadata": {
            "needs_background": "light"
          },
          "output_type": "display_data"
        }
      ],
      "source": [
        "fig, axes= plt.subplots(1, 2, figsize=(16, 7))\n",
        "# строим график для кумулятивной конверсии во времени в каждой группе\n",
        "sns.lineplot(x='date', y='cum_conversion', data=daily_data, hue='group', ax=axes[0])\n",
        "# строим график для кумулятивного среднего чека во времени в каждой группе\n",
        "sns.lineplot(x='date', y='cum_mean_check', data=daily_data, hue='group', ax=axes[1])\n",
        "\n",
        "axes[0].set_title('График кумулятивной конверсии по дням')\n",
        "axes[1].set_title('График кумулятивного среднего чека по дням')\n",
        "axes[0].xaxis.set_tick_params(rotation = 45)\n",
        "axes[1].xaxis.set_tick_params(rotation = 45)\n",
        "axes[0].grid(True);\n",
        "axes[1].grid(True);"
      ]
    },
    {
      "cell_type": "markdown",
      "id": "f645f8e5-ad16-4b3b-8228-fbdeeb286833",
      "metadata": {
        "id": "f645f8e5-ad16-4b3b-8228-fbdeeb286833"
      },
      "source": [
        "## **Вывод: На графиках хорошо видно, что в начале данные подвержены сильным колебаниям, но со временем они выравниваются в почти горизонтальныве прямые и метрики выравниваются. Исследование можно считать завершенным.**\n",
        "## **Конверсия в группе А стабильно выше конверсии в группе В.**\n",
        "## **Средний чек же в группе В довольно выше, чем в группе А.**"
      ]
    },
    {
      "cell_type": "markdown",
      "id": "2ecaa382-56e2-47f4-b086-24b4742570a3",
      "metadata": {
        "id": "2ecaa382-56e2-47f4-b086-24b4742570a3",
        "tags": []
      },
      "source": [
        "## **Задание 7.10.**\n",
        "\n",
        "Настало время переходить к проверке статистической значимости разницы между метриками в группах. Начнем с конверсии.\n",
        "\n",
        "Какой тест вы примените для проверки гипотезы о равенстве конверсий в группах?\n",
        "\n",
        "Проведите тестирование при следующих нулевой и альтернативной гипотезе:\n",
        "* $H_0$: Конверсии в группах А и B равны; \n",
        "* $H_1$: Конверсия в группе А больше чем конверсия в группе B;\n",
        "\n",
        "Вычислите p-value вашего теста для конверсий в группах А и B. Сравните полученное значение p-value с уровнем значимости $\\alpha$=0.05. "
      ]
    },
    {
      "cell_type": "code",
      "execution_count": 15,
      "id": "9dd1f6fd-2fa0-4a2f-8181-dbed4c302bce",
      "metadata": {
        "colab": {
          "base_uri": "https://localhost:8080/",
          "height": 213
        },
        "id": "9dd1f6fd-2fa0-4a2f-8181-dbed4c302bce",
        "outputId": "0135ddda-a6e1-413b-fce9-a49000f32a74"
      },
      "outputs": [
        {
          "data": {
            "text/html": [
              "<div>\n",
              "<style scoped>\n",
              "    .dataframe tbody tr th:only-of-type {\n",
              "        vertical-align: middle;\n",
              "    }\n",
              "\n",
              "    .dataframe tbody tr th {\n",
              "        vertical-align: top;\n",
              "    }\n",
              "\n",
              "    .dataframe thead th {\n",
              "        text-align: right;\n",
              "    }\n",
              "</style>\n",
              "<table border=\"1\" class=\"dataframe\">\n",
              "  <thead>\n",
              "    <tr style=\"text-align: right;\">\n",
              "      <th></th>\n",
              "      <th>sum</th>\n",
              "      <th>count</th>\n",
              "    </tr>\n",
              "    <tr>\n",
              "      <th>group</th>\n",
              "      <th></th>\n",
              "      <th></th>\n",
              "    </tr>\n",
              "  </thead>\n",
              "  <tbody>\n",
              "    <tr>\n",
              "      <th>A</th>\n",
              "      <td>17487</td>\n",
              "      <td>145307</td>\n",
              "    </tr>\n",
              "    <tr>\n",
              "      <th>B</th>\n",
              "      <td>17290</td>\n",
              "      <td>145381</td>\n",
              "    </tr>\n",
              "  </tbody>\n",
              "</table>\n",
              "</div>"
            ],
            "text/plain": [
              "         sum   count\n",
              "group               \n",
              "A      17487  145307\n",
              "B      17290  145381"
            ]
          },
          "metadata": {},
          "output_type": "display_data"
        },
        {
          "name": "stdout",
          "output_type": "stream",
          "text": [
            "\n",
            "Для проверки гипотезы равенства пропорций воспользуемся z-критерием для пропорций:\n",
            "p-value:  0.12\n",
            "Принимаем нулевую гипотезу. Конверсии в группах А и B равны\n"
          ]
        }
      ],
      "source": [
        "# считаем количество успехов и наблюдений в каждой из групп\n",
        "converted_piv= updated_data.groupby('group')['purchase'].agg(\n",
        "    ['sum', 'count']\n",
        ")\n",
        "display(converted_piv)\n",
        "\n",
        "# поскольку конверсия — это пропорция, для проверки гипотезы равенства пропорций воспользуемся z-критерием для пропорций:\n",
        "print('\\nДля проверки гипотезы равенства пропорций воспользуемся z-критерием для пропорций:')\n",
        "\n",
        "# нулевая и альтернативная гипотезы\n",
        "H0 = 'Конверсии в группах А и B равны'\n",
        "H1 = 'Конверсия в группе А больше, чем конверсия в группе B'\n",
        "alpha = 0.05 # уровень значимости\n",
        "\n",
        "#вычисляем значение p-value для z-теста для пропорций\n",
        "_, p_value = proportions_ztest(\n",
        "    count=converted_piv['sum'], \n",
        "    nobs=converted_piv['count'],\n",
        "    alternative='larger'\n",
        ")\n",
        "\n",
        "print('p-value: ', round(p_value, 2))\n",
        "\n",
        "#сравниваем полученное p-value с уровнем значимости\n",
        "if (p_value < alpha): \n",
        "    print(\"Отвергаем нулевую гипотезу. {}\".format(H0))\n",
        "    print(\"Альтернативная гипотеза. H1: {}\".format(H1))\n",
        "else:\n",
        "    print(\"Принимаем нулевую гипотезу. {}\".format(H0))"
      ]
    },
    {
      "cell_type": "markdown",
      "id": "da794b48-80e3-47af-aceb-084a1862c86b",
      "metadata": {
        "id": "da794b48-80e3-47af-aceb-084a1862c86b"
      },
      "source": [
        "Приведите свои выводы по результатам проведенного статистического теста. Есть ли статистическая разница между конверсиями в группах А и B?"
      ]
    },
    {
      "cell_type": "markdown",
      "id": "75dddb06-389d-4d65-92c7-425efa28e51a",
      "metadata": {
        "id": "75dddb06-389d-4d65-92c7-425efa28e51a"
      },
      "source": [
        "## **Вывод: Так как z-тест для пропорций показал, что истинные значения конверсий в группах равны (с уровнем значимости 0.05), то полученная разница в метрике - статистически не значима. То есть разницы между двумя вариантами страницы сайта по метрике конверсии покупки нет. Для конверсии покупки оба варианта одинаково эффективны.**"
      ]
    },
    {
      "cell_type": "markdown",
      "id": "32c5a1af-8cb2-4f3c-a126-410b70fb3ff3",
      "metadata": {
        "id": "32c5a1af-8cb2-4f3c-a126-410b70fb3ff3",
        "tags": []
      },
      "source": [
        "## **Задание 7.11.**\n",
        "Убедитесь в своих рассуждениях, построив 95%-ый доверительный интервал для конверсий и разницы между ними. Используйте $z_{крит}$ в своих расчетах\n",
        "\n",
        "Укажите нижнюю и верхнюю границы доверительных интервалов. Границы приведите в процентах и округлите до 2 знака после запятой. Например: нижняя граница 89.24%, верхняя граница 91.25%."
      ]
    },
    {
      "cell_type": "code",
      "execution_count": 16,
      "id": "e9decb7d-ff5e-40a6-8b71-63627c4ef64a",
      "metadata": {
        "colab": {
          "base_uri": "https://localhost:8080/",
          "height": 346
        },
        "id": "e9decb7d-ff5e-40a6-8b71-63627c4ef64a",
        "outputId": "af1527fb-ea00-490e-f712-b7101205cacf"
      },
      "outputs": [
        {
          "name": "stdout",
          "output_type": "stream",
          "text": [
            "Доверительный интервал для конверсии группы А: (11.87, 12.2)\n",
            "Доверительный интервал для конверсии группы B: (11.73, 12.06)\n",
            "Доверительный интервал для разности конверсий: (-0.38, 0.09)\n"
          ]
        },
        {
          "data": {
            "image/png": "[encoded data removed]",
            "text/plain": [
              "<Figure size 864x288 with 1 Axes>"
            ]
          },
          "metadata": {
            "needs_background": "light"
          },
          "output_type": "display_data"
        }
      ],
      "source": [
        "def conversion_conf_interval(n, x_p, gamma=0.95):\n",
        "    alpha = 1 - gamma # уровень значимости\n",
        "    z_crit = -norm.ppf(alpha/2) # z критическое\n",
        "    eps = z_crit * (x_p * (1 - x_p) / n) ** 0.5 #погрешность\n",
        "    lower_bound = x_p - eps # левая (нижняя) граница\n",
        "    upper_bound = x_p + eps # правая (верхняя) граница\n",
        "    return round(lower_bound * 100, 2), round(upper_bound * 100, 2)\n",
        "\n",
        "a_data = updated_data[updated_data['group'] == 'A']\n",
        "b_data = updated_data[updated_data['group'] == 'B']\n",
        "conf_interval_a = conversion_conf_interval(\n",
        "a_data['user_id'].count(), # размер выборки\n",
        "a_data['purchase'].mean() # выборочная пропорция\n",
        ")\n",
        "conf_interval_b = conversion_conf_interval(\n",
        "b_data['user_id'].count(), # размер выборки\n",
        "b_data['purchase'].mean() # выборочная пропорция\n",
        ")\n",
        "print('Доверительный интервал для конверсии группы А: {}'.format(conf_interval_a))\n",
        "print('Доверительный интервал для конверсии группы B: {}'.format(conf_interval_b))\n",
        "\n",
        "def diff_conversion_conf_interval(n, xp, gamma=0.95):\n",
        "    alpha = 1 - gamma # уровень значимости\n",
        "    diff = xp[1] - xp[0] # выборочная разница конверсий групп B и A\n",
        "    z_crit = -norm.ppf(alpha/2) #z критическое\n",
        "    eps = z_crit * (xp[0] * (1 - xp[0])/n[0] + xp[1] * (1 - xp[1])/n[1]) ** 0.5 # погрешность\n",
        "    lower_bound = diff - eps # левая (нижняя) граница\n",
        "    upper_bound = diff + eps # правая (верхняя) граница\n",
        "    return round(lower_bound *100, 2), round(upper_bound * 100, 2)\n",
        "\n",
        "n = [a_data['user_id'].count(), b_data['user_id'].count()] # размеры выборок групп А и B\n",
        "xp = [a_data['purchase'].mean(), b_data['purchase'].mean()] # выборочная пропорция групп A и B\n",
        "\n",
        "# визуализируем полученные результаты:\n",
        "fig, ax = plt.subplots(1, 1, figsize = (12, 4))\n",
        "plt.suptitle('Доверительные интервалы показателя конверсии', size=16)\n",
        "x1, x2, y1, y2 = conf_interval_a, conf_interval_b, [1, 1], [1.2, 1.2]\n",
        "plt.plot(x1, y1, label='в группе А', c='yellow', linewidth=10)\n",
        "plt.plot(x2, y2, label='в группе B', c='green', linewidth=10)\n",
        "plt.legend(fontsize=12)\n",
        "plt.ylim(0, 3)\n",
        "ax.set_yticks(range(0, 100, 100))\n",
        "ax.set_yticklabels('')\n",
        "\n",
        "# строим доверительный интервал для разности\n",
        "diff_inverval = diff_conversion_conf_interval(n, xp)\n",
        "print('Доверительный интервал для разности конверсий: {}'.format(diff_inverval))"
      ]
    },
    {
      "cell_type": "markdown",
      "id": "9332372d-66b2-45e9-a74c-f5d8b1d44afb",
      "metadata": {
        "id": "9332372d-66b2-45e9-a74c-f5d8b1d44afb"
      },
      "source": [
        "Проинтерпретируйте построенные доверительные интервалы для конверсий в группах. Есть ли перекрытие между доверительными интервалами для групп? Есть ли статистическая разница между конверсиями в группах А и B?"
      ]
    },
    {
      "cell_type": "markdown",
      "id": "aXnNCcUUsqgf",
      "metadata": {
        "id": "aXnNCcUUsqgf"
      },
      "source": [
        "## **Вывод: Данные доверительные интервалы показателя конверсии имеют пересечение, т.е. существует вероятность, что истинное значение конверсии в обеих группах может совпадать.**\n",
        "## **Построенный доверительный интервал разницы конверсий с 95 %-ой надёжностью говорит нам, что эта разница лежит в интервале от -0.38 % до 0.09 %, т.е. может быть как положительной, так и отрицательной.**\n",
        "## **Отсюда делаем вывод, что статистической разницы в конверсии между вариантами А и B не существует, т.е. они являются равнозначными по данной метрике.**"
      ]
    },
    {
      "cell_type": "markdown",
      "id": "73c54883-b919-4889-bbf2-e1bdeb0b7055",
      "metadata": {
        "id": "73c54883-b919-4889-bbf2-e1bdeb0b7055"
      },
      "source": [
        "## **Задание 7.12.**\n",
        "\n",
        "Ранее мы построили таблицу с ежедневными показателями. Теперь она нам снова понадобится, так как нас интересует ежедневный средний чек.\n",
        "\n",
        "Проверьте гипотезу о нормальности распределения ежедневного среднего чека в каждой из групп тестирования. \n",
        "\n",
        "* Какой тест вы примените  для проверки гипотезы о нормальности распределения ежедневного среднего чека?\n",
        "* Как будут звучать нулевая и альтернативная гипотезы?\n",
        "* Каковы результаты статистического теста с уровнем значимости $\\alpha$ =0.05?"
      ]
    },
    {
      "cell_type": "code",
      "execution_count": 17,
      "id": "898041ae-de7e-4b74-975e-111d494fbb82",
      "metadata": {
        "colab": {
          "base_uri": "https://localhost:8080/"
        },
        "id": "898041ae-de7e-4b74-975e-111d494fbb82",
        "outputId": "ba89e276-f9ba-43b0-a5da-a7d5d05f12eb"
      },
      "outputs": [
        {
          "name": "stdout",
          "output_type": "stream",
          "text": [
            "Воспользуемся критерием нормальности Шапиро-Уилка, который является надёжным и пригоден для небольших выборок:\n",
            "\n",
            "p-value группы А 0.25\n",
            "p-value группы B 0.09\n",
            "Принимаем нулевую гипотезу: Распределения в обеих группах нормальные.\n"
          ]
        }
      ],
      "source": [
        "print('Воспользуемся критерием нормальности Шапиро-Уилка, который является надёжным и пригоден для небольших выборок:\\n')\n",
        "\n",
        "# нулевая и альтернативная гипотезы и уровень значимости:\n",
        "H0 = 'Распределения в обеих группах нормальные.'\n",
        "H1 = 'Распределение в одной или обеих группах отлично от нормального.'\n",
        "alpha = 0.05\n",
        "\n",
        "# вычисляем результат теста Шапиро-Уилка для выборок\n",
        "shapiro_result_a = shapiro(daily_data[daily_data['group'] == 'A']['mean_check'])\n",
        "shapiro_result_b = shapiro(daily_data[daily_data['group'] == 'B']['mean_check'])\n",
        "print('p-value группы А', round(shapiro_result_a.pvalue, 2))\n",
        "print('p-value группы B', round(shapiro_result_b.pvalue, 2))\n",
        "\n",
        "# сравниваем полученное p-value с уровнем значимости\n",
        "if shapiro_result_a.pvalue < alpha or shapiro_result_b.pvalue < alpha:\n",
        "    print(\"Отвергаем нулевую гипотезу: {}\".format(H0))\n",
        "    print(\"Альтернативная гипотеза. H1: {}\".format(H1))\n",
        "else:\n",
        "    print(\"Принимаем нулевую гипотезу: {}\".format(H0))"
      ]
    },
    {
      "cell_type": "markdown",
      "id": "cbddecf9-4d15-4ff1-84e9-46c4d98fc1e0",
      "metadata": {
        "id": "cbddecf9-4d15-4ff1-84e9-46c4d98fc1e0",
        "tags": []
      },
      "source": [
        "## **Задание 7.13.**\n",
        "Настало время сравнить варианты дизайна страницы по метрике среднего чека. \n",
        "\n",
        "Какой тест вы примените для проверки гипотезы о равенстве средних чеков по дням в группах?\n",
        "\n",
        "Проведите тестирование при следующих нулевой и альтернативной гипотезе:\n",
        "* $H_0$: Ежедневные средние чеки в группах А и B равны; \n",
        "* $H_1$: Ежедневный средний чек в группе А меньше чем в группе B;\n",
        "\n",
        "Вычислите p-value вашего теста для ежедневного среднего чека в группах А и B. Сравните полученное значение p-value с уровнем значимости $\\alpha$ =0.05. "
      ]
    },
    {
      "cell_type": "code",
      "execution_count": 18,
      "id": "05d43f23-2c2d-4795-bb96-1ffbfe81c391",
      "metadata": {
        "colab": {
          "base_uri": "https://localhost:8080/"
        },
        "id": "05d43f23-2c2d-4795-bb96-1ffbfe81c391",
        "outputId": "87f93368-24c1-44ac-c773-d4b17df87206"
      },
      "outputs": [
        {
          "name": "stdout",
          "output_type": "stream",
          "text": [
            "Для сравнения двух небольших независимых нормально распределенных выборок хорошо подходит T-тест:\n",
            "\n",
            "p-value: 0.0\n",
            "Отвергаем нулевую гипотезу: Ежедневные средние чеки в группах А и B равны.\n",
            "Альтернативная гипотеза. H1: Ежедневный средний чек в группе А меньше, чем в группе B.\n"
          ]
        }
      ],
      "source": [
        "print('Для сравнения двух небольших независимых нормально распределенных выборок хорошо подходит T-тест:\\n')\n",
        "\n",
        "# нулевая и альтернативная гипотезы\n",
        "H0 = 'Ежедневные средние чеки в группах А и B равны.'\n",
        "H1 = 'Ежедневный средний чек в группе А меньше, чем в группе B.'\n",
        "alpha = 0.05 #уровень значимости\n",
        "\n",
        "#вычисляем результат T-теста для выборок\n",
        "results = ttest_ind(\n",
        "    a=daily_data[daily_data['group'] == 'A']['mean_check'],\n",
        "    b=daily_data[daily_data['group'] == 'B']['mean_check'],\n",
        "    alternative='less'\n",
        ")\n",
        "\n",
        "print('p-value:', round(results.pvalue, 2))\n",
        "\n",
        "if results.pvalue < alpha:\n",
        "    print(\"Отвергаем нулевую гипотезу: {}\".format(H0))\n",
        "    print(\"Альтернативная гипотеза. H1: {}\".format(H1))\n",
        "else:\n",
        "    print(\"Принимаем нулевую гипотезу: {}\".format(H0))"
      ]
    },
    {
      "cell_type": "markdown",
      "id": "8534ab25-68b8-48f7-b2c1-ef1b72d8a767",
      "metadata": {
        "id": "8534ab25-68b8-48f7-b2c1-ef1b72d8a767"
      },
      "source": [
        " Приведите свои выводы по проведенному статистическому тесту. Есть ли статистическая разница между ежедневными средними чеками в группах А и B?"
      ]
    },
    {
      "cell_type": "markdown",
      "id": "urn45Lpk_QQv",
      "metadata": {
        "id": "urn45Lpk_QQv"
      },
      "source": [
        "## **Вывод: Поскольку значение p-value находится очень близко к нулю, то и вероятность принятия нулевой гипотезы ничтожно мала и значительно меньше заданного уровня значимости.**\n",
        "## **Статистическая разница между ежедневными средними чеками в группах есть.**"
      ]
    },
    {
      "cell_type": "markdown",
      "id": "5e46c9a6-a943-48b4-ad72-935337469613",
      "metadata": {
        "id": "5e46c9a6-a943-48b4-ad72-935337469613",
        "tags": []
      },
      "source": [
        "## **Задание 7.14.**\n",
        "\n",
        "Постройте 95%-ый доверительный интервал для среднего чека в каждой группе. Так как выборка средних чеков небольшая, используйте  $t_{крит}$ в своих расчетах.\n",
        "\n",
        "Укажите нижнюю границу доверительного интервала для истинного среднего чека каждой из групп. Ответ приведите в процентах и округлите до целого."
      ]
    },
    {
      "cell_type": "code",
      "execution_count": 19,
      "id": "480430db-ffae-4aad-8e22-f5c70d4800b8",
      "metadata": {
        "colab": {
          "base_uri": "https://localhost:8080/",
          "height": 408
        },
        "id": "480430db-ffae-4aad-8e22-f5c70d4800b8",
        "outputId": "224c419f-5989-4f1c-b8cb-30c829171b98"
      },
      "outputs": [
        {
          "name": "stdout",
          "output_type": "stream",
          "text": [
            "Доверительный интервал для среднего чека группы А: (79630, 82308)\n",
            "Доверительный интервал для среднего чека группы B: (87626, 89526)\n",
            "\n"
          ]
        },
        {
          "data": {
            "image/png": "[encoded data removed]",
            "text/plain": [
              "<Figure size 936x360 with 1 Axes>"
            ]
          },
          "metadata": {
            "needs_background": "light"
          },
          "output_type": "display_data"
        }
      ],
      "source": [
        "def mean_check_conf_interval(sample: pd.Series, gamma=0.95):\n",
        "    k = sample.count() -1 #число степеней свободы\n",
        "    alpha = 1 - gamma # уровень значимости\n",
        "    t_crit = -t.ppf(alpha/2, k) # t-критическое\n",
        "    eps = t_crit * sample.std()/(sample.count() ** 0.5) # погрешность\n",
        "    lower_bound = sample.mean() - eps # левая (нижняя) граница\n",
        "    upper_bound = sample.mean() + eps # правая (верхняя) граница\n",
        "    return round(lower_bound), round(upper_bound)\n",
        "\n",
        "# построим 95%-ый доверительный интервал для среднего чека в каждой группе:\n",
        "conf_interval_a = mean_check_conf_interval(daily_data[daily_data['group'] == 'A']['mean_check'])\n",
        "conf_interval_b = mean_check_conf_interval(daily_data[daily_data['group'] == 'B']['mean_check'])\n",
        "\n",
        "print('Доверительный интервал для среднего чека группы А: {}'.format(conf_interval_a))\n",
        "print('Доверительный интервал для среднего чека группы B: {}\\n'.format(conf_interval_b))\n",
        "\n",
        "# визуализируем полученные результаты:\n",
        "fig, ax = plt.subplots(1, 1, figsize = (13, 5))\n",
        "plt.suptitle('Доверительные интервалы ежедневного среднего чека', size=16)\n",
        "x1, x2, y1, y2 = conf_interval_a, conf_interval_b, [1, 1], [1.2, 1.2]\n",
        "plt.plot(x1, y1, label='в группе А', c='yellow', linewidth=10)\n",
        "plt.plot(x2, y2, label='в группе B', c='green', linewidth=10)\n",
        "plt.legend(fontsize=12)\n",
        "plt.xlim(78000, 91000)\n",
        "plt.ylim(0, 3)\n",
        "ax.set_yticks(range(0, 100, 100))\n",
        "ax.set_yticklabels('');"
      ]
    },
    {
      "cell_type": "markdown",
      "id": "74a78db8-48f7-41d2-94cb-faefb30b8f76",
      "metadata": {
        "id": "74a78db8-48f7-41d2-94cb-faefb30b8f76"
      },
      "source": [
        "Проинтерпретируйте построенные доверительные интервалы для ежедневных средних чеков в группах. Есть ли между ними пересечения?"
      ]
    },
    {
      "cell_type": "markdown",
      "id": "ZKZZ9HqeOQY6",
      "metadata": {
        "id": "ZKZZ9HqeOQY6"
      },
      "source": [
        "## **Вывод: Доверительные интервалы не имеют пересечения. Не существует вероятности, что истинное значение среднего чека в обеих группах может совпадать. Отсюда делаем вывод, что между вариантами А и B существует значимая разница по данной метрике.**"
      ]
    },
    {
      "cell_type": "markdown",
      "id": "c078852f-892f-42ed-8d78-73edf8eb1f5e",
      "metadata": {
        "id": "c078852f-892f-42ed-8d78-73edf8eb1f5e",
        "tags": []
      },
      "source": [
        "# ⭐️ **Сделайте общий вывод по результатам A/B-теста**\n",
        "\n",
        "Какой варианта дизайна посадочной страницы является более эффективным в комплексе по метрикам конверсии и среднего чека и почему? "
      ]
    },
    {
      "cell_type": "markdown",
      "id": "mBNsbj26ORUm",
      "metadata": {
        "id": "mBNsbj26ORUm"
      },
      "source": [
        "## **Общий вывод по результатам нашего исследования может быть следующим: вариант В более эффективен!**\n",
        "### Разница по показателям ежедневного среднего чека существенна и статистически значима. В отличие от разницы по показателю конверсии, которую можно определить как одинаковую в обеих группах.\n",
        "### Показатель ежедневного среднего чека в группе В выше за счет увеличения доли покупок более дорогих туров в Таиланд, и снижения интереса к более дешевым турам в Турцию.\n",
        "### Если предположить, что в выборках нет случайных перекосов, то можно делать однозначное заключение: **второй вариант посадочной страницы официального сайта компании более эффективен!**"
      ]
    }
  ],
  "metadata": {
    "colab": {
      "collapsed_sections": [],
      "provenance": []
    },
    "kernelspec": {
      "display_name": "Python 3.10.4 64-bit",
      "language": "python",
      "name": "python3"
    },
    "language_info": {
      "codemirror_mode": {
        "name": "ipython",
        "version": 3
      },
      "file_extension": ".py",
      "mimetype": "text/x-python",
      "name": "python",
      "nbconvert_exporter": "python",
      "pygments_lexer": "ipython3",
      "version": "3.10.4"
    },
    "vscode": {
      "interpreter": {
        "hash": "d3e10ef16274dd72e574b8fa73b58450b957d8421a2901baded3cca26fcf5dda"
      }
    }
  },
  "nbformat": 4,
  "nbformat_minor": 5
}
