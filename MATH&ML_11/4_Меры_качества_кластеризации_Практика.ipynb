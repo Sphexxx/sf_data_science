{
  "cells": [
    {
      "cell_type": "markdown",
      "metadata": {
        "id": "FYkYiKuHG39b"
      },
      "source": [
        "✍ В двух предыдущих юнитах мы познакомились с основными внутренними и внешними мерами, с помощью которых можно оценивать качество кластеризации. В этом юните мы попрактикуемся в решении задач кластеризации и используем полученные знания, чтобы оценить результаты.\n",
        "\n",
        "Мы будем использовать данные, взятые с датчиков акселерометров и гироскопов смартфонов Samsung Galaxy S3. Телефоны носили в кармане добровольцы в возрасте от 19 до 49 лет. Смартфоны постоянно фиксировали значения ускорения и скорости по трём измерениям, а поведение людей записывали на видео, чтобы вручную отметить, какую физическую активность осуществлял человек в тот или иной момент."
      ]
    },
    {
      "cell_type": "code",
      "execution_count": 1,
      "metadata": {
        "id": "N22pobuiDJnR"
      },
      "outputs": [],
      "source": [
        "import pandas as pd\n",
        "import numpy as np\n",
        "from sklearn.model_selection import train_test_split\n",
        "from sklearn import model_selection\n",
        "from sklearn import linear_model\n",
        "from sklearn import metrics\n",
        "from sklearn import tree\n",
        "from sklearn import ensemble\n",
        "from sklearn import preprocessing \n",
        "import matplotlib.pyplot as plt\n",
        "import seaborn as sns"
      ]
    },
    {
      "cell_type": "markdown",
      "metadata": {
        "id": "RKPTR-PiG11c"
      },
      "source": [
        "Данные содержат следующие признаки:\n",
        "\n",
        "+ различные показатели с акселерометра и гироскопа;\n",
        "+ метка активности (физическая активность человека в конкретный момент).\n",
        "\n",
        "Попробуем на основе данных с гироскопа и акселерометра разделить активности людей на некоторые схожие по своим характеристикам группы. В идеале наблюдения во время ходьбы должны попасть в один кластер, наблюдения во время подъёма по лестнице — в другой и т. д."
      ]
    },
    {
      "cell_type": "markdown",
      "metadata": {
        "id": "Lb1l3OBzG-Ac"
      },
      "source": [
        "## Задание 4.1\n",
        "\n",
        "Так как изначально данные были представлены для решения задачи классификации, то они находятся в разных файлах (обучающая и тестовая выборки в соотношении 70/30). Соедините признаки так, чтобы сначала шла обучающая выборка, а затем — тестовая, и отдельно соедините значения целевых переменных (разумеется, в том же порядке).\n",
        "\n",
        "Какая размерность получилась у набора данных с признаками?"
      ]
    },
    {
      "cell_type": "code",
      "execution_count": 2,
      "metadata": {
        "colab": {
          "base_uri": "https://localhost:8080/"
        },
        "id": "J39PUHvtDybu",
        "outputId": "ed5404c4-e5ee-47e5-cdcc-41bd279cd652"
      },
      "outputs": [
        {
          "data": {
            "text/plain": [
              "(10299, 561)"
            ]
          },
          "execution_count": 2,
          "metadata": {},
          "output_type": "execute_result"
        }
      ],
      "source": [
        "X_train = np.loadtxt(\"data/train.txt\")\n",
        "y_train = np.loadtxt(\"data/train_labels.txt\")\n",
        " \n",
        "X_test = np.loadtxt(\"data/test.txt\")\n",
        "y_test = np.loadtxt(\"data/test_labels.txt\")\n",
        "X = np.concatenate((X_train, X_test))\n",
        "y = np.concatenate((y_train, y_test))\n",
        "X.shape"
      ]
    },
    {
      "cell_type": "markdown",
      "metadata": {
        "id": "ADl7YzVEHAoV"
      },
      "source": [
        "## Задание 4.2\n",
        "\n",
        "Теперь найдите число различных активностей, то есть на сколько кластеров в идеале должны разделиться наблюдения."
      ]
    },
    {
      "cell_type": "code",
      "execution_count": 3,
      "metadata": {
        "colab": {
          "base_uri": "https://localhost:8080/"
        },
        "id": "z2xO8MGlD2EC",
        "outputId": "7458c497-8854-47d7-9958-4404256d5386"
      },
      "outputs": [
        {
          "data": {
            "text/plain": [
              "6"
            ]
          },
          "execution_count": 3,
          "metadata": {},
          "output_type": "execute_result"
        }
      ],
      "source": [
        "len(np.unique(y))"
      ]
    },
    {
      "cell_type": "markdown",
      "metadata": {
        "id": "IHnxUWYeHKyk"
      },
      "source": [
        "Как видите, есть ряд активностей, обозначенных цифрами. Эти метки означают следующее:\n",
        "\n",
        "+ 1 — ходьба;\n",
        "+ 2 — подъём;\n",
        "+ 3 — спуск;\n",
        "+ 4 — сидение;\n",
        "+ 5 — стояние;\n",
        "+ 6 — лежание."
      ]
    },
    {
      "cell_type": "markdown",
      "metadata": {
        "id": "vDTIT9sTHORr"
      },
      "source": [
        "## Задание 4.3\n",
        "\n",
        "Далее необходимо отмасштабировать признаки. Будем использовать для этого алгоритм StandardScaler. Примените его ко всем значениям признаков и впишите в качестве ответа значение первого признака для первого объекта, предварительно округлив его до двух знаков после точки-разделителя."
      ]
    },
    {
      "cell_type": "code",
      "execution_count": 4,
      "metadata": {
        "colab": {
          "base_uri": "https://localhost:8080/"
        },
        "id": "1jjIKr5XHEkL",
        "outputId": "ca5f2741-2049-485f-e67b-6fa7d0e08a64"
      },
      "outputs": [
        {
          "data": {
            "text/plain": [
              "0.2105338541767611"
            ]
          },
          "execution_count": 4,
          "metadata": {},
          "output_type": "execute_result"
        }
      ],
      "source": [
        "from sklearn.preprocessing import StandardScaler\n",
        "\n",
        "#определяем скейлер\n",
        "scaler = StandardScaler()\n",
        "#масштабируем данные\n",
        "X_scaled = scaler.fit_transform(X)\n",
        "#выводим нужное значение\n",
        "X_scaled[0][0]"
      ]
    },
    {
      "cell_type": "markdown",
      "metadata": {
        "id": "GbmlLGHVNc1P"
      },
      "source": [
        "## Задание 4.4\n",
        "\n",
        "Пора переходить к кластеризации. Для начала определите оптимальное количество кластеров, используя внутренние меры кластеризации. Используйте все известные вам коэффициенты, реализуемые в библиотеке sklearn: коэффициент силуэта, индекс Калински — Харабаса и индекс Дэвиса — Болдина. В качестве алгоритма возьмите k-means++, в качестве значения параметра random_state — число 42.\n",
        "\n",
        "Выведите оптимальное количество кластеров для каждой метрики, перебирая значения от 2 до 9 включительно. Также введите значение каждой метрики, округлённое до двух знаков после точки-разделителя."
      ]
    },
    {
      "cell_type": "code",
      "execution_count": 5,
      "metadata": {
        "colab": {
          "base_uri": "https://localhost:8080/"
        },
        "id": "5sPNSXjTHaYc",
        "outputId": "3e8409a0-c853-439a-e275-40b39f5e974d"
      },
      "outputs": [
        {
          "name": "stdout",
          "output_type": "stream",
          "text": [
            "2 0.3937324764077081\n",
            "3 0.31548375272734164\n",
            "4 0.15052911849826184\n",
            "5 0.12723671885995455\n",
            "6 0.11096892121098482\n",
            "7 0.08541910378666204\n",
            "8 0.07618332955957029\n",
            "9 0.07648837092046107\n",
            "2 7880.813903657111\n",
            "3 5034.4752572242\n",
            "4 3696.3381978005555\n",
            "5 3027.0761722557045\n",
            "6 2556.7735736855657\n",
            "7 2216.563937360621\n",
            "8 1974.9714963243528\n",
            "9 1790.9531728187399\n",
            "2 1.0707441822385657\n",
            "3 1.786516465365282\n",
            "4 2.3409301040454653\n",
            "5 2.431375173184107\n",
            "6 2.367036374724895\n",
            "7 2.6819795075319037\n",
            "8 2.611225993977313\n",
            "9 2.581888277475603\n"
          ]
        }
      ],
      "source": [
        "from sklearn.cluster import KMeans\n",
        "from sklearn.metrics import silhouette_score\n",
        "from sklearn.metrics import davies_bouldin_score\n",
        "from sklearn.metrics import calinski_harabasz_score\n",
        "\n",
        "#проходимся циклом по всем нужным нам значениям количества кластеров\n",
        "for i in range(2,10):\n",
        "\t# обучаем модель k-means с текущим количеством кластеров\n",
        "    km = KMeans(n_clusters = i , random_state = 42 ).fit(X_scaled)\n",
        "\t#предсказываем метки\n",
        "    y_pred = km.labels_\n",
        "\t#выводим результат для коэффициента силуэта\n",
        "    print (i, metrics.silhouette_score(X_scaled,  y_pred))\n",
        "for i in range(2,10):\n",
        "    km = KMeans(n_clusters = i , random_state = 42 ).fit(X_scaled)\n",
        "    y_pred= km.labels_\n",
        "    print (i, metrics.calinski_harabasz_score(X_scaled,y_pred))\n",
        "for i in range(2,10):\n",
        "    km = KMeans(n_clusters = i , random_state = 42 ).fit(X_scaled)\n",
        "    y_pred = km.labels_\n",
        "    print (i, metrics.davies_bouldin_score(X_scaled, y_pred))"
      ]
    },
    {
      "cell_type": "markdown",
      "metadata": {
        "id": "HMrReMbUNiTj"
      },
      "source": [
        "Возможно, вам покажется удивительным, что все три меры единодушно показали такое расхождение с реальным разделением на кластеры. Однако это совершенно не значит, что они показывают неверные значения или что алгоритмы кластеризации работают некорректно. Возможно, такое разделение на другое количество кластеров можно объяснить — вы сами увидите это позднее."
      ]
    },
    {
      "cell_type": "markdown",
      "metadata": {
        "id": "9Z0NB_lENkA1"
      },
      "source": [
        "## Задание 4.5\n",
        "\n",
        "Теперь давайте оценим качество кластеризации с точки зрения внешних мер. Реализуйте кластеризацию с помощью классической версии алгоритма k-means. Пусть количество кластеров будет соответствовать количеству активностей. Параметр random_state = 42. В качестве ответов введите значения получившихся мер, предварительно округлив их до двух знаков после точки-разделителя."
      ]
    },
    {
      "cell_type": "code",
      "execution_count": 6,
      "metadata": {
        "colab": {
          "base_uri": "https://localhost:8080/"
        },
        "id": "op0lfVv6L6bk",
        "outputId": "271a2057-d15d-4034-b586-53a82352fd45"
      },
      "outputs": [
        {
          "name": "stdout",
          "output_type": "stream",
          "text": [
            "0.5404114294595578\n",
            "0.5809491951515007\n",
            "0.4196031125923396\n"
          ]
        }
      ],
      "source": [
        "from sklearn.metrics.cluster import homogeneity_score\n",
        "from sklearn.metrics.cluster import completeness_score\n",
        "from sklearn.metrics.cluster import adjusted_rand_score\n",
        "\n",
        "#определяем модель k-means\n",
        "model= KMeans(n_clusters=6, init='random', random_state=42)\n",
        "#обучаем модель\n",
        "model.fit(X_scaled)\n",
        "#вычисляем значение однородности\n",
        "print(homogeneity_score(y, model.labels_))\n",
        "#вычисляем значение полноты\n",
        "print(completeness_score(y, model.labels_))\n",
        "#вычисляем значение скорректированного индекса Рэнда\n",
        "print(adjusted_rand_score(y, model.labels_))"
      ]
    },
    {
      "cell_type": "markdown",
      "metadata": {
        "id": "kNt-n-_PQYNB"
      },
      "source": [
        "## Задание 4.6\n",
        "\n",
        "Выясните, к каким кластерам были преимущественно отнесены различные активности (т. е. в какой кластер попало большинство наблюдений с этой активностью). Нумерацию кластеров начинайте с 1."
      ]
    },
    {
      "cell_type": "code",
      "execution_count": 7,
      "metadata": {
        "colab": {
          "base_uri": "https://localhost:8080/"
        },
        "id": "I4mSz_9dN3Jt",
        "outputId": "f50ab582-fc8e-4c0b-c8c2-af0491142ca7"
      },
      "outputs": [
        {
          "name": "stdout",
          "output_type": "stream",
          "text": [
            "            1     2     3    4    5    6\n",
            "ходьба      0     0   903   78  741    0\n",
            "подъём      0     0  1242    5  295    2\n",
            "спуск       0     0   321  196  889    0\n",
            "сидение    91  1238     1    0    0  447\n",
            "стояние     0  1346     0    0    0  560\n",
            "лежание  1556    54     5    0    0  329\n"
          ]
        }
      ],
      "source": [
        "#создаём таблицу сопряжённости\n",
        "ct = pd.crosstab(y, model.labels_)\n",
        "#определяем название активностей\n",
        "ct.index = ['ходьба', 'подъём', \n",
        "             'спуск', 'сидение', 'стояние', 'лежание']\n",
        "ct.columns = list(range(1,7))\n",
        "print(ct)"
      ]
    },
    {
      "cell_type": "markdown",
      "metadata": {
        "id": "DH993S8WRAfq"
      },
      "source": [
        "## Задание 4.7\n",
        "\n",
        "Теперь попробуйте реализовать алгоритм k-means для двух кластеров (для того числа активностей, которое является оптимальным с точки зрения внутренних мер) и снова посмотреть, как алгоритм разобьёт активности по кластерам. Как и в предыдущем задании, нумерацию кластеров начинайте с 1."
      ]
    },
    {
      "cell_type": "code",
      "execution_count": 8,
      "metadata": {
        "colab": {
          "base_uri": "https://localhost:8080/"
        },
        "id": "NvqGePSPQpg_",
        "outputId": "2801fa8b-ef55-4253-b7f0-b5ab34ed2aa0"
      },
      "outputs": [
        {
          "name": "stdout",
          "output_type": "stream",
          "text": [
            "            1     2\n",
            "ходьба   1722     0\n",
            "подъём   1536     8\n",
            "спуск    1406     0\n",
            "сидение     3  1774\n",
            "стояние     0  1906\n",
            "лежание    12  1932\n"
          ]
        }
      ],
      "source": [
        "km = KMeans(n_clusters = 2 , random_state = 42 ).fit(X_scaled)\n",
        "\n",
        "ctbl = pd.crosstab(y, km.labels_)\n",
        "ctbl.index = ['ходьба', 'подъём', \n",
        "                'спуск', 'сидение', 'стояние', 'лежание']\n",
        "ctbl.columns = list(range(1,3))\n",
        "print(ctbl)"
      ]
    },
    {
      "cell_type": "markdown",
      "metadata": {
        "id": "k-2lUSxjbx3e"
      },
      "source": [
        "## Задание 4.8\n",
        "\n",
        "Вычислите значение полноты для разбиения на два кластера алгоритмом k-means. Ответ округлите до двух знаков после точки-разделителя."
      ]
    },
    {
      "cell_type": "code",
      "execution_count": 9,
      "metadata": {
        "colab": {
          "base_uri": "https://localhost:8080/"
        },
        "id": "3izx1xv7RF15",
        "outputId": "cb11d6b2-0346-4f32-bbe9-9a001c483ec7"
      },
      "outputs": [
        {
          "data": {
            "text/plain": [
              "0.979530559699631"
            ]
          },
          "execution_count": 9,
          "metadata": {},
          "output_type": "execute_result"
        }
      ],
      "source": [
        "metrics.completeness_score(y, km.labels_)"
      ]
    },
    {
      "cell_type": "markdown",
      "metadata": {
        "id": "1KOtSD3kURyf"
      },
      "source": [
        "## Задание 4.9\n",
        "\n",
        "Как можно интерпретировать полученное значение полноты?\n",
        "\n",
        "![image.png](data:image/png;base64,iVBORw0KGgoAAAANSUhEUgAABEoAAAFzCAIAAACmaXt1AAAABmJLR0QA/wD/AP+gvaeTAAAgAElEQVR4nOzdf1BTd74//td+2SF3uZ84OLHrvWTcD7Hdr1k6jSVr1B3OhTU0HaOtTWUbi1eE669uRWhR2lJpRW1R/EVURL/+oIviaMWLTV01zlLjYg+ja7pR0tGGz20Jn9pDyy0ZGc4u1zDN8P0jIb9zkiCtK30+hj9Izo/3+7x/nvc573Pyk+HhYQIAAAAAAHj4/T8POgIAAAAAAABjA8MbAAAAAAAYJzC8AQAAAACAcQLDGwAAAAAAGCcwvAEAAAAAgHECwxsAAAAAABgnMLwBAAAAAIBxAsMbAAAAAAAYJ34ac42BgYHBwUG32/0DxAYAAAAAACCapKSkCRMmpKSkRFshxvBmcHCQ5/mxjhUAAAAAAEDC3G733bt3iSjaCCf28IaIJk2aJBKJxjxyAAAAAAAA8XO73d98883AwEC04U2MZ29cLhcRYWwDAAAAAAAPXFJSEhEJPDiDVwsAAAAAAMA4geENAAAAAACMExjeAAAAAADAOIHhDQAAAAAAjBMY3gAAAAAAwDiB4Q0AAAAAAIwTGN4AAAAAAMA4EeNnPeN39+7dTz755KOPPkp0w4kTJ06dOlWj0UycOHGsIgMAAAAAAD9CYza8aW1tJaJt27YluqFnXNTa2qrX68cqMgAAAAAA8CM0ZpPT/vrXv45ufDJx4sQZM2Z0dXWNVUwAAAAAAODH6R/i2ZuJEyfevXv3QccCAAAAAAAebv8QwxsAAAAAAID7N2bP3gDAaLicjs+uW652XG+3dSTpDh3Vyx50jAAAAAAeXg/t8KbfVK6uNBMRMRtMe3WTBVd2Oy3Ha498yFq6eSKxLEPFFBav1shEP0hMASJz87bj5SV7OpKfzJ2Xo9Kt0ZXJZdIHHSkAAACAh9rDOrzhr10ye/9lzX9x6hZIoq7aY968pvzSvxSUbTixM30C0QB3zWxyJ2NsAw+W43RJ0YfyvaaDjPDgHAAAAADi9pAOb3j2spkoWb9yUfvhJrb1Y+cCXZTxjdO4tfzCLza07NJJkzzfiOVzC+Q/XFQBInFZTu2z67dhbAMAAAAwlh7OVwv0s5daiUjHFOaqU4jazR/3RlnztrGhXbF2nW9sE0WvsVQZZrfNs5DvNNYs08xWKpWMpmir0TE4stVNg1JpsAXsxnm2VFlidEZY6rLtzsvbbXN5wyo1BkTY/l6eUqk03AyLldPS8PZLeWqlUqlUqvPKD1ucbu8CY4nSYOFtR8vz1EqlcrbmVQN7J2BDt9NyuFTDKJXKnLx1DRZn4GEGBU1kM/iCjhUx7oqhVDs7MIUixJmcxpLwpAxa03mtoXxhTthB+eMTYCQ+wjH3HrInNZQ5C8v9x3zTEB6Z0rNOTzxLzzopTFAmBrppUJYYuTsmb2FQF1WetvG+yPfbjbvLF3vSR11UedruIiIi1+emmnWLNYxSqVTO1hbVnHV4vqf/c904qGNmRL6JaNvtL35ERP3mSkYZFCvebtxalBNHmQxKutClvHn9bGVgwkYrOcEpFCOLo+XFyMFFyOLbDc8qK818wFouSw0z23AzRi2LnVDRSlSsePKdJsO6vBylUqnMyVvdZHORQJkJddOgVCqfPWwP+vJOc5EyKLZ8p7GmMCe0YIQfVHiZjJb7wouCohepaSIX195Uudpz1LM1rxrYnoibJBwl025fOr/U9OnXkcqPwUahtXW21l+PiEbbrEXKtYAUjqsdsO1WKpXPNtwOWoE7XaSM3AYG7SZs/8ENF5HzWoOnXQ0uhJ5aVm7qD9yby7I9uMKGCirtgeE6zwZ3cb7e7dPmysKcsOYxbL/BZTIk9++jMLhsu8MLQ6mxN5GOMiSRe4yl6lJjUNEN4I8nbz9rKM/XzFYqlcqcoreb7QHxDKv+ERu9kRoh0BoLdBkCpxahbWxO3rqAyggAcXgohzfemWlzZ05PmaaaT0Ss8QoXcU2H7RI3Q5c1JdYeJ+v2Wq1Wq9X6XgFlbWj1/P+qgohcn9YX5TdRUWMre/XqucYVSU15Sxrs7lg7DMadfa2ku2BviSLCyWx3c817YkVGpM1SJymyyvaeuWq1Wq8erZCyL6074z9MdmvJsZQVhz68erWtpSqNLc2vYb2NI29+e37JLabunNVqOVet6ihZWW9zRdq/sJCIdTb8fr2D2XX+qsWTOo0F0TdVvX6izdw28rc38OeQnOdL55d3zHz3TBt7te1k9cxbJfPfDjqtJWI2mKxWq9Vq2sDEG1enad38klszq0+2XWXbzrw7s6NsfmUrT0T0ZJknuq0bGVra6Pl/r8BURmE3ml7bamc2nWljr7bum8fvKSo57fAu+hlNmLp0R3Ob1Wpt25fLby0yXHMRkWiSjHmh+n3TVavl6vldOv5Qvud7p6NzKGPqpH5Lw6ueni98pOfjYg+s5x5V+L9w2xsKFzclrThx1Wq91LgiqSl/vSmOk+6w/bbXr+fkAftNoOREz+LoeeEXlsUZ6oIM04V2/2quTy41p67UPpHYAYUmVLTgYsXT9Wl9Uf4RPqf6jLmtzXyi+j+YhB/US0n+9qjJFpCh3LULzrSAR6s6G4rym2j5iasWa1vDCmrMf+18fHkokPuJF4zgpkn0TyTWvn7oTxar9WrLm5PNpW82R25Y44+Sy1ZfuPhIP1N9sq3N3Hbi3RVM+r/q6nxtyEjWWMtGsq3AW0stV8/vmsfv8dajMWvWRis55dvDfwoc33Ht55zStPvdLd9aOb+8g9nVarVaz707s6NsVf2n/qNKTmFNVwIy0GW7dPYRoUDdrpHS3rohK2zpSAPYuNQXvLmm8JR4+YmRVj3SVolKrDCIFK/6gy54z9tCR3iYVqCjDDRoM6xpktXu0AWm0kif3roxsEtJpp/Jlm4/02axWs0Hc/trivZZvNekIlR/SdRCK1zponcZMU8tmI3eMxEre6JsMhtvZQQAIno4hzeemWnEzJ4uJpEqW09EtnPtEWs+/42dpknv43Ft3ny8QbRuZ0W2VJwiEqVKmXXVxUP1TSEn5MK7sBhKG2V1WyLdQXJzxl210qoK3cRIWybJVHPl0lQREYmmqPTPqWycv9l0/HJR1QtyiVgkEkuZddXFqc3NHzmJiDqbDReZqo16eSpRklj+wuqVQw2nriQQ4YgRc3Z2cJnq3AyJSPg+GBERiVIeEaeKR/4m+M8M3XbjAXbelh36DIk4RSSeLNdvrGIuGpo7R1bo7XKQeEJKYpGl28b9V+bt3KKXTxaLUsSSDH31W4xpT7M99pYJGhzKXVPGTBGLUkSSDH31W2rbPqP3FFYkVy9QSMUiIhJn6PUvDNm6e4iIUuXMbJlELKIkkSRDp5sz1PPff/Purf/U5tdNklXvt1msV4+WTTK9tOpohCi7LPu3WVZWrJnu+4Y3N9UPFVevY6QiIpGUWbWCubLf2Bm+qfCxWPZvtaxcX+zfbyIlJ2oWx8yLyFksy3pOYb7MjgTmslxplj6XJY+jsPmEJ1T04ITjyZuPNwy9XL1hgVySKhanSuUqmTiBiBARUebKlVmnLlhGTlXd9otHneo5qpHFvPlo/dDL1RXZUlESidKY4lUMe8AYT4kVyP1EC0Z40yTJ0jHpElESkUiqzi+Qf9rliGMIIRSly8cahoqr39bJJ4vFqWJpRtxJmSSSZOSqM0fqy5g0a/dhZuFK5j/9+Um3LzY51eoZ97lXe/MeE/NWtT5DTETiDP3qwqGGk/5R/qLClY6WS76ujb98qjlLrU6Nvr8+zkEy6aQIS7guVjohOfTbLzpMxMzLlsbTqsfpeykMwh1l4GrrSxxFe8ue9DdIzi8dJA4/ciISyTU6xRSxKIkoVa5/UT9kc/R4jiCR6h+j0kXtMhI5tUiRMk8z9Ck3imtYAD9aD+HwpveSqZWIGPUsCRGJFDO1RPTphfY7MbYbDbfd3kqqxwNe1ZskVz1FpluO6NsEGbhpKCpzFOwrU0Q6ZefN+w1JVWs1Q4524Wi4+Dts0/G+gt9O832nmqXwt7lJctVTxHZx5BmHZDEzfV1gkmxaFl36PN4IR4uYJEMlazceu8bxEae7xKnXfr2HUUwLuBKeOpPJ4jo6R9rt/xnqo0mTEjyX5OzXuSzFrwJSWJzJMD0d9qhTOEZNrfDnAIkzGWbQ0dUXvppows/I/k1wR+Xinbebm84z6hm+e0dM2YENugyJKIlEU5jiVWrHe5dsIXty249vZeduWvLI1/4cdNwy0VMq/6l/qnxmBtfxeWJ9n/39GnZ+1ZJUzrffMSk5sfMiShZLNYvUradMnlrMt5tOyws0iTwiFymhBIITiqfbbm8lteo+H9CTZD2V23x25FS1s90oKWB+6Ssrjo6LQUGI5TPlPR2OOPJQIPcTKhjCTRMR0c+SJ1FPX3+UpfFFyX7LHLQofi6eu3bMeIPRzpLQGBXO+zI5a152s3FkQGVvN0oKGdl9nm/22jt6GCbTXzplGVl05TP/UamydM6mi95zZZ69zOqfV9Ht0N34felgZ8jSIqS2a+B/SDbpkdCvH52uSzGfOmN38mN2I+z7KAxxdZTfdRnX5TWl1+1YEHQ9c2Cwj34eu0sR/bOIbnM8JVz9Y1W6KF1GIqcWrl67sdksW5k7LXwZAETx8L1awPkXM0tExG7WKjf7v7ZduMbpp4TepxH/i5zMHEeqUd7A6eMcxKj/NcrSR6frUtYfOaPb8ZyMBp09N4w1u1l6XB2whmX/NjutPKGLOJ1gkK3fxBUf10oo9Jw2gNNYotncTkTErGupfsI/MBD99J8ibsB1sdTOagLThoh8sxFC042IKHSaWcSIPVZw6CDV1ubldA5F3TCm/3ZYSFYc/WF6F9dlz5JHyayoMXd+aaFHi0cx4YzdqFFu9Pwrls3Rla0rY2LNNol6mZN3sGeONLU6urrtTs8I0J/mNoOyqImISKbftddfGGSyqYGn1/KZ8kG2q5cUAenjOF1zWFXW9oTob/5ez9n1BVF7kfJYUPiMf1ZDU5GyKThyjDr4M3U317ynKvuTQsR3+b6LVXLiEjMvomZxKjNvbuWxa5x+ipS/dsn0hG51OhHFU8uIIieUUHBC8RSs9QFlhsTpat2rZWXZkQvsI9k6/aZTbL9am+qynDssyzs/lVjvst4uBxG7LCSfGNd3I/8eC81fyvIcskDuxywYgSI3Tc6bxmNNzRYHZ+/2nMePlByhXBCKEtdNjCah1jew9Mr0u/ZqJxPdd7MWmGth28bZDjyStUC//gO2QqMVuyzGozJdy1S6EvNwJNNnyDY3HrNkrValEt/TaTpac4pokWfh1w6WWDY05oERl88tlPz+in35NDndMZ1qX7R2y4RL0QOzf2qWzt4RKbl7em6RTBtW3sXqNxpd+2tf0rzrvxbDaGIelICxLQxEFGdHSdxpQ01n7pZ3QmaAuziHnXk8UqBu3tFuPPK+yeHosvd6OrUColidfqjYlS5ylxFHKEGFNrusZUmkye0AEMVDN7xxftzKRlxgO9fOvaAPacZkclXydtbWr5MK3NAXMEkqI9bxNVHEM3Kx+o1Dxa+ty//Nu0PJkxW5LxYXv8wUBXV4qrJdBaeWVG5O27shtFl3WQ5ssyzbUZEuHAOJrs6qI6JBjt1Xqnm7uHWL2nMhqm9wgMjfXbncRElERJJfqGjuoraR1cKE/EyQzaAsijNiEtU81SSDXXOiZZk80oZx+LlMReaQM/hAPXdsyRnzopwcR4255BcqutzlJEWiIxxmY6vnORwXz1kOlJa+Kf3jUX3kUaOXa8BF5Otk3OS95um2NxQuvjB7795DjDSFiMi2OzB1FGVWaxmRy2n/8J28PEdjyzL5/5Kk0d2hoCwkopBpVD1Gwz7plnOMiOhv/m8l0nSSZp7447Jo1xcLGv1PMhD1Gku15qDl3pkerUwKUcAdplglJy4x8yJ6FouzFujX72t3vKB1XDYpnlntrTCxa1m0hBIKTiiegrXeV2bIxXN/qS99tXRSc0vBY5EOVaSa97uS2lZOO7fT+D6jNUv8Z8OTpDKSTj/5x+XRrscubfQ8++fhPFuqafVGXCD3YxWMQBGaJr61cv4mfu2hutXTJKKk4JIjlAsxosR2caHFXIi/9Lqclv0rn837sqWlUHafzZo/1zyLg6pnvO2ASDVvUXmt6Y5Wazc2Z2nbJpPASMNHtmTvzp7Kcs1veBLL5uhWrFqx6Ey5d9nPZSrSLmqrFqhy0mydLM9oWVohbm1yFu5QJA1FDdRtbz9Duu2Rct/Fdd1mpkd6BlX0mDr3/91/KrWqdYtaTE5jicYcYa34jW1hoLg7SpLmV1dxlSWvNKTtWy73t6I9PbeSpz0TIUT70aLF51R79/yBmSIiIrppUC4jolidfqiYrXGULiOOUPyF1u1yfPhavtaxxbThvlpngB+Th21yWu/H5nYikhaftPqdLJZSlPlpT2hXppv3N1hGees9ST59LpktAVPi3XbLR6QduacsyijYa7pmtVqvmRqrC1XSsKsrojTtzuMFfZtKDTcDoyCm20dqLqur/j3uCTApUuZpZuhih+/atP2G3X9q6rbbLntjJZXPlF653jHKKWRCEeNba2scBQnEOVyafGYay94IOKfuv862S6dP83Q/zo52e+5jsigbRyV9fKa0nb0eMIuGv8GyadPlcb9zWSSWMvmLFLEnN7d3fhEQio21eEL5vN3YzRQUesc23kt64aFI5LnqmY4bdqdnUuXtC5aAEsvbr9szpvtmeUsn9Jm219Dra8On2ssfV3NtNkeC77fwSpvQd3FbDVWs1YT2k/dXckZ2EiMvhLJYpJq3qNtouWm5dJHRBdwSEa5lAgklEJxQPJOmyrKCa33k6Iql2QWLnnT0/S3qKoqnVzrPtdvaL1x6cVFQ9JLkcg338Y3RzK0SyP2ECkZY08RbLpuGfrdC73u+7mvH9cD1o+eCQLhTf8nQR5ZE38XiDVGi0ucrHJ90OMeocMYOUbgdSFJoC50XrtnYjy7pn4/7PDNJqn6zsc1qtVrbWnaVaacFPBkzWT4z7dJ14TckTM7VZhkvfWJpPyMpmCvU9rosxsPJuqyIA+bPLMa06bKIw4rO45uOySpeGbPT5jEtDAl1lBMUL/+hTnGhaL2R8wXR28Hezv1VevjK9vYzDqZopXds43lExyPO6j8iVqWL0mXEOrUIkiSSPVegGzR2ROpWACCih2x4452ZlqJWBV4ufUylTiHP/LTQDZLkS94tlnzw0tOrG0y3Ob6f5/udjpsm8804n0kVqwuLkw9U1lzheBe5eI7dVVmfXFyQUF+Qptuxj2HXvOZ/VSVxxsYm1ZurhW82O6+ZTLe9z7p4Zt8mz53ua/ykt45Uvm93DhINemK1fFG2mIgoQ7d6hrF8Tb3lDu893mtGNt4Hk6JHbNByZM+l3FdW3N8Ncrn+FS37bmXzbafLTa5ee/PGTezcMv00IiLecqzphl6XnXg/O01fNpfdtLHZ3usit8t5u7nyXVb7ij7+cZiL59iTp2xPSGNcV5SQ8Z0a9g7vGgmFeVknJ6I0mYKuW25wLjfRIGc5UGvs8z7L6rjcbOl28i7PA1SWYy2sLFMuISKxumANX1tVb7kTEOdCrS9/xW3HNt1dWzY/QozEc5Yu52vK3zHaez1ZzNkvmm1xlujUj49tHVi7LtLvRN1XyRkhmBcxsjhJoS3kLxiOmTTa3LiHpgIJJRScUDwl2uUFyQcqay46nJ50uGKL8OYSF89daTp1UyFUaDKydM7aVe+yi55WBdcbsXrJcn57+eazdmc/z/fz/B27qTWuPBTI/YQLRlDTJE57TEo3LDanJ0GMmxstcU4kEghX8tSKguT6yl0mRy/P9/PObtYWZ4nyPHB40iabMV1CY1Q4Y4nZDsizdc49qza1L5oXkp/Em9crldsTvI6WJNe9PNP4xkv11zx9E+/sthhD35IjZp7KbX6j5LBMlxv9FaAu3nZ8e3Pu8rlS3pM+3w65yDX4LT9I5OaMjafkhZHGRm7OuK+e1qyO8KaycEMDnkjy/fy3gy5yDX0b+NEX3bEsDHF1lAFEipK9FVRTWmdzEZGbt5xsuv6iLitCAyCVKei65To3SOR2cdfqa1tGmuw4q38cx0sUvctI6NRi0Gk/3WRM0U1/lIgcTQuVszcm8nYjgB+lh2ty2sjMtPmqaYHzWZOmqeZT0+nI89NEGcsbW1TN79UfWVNf2U9EYlmGal553O8cnrb8RLPEsKVI86pzKEWimF/cclwnS/DhSNGTZXtfL81bY5h63DPvwmaX7qzLitFm/6+JPLuntOaagyeiVJl6weqTq/yNn2xZVYHzyKpnzI7+ZEn2yoOHl4/0ARLtrvOTjtfWr9LYeocoRSKfNW/163HGNGrE7O/XNEnWttz3NT6xpvp8asPWtxbWdPOUKlPn151fphJ7pt9s7yvYeTD0tCG+varfOV/33tbK/BpHP4nT1UsN55erYkc1eM790oO1eimR0A0cp/qNAzK2amH5TedQqkL/+knvWbVYvfbgyk0b8n6zfih5MrNyc1XdY5Rzi4hoQjJX/+aLbKdziCh5siL3xYOHlnhPM+SFjY2T6msKf2OLFGf7p3zxSX3kkiZSFB9vmXqovjJ/s6OfKFWmylpUNieehCK6bePXnNCnR1x2PyXHJ2pexJPF8rkFdKBGnV8XfzmLllCxghMqM6InyxqPSmsMq+avdw6RWDanbG+2d6pYQJlJljyZu/TgLr3Qe+flcwvl9Uf/LfwN16Inik80T91/oHLhRgdPJE5XMflloU8URSSQ+4kXjKCm6cW9G3o3lWjqeRIrXiir2rJBqt8fT4yEwk1RlB1tlG6vXZVX6Rwkcbq6bA8T/uruAAHP3qTK1PkHDy3xDPnHpHBGlkA7MG1uwaP1TYxWEVreOIeN9G8mfPFHMn/v+Z831R4o0tx0DlGyZBozb82bIeuIs3V6MvXNz40+jnaa1hfVdxO9/awp8OtPFud881bBsXeNmg2NCyKMVXnz/pob+p3b4rsQ9H5pzvuBny2L1TX+T1la7z9jWRji6iiDJEl1Ww45lqx6bWqDurWgpq+g7kDEBkCsXndw5Tvr85jKoRQJU7ilas+vSN3hPYLo1T8C4UoXrcug2KcWwU2NrqKxTC0momTxpGTRTyO9Cg4AAvxkeHhYYDHHcUQkjePVym+88ca2bdtGHY/73PxHxmks0Zg1raP//RYYhZsG5TIKeqwFxlx38+KFXauvVjB4ihYeIr3G0jx7waWKUV2duX9OY4nGsdxa9mTwt2dLNV0rAh/igh8UugyA75PwCOUhm5wGAOOYvbWp68XcB3SOCDBKrs/t1xfk4s1WAAD/IMZsePPrX/+6tbV1FBvevXu3ubn517/+9VjFBAAeMm6Xy+1y3myoOSBZq8foBh4yoqyKa6+j3AIA/KMYs2dvNBrNX//61zfeeCPRDSdOnPjrX/9ao7mvl+0DwEPs9pGcwoahVEVB3a4ozwUBQDQSXZ01wrcL9kb4FgDgR2DMnr0BAAAAAAD4vuHZGwAAAAAA+FHA8AYAAAAAAMYJDG8AAAAAAGCcwPAGAAAAAADGCQxvAAAAAABgnMDwBgAAAAAAxgkMbwAAAAAAYJzA8AYAAAAAAMYJDG8AAAAAAGCciDG8EYlERDQ4OPiDRAYAAAAAACAql8tFI4OUiH4yPDwssP3g4ODdu3fHPl4AAAAAAACjMnHixJSUlIiLYgxv3G63y+UaHBz0jJMAAAAAAAAelKSkpJSUlAkTJkRbIcbwBgAAAAAA4GGBVwsAAAAAAMA4geENAAAAAACMExjeAAAAAADAOIHhDQAAAAAAjBMY3gAAAAAAwDiB4Q0AAAAAAIwTGN4AAAAAAMA4geENAAAAAACMExjeAAAAAADAOPHTmGtsbNt4tONod3/39x8ZAAAAAACAqNJT06tyqoqmF0Vb4SfDw8MC2x/tOFr0YdSNAQAAAAAAfmB/eO4P0UY4MYY3c47O+fP//fPlpZd/m/7b7yNmAAAAAAAAceru75btlaWnpjtKHRFXiPHszZ//75+JCGMbAAAAAAB44NJT04lI4MEZvFoAAAAAAADGCQxvAAAAAABgnMDwBgAAAAAAxgkMbwAAAAAAYJzA8AYAAAAAAMYJDG8AAAAAAGCcGMvhzc2eH3pDAAAAAAAAn5+O1Y4aP6FNrdR9dzTbpk+kKg0VzRiruAAAAAAAwI/R2Ny9udkz+rENEXXfpU2tuIcDAAAAAAD3ZWyGN0+mjX5s49F9l55MG5O4AAAAAADAj9QDe7UApqIBAAAAAMDYejDDm8sv0R/09Af9AwkcAAAAAADGpzF7tUD8qjT020eJiIpmUPpEmnPwh48CwD+MQc7+icVisbA37PbHy/70JiN60DGCseK6Y7fcsFgsrOWWXbHuTxVZyFsAAIDv3Q89vPntVNqo8X/c1JrwHpxnSzUbWd/H5Mny6TO0Bav0zJTopw69lqZ9R4ztFkc/UapMnsmsKFmtTsepBjxQbs609bVNZzjpHK16NrMid8XUR9NQKMeJO6bNr28y9krVGvXMrBW5y6fK/hV5CwAA8EP4QYc36RPp8u/9H+f8f/Tnrvvd51Cv3XLebjl/qeJMoz49wgpc6+bSNy5NWlpWdXSnTEzEc6zZ5ErCqQY8WC52e96mvrWNbXq5+EHHBcbWIFuTv6lvTWPbC3Jx0oOODAAAwI/MDzq8CXzYZlPr/Y1tsja01ukkRK7u5tcW1rBkM15z6NNloav1Gre9cUG6sWXvAqn3m1S5tlB+HwEDjIU7Hx45LV97BmObcYg7f6T50bUtGNsAAAA8CN/XqwXSJ4Z+c/kl7yM3RPTnL2hj4tPSIhKl56qziIi67vLhS+1nG9gn1r7hG9tEc9OgDFN61ulZ6LzWUL4wR6lUKtV55YctTrd3I+fZUmWJ0RmwG9tupXK3Lfx/GrQZFuYZbrpGwjLY/Bvx5vWzlcpSY29InFyOi3HgKGsAACAASURBVDXl+ZrZSqVSOVuzrMb4ucsf2xIjd8dUs0wzW6lUqosqT9t4d8CmvN24tShHqVQymqKtRsdghOhFOAThiLk5dnephglMIUPQvjx6jaXhSRm4Jm83bi3SMGEHFTEjosbNE1BAokXZrW13hIw19oZtHpAkxhJ/1od8b7DwtqPleWqlUjlb86qBveNf7Ophm95+KU+tVCqVs7Wlhiuc5+tomei0sbaMear08AhEikNnQ54yKO/4TmNNYY5SqZytLao56/AlonAWhy7tN1cyyqAyHKXkBBn7LOZNbyiffc8euBZ3ukhZYnRGyA6bQak03Iw3oaKWqFjxdF5rqvTUL0azeKPZSQJlJoTT1m6Ta1WyaGMbt9Ny2FOKlDkLyxssIYXNFhzj0EIeOXfizTj/3rizpTmvGjk3UdTSG6HehTZ6glEy7fYd5ktNn7oEK2MAdV75bpYLaNCc1xpKtbPDkitCVQ0o4cJLI9SUCId806BUKp89HFQy6U5zkTLKtgIJFRaiUBVWPttwO2hv3Okipb/YhwsqM0FHHa3887bmt4tyolWNiKlBYVUg5KPbaTns6SNy8tYFl2u303K0skg7W6lUztYu3tzqjL9ltr+XF+3Yo3ayYWkSUI94+1nDSJucU/R2s310hVbgeHuNpUqDhbc1rcvzVI3S4PIcveVxGksCA8rJW2dg8XuAAKPyvQxv0ieS482gZ2x8rxMgou67Y/o6gTuXzO1ElKzLnBa2zGFr41TPZcUa3BA9WWa1Wq1Wa+tGhpY2ev7fu0BCRM7zpfPLO2a+e6aNvdp2snrmrZL5b5sjDKQEuDnj+hJH0d6yJyPMiHO116/n5IoIm4km/YJZtPX91qtW69Xzdc/wDUUGi68ZvNH02lY7s+lMG3u1dd88fk9RyWnHSHD2hsLFTUkrTly1Wi81rkhqyl9vitBvxRISMfvR35d3M3UfXvUkjvW9guibqipOtrWZR/52B9yzc9nqCxc3Ja1oPHf1KtvaWERN+sUNncFbZ21o9eVFvHGNulvFq96M3ZBFBe95M1Y3Od4dh2C3lhxLWXHow6tX21qq0tjS/Bp2pGsUJZFYU3HonNVqudryepr51crmOySQidx/sfR42oQopzhB3I7mLYfFTwTccuxsKMpvouUnrlqsbQ0rqDH/tfOjyWH2wHru0YCil0DJGdssFqsX6Lkz7Xb/GYCj/UOben6uJKEDCk+oyMHFjqfzfOn88ktpqxpbzW1tLYfK9NMTiQlnv0KKtAn2szVF6ghnMKZ180tuzaw+2XaVbTvz7syOsvmVrSEtCrPBZLVarVbTBn+MBXIn8SrvumkobZTVbdFJk4iilt5YBMJ12eoLFx/pZ6pPtrWZ2068u4JJFwlWxpFDtlqvHi2bdKW08ox3iMW3Vs4v72B2tVqt1nPvzuwoW1X/aeSK8r1ISf72qMkWcG7KXbvgTIvdpcQgWIWTU749/KfA4RPXfs4pFfhdOLdrJAFbN2SFLY1Q/nnz1qJT4hUnWKs1vGqMEm9+e37JLabunNVqOVet6ihZWW8buZhjWje/pC2t+FBrm7nt/IEyvUISb8vc3VzznliRESvwyJ1spHpEyfQz2dLtZ9osVqv5YG5/TdG+kX41sUIrcLxExNasOSZafugce7XtZFXaldK87WxgKAItJLOx1Zsr7ImyyWzpm80cAUDCxn544xnbEFGVhqo0RGGvE/iPU2MRTPtmjecCx3M1bIpEsXTnSlX44IHnbpN8yn10RW678QA7b8sOfYZEnCIST5brN1YxFw3NnbE3HdkDb6krbUqv2xHxDtKgZf9Wy8r1xdMjbSrOYFTpErGISCSRP6dTD/Zw/b4Nh3LXlDFTxKIUkSRDX/2W2rbP6OmDeXNT/VBx9TpGKiISSZlVK5gr+43xRzhyxJz2G9xMda5cEs8zS6LkVLHY9zfBvwl/+VhDStnOdYw0VSRKEUuzK6pfHqo/6h8uOr90kHhCcoKRjbnbseL45aKqF+QSsUgkljLrqotTm5s/GjkpmczosmWSFKIkkXTOooIMW9eXLhLORIth3R5n7rt/slqunt81r2d7/ubQ01wiIu5DQ610S0XeJN/hmo/WD71cXZEtFSWRKI0pXsWwB4z28C0FuSz7t1lWVqzxF71ESs4YZ7FoRq6+39juC6vbYrytzp2d2Ly9sISKGlyMeLrtxgMs81Zd8WypOFUsnixTZSQ2ziIiy+51ht7c6nNW69XzdU/31BRtNnvy/bZx/5V5O7fo5ZPFohSxJENf/RZj2tPsz77eLgeJJ6SERTh67iRc5e8YX1vrKNhXpvCFEqX0ChOK0uVjDUPF1W/r5JPF4lSxNEMlizszRVOYedlk4zw1y968x8S8Va3PEBOROEO/unCo4WT7mFftqDJXrsw6dcF3Ycltv3jUqZ6jur+dxqjCMwtXMv/pD5NuX2xyqtUCvxTXxzlIJp0UYUmU8u/ouEjM04w0rJiNXmez4SJTtVEvTyVKEstfWL1yqOHUFZ7IU+aZqtpi1RSxOFUsSVfJ47zA5OaMu2qlVRW6sMkgwatF6mSj1CMikVyjU0wRi5KIUuX6F/VDNofnBklihVbgeImIHLL8Ku9pwxSm4t3iR043m3pHQomzt0qRMk8z9Ck3imtXADD2w5vCgFZ4o4aqNGP/OoFQg07H/+ns6o+9YsJ67dd7GMW0gHP61JlMFtfRGWeDM2CrKyrpLthboog4LLC/X8POr1qSyjkiLfVx8U776SZjtlrl78DUioCbVeJMhhl0dPURETlumegpldw3MSZVPjOD6/g8sRYyLGKS6TNkbMsxyx3e5RbcUni3t8w0Y3rgpB25Sk0XO3yHPzDYRz+flOjTKDF3O1ZUsxT+uCXJVU8R2xXxytqE5InU4/xb4FcRMlFaUF23XDVFREkiSYZ+deEjpvNsaD71m/fvo6pX1ENdvrcFOjouklrlv0chls+U93Q4Espht/34VnbupiWPfO1PpLEpOaPLYpFKV0iHz3nP6OzmJvsLOnVqIgFHSKjowQnHs9d+vYdhMu/roSjpkuqDK1XSFCKRRP7C6pWpJmO7k4g4+3UuS/GrgLMucSbD9HTYfbNx/meojyaFx1ggdxLLuC+NpflNstoduqh3AyKU3ogEwrXfMgctip/b5bxtPPWRbHnuNCKiXntHcF7IMrLoymdjXrWjk2Q9ldt8dmRA1dlulBQwv+y7v33GqsKTs+ZlNxtHzpXt7UZJISMTqIhfOtgZsrRIqR2l/MumL0g2NxvtvffVngdydnZwWcxMX51Nkk3LokufO8hb5gMWxY037zckVa3VDDnaBdaK0slGqUchRP8sotucJ6ETKrQCx0tERComoK+gDJWaWMfXI6HE11u5eu3GZrNsZW74vBQAiGnsXy3gedez73ZN4H2bjff5OoFAI68WoH6LYdlLTdfqSxoUba+H3MERSzPo0h2OVKO9gfPfDgvJiqNcapJkqGQbm45d+7fVKgnxXGdrQ81/Ev0uYI2/7K/ppOKT3hkgobqba95Tlf1JIeKjJ8pNg3JZExHRY/qdu4P2I4rcCju7viBqL1IeC/qW8fVhx0IXUZY6nojJlhw6SLWG/JyAmcoC89Mix43rJkYjkBcuzmFnHo+2QlORsin4G0Yd126jYTdrlZs9/6bK1AvKykqYyDk1QvTTf4q6rNdmPHms+RMHd9vh6SwZX8mPlomPTg0MTpaRRQfsHGkD7hS42APruVUntZMpYPp7l4OIXRaSFozru5F/48hix+maw6qytidEf/N3qrFKTlxGn8XybN0jyy/ZXlGpRPb2M9/q3/LUZcn0GbLNjccsWatVqcT3dJqO1pwiWhS22wgJJRScYDyFan1AmSGxbI6ubF0ZE2mcIJsasPMk2bQsqv8vjkji/NJCjxYL3AxycV32LHlYzARyJ6GM45pra+xztlSHTJSNVnofna5LWX/kjG7HczIadPbcMNbsZulxdcwoJV4lAxOWmHUtSzNERERfO1hi2YBFRBTY8rAbNcqNwXtaSnEuDagpyZInc1eWb9BnRLgM9Ui2Tr/pFNuv1qa6LOcOy/LOTyU2fLUQQr1DzCpMj2Qt0K//gK3QaMUui/GoTNcyla5EDcv+qVk6e0ek5I5W/sXq10+6DtW8pN3sv2kQ3hEkgutiqZ3VhGTUUiKimGU+skG2fhNXfFwrIcHHnKJ0slHqEZGbd7Qbj7xvcji67L1DRDRSnBIrtALHS0REIorSQccMJajQZpe1LIl8bRQAhH0vb04LGeF4/PmL0fzKTWypqtxsauqmoTvc3yhkeCOTz0iu+YuNXygd5ZXYn8tUZO7qJUXEc53HCvZu4yrXa37TT+J0tW7VihXPG8sDV5hVtmPJqcVvbpbu26AOOQfy3nZvZVKIBGZaPFlmtZaR2+Xs/HCTPs/R0LLceyXHNeAi8h2tm0YmMkik6STNPPHHZVHeDre00fqq/3EL59lSTUimRItYkkQ1VzVpj734ZMvyaZ5T9ujRjkwiTffc7ojW0/X03Eqe9ky0pQWN1jJ/1HuNpVpzfLuNhtlg2qubTOR28T2W+ldKK6V/bHwh+gCGqG9wIDAUl5u8fVi/uTJvPb+msa7BM33PaSzRmH3rRcpE8b/IyRGUh0REaUHTSDzzx3a8Hvw+wElSGUmnn/zj8mjX9GJmcY/RsE+65RwjIgq4RB+r5MTlPrJ42tyCR5+99EmZalK7sV+3IdObMLIle3f2VJZrfsOTWDZHt2LVikVnykM2jZxQQsEJxlOo1o+UGSIXz1kOlJaumdRypiA4YLE0g7r+Hpq30gnJRCT5hYoudzlJETWB7tiSM+aFLRXKnUQyTqp/p4p7u6TkvbSDy+Te+AmUXrH6jUPFr63L/827Q8mTFbkvFhe/zBRdiStKCVZJf8LSoMO4Pl/zX1taN6rFP5epSLuorVodpQVnNrZ6HpL0sO1WFsW91F9TBp32s5uKVhlklyoiTDsTqeb9rqS2ldPO7TS+z2jNEoGRhp9A7xCzChOJVPMWldea7mi1dmNzlrZtMl2Ktqrb3n6GdNsj5n706pYiU/9Wvv8/J1Wdq1anRmolEiT5hYrmLmrbEiGjYpb5SFyWA9ssy3ZUpMdaMUonG6Uekf1o0eJzqr17/uD9oTx/R5ZYPyJwvERE1Df0PwGf3L6JhrFD8Rdat8vx4Wv5WscW04ZowQBANN/Xm9M2tQa9G22MXycQqN9yydPZRPopG4V2pax1/xHLaB9FTZPPTGPZGwGn+f3X2Xbp9GnetkmqqWg0W61Wa9uZnWVz5ZNCL9iIpPN3nijqW7/GYAt8PUvahL6L22qoYq0mvkYrSSTJyFVnOgImxbV3fuFfzttYS9p0z4Rm+eNqrs3mGN2UA6GI8eY9NY6lVUvu4065XKGljywBT5CT3WKmudO9Z4e9Hezt3F+lj/VuY0oSiacwBfkKW6xJzvYbdn9RcNttl0n7uIyIeMsl0+CiFS+OPJrk5hw3IoQSmImyzFzpeTbgUVRy3G6nrGm+OIup48hWs3rDktDJEklyuYb7+MYop+dIJ/SZttfQ62vDp37dV8nx7WT0WSzNzWOar1hs7cZvfzfPf6EiSap+s7HNarVa21p2lWmnhT5hEDWhBIMTiufkqfKU4FofiUgsZfIXKbr7wtaTKdRSY3tA3rodnSN5K318prSdvR4wk5a/wbIjlZfI2dFuz30sQskVyJ3EMk6sKG6om36u6LWzI8/uC5ZeUUbBXtM1q9V6zdRYXaiSBrSyAuFO/SUTkrwJSJHpXtQNne1wENFk+cy0S9dt3/O7BFIk8hcKdIHPxQVTPL3Sea7d1n7h0ouL4p8zGbV3iKcKJym0hc4L12zsR5f0zwud3LosxsPJuqyIzbJAdXPbj29ukkVqB0ZHKp8pvXK9I9Ir+6RT5cnBZT4WMd0+UnNZXfXv8YzYI3ay0eqRvf2Mgyla6fsRcOeX/lxIqNAKHK8noOsBfQV12syknf4oUUK9VZJI9lyBbtDY8UX4MgCI4fsa3lDwCGdsXicQyPdqAfVLTd1EJCsoUke4HjJtSfUayamXnn7psMl+h+f7eb7XYbtotsX7aKpc/4qWfbey+bbT5SZXr7154yZ2bpk+kVN86YIdh7LZVeuN/ldDpn58bOvA2nU6wctEDvNpi8MzN9rFc9eOGdtlvmEVScj4Tg17h3e5Xc7bzZXvsszLOk9XIJ6zdDlfU/6O0d7L8/0838/Z4z/e6BFzWY4YruSWFd3XjXKxuqA4ub5yF8vxLnLx3JWaygPJxYVqMRG5ecvJpusv6rISv0wltNt4uF38HbbppE0hjXHdTnrrSOX7ducg0SDH7qqsT16+KFtMROJfTJVSh+Wm0+Uml9Nu3HrE8nPPFtEzcZq+LNtYs9Vod7rI7fLGeSHjS16u5ViT6o3VEd62J1YvWc5vL9981u7s5/l+nr9jN7XGm8PitmOb7q4tmx/hSO+r5PgjN/oslmRr1eeP1Jpp5dORXiUYRdSEEgxOKJ5JCv3rDPtuZcNNzpMOtnZ7eDK4eI49ecr2RIRCI19Ylnu2ZttZu9PlKyrFutkiIqJp+rK57KaNzfZeF41UXu0rek/l5S3Hmm7oddkRYiyQOwlnXIqibF8FbS/1vEU3eumNQSBcyVMrCpLrK3eZHL083887u1lbPK9iIyIiV6+9+X1j8oLpMiJKkutenml846X6a5684J3dFmP7WL9KatBpP91kTEmTRjvXz8jSOWtXvcsuejr0DTb2955VFib6bqu4qrA8W+fcs2pT+6J5Ed6a4+Xibce3N+cunyvlPVnw7ZCLXIPf8oMxyj/34f56Kl4dqR0ID2TAE8l+nu8fcpFrKOjjiAzd6hnG8jX1Fk8/2+90XDN6X53/hL4im920scHmWXTHxnYKNyucsbFJ9ebq+DubkE42ej2SyhR03XKdGyRyu7hr9bUtfb4b5okVWoHjJSKSdh4aOW24w9a8VZ+8cpEnIxLorbzFUjf9USLizRtnKxc2/YBPnQE83L7fn/X0zEZr++J7eJ2An3fKinZaxLZQJF/WeF7ZfPjQkZcOVPJElCqTZ86rCH97ZrS9a6rPpzZsfWthTTdPqTJ1ft35ZaoEz8BFipK9FevySuumnnhVISKi2zZ+zQl9uvBWE5K5+soi1t475JkavvTgoQLfsMqpfuOAjK1aWH7TOZSq0L9+0n/CKlIUH2+Zeqi+Mn+zo58oVabKWlQ2J76YRouY2358a5NkTcv9XupLki8/3iLZs6lIW+ocTJY8qStuPqF7jIicxlc1NX0FdQei9+Sj2a2w4Gdv8g/uWiglErqBI1tWVeA8suoZs6M/WZK98uDh5d4OeNqSvRu/3bRWU99P4if0ZW/v2JD2u/1EgpkoVr9zXvzeppLnNkeMs+0L6c49TOQy/UTxieap+w9ULtzo4InE6SomvyzOifP2T/nik/rIP8lyPyXH536yOFW9aMGml66srEjk8kGUhIoVnGCZkS7Y25JqMGxenNPNU4pE8eKWOm+LEVBmUiSKOUsP1uojzKNPVVe3iBu2lszf6BxKkSjmF7cc142kuVj9zvm697ZW5tc4+kmcrl5qOL9cJSbPNMLtfQU7D0aOsUDujCLj0nQ79jkWr3lN1rxXF7X0xiIQboqi7GijdHvtqrxK5yCJ09VlexjBMWtwws6vOPmK94RPMn/v+Z831R4o0tx0DlGyZBozb82b8cQutqBnb3QVjWXRi6Z8bqG8/ui/aZ8I+Z7v+ZyTaxN+uDOuKjxtbsGj9U2MVhH1gUCnaX1RfTfR28+aAr/+ZHHON3s2fPFK1PLfb95fe12/bUd8j9E3l6qbAz9b8nNq/J8YrfcfiXbX+UnHa+tXaWy9Q5Qikc+at/p1IiJKkup2tUyqM2wqzHH0U/JkRUFVneCLqG126c66rIS6An8nu2/qkflR65FYve7gynfW5zGVQykSpnBL1Z5fkbrDuzCxQhv9eImIZMs3FTgbVj192cGnSJjCg4eWjQzWYvVWAc/eeIulWkxEyWKxKBlP4QDE7SfDw8NCizf/hIiGNwit413z9ZirxDC8/X738GNx06BcRkEPosD3zmks0Zg1QVP5Yay52K2/2S9rOfFivPMKAR4kt82QUys92aif8kCCdxpLNI7l1rIng789W6rpWhH4AB78oHqNpVqz2jT6H1gDgHgIj1C+x8lpAAAJ6DcbTyt0WRjbwEPijt3y6LysBzO2AQCAqMZmeHOzh9KFf3grlvSJdLNnTOICAA8Zl4to0GHavp99YcVzOFmEh0W6/sTRSLMTAQDggRqbZ2+eTKMqDW1qpe67o9k8fSJVaejJqD8zBwDjmNP8hqbySrJk7tqTr0R+3AgAwkh0ddYI3y7YG+FbAIAfkzF79oaIbvaMcogy6g0BAAAAAOBH5Yd79mbUQxSMbQAAAAAA4P7h1QIAAAAAADBOYHgDAAAAAADjBIY3AAAAAAAwTmB4AwAAAAAA4wSGNwAAAAAAME5geAMAAAAAAOMEhjcAAAAAADBOYHgDAAAAAADjRIzhzW/Tf0tEjR2NP0BUAAAAAAAABPy5+89E9Nv//dtoK/xkeHhYYPvGjsb/+PA/xjpWAAAAAAAAo/SH5/5QNL0o4qIYd2/m/O85f3juDwLDIwAAAAAAgB9Gemp6VU5VtLENxbx7AwAAAAAA8LDAqwUAAAAAAGCcwPAGAAAAAADGCQxvAAAAAABgnMDwBgAAAAAAxgkMbwAAAAAAYJzA8AYAAAAAAMYJDG8AAAAAAGCcwPAGAAAAAADGCQxvAAAAAABgnPhpzDUGBgYGBwfdbvcPEBsAAAAAAIBokpKSJkyYkJKSEm2FGMObwcFBnufHOlYAAAAAAAAJc7vdd+/eJaJoI5zYwxsimjRpkkgkGvPIAQAAAAAAxM/tdn/zzTcDAwPRhjcxnr1xuVxEhLENAAAAAAA8cElJSUQk8OAMXi0AAAAAAADjBIY3AAAAAAAwTmB4AwAAAAAA4wSGNwAAAAAAME5geAMAAAAAAOMEhjcAAAAAADBOYHgDAAAAAADjRIyf9Yzf3bt3P/nkk48++ijRDSdOnDh16lSNRjNx4sSxigwAAAAAAPwIjdnwprW1lYi2bduW6IaecVFra6terx+ryAAAAAAAwI/QmE1O++tf/zq68cnEiRNnzJjR1dU1VjEBAAAAAIAfp3+IZ28mTpx49+7dBx0LAAAAAAB4uP1DDG8AAAAAAADuH4Y3AAAAAAAwTozZqwV+YHyn6cihpgt/sTsHKXmynMnW6ZY8x0wRBa3UayzVbmZ9H1NlqixdwSp96GoAAAAAADAuPJTDG+5sad5Gdmjk41Cv3Xy6dtKc55gp4euqKk7u1E4mIiJXH3u0vDTfvvNctTr1B4ssAAAAAAD8QB7C4U13c+VGdohI9uLeva8wUhG57thM5zi5KuI9GVFyqljsHcyItesq7O+/dP3WBnUWbuAAAAAAAIw3D9+zNzZjrY2I0oqr1zFSERGRaIpC97JWnhTnDpLFE8LHNk5jibL0rNP7qcdYqi419hARUb/duLt8sXa2UqlUqosqT9tdRETkumnIY0bWIbLt9m/Ot1bOXmiwDfqjbFD6+UMh4juNNcs0s5VKJaMp2mp0+DbpNZYqlco3THxgHF2WGkapLDE6KUyvsVRZauz1fuLOlua8auTcI8d2tlQZaLfNuyDKoXm3utZUORK3xRvNTk+UQozsiu801hTmKJXK2dqimrMO335su5WlZznuYk2RdrZSqcwprGz+NOiYnNcaSj2LFpY3WCIcmWcn4UaS0WksURosvO1oeZ5aqVTO1rxqYO8EbOx2Wg6XahilUpmTty4ghOAUIyL7e3lKpdJwk3y7VSrLTf3BGbB9ttKz1e2GZ5WVZj5oYQ0z23AzfM82g3+34R+jJl1CWRCcRLM1yyqbbwfsibcbtxblhBezmwal0mALCDEo8sJLvWnrSXah7Iu1HxfX3lS5Oi9HOZJ9njrl5owlyrz37L6NHO8XKQubHb5Sfa2hfGGOUqlUqvPKD1uc7sAAQsr8SOhujt3tKQzBi24GVtDQehqaCwL7CRFnLY6YO1GjFLWlsu0OqNpE1G+ujNhcxKzIEVskopFKEXDMAZUlsFkLEpT7LtvuvLzdNm/RjLP8jCSRhvGU7Rrj567gxZEb2NAE8ZSKsJSPtNtoRxqj1HmNqjV29bBNb7/kSY3Z2lLDFS4o5uGF0JOARys9Tets7eLNrU6iGK06AMCPxbCgr7766quvvhJex+P111+PZ7X73vyzI/MzMzMz8092xV73mw9KMledsg8M3B0YuDsw8E3XhW0Ls1+/8NV34av2fbAms+TDvuHh4eG/d9Q+v7D2xj3vknufXfqw46uBe8PDwwO3jpVkztp61bvoqw9LZj1f2/H34eHh4Q7DyObcByVzSj7gAvb93fXazJIPvgkOZXj4nm3fwsyFW9u+Gvj7vXt3v/p428LM54989p0v5rNmZXm2GonI1a2z5j/zzJoP+iIfqXflezdqF47EyntsH5ZkGjo8/3cYMn3/Cxxa37mSWVmF+65+5Um367cCwrxRmxkSB/sRz4Hc+274Hvfx1udnlZzr8wU36/n8VTs//uruvXt/7/vsZMmszMJTDu92A39aPyur5NStgeHh4YFbp0qyFu6z3RsO02HIzNz2sTcT7w4M3P3s1EpfMvZ9sCZz4fOF65o/6xu4d2/gq4+3LczM2vqx9/AHLr05a9Yrpz67Ozz83cBnJ0tmPb+v415oig0PDw87ThVmFRb+e2btjWHfbmdlzfJl1vDw8PC961uznnlmvmerrlP/nrnONOBfyG7NnH/ks+/C9jzcUZvp223Yx+hJl1AWBGdr32cnS2Zlbb3uOdLvPjvyfObCbR9/dW94+N5XH29bOOuVC32+/WTWdgTsJyjywkuH+y68uf08eAAAIABJREFUMmvWK6c++2bg3t8H+m6dKsmatf5PA8PhYuxnuI/94GNH373vhofvfXVpyzOZS095WxzugxJfaQn835s4Jadu9Q38/d7AN5+demXWrDcvBYb9Vcsqb4IEhP5ZwzOzXjn1Wd9IGQuLWGBNCQgoNBdi7ifgMGPVYoHciRylqC1VUBkYvvfxllmFSwtDq2qgsFIk1CKNBD1SdAOLcVCzFiGUkcT56sOS7Fc+GGl+4y4/9zr2eZLo7r17fx/4qm3rwsyFR+wBK0RpYIMTZHjYk5i+QxbabeQjilnqvEbXGn/z8QdtXX1/Hx7+7t5X5q3PZBae+jIw3PCmoO/CK7Nm/ce+618ODNwd6HNc/8xTzKK36gAA44nwCOWhu3szNNBDRDQpZUJ861tq8nNy1Dk56pwcbV5t/6KDb2qlAvd53JxxfYmjaG/ZkyN3eERy9QKFVCwiInGGXv/CkK3be8tGumDHoWx21Xr/lTkatBnWNMlqd+jSAvbZxzlIJp0UEhJvPt4gWrezIlsqThGJUqXMuuriofom/x2BRSsLHUb/NTze/EEzM0ctFj7cO8bX1joK9pUpUvzfcV2sdEJyhJWjHZrbbjzAMm/VFc+WilPF4skyVYYkepC8+Wj90MvVFdlSURKJ0pjiVQx7wOi76j40lFv2KiNNFYlSJPIXq6s0tlqj54KlvXmPiXmrWp8h9kRgdeFQw8l2PmIgyRPEqeKRv0eSg2+/OX65qOoFuUQsEomlzLrq4tTm5o+cRESdzYaLTNVGvTyVKEksf2H1yqGGU1fCQnBzxl210qoK3cSgrxcVrnS0XPJnwOVTzVnqkae2ZFnPKcyX2ZF9uSxXmqXPZcV9CzFW0iWWBcFEEvkc9czBHq7fE0ZT/dDIrU6RlFm1grmy39iZUDwjuW3cf2Xezi16+WSxKEUsydBXv8WY9jTbY28ZSpKlY9IloiQikVSdXyD/tMt7DytN98ZbE2qqmh1uzrh188DrVfp0IvImzrwtO/QZEnGKSDxZrt9YxVw0NAcclPNLi+oXISnmtN/gZqpz5ZK4J6ZGzoWE9hOjFo8+d8JbqgAuy/5tlpUVa6bHc5T+uMRokThHu3TCzxLZZeDeLYbSRlndFp23+Y27/PCXjzWklO1c52lDxNLsiuqXh+qPBtw6jdzAxopPzN2GiKPUhUqoNZ7M6LJlkhSiJJF0zqKCDFvXly5fuBGagtvG/VeYqtpi1RSxOFUsSVfJPY+YRu+wAAB+PB664U2imA0mq5elrW62vfKZoubuKOt+12Vcl9eUXrdjgTTKGqIJPyP7N74eUKQo2VtBhm3nOZdn84gnHF862BmytJATX7fd3kqqx2X+b5LkqqfIdMvh+0KVrXMevejt7/vZS+36RbNJ6PTxS2NpftjgilwD/0OySY8IbBd6aL326z0MkxljJDXC0XGR1Cq577NYPlPe0+HwTQGZowg46RfPzGKGvuhyElGvvSM4FFlGFl35zH/8cVPNUvj3kiRXPUVsF0dEzs4OLouZ6XuNRJJsWhZd+jw0BN6835BUtVYz5GgP2W+Wztl00Xv6wrOXWf3zKrrtXSjVLFK3njJ5JsLx7abT8gKNnBITPekSy4IgLp6znDRez9b+22QiIsctEz2l8mdBqnxmBtfxefSJQPHh7Ne5LMWvAs7bxJkM09Nh742+TTx+ljyJevpG5gRKn3tjw4SaTSsrawYqql4YqSy99us9jGJaQC1LnclkcR2dvoPium6TfEpILZZMnyFjW45Z7vCuiHOKwkXOhcT2I1yLR5k7wi2V2358Kzt305JHvk6kMsVskVwDLpJJRvVSloGbhqKyoBP9+MuP/ZaZZkyXBbSfcpWaLnb4jy1iAxtL7N2GiF3qgt1XazwheSL1OP/mCze8KeDs14Mat8hCOiwAgB+Lh+/VAskpRIPUNzhAFPf1bI8ksXzBG2W3flPaYtGvU4Uv504bajpzt7yjCBqd8A72zJGmVkdXt93pmYm+NHCfUt3LK5qW7zfOIu4vhpo+bd2W0BMO+6dm6ewdod/2cQ5i1P8qGOFpcwskv2+/vVyeQVzrKfZ3a3f+86Xoa3PNtTX2OVuqQ6/m9vTcIpk2UlpFO7T/dlhIVjxZMG4+vV0OInaZsinoW8b13ci/SVEucn/tYIlltcrNQd8WxBdqENFP/yni91wXS+2sJiSEpcErDbL1m7ji41oJhT89IZ9bKPn9FfvyaXK6YzrVvmjtlgn+DEhl5s2tPHaN00+R8tcumZ7QrU5PMN4CSZdQFngcK1IeG/n/Mf3O3Z4sd3Z9QdQesMgThv+8vKkoJHxi1BR7qfNLCz1aHHcNFArFedN4rKnZ4uDs3XxoBJKkuQu1m9eZtLvq/GeiMROH77R8os3dFfq1bMmhg1RryM+x+x8pESxvUQJKbD9CtThm7kQWuaUa4Thdc1hV1vaE6G8JXSqI2SJ93WMj2bwoyc5u1Cg3ev8Xp6t1r5aVZfvaPMv+bXZaeSLwRD/u8uPkuonRRLveRBStgfU4Fpq2lKWOc7ehEquSibfGvTbjyWPNnzi42w5vNdAIhRs1AYU7LACAH4eHbngzbfp8otNkN1m4F2WJ9E4eogk/I/qCc5IqvGOQ5ldXcZUlrzSk7Vsu91xWdNsbChdfmL137yFGmkJEZNutLArcZtBmeNPI7DuR+2fTkZzqqq7yVeuNLbt0/vlvbnv7GdJtD7uuP0kqI9bxNZFQfynNzZPNP2dZkiG+eNS5cruChgSGN1L9O1Xc2yUl76UdXCb3d6ourus2Mz38ldkCh/ZzmYrMXb2kiKcvnySVkXT6yT8unxZlhf8ZcBH54nPvu5EnXX8uU5F2UVt1rPl2sYWMdV1uoiQiIskvVDR3UdsWgRBclgPbLMt2VKRHXizN1snyjJalFeLWJmfhDkVSYAaIsxbo1+9rd7ygdVw2KZ5ZnXBpFEg6dyJZ4LG00fqqgojI7XJa9q96Jo9rbil4TCJNJ2nmiT8ui3ZnqaDRWqbwfeo1lmrN8SyV/EJFl7ucpIhvhBN1P3xr5fxN/NpDdaunSURJYREYtB2pu6R9UW/bdcQyq0zlqZWxyifffsGkya0Iz/UkiWquatIee/HJluXTiG4alMsEYx0toMT2I1CLY+ZOlD2Gt1Q+PUbDPumWc4yI6G8J7TRWi+TiuuzZ06MVcmZj694FEiIiF8/9pb701dJJzS0Fj3kWqsp2FZxaUrk5be+GkRFF3OVHIk333IyNsmK0BtbDVymIiMh5tlTTGt9uwyXUKibaGvebK/PW82sa6xo8cx6dxhKNWTDcyAkYs8MCAPhxeOgmp4lUc/TJRPRpbeUBC+c5VR50Oq6x9rjuwPPc15T86NQofdoExct/qFNcKPI9TvN5u7GbKSj0dhXeq60+odPfJyhK9lZQTWmdzfeyGpfFeDhZlxV+/poknz6XzJaAuWZuu+Uj0gZODiGSZGuZs5cslnajpGBuRqyDEyuKG+qmnyt67WzAW3c+sxjTpsvCD1jg0CZPlaew7I34pjQkyeUa7uMb0S8Ut3c6/FejedtfLP8/e/cf18SV74//vQ98OHv5fEhlKa1XZCsNt7LwkTZUarjkSoqLEa1IFWOrolTQriBW0K0gXQjsarDVpKuCuwqtFbU14jbFVoquNlhY+AhrFL9Q3BKxC7jayGKTu1zHB3z4/pEEEvKb+qvp6/nw8RAyM2fOnHPmZN4z5wwBvBA/Inoy5IVJZ8633IP3+rSrzSp/sL3lC2MxBoS8EHDu/KV+e9v5UFtZ8RexBcvsX1w+OSs+Wnmmuan+T37Jc0avxkTOXXJN2XSx6czngsSZ7sfaDorOrSoYnSzjxxcvea6zqa2XiELCYntqWzpdHI7lsoCwFwLq686bvVlOr66rm/RsiFtPnEjf9EX13aQ0cagfY7gj8I/O8yNL2ZZ9hUdDtuW8mZX/4tmivU3GtjIp5IVJloVz+3xdfcCzUw2tvKf6w7r4XwpsxbT6s78v7lxRsNxeKD6K3VpwLx0HZ/FYa8eqpyIiogDOreq3i+nN7LH8XS9nPdKVJmVAuI2OZDTGJ2Bm8pLnOm+ZRVfMpPgdh5JvFa6XXzTWoevtJyQ8nv7c1G52mO1NZ2nOs4Zs2e1gnXGcrA1OWp0Vd3pjfdOZ6v4laa+Y5nMN9nSqTcvsNMKAp0PGWxYgkbMvLACAH40fXHhDDD9r34ogorst+1+fHxURERERIYhblK5ot30Vy969rdcb/t3srNubWXg6PDsx3OaqhuQtQpRJQeF0vkndww4S9fc07ZUpbw3PCmVbdq8vfnKrxfB3r4DEbfsE59YYvtJYfcuhtxWzUucE6A150N5lie3X6vuJyCd2Zcb4vXnF53r0LLH6nrqdeSXjM5JHPWmYIJg7U7Epa3/QolkuXT57h2ftyaG3TZcRgz3KA0dDVlpdmDs+NK9w8ZuCut/llV/s0d/W62/3tNQ7CB59Ypen6t/eVFTV3mso56726tMtw+v7kbJoZ12PniW2t/2jvMJ6Qfq8ECIir5DEtS8oN79e0mjYi773WpOyvsfufuwLaC3L+6i9t5+o31CMqUtm+hARhSamT1duWlfS1GUo/97ORqXZa6N7lAcqInPTbQ/xMR2d4JezFJsz9wclzrK+5+oVHr9Sf1J+sDoufpbFZZlZq7utY4lYncWvzovOvSqwxOp7zlUcvWicguzz4opUffGm3yrbbxoy0NP++dmWMcVNFqaKs+bUFUoU7TdZGmR72xR5v6uLf0Ps5vQjn0nBAaRuauk1JKIsOtA03M7Zi6WFlSHb3oz1ISZy7ebojzPl9YbCCxG/EV/3uzxFWy87SOzNdoWksG5Olngq0SDb81mp7H+Sl0SQscANxX9bzw4S21QmPzcrK8VhhZuzUwtup2P/LP4etcNY30zxqT1Y2JedNc/NUbumrR31SF3KskrXZpcZm194wKhcTEp8Z4+gbt2vjS/Td7n9+MQmZ4wvyTP2Ifqec8V5e8dnrIz1cdLBOj1au8naYb/V2eNyb+zz86cD6FLTxV52kNjedqW0rOkJ0zJ7XcE0cc7MukJJeYuhc+tqqbuid/iFpT8r4UcsrBjD5EYAgB+cH9zgNCJiwjccORFxSL73o7orvXeJxj8ZIpgZH2L7hmVT8asxxcaffYJeTCxQpMdPcZi8V0Ditn2dy9f8+unjuxJis/+4ujB/UdSWu+OfFKwuKtgdTDGtREQ9Vb9ec06w75Bg9CWOd3jWnpz14vXyn+8JKk8puUb0m/nV5is0L425ceDChnCamnpE4SfflhK3ofeut1/4vIzjhxKDRk+Q9YlOENPnt+JnunzJMinxnT2dS9f9OkiR1vlSijIu/4DN+cc+dg+NiAISdh2fIJcXLY25pidvv/BXtu2OtrtDZlrGEcXTpXvzFko69UQ+UyIFr2aNzKz45eZ9T9fliTe13LzrM02ccyAr3hQJ+M3b9dkTFbK9KXEXe+/SeL+pgrnrcl09TDNBqwqSe8vWvHS28/Z4v5mr/7g/1XTh6Re/87PHD8lK1sS13LxL3n4hM+amvzm8XUt7wI7dzv7Aq8/MRDFV35o3y2YFhMxJpr3Fsa/utrwqMm91RES0IUZh/uuqiE7J6V0Jfg6Kzq0qILKYZuAzJXbFH/cZhwYx4RmHjj+9ryTv1aLO20QTgiKjl2S96PigXeET+9vPdr8nzXu1uPM2+UyJXSH/LDXS7YGGIa/syr9ZmBlXoief8MVZBdvyA8SlRET9TaVvHQ0pOG18EOEtyNqeGLNZLjiVI/Amn7itn00ol761sPianiYExb66+7NVkT5EdLl0/m+qiSglrtx8L+tjr+d/mt4rrfBbd9ytJxs2aoHffsjtdOyfxd+ndix6qgAiar+sz/hQbNWHuMxej3RRHrFKGfvWgQXWEb6J2dyb8X7PzVrxx51iq5WZ57J2vbl+0Tr504eywr1dbj9eIamHjvv9vjAlfn1v/3i/5xIzFEcSg4mot3qLww7WMbvJ2mW31TngYm88dfkuibYwO67kNvlME2f95p38SUmlpoW2uwKvgMSdxx/fLS9cGdN5m8Y/GZ5csFsw1UGvPt7HhxnvakQOAPDD9pOhoSEHi3t6eogoIMD5k4PNmzdv3759zPn4nps/knqVmXGdqReynrP8tGp93NU059++HqHl3YgUcuFSY+x6lZlxZ+NM4/4fvGuKpQuvpjfkWIW5jrS8G1H29MPLswe7KI8oDzq9O9GyZFvkEWVB1bsS3Rs4B484dLAAAD9ejiOUH97gNIBHR/vpiquvzIrEPVEAAACAR8M9C2+ef/7506dPj2HDvr4+hULx/PPP36ucANx3gyw7yPZeLC/e65ctRnQDAAAA8Ki4Z4PT+vr6/vrXv44hwvH19X3++efj4uLc3RAefR47OO1yCX9l+d0J4cm/3ZkVjTFmAAAAAA+O4wjlnoU3AAAAAAAA9xvm3gAAAAAAwI8CwhsAAAAAAPAQCG8AAAAAAMBDILwBAAAAAAAPgfAGAAAAAAA8BMIbAAAAAADwEAhvAAAAAADAQyC8AQAAAAAAD4HwBgAAAAAAPIST8IZhGCLq7+9/IJkBAAAAAACwi2VZMgUpNv1kaGjIwfb9/f19fX33Pl8AAAAAAABj4uvr6+3tbXORk/BmcHCQZdn+/n5DnAQAAAAAAPCweHl5eXt7czgceys4CW8AAAAAAAB+KPBqAQAAAAAA8BAIbwAAAAAAwEMgvAEAAAAAAA+B8AYAAAAAADwEwhsAAAAAAPAQCG8AAAAAAMBDILwBAAAAAAAPgfAGAAAAAAA8BMIbAAAAAADwEOOcriGplXxw6YNrt6/d/8wAAAAAAADYNWXClIKYgpRnU+yt8JOhoSEH239w6YOUT+xuDAAAAAAA8IC9v+B9exGOk/DmxQ9eVH2j+mLFF8IpwvuRMwAAAAAAABddu30taFfQlAlTOtd32lzBydwb1TcqIkJsAwAAAAAAD92UCVOIyMHEGbxaAAAAAAAAPATCGwAAAAAA8BAIbwAAAAAAwEMgvAEAAAAAAA+B8AYAAAAAADwEwhsAAAAAAPAQ9zK8uXj9QW8IAAAAAAAwbNy9SuhAMxWepmt9Y9l2ii8VxFHK9HuVFwAAAAAA+DG6N09vLl4fe2xDRNf6qPA0nuEAAAAAAMD3cm/Cm+cmjT22MbjWR89Nuid5AQAAAACAH6mH9moBDEUDAAAAAIB76+GEN1+8Tu+L6X3xQ9k5AAAAAAB4pocQ3hTEkZBLRJQynb54/cHvHwAAAAAAPNODDm+ET5MkbuTXwtNup9BbtT7CTMzC1/P2VrfrnazPf7uJtV7WVj4/IiIiU9nrdi4AAAAAAOCR80DDmym+9MWvRn598Q+kuvp909Rfa6ren7c0fmnJRRvxi9G08JCPzljFN2zTp/v9poV/3xwAAAAAAMCj4YGGN+aTbQpPf7/YJjr/9IULFy5caPj0QMbM8dTfXr6u6OxtOysH/Nd/RSuUX1g+4mFbzlQJ/kvA+R6ZAAAAAACAR8j9Cm+m+I7+5IvXjVNuiEilIYn7w9JsYiaFp27bIfYm6q8u+7zT9kp6v+h5sWe/qDOPb9jmM4roWdFPWq452Nu0f32cICIiImbRxvImw6i1m0qL8XAG77YQUcu7xh+IiPpb5AsXyQ0PkS7KIyLkLSPp6s9u4UdErFfetJW9wd6m/ZsWxRrG2m0y7XWE5Xg8U7Kjd2HIp9ku7Cfb8q7FoayvMi7SX1EWr4rjR0RECOJSpMrOfpul2avMHNmErivXx65XDv/Nootyi6RHBv7p26vkm16N40dERETEpPxG0W6WuP5KtXzjopiIiIiImEXpFS2m52y9jRV5pvwslZztJSJie+or8tINK/PjNsjrbP65JJtVZl50mcqermrjwcam5B1r0Q+aba5vV0pTYqzLwXG1XpRHRETM399ukZMuRYqxteirN0fMf89iac+xFEMRWTQkQ42bjZkc9avtVjq86IO8lHh+REQEP35p0eneUXVtqHDlTasiil206d26HrNC6G0sXx/Pt2o8lrVPRJaZH3Ug1pkfSxuzTvl2u/LdTUvj+RHG6ms3NBm2ST5fkDdym6O/rljAL643tSd9u1KaEieIiIjgx60qVnaMep7bYt52R06Ky4q8lTFW50uvMtN+A7OqBfvpjGZZX/y4VXmKNjvPpZ30G5Y5HC46x/2GoxbONu2cz99ydrgXZeuL+YLiOqsaHN0Gbp/NE9gaA2y/XyVDO1kZExERwY9PKa7qNBbBdeX6iEXlV4ZLoFOxMiLlI8tuf7BHuYG/6F1TL3JTuX6kXtrLF/LXV/WYDs7OaW7OokDYlncXjaRs1QbkF03rXa+r+M3rhqrhx6+Xn+sxT3J0tzaqz7RsGw5OQ3mTvuUDQwPgx22Q13WN7MJOBlytQQCAH7whh6iQqNDJOsY1fz3yb8q2oaGhIcmpkU8KTo2s2flPi5WH/7no1ieZPB6Pt+7jWyOf3flyG4/H4/HeOHnL5vrrPr7Vd3IjL/PjG8Mf606+ydtySmdcavrwTO6MGW8c/apvaGhA99WHmTNe3nPpjllaapnlfocuyXk8+aWhoaGhge6P35iZ+Un3yJo82aXh/NVJZ6xYudIiAyMZPPnGjBlvHP3qhu7Ov3S3Wo9mRs/Yckpnvkb38TXGvZgna7mLoaGhoRsfZ47swlGyI9k2c6dlz0LeQmltt+5fd+70dX+5fSHv5bKvBmxk+ON1vMxPbg0NDQ3965Ls5YUytVkZmRWRZdne+erUx5f+rrszMDTU99XBdbwZ28/fMdtv4Sdf3erT6fq6vzp/1ZDLW59mzoheuaehW9en0924er7VmNKtuo+/7Lx1Z2Bo6E73mW0v8VYc7R6ycuPjTN6ao+06XZ/pX63UouiiF766Vvbl33V3/nXnVuvRzGjeyg+vGrcd+KrsZd7C7V923xkautP95faFM4bbleNqVct40TNmRMsumRVat2LlS/NeMpT2nTopb555kV49uoy3sVpnXSOWRTfkciu9dfKNGTNe23P+7zpdn+5W5/mvRtrbrY/X8WTqUUU00iDv/P1L6cu8lQpjWepObZkRnXm0VTc0NKRrPZoZvXBPy53hdIy1b2KeeeumZZ75sbQxW3sZuvPVmU8udevuDA0N6VoPZvJmSBuMren8jpdmbPvyzuifh4buXNpjqNa+O3f+peuulS7kLSxrN9vBwHmZsUDM9q47s4W3UFrbfWfAXsYuyUaf17ZqwXk6Ng/z1lcfZs6Ilp6/Y72i036j++PVxhq3SNNxv+G4hf/rvGzeDGndndE/OziEoTtfbpuxcsXKUT2nBat+dai9bKGpuO70fCl9eUbmp8bl3cczeSuOXh0Y/bOFf12SvTzD2Bvf+DjTeER3LskXLpSbzhUHp/movJkKpPuTzJlvfNw9sjvzc+qSjGd2ft348uPaq7f+NTQ0cKf7rPQl3sqjfzdtY6dbGzKcKZbnjuPTcOHLKzcqvrqlu3NH1/3l9oW8aOmX/3KWAddqEADg0ec4Qrn3T2+m+FJnLhFRQRwVxBFZvU7gtaP3fJ8M59+IiOiWXmdvlQmCuXPqlMN30W7XnakXJ870sVjnikL+uaBAIg6ZQOTlE7I4ffXd8qPn7L+1YNigvmn3+oopu99JCLCxtL+pVNq0ekvGsza3bVOWnpu7Y5s45EkfxtvHL1S89S1B9e8V5jf5e//eFPlzP+fZcDNZS/qzh8qZjTtyZgb4eDPMhADBxq0Zd0sqzto//MEe5ZbMzpRdWc8xZlntJB/OeBtrMyFxieGBPowX0YQQ8Sviuy2d1037vbt2a35CiN8EH58JASGRQT5ENNiu3FsneGt3Bj/AZ4KPz5NBkaHGEvCLThRM8WO8iJiA2FeTQy5f7bR9d5sZP8HHZ/gfh7FY2H931rosQaAP4834hYq3vhXbskfZMmjIUEXJ3YytGwUBDBETIFiTJjhXqrxilbzNauWtXh199OTwNK/B9s8/6I19MdKYoemzxLeV9cNJXWtStsXO4ls2QqcctNI2Zek5QYEsIzLQx2eCj9+UyJAnnaVmwgQK5s6klh7D7eF2xe+rBW9tFYf6EJFPqDh95d3yD+tdOBMcc7+N2c1uSGxCeIAPY8ieePHdlmuGp3hM5Nr8JfWb5PUs21Ra9HH0jjcEhorXf3Gw3Dtrx0ZBwASG8fYJmJmzde3dkg/M9n2rp5OCAh633JHmUjUJ5s4MYLxczpvNWhhDOkTE+IW8GPtC//Ue62G3zk/w3s7myKAn3NndKNYt3DsyvWBJ/WZ5XT/btLfoaPSOrGjGQQJExDaVbm9anbPOdudnh/7sByV3127NmRnAeBEzSZCxRlC3V2k4tIAFm/M5xYXHOum6cvvvdDmF4iDrIvUOz9qTQ2+vl5tNyOyp+nXmteRdmeHG9uDiaT6cpyb5+gNBu7clBozsrqezPsD41TPKk4LEmUF+3kReTMCLS5JDW67+nSVy1K3Z4uQ07PyPJQWLQ/x8GMYnQLBxa8YEheLPpsc79jLgfg0CAPwQ3fvwZqXZ3+uUxFFB3L1/nYBd3uNtXVgb+ETPE7d8Wm+Ib3pOH61LmBVu2bH3XrnUEy14YYLpd6+gqdF0psPOgLcRupbdKeZfnKO0f1RcN69g+YQemwn1tJ/viQ7/hbdZRnkCwfVL7SPD2HqutlFIoK3AyT4XkrU02N5+miLDgkY+8QqJ/CVVt9o5/IGryo2LrCM6Xf8teuJxpxfszP9iqK1Hb9pvbGTI6DVutp+/LhDwnKX0b+Mfp+u37M25ciQ2fOrILz48gaC/8+otIqLO1mr6ZWTI8EXMhJAXQnsudYweWWOnWv2ifzlLUWW6BLlSr/RLFvzHLeNCJjJxJe3/1Bj9tJ+taF+cGDuB3OKglfa0n7dY5LpBtrdNefTPQamzphIR3Wy/ZFn4QaGJ38UhAAAgAElEQVTRdO4rp2eCs7242cZcxXD+jdpvmK76DBdw0tdflx6N3p4lMJ0C7a1nafqz5pfCIZGx9PmlkX3/vbNuetCkUdfK3GcTvc8e/VN7r97+m0ss2a4F99MhIlbf0/Sh8vzM+P+yClOdn+DXr7ZTSIDL8a01my2ciUzPf7l++7rXi81CR7sG2w9J6+YULvf/h1tV3Hnpc4s+wSfkhZDrlzoNp6BXQGJuPuftwpS3inVvFoin2EljUuI7ewR1RaUteiIi3cXRwYmLp7mB7qI8JaszeU9WuFmBE6tjKcjP+enGGe9L13v/m8jlbs3A2WkYOSN8ZJlXSOQvqe5qD9lglgF3axAA4Idp3D1P0fCu5+HHNebPbSTf83UCdulvfUtERI9zHLwogJk+S7y56PMr4tSpPfWf9q7eHMkQ/bfZCj1X66i+Li6iyGKzFc52/n9Li69Qxofmd/XMXFMUvxeZdSqc0ds+8t6/NxE3w9GjGf2Vpub4WTttLqtIiaiw/EQQ62Kyo9zq6SRB7L+7unrPMXnxlVnbfjsqomN7OtsFYbYisUF9Z72y7KPqzs6r7TfvEhFRsqP9ftvZREEZti7Oei8qD1Yomjp72q8ZrmiNh+wuO/fRe69qiOpTIg5afCoYtFzLfrX6z0wUFx6tux0bP4Ft+nR/0KLPnqa64aUhMxP9U8+0vBEZybTX/0krfivS3csLB63U7UqnuqL4kYQEG4+vCGWIiP7RWUd1dfGj9pE8spkkLkJimZL5aXJwdOlRdCyR223M0V70nXV/Kqs43Xn1Wntv/+gMMBHxYu8KOWXl8IdLt7fnGgniHN0jaL98NoD/zug1fGI3H2BLZa/H/W7kMY8gjhywXQtupWNegMHiHe/GW9ep07rWtzY1zZm1w3Yjt9tvjLDbwpnIl8TjD8vpjRyBNznWeax4f2RW7TTmv92Kbm5e7SSqWzUqiwJ2wPTjpFmJ84o2fRa/4/dBVhubZfS5tIywmOL34sdTZ+n29sdfPWEWnLh2mhs1lW5vp9VHEidZfvyP6y0UNNdmAHmzRfnhQUVzZ09bp7GTMtS1/W7NBmenITPup3a3tZcBIrdqEADgB+rehzdkFeEYqDRj+Ss3Lrldd/JzIqJw3lRHt8WYyLlJ2rxz7alUX9Gb+M7U0cv9fh5Jc5bUbot1b7TQjKx3lh9dmlsUsCc/dtT332CPcqcsoOC0wJvIzgAcv59H0hdXeync3pWKvv5kddysHNt5Sj5wIWvkzdY3levjz7qY7GiPBwRRXec/iFz76g14dWtBT17mG+WT9qSGjHxHXr/eOn7qSzb22f5BytJPI3f9/n1BIENEdFEescrhfp8IiqSzV29SuOXn+tN58wr12ft2p0/1Y7wsDtlNrI4lGr76HSTTTXW/gCkUwDtyYpXVA6VhjquViZyblCk73RM/54ryI0H8WT86Z7Z06pxk7vwzzVmRj9crbyfm89y+eeqglbpd6STIr96VaCjh/k7lllfjvt52WhLr80RQJMUvqd1q70wQSE7vShjZScu7ESnmi1ccuLBhpFX2Vq2PM5z4brYxu3sZbC9fufQkf9eufYIAbxsZ6PmstOTfxGKOvPST2F0LDQGLX8AUw71tO2Uz2F7/J0p820alM8Gxs54pPTqh4PS2WB/qVWbGOW5w9mrBjXSGC3CQ7W0qXfPSoh7F8eRgl/Zioq/7c3Xsi3a6Dfv9hpGDFj7Yo9xb4vOKmPP7UmXcrtFX/OauK+V7ArZ9Khh1F8m5xwOCKODZD0+kWnXRBuzFspIv4sWLW+T7mqI32r1B0FOVV6jPP/Imbf/88eSd4grxevl/HDGNpHXhNB8RmbUz+ejyvKJJu/LNImS252r7zGdtRMy3z+Yt2qJfd2B3eYgfQ2Re13a6NducnYa3+nXm7ZkdJPJylgFypwYBAH6w7teb0wpPW7wb7VofvfjH+7Ij/bVq+drCs0Q0KTljnpMRXOGzV9MnZyrOKmlhdIjVfc2AkBcCzp2/5PZrZJiAeTuOpNzask7eYr7tJM6tz7cXU052nKNwKSDshYD6uvNmw6v06rq6Sc+aZk30VH9YF/9LgZvzM5wma8Ur5Nk5dLbJbOj+YHvTnyk+zN79UU742vd3h59M2aIced3WzUt1bbN+McV65fb6P3UKUlYbYxvDFB3jfp8Oirbcr8GTT4d419WpR11b6Zu+qL6blCYO9TM+e/lH53k7+XOm/orGLN2WuiZT4YSExfbUtnTavo/rUrWGz17d+2l9S/3JM68ssRp7FjBrkUBxrqmlXqlNmuv2sxuHrTTg6ZDxlpXuBu+gxFcS71Zd6iSiJ0NemHTmfIsbw6hc4nYbs6OjXnlNkLzSGNsY78QPu67c/nbP6i05Obn59Lvtw+/0CwmPpz83tZtVa3vTWZrzrGHfbJNy//jEaJvX01cOFR4MynnD1bsedmvBzXSIiLwYP754yXOdTW2jB005OcG7qo/Wx891d1qXgcMW3vPZ9uK/r87ZmLP5LSqSKnvsnCYBnFvVbxfTm9nujr0kIvIKCYnr+VJt54lPf0tp0dGQgpycN/JjvygqtfXnmomItRyNxhjGqq379Uh7cHyaW2Imxe84lHyr0GIyz5UmZUB4kHV4qW86U92/JO0VQ2hBNNjTqTYts92t2eHsNGxXm/0568H2li+Mp5KjDLhcgwAAP2j38e/emEc49/51AvVFcRGGN6LmVVy5SxNic95Nj3T6qH1qdCKVy/f7JcfZumkXmpg+XblpXUlTl15/W6+/3dvZqDR/26YDAQnv7JtZt8b8Wn/ClweluuyNiU5upU8VZ82pK5Qo2m+yNMj2tinyflcX/4Y4hIgG2Z7PSmX/k7wkgvS39frber2OJWJ1t/Ws0+8kB8na5hO7MmP83rzicz16llh9T93OvJLxGcmOLsaY8MxdOVS8fncLS0SD+qYPK86/khhtY4uAoHA633S+p59okO1pLJEdv2WaJeUXn5o8fm9e8eedvYYyP9fSQ0Re4eI3BXW/yyu/2KO/rdff7mmpb9eTz6TgAFI3tfQaDkpZdKDJvTlJw/xI+dviui49ayocwdpEQ+H4vLgiVV+86bfK9puGZtDT/vnZluHrCFeqNTQ6sVe25nd1S2bbiF/8ZsbHflYmO0urZ1v+Sdm7OmMt39Zr+1li72rNfx1J3H4rnSbOmVlXKClvMSzqaqm74uqsffZmu+Ij5fiEZ4OIyCskce0Lys2vlzQaCl/fe61JWW9zWL9bxtDGbJkUFE7nm9Q97CBRf0/TXplyuDUN9ijfLu5ZtTV1KtGkxKw3dUW5CsMlrE9scsb4kryddcZ9nyvO2zs+Y2WsDxGrbzn0tmJW6pwAvaFItXdZYvu1+n6iwR7lnhJal57o+iQWm7UwhnSIiNX3nKs4etHWBHQHJ3h/T/VemX7ZkmfJ2H50d4nu6vQuTvtx0MINoaM0NcSLAhZk5eiK8o7ZDkJ8ag8W9mVnzXPzhSimrWOXp+rf3lRU1d5rOAW62qtPG05BtmVf4dGQbTlxPuQdmZ4bfTRLbuO9xteVv153aYnMYqoM81zWrjep2HQTyslpbm1UgNSlLKsMsfk94vPzpwPoUtPFXnaQ2N52pbSsafgFD7a7NTucnYYBrWV5H7X39hP1G06l1CUzfZxkwG4N6s9K+BELK77v/DoAgEfDfRmcNswwGq1Wc/9eJzDeb6pg1sIlyQmRAa7cCPcKiV4YUFI7NzrQ5mK/+J2fPX5IVrImruXmXfL2C5kxN/1NF3PChGfuytm4aP3up49sCGeIqK1Fv+6I3ZmvI3xif/vZ7vekea8Wd94mnymxK+SfpUb6EBFdLp3/m2oiSokrN99gfez1/OpdiWNO1p6pqUcUfvJtKXEbeu96+4XPyzh+KNHGW4nMeQUkbtvXuXzNr58ujz2dXHwrefdemw8kfGI3/nH1b7csEuTd9fYTrNxW8PtfUOwlwzLmuawDHwQUy9fM29J7l3yCXszaNTOciAISdh2fIJcXLY25pidvv/BXtu2OppBXduXfLMyMK9GTT/jirIJt+QHiUiclYVNv7Oa9QXUFCzdd7L07IVz85ocjl2JMeMah40/vK8l7tajzNtGEoMjoJVkvmjZ0qVpD5qwMKfngv+Kn2Vo4IXZJQuHr51bnjHpW8NH6mI/Mf29aGlts/mtcROeBC1nhDlqpV0DizuOP75YXrozpvE3jnwxPLtgtcJRPs7k33n7h83I+ND1b8Ju367MnKmR7U+Iu9t6l8X5TBXPX5To+ZpeMoY1Z84nN/uPqwvxFUVvujn9SsLqoYHcwxbQSEfV8sr3o76uP7DRedAYtLsipXlR4LPLAK0HkFZJ66Ljf7wtT4tf39o/3ey4xQ3EkMZiIequ3pJRcI/rN/GrzvTQvjblxoDbsaLFavGO7K0OYTGzVwrNnS91Ix2zujc+U2BV/3DdqZJqxFOyc4C375ud9TkQpcfvN118f05V/erezuy1kv4UP9iilRT2rjuwytFuvIHFhzsmFhQr+AeuV2y/rMz609U4z1zDTMo4oni7dm7dQ0qkn8pkSKXg1K5aIbSrNqwzZ9qmxlTLRWTvmxWz6vaA212yKfH+LfF0xvXncOlcBCe/su7p0zZag4zsTAxyf5jZz9VzWrjfXL1onf/pNSklXxr51YIHN75Gpy3dJtIXZcSW3yWeaOOs37+RPShrupGx2a/Y4Pg2DVhUk95ateels5+3xfjNX/3F/qnEqpL0MOKrB8T4+zHi8ZwAAPMVPhoaGHC0u+gkRDeU7Wse4pqthgF1Db3/fFDzNRXlEeZDVFUmLPKIsaHjKBIzBRXnEKrKYfvBAsXXSqNKg40decWdQ1k3l+vjOtIeWZw/Wq8yM60y9kPWc5adV6+OupplPIvqhaHk3ouxpi2lLRPY6E/iB6lVmxp2Ns6plAIAfDccRyn0cnAYANtw+qzwWnhjt5oQTAAAAAHDBvQlvLl6nKb7fK4UpvnTxuvPVAH64WJaov7P67dK6xWm2h7UAAAAAwPdzzwanHWimwtN0rW8smZjiSwVxlDLd+ZoA98DDGZzWW70hLu/ceL852fveEgfhL04AwBhhcBoA/Ng5jlDuWXhDRBev03Njeon+mDcEAAAAAIAflQc392bMIQpiGwAAAAAA+P7wagEAAAAAAPAQCG8AAAAAAMBDILwBAAAAAAAPgfAGAAAAAAA8BMIbAAAAAADwEAhvAAAAAADAQyC8AQAAAAAAD4HwBgAAAAAAPIST8EY4RUhEBy4deABZAQAAAAAAcEB1TUVEwqeE9lb4ydDQkIPtD1w68Nonr93rXAEAAAAAAIzR+wveT3k2xeYiJ09vXnzqxfcXvO8gPAIAAAAAAHgwpkyYUhBTYC+2IadPbwAAAAAAAH4o8GoBAAAAAADwEAhvAAAAAADAQyC8AQAAAAAAD4HwBgAAAAAAPATCGwAAAAAA8BAIbwAAAAAAwEMgvAEAAAAAAA+B8AYAAAAAADwEwhsAAAAAAPAQCG8AAAAAAMBDILwBAAAAAAAPgfAGAAAAAAA8BMIbAAAAAADwEAhvAAAAAADAQyC8AQAAAAAAD/FwwpvOv2xNKy1R//dD2TkAAAAAAHimnwwNDT3gXXaq1i07V9JANJGz42TaRt7/fsD7BwAAAAAAz/Sgw5vh2MZg4jMX/vEK70FmAAAAAAAAPNUDHZx2+y9vmcc2RFHrnvnFg8wAAAAAAAB4sPsQ3nSf3CSblfbpV3csP779l7fm/nmreWzzu7kn8yJ+eu8zAAAAAAAAP0rj7nF63SfXHZlXcofoQuz//L+z5Qm/MIQvtmOb6RPu8d4BAAAAAOBH7B7PvWk49JP/vDr828Slz50tT/jFHcQ2AAAAAABw/93rVwt0H1l2YNmR/zf8+8SlkxZ1Xi9BbAMAAAAAAPfbfXhz2rUjyw6ZRzjmENsAAAAAAMD9ch9eLTBl6eHlh5faSBixDQAAAAAA3Ef358XQNiIcxDYAAAAAAHB/3be/e2MR4SC2AQAAAACA++4+zL0xd+3IusrjQbGHN+Lv2wAAAAAAwH12n8MbAAAAAACAB+W+DU4DAAAAAAB4sBDeAAAAAACAh0B4AwAAAAAAHgLhDQAAAAAAeAiENwAAAAAA4CEQ3gAAAAAAgIdAeAMAAAAAAB4C4Q0AAAAAAHgIhDcAAAAAAOAhEN4AAAAAAICHQHgDAAAAAAAeAuENAAAAAAB4CIQ3AAAAAADgIRDeAAAAAACAh0B4AwAAAAAAHgLhDQAAAAAAeAhXwxtts0K6dj5/GpfL5XKni5ZvKmu4cV8zBgAAAAAA4J6fDA0NOVuHVcuTlu1pY0d/Hpx2tCp3OnN/MgYAAAAAAOAe509v2GZZ1p42lih4Rbnqskaj0bTVHsqYzhB1lL0mVfU/gEwCAAAAAAA45/TpDavKD009TDQ5u+pMRtg408ffVCTFStRECbvV8rmsYhU/t9bGxmlHNbkk5S4pM/uM8Q8VLliTnT0/2PTch+04IZPtVtRodOTtz3s5u3CTOIxD6mJu0n4baQq3N5Yn+bt9oAAAAAAA4OnGOVuh7cLHRESBrwjDzNd9Sijmk7qRqtSt8rnBj00MDZ1GRHe7L3foiJiJoVx/IiJ/L6JBwwaBwhUJYRy2q/GTmuaasg0q1lctETBE1Lo3IWFHB3n7h04LJa1GfTg3obG78kQ2+RnSJK2mTdtP5BscOnk8ET3hfW9LAAAAAAAAPITT8IbYfiIirv8Tlh8/8QSXqJFI06WlKNG2EyIiIrWUm1RGFJX13sgDlmbDf1zR69niiUQ0R8pNKiO2S6sj8qe+qpIdHUSB2UdUGdOIBjoqXhFJ1CUHz6TJV584sZqItMZHQ0nFJ3J49+qwAQAAAADA8zgPb+4RTc0fZd0c0n2lUBAxoRnrRP5ERFdaa4iIHu/4s0z2ZyKiLiIiUn/TRRT2oPIGAAAAAACewGl4M54zmaibNNpvicxnvHz7rYaIiLiBrs2D6VIdLFEZfvT2F0ZHPD6eiEjb3UFEROqqPWqLtb+761KqAAAAAAAAJk7fnBYcEcsQUddHqtYBs4+/USkaiYgSeC4+YxFK6zUajUbTVpU7Vavan5q8v5WI/CcHExFR2qErGgsYhwYAAAAAAG5yGt4wUYszgomoW5a9VdXVT0TEdjfI3pSqicg7WTyL494OmeBgLhFR15VuHRFNDRMREVWUKbuGV2G7O7qs/sgOAAAAAACAYy7MvQlNk236YvEOdcfBVOFB8wXBae/nRrn6Vz0Nc28Mb04jIiZhdhSHiHwTcrd/otqsUm0W8vaFTvYm0mrabkRJ68sDJ7p9MAAAAAAA8GPmyqsFmLC1lbV8Rdm+ik/qjO9ojhIuztiUFuVGBDI894bxDxUtWJOdPdf42Ccwqbx2Ytm23WU1zW1tRMzEUNFqcYSv+4cCAAAAAAA/bk7/rCcAAAAAAMAPg9O5NwAAAAAAAD8MCG8AAAAAAMBDILwBAAAAAAAPgfAGAAAAAAA8BMIbAAAAAADwEAhvAAAAAADAQyC8AQAAAAAAD4HwBgAAAAAAPMQ4p2toK1P5m1XDv3K4UcLFadnLhIHe9zFbAAAAAAAA7nIe3hAR8SVVexYEEhER+09VydpUUWtp47sizv3MGQAAAAAAgFtcG5zGME/4cji+HI4vx5+bIClKY080XGDvc9YAAAAAAADcMda5N96cxxjTz7pWRX4Sj8vlTuMn5Ss6+k2fN0u5qxRd31RJlvBDuVzu9KSsw2rdgHGhupjLLVabJ6mtTOWuUmjJIln+NC6XG8pfIlH8bTic6lIsC+VtUenGmHUAAAAAAPBMroU3LPttn07Xp9P16bSaKkm+QlS0mGdYNNBakpRQ7rWuqk2jaT62zqs8YUPVSIjSVJ6e3yp8+5T6clvj+wt0xUmrjnS4tke1LCmh3GvdsXNtbZcbj62h8viEkjbjMp2O2EE8PAIAAAAAAAuuhTeNkoTpPN50Hm86jz9723crDxXPN8zEId2pMhmbLcsTBjJETKBwfYbwjEzRZtqwn52zKVf4FIfxZvynJcu3idTvHFMP2NvNCN2p/SXeuSV5wkBfhvHmBM6SyLJY2b4aHRFRcNqJtrbtmPkDAAAAAAAWXAtvYqSNGpPm8qiWbP6yio4BIiJNSxXF/2fY8BsKfEOjpnVduDL8/EYU8YuRZDiRQmF/x9e3nO+wtaWG+M8Hm734IIwvohMXNC5lFwAAAAAAfoxce3OaOd8wcVFuW2jqsebkXL72678R1SZx91usIhwc+fmnDvawf/SGFCMiIiJtl4aEcye7nTcAAAAAAPgRcz+8ISLmMYaoo1tL5B/IpcDIKtXaMDurst+xRMMvIRggixkzqys1Obzh37SVqfyThh/9A7mk6ugm8h9L9gAAAAAA4EdpTG9O6+vqIiZ4ij8RhYWLus5c6LA7nUbV+reRX3RqVcPkiLCJzvcQxkug6r+0miXb2lhD8yO4Y8kuAAAAAAD8KIzhzWkq2a9yani5i58jIuLMXp2hk2TkKVpvGFboaj1Rox5+Z7M/HdsiUX2jYwdY7eWKrC0q4QaxvQc95jiz07IZWfZWVZeOJVbXdUaSLWey1xheJ9BRNpsburkGL4YGAAAAAABzrg1Oa5QkTJcYf/YNFiUV16xPMM77Z3jZyprgXbLsl3I7+oh8g6OEy3NnmzbUiiQHuao3Z6c3a1lfXnJBVe7Lro03GxeWoazxL85ZHJ2q7Wf8p4uzq6vEzxiWMRx/hvFiHCcAAAAAAAA/Nj8ZGhq6X2k3S7lLqFKTy3O+KgAAAAAAwPc1prk3AAAAAAAAjx6ENwAAAAAA4CEQ3gAAAAAAgIe4n3NvAAAAAAAAHiA8vQEAAAAAAA+B8AYAAAAAADwEwhsAAAAAAPAQCG/uj2Ypd5VC62gNtZSbqrjxoPIDAPD9sdqO5qoKuSQ9cT4/qaLjYWcHAADAmvPwRluZyjUTGj1/+aYy1TesKyvzZi/P2q/q6r/Xub4nbihSRwUY3TW5s0NTK7seWpYAAB5NAzr1/uW80Jjl73zR/b9DxZuKj+0XBz/sTAEAAFgb5+4G7I22ho/bGj7+XHKqMplraw2+pGrPgkDDyv9UlaxNFbWWNr4r4nzPnN5v/Wrpqqxv19SUJwU+7KwAADxaOo6sSjr2f8rrDwknPuysAAAAOOTy4LQYaaNGo9Fo2k5JhEREakW9nYEJDPOEL4fjy+H4cvy5CZKiNPZEwwXbD3seGQNdig3LVLGHSxHbAACMwjYceqctOS8XsQ0AADz63J57w3DniGKIiDS9ele38eY8xph+1rUq8pN4XC53Gj8pX9ExPG6tWcpdpej6pkqyhB/K5XKnJ2UdVusGjAvVxVxusdo8SW1lqsXkFl2rIj+JP43L5Ybyl0gUf3MnnBrQNexIk5CkbBOPMftY16YwZsYiq7oG+XLRdMM4vaSs/Q3aAYvEtHVlWUv4oUvKqDY3Jnp+enFVx6ixeTcayjYl8acllZEqN44/f620yjy3zVIuV2p2qLqaDaHc4UF01gPqzNe3Wtq6V8TlcqXN5tkrSY0O5XK5vNnpJY3D5adVrOKmVlrMFTKVuVaximtFalEZxl07XG1A27An3VBulrsePgozqxRaIt2JdG5MSav5at9UJHFTFTesat+yhYxuLX01WdO4Fuvb2p2pvFuriofzubxMzRKRTl2RlcQz32JUWY3s12wUJ39JVsVl1naWLHJiKqVRVT+qNkf9OqBt2JPKn8blcnmitSUNDqd5mcqhVVGcPj86lGs8v1ptnCTahpJNxubNnS5K3zPcvB20ECIitltVtmn4vEiVnhke4amWWrZAiwNx0GJttiibZWgzZaKuylTeGkXXgMPsjT7dbHcsNvorstFULBuAsaUoblgdy3RRerGqy6zf0NaVpM/mWZX5qEOzWxq2e6qBLsWaUFGxmh1JwXSkA60l5qNwHRzjsLYGRb9YyGesFuiqMrnCvRanadfhJLMytOxAzGvQ5n5HnZu2T7dRnRJPtFaq6jYueyTONQAAeKjcf7XAN5/X1BIRI44Mtb0Cy37bp9P16XR9Oq2mSpKvEBUt5hkWDbSWJCWUe62ratNomo+t8ypP2FA18mXRVJ6e3yp8+5T6clvj+wt0xUmrjrg2c5VVy5ISyr3WHTvX1na58dgaKo9PKGlz8XhY9Y7Fy88KD78rDhxn/qls8fxyWnOs8XJb27lj67zKRYklrQNExAmbt7HkU7W6Wd14ZGPgn1NjNtXohjcqFvGLNFFvnWh8L434kmPH5XMG9yckStWmKwa2WSqKlmj4hSfqy9MoSnL0hHwu7V+UIG22HY+xtbKs7lCei4cyiqaioNSHN23kA93JrJi1F4R/aNRoNLU7oy6sXi5TO40D/cXvaTQajUZTmUZCab3h51xbWYqSnFCrm03/9iWbLdJWpcektkTJPlW3XVaf2hl1YXVM1kmdxdamx4ON24WGDzizxcndx1SXR1bpqFWo5y6Y4979Y1Ylz+qaapVfq90RGRtSSZ9Q9qla3ayu2pkh5DKkqylIOvTY2qq2K4Zjb5TG2N/b6krDSpq22vJ5OulSacN9eW6pq9kUk9oiLD+n0VyplUVdSF3mQk1602PBq0ur1RqNRv3+HF3+Ymmd1Ta+/hExuWWn2zQaTdtxSaBq+dqjLk1FY8YRJ15y6JxGc6WtpiCwZk1WxTfuH5Z5i50oLjeU5NG04crS5Lh6KrDN0rR9we+ZTuoxZs9Bf2WrqfByRlpI2lHDz+ViY3MdPnc0bcdznzibmmUqWO3HqTFrL0TtPKW+3Kb+VBbVYt6lmNgvDbs91bhA8buHhWeXpY+eTMiqd2RXDT+pdtwnm2g1rew0rn9fQ8kaw+2n4TCMI0pK7vpI1ToSknWojqlFL8/xN/56h1hjaVSudqFsp+dqhk9M09lUnuRPVoTbjcWguUaJoiQAACAASURBVFyVO1GVuqHi/kyaHNO5BgAAD5XL4U1tLt9wpyxWovL2560uzbBxJ4+IiBolCdN5vOk83nQef/a271YeKp5vHPGlO1UmY7NlecJAhogJFK7PEJ6RKYbjkH52zqZc4VMcxpvxn5Ys3yZSv3NMbX0j04ru1P4S79ySPGGgL8N4cwJnSWRZrGyf1SWCDazmQPqyw5Ol7+XyvC2SrHmvZHxeiWRWIMebYXwDhXmybFZWdkpHRJxneMETORxfDuepqOw/FAtPSCsMh/C3ipz9k6XvScXT/Dn/i4hhnpgYnJBXWcqvWPaO4Sq3o2JL2eStZdKkMH/OY0QM8zP/4Pm5lXuiKl6zdR3c3yDLb8go2vi88wOxMtCl2CoN3F4o/tnwR60V26uE2+TJ0zhExJmWnP06W/KByoVSchHD/Mw4KJHjyzF7YEd0WSE7s6D03eSwiRzGm+M/LVm+TVi1vWL4lq/2WgdZbGBIL0q04ttjtcNrdTT8qU00W+jWJC62USZpzCjcZFGEtndnaEhstmyrOGwih+PLCZwWFcwh+tuFKhIumBXIuDVPjfEPmy2K6u/q6nNnKxe1VUhPCIu3J4f5Eo3jhC3NzmBLDp5xVpNMmCiJF8hhiIgzLTl5GfvXq1YXhOOCo+aHBfoyRMQ8FbU8KUrddculLE0UimcF+3sTjWMCZy9PnabWXHPzGtBGix2rbxTpv+pINT+px5Q9B/2V7abiGuYp4YJYMhbsQKviXdWCd0uTp/lzvBnOxLDk7WZdinOOeiry5uW+J6HCNPO7J12V6auupg4/qXbSJ5vrO5Szrso/84T6iqbteO4TVcuX728lIoYvSv7nMdVXptU0DYrLojmC4eK4pWmM4lrdknBjv055BwrnCUnd7VpLddPYzjUAAHioxvRi6H6t5qvWDnvXbcM3FzUaTXN5VEs2f1lFxwARkaaliuL/M2z4MtE3NGpa14Urw/cKRRG/GEmGEykU9nd87cJXVmtLDfGfDza7+gzji+jEBY3zTRn/4ODA/m7NDctrnYHW1pP0n+FmrwUaF/af8VTVYpWkL0/INx5C1wVVR4zoxcmjdyGcm8xWNrQRUfcFlUYoEo6e3sNEi5L7FQ1WX+2tH0hUicVpP+saw9tXdadk0nHFW+be1dSaPrrReqFbKIwcuQoLniakM60ulNL31dXa0BXDCzMLIDmRQmH3hVbT8I/v+r+liU9YXR8yUQsz6I/HjIFfW0355WTxbHeim4HWsnxVwva0J7otitDO7qi1pcaifRo8EyH2rjn4UatW58b1OqvrajigaJi14MX7MFdB23ahK0YY5Wv6fVxwWAzVXHGrJpnHvKntuv3xpQOs7htV+XvatF/aeUjryGPMz6hL694loI0WOzbXFKkvlQf/oVQ8+kx0O3sO+ivbTcUVA6z2suJgdXCGKJSI6EZrQ7eQF2YWa/tGCWO6LrS5NgTKaU81WVz6vlC1RabWERF9Z/lQy/ExWhFuOSgVT/NnxhHzlDA7U9RRWqMmIiZq8etU8ifjadp6qrxtmVg03Di7v26lsECrs8Cd/TrB3mhVHKoJXjdnDC3VqXtxrgEAwIPm8vdzjLTxPbE/EfU1SJcsL6uTpZZGqAui7DzBMfENExfltoWmHmtOzuVrv/4bUW0Sd7/FKsLBkZ9/6iA7+0dvSDEiIiLSdmlIONfutYxjHEFu1VFKeC2d+2m5+CnTp7e6OkgospfkDUVqdK7K7APhy0REt6410DMbbYyiGEfUzxIR3dA0UPBG6+vdcT8lYtlByw81FQWlUbn/l8fovnbvkIioXyXb3JWtTPAnszHo3RoVqVTR3FyLVdOGf1Jt5nM3W6azmu4JuyVjxHZ3tAnDbRX3NOHiny2uacqNEjCttce+XSE1NDj/8KjgzeVldS9m8/1J39V2sjT/MNGy0Vt3HCko4eeqeYzO4mrE3u7sNCSOSHKclW1dzs8buSAWzrVzKOat9Jnk0v0J/jYWMf7TRRlvFSdPc3L22NPdoaJaFX9UTTqtLF2H6mhJ2WcdHZo2bb+DTbSKVfzcWiIiYV6N/LmRTDpqITfUigP7Kxo13Zc7DMVkKiJuRBKTtU+xOFQc7KXTdl9QFElVFCEatU+bLXYsuiu2StpEcvl0y7K1l71nIsTeWXs+WlyaFEz92q4mhaRYReHGjsV+fzWGPkeVa3bqCfNq0gy1b69PcJHjnoqIiJjpGdnhvPzSBIY6dha2+a9UmT2pdt4nj+Byg83vUIRGhfarvr5BvIkUFrv4iSU1F3KiophW1UffJm8d+V7QtTQ0zJ9TOrpjd2e/dli0xlm5NalmMycf+rkGAAAPlfu3H32j5sRSmYbYb7p0FGX/mtWEeYwh6ujWEvkHcikwskq1NszOqux3LNHw19AAWdwtX11pPvJeW5nKP2n40T+QS6qObiLnebGdwem5ZQWpopdSqbrceMf38cBgUmm6iWxedkwUl2vEpl+6FMuENV5ERI9PiaITX3cRb/TTmQEib4aIaCI3iqq+7ibeqMuRgTtEDONl/olhoE6j0JvI7XEQbINc0pBeIhn12u6J3ChKSFbL7b2iW7i90XyMu7qYm+Tunu14fEoUnfpaSzw7NdTV1cKEvWxzYVjCmlDhqYZcgb/qo2/FWyOMreOZtLLd3Vkb+KF9xOGKxJkZ615RpI/atFshfSdQfk5odV1jb3d2GxLzjGjOL2QVvsWN74o4pFWs4tfYO9ThVjrAahtly2NEXdU1ac9YLurXtlbmLF4qDW6WRNlLx6HHp0TR/GS1Wy9bH2gtSUqoii4vOyIM9CZyVL/+4vc0YiLq71K9k8bflD38Vne7LaSvJisuS/frY+8dDfNniCyKiCMqOJa9ITVhWi7r7c8TpW3MzBbWqSz3aKfFjsXk5J3F3RtXrdo7+fBa0zMRB9njiCRHstN/lRCaxzITeaKUjRuzhElnjOXgoL9yv88RSutN83D6OxQbEvhX5I3bRZyJ3CiqMQQJY+G4pyIioq7KrBydtCqfJCeeSNubXBafJp1alWsM/5z2yUYc/0D6J/vd6APmPGYIeEITUqcKaxpzo/xVx/4plkaORDeq6irR7EKrhurqfh0YaY0DbEdlekK0Rl4vNbbUh3uuAQDAw+b+4LS+hs/PEpHhmYMr63d1ERM8xZ+IwsJFXWcudNidTqNq/dvILzq1qmFyRJgL3/phvASq/ovZ3FZqbayh+RGuXywFJpUeXtadu8r0DoBxYRHzqabR7HVAA61/qaaEcKskbzTUNPKEEf5EFBgl4jXWNHSPWoNVnaxgkqJCiWhylIjXUFM3esIDW19T4S2OGh5aMZnz7QmJhCRb5o7hK5VDLSWSU6LiVVbXDRPDoibXNDyMWbGB4VGBtaoGs9GMuiaVarhyb1xQXRaF2amtwFli4WFVQ7Pq2D+TF5hN9wqcK6ls1mg0GvWp0tz5YU94WW712LdVRRIq2DIySGaY/d0FTxWOakhGbWU5+7mSHHcuccYx/oLly6d3NLRYjbfx9g9bmib+HtNyAsOiAs80XHDrr+X+TXVMI0x93RjbGG+fO+YdKJwnZF0Y5Klr+LyqP3ndCkPwQDTQrWkyTycsbV9jm0ajudxYuSMtavKoeNN+ix0bDi/76HvPf7x4eEq94+wx09LK69s0Gk1bfaV8tUXuHPRXdpuKK7yDxSvEbOUFDRFNDouarFI1md3D6GtQ1QZGhLoWODnrqUa9YuGnhrFqr6UrTN2Usz7ZiOFFJVz+pMHsfQy6toa2aRFc4ykROOcVYcWZBnXtsW+XLRh5dvPNJwdVCQsENs4bF/frknFMcFKauF9xwbpJP5RzDQAAHjb3Xy0wfXmZhoiC09aIbH8DW7w5TSX7VU4NL3fxc0REnNmrM3SSjDxF6w3DCl2tJ2rUw9/s/nRsi0T1jY4dYLWXK7K2qIQbxK5c8nBmp2Uzsuytqi4dS6yu64wkW85krzFcjHaUzeaGbnb6mgGGt6lMOqVi2QbDm2Q5ojXZjDxbcsaYpGprtozJTpvNIepSn+nQmt4LJ10t6V6dZxzV9pQ4b923klW5ista9g4R0XfaDpV8WXpj8uFfG77xA8U5Gd9uTcutbNX23yEi+pe244xs2bqG5PdzR64JfL/Yn/9dbp7YzgUOy/7TWLy6Pp3uu1HhSpdiX1lUUTbPeizGuDDxhijFumWyui5T7TQoau/P24ZGCU3Ona/K2VzReoMlU+UmbE4OI6IBXcOB8oYVYrtvDJg4Z8FcxZ7iz+n1BJ7Lzxp9zuzP+WdubqJVETrcnf/cdWmMLHtrVccNY+tVf0M00KXYIaNN2WK37q+zuq4z5Yeag6PCrfLQr209UqbwDgy0Dr2I/W64Zv/JsuZ1/U92pKanibOjFOmvyRq+MSzVdtQpVIZLT11NFpcrsX4l2uRgHjU0NHWxA0T9XQ3ybQqtjeE62rqqqstdun4i05QGxoXbBJwpwYH01780a9kBYrWtivw9f/l3Z9uMsN9i7WjdK+QmOXxNluWU+jFnz0F/ZbupuIa90VpxUMEkGQo2LHlzgmpLVsVlLTtA7I3Wis05qvm5ya7OI3HQUxF1K9Jf++vyvRbvTWGm55YVkMR0K8dJn2y2n7RNeumbsoZvzE7hNQuGJ/34z1og+njP1hrKmGd6xt7fVSWX6letiCBjG/6OJWK/0+lYN/brCuMJJY54xt6i+3Ou/a1MxA3NPYXXDAAAPHLGMDeWEzxbnJGZkRDq4M1pEuPPvsGipOKa9QnGef8ML1tZE7xLlv1SbkcfkW9wlHB57mzThlqR5CBX9ebs9GYt68tLLqjKtT1gyfogwjKUNf7FOYujU7X9jP90cXZ1ldj4Vcdw/BnGy4VLp3GB4ncPaxKT0nb8R1UOjwnNqKr2l/5mMX+NlvX2572cXaMUG47i68qstRvatP2GYVHHjsUPzwtmeFknaiPLtv1uvqRZS0QJiaHC+auPVSYMz6pnpmefOB1VtqNgfqFaS0SJ80MFC1YfPWZRmJfV+k1VyXYvKhsk83kSy4+SuB3S+nIxEZG6bXLpezG2j9f/5fLafy/bJl/Mb9ayxPiHChdsKnReMvcAR7SjtvwPBdkvSTr6iMMVpe2vzeBziLSKNXyJNq38oINJXBzREnHOSlVGgRt399vU+uwTycFWI/6d7M6bl1tZOblo6/K4LEP95u4Xck/JJE3JpXtc27vZ3BsOV5R2+FDaM9aLGP/pYsnxXFuZqEidXmH+e4NFXQsTjD/4J5TW+r+/bedSvvoGS97+oYIFGwuIiKi7Q03JkkirpDmiLYczcjaKQjewzERhxs7i96YSr8VqrZ9998X2tIK6Dh0ZTt7sqvUuPLMKTSvbrs35FV/WRxxecu620uJAkczpVkaOWqwtuu4rXaEJUU7+/u5kcen7moTX0rnV5eIxZ89Bf2WrqTh8a7XZ3Btvf97LkirTw0DOXHntz0oKNs6WaHTkGyxKKa/9VZQbzwnt9VT9aukqCRXUWPckgUmlhzsSlm3g1pSKAx33yWbCVh875i8rWBSqtjiFTXxFyUk5y89mFJpeD6PeJcw6QURJ/D3myaTyvpE2vif2d3m/9pjNvTGeUCMt9cGcawzH35shy+fGAADwKPjJ0NDQw84DERE1S7lLqNL2H1T54dFWpvJPiowvY7DphiI1ukY0PBz/e1FLuXu49yapRxFbKwmVc2uUycHO1/2x01amxrSmOX/nxw/XgFrK2zr508rkp5yvCw8Qq8oP3Rlcc2KF8TRVF3P3BDeO/pM1zVJuKddRxwgAAPC9jenF0AAPjq6msoK3WIjYxgVsa0uDeFaEx8Y2RPTN//eXqQuEiG0eNX01isM8cQxOUwAAePjGMDgN4IFgWfKijhMFMlWyZLuTsUhARESMsKhN+LAzcX9xk09UPuw8gBmWJWawo6pQplomkSPsBACARwDCGw/Ay9WUP+w83Hvak+n8TSpmYkLu8Vyht/P1AeCB09Zk8rPOMP7zc6tyLF7Czsux1StNz9W898DyBgAAP1KPzNwbAAAAAACA7wdzbwAAAAAAwEMgvAEAAAAAAA+B8AbcopZyUxU3HK2hrUzlFqsfVH4AAAAAAEY4D2+0lalcM7zZy7PkVa32/1KzjfX3q7r672Wm75kbCou8Thct31Sm+sbqL74/OnQ1WdykCg0REQ3oajZzkw47+uvtAAAAAAA/Km4/vdFpGqr2ZCVEz5c12w8D+JKqZrW6Wa1uVp/aK37sWKpoS439gOjhipKcMGZV/WmJ2OdY6ks5NX0PO1P2cETZu//PJytCDYHjfkYuX4I3JgMAAAAAGLkc3sRIGzUajUbTVluZPYuh/raS1+yHAQzzhC+H48vh+HL8uQmSojT2RMOFR/ShCMP8zJhVzsTghDxJWn9VQ8sjmlciCpwrqaxv02g0msuNlUX/f3v3H93EdScK/Ftj74BTBpRY1KFWSBgTagl4jGNeJeiuZ01qgbMWJchKHkZpgwzZ2LQPy7wYYTaInoKc94ycswdBN1h0GwOHyKZJRDHIDXTcBKQsxpOFSCwgLVCRVsdyVkHZOJ7E67w/9MOSLMmyQzfA+X7+knV179y5P+S5M/deKUS4szdCCCGEEEIRE356QxTQda/uU+cCDFr3HndnGi2XnBH9TYSg0/KykqYoaqFU+bLFHZ231mug1lu8N636Z6RiiqJKlPWHueBwOJBrphJWdPg7NdR6ix/ikpUupChKLH1Gb7k66SEKQZIEQGjqWtJ1Jn7LekrTOXpk/3tt9aE8L5RWNtrCAcN++95aeUnoQUutyTH6eeg1UJQhcjI81yyXN3N8siM698spijL0QtL8xIXGiyuuQc5QLjdEn7alKKigw7iunKZC9bKlzZ5w4j572xaldKGyDVjdD6WVLxqsCSU8HHQeN9SW09JGFg4o6fJ19Qfs/uFo9PSZTyxSAM6QJtRlklNx7SHosuiVNEVR4mVKfac7mrM0zYZrpsYYW91+y/qxH4src/97ptpQuZXIa/fGnHLkLJKkn6RpxZ5v6sbTaxibGU2nP1kBJp5vUvFTSQ0xBZq6k1IUs9cZl8rNduXY6oj0iLjoyfKZUEeJvSlhBmlIMxeKqOn0eo/rlcvEFEXRyvp2LpjyQPFtJmXcYaeplKrvin3YzNt3isWRiP73TJpQlNF6SdpIDInrzzLoAhRVa427Z8Tbd4rjmmW6eok/YuzhJt3e4gTtretCnxEvU4727pRtMlxcqXsHQggh9Bcxqa0FcmXMagAA13uu5JdNPN8fCAYDwWAg6PdY9S9b5D+vokNBw06TUmGessnq8nh6OzZNMSs2W0cTOW+ufdnJ/N9u7pLL8atVwWbl+iOZjaB4zqhUmKds6viDy3XJ0bERzCsVJldGMfn/CGc16HNbd+ktFc1VCzM6Zoj/TU3pi6dEP+1w9HLc7w5tW1csBADwW2tLNRdlxt9yrktc9x5Z34bS+GumMG9n7fp/17RtoYmxYZ72Hfum06kykz40athr2bzevbFNV0IApCsocr6iYX8318txf+ho+O4pzQ/ro0/n+F6DfJneI915/Ky5BmT6N463VsCBNYrRIdOw11IrrTpEqA/02H7OwHPmngMNkou1pbUWb9ILmgwzn/yM3O0vm6bT4tF3XKaqSjO8aHVd8XBvbILXFLVvprqeH0Vv9Xg8Ho/HYSiFmjdCr82q/CSflO2wcpHJllyvWR0T5H9TU/pin2xPN3fJxf3WKLuoKd2SMA+TMZz1eDwez1kDk+kZpm48Jbpwpl9hYENnONNKYaYJjzE0zIfTeaNm9N30nTSX6P8nKxdTrd733h4oGJ0kyXPGqkozbOxwXHK5/tCxaYpZ/iOTM7Pr2iS9KV9lDp3nGzXRZ8iereGvE/trtbqLTOtvOdclxyFF0KBcH16ZlmBsm0kVN1si14itJ9nRSuTtttdn1T1FA0Cwq770xT7mlw6Px9OzR9a3YZ2R4wGEqoOhbHXWRKvbo6PTn2qyLkDksm+fjmm6fJ+tc5aoIHoWaetl8jL8siIlTzWYfstxvZzjSIPonUhTT90mM+gdCCGE0J03uZ3TiBmhX5Hvv307abhDryih6RKaLqGl5btv//hQc2X46ifY3WbktcYmRkQAECLmZ3XMaaMlOg4Z5Fds0TFzSCKXEC5Ut+6Wc/+vg8vgwijYfcCUqzM1MSIBQeSSouV6Yz1vfC2Tf6V2fWU4q/Qy+e7AukMTmvE17LS8yjK7D2p/IApNb5MtFAIAXLIYT6/a96pakk8SuaRwobp1N2N9pT3+pjcEHYaa1woPvqpKcsRhr2WXQfTKTtWDSY+bNnT0Y0F7S4157sF9ymj5py4oQSFNCUkBSQpEsvqDzYzVcDSUX3f7traCXW0GpURIzgAgiAeFhZW6zr2y9ucNdh4AIHhmn/6K2vwrrWwOOYMAIGaQc+ia1g7df+jq3xiz+UGGmU/B22kwFLTufHZW5I2g7TUjX2/ULxcR2UAUMNqfMuyrFme6NCaGyJ1FRiZbkoLRx5Ch2l/16j71QiGZS5D5EvUrzcxxQ3u0PfuuuYEMd5bMZdZ47oiBG3bZo3kJb47TSZfU1THtbzuiI1un9bUBebksGtt20PRXTSb9chGZSxACEdNk1PLGtu4M+mKq3pQaz6/QNYYas1DyXGtzBWfoSLJr35g2ky5uYamK7jrFRsf2Dra9oIopAgBn+ytWZnereiEJAORCtfYF3vRrdjLX6ym6gPqFOs/RU9EOE+xub2fkckH0z7T1MmkZtzfycbownyQFJDlHpv1lfFNPco7j9Q6EEELoL+PrbQz9AJHkmQOMLtTxeDyeXrPsolZa3e4eBgDwXLTCyqWS6NW8QCxb6O27Er0FKS8uGk2GXMIwg+5rA+NnxHnRBtInCmMGCRKpHI73Jb2TGy96t9XjucKZf+DS/o0y+Q3gpHxO+y2GWUImvO112r2ltCTmupZcwjC3+pwx80Nu9xqqNrg1B3V0ssvfYLfRkN28reILT8+EQ6NH4FqqNPGPhjIuKJJeJvNyHj8A3OpjPYycSdzDgFgmVw9a7C4AAOd5C79yhSzhRLILGaWM6+ESbjBnlvkUAjZjCzRvlX/hZiNvefqOg1wqGc26WCa+1ee5E7e1x+Fz2m8xtCSmEwhkTKm3L/pQ8zO+H2bNSmwd48ik8dwh3muXQPJoYs2O10mFzEp5e2fksv4y2yHUMPP7w4HDTmcXLF1UOJpctmTpSrBezKBTpehN6ZQXj+YTSFkpw1+9lljzSdpM2rhzVj1XYXu9KzTKCLJvtos1ckk2gM/ZF5+9woUMnHZm/m0RlbILSJkqv9kaHgAE2W5W/YwMLoUDx6uXSZpkexPQjDTt0cftHQghhNBfxuRWpgf7Q//5hDNmjPtZgUT1c51LrOnoVeuk/mtXAXqU1IG4jzD/Nfp6apocHUiMCKVyAADwez3AVBQkiTIh2aREqdddFGuO2tVNobvRrG4ZpQufSKFcqdNtYeKetPg8dihsGDOjaeCGHR5vSHvn+dyenS74mVWVNNeDrLHRq31LIYRkPyCTPjTq7J6XXaA9HvtoKH1B+S3rpbrY661SBUDKc4TsqQA8/1/pkp2aTcDw0GQynxzPttZ7f2ZV5MdE9l1zA7DPUG1xn2SGoo0qZbP52lKVTDS7tzyuUnGK4o5pWhGh+WEZNJ4UKTZKqcbQS7KwXKVr0jHp+0TQZXcoVuxPeHf8TjpruUrd2M4G5AoBb/+NiXq2pxDYcNiA1w2MPO1xY/IZsQEAxi/PJKZMHe8TydrMOHFJZqWi/iDrrVaLgvZTx2lVfSEAwC0PCyybWGs1SZNIJ10XkCg25qnPOOvEErj59uusuql1xqlw0Lj10qZM6ATAxDT0O9HefBbNMh0be4DVaT488dpECCGE7oRJDW8C7NvHAQDoJeKMbrQSMwgA9y0/gFBEgWiJlX1RkuKj/G0eIHq/bxjiVq9v6IzOuQcAf6dG2hV6KRRRwLpvAUx+EcJoXnMBrnr9IBMCADCGs2ZVPsAwH/zIbtygqRexndUxV0X5lAxs13xAx/8Xz3tUBt3X/ECnztDSbfs3tP9Iq/tum6Ei4fY5b2/V22tNeippxPShMZZt27e+XbFZJzpoiFxupi8ooeqgRxX5w3t0HXNmauQcrdduAZ1wzTo8BEAQUyLJXnGPTXZomIfs2IvIjDOfDO8w6h11ppcL497NExWCqPg4WydOES1ls/naUtR+lPfmBWLhqhRtINK0wjgDpQy9yqDxpEjxFUdozQMf9NpbazSbC9hOdZrL/2DP29aKFTsT+/C4nRSAkK2q1uzq8ioqXZbXmVW9QjgdCcoTFQLruQWQ+ro2ms8Qrjly5uOVZxKDcV8YQ8OJG4okbzPjxSWXq9SNu1mPetWVU1Z6lXZONHsKNdcqn+DjuIQcpe8CouUq6ocd9g0Ssss88IKJzv4iMrwZt15qOmMX/PgsmmW2mNA70d7yVeaYbwhLNWObkubDE69NhBBC6E6YxO/eWA3PbbUBQEFNw+rMfnQl4PUCUfioEAAki+Te033ulMtpWOfVmGNxrL2gWJLBf0cJrYCT52KXLzsdNqgsnvhVdND7ERCPz0v8T59NkHMYzY9pzhs/VS5/niSXZc8nTr8XLZKJelh7zCZIwfMsG38uUwsU+97S9DfWGOJ+QYiEiyZ9t7x5fdKLmPShCaaKVu+zbuyvX2/gIjssZVxQfnu3nS6lhQBQIJPTdtt7iUto+LO29lyVTAwAUFyqJrpZe8KPtw672c5IIhPOfCIS+kwv2+S7ayQJQ/JsiaTC+/vejDfxu4MKJLKC+NoP2NkeUbE4dMb+PtYlnz/hNphJ40mPIEXMT9bR3K208zq9b/+aVaxkxl6rj9dJAQDop+oG3mS5nrdtz6mji0MAALIlxZVgc8Qs3Bh2njsJikUZlEOK3pROjzMmn0HurF20ZeZJVgAAC85JREFURBLtvCnbzLhxCdmqao/lLGfvtjLPrgh/zeVLZAU2O/d1do3PoAvkr1jFWGwOO3s0T1MZ97FM6mUSJtnefHabg2aKU4+JxukdCCGE0F9KxsObHp2UCm0bWt/m4kEg1x/QJq61iIrbOY01/v1WG62rWgwAQJZvqAvq65osTl/oA17ncdvobq5C6NimZ28G+WHef6m9fhvLbFZlci1MltdoCaN2F+sN8sAHvaf12lZCuzF0m9XdVk6JG1NtMxC3cxrbun5rF62rGrPp0TAfvMmaf83Rovh12Nn0uh0Mu63e1OsNnQ7X4wwCgFitq2S3NrY7fTxEzkXRqE48lwLVvl8x7PO1llvRt7yW19pkP9cm20lt3NAkRMp9h8vY6s3hHczSFJS3l3X7ojvIrdffqmkKD19Fqq11/btqdJ1O/+AQAMBnfvdpY/Umu/pXOhkBAEBINc2LLJrnjfabwdvDADDE3+Tam+oMDxpifnh0nMzzg/3BSLMJBm4nXEV6jx5ok+q1JWMjk/L1dZ/urNN1Ov2huDed1i7uv2WDJom6UcFuq2+/5OeHgfc52xu3spU6tRgAIOhoM59Xq5ZP/FZ/ho0nNT7oZf/5EEcXJG4aEDXMe980Gj6reW4JhAv8Ng/A3w4E+eHxOmnIQqbKb6jexqqfksVXCSnfqCVatfrT4SbG7tIaCW1NeQblkKo3pSaEjq3hxux3vl6/lWW0q0fLKXWbGT8u/VTdp9ZdB47LVy2PXI5nS1SbZZZN1cb3vJEvN7ulZ8zOGelk0n9JZqW8fZPGRKlWzIkPyKReJiHT9ublTrv9kf0wDRv0tzY0qeYkSzAsXe+Aq21ySqzLZMMJhBBCaIImOjmNEIqZFc+qNUqZKM1/aIdeUaIPvxYUypXNtp8pwsvZCVr7lq3wH43av9O5AwCCQhmzTlceieiX61+n2JfKa3v9vIBW77DqVmd2qy9bUveWTdi8tWqZxj9ICEtU2pNW1ePhPJNCgpiSKrt2fSUdyStZWK5qPqlVjN5ojl9785ND+58RAcQtjRUpzTaBwbBNQXuCkCukf9x6sBQASHlLj/mXO7R/p3cHgKTkNQd66qRJrvCIEl3bDo18vWHeW6GJJZyrYN/B0lS5TR+aFEFvadPXymta5lm30kSagrphqf/ftS4fD4JCubKuo1MRXW1MlGiP/07W1rKjcifnB4AfVYp/sGrDGx0KcSQn2SJFaw910mTaUGrzBAFY6RkZU6XveV4mHG1i42TevlNB74x/6xnK/YrDrAQA4K6I9h1gkkYmaK31ZKGxVVve6A4CkJSM+bHuDi2vGQdZ0drzoGlHQ7neEwRBofwn5p6/l5GhKXA7+2v2H5ZNqK4iqWbYeBLEr72pObRfndhYoz4wMlusAKCUmmLf1pR4DWfNqvy0nTRMotgoNr72t4rFYxIX11lPCg3/UCXd6OdzhfRqre0tVWFm3zQpelNK/pX6Q4Vs/cpazseTtFp/TKeIeeaQps2MGxcWKjRg1Fe0Hox5NiVcbe55uG13a5W0188DIRQzq7bsHJNwGhn1X3K5Sg3W/tUrEr/70n95Tl6m7e1aZ/2Lm13+QSApueqnHR0rJenPJFXvAAAgSGEuAWnmtiGEEEKT9a2vvvrqm85DRK+BegY6x/29CPQN8lk0y2zys8l/HyaEa6aUELfcZdK4ZmpvoePr/K4LSq7XQO2jHAdV8SXLGai9VNrKvat8nZaWQVx3+4/knnqXfmJ3ExBCCCH0Dft6G0MjhNB96ZLN7FHLpTi2QQghhO4xk9sYGiGE7k88DxDk2nYa8/6PbVJzCxFCCCH0TcLhDbp70Vs95m86D/enEp3n4Nh3aR2WN3CmEqVpkKQ3mPevTbadNEIIIYTubnfT2huEEEIIIYQQ+hpw7Q1CCCGEEELoPoHDG4QQQgghhNB9Aoc3CCGEEEIIofsEDm8QQgghhBBC9wkc3iCEEEIIIYTuEzi8QQghhBBCCN0ncHiDEEIIIYTQPcz3zjvfeumdI/3fdD7uDvizngghhBBCCN0TBi+/c2ELG+z6AiArq+IRQYNSWjbrm87UXQaHNwghhBBCCN0DPjn7fln3YPGC2ScW5cJAoOs8P0SMhk7FWVkAgMMbhBBCCCGE7gmXrw/6QLD9OVoGAAAVT8YG5k4dOF9j6jd/Bo/NIH9R/cTaR3MBAEYC9s4PGj4YtA9DkYDc/r+eWPtoLvzxwvK9PrrqyZYlBECwa9+7T93IadtUrnkEAG7u2fHh4UUL+tbMiUn8y+v2C3vYwLHAiA+gYv7slrV00TQAcO966Qo8+0QRd3H7tS8vQ9ba4nkmZeHMrLjj5v9V1lP0/JYlgTWZHDQ2w/mCvWulZflZAB8faXEcW7ykZdqVTSeCXQVzArULZqYoJRzlIYQQQgghdA/IF+QA3D7x/sfJAgOajqGyqgV9a/MrhoPVv3ZeBgDgOYtjad+XZWWFp9fObXjwP6t/ee6IbwQeyauYBoeveAEA+I/O3Miip33ZdfVjAIA/DnR9DmWP5McnnvMwMeXhJXPPvPTX//7crJnX/lR2zB0N22u5YH5g9t5nC48tmHKk98r294MA8Mn7F5/uHVoqp//8D090VebTs3NnZnRQnrM4ll7O2vS8NPDSgu0P3F6+32Hnwwc6Z/+g+gRftOihFjov1dgGcHiDEEIIIYTQPeGxsvl7Z43sOuaYu6vH1Nc/NBIbmLWlatla8Rx68RMNMgI+u315AODTa+a+kTJZ0S+enF+2uEjzk7lNwDewNwBES+eB7+bt6wBwLXB4mmBLSc5vrv75EwCfO3AGcsu+RyQcemrxkqYn5xflkY8teGKTGHy+T32RIN9s0eFnF5Qtnv/02rlNAMduDgDA0Odf+gCmTifzp+fT36frZPkZHfTTa+a+kbX/c15Ffg4QgoqyvIrPA2euRQ70Wc72xidbnpU2yBJGX3FwchpCCCGEEEL3gmlz6rbMXvPhh+ZTf9p09Pwvfjera/MSOjwSyXn4wfBzi2lZAABDIwDe4DEAzZzvhqMTeeI8t+/WbR9kFT2WCxcD3AB8cuW275FHn6ZG8t8NXB7hP7/Ow6zZxdMTDjzyyQcXtr8zcGZg5HJoTBW7n8GDueFnKVkwDcA3PAIA+bJ5Lec/3HK058jJbzesLNIsnjU1K4ODuoLHAHy/5478fjT5pdFXeTOLZ4xfSDi8QQghhBBC6F6Rk7+AblrwP+r6zpYd7W85+/HhsocmkcrMeTOfhj+du34z8G8jT39/1lQKquHGOY8P/ghlJd9JeDgy9KGj7Ejg4UWFJ+rmPjYtx37oxFJf8mRHTZvT0Di7OjIS23N+bt8LRRketGntyl8snvwUM5ychhBCCCGE0L0la6Ykryz0iCYNEbkGwH7zo/Cf/IBrAPLzp+cDwKzvVMwA7vqfL9/OqXj8ISBmLZ09cu7CR32fQxk1OyGZT3yDHBDV5fMfm5YD0H/9I8hMTv4CumlLuUuWc90TuJzJQUXkGoCuq96JFEUifHqDEEIIIYTQ3e/jI/944dzMh8oWfXsmfHn5D949kNUyR5AuxvR5mmJvsf3y9gcGy/JGrr9/Y9dITtvfzAUAgNnF3/vXmouBwDRB9SMA8BBN5ax5NwDw7dNUYjJTp00BGDzx/s0yWU7fOx9uDwDkjZNX3/uOw58KKhY//PAXA2dufgkP5MzM5KDT52mKvaZe16YHhuq+nwf9/VzfUNE6mp5IMeHwBiGEEEIIobvft4vmEcf+xbfmQwCAIgF5+AV6LZV+KhZBq6Tnsj5oOOPeNQxFAvJw7RNrHwlHKXokF97/zz8vygsNHh77Hkm/+zH36EPFidsKwEyZ5MS/fbDp3Q8fPpu19vvivjU3BD3j5HXqdLh8yr2l2w0AsgLBiQ2LizI6KEGr/rpv+oXtdre4xw3ZWU8XfLcl0/IJ+9ZXX301wSgIIYQQQgghdDfCtTcIIYQQQgih+wQObxBCCCGEEEL3CRzeIIQQQgghhO4TOLxBCCGEEEII3SdweIMQQgghhBC6T/x/uznIPduxPvgAAAAASUVORK5CYII=)"
      ]
    },
    {
      "cell_type": "markdown",
      "metadata": {
        "id": "hiCrTomZUY2c"
      },
      "source": [
        "## Задание 4.10\n",
        "\n",
        "Давайте сравним полученный результат с агломеративной иерархической кластеризацией. Реализуйте её также для двух кластеров и вычислите значение полноты."
      ]
    },
    {
      "cell_type": "code",
      "execution_count": 10,
      "metadata": {
        "colab": {
          "base_uri": "https://localhost:8080/"
        },
        "id": "t7-NvMVKb3GF",
        "outputId": "fcad0869-f327-425b-80fd-78106872f990"
      },
      "outputs": [
        {
          "name": "stdout",
          "output_type": "stream",
          "text": [
            "Completeness: 1.000\n"
          ]
        }
      ],
      "source": [
        "from sklearn.cluster import AgglomerativeClustering\n",
        "\n",
        "ag = AgglomerativeClustering(n_clusters=2).fit(X_scaled)\n",
        "print(\"Completeness: %0.3f\" % metrics.completeness_score(y, ag.labels_))"
      ]
    },
    {
      "cell_type": "markdown",
      "metadata": {
        "id": "oo48RFtFa_wK"
      },
      "source": [
        "⭐ В этом юните мы потренировались в решении задачи кластеризации. Мы смогли сравнить два алгоритма с точки зрения внешних мер, а также увидеть, что расхождение показателей внутренних мер с предполагаемым разделением на кластеры не всегда говорит о плохо реализованных алгоритмах кластеризации: несмотря на то что наши алгоритмы предложили разделение на два кластера, а не на шесть, оно было обосновано наблюдаемыми признаками и содержательно интерпретировалось. Поэтому, даже если у вас есть разметка и вы можете пользоваться внешними мерами, советуем не пренебрегать внутренними, так как это поможет лучше узнать ваши данные.\n",
        "\n",
        "В следующих юнитах мы познакомимся с алгоритмами снижения размерности. После этого предлагаем вам вернуться к данной задаче и попробовать улучшить качество кластеризации, уменьшив количество признаков."
      ]
    }
  ],
  "metadata": {
    "colab": {
      "provenance": []
    },
    "kernelspec": {
      "display_name": "Python 3",
      "name": "python3"
    },
    "language_info": {
      "codemirror_mode": {
        "name": "ipython",
        "version": 3
      },
      "file_extension": ".py",
      "mimetype": "text/x-python",
      "name": "python",
      "nbconvert_exporter": "python",
      "pygments_lexer": "ipython3",
      "version": "3.10.8"
    }
  },
  "nbformat": 4,
  "nbformat_minor": 0
}
