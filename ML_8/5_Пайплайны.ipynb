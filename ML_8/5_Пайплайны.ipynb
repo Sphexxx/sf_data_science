{
  "nbformat": 4,
  "nbformat_minor": 0,
  "metadata": {
    "colab": {
      "provenance": []
    },
    "kernelspec": {
      "name": "python3",
      "display_name": "Python 3"
    },
    "language_info": {
      "name": "python"
    }
  },
  "cells": [
    {
      "cell_type": "markdown",
      "source": [
        "# **5. Пайплайны**"
      ],
      "metadata": {
        "id": "GG6xh1wabgf4"
      }
    },
    {
      "cell_type": "markdown",
      "source": [
        "→ Поговорим о пайплайнах: чем они хороши, для чего применяются и как на практике реализовать свой пайплайн. \n",
        "\n",
        "### Как говорилось ранее, пайплайн — это автоматизированный поэтапный процесс выполнения манипуляций с данными, включающий в себя сбор, обработку, генерацию и отбор признаков, обучение модели с последующей её настройкой и проверкой качества. \n",
        "\n",
        "Основные цели использования пайплайнов — автоматизация, ускорение вычислений с использованием многопоточности в Python и дальнейшее развертывание пайплайна для использования в периодических расчетах (сбор данных в режиме онлайн/онлайн-работа модели). Кроме того, пайплайны хороши в случае, когда надо подобрать оптимальные гиперпараметры для всего цикла обработки данных и последующего обучения. \n",
        "\n",
        "### В библиотеке scikit-learn пайплайны реализованы как класс **sklearn.pipeline.Pipeline()**. Этот класс может быть использован для сбора воедино отбора и обработки данных вместе с итоговой моделью. \n",
        "\n",
        "### Важной особенностью применения пайплайна в реализации scikit-learn является обязательное наличие у каждого метода внутренних преобразований **transform()**, а для финальной модели — метод **fit()**. \n"
      ],
      "metadata": {
        "id": "cJ6MAQMebkum"
      }
    },
    {
      "cell_type": "markdown",
      "source": [
        "Возьмём для примера датасет недвижимости в Калифорнии, в котором решается задача регрессии (определение цены недвижимости).\n",
        "\n",
        "California Housing Dataset\n",
        "\n",
        "+ MedInc — медианный уровень дохода в квартале;\n",
        "+ HouseAge — медианный возраст дома в квартале;\n",
        "+ AveRooms — среднее количество помещений;\n",
        "+ AveBedrms — среднее количество спальных комнат;\n",
        "+ Population — население квартала;\n",
        "+ AveOccup — средний срок проживания;\n",
        "+ Latitude — значение широты квартала;\n",
        "+ Longitude — значение долготы квартала;\n",
        "+ Price — целевое значение.\n",
        "\n",
        "Загрузим датасет и посмотрим на него:"
      ],
      "metadata": {
        "id": "Cx_k64aCb53K"
      }
    },
    {
      "cell_type": "code",
      "execution_count": null,
      "metadata": {
        "id": "9--QAR2BaJJY"
      },
      "outputs": [],
      "source": [
        "import pandas as pd\n",
        "import numpy as np\n",
        "from sklearn.pipeline import Pipeline\n",
        "from sklearn.ensemble import RandomForestRegressor\n",
        "from sklearn.preprocessing import StandardScaler\n",
        " \n",
        "from sklearn.datasets import fetch_california_housing\n",
        "from sklearn.metrics import r2_score, mean_squared_error\n",
        "from sklearn.model_selection import train_test_split"
      ]
    },
    {
      "cell_type": "markdown",
      "source": [
        "# Часть 1. Простейшие пайплайны"
      ],
      "metadata": {
        "id": "1tm8UQGp9Ukw"
      }
    },
    {
      "cell_type": "code",
      "source": [
        "data = fetch_california_housing()\n",
        "df = pd.DataFrame(data['data'], columns=data['feature_names'])\n",
        "df.loc[:,'target'] = data['target']\n",
        "df.head(5)"
      ],
      "metadata": {
        "colab": {
          "base_uri": "https://localhost:8080/",
          "height": 206
        },
        "id": "N10AMOxdcBSv",
        "outputId": "ae47a19e-1898-480b-f237-05345e618048"
      },
      "execution_count": null,
      "outputs": [
        {
          "output_type": "execute_result",
          "data": {
            "text/plain": [
              "   MedInc  HouseAge  AveRooms  AveBedrms  Population  AveOccup  Latitude  \\\n",
              "0  8.3252      41.0  6.984127   1.023810       322.0  2.555556     37.88   \n",
              "1  8.3014      21.0  6.238137   0.971880      2401.0  2.109842     37.86   \n",
              "2  7.2574      52.0  8.288136   1.073446       496.0  2.802260     37.85   \n",
              "3  5.6431      52.0  5.817352   1.073059       558.0  2.547945     37.85   \n",
              "4  3.8462      52.0  6.281853   1.081081       565.0  2.181467     37.85   \n",
              "\n",
              "   Longitude  target  \n",
              "0    -122.23   4.526  \n",
              "1    -122.22   3.585  \n",
              "2    -122.24   3.521  \n",
              "3    -122.25   3.413  \n",
              "4    -122.25   3.422  "
            ],
            "text/html": [
              "\n",
              "  <div id=\"df-f248fbef-e635-4abb-b166-0e906a45eb20\">\n",
              "    <div class=\"colab-df-container\">\n",
              "      <div>\n",
              "<style scoped>\n",
              "    .dataframe tbody tr th:only-of-type {\n",
              "        vertical-align: middle;\n",
              "    }\n",
              "\n",
              "    .dataframe tbody tr th {\n",
              "        vertical-align: top;\n",
              "    }\n",
              "\n",
              "    .dataframe thead th {\n",
              "        text-align: right;\n",
              "    }\n",
              "</style>\n",
              "<table border=\"1\" class=\"dataframe\">\n",
              "  <thead>\n",
              "    <tr style=\"text-align: right;\">\n",
              "      <th></th>\n",
              "      <th>MedInc</th>\n",
              "      <th>HouseAge</th>\n",
              "      <th>AveRooms</th>\n",
              "      <th>AveBedrms</th>\n",
              "      <th>Population</th>\n",
              "      <th>AveOccup</th>\n",
              "      <th>Latitude</th>\n",
              "      <th>Longitude</th>\n",
              "      <th>target</th>\n",
              "    </tr>\n",
              "  </thead>\n",
              "  <tbody>\n",
              "    <tr>\n",
              "      <th>0</th>\n",
              "      <td>8.3252</td>\n",
              "      <td>41.0</td>\n",
              "      <td>6.984127</td>\n",
              "      <td>1.023810</td>\n",
              "      <td>322.0</td>\n",
              "      <td>2.555556</td>\n",
              "      <td>37.88</td>\n",
              "      <td>-122.23</td>\n",
              "      <td>4.526</td>\n",
              "    </tr>\n",
              "    <tr>\n",
              "      <th>1</th>\n",
              "      <td>8.3014</td>\n",
              "      <td>21.0</td>\n",
              "      <td>6.238137</td>\n",
              "      <td>0.971880</td>\n",
              "      <td>2401.0</td>\n",
              "      <td>2.109842</td>\n",
              "      <td>37.86</td>\n",
              "      <td>-122.22</td>\n",
              "      <td>3.585</td>\n",
              "    </tr>\n",
              "    <tr>\n",
              "      <th>2</th>\n",
              "      <td>7.2574</td>\n",
              "      <td>52.0</td>\n",
              "      <td>8.288136</td>\n",
              "      <td>1.073446</td>\n",
              "      <td>496.0</td>\n",
              "      <td>2.802260</td>\n",
              "      <td>37.85</td>\n",
              "      <td>-122.24</td>\n",
              "      <td>3.521</td>\n",
              "    </tr>\n",
              "    <tr>\n",
              "      <th>3</th>\n",
              "      <td>5.6431</td>\n",
              "      <td>52.0</td>\n",
              "      <td>5.817352</td>\n",
              "      <td>1.073059</td>\n",
              "      <td>558.0</td>\n",
              "      <td>2.547945</td>\n",
              "      <td>37.85</td>\n",
              "      <td>-122.25</td>\n",
              "      <td>3.413</td>\n",
              "    </tr>\n",
              "    <tr>\n",
              "      <th>4</th>\n",
              "      <td>3.8462</td>\n",
              "      <td>52.0</td>\n",
              "      <td>6.281853</td>\n",
              "      <td>1.081081</td>\n",
              "      <td>565.0</td>\n",
              "      <td>2.181467</td>\n",
              "      <td>37.85</td>\n",
              "      <td>-122.25</td>\n",
              "      <td>3.422</td>\n",
              "    </tr>\n",
              "  </tbody>\n",
              "</table>\n",
              "</div>\n",
              "      <button class=\"colab-df-convert\" onclick=\"convertToInteractive('df-f248fbef-e635-4abb-b166-0e906a45eb20')\"\n",
              "              title=\"Convert this dataframe to an interactive table.\"\n",
              "              style=\"display:none;\">\n",
              "        \n",
              "  <svg xmlns=\"http://www.w3.org/2000/svg\" height=\"24px\"viewBox=\"0 0 24 24\"\n",
              "       width=\"24px\">\n",
              "    <path d=\"M0 0h24v24H0V0z\" fill=\"none\"/>\n",
              "    <path d=\"M18.56 5.44l.94 2.06.94-2.06 2.06-.94-2.06-.94-.94-2.06-.94 2.06-2.06.94zm-11 1L8.5 8.5l.94-2.06 2.06-.94-2.06-.94L8.5 2.5l-.94 2.06-2.06.94zm10 10l.94 2.06.94-2.06 2.06-.94-2.06-.94-.94-2.06-.94 2.06-2.06.94z\"/><path d=\"M17.41 7.96l-1.37-1.37c-.4-.4-.92-.59-1.43-.59-.52 0-1.04.2-1.43.59L10.3 9.45l-7.72 7.72c-.78.78-.78 2.05 0 2.83L4 21.41c.39.39.9.59 1.41.59.51 0 1.02-.2 1.41-.59l7.78-7.78 2.81-2.81c.8-.78.8-2.07 0-2.86zM5.41 20L4 18.59l7.72-7.72 1.47 1.35L5.41 20z\"/>\n",
              "  </svg>\n",
              "      </button>\n",
              "      \n",
              "  <style>\n",
              "    .colab-df-container {\n",
              "      display:flex;\n",
              "      flex-wrap:wrap;\n",
              "      gap: 12px;\n",
              "    }\n",
              "\n",
              "    .colab-df-convert {\n",
              "      background-color: #E8F0FE;\n",
              "      border: none;\n",
              "      border-radius: 50%;\n",
              "      cursor: pointer;\n",
              "      display: none;\n",
              "      fill: #1967D2;\n",
              "      height: 32px;\n",
              "      padding: 0 0 0 0;\n",
              "      width: 32px;\n",
              "    }\n",
              "\n",
              "    .colab-df-convert:hover {\n",
              "      background-color: #E2EBFA;\n",
              "      box-shadow: 0px 1px 2px rgba(60, 64, 67, 0.3), 0px 1px 3px 1px rgba(60, 64, 67, 0.15);\n",
              "      fill: #174EA6;\n",
              "    }\n",
              "\n",
              "    [theme=dark] .colab-df-convert {\n",
              "      background-color: #3B4455;\n",
              "      fill: #D2E3FC;\n",
              "    }\n",
              "\n",
              "    [theme=dark] .colab-df-convert:hover {\n",
              "      background-color: #434B5C;\n",
              "      box-shadow: 0px 1px 3px 1px rgba(0, 0, 0, 0.15);\n",
              "      filter: drop-shadow(0px 1px 2px rgba(0, 0, 0, 0.3));\n",
              "      fill: #FFFFFF;\n",
              "    }\n",
              "  </style>\n",
              "\n",
              "      <script>\n",
              "        const buttonEl =\n",
              "          document.querySelector('#df-f248fbef-e635-4abb-b166-0e906a45eb20 button.colab-df-convert');\n",
              "        buttonEl.style.display =\n",
              "          google.colab.kernel.accessAllowed ? 'block' : 'none';\n",
              "\n",
              "        async function convertToInteractive(key) {\n",
              "          const element = document.querySelector('#df-f248fbef-e635-4abb-b166-0e906a45eb20');\n",
              "          const dataTable =\n",
              "            await google.colab.kernel.invokeFunction('convertToInteractive',\n",
              "                                                     [key], {});\n",
              "          if (!dataTable) return;\n",
              "\n",
              "          const docLinkHtml = 'Like what you see? Visit the ' +\n",
              "            '<a target=\"_blank\" href=https://colab.research.google.com/notebooks/data_table.ipynb>data table notebook</a>'\n",
              "            + ' to learn more about interactive tables.';\n",
              "          element.innerHTML = '';\n",
              "          dataTable['output_type'] = 'display_data';\n",
              "          await google.colab.output.renderOutput(dataTable, element);\n",
              "          const docLink = document.createElement('div');\n",
              "          docLink.innerHTML = docLinkHtml;\n",
              "          element.appendChild(docLink);\n",
              "        }\n",
              "      </script>\n",
              "    </div>\n",
              "  </div>\n",
              "  "
            ]
          },
          "metadata": {},
          "execution_count": 2
        }
      ]
    },
    {
      "cell_type": "markdown",
      "source": [
        "### Определимся с метрикой, по которой будем оценивать качество модели — **Root Mean Squared Error (RMSE)**, корень из среднего квадрата отклонения. Для этого на метод mean_squared_error подадим атрибут squared = False, который позволяет управлять возведением метрики в квадрат. Помимо RMSE для оценки качества модели будем использовать метрику **R2**."
      ],
      "metadata": {
        "id": "oqLAHxNOcMW_"
      }
    },
    {
      "cell_type": "code",
      "source": [
        "def rmse(y_hat, y):\n",
        "    return mean_squared_error(y_hat, y, squared = False)"
      ],
      "metadata": {
        "id": "OrzdL7s1cO8q"
      },
      "execution_count": null,
      "outputs": []
    },
    {
      "cell_type": "code",
      "source": [
        "df.info()"
      ],
      "metadata": {
        "colab": {
          "base_uri": "https://localhost:8080/"
        },
        "id": "QiztQADrcR13",
        "outputId": "89694e93-340a-40ea-9d86-ea1d567a9b1b"
      },
      "execution_count": null,
      "outputs": [
        {
          "output_type": "stream",
          "name": "stdout",
          "text": [
            "<class 'pandas.core.frame.DataFrame'>\n",
            "RangeIndex: 20640 entries, 0 to 20639\n",
            "Data columns (total 9 columns):\n",
            " #   Column      Non-Null Count  Dtype  \n",
            "---  ------      --------------  -----  \n",
            " 0   MedInc      20640 non-null  float64\n",
            " 1   HouseAge    20640 non-null  float64\n",
            " 2   AveRooms    20640 non-null  float64\n",
            " 3   AveBedrms   20640 non-null  float64\n",
            " 4   Population  20640 non-null  float64\n",
            " 5   AveOccup    20640 non-null  float64\n",
            " 6   Latitude    20640 non-null  float64\n",
            " 7   Longitude   20640 non-null  float64\n",
            " 8   target      20640 non-null  float64\n",
            "dtypes: float64(9)\n",
            "memory usage: 1.4 MB\n"
          ]
        }
      ]
    },
    {
      "cell_type": "markdown",
      "source": [
        "Видим, что данные исключительно типа float, поэтому мы можем в качестве предобработки применить к ним **StandardScaler()**.\n",
        "\n",
        "Разделим данные на обучающую и тестовую выборки, используя **train_test_split**: "
      ],
      "metadata": {
        "id": "ctX2GveZcdbH"
      }
    },
    {
      "cell_type": "code",
      "source": [
        "X = df.drop('target', axis=1)\n",
        "Y = df['target']\n",
        "\n",
        "X_train, X_test, y_train, y_test = train_test_split(X, Y, random_state=42)\n",
        "\n",
        "print(f'Размер обучающей выборки {X_train.shape}')\n",
        "print(f'Размер тестовой выборки {X_test.shape}')"
      ],
      "metadata": {
        "colab": {
          "base_uri": "https://localhost:8080/"
        },
        "id": "E8yNiBBfcWA3",
        "outputId": "0b0a2fe6-ae6f-4e7a-f8e9-f9eb6f22dad8"
      },
      "execution_count": null,
      "outputs": [
        {
          "output_type": "stream",
          "name": "stdout",
          "text": [
            "Размер обучающей выборки (15480, 8)\n",
            "Размер тестовой выборки (5160, 8)\n"
          ]
        }
      ]
    },
    {
      "cell_type": "markdown",
      "source": [
        "Обучим простейший пайплайн, вызвав метод **fit()**, состоящий из случайного леса и стандартизации **(StandardScaler)**. На вход пайплайна подается список из преобразований в формате кортежа (название метода преобразования, по которому мы будем обращаться в дальнейшем к нашему преобразованию, объект  метода преобразования). Например:"
      ],
      "metadata": {
        "id": "RdrI2OqbcqZz"
      }
    },
    {
      "cell_type": "code",
      "source": [
        "pipeline = Pipeline([('scaler', StandardScaler()), ('rf', RandomForestRegressor())])\n",
        "pipeline.fit(X_train, y_train)"
      ],
      "metadata": {
        "colab": {
          "base_uri": "https://localhost:8080/"
        },
        "id": "3NMKSHrBcii-",
        "outputId": "d1f4b6b4-96ac-4cce-f606-e1d32fff86c1"
      },
      "execution_count": null,
      "outputs": [
        {
          "output_type": "execute_result",
          "data": {
            "text/plain": [
              "Pipeline(steps=[('scaler', StandardScaler()), ('rf', RandomForestRegressor())])"
            ]
          },
          "metadata": {},
          "execution_count": 6
        }
      ]
    },
    {
      "cell_type": "markdown",
      "source": [
        "Посмотрим на метрики. Для этого сделаем предсказание пайплайном с помощью метода **predict()** и посчитаем R2 и RMSE с помощью функций **r2_score()** и **rmse()** соответственно. Округлим результат до четырёх цифр после запятой."
      ],
      "metadata": {
        "id": "EMAHpfThczBX"
      }
    },
    {
      "cell_type": "code",
      "source": [
        "y_pred = pipeline.predict(X_test)\n",
        "\n",
        "print(f'Качество по метрике R2: { round(r2_score(y_test, y_pred),4)}')\n",
        "print(f'Качество по RSME: {round(rmse(y_test, y_pred),4)}')"
      ],
      "metadata": {
        "colab": {
          "base_uri": "https://localhost:8080/"
        },
        "id": "YHlYo0dKcvIW",
        "outputId": "03bfbf13-623a-4d36-9637-686b7f4214da"
      },
      "execution_count": null,
      "outputs": [
        {
          "output_type": "stream",
          "name": "stdout",
          "text": [
            "Качество по метрике R2: 0.8081\n",
            "Качество по RSME: 0.504\n"
          ]
        }
      ]
    },
    {
      "cell_type": "markdown",
      "source": [
        "Теперь мы можем посмотреть на все параметры в пайплайне, вызвав метод **get_params()**:"
      ],
      "metadata": {
        "id": "zcgsYXYvc8an"
      }
    },
    {
      "cell_type": "code",
      "source": [
        "pipeline.get_params()"
      ],
      "metadata": {
        "colab": {
          "base_uri": "https://localhost:8080/"
        },
        "id": "18qGwgz2c5M0",
        "outputId": "b52034b7-ac9e-434a-b3bb-f209cc026740"
      },
      "execution_count": null,
      "outputs": [
        {
          "output_type": "execute_result",
          "data": {
            "text/plain": [
              "{'memory': None,\n",
              " 'steps': [('scaler', StandardScaler()), ('rf', RandomForestRegressor())],\n",
              " 'verbose': False,\n",
              " 'scaler': StandardScaler(),\n",
              " 'rf': RandomForestRegressor(),\n",
              " 'scaler__copy': True,\n",
              " 'scaler__with_mean': True,\n",
              " 'scaler__with_std': True,\n",
              " 'rf__bootstrap': True,\n",
              " 'rf__ccp_alpha': 0.0,\n",
              " 'rf__criterion': 'squared_error',\n",
              " 'rf__max_depth': None,\n",
              " 'rf__max_features': 'auto',\n",
              " 'rf__max_leaf_nodes': None,\n",
              " 'rf__max_samples': None,\n",
              " 'rf__min_impurity_decrease': 0.0,\n",
              " 'rf__min_samples_leaf': 1,\n",
              " 'rf__min_samples_split': 2,\n",
              " 'rf__min_weight_fraction_leaf': 0.0,\n",
              " 'rf__n_estimators': 100,\n",
              " 'rf__n_jobs': None,\n",
              " 'rf__oob_score': False,\n",
              " 'rf__random_state': None,\n",
              " 'rf__verbose': 0,\n",
              " 'rf__warm_start': False}"
            ]
          },
          "metadata": {},
          "execution_count": 8
        }
      ]
    },
    {
      "cell_type": "markdown",
      "source": [
        "**Примечание.** В качестве альтернативного метода задания пайплайна можно использовать метод **make_pipeline**, на вход которого подаются объекты, которые будут использованы в пайплайне. В нашем случае:\n",
        "\n",
        "```\n",
        "from sklearn.pipeline import make_pipeline\n",
        "make_pipeline(StandardScaler(), RandomForestRegressor())\n",
        "```\n",
        "Использование пайплайна в виде, полученном из **make_pipeline**, аналогично. \n"
      ],
      "metadata": {
        "id": "z8PJA5AGeqbq"
      }
    },
    {
      "cell_type": "markdown",
      "source": [
        "Попробуем теперь обратиться к отдельной части пайплайна. Попробуем вызвать значение **n_estimator** у случайного леса. Мы можем это сделать двумя способами: индексацией пайплайна или обращением через имя, которые мы задали ранее при создании ('rf')."
      ],
      "metadata": {
        "id": "59f8qPH6e2Ah"
      }
    },
    {
      "cell_type": "code",
      "source": [
        "print(pipeline[1].n_estimators)\n",
        "print(pipeline['rf'].n_estimators)"
      ],
      "metadata": {
        "colab": {
          "base_uri": "https://localhost:8080/"
        },
        "id": "Gwu6__UFc_BM",
        "outputId": "8add6ea6-b4e1-48ed-a653-d42a098de824"
      },
      "execution_count": null,
      "outputs": [
        {
          "output_type": "stream",
          "name": "stdout",
          "text": [
            "100\n",
            "100\n"
          ]
        }
      ]
    },
    {
      "cell_type": "markdown",
      "source": [
        "Теперь попробуем задать этому же параметру значение 200. Можно это сделать, используя метод **set_params()**, на вход которого надо подавать конструкцию **<название модуля>__<название параметра>**. \n",
        "\n",
        "### Обратите внимание на **два нижних подчеркивания**, которые используются в качестве литералов для разбиения названия модуля и названия его параметра. Без него компилятор будет неправильно интерпретировать параметр, который вы хотите изменить!"
      ],
      "metadata": {
        "id": "Cg6VEUo9gUWk"
      }
    },
    {
      "cell_type": "code",
      "source": [
        "pipeline.set_params(rf__n_estimators=200)"
      ],
      "metadata": {
        "colab": {
          "base_uri": "https://localhost:8080/"
        },
        "id": "48GQZ6Yke5Hk",
        "outputId": "d42bdcad-5215-4ca9-acba-b2894cc103c4"
      },
      "execution_count": null,
      "outputs": [
        {
          "output_type": "execute_result",
          "data": {
            "text/plain": [
              "Pipeline(steps=[('scaler', StandardScaler()),\n",
              "                ('rf', RandomForestRegressor(n_estimators=200))])"
            ]
          },
          "metadata": {},
          "execution_count": 11
        }
      ]
    },
    {
      "cell_type": "markdown",
      "source": [
        "Данную структуру надо учитывать, когда для пайплайна задается GridSearch кросс-валидация. Попробуем взять 100, 200, 500 базовых моделей и сделать поиск оптимального параметра StardardScaler with_mean (типа bool, который отвечает за центровку данных, приводит распределение к нулевому среднему, по умолчанию — True. В противном случае среднее данных остается неизменным):"
      ],
      "metadata": {
        "id": "WYDHlbGBgzR6"
      }
    },
    {
      "cell_type": "code",
      "source": [
        "from sklearn.model_selection import GridSearchCV\n",
        "param_grid = {'scaler__with_mean':[True,False],\n",
        "              'rf__n_estimators':[100, 200, 500]}\n",
        "grid_search = GridSearchCV(pipeline, param_grid=param_grid, verbose = True)\n",
        "\n",
        "\n",
        "grid_search.fit(X_train, y_train)\n",
        "print(grid_search.best_estimator_)"
      ],
      "metadata": {
        "colab": {
          "base_uri": "https://localhost:8080/"
        },
        "id": "zXrw_RQSgl1z",
        "outputId": "675a9921-129a-436a-fa54-67a46f5a51bc"
      },
      "execution_count": null,
      "outputs": [
        {
          "output_type": "stream",
          "name": "stdout",
          "text": [
            "Fitting 5 folds for each of 6 candidates, totalling 30 fits\n",
            "Pipeline(steps=[('scaler', StandardScaler(with_mean=False)),\n",
            "                ('rf', RandomForestRegressor(n_estimators=500))])\n"
          ]
        }
      ]
    },
    {
      "cell_type": "code",
      "source": [
        "y_pred = grid_search.best_estimator_.predict(X_test)\n",
        "\n",
        "print(f'Качество по метрике R2: { round(r2_score(y_test, y_pred),4)}')\n",
        "print(f'Качество по RSME: {round(rmse(y_test, y_pred),4)}')"
      ],
      "metadata": {
        "colab": {
          "base_uri": "https://localhost:8080/"
        },
        "id": "wnBK_TNag4W9",
        "outputId": "616ef8ee-87e5-4b38-f00d-e6adced75718"
      },
      "execution_count": null,
      "outputs": [
        {
          "output_type": "stream",
          "name": "stdout",
          "text": [
            "Качество по метрике R2: 0.8096\n",
            "Качество по RSME: 0.5019\n"
          ]
        }
      ]
    },
    {
      "cell_type": "markdown",
      "source": [
        "Как видим, качество улучшилось по обеим метрикам."
      ],
      "metadata": {
        "id": "Lha-wrHYmHxq"
      }
    },
    {
      "cell_type": "markdown",
      "source": [
        "# Часть 2. Предобработка в пайплайнах"
      ],
      "metadata": {
        "id": "YZgGeSts9N8h"
      }
    },
    {
      "cell_type": "markdown",
      "source": [
        "При использовании пайплайна для сборки обработки данных в один стек удобно воспользоваться Column Tranformer. Мы разберём его устройство на примере датасета рейтинга красного вина. \n",
        "\n",
        "Для начала загрузим данные и посмотрим на них:"
      ],
      "metadata": {
        "id": "hh69E5eX9Z4g"
      }
    },
    {
      "cell_type": "code",
      "source": [
        "df_wine= pd.read_csv('Red.zip')\n",
        "df_wine.head()"
      ],
      "metadata": {
        "colab": {
          "base_uri": "https://localhost:8080/",
          "height": 206
        },
        "id": "C4lerYYZmE_B",
        "outputId": "e3ed8231-d998-401e-a3e9-fd5a8fa94656"
      },
      "execution_count": null,
      "outputs": [
        {
          "output_type": "execute_result",
          "data": {
            "text/plain": [
              "                                 Name  Country     Region  \\\n",
              "0                        Pomerol 2011   France    Pomerol   \n",
              "1                          Lirac 2017   France      Lirac   \n",
              "2  Erta e China Rosso di Toscana 2015    Italy    Toscana   \n",
              "3                      Bardolino 2019    Italy  Bardolino   \n",
              "4      Ried Scheibner Pinot Noir 2016  Austria  Carnuntum   \n",
              "\n",
              "                  Winery  Rating  NumberOfRatings  Price  Year  \n",
              "0  Château La Providence     4.2              100  95.00  2011  \n",
              "1     Château Mont-Redon     4.3              100  15.50  2017  \n",
              "2             Renzo Masi     3.9              100   7.45  2015  \n",
              "3             Cavalchina     3.5              100   8.72  2019  \n",
              "4            Markowitsch     3.9              100  29.15  2016  "
            ],
            "text/html": [
              "\n",
              "  <div id=\"df-bd5df7c1-127b-40ba-a1cc-4b114b024bc7\">\n",
              "    <div class=\"colab-df-container\">\n",
              "      <div>\n",
              "<style scoped>\n",
              "    .dataframe tbody tr th:only-of-type {\n",
              "        vertical-align: middle;\n",
              "    }\n",
              "\n",
              "    .dataframe tbody tr th {\n",
              "        vertical-align: top;\n",
              "    }\n",
              "\n",
              "    .dataframe thead th {\n",
              "        text-align: right;\n",
              "    }\n",
              "</style>\n",
              "<table border=\"1\" class=\"dataframe\">\n",
              "  <thead>\n",
              "    <tr style=\"text-align: right;\">\n",
              "      <th></th>\n",
              "      <th>Name</th>\n",
              "      <th>Country</th>\n",
              "      <th>Region</th>\n",
              "      <th>Winery</th>\n",
              "      <th>Rating</th>\n",
              "      <th>NumberOfRatings</th>\n",
              "      <th>Price</th>\n",
              "      <th>Year</th>\n",
              "    </tr>\n",
              "  </thead>\n",
              "  <tbody>\n",
              "    <tr>\n",
              "      <th>0</th>\n",
              "      <td>Pomerol 2011</td>\n",
              "      <td>France</td>\n",
              "      <td>Pomerol</td>\n",
              "      <td>Château La Providence</td>\n",
              "      <td>4.2</td>\n",
              "      <td>100</td>\n",
              "      <td>95.00</td>\n",
              "      <td>2011</td>\n",
              "    </tr>\n",
              "    <tr>\n",
              "      <th>1</th>\n",
              "      <td>Lirac 2017</td>\n",
              "      <td>France</td>\n",
              "      <td>Lirac</td>\n",
              "      <td>Château Mont-Redon</td>\n",
              "      <td>4.3</td>\n",
              "      <td>100</td>\n",
              "      <td>15.50</td>\n",
              "      <td>2017</td>\n",
              "    </tr>\n",
              "    <tr>\n",
              "      <th>2</th>\n",
              "      <td>Erta e China Rosso di Toscana 2015</td>\n",
              "      <td>Italy</td>\n",
              "      <td>Toscana</td>\n",
              "      <td>Renzo Masi</td>\n",
              "      <td>3.9</td>\n",
              "      <td>100</td>\n",
              "      <td>7.45</td>\n",
              "      <td>2015</td>\n",
              "    </tr>\n",
              "    <tr>\n",
              "      <th>3</th>\n",
              "      <td>Bardolino 2019</td>\n",
              "      <td>Italy</td>\n",
              "      <td>Bardolino</td>\n",
              "      <td>Cavalchina</td>\n",
              "      <td>3.5</td>\n",
              "      <td>100</td>\n",
              "      <td>8.72</td>\n",
              "      <td>2019</td>\n",
              "    </tr>\n",
              "    <tr>\n",
              "      <th>4</th>\n",
              "      <td>Ried Scheibner Pinot Noir 2016</td>\n",
              "      <td>Austria</td>\n",
              "      <td>Carnuntum</td>\n",
              "      <td>Markowitsch</td>\n",
              "      <td>3.9</td>\n",
              "      <td>100</td>\n",
              "      <td>29.15</td>\n",
              "      <td>2016</td>\n",
              "    </tr>\n",
              "  </tbody>\n",
              "</table>\n",
              "</div>\n",
              "      <button class=\"colab-df-convert\" onclick=\"convertToInteractive('df-bd5df7c1-127b-40ba-a1cc-4b114b024bc7')\"\n",
              "              title=\"Convert this dataframe to an interactive table.\"\n",
              "              style=\"display:none;\">\n",
              "        \n",
              "  <svg xmlns=\"http://www.w3.org/2000/svg\" height=\"24px\"viewBox=\"0 0 24 24\"\n",
              "       width=\"24px\">\n",
              "    <path d=\"M0 0h24v24H0V0z\" fill=\"none\"/>\n",
              "    <path d=\"M18.56 5.44l.94 2.06.94-2.06 2.06-.94-2.06-.94-.94-2.06-.94 2.06-2.06.94zm-11 1L8.5 8.5l.94-2.06 2.06-.94-2.06-.94L8.5 2.5l-.94 2.06-2.06.94zm10 10l.94 2.06.94-2.06 2.06-.94-2.06-.94-.94-2.06-.94 2.06-2.06.94z\"/><path d=\"M17.41 7.96l-1.37-1.37c-.4-.4-.92-.59-1.43-.59-.52 0-1.04.2-1.43.59L10.3 9.45l-7.72 7.72c-.78.78-.78 2.05 0 2.83L4 21.41c.39.39.9.59 1.41.59.51 0 1.02-.2 1.41-.59l7.78-7.78 2.81-2.81c.8-.78.8-2.07 0-2.86zM5.41 20L4 18.59l7.72-7.72 1.47 1.35L5.41 20z\"/>\n",
              "  </svg>\n",
              "      </button>\n",
              "      \n",
              "  <style>\n",
              "    .colab-df-container {\n",
              "      display:flex;\n",
              "      flex-wrap:wrap;\n",
              "      gap: 12px;\n",
              "    }\n",
              "\n",
              "    .colab-df-convert {\n",
              "      background-color: #E8F0FE;\n",
              "      border: none;\n",
              "      border-radius: 50%;\n",
              "      cursor: pointer;\n",
              "      display: none;\n",
              "      fill: #1967D2;\n",
              "      height: 32px;\n",
              "      padding: 0 0 0 0;\n",
              "      width: 32px;\n",
              "    }\n",
              "\n",
              "    .colab-df-convert:hover {\n",
              "      background-color: #E2EBFA;\n",
              "      box-shadow: 0px 1px 2px rgba(60, 64, 67, 0.3), 0px 1px 3px 1px rgba(60, 64, 67, 0.15);\n",
              "      fill: #174EA6;\n",
              "    }\n",
              "\n",
              "    [theme=dark] .colab-df-convert {\n",
              "      background-color: #3B4455;\n",
              "      fill: #D2E3FC;\n",
              "    }\n",
              "\n",
              "    [theme=dark] .colab-df-convert:hover {\n",
              "      background-color: #434B5C;\n",
              "      box-shadow: 0px 1px 3px 1px rgba(0, 0, 0, 0.15);\n",
              "      filter: drop-shadow(0px 1px 2px rgba(0, 0, 0, 0.3));\n",
              "      fill: #FFFFFF;\n",
              "    }\n",
              "  </style>\n",
              "\n",
              "      <script>\n",
              "        const buttonEl =\n",
              "          document.querySelector('#df-bd5df7c1-127b-40ba-a1cc-4b114b024bc7 button.colab-df-convert');\n",
              "        buttonEl.style.display =\n",
              "          google.colab.kernel.accessAllowed ? 'block' : 'none';\n",
              "\n",
              "        async function convertToInteractive(key) {\n",
              "          const element = document.querySelector('#df-bd5df7c1-127b-40ba-a1cc-4b114b024bc7');\n",
              "          const dataTable =\n",
              "            await google.colab.kernel.invokeFunction('convertToInteractive',\n",
              "                                                     [key], {});\n",
              "          if (!dataTable) return;\n",
              "\n",
              "          const docLinkHtml = 'Like what you see? Visit the ' +\n",
              "            '<a target=\"_blank\" href=https://colab.research.google.com/notebooks/data_table.ipynb>data table notebook</a>'\n",
              "            + ' to learn more about interactive tables.';\n",
              "          element.innerHTML = '';\n",
              "          dataTable['output_type'] = 'display_data';\n",
              "          await google.colab.output.renderOutput(dataTable, element);\n",
              "          const docLink = document.createElement('div');\n",
              "          docLink.innerHTML = docLinkHtml;\n",
              "          element.appendChild(docLink);\n",
              "        }\n",
              "      </script>\n",
              "    </div>\n",
              "  </div>\n",
              "  "
            ]
          },
          "metadata": {},
          "execution_count": 15
        }
      ]
    },
    {
      "cell_type": "code",
      "source": [
        "df_wine.info()"
      ],
      "metadata": {
        "colab": {
          "base_uri": "https://localhost:8080/"
        },
        "id": "9_zvIv_l9kgj",
        "outputId": "41685d9b-5986-4cb7-f58f-037b8041452f"
      },
      "execution_count": null,
      "outputs": [
        {
          "output_type": "stream",
          "name": "stdout",
          "text": [
            "<class 'pandas.core.frame.DataFrame'>\n",
            "RangeIndex: 8666 entries, 0 to 8665\n",
            "Data columns (total 8 columns):\n",
            " #   Column           Non-Null Count  Dtype  \n",
            "---  ------           --------------  -----  \n",
            " 0   Name             8666 non-null   object \n",
            " 1   Country          8666 non-null   object \n",
            " 2   Region           8666 non-null   object \n",
            " 3   Winery           8666 non-null   object \n",
            " 4   Rating           8666 non-null   float64\n",
            " 5   NumberOfRatings  8666 non-null   int64  \n",
            " 6   Price            8666 non-null   float64\n",
            " 7   Year             8666 non-null   object \n",
            "dtypes: float64(2), int64(1), object(5)\n",
            "memory usage: 541.8+ KB\n"
          ]
        }
      ]
    },
    {
      "cell_type": "markdown",
      "source": [
        "Например, у нас есть численный признак цена вина (Price) и категориальный регион производства (Region). Для первого надо применить **StandardScaler()**, для второго — **OneHotEncoder()**. Мы можем сделать это следующим образом:"
      ],
      "metadata": {
        "id": "BniQ2ATO9vGv"
      }
    },
    {
      "cell_type": "code",
      "source": [
        "from sklearn.preprocessing import StandardScaler, OneHotEncoder\n",
        "from sklearn.compose import make_column_transformer\n",
        "ct = make_column_transformer(\n",
        "     (StandardScaler(), ['Price']),\n",
        "    (OneHotEncoder(), ['Country']))\n",
        "print(ct)"
      ],
      "metadata": {
        "colab": {
          "base_uri": "https://localhost:8080/"
        },
        "id": "dj9Sk7YA9raS",
        "outputId": "df9b5e32-0e35-4318-de7f-f42b36fb27a0"
      },
      "execution_count": null,
      "outputs": [
        {
          "output_type": "stream",
          "name": "stdout",
          "text": [
            "ColumnTransformer(transformers=[('standardscaler', StandardScaler(), ['Price']),\n",
            "                                ('onehotencoder', OneHotEncoder(),\n",
            "                                 ['Country'])])\n"
          ]
        }
      ]
    },
    {
      "cell_type": "markdown",
      "source": [
        "**Примечание.** Если мы хотим применить, например, OneHotEncoder, к более чем одному признаку, то просто достаточно добавить в список колонки, например ['Country', ‘Region’]. Теперь OneHotEncoder будет работать не только на признаке Country, но ещё и на Region.\n",
        "\n",
        "**Примечание.** Можно также использовать фильтрацию по типу колонок, используя метод **make_column_selector()** из sklearn.compose:\n",
        "\n",
        "\n",
        "\n",
        "```\n",
        "ct = ColumnTransformer([\n",
        "       ('scale', StandardScaler(),\n",
        "       make_column_selector(dtype_include=np.number)),\n",
        "       ('onehot',\n",
        "       OneHotEncoder(),\n",
        "       make_column_selector(dtype_include=object))])\n",
        "```\n",
        "\n"
      ],
      "metadata": {
        "id": "U_r655SN9705"
      }
    },
    {
      "cell_type": "markdown",
      "source": [
        "Полученный трансформер можно использовать в качестве элемента пайплайна, например: "
      ],
      "metadata": {
        "id": "L_jKLBk9-KiN"
      }
    },
    {
      "cell_type": "code",
      "source": [
        "pipeline = Pipeline([('ct', ct), ('rf', RandomForestRegressor())])"
      ],
      "metadata": {
        "id": "9A94SDxC92ST"
      },
      "execution_count": null,
      "outputs": []
    },
    {
      "cell_type": "markdown",
      "source": [
        "Давайте посмотрим на результат работы ColumnTransformer в пайплайне. Для этого обучим его на колонках Price и Country, а в качестве целевой метки используем рейтинг вина Rating."
      ],
      "metadata": {
        "id": "KJdjF62q-OOU"
      }
    },
    {
      "cell_type": "code",
      "source": [
        "X = df_wine[['Country', 'Price']]\n",
        "y = df_wine['Rating']\n",
        "pipeline.fit(X, y)"
      ],
      "metadata": {
        "colab": {
          "base_uri": "https://localhost:8080/"
        },
        "id": "NRmQeqkR-MwK",
        "outputId": "bd8d0c87-d3ef-42b3-9c9d-fc02673526aa"
      },
      "execution_count": null,
      "outputs": [
        {
          "output_type": "execute_result",
          "data": {
            "text/plain": [
              "Pipeline(steps=[('ct',\n",
              "                 ColumnTransformer(transformers=[('standardscaler',\n",
              "                                                  StandardScaler(), ['Price']),\n",
              "                                                 ('onehotencoder',\n",
              "                                                  OneHotEncoder(),\n",
              "                                                  ['Country'])])),\n",
              "                ('rf', RandomForestRegressor())])"
            ]
          },
          "metadata": {},
          "execution_count": 19
        }
      ]
    },
    {
      "cell_type": "markdown",
      "source": [
        "Теперь вызовем отдельно ct и преобразуем X. \n",
        "\n",
        "### Важный момент: при отображении после преобразования ваш датасет будет представлен в виде **sparse-матрицы** (специальный формат для хранения больших, практически полностью нулевых матриц), поэтому надо будет вызвать метод **toarray()**. Так же мы можем получить названия колонок с onehotencoder с помощью метода **.get_feature_names_out()**, обратившись именно к энкодеру. "
      ],
      "metadata": {
        "id": "_aQbn4va-agQ"
      }
    },
    {
      "cell_type": "code",
      "source": [
        "pd.DataFrame(pipeline['ct'].transform(X).toarray(), columns = ['Price']+ pipeline['ct'].transformers_[1][1].get_feature_names_out().tolist())"
      ],
      "metadata": {
        "colab": {
          "base_uri": "https://localhost:8080/",
          "height": 505
        },
        "id": "k3MMtWlM-QEZ",
        "outputId": "8466feb1-9f37-4553-fbba-130d1514d5e6"
      },
      "execution_count": null,
      "outputs": [
        {
          "output_type": "execute_result",
          "data": {
            "text/plain": [
              "         Price  Country_Argentina  Country_Australia  Country_Austria  \\\n",
              "0     0.657648                0.0                0.0              0.0   \n",
              "1    -0.278402                0.0                0.0              0.0   \n",
              "2    -0.373184                0.0                0.0              0.0   \n",
              "3    -0.358231                0.0                0.0              0.0   \n",
              "4    -0.117684                0.0                0.0              1.0   \n",
              "...        ...                ...                ...              ...   \n",
              "8661 -0.266981                0.0                0.0              0.0   \n",
              "8662 -0.224358                0.0                0.0              0.0   \n",
              "8663 -0.178910                0.0                0.0              0.0   \n",
              "8664 -0.387784                0.0                1.0              0.0   \n",
              "8665 -0.368121                1.0                0.0              0.0   \n",
              "\n",
              "      Country_Brazil  Country_Bulgaria  Country_Canada  Country_Chile  \\\n",
              "0                0.0               0.0             0.0            0.0   \n",
              "1                0.0               0.0             0.0            0.0   \n",
              "2                0.0               0.0             0.0            0.0   \n",
              "3                0.0               0.0             0.0            0.0   \n",
              "4                0.0               0.0             0.0            0.0   \n",
              "...              ...               ...             ...            ...   \n",
              "8661             0.0               0.0             0.0            0.0   \n",
              "8662             0.0               0.0             0.0            0.0   \n",
              "8663             0.0               0.0             0.0            0.0   \n",
              "8664             0.0               0.0             0.0            0.0   \n",
              "8665             0.0               0.0             0.0            0.0   \n",
              "\n",
              "      Country_China  Country_Croatia  ...  Country_Portugal  Country_Romania  \\\n",
              "0               0.0              0.0  ...               0.0              0.0   \n",
              "1               0.0              0.0  ...               0.0              0.0   \n",
              "2               0.0              0.0  ...               0.0              0.0   \n",
              "3               0.0              0.0  ...               0.0              0.0   \n",
              "4               0.0              0.0  ...               0.0              0.0   \n",
              "...             ...              ...  ...               ...              ...   \n",
              "8661            0.0              0.0  ...               0.0              0.0   \n",
              "8662            0.0              0.0  ...               0.0              0.0   \n",
              "8663            0.0              0.0  ...               0.0              0.0   \n",
              "8664            0.0              0.0  ...               0.0              0.0   \n",
              "8665            0.0              0.0  ...               0.0              0.0   \n",
              "\n",
              "      Country_Slovakia  Country_Slovenia  Country_South Africa  Country_Spain  \\\n",
              "0                  0.0               0.0                   0.0            0.0   \n",
              "1                  0.0               0.0                   0.0            0.0   \n",
              "2                  0.0               0.0                   0.0            0.0   \n",
              "3                  0.0               0.0                   0.0            0.0   \n",
              "4                  0.0               0.0                   0.0            0.0   \n",
              "...                ...               ...                   ...            ...   \n",
              "8661               0.0               0.0                   0.0            0.0   \n",
              "8662               0.0               0.0                   0.0            0.0   \n",
              "8663               0.0               0.0                   0.0            0.0   \n",
              "8664               0.0               0.0                   0.0            0.0   \n",
              "8665               0.0               0.0                   0.0            0.0   \n",
              "\n",
              "      Country_Switzerland  Country_Turkey  Country_United States  \\\n",
              "0                     0.0             0.0                    0.0   \n",
              "1                     0.0             0.0                    0.0   \n",
              "2                     0.0             0.0                    0.0   \n",
              "3                     0.0             0.0                    0.0   \n",
              "4                     0.0             0.0                    0.0   \n",
              "...                   ...             ...                    ...   \n",
              "8661                  0.0             0.0                    1.0   \n",
              "8662                  0.0             0.0                    0.0   \n",
              "8663                  0.0             0.0                    0.0   \n",
              "8664                  0.0             0.0                    0.0   \n",
              "8665                  0.0             0.0                    0.0   \n",
              "\n",
              "      Country_Uruguay  \n",
              "0                 0.0  \n",
              "1                 0.0  \n",
              "2                 0.0  \n",
              "3                 0.0  \n",
              "4                 0.0  \n",
              "...               ...  \n",
              "8661              0.0  \n",
              "8662              0.0  \n",
              "8663              0.0  \n",
              "8664              0.0  \n",
              "8665              0.0  \n",
              "\n",
              "[8666 rows x 31 columns]"
            ],
            "text/html": [
              "\n",
              "  <div id=\"df-cfe24c45-b29f-415a-b017-c3bf4f6f9d38\">\n",
              "    <div class=\"colab-df-container\">\n",
              "      <div>\n",
              "<style scoped>\n",
              "    .dataframe tbody tr th:only-of-type {\n",
              "        vertical-align: middle;\n",
              "    }\n",
              "\n",
              "    .dataframe tbody tr th {\n",
              "        vertical-align: top;\n",
              "    }\n",
              "\n",
              "    .dataframe thead th {\n",
              "        text-align: right;\n",
              "    }\n",
              "</style>\n",
              "<table border=\"1\" class=\"dataframe\">\n",
              "  <thead>\n",
              "    <tr style=\"text-align: right;\">\n",
              "      <th></th>\n",
              "      <th>Price</th>\n",
              "      <th>Country_Argentina</th>\n",
              "      <th>Country_Australia</th>\n",
              "      <th>Country_Austria</th>\n",
              "      <th>Country_Brazil</th>\n",
              "      <th>Country_Bulgaria</th>\n",
              "      <th>Country_Canada</th>\n",
              "      <th>Country_Chile</th>\n",
              "      <th>Country_China</th>\n",
              "      <th>Country_Croatia</th>\n",
              "      <th>...</th>\n",
              "      <th>Country_Portugal</th>\n",
              "      <th>Country_Romania</th>\n",
              "      <th>Country_Slovakia</th>\n",
              "      <th>Country_Slovenia</th>\n",
              "      <th>Country_South Africa</th>\n",
              "      <th>Country_Spain</th>\n",
              "      <th>Country_Switzerland</th>\n",
              "      <th>Country_Turkey</th>\n",
              "      <th>Country_United States</th>\n",
              "      <th>Country_Uruguay</th>\n",
              "    </tr>\n",
              "  </thead>\n",
              "  <tbody>\n",
              "    <tr>\n",
              "      <th>0</th>\n",
              "      <td>0.657648</td>\n",
              "      <td>0.0</td>\n",
              "      <td>0.0</td>\n",
              "      <td>0.0</td>\n",
              "      <td>0.0</td>\n",
              "      <td>0.0</td>\n",
              "      <td>0.0</td>\n",
              "      <td>0.0</td>\n",
              "      <td>0.0</td>\n",
              "      <td>0.0</td>\n",
              "      <td>...</td>\n",
              "      <td>0.0</td>\n",
              "      <td>0.0</td>\n",
              "      <td>0.0</td>\n",
              "      <td>0.0</td>\n",
              "      <td>0.0</td>\n",
              "      <td>0.0</td>\n",
              "      <td>0.0</td>\n",
              "      <td>0.0</td>\n",
              "      <td>0.0</td>\n",
              "      <td>0.0</td>\n",
              "    </tr>\n",
              "    <tr>\n",
              "      <th>1</th>\n",
              "      <td>-0.278402</td>\n",
              "      <td>0.0</td>\n",
              "      <td>0.0</td>\n",
              "      <td>0.0</td>\n",
              "      <td>0.0</td>\n",
              "      <td>0.0</td>\n",
              "      <td>0.0</td>\n",
              "      <td>0.0</td>\n",
              "      <td>0.0</td>\n",
              "      <td>0.0</td>\n",
              "      <td>...</td>\n",
              "      <td>0.0</td>\n",
              "      <td>0.0</td>\n",
              "      <td>0.0</td>\n",
              "      <td>0.0</td>\n",
              "      <td>0.0</td>\n",
              "      <td>0.0</td>\n",
              "      <td>0.0</td>\n",
              "      <td>0.0</td>\n",
              "      <td>0.0</td>\n",
              "      <td>0.0</td>\n",
              "    </tr>\n",
              "    <tr>\n",
              "      <th>2</th>\n",
              "      <td>-0.373184</td>\n",
              "      <td>0.0</td>\n",
              "      <td>0.0</td>\n",
              "      <td>0.0</td>\n",
              "      <td>0.0</td>\n",
              "      <td>0.0</td>\n",
              "      <td>0.0</td>\n",
              "      <td>0.0</td>\n",
              "      <td>0.0</td>\n",
              "      <td>0.0</td>\n",
              "      <td>...</td>\n",
              "      <td>0.0</td>\n",
              "      <td>0.0</td>\n",
              "      <td>0.0</td>\n",
              "      <td>0.0</td>\n",
              "      <td>0.0</td>\n",
              "      <td>0.0</td>\n",
              "      <td>0.0</td>\n",
              "      <td>0.0</td>\n",
              "      <td>0.0</td>\n",
              "      <td>0.0</td>\n",
              "    </tr>\n",
              "    <tr>\n",
              "      <th>3</th>\n",
              "      <td>-0.358231</td>\n",
              "      <td>0.0</td>\n",
              "      <td>0.0</td>\n",
              "      <td>0.0</td>\n",
              "      <td>0.0</td>\n",
              "      <td>0.0</td>\n",
              "      <td>0.0</td>\n",
              "      <td>0.0</td>\n",
              "      <td>0.0</td>\n",
              "      <td>0.0</td>\n",
              "      <td>...</td>\n",
              "      <td>0.0</td>\n",
              "      <td>0.0</td>\n",
              "      <td>0.0</td>\n",
              "      <td>0.0</td>\n",
              "      <td>0.0</td>\n",
              "      <td>0.0</td>\n",
              "      <td>0.0</td>\n",
              "      <td>0.0</td>\n",
              "      <td>0.0</td>\n",
              "      <td>0.0</td>\n",
              "    </tr>\n",
              "    <tr>\n",
              "      <th>4</th>\n",
              "      <td>-0.117684</td>\n",
              "      <td>0.0</td>\n",
              "      <td>0.0</td>\n",
              "      <td>1.0</td>\n",
              "      <td>0.0</td>\n",
              "      <td>0.0</td>\n",
              "      <td>0.0</td>\n",
              "      <td>0.0</td>\n",
              "      <td>0.0</td>\n",
              "      <td>0.0</td>\n",
              "      <td>...</td>\n",
              "      <td>0.0</td>\n",
              "      <td>0.0</td>\n",
              "      <td>0.0</td>\n",
              "      <td>0.0</td>\n",
              "      <td>0.0</td>\n",
              "      <td>0.0</td>\n",
              "      <td>0.0</td>\n",
              "      <td>0.0</td>\n",
              "      <td>0.0</td>\n",
              "      <td>0.0</td>\n",
              "    </tr>\n",
              "    <tr>\n",
              "      <th>...</th>\n",
              "      <td>...</td>\n",
              "      <td>...</td>\n",
              "      <td>...</td>\n",
              "      <td>...</td>\n",
              "      <td>...</td>\n",
              "      <td>...</td>\n",
              "      <td>...</td>\n",
              "      <td>...</td>\n",
              "      <td>...</td>\n",
              "      <td>...</td>\n",
              "      <td>...</td>\n",
              "      <td>...</td>\n",
              "      <td>...</td>\n",
              "      <td>...</td>\n",
              "      <td>...</td>\n",
              "      <td>...</td>\n",
              "      <td>...</td>\n",
              "      <td>...</td>\n",
              "      <td>...</td>\n",
              "      <td>...</td>\n",
              "      <td>...</td>\n",
              "    </tr>\n",
              "    <tr>\n",
              "      <th>8661</th>\n",
              "      <td>-0.266981</td>\n",
              "      <td>0.0</td>\n",
              "      <td>0.0</td>\n",
              "      <td>0.0</td>\n",
              "      <td>0.0</td>\n",
              "      <td>0.0</td>\n",
              "      <td>0.0</td>\n",
              "      <td>0.0</td>\n",
              "      <td>0.0</td>\n",
              "      <td>0.0</td>\n",
              "      <td>...</td>\n",
              "      <td>0.0</td>\n",
              "      <td>0.0</td>\n",
              "      <td>0.0</td>\n",
              "      <td>0.0</td>\n",
              "      <td>0.0</td>\n",
              "      <td>0.0</td>\n",
              "      <td>0.0</td>\n",
              "      <td>0.0</td>\n",
              "      <td>1.0</td>\n",
              "      <td>0.0</td>\n",
              "    </tr>\n",
              "    <tr>\n",
              "      <th>8662</th>\n",
              "      <td>-0.224358</td>\n",
              "      <td>0.0</td>\n",
              "      <td>0.0</td>\n",
              "      <td>0.0</td>\n",
              "      <td>0.0</td>\n",
              "      <td>0.0</td>\n",
              "      <td>0.0</td>\n",
              "      <td>0.0</td>\n",
              "      <td>0.0</td>\n",
              "      <td>0.0</td>\n",
              "      <td>...</td>\n",
              "      <td>0.0</td>\n",
              "      <td>0.0</td>\n",
              "      <td>0.0</td>\n",
              "      <td>0.0</td>\n",
              "      <td>0.0</td>\n",
              "      <td>0.0</td>\n",
              "      <td>0.0</td>\n",
              "      <td>0.0</td>\n",
              "      <td>0.0</td>\n",
              "      <td>0.0</td>\n",
              "    </tr>\n",
              "    <tr>\n",
              "      <th>8663</th>\n",
              "      <td>-0.178910</td>\n",
              "      <td>0.0</td>\n",
              "      <td>0.0</td>\n",
              "      <td>0.0</td>\n",
              "      <td>0.0</td>\n",
              "      <td>0.0</td>\n",
              "      <td>0.0</td>\n",
              "      <td>0.0</td>\n",
              "      <td>0.0</td>\n",
              "      <td>0.0</td>\n",
              "      <td>...</td>\n",
              "      <td>0.0</td>\n",
              "      <td>0.0</td>\n",
              "      <td>0.0</td>\n",
              "      <td>0.0</td>\n",
              "      <td>0.0</td>\n",
              "      <td>0.0</td>\n",
              "      <td>0.0</td>\n",
              "      <td>0.0</td>\n",
              "      <td>0.0</td>\n",
              "      <td>0.0</td>\n",
              "    </tr>\n",
              "    <tr>\n",
              "      <th>8664</th>\n",
              "      <td>-0.387784</td>\n",
              "      <td>0.0</td>\n",
              "      <td>1.0</td>\n",
              "      <td>0.0</td>\n",
              "      <td>0.0</td>\n",
              "      <td>0.0</td>\n",
              "      <td>0.0</td>\n",
              "      <td>0.0</td>\n",
              "      <td>0.0</td>\n",
              "      <td>0.0</td>\n",
              "      <td>...</td>\n",
              "      <td>0.0</td>\n",
              "      <td>0.0</td>\n",
              "      <td>0.0</td>\n",
              "      <td>0.0</td>\n",
              "      <td>0.0</td>\n",
              "      <td>0.0</td>\n",
              "      <td>0.0</td>\n",
              "      <td>0.0</td>\n",
              "      <td>0.0</td>\n",
              "      <td>0.0</td>\n",
              "    </tr>\n",
              "    <tr>\n",
              "      <th>8665</th>\n",
              "      <td>-0.368121</td>\n",
              "      <td>1.0</td>\n",
              "      <td>0.0</td>\n",
              "      <td>0.0</td>\n",
              "      <td>0.0</td>\n",
              "      <td>0.0</td>\n",
              "      <td>0.0</td>\n",
              "      <td>0.0</td>\n",
              "      <td>0.0</td>\n",
              "      <td>0.0</td>\n",
              "      <td>...</td>\n",
              "      <td>0.0</td>\n",
              "      <td>0.0</td>\n",
              "      <td>0.0</td>\n",
              "      <td>0.0</td>\n",
              "      <td>0.0</td>\n",
              "      <td>0.0</td>\n",
              "      <td>0.0</td>\n",
              "      <td>0.0</td>\n",
              "      <td>0.0</td>\n",
              "      <td>0.0</td>\n",
              "    </tr>\n",
              "  </tbody>\n",
              "</table>\n",
              "<p>8666 rows × 31 columns</p>\n",
              "</div>\n",
              "      <button class=\"colab-df-convert\" onclick=\"convertToInteractive('df-cfe24c45-b29f-415a-b017-c3bf4f6f9d38')\"\n",
              "              title=\"Convert this dataframe to an interactive table.\"\n",
              "              style=\"display:none;\">\n",
              "        \n",
              "  <svg xmlns=\"http://www.w3.org/2000/svg\" height=\"24px\"viewBox=\"0 0 24 24\"\n",
              "       width=\"24px\">\n",
              "    <path d=\"M0 0h24v24H0V0z\" fill=\"none\"/>\n",
              "    <path d=\"M18.56 5.44l.94 2.06.94-2.06 2.06-.94-2.06-.94-.94-2.06-.94 2.06-2.06.94zm-11 1L8.5 8.5l.94-2.06 2.06-.94-2.06-.94L8.5 2.5l-.94 2.06-2.06.94zm10 10l.94 2.06.94-2.06 2.06-.94-2.06-.94-.94-2.06-.94 2.06-2.06.94z\"/><path d=\"M17.41 7.96l-1.37-1.37c-.4-.4-.92-.59-1.43-.59-.52 0-1.04.2-1.43.59L10.3 9.45l-7.72 7.72c-.78.78-.78 2.05 0 2.83L4 21.41c.39.39.9.59 1.41.59.51 0 1.02-.2 1.41-.59l7.78-7.78 2.81-2.81c.8-.78.8-2.07 0-2.86zM5.41 20L4 18.59l7.72-7.72 1.47 1.35L5.41 20z\"/>\n",
              "  </svg>\n",
              "      </button>\n",
              "      \n",
              "  <style>\n",
              "    .colab-df-container {\n",
              "      display:flex;\n",
              "      flex-wrap:wrap;\n",
              "      gap: 12px;\n",
              "    }\n",
              "\n",
              "    .colab-df-convert {\n",
              "      background-color: #E8F0FE;\n",
              "      border: none;\n",
              "      border-radius: 50%;\n",
              "      cursor: pointer;\n",
              "      display: none;\n",
              "      fill: #1967D2;\n",
              "      height: 32px;\n",
              "      padding: 0 0 0 0;\n",
              "      width: 32px;\n",
              "    }\n",
              "\n",
              "    .colab-df-convert:hover {\n",
              "      background-color: #E2EBFA;\n",
              "      box-shadow: 0px 1px 2px rgba(60, 64, 67, 0.3), 0px 1px 3px 1px rgba(60, 64, 67, 0.15);\n",
              "      fill: #174EA6;\n",
              "    }\n",
              "\n",
              "    [theme=dark] .colab-df-convert {\n",
              "      background-color: #3B4455;\n",
              "      fill: #D2E3FC;\n",
              "    }\n",
              "\n",
              "    [theme=dark] .colab-df-convert:hover {\n",
              "      background-color: #434B5C;\n",
              "      box-shadow: 0px 1px 3px 1px rgba(0, 0, 0, 0.15);\n",
              "      filter: drop-shadow(0px 1px 2px rgba(0, 0, 0, 0.3));\n",
              "      fill: #FFFFFF;\n",
              "    }\n",
              "  </style>\n",
              "\n",
              "      <script>\n",
              "        const buttonEl =\n",
              "          document.querySelector('#df-cfe24c45-b29f-415a-b017-c3bf4f6f9d38 button.colab-df-convert');\n",
              "        buttonEl.style.display =\n",
              "          google.colab.kernel.accessAllowed ? 'block' : 'none';\n",
              "\n",
              "        async function convertToInteractive(key) {\n",
              "          const element = document.querySelector('#df-cfe24c45-b29f-415a-b017-c3bf4f6f9d38');\n",
              "          const dataTable =\n",
              "            await google.colab.kernel.invokeFunction('convertToInteractive',\n",
              "                                                     [key], {});\n",
              "          if (!dataTable) return;\n",
              "\n",
              "          const docLinkHtml = 'Like what you see? Visit the ' +\n",
              "            '<a target=\"_blank\" href=https://colab.research.google.com/notebooks/data_table.ipynb>data table notebook</a>'\n",
              "            + ' to learn more about interactive tables.';\n",
              "          element.innerHTML = '';\n",
              "          dataTable['output_type'] = 'display_data';\n",
              "          await google.colab.output.renderOutput(dataTable, element);\n",
              "          const docLink = document.createElement('div');\n",
              "          docLink.innerHTML = docLinkHtml;\n",
              "          element.appendChild(docLink);\n",
              "        }\n",
              "      </script>\n",
              "    </div>\n",
              "  </div>\n",
              "  "
            ]
          },
          "metadata": {},
          "execution_count": 20
        }
      ]
    },
    {
      "cell_type": "markdown",
      "source": [
        "## ⭐️ Итак, мы научились использовать и собирать полноценный пайплайн, узнали о трансформациях колонок, которые позволяют легко и просто делать рутинные задачи типа нормализации/стандартизации и кодирования категориальных признаков. \n",
        "\n",
        "Обученный пайплайн можно сохранить в формат pickle, например, используя библиотеку joblib. Далее его можно использовать после десериализации как решение «из коробки», применяя следующие методы.\n",
        "\n",
        "### **Примечание.** Формат pickle реализует двоичный протокол для сериализации/десериализации объектов для сохранения и последующего использования без каких-либо дополнительных преобразований. Удобен для переноса обученных моделей, предобработки и так далее."
      ],
      "metadata": {
        "id": "cUEwKFzo_QTh"
      }
    },
    {
      "cell_type": "markdown",
      "source": [
        "## **Сериализация** — процесс перевода структуры данных в последовательность битов. "
      ],
      "metadata": {
        "id": "1PySzSs-_mFh"
      }
    },
    {
      "cell_type": "markdown",
      "source": [
        "## **Десериализация** — процесс создания из последовательности битов  структуры данных."
      ],
      "metadata": {
        "id": "onqdpabX_oub"
      }
    },
    {
      "cell_type": "code",
      "source": [
        "!pip install joblib\n",
        "import joblib\n",
        "joblib.dump(pipeline, 'pipeline.pkl')"
      ],
      "metadata": {
        "colab": {
          "base_uri": "https://localhost:8080/"
        },
        "id": "rpGHVw1t-p6y",
        "outputId": "6486cdb5-be50-48e1-98f2-3d282ca9c2ab"
      },
      "execution_count": null,
      "outputs": [
        {
          "output_type": "stream",
          "name": "stdout",
          "text": [
            "Looking in indexes: https://pypi.org/simple, https://us-python.pkg.dev/colab-wheels/public/simple/\n",
            "Requirement already satisfied: joblib in /usr/local/lib/python3.7/dist-packages (1.2.0)\n"
          ]
        },
        {
          "output_type": "execute_result",
          "data": {
            "text/plain": [
              "['pipeline.pkl']"
            ]
          },
          "metadata": {},
          "execution_count": 21
        }
      ]
    },
    {
      "cell_type": "markdown",
      "source": [
        "Как видим, пайплайн успешно сохранился."
      ],
      "metadata": {
        "id": "zlEuK23B_yuG"
      }
    },
    {
      "cell_type": "code",
      "source": [
        "pipeline_loaded = joblib.load('pipeline.pkl')"
      ],
      "metadata": {
        "id": "x-_kxCZcBUir"
      },
      "execution_count": null,
      "outputs": []
    },
    {
      "cell_type": "code",
      "source": [
        "print(pipeline_loaded)"
      ],
      "metadata": {
        "colab": {
          "base_uri": "https://localhost:8080/"
        },
        "id": "3OuqqAIUBWLp",
        "outputId": "64fd9d7c-e719-415b-b702-1ddcfd48690e"
      },
      "execution_count": null,
      "outputs": [
        {
          "output_type": "stream",
          "name": "stdout",
          "text": [
            "Pipeline(steps=[('ct',\n",
            "                 ColumnTransformer(transformers=[('standardscaler',\n",
            "                                                  StandardScaler(), ['Price']),\n",
            "                                                 ('onehotencoder',\n",
            "                                                  OneHotEncoder(),\n",
            "                                                  ['Country'])])),\n",
            "                ('rf', RandomForestRegressor())])\n"
          ]
        }
      ]
    },
    {
      "cell_type": "markdown",
      "source": [
        "### Таким образом, мы можем использовать уже готовый пайплайн, например для проведения онлайн расчётов и постановки модели на постоянный регулярный расчёт. Под онлайн-расчётами мы подразумеваем сбор данных в формате онлайн и получения результатов модели в онлайне с помощью фреймворка, например AirFlow. Это необходимо для раскатки решения, например, на сайте (модель рекомендаций фильмов, схожие товары в интернет магазинах и так далее)."
      ],
      "metadata": {
        "id": "9FqpZhwHALb2"
      }
    },
    {
      "cell_type": "markdown",
      "source": [
        "## Задание 5.1\n",
        "\n",
        "В каком модуле scikit-learn реализованы пайплайны?\n",
        "\n",
        "+ sklearn.pipeline"
      ],
      "metadata": {
        "id": "gNLycqRzAWfq"
      }
    },
    {
      "cell_type": "markdown",
      "source": [
        "## Задание 5.2\n",
        "\n",
        "Какие утверждения о пайплайнах верны?\n",
        "+ Нужны для сбора всех манипуляций с данными в один класс\n",
        "+ Нужны для регулярного расчёта модели\n",
        "+ Реализованы в библиотеке scikit-learn\n",
        "+ Нужны для поиска оптимальных параметров всех преобразований в данных"
      ],
      "metadata": {
        "id": "wtbDf20WAckA"
      }
    },
    {
      "cell_type": "markdown",
      "source": [
        "## Задание 5.3\n",
        "\n",
        "В пайплайне pipeline есть модель под названием imodel, и у неё есть параметр important_parameter. Как можно задать значение 100 этому параметру?\n",
        "\n",
        "+ pipeline.set_params(model__important_parameter = 100)"
      ],
      "metadata": {
        "id": "CN6DSTOGBZd_"
      }
    },
    {
      "cell_type": "markdown",
      "source": [
        "## Задание 5.4\n",
        "\n",
        "Мы хотим в пайплайне pipeline, состоящем из последовательных действий, обратиться к третьему модулю (module_3) и посмотреть его параметр param. Как мы можем это сделать? Выберите все верные варианты.\n",
        "\n",
        "+ pipeline[2].param\n",
        "+ pipeline['module_3'].param"
      ],
      "metadata": {
        "id": "VkBu6CLxBkZx"
      }
    },
    {
      "cell_type": "markdown",
      "source": [
        "# ✍️ 6. Пайплайны. Практика"
      ],
      "metadata": {
        "id": "iE4vHXT8P-eX"
      }
    },
    {
      "cell_type": "markdown",
      "source": [
        "## Задание 6.1\n",
        "\n",
        "Предлагаем использовать датасет, с которым вы работали при создании пайплайна (файл Red.csv ).\n",
        "\n",
        "Вам следует выполнить следующее:\n",
        "\n",
        "+ Добавить обработку столбца 'Region' в пайплайн, полученный ранее в модуле, с использованием OrdinalEncoder.\n",
        "\n",
        "Важно! Для совпадения результатов процесс трансформации столбцов должен выполняться в следующей последовательности:\n",
        "\n",
        "1. Кодирование столбца 'Region'.\n",
        "2. Стандартизация столбца 'Price'.\n",
        "3. Кодирование столбца 'Country'.\n",
        "\n",
        "+ Обучить на тренировочном наборе данных пайплайн и оценить качество модели по метрике RMSE на тестовом наборе (файл Red_test.csv ).\n",
        "+ Зафиксировать random_state=42.\n",
        "+ Сохранить пайплайн в файл pipeline_wine.pkl.\n"
      ],
      "metadata": {
        "id": "8vBeIrw-QD3V"
      }
    },
    {
      "cell_type": "code",
      "source": [
        "from sklearn.preprocessing import OrdinalEncoder\n",
        "df_wine = pd.read_csv('Red.zip')\n",
        "X = df_wine[['Country', 'Price', 'Region']]\n",
        "y = df_wine['Rating']\n",
        " \n",
        "ct = make_column_transformer(\n",
        "    (OrdinalEncoder(), ['Region']),\n",
        "     (StandardScaler(), ['Price']),\n",
        "    (OneHotEncoder(), ['Country']),\n",
        "    )\n",
        " \n",
        "pipeline = Pipeline([('ct', ct), ('rf', RandomForestRegressor(random_state=42))])\n",
        "pipeline.fit(X,y)\n",
        " \n",
        "df_wine_test = pd.read_csv('Red_test.zip')\n",
        "X_test = df_wine_test[['Country', 'Price', 'Region']]\n",
        "y_test = df_wine_test['Rating']\n",
        "y_pred = pipeline.predict(X_test)\n",
        "print(f'Качество по RSME: {round(rmse(y_test, y_pred),4)}')\n",
        " \n",
        "joblib.dump(pipeline, 'pipeline_vine.pkl')"
      ],
      "metadata": {
        "colab": {
          "base_uri": "https://localhost:8080/"
        },
        "id": "VqgnXUQvQpi7",
        "outputId": "1dbd37ac-0b2d-4226-d907-a46a2081acee"
      },
      "execution_count": 37,
      "outputs": [
        {
          "output_type": "stream",
          "name": "stdout",
          "text": [
            "Качество по RSME: 0.0765\n"
          ]
        },
        {
          "output_type": "execute_result",
          "data": {
            "text/plain": [
              "['pipeline_vine.pkl']"
            ]
          },
          "metadata": {},
          "execution_count": 37
        }
      ]
    },
    {
      "cell_type": "markdown",
      "source": [
        "## Задание 6.2\n",
        "\n",
        "Теперь попробуем изменить параметры случайного леса в пайплайне, полученном в предыдущем задании.\n",
        "\n",
        "Измените параметр n_estimators в случайном лесу со значения по умолчанию до 200 , используя метод set_params.\n",
        "\n",
        "В качестве ответа на задание введите в поле ниже полученный результат по метрике RMSE, округленный до четвёртого знака после запятой."
      ],
      "metadata": {
        "id": "Zot0YtMZUSVF"
      }
    },
    {
      "cell_type": "code",
      "source": [
        "pipeline.set_params(rf__n_estimators = 200)"
      ],
      "metadata": {
        "colab": {
          "base_uri": "https://localhost:8080/"
        },
        "id": "78xsuSg0T-8O",
        "outputId": "ed156449-1447-4033-b057-6c1ea2a3a954"
      },
      "execution_count": 38,
      "outputs": [
        {
          "output_type": "execute_result",
          "data": {
            "text/plain": [
              "Pipeline(steps=[('ct',\n",
              "                 ColumnTransformer(transformers=[('ordinalencoder',\n",
              "                                                  OrdinalEncoder(),\n",
              "                                                  ['Region']),\n",
              "                                                 ('standardscaler',\n",
              "                                                  StandardScaler(), ['Price']),\n",
              "                                                 ('onehotencoder',\n",
              "                                                  OneHotEncoder(),\n",
              "                                                  ['Country'])])),\n",
              "                ('rf',\n",
              "                 RandomForestRegressor(n_estimators=200, random_state=42))])"
            ]
          },
          "metadata": {},
          "execution_count": 38
        }
      ]
    },
    {
      "cell_type": "code",
      "source": [
        "pipeline.fit(X, y)"
      ],
      "metadata": {
        "colab": {
          "base_uri": "https://localhost:8080/"
        },
        "id": "I1RhyNBtUViA",
        "outputId": "21fc4a71-9036-429d-d41e-1d06d577c33f"
      },
      "execution_count": 39,
      "outputs": [
        {
          "output_type": "execute_result",
          "data": {
            "text/plain": [
              "Pipeline(steps=[('ct',\n",
              "                 ColumnTransformer(transformers=[('ordinalencoder',\n",
              "                                                  OrdinalEncoder(),\n",
              "                                                  ['Region']),\n",
              "                                                 ('standardscaler',\n",
              "                                                  StandardScaler(), ['Price']),\n",
              "                                                 ('onehotencoder',\n",
              "                                                  OneHotEncoder(),\n",
              "                                                  ['Country'])])),\n",
              "                ('rf',\n",
              "                 RandomForestRegressor(n_estimators=200, random_state=42))])"
            ]
          },
          "metadata": {},
          "execution_count": 39
        }
      ]
    },
    {
      "cell_type": "code",
      "source": [
        "df_wine_test = pd.read_csv('Red_test.zip')\n",
        "X_test = df_wine_test[['Country', 'Price', 'Region']]\n",
        "y_test = df_wine_test['Rating']\n",
        "y_pred_pipe200 = pipeline.predict(X_test)\n",
        "\n",
        "print(f'Качество по RMSE {round(rmse(y_test, y_pred_pipe200),4)}')"
      ],
      "metadata": {
        "colab": {
          "base_uri": "https://localhost:8080/"
        },
        "id": "VV3-bAyjUXBi",
        "outputId": "c87d36a9-040d-430e-d770-cbddc5626ec7"
      },
      "execution_count": 41,
      "outputs": [
        {
          "output_type": "stream",
          "name": "stdout",
          "text": [
            "Качество по RMSE 0.0761\n"
          ]
        }
      ]
    },
    {
      "cell_type": "markdown",
      "source": [
        "## Задание 6.3\n",
        "\n",
        "Теперь попробуем добавить стекинг в качестве модели в пайплайн.\n",
        "\n",
        "Вам следует выполнить следующее:\n",
        "\n",
        "+ Собрать StackingRegressor:\n",
        "1. В качестве базовых моделей возьмите ридж-регрессию RidgeCV() и решающее дерево.\n",
        "2. В качестве метамодели возьмите случайный лес с настройками (количество базовых моделей 10).\n",
        "3. Все базовые модели стекинга модели должны быть с настройками по умолчанию (кроме random_state).\n",
        "+ Зафиксировать random_state=42 (для всех моделей).\n",
        "+ Заменить в пайплайне задачи 6.1 случайный лес на StackingRegressor.\n",
        "+ Обучить модель на тренировочной выборке.\n",
        "\n",
        "В качестве ответа на задание введите в поле ниже полученный результат по метрике RMSE, округлённый до второго знака после запятой."
      ],
      "metadata": {
        "id": "hwVx13NcUj_1"
      }
    },
    {
      "cell_type": "code",
      "source": [
        "from inspect import stack\n",
        "from sklearn.ensemble import StackingRegressor\n",
        "from sklearn.linear_model import RidgeCV\n",
        "from sklearn.tree import DecisionTreeRegressor\n",
        "\n",
        "\n",
        "estimators = [\n",
        "    ('rg', RidgeCV()),\n",
        "    ('dt', DecisionTreeRegressor(random_state=42))\n",
        "]\n",
        "\n",
        "pipeline = Pipeline([('ct', ct),\n",
        "                     ('stack', StackingRegressor(estimators=estimators, \n",
        "                                                 final_estimator= RandomForestRegressor(n_estimators=10, random_state=42)))\n",
        "                     ])\n",
        "\n",
        "pipeline.fit(X, y)"
      ],
      "metadata": {
        "colab": {
          "base_uri": "https://localhost:8080/"
        },
        "id": "FWsocME0Udp0",
        "outputId": "a8559fa2-d145-41f1-eba3-c4ebe72c3355"
      },
      "execution_count": 42,
      "outputs": [
        {
          "output_type": "execute_result",
          "data": {
            "text/plain": [
              "Pipeline(steps=[('ct',\n",
              "                 ColumnTransformer(transformers=[('ordinalencoder',\n",
              "                                                  OrdinalEncoder(),\n",
              "                                                  ['Region']),\n",
              "                                                 ('standardscaler',\n",
              "                                                  StandardScaler(), ['Price']),\n",
              "                                                 ('onehotencoder',\n",
              "                                                  OneHotEncoder(),\n",
              "                                                  ['Country'])])),\n",
              "                ('stack',\n",
              "                 StackingRegressor(estimators=[('rg',\n",
              "                                                RidgeCV(alphas=array([ 0.1,  1. , 10. ]))),\n",
              "                                               ('dt',\n",
              "                                                DecisionTreeRegressor(random_state=42))],\n",
              "                                   final_estimator=RandomForestRegressor(n_estimators=10,\n",
              "                                                                         random_state=42)))])"
            ]
          },
          "metadata": {},
          "execution_count": 42
        }
      ]
    },
    {
      "cell_type": "code",
      "source": [
        "y_pred_stack = pipeline.predict(X_test)"
      ],
      "metadata": {
        "id": "K88V4ug5Uxmd"
      },
      "execution_count": 43,
      "outputs": []
    },
    {
      "cell_type": "code",
      "source": [
        "print(f'RMSE: {round(rmse(y_test, y_pred_stack),2)}')"
      ],
      "metadata": {
        "colab": {
          "base_uri": "https://localhost:8080/"
        },
        "id": "ouFzzOGmUzq1",
        "outputId": "ed7e5027-5906-42b1-d26b-98b6fb51b0a6"
      },
      "execution_count": 44,
      "outputs": [
        {
          "output_type": "stream",
          "name": "stdout",
          "text": [
            "RMSE: 0.18\n"
          ]
        }
      ]
    }
  ]
}