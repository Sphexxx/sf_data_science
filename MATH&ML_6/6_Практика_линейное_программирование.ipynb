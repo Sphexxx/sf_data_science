{
  "nbformat": 4,
  "nbformat_minor": 0,
  "metadata": {
    "colab": {
      "provenance": []
    },
    "kernelspec": {
      "name": "python3",
      "display_name": "Python 3"
    },
    "language_info": {
      "name": "python"
    }
  },
  "cells": [
    {
      "cell_type": "code",
      "source": [
        "import numpy as np"
      ],
      "metadata": {
        "id": "oVcJyHFlKTeE"
      },
      "execution_count": 3,
      "outputs": []
    },
    {
      "cell_type": "markdown",
      "source": [
        "✍ Мы познакомились с задачами линейного программирования, и теперь пришло время научиться решать их с использованием функций Python.\n",
        "\n",
        "В языке Python есть множество библиотек, с помощью которых можно решить задачу линейного программирования. Вот основные, которые мы рассмотрим в данном юните:\n",
        "\n",
        "+ **SciPy** (scipy.optimize.linprog);\n",
        "+ **CVXPY**; \n",
        "+ **PuLP**.\n",
        "\n",
        "У каждой библиотеки есть свои особенности использования, и большинство задач можно решить с помощью любой из них. Давайте посмотрим все варианты, чтобы у вас всегда был выбор — решим по одной задаче для каждой библиотеки."
      ],
      "metadata": {
        "id": "eyQzEMY7I5Wr"
      }
    },
    {
      "cell_type": "markdown",
      "source": [
        "**Пример № 1. SciPy (scipy.optimize.linprog)**\n",
        "\n",
        "У нас есть 6 товаров с заданными ценами на них и заданной массой.\n",
        "\n",
        "Вместимость сумки, в которую мы можем положить товары, заранее известна и равна 15 кг.\n",
        "\n",
        "Какой товар и в каком объёме необходимо взять, чтобы сумма всех цен товаров была максимальной?"
      ],
      "metadata": {
        "id": "7Rns3i2rJB5j"
      }
    },
    {
      "cell_type": "markdown",
      "source": [
        "Создадим переменные на основе предложенных данных:"
      ],
      "metadata": {
        "id": "Vj2wo4KTJEwy"
      }
    },
    {
      "cell_type": "code",
      "execution_count": 1,
      "metadata": {
        "id": "ehM4O-JQHMzV"
      },
      "outputs": [],
      "source": [
        "values = [4, 2, 1, 7, 3, 6] #стоимости товаров\n",
        "weights = [5, 9, 8, 2, 6, 5] #вес товаров\n",
        "C = 15 #вместимость сумки\n",
        "n = 6 #количество товаров"
      ]
    },
    {
      "cell_type": "markdown",
      "source": [
        "Сформулируем задачу линейного программирования. Максимизируем произведение стоимости на количество, учитывая, что произведение веса на искомое количество товаров должно укладываться во вместимость сумки:\n",
        "\n",
        "![image.png](data:image/png;base64,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)\n",
        "\n",
        "Из предыдущего юнита мы уже знаем, что в векторно-матричной форме наша задача должна формулироваться в следующем виде:\n",
        "\n",
        "![image.png](data:image/png;base64,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)\n",
        "\n",
        "Получается, что в наших обозначениях мы имеем следующее:\n",
        "\n",
        "![image.png](data:image/png;base64,iVBORw0KGgoAAAANSUhEUgAAARYAAAA1CAIAAAALYFM0AAAABmJLR0QA/wD/AP+gvaeTAAAMHElEQVR4nO2ba1BTRxvHnxPaZiSCBIeKIaiNbW0QlCQiGAempUoROnVCHdFSOg6YgbZT+oXpQGvBMgWKOLX2kqA4aNtpVWxxHECKFctFqFxSbnJTlCrhTgtNyvABzu774cyLKYEYc3JAnf19SvZsdv97zv53nz27oTDGQCAQbIW32AIIhEcbYiECgRXEQgQCK4iFCARWEAsRCKwgFiIQWEEsRCCwgliIQGAFsRCBwApiIQKBFcRCBAIriIUIBFYQCxEIrHhisQUQOGTOY/gYY4qiKIpaeD2PJcRCjzMlJSXZ2dlTU1POzs5OTk4CgWDJkiWOjo5JSUn9/f0+Pj6LLfCxABMeUxBCUVFRBQUFCKGWlhaZTFZWVkbT9I0bN2QyGU3Tiy3wMYHMQo8tjY2N69atU6lUANDS0gIAfn5+PB7vueeeAwASyNkL8jrB/tTV1S22BACA+vr6vXv3Mp9bWlokEsnSpUsBAGO8adMmm4tFCOEF/KdzTk6OXC6fr0ZmHkAImapiPhw4cCA7OxshxLnERZv/HkcQQj/88INMJjMYDIut5R40TYeGhh48eJBlOYWFhVlZWbGxsTExMUyX5ZqSkpKIiIihoSHzSzRNX79+PS0tbdeuXVu2bFEqlbGxsXV1dQihhISEP//8k6bpoKCg4uJirkWSWciejI6Onjt3DgD++eefxdZyj7///ntoaMjX15dlOXw+38vL648//hAKhXYRZpmJiQmNRrNv376nn3561iWMsUajiY6OnpiYSE1NraqqKiwsDA0NjYuLCwsLGx8f9/T05PF42dnZ6enpfX19nOokFrIbGOOTJ0+6ubkBgMFgWGw597h9+zYAKBQKluVs37597dq1AODl5bUAS6nvvvtOLBaHh4fPSkcIxcTE5OXlJSQkZGZment7Ozg4uLq67tq1S6VSDQ0N+fj4MPL8/Px27Nhx+vRpzGXkSSxkNwoKCtasWcM8rYdqFiorKxOJRB4eHuyLqq2tBXu48b5MTk6Wlpb6+PjweP/pogihsLCw5ubmI0eO7Nu3b5aTN2/eDAC+vr5MOkVRgYGB+fn57e3t3EldIAsxUePC1GUNdheDEDp8+PCKFStcXV1hQSxkTRMwxgihy5cvr1y50i41Njc38/n8VatWMSWzL3M+rl69evfu3S1btswSkJiYODw8rFarg4KCzH+1fft2AHj++ednUgIDAx0cHJh5mCO4tRBC6Pz582+++WZUVNRPP/20EK9H7kd3d3dmZmZGRoZer2cUpqSkpKamsjTVZ599FhERERQUJBKJAGBsbMw+cueiqakpMjJSoVD8+OOPM4nXrl1jpgij0ZiamqrVanU63f79+8PCwtauXTs0NBQQENDQ0MCmXoRQe3u7VCrNz89XKBQffPBBV1cX28bMQ3d3N5/P37Bhg2lifX19eXk5AGzbtm3OSJKiKLlc7unpaZqycePG/v5+7kZwDveFaJr++OOPp6am0tPTRSLRq6++unz58uDg4FnZqqqq5mve5OTkzGeJRMJsaLChu7s7KysrJSUlLS0tNzf3k08+oSiqqKhIKBQihBwcHGwrtq2t7ffff79w4QJFUU899RQAjI+PW8hfUVEx31rCtMkhISHm2ZiVQFpaml6vLy4u3rt3L0VRHR0d77zzjlqt9vf3v3DhQmFhoVKpjI+PP3HiBJjMV7OCogelqalpZGRkZGRk9+7d9fX1p06d+vDDD8+dO2deLMtnihDS6XQikWhW80tKSgBg27Ztzz777JyFUxTFNNk0xdnZua+vD2PM0fqNKwvRNB0SErJ69eoTJ07weDytVjsyMjIxMWGe02g03rlz574Furi4sFdVVFT04osvOjo6tre3C4VC5rYmJydnZmbaXCbGOCsr68CBA6Y9yXIg19HRYWUYZv7UT58+HRQUFB4eHhUV5erqyjj/1q1bACCVSgHgjTfeqK2tlUqlGGNGkr26DrPflZGRERoaCgAbNmz45ptv2tvbvb29Z+Vsa2uzpoGWn6lYLDZVjhDq6OgAALlc/kAtWrp0KaeBHCcWwhgfOnRobGzsyy+/ZJ6iQqHYunXrnENOWFgYy+q0Wu1988THx1MUNTAwkJCQcObMmcnJyZknoVKpNBqNzf3s7NmzYrEYAGpraymKYgI5o9FoYdiLj4+3rS4A6O3tTUlJaW1t7ezsTExMdHBwwBj39vby+XxmMc3j8by8vMRiMcs5ZxYIoerqaoFAEBISwqQMDg4CwNWrV80txKaBMzB30pSBgQEAWLdunQWR5q12dna2Zoy2Ga4sVFFRoVQqvby8mBTm6XLBA62vsrKyEEI1NTXu7u47duxgEisrK5VKpW21GwyGo0ePent7z4ofuHudkJSUhDE+e/YsAGzduhUAMMZlZWWbN29esmQJACCECgsLrRlWHpSenh65XD7zdXh4GABkMpndK4J5JignJyej0bhx48Y5f1JXVxcfH6/T6cxHrqmpKftL/D+cWOjGjRvDw8P+/v7WDO2XLl1i4hDLKBSKOX3I4/HefvvtB5JXU1MTHBzs5OTEfD1//vwrr7xi25j9xRdfvPXWW3FxcTMtbW5ujomJGR0dtfCrnJwca+KcuLi4OVXRNK3T6QICAlatWgUAg4ODt2/fjoiImNEwODhouqS2C11dXZOTk8888wwjCSFUXl7u5ua2fv1688xWNlAul/v7+895afXq1d3d3aYpFEX5+vr29/dXV1cHBgaa/+T48eP79+8373IGg8HNze0Re53g6OgIAO7u7qaJBoOhq6vLz8/PPL9EIpn5zAyl5thrR7yzsxMAPDw8mK4wNjZWXV199OhR5mpfX19DQ8Nrr71mjfl7enrKyspmraeZVg8MDFgI5NasWWNN+fPloSiqs7Pz9ddfZzIwu+/MpicAHDt2TCKRPNCIwCxyLEcKTz75JADMHHFobW1ta2tTq9UCgcA8s0QisabLMhsA5lAUJRaLy8vLTe8hRVE+Pj4XL168fv26uYWYJswZQP7777/Lly+/rxib4cRCYrFYKpVWVlYyKxCM8aVLl5KTkw8ePGieeSa2XhheeOEFqVTK5/MBAGOsUqnUajXT4WiajouL6+/vp2lapVJZ7uVNTU0ajSYyMpI5jsCAEGLmH6PRyESYc3ZlZjluMxRFubu7zyzZi4qKAECn0/n7+yOEcnNzmTDPSm7evMn0vPz8/PnedAGAh4eHSCRqbGwMDg7+66+/cnJy1q9fbzr1mcLymVIUtXLlSuZNtGn5u3fv/vbbb3NzcwEgOjp65tTszz//nJGRUVxcbH63McYGg0EkEtl3ZfgftRxNcDRNJycnt7a2uru7Nzc3A0B2dvbLL7/MRV0PBMb4+PHjFRUVLi4u165d27NnT2Ji4kxwkpSUND4+LhAIPv/88/kshDE23Z5XKBTMQwUA06XCrEv2pbS09NixYy4uLm5ubsuWLRMKhY2NjTKZ7Pvvv//0009feukl69+O6PX6d999d8WKFcHBwXv27LGQ88qVK2fOnBEKhb/++qvpfeOC3t7enTt35uXlzTraR9N0Xl6eVqsVCASBgYHLli3T6/WMmc2P0gEAQkipVEZFRb333nscSeXwpDZN042NjbW1taOjow/VH7wQQjRNl5eX6/V6c2G3bt3auXOn5RJoE8xLpml6enqa6yZPT0/fvXv3zp07TKUDAwNXrlyxrVKapg8dOnT48GFrcpaWltI0zfVJ7enp6cjISI1GY34JITQ4OPjbb79ptdqqqiqDwWBBzC+//CKTyRoaGriTytUs9Ohy+fLlnp4etVq92EIWDoTQpk2bNBpNQEDAYmu5x6lTp+rq6r7++mub5zqMcXp6+ujo6JEjR7g7F0uOmf6HmzdvfvXVV7GxsYstZEHRarWenp7cbTzYRnh4uF6vv3jxos0lVFdXFxQUREdHc3uunLsJ7lFEq9XW1NQstoqFRiaTMXvBDxuVlZWRkZFz/uXuviCEZDLZyZMn7S1qNiSQIzzUVFVVvf/++3NumFpGLperVKqPPvqIu3ceDMRCBAIryFqIQGAFsRCBwApiIQKBFcRCBAIriIUIBFYQCxEIrCAWIhBYQSxEILCCWIhAYAWxEIHACmIhAoEVxEIEAiuIhQgEVhALEQis+B9sXSruO3ON3wAAAABJRU5ErkJggg==)\n",
        "\n",
        "Здесь нам необходимо вспомнить линейную алгебру, так как очень важно, чтобы векторы были в нужных нам размерностях, иначе мы не сможем использовать матричное умножение. Вектор $A$ размера $6$ мы превращаем в матрицу размера $(1,6)$ с помощью функции expand_dims(). Создаём все необходимые переменные:"
      ],
      "metadata": {
        "id": "6GwLSNUvJNBr"
      }
    },
    {
      "cell_type": "code",
      "source": [
        "c = - np.array(values) #изменяем знак, чтобы перейти от задачи максимизации к задаче минимизации\n",
        "A = np.array(weights)  #конвертируем список с весами в массив\n",
        "A = np.expand_dims(A, 0) #преобразуем размерность массива\n",
        "b = np.array([C]) #конвертируем вместимость в массив"
      ],
      "metadata": {
        "id": "HIV371caJGMp"
      },
      "execution_count": 4,
      "outputs": []
    },
    {
      "cell_type": "markdown",
      "source": [
        "Передаём подготовленные переменные в оптимизатор SciPy:"
      ],
      "metadata": {
        "id": "VziFWBw2KYy4"
      }
    },
    {
      "cell_type": "code",
      "source": [
        "from scipy.optimize import linprog\n",
        "linprog(c=c, A_ub=A, b_ub=b)"
      ],
      "metadata": {
        "colab": {
          "base_uri": "https://localhost:8080/"
        },
        "id": "xSZ4VB2WKR5D",
        "outputId": "756ec9be-190d-48c9-f4c6-38d4f0bbf040"
      },
      "execution_count": 5,
      "outputs": [
        {
          "output_type": "execute_result",
          "data": {
            "text/plain": [
              "     con: array([], dtype=float64)\n",
              "     fun: -52.50000000003075\n",
              " message: 'Optimization terminated successfully.'\n",
              "     nit: 5\n",
              "   slack: array([-2.24904539e-11])\n",
              "  status: 0\n",
              " success: True\n",
              "       x: array([6.18738537e-14, 1.05853307e-12, 1.21475944e-13, 7.50000000e+00,\n",
              "       4.00246695e-13, 4.71394166e-13])"
            ]
          },
          "metadata": {},
          "execution_count": 5
        }
      ]
    },
    {
      "cell_type": "markdown",
      "source": [
        "Получаем искомое значение функции — $52.5$ (в выводе значение с минусом, но мы меняем знак, возвращаясь к задаче максимизации). $x = (0, 0, 0, 7.5, 0, 0)$. Таким образом, мы взяли только самую дорогую, четвёртую вещь. Она одна весит 2 кг, а если взять её 7.5 раз, то получится как раз 15 кг. Отлично, задача решена."
      ],
      "metadata": {
        "id": "gkpn3FyFKjRs"
      }
    },
    {
      "cell_type": "markdown",
      "source": [
        "**Пример № 2. CVXPY**\n",
        "\n",
        "Снова решим задачу из примера № 1, но уже предположим, что товары нельзя дробить, и будем решать задачу целочисленного линейного программирования.\n",
        "\n",
        "SciPy не умеет решать такие задачи, поэтому будем использовать новую библиотеку CVXPY.\n",
        "\n",
        "### Важно! С установкой этот библиотеки порой возникают проблемы. Если вы столкнулись с трудностями, посоветуйтесь с ментором или воспользуйтесь Google Colaboratory."
      ],
      "metadata": {
        "id": "qAMIzco9K0Di"
      }
    },
    {
      "cell_type": "code",
      "source": [
        "import cvxpy\n",
        "\n",
        "values = [4, 2, 1, 7, 3, 6] #стоимости товаров\n",
        "weights = [5, 9, 8, 2, 6, 5] #вес товаров\n",
        "C = 15 #вместимость сумки\n",
        "n = 6 #количество товаров\n",
        "\n",
        "c = - np.array(values) #изменяем знак, чтобы перейти от задачи максимизации к задаче минимизации\n",
        "A = np.array(weights)  #конвертируем список с весами в массив\n",
        "A = np.expand_dims(A, 0) #преобразуем размерность массива\n",
        "b = np.array([C]) #конвертируем вместимость в массив"
      ],
      "metadata": {
        "id": "7njddfxcNBeb"
      },
      "execution_count": 8,
      "outputs": []
    },
    {
      "cell_type": "markdown",
      "source": [
        "С помощью CVXPY создадим переменную-массив. Укажем его размерность, а также условие, что все числа в массиве должны быть целыми:"
      ],
      "metadata": {
        "id": "RJbh5YyLM7s0"
      }
    },
    {
      "cell_type": "code",
      "source": [
        "x = cvxpy.Variable(shape=n, integer = True)"
      ],
      "metadata": {
        "id": "K0w3qv0gKacJ"
      },
      "execution_count": 9,
      "outputs": []
    },
    {
      "cell_type": "markdown",
      "source": [
        "Далее зададим ограничения, используя матричное умножение:"
      ],
      "metadata": {
        "id": "Y--mlElSNNzY"
      }
    },
    {
      "cell_type": "code",
      "source": [
        "constraint = (A @ x <= b)\n",
        "total_value = c * x"
      ],
      "metadata": {
        "colab": {
          "base_uri": "https://localhost:8080/"
        },
        "id": "WQsmJPwCNMiK",
        "outputId": "5bcb8b2d-5b2e-4f50-9498-d8d249b08bbe"
      },
      "execution_count": 10,
      "outputs": [
        {
          "output_type": "stream",
          "name": "stderr",
          "text": [
            "/usr/local/lib/python3.8/dist-packages/cvxpy/expressions/expression.py:593: UserWarning: \n",
            "This use of ``*`` has resulted in matrix multiplication.\n",
            "Using ``*`` for matrix multiplication has been deprecated since CVXPY 1.1.\n",
            "    Use ``*`` for matrix-scalar and vector-scalar multiplication.\n",
            "    Use ``@`` for matrix-matrix and matrix-vector multiplication.\n",
            "    Use ``multiply`` for elementwise multiplication.\n",
            "This code path has been hit 1 times so far.\n",
            "\n",
            "  warnings.warn(msg, UserWarning)\n"
          ]
        }
      ]
    },
    {
      "cell_type": "markdown",
      "source": [
        "Переходим непосредственно к решению задачи:"
      ],
      "metadata": {
        "id": "oCAa04dkNRHU"
      }
    },
    {
      "cell_type": "code",
      "source": [
        "problem = cvxpy.Problem(cvxpy.Minimize(total_value), constraints=[constraint])"
      ],
      "metadata": {
        "id": "hz4nCglsNPDJ"
      },
      "execution_count": 11,
      "outputs": []
    },
    {
      "cell_type": "markdown",
      "source": [
        "Вызываем получившееся решение:"
      ],
      "metadata": {
        "id": "nZ8WzmvVNUsq"
      }
    },
    {
      "cell_type": "code",
      "source": [
        "problem.solve()"
      ],
      "metadata": {
        "colab": {
          "base_uri": "https://localhost:8080/"
        },
        "id": "KevwNBbmNTJ3",
        "outputId": "e232bc18-186e-4659-8dbc-6a9629ade46a"
      },
      "execution_count": 12,
      "outputs": [
        {
          "output_type": "execute_result",
          "data": {
            "text/plain": [
              "-inf"
            ]
          },
          "metadata": {},
          "execution_count": 12
        }
      ]
    },
    {
      "cell_type": "markdown",
      "source": [
        "### В результате получаем бесконечность. Это совершенно нереалистично."
      ],
      "metadata": {
        "id": "dxhs3EZYNYBy"
      }
    },
    {
      "cell_type": "markdown",
      "source": [
        "В таком случае будем рассматривать только положительные значения $x$:\n",
        "\n",
        "![image.png](data:image/png;base64,iVBORw0KGgoAAAANSUhEUgAAAEsAAAAsCAIAAACi3dJfAAAABmJLR0QA/wD/AP+gvaeTAAAD9ElEQVRoge2YTUg6TRzHZ1SoiNKiBNGu3TqYIEaIB1EIBCkJqUtURGReumS3SIioaIMCiw52EfQSRWBCHkLErEgMisyK6EUs0syEXqB25n9YkIco3RV8QvFzmpn9vX2dmZ1ZIcYYFDWsvy4g75QUFj4lhYVPSWHhU1JY+JQUFj7Fr5Dz1wXQAiEUjUYRQiKRiMViNit5n0O32+1wON7f33NzxxiHw2G3251MJsfHxzs7Oz0eD7PvIZxnSJI0Go1isVin052fnyOEGLlHo1GdTme326mu3W5XKpXHx8f0I+RdIcXX19fy8rJYLNbr9cFgkCRJOl4IIYvFIpPJ4vE4NRKLxWQymdlspv9L5bJKKc//drO6sNnswcHBg4MDuVze19c3MDCwu7ub1fHz83NjY0MoFNbU1FAjtbW1QqHw8PCQTlIKxgrD4bDRaFSr1QRBkCS5tLQkkUhWV1cRQll9ORzO8PBwIBCQSCRGo1GlUm1tbWWoNZVKxWIxHo8HIaRGIIQ8Hu/u7o7+xmamMBgMdnV1qdXqqakpr9e7srKSSCT29/cXFxfdbjfNIBBCg8EQCAQmJibm5uYkEonVav3RMpVK/Rbk6emJZjoGCjHGNpttdHRUq9U2NzfX1dW5XC6TyWQwGAAAJEnSDwUAgBCKRKLW1lYAwPX19Y82Ly8v6dTfGvQVMjgPIYQcDkev11Pd+/t7mUzGZrMJggiFQlKplGYcjPHt7e3CwsLOzo5Go9nc3BSJRD9aVlZWplN/a6QfZYXZiT89PU01Tk5OotGoVCqFEFZVVdGUhzG+ubmZnZ31+/0ajcbpdAoEggz29fX1OTz6BuM7DcYYQujz+QAAaWEIocxXDYzx2dnZ5OTk6empXq8nCKKsrCxrLi6Xy+fzk8kklZSKE4/H+Xw+l8ulWTCDfZhIJGZmZubn5xFCPp+Pz+dXV1cDAJ6fn5VKZYZ36dHRUVtb28jIiEqlCgQCJpOJjjwAAIRQq9VeXV2lgz8+Pj48PGi12vRyzQoDhZeXlw6H4+3tbXt7++Pjo6GhAQCAMe7v7+/t7f1tDgmC8Hg8BEG4XK6enh76lQEAIIQKhaK8vNzpdFIj6+vrLBZLoVDQjwPpH50Iofb29sbGRr/fb7Vax8bGKioqQqEQdXhkSJleYzmAELLZbBaLpaOjg8PhrK2tDQ0NdXd3079/M1BI5fN6vXK5nMVivb6+XlxcNDU1QQiZ3vcZgTGORCJ7e3sAgJaWFqFQyGwhMFKYA9+ueL/ZsNnsPBWQ9+/DSCRiNpsz2wgEgqw2OZP3OQT0ruY5b9Tskf8HhX9L8f9PU1JY+JQUFj4lhYVPSWHhU1JY+BS/wn/T+T45oDx45wAAAABJRU5ErkJggg==)\n",
        "\n",
        "В переформулированном виде задача будет решаться следующим образом:"
      ],
      "metadata": {
        "id": "GgBQz0hLNffv"
      }
    },
    {
      "cell_type": "code",
      "source": [
        "x = cvxpy.Variable(shape=n, integer=True)\n",
        "constraint = (A @ x <= b)\n",
        "x_positive = (x >= 0)\n",
        "total_value = c * x\n",
        "problem = cvxpy.Problem(cvxpy.Minimize(total_value), constraints=[constraint, x_positive])\n",
        "problem.solve()\n"
      ],
      "metadata": {
        "colab": {
          "base_uri": "https://localhost:8080/"
        },
        "id": "S_tHQGh4NV3W",
        "outputId": "7571eb5f-7eba-40f9-9199-0ef2a23d3339"
      },
      "execution_count": 13,
      "outputs": [
        {
          "output_type": "stream",
          "name": "stderr",
          "text": [
            "/usr/local/lib/python3.8/dist-packages/cvxpy/expressions/expression.py:593: UserWarning: \n",
            "This use of ``*`` has resulted in matrix multiplication.\n",
            "Using ``*`` for matrix multiplication has been deprecated since CVXPY 1.1.\n",
            "    Use ``*`` for matrix-scalar and vector-scalar multiplication.\n",
            "    Use ``@`` for matrix-matrix and matrix-vector multiplication.\n",
            "    Use ``multiply`` for elementwise multiplication.\n",
            "This code path has been hit 2 times so far.\n",
            "\n",
            "  warnings.warn(msg, UserWarning)\n"
          ]
        },
        {
          "output_type": "execute_result",
          "data": {
            "text/plain": [
              "-49.0"
            ]
          },
          "metadata": {},
          "execution_count": 13
        }
      ]
    },
    {
      "cell_type": "code",
      "source": [
        "x.value"
      ],
      "metadata": {
        "colab": {
          "base_uri": "https://localhost:8080/"
        },
        "id": "EIaNjQriNsSb",
        "outputId": "8134314c-a0bc-403e-a1e2-4f22df87cfc7"
      },
      "execution_count": 14,
      "outputs": [
        {
          "output_type": "execute_result",
          "data": {
            "text/plain": [
              "array([0., 0., 0., 7., 0., 0.])"
            ]
          },
          "metadata": {},
          "execution_count": 14
        }
      ]
    },
    {
      "cell_type": "markdown",
      "source": [
        "Здесь мы уже получаем $49$, и берём только четвёртый товар в количестве семи штук. Можно увидеть, что результат, в целом, очень близок к первому, когда мы использовали библиотеку SciPy — различие лишь в добавлении целочисленности. Значит, у нас получилось решить задачу, когда мы добавили недостающее условие."
      ],
      "metadata": {
        "id": "YAcE-xGBNwTJ"
      }
    },
    {
      "cell_type": "markdown",
      "source": [
        "А что если мы можем брать не любое количество товаров, а только один или не брать их вовсе? Задаём $x$ типа *boolean*.\n",
        "\n",
        "$x = 0$ или $x = 1$\n",
        "\n",
        "Программное решение такой задачи имеет следующий вид:"
      ],
      "metadata": {
        "id": "VCcRZvWGN3IV"
      }
    },
    {
      "cell_type": "code",
      "source": [
        "x = cvxpy.Variable(shape=n, boolean=True)\n",
        "constraint = A @ x <= b\n",
        "x_positive = x >= 0\n",
        "total_value = c * x\n",
        "problem = cvxpy.Problem(cvxpy.Minimize(total_value), constraints=[constraint, x_positive])\n",
        "problem.solve()"
      ],
      "metadata": {
        "colab": {
          "base_uri": "https://localhost:8080/"
        },
        "id": "BeC7AE7MNtKN",
        "outputId": "64f226b7-16d3-4939-cef5-b5de4e89cce4"
      },
      "execution_count": 15,
      "outputs": [
        {
          "output_type": "stream",
          "name": "stderr",
          "text": [
            "/usr/local/lib/python3.8/dist-packages/cvxpy/expressions/expression.py:593: UserWarning: \n",
            "This use of ``*`` has resulted in matrix multiplication.\n",
            "Using ``*`` for matrix multiplication has been deprecated since CVXPY 1.1.\n",
            "    Use ``*`` for matrix-scalar and vector-scalar multiplication.\n",
            "    Use ``@`` for matrix-matrix and matrix-vector multiplication.\n",
            "    Use ``multiply`` for elementwise multiplication.\n",
            "This code path has been hit 3 times so far.\n",
            "\n",
            "  warnings.warn(msg, UserWarning)\n"
          ]
        },
        {
          "output_type": "execute_result",
          "data": {
            "text/plain": [
              "-17.0"
            ]
          },
          "metadata": {},
          "execution_count": 15
        }
      ]
    },
    {
      "cell_type": "code",
      "source": [
        "x.value"
      ],
      "metadata": {
        "colab": {
          "base_uri": "https://localhost:8080/"
        },
        "id": "3CfFCLOROCkn",
        "outputId": "476e1cd3-25ce-4bd6-dc0c-8f9f6d2c23c7"
      },
      "execution_count": 16,
      "outputs": [
        {
          "output_type": "execute_result",
          "data": {
            "text/plain": [
              "array([1., 0., 0., 1., 0., 1.])"
            ]
          },
          "metadata": {},
          "execution_count": 16
        }
      ]
    },
    {
      "cell_type": "markdown",
      "source": [
        "Получим стоимость, равную $17$, взяв первый, четвёртый и шестой товары.\n",
        "\n",
        "### Обратите внимание, что, используя *SciPy*, мы могли не указывать явно, что $x$ только положительные, так как в линейном программировании считаются только неотрицательные $x$.\n",
        "\n",
        "### А вот CVXPY универсальна. Мы просто задали функцию, не указывая, что это линейное программирование. CVXPY «поняла», что это задача оптимизации, и использовала нужные алгоритмы. Поэтому здесь ограничение на положительные $x$ мы указывали явно."
      ],
      "metadata": {
        "id": "8r-_Jn3WOF1A"
      }
    },
    {
      "cell_type": "markdown",
      "source": [
        "**Пример № 3. PuLP**\n",
        "\n",
        "В нашей каршеринговой компании две модели автомобилей: модель $A$ и модель $B$. Автомобиль $A$ даёт прибыль в размере 20 тысяч в месяц, а автомобиль $B$ — 45 тысяч в месяц. Мы хотим заказать на заводе новые автомобили и максимизировать прибыль. Однако на производство и ввод в эксплуатацию автомобилей понадобится время:\n",
        "\n",
        "+ Проектировщику требуется 4 дня, чтобы подготовить документы для производства каждого автомобиля типа $A$, и 5 дней — для каждого автомобиля типа $B$.\n",
        "+ Заводу требуется 3 дня, чтобы изготовить модель $A$, и 6 дней, чтобы изготовить модель $B$.\n",
        "+ Менеджеру требуется 2 дня, чтобы ввести в эксплуатацию в компании автомобиль $A$, и 7 дней —  автомобиль $B$.\n",
        "+ Каждый специалист может работать суммарно 30 дней."
      ],
      "metadata": {
        "id": "6A9to1QKOgG4"
      }
    },
    {
      "cell_type": "markdown",
      "source": [
        "Целевая функция будет выглядеть следующим образом:\n",
        "\n",
        "![image.png](data:image/png;base64,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)\n",
        "\n",
        "Также запишем ограничения:\n",
        "\n",
        "![image.png](data:image/png;base64,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)\n",
        "\n",
        "Заметьте, что здесь мы снова пишем обычные неравенства, а не условия в матричном виде. Дело в том, что для данной библиотеки так «удобнее», так как она принимает все условия в «первичном» виде."
      ],
      "metadata": {
        "id": "jizaxoehP6i1"
      }
    },
    {
      "cell_type": "code",
      "source": [
        "!pip install pulp"
      ],
      "metadata": {
        "colab": {
          "base_uri": "https://localhost:8080/"
        },
        "id": "B4ipuCv3OD-P",
        "outputId": "3faa0e2d-fe9e-40df-9ed6-a69d99a57402"
      },
      "execution_count": 18,
      "outputs": [
        {
          "output_type": "stream",
          "name": "stdout",
          "text": [
            "Looking in indexes: https://pypi.org/simple, https://us-python.pkg.dev/colab-wheels/public/simple/\n",
            "Collecting pulp\n",
            "  Downloading PuLP-2.7.0-py3-none-any.whl (14.3 MB)\n",
            "\u001b[2K     \u001b[90m━━━━━━━━━━━━━━━━━━━━━━━━━━━━━━━━━━━━━━━━\u001b[0m \u001b[32m14.3/14.3 MB\u001b[0m \u001b[31m43.2 MB/s\u001b[0m eta \u001b[36m0:00:00\u001b[0m\n",
            "\u001b[?25hInstalling collected packages: pulp\n",
            "Successfully installed pulp-2.7.0\n"
          ]
        }
      ]
    },
    {
      "cell_type": "code",
      "source": [
        "from pulp import *"
      ],
      "metadata": {
        "id": "w3Sy5lUVQN3X"
      },
      "execution_count": 19,
      "outputs": []
    },
    {
      "cell_type": "code",
      "source": [
        "problem = LpProblem('Производство машин', LpMaximize)\n",
        "A = LpVariable('Автомобиль A', lowBound=0 , cat=LpInteger)\n",
        "B = LpVariable('Автомобиль B', lowBound=0 , cat=LpInteger)\n",
        "#Целевая функция\n",
        "problem += 20000*A + 45000*B \n",
        "#Ограничения\n",
        "problem += 4*A + 5*B <= 30 \n",
        "problem += 3*A + 6*B <=30\n",
        "problem += 2*A + 7*B <=30\n",
        "problem.solve()\n",
        "print(\"Количество автомобилей модели А: \", A.varValue)\n",
        "print(\"Количество автомобилей модели В: \", B.varValue)\n",
        "print(\"Суммарный доход: \", value(problem.objective))"
      ],
      "metadata": {
        "colab": {
          "base_uri": "https://localhost:8080/"
        },
        "id": "27dqLe2RQYN2",
        "outputId": "f7d6613d-2cc6-4ea2-ed20-98fcc7d8abd7"
      },
      "execution_count": 20,
      "outputs": [
        {
          "output_type": "stream",
          "name": "stdout",
          "text": [
            "Количество автомобилей модели А:  1.0\n",
            "Количество автомобилей модели В:  4.0\n",
            "Суммарный доход:  200000.0\n"
          ]
        },
        {
          "output_type": "stream",
          "name": "stderr",
          "text": [
            "/usr/local/lib/python3.8/dist-packages/pulp/pulp.py:1352: UserWarning: Spaces are not permitted in the name. Converted to '_'\n",
            "  warnings.warn(\"Spaces are not permitted in the name. Converted to '_'\")\n"
          ]
        }
      ]
    },
    {
      "cell_type": "markdown",
      "source": [
        "Выходит, что необходимо произвести 1 автомобиль типа $A$ и 4 автомобиля типа $B$. Тогда суммарный чистый доход будет равен 200 тысячам."
      ],
      "metadata": {
        "id": "Zlc1Dfm2QdZH"
      }
    }
  ]
}