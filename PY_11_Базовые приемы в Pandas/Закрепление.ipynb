{
 "cells": [
  {
   "cell_type": "code",
   "execution_count": 1,
   "metadata": {},
   "outputs": [],
   "source": [
    "import pandas as pd"
   ]
  },
  {
   "cell_type": "code",
   "execution_count": 3,
   "metadata": {},
   "outputs": [
    {
     "data": {
      "text/html": [
       "<div>\n",
       "<style scoped>\n",
       "    .dataframe tbody tr th:only-of-type {\n",
       "        vertical-align: middle;\n",
       "    }\n",
       "\n",
       "    .dataframe tbody tr th {\n",
       "        vertical-align: top;\n",
       "    }\n",
       "\n",
       "    .dataframe thead th {\n",
       "        text-align: right;\n",
       "    }\n",
       "</style>\n",
       "<table border=\"1\" class=\"dataframe\">\n",
       "  <thead>\n",
       "    <tr style=\"text-align: right;\">\n",
       "      <th></th>\n",
       "      <th>starttime</th>\n",
       "      <th>stoptime</th>\n",
       "      <th>start station id</th>\n",
       "      <th>start station name</th>\n",
       "      <th>start station latitude</th>\n",
       "      <th>start station longitude</th>\n",
       "      <th>end station id</th>\n",
       "      <th>end station name</th>\n",
       "      <th>end station latitude</th>\n",
       "      <th>end station longitude</th>\n",
       "      <th>bikeid</th>\n",
       "      <th>usertype</th>\n",
       "      <th>birth year</th>\n",
       "      <th>gender</th>\n",
       "    </tr>\n",
       "  </thead>\n",
       "  <tbody>\n",
       "    <tr>\n",
       "      <th>0</th>\n",
       "      <td>2018-09-01 00:00:05.2690</td>\n",
       "      <td>2018-09-01 00:27:20.6340</td>\n",
       "      <td>252.0</td>\n",
       "      <td>MacDougal St &amp; Washington Sq</td>\n",
       "      <td>40.732264</td>\n",
       "      <td>-73.998522</td>\n",
       "      <td>366.0</td>\n",
       "      <td>Clinton Ave &amp; Myrtle Ave</td>\n",
       "      <td>40.693261</td>\n",
       "      <td>-73.968896</td>\n",
       "      <td>25577</td>\n",
       "      <td>Subscriber</td>\n",
       "      <td>1980</td>\n",
       "      <td>1</td>\n",
       "    </tr>\n",
       "    <tr>\n",
       "      <th>1</th>\n",
       "      <td>2018-09-01 00:00:11.2810</td>\n",
       "      <td>2018-09-01 00:02:23.4810</td>\n",
       "      <td>314.0</td>\n",
       "      <td>Cadman Plaza West &amp; Montague St</td>\n",
       "      <td>40.693830</td>\n",
       "      <td>-73.990539</td>\n",
       "      <td>3242.0</td>\n",
       "      <td>Schermerhorn St &amp; Court St</td>\n",
       "      <td>40.691029</td>\n",
       "      <td>-73.991834</td>\n",
       "      <td>34377</td>\n",
       "      <td>Subscriber</td>\n",
       "      <td>1969</td>\n",
       "      <td>0</td>\n",
       "    </tr>\n",
       "    <tr>\n",
       "      <th>2</th>\n",
       "      <td>2018-09-01 00:00:20.6490</td>\n",
       "      <td>2018-09-01 00:55:58.5470</td>\n",
       "      <td>3142.0</td>\n",
       "      <td>1 Ave &amp; E 62 St</td>\n",
       "      <td>40.761227</td>\n",
       "      <td>-73.960940</td>\n",
       "      <td>3384.0</td>\n",
       "      <td>Smith St &amp; 3 St</td>\n",
       "      <td>40.678724</td>\n",
       "      <td>-73.995991</td>\n",
       "      <td>30496</td>\n",
       "      <td>Subscriber</td>\n",
       "      <td>1975</td>\n",
       "      <td>1</td>\n",
       "    </tr>\n",
       "    <tr>\n",
       "      <th>3</th>\n",
       "      <td>2018-09-01 00:00:21.7460</td>\n",
       "      <td>2018-09-01 00:07:38.5830</td>\n",
       "      <td>308.0</td>\n",
       "      <td>St James Pl &amp; Oliver St</td>\n",
       "      <td>40.713079</td>\n",
       "      <td>-73.998512</td>\n",
       "      <td>3690.0</td>\n",
       "      <td>Park Pl &amp; Church St</td>\n",
       "      <td>40.713342</td>\n",
       "      <td>-74.009355</td>\n",
       "      <td>28866</td>\n",
       "      <td>Subscriber</td>\n",
       "      <td>1984</td>\n",
       "      <td>2</td>\n",
       "    </tr>\n",
       "    <tr>\n",
       "      <th>4</th>\n",
       "      <td>2018-09-01 00:00:27.3150</td>\n",
       "      <td>2018-09-01 02:21:25.3080</td>\n",
       "      <td>345.0</td>\n",
       "      <td>W 13 St &amp; 6 Ave</td>\n",
       "      <td>40.736494</td>\n",
       "      <td>-73.997044</td>\n",
       "      <td>380.0</td>\n",
       "      <td>W 4 St &amp; 7 Ave S</td>\n",
       "      <td>40.734011</td>\n",
       "      <td>-74.002939</td>\n",
       "      <td>20943</td>\n",
       "      <td>Customer</td>\n",
       "      <td>1994</td>\n",
       "      <td>1</td>\n",
       "    </tr>\n",
       "  </tbody>\n",
       "</table>\n",
       "</div>"
      ],
      "text/plain": [
       "                  starttime                  stoptime  start station id  \\\n",
       "0  2018-09-01 00:00:05.2690  2018-09-01 00:27:20.6340             252.0   \n",
       "1  2018-09-01 00:00:11.2810  2018-09-01 00:02:23.4810             314.0   \n",
       "2  2018-09-01 00:00:20.6490  2018-09-01 00:55:58.5470            3142.0   \n",
       "3  2018-09-01 00:00:21.7460  2018-09-01 00:07:38.5830             308.0   \n",
       "4  2018-09-01 00:00:27.3150  2018-09-01 02:21:25.3080             345.0   \n",
       "\n",
       "                start station name  start station latitude  \\\n",
       "0     MacDougal St & Washington Sq               40.732264   \n",
       "1  Cadman Plaza West & Montague St               40.693830   \n",
       "2                  1 Ave & E 62 St               40.761227   \n",
       "3          St James Pl & Oliver St               40.713079   \n",
       "4                  W 13 St & 6 Ave               40.736494   \n",
       "\n",
       "   start station longitude  end station id            end station name  \\\n",
       "0               -73.998522           366.0    Clinton Ave & Myrtle Ave   \n",
       "1               -73.990539          3242.0  Schermerhorn St & Court St   \n",
       "2               -73.960940          3384.0             Smith St & 3 St   \n",
       "3               -73.998512          3690.0         Park Pl & Church St   \n",
       "4               -73.997044           380.0            W 4 St & 7 Ave S   \n",
       "\n",
       "   end station latitude  end station longitude  bikeid    usertype  \\\n",
       "0             40.693261             -73.968896   25577  Subscriber   \n",
       "1             40.691029             -73.991834   34377  Subscriber   \n",
       "2             40.678724             -73.995991   30496  Subscriber   \n",
       "3             40.713342             -74.009355   28866  Subscriber   \n",
       "4             40.734011             -74.002939   20943    Customer   \n",
       "\n",
       "   birth year  gender  \n",
       "0        1980       1  \n",
       "1        1969       0  \n",
       "2        1975       1  \n",
       "3        1984       2  \n",
       "4        1994       1  "
      ]
     },
     "execution_count": 3,
     "metadata": {},
     "output_type": "execute_result"
    }
   ],
   "source": [
    "citibike_tripdata = pd.read_csv('data/citibike_tripdata.csv', sep=',')\n",
    "citibike_tripdata.head()"
   ]
  },
  {
   "cell_type": "code",
   "execution_count": 5,
   "metadata": {},
   "outputs": [
    {
     "name": "stdout",
     "output_type": "stream",
     "text": [
      "<class 'pandas.core.frame.DataFrame'>\n",
      "RangeIndex: 300000 entries, 0 to 299999\n",
      "Data columns (total 14 columns):\n",
      " #   Column                   Non-Null Count   Dtype  \n",
      "---  ------                   --------------   -----  \n",
      " 0   starttime                300000 non-null  object \n",
      " 1   stoptime                 300000 non-null  object \n",
      " 2   start station id         299831 non-null  float64\n",
      " 3   start station name       299831 non-null  object \n",
      " 4   start station latitude   300000 non-null  float64\n",
      " 5   start station longitude  300000 non-null  float64\n",
      " 6   end station id           299831 non-null  float64\n",
      " 7   end station name         299831 non-null  object \n",
      " 8   end station latitude     300000 non-null  float64\n",
      " 9   end station longitude    300000 non-null  float64\n",
      " 10  bikeid                   300000 non-null  int64  \n",
      " 11  usertype                 300000 non-null  object \n",
      " 12  birth year               300000 non-null  int64  \n",
      " 13  gender                   300000 non-null  int64  \n",
      "dtypes: float64(6), int64(3), object(5)\n",
      "memory usage: 32.0+ MB\n"
     ]
    }
   ],
   "source": [
    "citibike_tripdata.info()\n"
   ]
  },
  {
   "cell_type": "code",
   "execution_count": 6,
   "metadata": {},
   "outputs": [
    {
     "name": "stdout",
     "output_type": "stream",
     "text": [
      "<class 'pandas.core.series.Series'>\n",
      "RangeIndex: 300000 entries, 0 to 299999\n",
      "Series name: start station id\n",
      "Non-Null Count   Dtype  \n",
      "--------------   -----  \n",
      "299831 non-null  float64\n",
      "dtypes: float64(1)\n",
      "memory usage: 2.3 MB\n",
      "None\n"
     ]
    }
   ],
   "source": [
    "print(citibike_tripdata['start station id'].info())"
   ]
  },
  {
   "cell_type": "code",
   "execution_count": 8,
   "metadata": {},
   "outputs": [
    {
     "name": "stdout",
     "output_type": "stream",
     "text": [
      "281.0\n"
     ]
    }
   ],
   "source": [
    "print(citibike_tripdata['start station id'].mode()[0])"
   ]
  },
  {
   "cell_type": "code",
   "execution_count": 9,
   "metadata": {},
   "outputs": [
    {
     "name": "stdout",
     "output_type": "stream",
     "text": [
      "33887\n"
     ]
    }
   ],
   "source": [
    "print(citibike_tripdata['bikeid'].mode()[0])"
   ]
  },
  {
   "cell_type": "code",
   "execution_count": 10,
   "metadata": {},
   "outputs": [
    {
     "name": "stdout",
     "output_type": "stream",
     "text": [
      "0.77\n"
     ]
    }
   ],
   "source": [
    "mode_usertype = citibike_tripdata['usertype'].mode()[0]\n",
    "count_mode_user = citibike_tripdata[citibike_tripdata['usertype'] == mode_usertype].shape[0]\n",
    "print(round(count_mode_user / citibike_tripdata.shape[0], 2))"
   ]
  },
  {
   "cell_type": "code",
   "execution_count": 11,
   "metadata": {},
   "outputs": [
    {
     "name": "stdout",
     "output_type": "stream",
     "text": [
      "183582\n"
     ]
    }
   ],
   "source": [
    "male_count = citibike_tripdata[citibike_tripdata['gender'] == 1].shape[0]\n",
    "female_count = citibike_tripdata[citibike_tripdata['gender'] == 0].shape[0]\n",
    "print(max([male_count, female_count]))"
   ]
  },
  {
   "cell_type": "code",
   "execution_count": 12,
   "metadata": {},
   "outputs": [
    {
     "data": {
      "text/html": [
       "<div>\n",
       "<style scoped>\n",
       "    .dataframe tbody tr th:only-of-type {\n",
       "        vertical-align: middle;\n",
       "    }\n",
       "\n",
       "    .dataframe tbody tr th {\n",
       "        vertical-align: top;\n",
       "    }\n",
       "\n",
       "    .dataframe thead th {\n",
       "        text-align: right;\n",
       "    }\n",
       "</style>\n",
       "<table border=\"1\" class=\"dataframe\">\n",
       "  <thead>\n",
       "    <tr style=\"text-align: right;\">\n",
       "      <th></th>\n",
       "      <th>start station id</th>\n",
       "      <th>start station latitude</th>\n",
       "      <th>start station longitude</th>\n",
       "      <th>end station id</th>\n",
       "      <th>end station latitude</th>\n",
       "      <th>end station longitude</th>\n",
       "      <th>bikeid</th>\n",
       "      <th>birth year</th>\n",
       "      <th>gender</th>\n",
       "    </tr>\n",
       "  </thead>\n",
       "  <tbody>\n",
       "    <tr>\n",
       "      <th>count</th>\n",
       "      <td>299831.000000</td>\n",
       "      <td>300000.000000</td>\n",
       "      <td>300000.000000</td>\n",
       "      <td>299831.000000</td>\n",
       "      <td>300000.000000</td>\n",
       "      <td>300000.000000</td>\n",
       "      <td>300000.000000</td>\n",
       "      <td>300000.000000</td>\n",
       "      <td>300000.000000</td>\n",
       "    </tr>\n",
       "    <tr>\n",
       "      <th>mean</th>\n",
       "      <td>1695.665665</td>\n",
       "      <td>40.737769</td>\n",
       "      <td>-73.982042</td>\n",
       "      <td>1684.624298</td>\n",
       "      <td>40.737294</td>\n",
       "      <td>-73.982330</td>\n",
       "      <td>26688.525943</td>\n",
       "      <td>1979.364803</td>\n",
       "      <td>1.108647</td>\n",
       "    </tr>\n",
       "    <tr>\n",
       "      <th>std</th>\n",
       "      <td>1458.264055</td>\n",
       "      <td>0.031999</td>\n",
       "      <td>0.020207</td>\n",
       "      <td>1457.549589</td>\n",
       "      <td>0.031794</td>\n",
       "      <td>0.020261</td>\n",
       "      <td>6271.691143</td>\n",
       "      <td>11.920796</td>\n",
       "      <td>0.613398</td>\n",
       "    </tr>\n",
       "    <tr>\n",
       "      <th>min</th>\n",
       "      <td>72.000000</td>\n",
       "      <td>40.655400</td>\n",
       "      <td>-74.025353</td>\n",
       "      <td>72.000000</td>\n",
       "      <td>40.655400</td>\n",
       "      <td>-74.083639</td>\n",
       "      <td>14529.000000</td>\n",
       "      <td>1885.000000</td>\n",
       "      <td>0.000000</td>\n",
       "    </tr>\n",
       "    <tr>\n",
       "      <th>25%</th>\n",
       "      <td>387.000000</td>\n",
       "      <td>40.716226</td>\n",
       "      <td>-73.995991</td>\n",
       "      <td>387.000000</td>\n",
       "      <td>40.716059</td>\n",
       "      <td>-73.996621</td>\n",
       "      <td>20569.000000</td>\n",
       "      <td>1969.000000</td>\n",
       "      <td>1.000000</td>\n",
       "    </tr>\n",
       "    <tr>\n",
       "      <th>50%</th>\n",
       "      <td>519.000000</td>\n",
       "      <td>40.737262</td>\n",
       "      <td>-73.985162</td>\n",
       "      <td>519.000000</td>\n",
       "      <td>40.737050</td>\n",
       "      <td>-73.985649</td>\n",
       "      <td>28197.000000</td>\n",
       "      <td>1982.000000</td>\n",
       "      <td>1.000000</td>\n",
       "    </tr>\n",
       "    <tr>\n",
       "      <th>75%</th>\n",
       "      <td>3282.000000</td>\n",
       "      <td>40.760683</td>\n",
       "      <td>-73.970416</td>\n",
       "      <td>3282.000000</td>\n",
       "      <td>40.760094</td>\n",
       "      <td>-73.971092</td>\n",
       "      <td>32216.000000</td>\n",
       "      <td>1989.000000</td>\n",
       "      <td>1.000000</td>\n",
       "    </tr>\n",
       "    <tr>\n",
       "      <th>max</th>\n",
       "      <td>3705.000000</td>\n",
       "      <td>40.869000</td>\n",
       "      <td>-73.878000</td>\n",
       "      <td>3705.000000</td>\n",
       "      <td>40.869000</td>\n",
       "      <td>-73.878000</td>\n",
       "      <td>34863.000000</td>\n",
       "      <td>2002.000000</td>\n",
       "      <td>2.000000</td>\n",
       "    </tr>\n",
       "  </tbody>\n",
       "</table>\n",
       "</div>"
      ],
      "text/plain": [
       "       start station id  start station latitude  start station longitude  \\\n",
       "count     299831.000000           300000.000000            300000.000000   \n",
       "mean        1695.665665               40.737769               -73.982042   \n",
       "std         1458.264055                0.031999                 0.020207   \n",
       "min           72.000000               40.655400               -74.025353   \n",
       "25%          387.000000               40.716226               -73.995991   \n",
       "50%          519.000000               40.737262               -73.985162   \n",
       "75%         3282.000000               40.760683               -73.970416   \n",
       "max         3705.000000               40.869000               -73.878000   \n",
       "\n",
       "       end station id  end station latitude  end station longitude  \\\n",
       "count   299831.000000         300000.000000          300000.000000   \n",
       "mean      1684.624298             40.737294             -73.982330   \n",
       "std       1457.549589              0.031794               0.020261   \n",
       "min         72.000000             40.655400             -74.083639   \n",
       "25%        387.000000             40.716059             -73.996621   \n",
       "50%        519.000000             40.737050             -73.985649   \n",
       "75%       3282.000000             40.760094             -73.971092   \n",
       "max       3705.000000             40.869000             -73.878000   \n",
       "\n",
       "              bikeid     birth year         gender  \n",
       "count  300000.000000  300000.000000  300000.000000  \n",
       "mean    26688.525943    1979.364803       1.108647  \n",
       "std      6271.691143      11.920796       0.613398  \n",
       "min     14529.000000    1885.000000       0.000000  \n",
       "25%     20569.000000    1969.000000       1.000000  \n",
       "50%     28197.000000    1982.000000       1.000000  \n",
       "75%     32216.000000    1989.000000       1.000000  \n",
       "max     34863.000000    2002.000000       2.000000  "
      ]
     },
     "execution_count": 12,
     "metadata": {},
     "output_type": "execute_result"
    }
   ],
   "source": [
    "citibike_tripdata.describe()"
   ]
  },
  {
   "cell_type": "code",
   "execution_count": 14,
   "metadata": {},
   "outputs": [
    {
     "name": "stdout",
     "output_type": "stream",
     "text": [
      "12\n"
     ]
    }
   ],
   "source": [
    "citibike_tripdata.drop(['start station id', 'end station id'], axis=1, inplace=True)\n",
    "print(citibike_tripdata.shape[1])"
   ]
  },
  {
   "cell_type": "code",
   "execution_count": 15,
   "metadata": {},
   "outputs": [
    {
     "name": "stdout",
     "output_type": "stream",
     "text": [
      "11837\n"
     ]
    }
   ],
   "source": [
    "citibike_tripdata['age'] = 2018 - citibike_tripdata['birth year']\n",
    "citibike_tripdata.drop(['birth year'], axis=1, inplace=True)\n",
    "print(citibike_tripdata[citibike_tripdata['age'] > 60].shape[0])"
   ]
  },
  {
   "cell_type": "code",
   "execution_count": 18,
   "metadata": {},
   "outputs": [
    {
     "name": "stdout",
     "output_type": "stream",
     "text": [
      "1126\n"
     ]
    }
   ],
   "source": [
    "citibike_tripdata['starttime'] = pd.to_datetime(citibike_tripdata['starttime'])\n",
    "citibike_tripdata['stoptime'] = pd.to_datetime(citibike_tripdata['stoptime'])\n",
    "citibike_tripdata['trip duration'] = (citibike_tripdata['stoptime'] - citibike_tripdata['starttime'])\n",
    "print(citibike_tripdata['trip duration'].mean().seconds)"
   ]
  },
  {
   "cell_type": "code",
   "execution_count": 19,
   "metadata": {},
   "outputs": [
    {
     "data": {
      "text/plain": [
       "115135"
      ]
     },
     "execution_count": 19,
     "metadata": {},
     "output_type": "execute_result"
    }
   ],
   "source": [
    "weekday = citibike_tripdata['starttime'].dt.dayofweek\n",
    "citibike_tripdata['weekend'] = weekday.apply(lambda x: 1 if x ==5 or x == 6 else 0)\n",
    "citibike_tripdata['weekend'].sum()"
   ]
  },
  {
   "cell_type": "code",
   "execution_count": 20,
   "metadata": {},
   "outputs": [
    {
     "name": "stdout",
     "output_type": "stream",
     "text": [
      "9\n"
     ]
    }
   ],
   "source": [
    "def get_time_of_day(time):\n",
    "    if 0 <= time <= 6:\n",
    "        return 'night'\n",
    "    elif 6 < time <= 12:\n",
    "        return 'morning'\n",
    "    elif 12 < time <= 18:\n",
    "        return 'day'\n",
    "    elif 18 < time <= 23:\n",
    "        return 'evening'\n",
    "    else:\n",
    "        return 'else'\n",
    "citibike_tripdata['time_of_day'] = citibike_tripdata['starttime'].dt.hour.apply(get_time_of_day)\n",
    "a = citibike_tripdata[citibike_tripdata['time_of_day'] == 'day'].shape[0]\n",
    "b = citibike_tripdata[citibike_tripdata['time_of_day'] == 'night'].shape[0]\n",
    "print(round(a / b))"
   ]
  },
  {
   "cell_type": "code",
   "execution_count": null,
   "metadata": {},
   "outputs": [],
   "source": []
  }
 ],
 "metadata": {
  "interpreter": {
   "hash": "2bc9d3d03d6abd05a2a6b4e9db2e2f37b3c445a3e83321d2b915ec6cd4d6c2be"
  },
  "kernelspec": {
   "display_name": "Python 3.8.9 64-bit",
   "language": "python",
   "name": "python3"
  },
  "language_info": {
   "codemirror_mode": {
    "name": "ipython",
    "version": 3
   },
   "file_extension": ".py",
   "mimetype": "text/x-python",
   "name": "python",
   "nbconvert_exporter": "python",
   "pygments_lexer": "ipython3",
   "version": "3.8.9"
  },
  "orig_nbformat": 4
 },
 "nbformat": 4,
 "nbformat_minor": 2
}
