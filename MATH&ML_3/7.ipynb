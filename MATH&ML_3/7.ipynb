{
 "cells": [
  {
   "cell_type": "code",
   "execution_count": 1,
   "metadata": {},
   "outputs": [],
   "source": [
    "import numpy as np"
   ]
  },
  {
   "cell_type": "code",
   "execution_count": 2,
   "metadata": {},
   "outputs": [
    {
     "data": {
      "text/plain": [
       "(array([[-0.66666667,  0.66666667, -0.33333333],\n",
       "        [-0.66666667, -0.33333333,  0.66666667],\n",
       "        [ 0.33333333,  0.66666667,  0.66666667]]),\n",
       " array([8.48528137, 4.24264069]),\n",
       " array([[-0.70710678, -0.70710678],\n",
       "        [-0.70710678,  0.70710678]]))"
      ]
     },
     "execution_count": 2,
     "metadata": {},
     "output_type": "execute_result"
    }
   ],
   "source": [
    "# составляем матрицу А \n",
    "A = np.array([\n",
    "    [2, 5, -4],\n",
    "    [6, 3, 0],\n",
    "]).T\n",
    "# применяем сингулярное разложение\n",
    "np.linalg.svd(A)"
   ]
  },
  {
   "attachments": {},
   "cell_type": "markdown",
   "metadata": {},
   "source": [
    "Функция возвращает кортеж из трёх массивов:\n",
    "\n",
    "+ Левая матрица сингулярного разложения U, состоящая из собственных векторов матрицы A*A^T.\n",
    "+ Сингулярные числа, стоящие на главной диагонали матрицы D.\n",
    "+ Правая матрица сингулярного разложения V^T, состоящая из собственных векторов матрицы A^T*A.\n",
    "\n",
    "Кстати, заметьте, что наш результат полностью совпал с результатом сингулярного разложения, вычисленным вручную."
   ]
  },
  {
   "cell_type": "code",
   "execution_count": null,
   "metadata": {},
   "outputs": [],
   "source": []
  }
 ],
 "metadata": {
  "kernelspec": {
   "display_name": "Python 3",
   "language": "python",
   "name": "python3"
  },
  "language_info": {
   "codemirror_mode": {
    "name": "ipython",
    "version": 3
   },
   "file_extension": ".py",
   "mimetype": "text/x-python",
   "name": "python",
   "nbconvert_exporter": "python",
   "pygments_lexer": "ipython3",
   "version": "3.10.8"
  },
  "orig_nbformat": 4,
  "vscode": {
   "interpreter": {
    "hash": "321ab55950f37df101268a46266f5dff6fbc802a7a8ebb790c29b4e197aadd34"
   }
  }
 },
 "nbformat": 4,
 "nbformat_minor": 2
}
