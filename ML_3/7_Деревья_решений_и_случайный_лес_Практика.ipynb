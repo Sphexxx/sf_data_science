{
  "cells": [
    {
      "cell_type": "markdown",
      "metadata": {
        "id": "8_MYk_LCs_Cv"
      },
      "source": [
        "# **7. Деревья решений и случайный лес. Практика**"
      ]
    },
    {
      "cell_type": "markdown",
      "metadata": {
        "id": "gGB2eS_TtDA-"
      },
      "source": [
        "✍ Настало время попрактиковаться в использовании деревьев решений и случайного леса для решения задачи классификации.\n",
        "\n",
        "Продолжим решение задачи об оттоке клиентов банка, которую мы решали в юните 4. Ранее мы построили модель логистической регрессии, затем добавили в модель полиномиальные признаки и подобрали оптимальный порог вероятности для логистической регрессии.\n",
        "\n",
        "→ Теперь попробуем решить задачу с помощью деревьев решений и лесов.\n",
        "\n",
        "Деревья решений — алгоритм, способный уловить нелинейные зависимости. Генерация полиномиальных признаков практически не имеет значения.\n",
        "\n",
        "Поэтому для решения задачи используйте обучающую (X_train, y_train) и тестовую (X_test, y_test) выборки без полиномиальных столбцов."
      ]
    },
    {
      "cell_type": "code",
      "execution_count": 1,
      "metadata": {
        "id": "C5bNT0LTs9EC"
      },
      "outputs": [],
      "source": [
        "#импорт библиотек\n",
        "import numpy as np #для матричных вычислений\n",
        "import pandas as pd #для анализа и предобработки данных\n",
        "import matplotlib.pyplot as plt #для визуализации\n",
        "import seaborn as sns #для визуализации\n",
        "\n",
        "from sklearn import linear_model #линейные модели\n",
        "from sklearn import tree #деревья решений\n",
        "from sklearn import ensemble #ансамбли\n",
        "from sklearn import metrics #метрики\n",
        "from sklearn import preprocessing #предобработка\n",
        "from sklearn.model_selection import train_test_split #сплитование выборки\n",
        "\n",
        "%matplotlib inline\n",
        "plt.style.use('seaborn')"
      ]
    },
    {
      "cell_type": "code",
      "execution_count": 2,
      "metadata": {},
      "outputs": [
        {
          "data": {
            "text/html": [
              "<div>\n",
              "<style scoped>\n",
              "    .dataframe tbody tr th:only-of-type {\n",
              "        vertical-align: middle;\n",
              "    }\n",
              "\n",
              "    .dataframe tbody tr th {\n",
              "        vertical-align: top;\n",
              "    }\n",
              "\n",
              "    .dataframe thead th {\n",
              "        text-align: right;\n",
              "    }\n",
              "</style>\n",
              "<table border=\"1\" class=\"dataframe\">\n",
              "  <thead>\n",
              "    <tr style=\"text-align: right;\">\n",
              "      <th></th>\n",
              "      <th>age</th>\n",
              "      <th>workclass</th>\n",
              "      <th>fnlwgt</th>\n",
              "      <th>education</th>\n",
              "      <th>education.num</th>\n",
              "      <th>marital.status</th>\n",
              "      <th>occupation</th>\n",
              "      <th>relationship</th>\n",
              "      <th>race</th>\n",
              "      <th>sex</th>\n",
              "      <th>capital.gain</th>\n",
              "      <th>capital.loss</th>\n",
              "      <th>hours.per.week</th>\n",
              "      <th>native.country</th>\n",
              "      <th>income</th>\n",
              "    </tr>\n",
              "  </thead>\n",
              "  <tbody>\n",
              "    <tr>\n",
              "      <th>0</th>\n",
              "      <td>90</td>\n",
              "      <td>?</td>\n",
              "      <td>77053</td>\n",
              "      <td>HS-grad</td>\n",
              "      <td>9</td>\n",
              "      <td>Widowed</td>\n",
              "      <td>?</td>\n",
              "      <td>Not-in-family</td>\n",
              "      <td>White</td>\n",
              "      <td>Female</td>\n",
              "      <td>0</td>\n",
              "      <td>4356</td>\n",
              "      <td>40</td>\n",
              "      <td>United-States</td>\n",
              "      <td>&lt;=50K</td>\n",
              "    </tr>\n",
              "    <tr>\n",
              "      <th>1</th>\n",
              "      <td>82</td>\n",
              "      <td>Private</td>\n",
              "      <td>132870</td>\n",
              "      <td>HS-grad</td>\n",
              "      <td>9</td>\n",
              "      <td>Widowed</td>\n",
              "      <td>Exec-managerial</td>\n",
              "      <td>Not-in-family</td>\n",
              "      <td>White</td>\n",
              "      <td>Female</td>\n",
              "      <td>0</td>\n",
              "      <td>4356</td>\n",
              "      <td>18</td>\n",
              "      <td>United-States</td>\n",
              "      <td>&lt;=50K</td>\n",
              "    </tr>\n",
              "    <tr>\n",
              "      <th>2</th>\n",
              "      <td>66</td>\n",
              "      <td>?</td>\n",
              "      <td>186061</td>\n",
              "      <td>Some-college</td>\n",
              "      <td>10</td>\n",
              "      <td>Widowed</td>\n",
              "      <td>?</td>\n",
              "      <td>Unmarried</td>\n",
              "      <td>Black</td>\n",
              "      <td>Female</td>\n",
              "      <td>0</td>\n",
              "      <td>4356</td>\n",
              "      <td>40</td>\n",
              "      <td>United-States</td>\n",
              "      <td>&lt;=50K</td>\n",
              "    </tr>\n",
              "    <tr>\n",
              "      <th>3</th>\n",
              "      <td>54</td>\n",
              "      <td>Private</td>\n",
              "      <td>140359</td>\n",
              "      <td>7th-8th</td>\n",
              "      <td>4</td>\n",
              "      <td>Divorced</td>\n",
              "      <td>Machine-op-inspct</td>\n",
              "      <td>Unmarried</td>\n",
              "      <td>White</td>\n",
              "      <td>Female</td>\n",
              "      <td>0</td>\n",
              "      <td>3900</td>\n",
              "      <td>40</td>\n",
              "      <td>United-States</td>\n",
              "      <td>&lt;=50K</td>\n",
              "    </tr>\n",
              "    <tr>\n",
              "      <th>4</th>\n",
              "      <td>41</td>\n",
              "      <td>Private</td>\n",
              "      <td>264663</td>\n",
              "      <td>Some-college</td>\n",
              "      <td>10</td>\n",
              "      <td>Separated</td>\n",
              "      <td>Prof-specialty</td>\n",
              "      <td>Own-child</td>\n",
              "      <td>White</td>\n",
              "      <td>Female</td>\n",
              "      <td>0</td>\n",
              "      <td>3900</td>\n",
              "      <td>40</td>\n",
              "      <td>United-States</td>\n",
              "      <td>&lt;=50K</td>\n",
              "    </tr>\n",
              "  </tbody>\n",
              "</table>\n",
              "</div>"
            ],
            "text/plain": [
              "   age workclass  fnlwgt     education  education.num marital.status  \\\n",
              "0   90         ?   77053       HS-grad              9        Widowed   \n",
              "1   82   Private  132870       HS-grad              9        Widowed   \n",
              "2   66         ?  186061  Some-college             10        Widowed   \n",
              "3   54   Private  140359       7th-8th              4       Divorced   \n",
              "4   41   Private  264663  Some-college             10      Separated   \n",
              "\n",
              "          occupation   relationship   race     sex  capital.gain  \\\n",
              "0                  ?  Not-in-family  White  Female             0   \n",
              "1    Exec-managerial  Not-in-family  White  Female             0   \n",
              "2                  ?      Unmarried  Black  Female             0   \n",
              "3  Machine-op-inspct      Unmarried  White  Female             0   \n",
              "4     Prof-specialty      Own-child  White  Female             0   \n",
              "\n",
              "   capital.loss  hours.per.week native.country income  \n",
              "0          4356              40  United-States  <=50K  \n",
              "1          4356              18  United-States  <=50K  \n",
              "2          4356              40  United-States  <=50K  \n",
              "3          3900              40  United-States  <=50K  \n",
              "4          3900              40  United-States  <=50K  "
            ]
          },
          "execution_count": 2,
          "metadata": {},
          "output_type": "execute_result"
        }
      ],
      "source": [
        "data = pd.read_csv('data/adult.csv')\n",
        "data.head()"
      ]
    },
    {
      "cell_type": "markdown",
      "metadata": {},
      "source": [
        "Для удобства переобозначим целевой признак (не обязательный шаг)"
      ]
    },
    {
      "cell_type": "code",
      "execution_count": 3,
      "metadata": {},
      "outputs": [],
      "source": [
        "data['income'] = data['income'].apply(lambda x: 1 if x == '>50K' else 0)"
      ]
    },
    {
      "cell_type": "markdown",
      "metadata": {},
      "source": [
        "Исследуем категориальные признаки"
      ]
    },
    {
      "cell_type": "code",
      "execution_count": 4,
      "metadata": {},
      "outputs": [
        {
          "data": {
            "text/plain": [
              "['workclass',\n",
              " 'education',\n",
              " 'marital.status',\n",
              " 'occupation',\n",
              " 'relationship',\n",
              " 'race',\n",
              " 'sex',\n",
              " 'native.country']"
            ]
          },
          "execution_count": 4,
          "metadata": {},
          "output_type": "execute_result"
        }
      ],
      "source": [
        "types = data.dtypes\n",
        "cat_features = list(types[(types == 'object')].index)\n",
        "cat_features"
      ]
    },
    {
      "cell_type": "markdown",
      "metadata": {},
      "source": [
        "Предобрабатываем категориальные признаки: уменьшаем количество категорий"
      ]
    },
    {
      "cell_type": "code",
      "execution_count": 5,
      "metadata": {},
      "outputs": [],
      "source": [
        "adult_data = data.copy()\n",
        "#Определяем школьников в отдельную категорию\n",
        "adult_data['education'] = adult_data['education'].apply(\n",
        "    lambda x: 'School' if x == '11th' or x == '7th-8th' or x == '10th' \n",
        "        or x == '5th-6th' or x == '9th' or x == '12th' or x == '1st-4th' else x\n",
        ")\n",
        "#Объединяем категории Assoc-acdm и Assoc-voc (доценты)\n",
        "adult_data['education'] = adult_data['education'].apply(\n",
        "    lambda x: 'Associate' if x == 'Assoc-acdm' or x == 'Assoc-voc' else x\n",
        ")\n",
        "#Объединяем вдовцов,разведенных и живущих раздельно в одну категорию\n",
        "adult_data['marital.status'] = adult_data['marital.status'].apply(\n",
        "    lambda x: 'Prev-Married' if (x == 'Widowed' or x == 'Divorced' or x == 'Separated') else x\n",
        ")\n",
        "#Объединяем всех женатых/за мужем в одну категорию\n",
        "adult_data['marital.status'] = adult_data['marital.status'].apply(\n",
        "    lambda x: 'Married' if (x == 'Married-civ-spouse' or x == 'Married-spouse-absent' or x == 'Married-AF-spouse') else x\n",
        ")\n",
        "#Объединяем мужей и жен в одну категорию, остальных в другую\n",
        "adult_data['relationship'] = adult_data['relationship'].apply(\n",
        "    lambda x: 'In relationship' if (x == 'Husband' or x == 'Wife') else 'Not in relationship'\n",
        ")\n",
        "\n",
        "#Объединяем типы занятоностей, не приносящих дохода в одну категорию\n",
        "adult_data['workclass'] = adult_data['workclass'].apply(\n",
        "    lambda x: 'No income' if x == 'Never-worked' or x == 'Without-pay' else x\n",
        ")\n",
        "#Объединяем всех приезжих в одну категорию\n",
        "adult_data['native.country'] = adult_data['native.country'].apply(\n",
        "    lambda x: 'Other' if x != 'United-States' else x\n",
        ")"
      ]
    },
    {
      "cell_type": "markdown",
      "metadata": {},
      "source": [
        "Предобрабатываем числовые признаки"
      ]
    },
    {
      "cell_type": "code",
      "execution_count": 6,
      "metadata": {},
      "outputs": [],
      "source": [
        "#Логарифмируем числовые признаки, чтобы придать им форму нормального распределения\n",
        "adult_data['capital.gain'] = np.log(adult_data['capital.gain']+1)\n",
        "adult_data['capital.loss'] = np.log(adult_data['capital.loss']+1)\n",
        "adult_data['fnlwgt'] = np.log(adult_data['fnlwgt']+1)\n",
        "\n",
        "#Создаем новый признак - разность между приростом капитала и его убылью\n",
        "adult_data['capital_diff'] = abs((adult_data['capital.gain'] - adult_data['capital.loss']))"
      ]
    },
    {
      "cell_type": "code",
      "execution_count": 7,
      "metadata": {},
      "outputs": [],
      "source": [
        "#Удаляем лишние признаки\n",
        "adult_data = adult_data.drop(['education.num', 'capital.gain', 'capital.loss'], axis=1)"
      ]
    },
    {
      "cell_type": "markdown",
      "metadata": {},
      "source": [
        "Кодируем текстовые категориальные признаки"
      ]
    },
    {
      "cell_type": "code",
      "execution_count": 8,
      "metadata": {},
      "outputs": [
        {
          "data": {
            "text/html": [
              "<div>\n",
              "<style scoped>\n",
              "    .dataframe tbody tr th:only-of-type {\n",
              "        vertical-align: middle;\n",
              "    }\n",
              "\n",
              "    .dataframe tbody tr th {\n",
              "        vertical-align: top;\n",
              "    }\n",
              "\n",
              "    .dataframe thead th {\n",
              "        text-align: right;\n",
              "    }\n",
              "</style>\n",
              "<table border=\"1\" class=\"dataframe\">\n",
              "  <thead>\n",
              "    <tr style=\"text-align: right;\">\n",
              "      <th></th>\n",
              "      <th>age</th>\n",
              "      <th>fnlwgt</th>\n",
              "      <th>hours.per.week</th>\n",
              "      <th>income</th>\n",
              "      <th>capital_diff</th>\n",
              "      <th>workclass_Federal-gov</th>\n",
              "      <th>workclass_Local-gov</th>\n",
              "      <th>workclass_No income</th>\n",
              "      <th>workclass_Private</th>\n",
              "      <th>workclass_Self-emp-inc</th>\n",
              "      <th>...</th>\n",
              "      <th>occupation_Sales</th>\n",
              "      <th>occupation_Tech-support</th>\n",
              "      <th>occupation_Transport-moving</th>\n",
              "      <th>relationship_Not in relationship</th>\n",
              "      <th>race_Asian-Pac-Islander</th>\n",
              "      <th>race_Black</th>\n",
              "      <th>race_Other</th>\n",
              "      <th>race_White</th>\n",
              "      <th>sex_Male</th>\n",
              "      <th>native.country_United-States</th>\n",
              "    </tr>\n",
              "  </thead>\n",
              "  <tbody>\n",
              "    <tr>\n",
              "      <th>0</th>\n",
              "      <td>90</td>\n",
              "      <td>11.252262</td>\n",
              "      <td>40</td>\n",
              "      <td>0</td>\n",
              "      <td>8.379539</td>\n",
              "      <td>0</td>\n",
              "      <td>0</td>\n",
              "      <td>0</td>\n",
              "      <td>0</td>\n",
              "      <td>0</td>\n",
              "      <td>...</td>\n",
              "      <td>0</td>\n",
              "      <td>0</td>\n",
              "      <td>0</td>\n",
              "      <td>1</td>\n",
              "      <td>0</td>\n",
              "      <td>0</td>\n",
              "      <td>0</td>\n",
              "      <td>1</td>\n",
              "      <td>0</td>\n",
              "      <td>1</td>\n",
              "    </tr>\n",
              "    <tr>\n",
              "      <th>1</th>\n",
              "      <td>82</td>\n",
              "      <td>11.797134</td>\n",
              "      <td>18</td>\n",
              "      <td>0</td>\n",
              "      <td>8.379539</td>\n",
              "      <td>0</td>\n",
              "      <td>0</td>\n",
              "      <td>0</td>\n",
              "      <td>1</td>\n",
              "      <td>0</td>\n",
              "      <td>...</td>\n",
              "      <td>0</td>\n",
              "      <td>0</td>\n",
              "      <td>0</td>\n",
              "      <td>1</td>\n",
              "      <td>0</td>\n",
              "      <td>0</td>\n",
              "      <td>0</td>\n",
              "      <td>1</td>\n",
              "      <td>0</td>\n",
              "      <td>1</td>\n",
              "    </tr>\n",
              "    <tr>\n",
              "      <th>2</th>\n",
              "      <td>66</td>\n",
              "      <td>12.133835</td>\n",
              "      <td>40</td>\n",
              "      <td>0</td>\n",
              "      <td>8.379539</td>\n",
              "      <td>0</td>\n",
              "      <td>0</td>\n",
              "      <td>0</td>\n",
              "      <td>0</td>\n",
              "      <td>0</td>\n",
              "      <td>...</td>\n",
              "      <td>0</td>\n",
              "      <td>0</td>\n",
              "      <td>0</td>\n",
              "      <td>1</td>\n",
              "      <td>0</td>\n",
              "      <td>1</td>\n",
              "      <td>0</td>\n",
              "      <td>0</td>\n",
              "      <td>0</td>\n",
              "      <td>1</td>\n",
              "    </tr>\n",
              "    <tr>\n",
              "      <th>3</th>\n",
              "      <td>54</td>\n",
              "      <td>11.851966</td>\n",
              "      <td>40</td>\n",
              "      <td>0</td>\n",
              "      <td>8.268988</td>\n",
              "      <td>0</td>\n",
              "      <td>0</td>\n",
              "      <td>0</td>\n",
              "      <td>1</td>\n",
              "      <td>0</td>\n",
              "      <td>...</td>\n",
              "      <td>0</td>\n",
              "      <td>0</td>\n",
              "      <td>0</td>\n",
              "      <td>1</td>\n",
              "      <td>0</td>\n",
              "      <td>0</td>\n",
              "      <td>0</td>\n",
              "      <td>1</td>\n",
              "      <td>0</td>\n",
              "      <td>1</td>\n",
              "    </tr>\n",
              "    <tr>\n",
              "      <th>4</th>\n",
              "      <td>41</td>\n",
              "      <td>12.486216</td>\n",
              "      <td>40</td>\n",
              "      <td>0</td>\n",
              "      <td>8.268988</td>\n",
              "      <td>0</td>\n",
              "      <td>0</td>\n",
              "      <td>0</td>\n",
              "      <td>1</td>\n",
              "      <td>0</td>\n",
              "      <td>...</td>\n",
              "      <td>0</td>\n",
              "      <td>0</td>\n",
              "      <td>0</td>\n",
              "      <td>1</td>\n",
              "      <td>0</td>\n",
              "      <td>0</td>\n",
              "      <td>0</td>\n",
              "      <td>1</td>\n",
              "      <td>0</td>\n",
              "      <td>1</td>\n",
              "    </tr>\n",
              "  </tbody>\n",
              "</table>\n",
              "<p>5 rows × 43 columns</p>\n",
              "</div>"
            ],
            "text/plain": [
              "   age     fnlwgt  hours.per.week  income  capital_diff  \\\n",
              "0   90  11.252262              40       0      8.379539   \n",
              "1   82  11.797134              18       0      8.379539   \n",
              "2   66  12.133835              40       0      8.379539   \n",
              "3   54  11.851966              40       0      8.268988   \n",
              "4   41  12.486216              40       0      8.268988   \n",
              "\n",
              "   workclass_Federal-gov  workclass_Local-gov  workclass_No income  \\\n",
              "0                      0                    0                    0   \n",
              "1                      0                    0                    0   \n",
              "2                      0                    0                    0   \n",
              "3                      0                    0                    0   \n",
              "4                      0                    0                    0   \n",
              "\n",
              "   workclass_Private  workclass_Self-emp-inc  ...  occupation_Sales  \\\n",
              "0                  0                       0  ...                 0   \n",
              "1                  1                       0  ...                 0   \n",
              "2                  0                       0  ...                 0   \n",
              "3                  1                       0  ...                 0   \n",
              "4                  1                       0  ...                 0   \n",
              "\n",
              "   occupation_Tech-support  occupation_Transport-moving  \\\n",
              "0                        0                            0   \n",
              "1                        0                            0   \n",
              "2                        0                            0   \n",
              "3                        0                            0   \n",
              "4                        0                            0   \n",
              "\n",
              "   relationship_Not in relationship  race_Asian-Pac-Islander  race_Black  \\\n",
              "0                                 1                        0           0   \n",
              "1                                 1                        0           0   \n",
              "2                                 1                        0           1   \n",
              "3                                 1                        0           0   \n",
              "4                                 1                        0           0   \n",
              "\n",
              "   race_Other  race_White  sex_Male  native.country_United-States  \n",
              "0           0           1         0                             1  \n",
              "1           0           1         0                             1  \n",
              "2           0           0         0                             1  \n",
              "3           0           1         0                             1  \n",
              "4           0           1         0                             1  \n",
              "\n",
              "[5 rows x 43 columns]"
            ]
          },
          "execution_count": 8,
          "metadata": {},
          "output_type": "execute_result"
        }
      ],
      "source": [
        "dummies_data = pd.get_dummies(adult_data, drop_first=True)\n",
        "dummies_data.head()"
      ]
    },
    {
      "cell_type": "markdown",
      "metadata": {},
      "source": [
        "Создаем матрицу наблюдений $X$ и вектор ответов $y$"
      ]
    },
    {
      "cell_type": "code",
      "execution_count": 9,
      "metadata": {},
      "outputs": [],
      "source": [
        "X = dummies_data.drop(['income'], axis=1)\n",
        "y = dummies_data['income']"
      ]
    },
    {
      "cell_type": "markdown",
      "metadata": {},
      "source": [
        "Разделяем выборку на тренировочную и тестовую в соотношении 80/20. Для сохранения соотношений целевого признака используем параметр stratify (стратифицированное разбиение). "
      ]
    },
    {
      "cell_type": "code",
      "execution_count": 10,
      "metadata": {},
      "outputs": [],
      "source": [
        "X_train, X_test, y_train, y_test = train_test_split(X, y, stratify=y, random_state = 1, test_size = 0.2)"
      ]
    },
    {
      "cell_type": "markdown",
      "metadata": {},
      "source": [
        "Производим нормализацию данных с помощью min-max нормализации"
      ]
    },
    {
      "cell_type": "code",
      "execution_count": 11,
      "metadata": {},
      "outputs": [],
      "source": [
        "scaler = preprocessing.MinMaxScaler()\n",
        "scaler.fit(X_train)\n",
        "X_train_scaled = scaler.transform(X_train)\n",
        "X_test_scaled = scaler.transform(X_test)"
      ]
    },
    {
      "cell_type": "markdown",
      "metadata": {},
      "source": [
        "Поиск параметров можно проводить с помощью численных методов. Например, градиентного спуска"
      ]
    },
    {
      "cell_type": "code",
      "execution_count": 12,
      "metadata": {},
      "outputs": [
        {
          "data": {
            "text/html": [
              "<style>#sk-container-id-1 {color: black;background-color: white;}#sk-container-id-1 pre{padding: 0;}#sk-container-id-1 div.sk-toggleable {background-color: white;}#sk-container-id-1 label.sk-toggleable__label {cursor: pointer;display: block;width: 100%;margin-bottom: 0;padding: 0.3em;box-sizing: border-box;text-align: center;}#sk-container-id-1 label.sk-toggleable__label-arrow:before {content: \"▸\";float: left;margin-right: 0.25em;color: #696969;}#sk-container-id-1 label.sk-toggleable__label-arrow:hover:before {color: black;}#sk-container-id-1 div.sk-estimator:hover label.sk-toggleable__label-arrow:before {color: black;}#sk-container-id-1 div.sk-toggleable__content {max-height: 0;max-width: 0;overflow: hidden;text-align: left;background-color: #f0f8ff;}#sk-container-id-1 div.sk-toggleable__content pre {margin: 0.2em;color: black;border-radius: 0.25em;background-color: #f0f8ff;}#sk-container-id-1 input.sk-toggleable__control:checked~div.sk-toggleable__content {max-height: 200px;max-width: 100%;overflow: auto;}#sk-container-id-1 input.sk-toggleable__control:checked~label.sk-toggleable__label-arrow:before {content: \"▾\";}#sk-container-id-1 div.sk-estimator input.sk-toggleable__control:checked~label.sk-toggleable__label {background-color: #d4ebff;}#sk-container-id-1 div.sk-label input.sk-toggleable__control:checked~label.sk-toggleable__label {background-color: #d4ebff;}#sk-container-id-1 input.sk-hidden--visually {border: 0;clip: rect(1px 1px 1px 1px);clip: rect(1px, 1px, 1px, 1px);height: 1px;margin: -1px;overflow: hidden;padding: 0;position: absolute;width: 1px;}#sk-container-id-1 div.sk-estimator {font-family: monospace;background-color: #f0f8ff;border: 1px dotted black;border-radius: 0.25em;box-sizing: border-box;margin-bottom: 0.5em;}#sk-container-id-1 div.sk-estimator:hover {background-color: #d4ebff;}#sk-container-id-1 div.sk-parallel-item::after {content: \"\";width: 100%;border-bottom: 1px solid gray;flex-grow: 1;}#sk-container-id-1 div.sk-label:hover label.sk-toggleable__label {background-color: #d4ebff;}#sk-container-id-1 div.sk-serial::before {content: \"\";position: absolute;border-left: 1px solid gray;box-sizing: border-box;top: 0;bottom: 0;left: 50%;z-index: 0;}#sk-container-id-1 div.sk-serial {display: flex;flex-direction: column;align-items: center;background-color: white;padding-right: 0.2em;padding-left: 0.2em;position: relative;}#sk-container-id-1 div.sk-item {position: relative;z-index: 1;}#sk-container-id-1 div.sk-parallel {display: flex;align-items: stretch;justify-content: center;background-color: white;position: relative;}#sk-container-id-1 div.sk-item::before, #sk-container-id-1 div.sk-parallel-item::before {content: \"\";position: absolute;border-left: 1px solid gray;box-sizing: border-box;top: 0;bottom: 0;left: 50%;z-index: -1;}#sk-container-id-1 div.sk-parallel-item {display: flex;flex-direction: column;z-index: 1;position: relative;background-color: white;}#sk-container-id-1 div.sk-parallel-item:first-child::after {align-self: flex-end;width: 50%;}#sk-container-id-1 div.sk-parallel-item:last-child::after {align-self: flex-start;width: 50%;}#sk-container-id-1 div.sk-parallel-item:only-child::after {width: 0;}#sk-container-id-1 div.sk-dashed-wrapped {border: 1px dashed gray;margin: 0 0.4em 0.5em 0.4em;box-sizing: border-box;padding-bottom: 0.4em;background-color: white;}#sk-container-id-1 div.sk-label label {font-family: monospace;font-weight: bold;display: inline-block;line-height: 1.2em;}#sk-container-id-1 div.sk-label-container {text-align: center;}#sk-container-id-1 div.sk-container {/* jupyter's `normalize.less` sets `[hidden] { display: none; }` but bootstrap.min.css set `[hidden] { display: none !important; }` so we also need the `!important` here to be able to override the default hidden behavior on the sphinx rendered scikit-learn.org. See: https://github.com/scikit-learn/scikit-learn/issues/21755 */display: inline-block !important;position: relative;}#sk-container-id-1 div.sk-text-repr-fallback {display: none;}</style><div id=\"sk-container-id-1\" class=\"sk-top-container\"><div class=\"sk-text-repr-fallback\"><pre>LogisticRegression(max_iter=1000, random_state=1, solver=&#x27;sag&#x27;)</pre><b>In a Jupyter environment, please rerun this cell to show the HTML representation or trust the notebook. <br />On GitHub, the HTML representation is unable to render, please try loading this page with nbviewer.org.</b></div><div class=\"sk-container\" hidden><div class=\"sk-item\"><div class=\"sk-estimator sk-toggleable\"><input class=\"sk-toggleable__control sk-hidden--visually\" id=\"sk-estimator-id-1\" type=\"checkbox\" checked><label for=\"sk-estimator-id-1\" class=\"sk-toggleable__label sk-toggleable__label-arrow\">LogisticRegression</label><div class=\"sk-toggleable__content\"><pre>LogisticRegression(max_iter=1000, random_state=1, solver=&#x27;sag&#x27;)</pre></div></div></div></div></div>"
            ],
            "text/plain": [
              "LogisticRegression(max_iter=1000, random_state=1, solver='sag')"
            ]
          },
          "execution_count": 12,
          "metadata": {},
          "output_type": "execute_result"
        }
      ],
      "source": [
        "#Создаем объект класса логистическая регрессия\n",
        "log_reg = linear_model.LogisticRegression(\n",
        "    solver='sag', #алгоритм оптимизации\n",
        "    random_state=1, #генератор случайных чисел\n",
        "    max_iter=1000 #количество итераций на сходимость\n",
        ")\n",
        "#Обучаем модель, минимизируя logloss\n",
        "log_reg.fit(X_train_scaled, y_train)"
      ]
    },
    {
      "cell_type": "markdown",
      "metadata": {},
      "source": [
        "Выводим отчет по метрикам для тренировочной и тестовой выборок"
      ]
    },
    {
      "cell_type": "code",
      "execution_count": 13,
      "metadata": {},
      "outputs": [
        {
          "name": "stdout",
          "output_type": "stream",
          "text": [
            "              precision    recall  f1-score   support\n",
            "\n",
            "           0       0.87      0.93      0.90     19775\n",
            "           1       0.72      0.58      0.64      6273\n",
            "\n",
            "    accuracy                           0.84     26048\n",
            "   macro avg       0.80      0.75      0.77     26048\n",
            "weighted avg       0.84      0.84      0.84     26048\n",
            "\n",
            "              precision    recall  f1-score   support\n",
            "\n",
            "           0       0.88      0.93      0.90      4945\n",
            "           1       0.72      0.58      0.64      1568\n",
            "\n",
            "    accuracy                           0.85      6513\n",
            "   macro avg       0.80      0.76      0.77      6513\n",
            "weighted avg       0.84      0.85      0.84      6513\n",
            "\n"
          ]
        }
      ],
      "source": [
        "#Делаем предсказание для тренировочной выборки\n",
        "y_train_pred = log_reg.predict(X_train_scaled)\n",
        "#Вывод отчет о метриках классификации\n",
        "print(metrics.classification_report(y_train, y_train_pred))\n",
        "#Делаем предсказание для тестовой выборки\n",
        "y_test_pred = log_reg.predict(X_test_scaled)\n",
        "#Вывод отчет о метриках классификации\n",
        "print(metrics.classification_report(y_test, y_test_pred))"
      ]
    },
    {
      "cell_type": "code",
      "execution_count": 14,
      "metadata": {},
      "outputs": [
        {
          "data": {
            "image/png": "[encoded data removed]",
            "text/plain": [
              "<Figure size 720x288 with 1 Axes>"
            ]
          },
          "metadata": {},
          "output_type": "display_data"
        }
      ],
      "source": [
        "#Считаем вероятности наличия диабета для каждого из пациентов\n",
        "#Нас интересует только вероятность класса (второй столбец)\n",
        "y_test_proba_pred = log_reg.predict_proba(X_test_scaled)[:, 1]\n",
        "#Для удобства завернем numpy-массив в pandas Series\n",
        "y_test_proba_pred = pd.Series(y_test_proba_pred)\n",
        "#Создадим списки, в которых будем хранить значения метрик \n",
        "recall_scores = []\n",
        "precision_scores = []\n",
        "f1_scores = []\n",
        "#Сгенерируем набор вероятностных порогов в диапазоне от 0.1 до 1\n",
        "thresholds = np.arange(0.1, 1, 0.05)\n",
        "#В цикле будем перебирать сгенерированные пороги\n",
        "for threshold in thresholds:\n",
        "    #Пациентов, для которых вероятность наличия диабета > threshold относим к классу 1\n",
        "    #В противном случае - к классу 0\n",
        "    y_test_pred = y_test_proba_pred.apply(lambda x: 1 if x>threshold else 0)\n",
        "    #Считаем метрики и добавляем их в списки\n",
        "    recall_scores.append(metrics.recall_score(y_test, y_test_pred))\n",
        "    precision_scores.append(metrics.precision_score(y_test, y_test_pred))\n",
        "    f1_scores.append(metrics.f1_score(y_test, y_test_pred))\n",
        "\n",
        "#Визуализируем метрики при различных threshold\n",
        "fig, ax = plt.subplots(figsize=(10, 4)) #фигура + координатная плоскость\n",
        "#Строим линейный график зависимости recall от threshold\n",
        "ax.plot(thresholds, recall_scores, label='Recall')\n",
        "#Строим линейный график зависимости precision от threshold\n",
        "ax.plot(thresholds, precision_scores, label='Precision')\n",
        "\n",
        "#Строим линейный график зависимости F1 от threshold\n",
        "ax.plot(thresholds, f1_scores, label='F1-score')\n",
        "#Даем графику название и подписи осям\n",
        "ax.set_title('Recall/Precision dependence on the threshold')\n",
        "ax.set_xlabel('Probability threshold')\n",
        "ax.set_ylabel('Score')\n",
        "ax.legend();"
      ]
    },
    {
      "cell_type": "code",
      "execution_count": 15,
      "metadata": {},
      "outputs": [
        {
          "name": "stdout",
          "output_type": "stream",
          "text": [
            "              precision    recall  f1-score   support\n",
            "\n",
            "           0       0.90      0.90      0.90      4945\n",
            "           1       0.68      0.69      0.68      1568\n",
            "\n",
            "    accuracy                           0.85      6513\n",
            "   macro avg       0.79      0.79      0.79      6513\n",
            "weighted avg       0.85      0.85      0.85      6513\n",
            "\n"
          ]
        }
      ],
      "source": [
        "#Задаем оптимальный порог вероятностей\n",
        "threshold_opt = 0.4\n",
        "#Людей, у которых вероятность зарабатывать >50K больше 0.5 относим к классу 1\n",
        "#В противном случае - к классу 0\n",
        "y_test_pred_opt = y_test_proba_pred.apply(lambda x: 1 if x > threshold_opt else 0)\n",
        "#Считаем метрики\n",
        "print(metrics.classification_report(y_test, y_test_pred_opt))"
      ]
    },
    {
      "cell_type": "markdown",
      "metadata": {},
      "source": [
        "## Задание 7.1\n",
        "\n",
        "Обучите на обучающей выборке дерево решений с максимальной глубиной 8. В качестве критерия информативности используйте энтропию Шеннона. Минимальное число объектов в листе (количество объектов, при которых дерево прекратит делиться и образуется лист) — 10.\n",
        "\n",
        "В качестве значения параметра random_state возьмите число 42. Остальные параметры оставьте по умолчанию.\n",
        "\n",
        "Сделайте предсказания для тренировочной и тестовой выборок.\n",
        "\n",
        "Чему равно значение целевой метрики на каждой из выборок? Ответ округлите до двух знаков после точки-разделителя."
      ]
    },
    {
      "cell_type": "code",
      "execution_count": 18,
      "metadata": {},
      "outputs": [
        {
          "name": "stdout",
          "output_type": "stream",
          "text": [
            "Train F1: 0.66\n",
            "Test F1: 0.64\n"
          ]
        }
      ],
      "source": [
        "from sklearn import tree\n",
        "\n",
        "\n",
        "dt = tree.DecisionTreeClassifier(\n",
        "    max_depth=8, \n",
        "    criterion='entropy', \n",
        "    random_state=42,\n",
        "    min_samples_leaf=10\n",
        ")\n",
        " \n",
        "dt.fit(X_train, y_train)\n",
        " \n",
        "y_train_pred= dt.predict(X_train)\n",
        "print('Train F1: {:.2f}'.format(metrics.f1_score(y_train, y_train_pred)))\n",
        " \n",
        "y_test_pred = dt.predict(X_test)\n",
        "print('Test F1: {:.2f}'.format(metrics.f1_score(y_test, y_test_pred)))"
      ]
    },
    {
      "cell_type": "markdown",
      "metadata": {},
      "source": [
        "Задание 7.2"
      ]
    },
    {
      "cell_type": "code",
      "execution_count": 19,
      "metadata": {},
      "outputs": [
        {
          "name": "stdout",
          "output_type": "stream",
          "text": [
            "Train F1: 0.63\n",
            "Test F1: 0.63\n"
          ]
        }
      ],
      "source": [
        "from sklearn import ensemble\n",
        " \n",
        "rf = ensemble.RandomForestClassifier(\n",
        "    n_estimators=500,\n",
        "    max_depth=8,\n",
        "    criterion='entropy', \n",
        "    min_samples_leaf=10,\n",
        "    random_state=42\n",
        ")\n",
        " \n",
        "rf.fit(X_train, y_train)\n",
        " \n",
        "y_train_pred= rf.predict(X_train)\n",
        "print('Train F1: {:.2f}'.format(metrics.f1_score(y_train, y_train_pred)))\n",
        " \n",
        "y_test_pred = rf.predict(X_test)\n",
        "print('Test F1: {:.2f}'.format(metrics.f1_score(y_test, y_test_pred)))"
      ]
    },
    {
      "cell_type": "markdown",
      "metadata": {},
      "source": [
        "Задание 7.4"
      ]
    },
    {
      "cell_type": "code",
      "execution_count": 20,
      "metadata": {},
      "outputs": [
        {
          "data": {
            "image/png": "[encoded data removed]",
            "text/plain": [
              "<Figure size 720x288 with 1 Axes>"
            ]
          },
          "metadata": {},
          "output_type": "display_data"
        }
      ],
      "source": [
        "y_test_proba_pred = pd.Series(rf.predict_proba(X_test)[:, 1])\n",
        "f1_scores = []\n",
        "thresholds = np.arange(0.1, 1, 0.05)\n",
        "for threshold in thresholds:\n",
        "    y_test_pred_poly = y_test_proba_pred.apply(lambda x: 1 if x > threshold else 0)\n",
        "    f1_scores.append(metrics.f1_score(y_test, y_test_pred_poly))\n",
        "fig, ax = plt.subplots(figsize=(10, 4))\n",
        "ax.plot(thresholds, f1_scores, label='F1')\n",
        "ax.set_title('F1-score dependence on the threshold')\n",
        "ax.set_xticks(thresholds) \n",
        "ax.set_xlabel('Probability threshold')\n",
        "ax.set_ylabel('Score')\n",
        "ax.legend();"
      ]
    },
    {
      "cell_type": "markdown",
      "metadata": {},
      "source": [
        "Задание 7.5"
      ]
    },
    {
      "cell_type": "code",
      "execution_count": 21,
      "metadata": {},
      "outputs": [
        {
          "name": "stdout",
          "output_type": "stream",
          "text": [
            "Test F1: 0.71\n"
          ]
        }
      ],
      "source": [
        "#Задаём оптимальный порог вероятностей\n",
        "threshold_opt = 0.35\n",
        "#Клиентов, для которых вероятность ухода > 0.35, относим к классу 1\n",
        "#В противном случае — к классу 0\n",
        "y_test_pred_opt = y_test_proba_pred.apply(lambda x: 1 if x > threshold_opt else 0)\n",
        "#Считаем метрики\n",
        "print('Test F1: {:.2f}'.format(metrics.f1_score(y_test, y_test_pred_opt)))"
      ]
    },
    {
      "cell_type": "markdown",
      "metadata": {},
      "source": [
        "# **8. Итоги**"
      ]
    },
    {
      "cell_type": "markdown",
      "metadata": {},
      "source": [
        "✍ В этом модуле мы рассмотрели, как решается задача классификации. Стоит отметить, что эта задача является более популярной, но в то же время более сложной, чем задача регрессии, о которой мы говорили ранее.\n",
        "\n",
        "Мы рассмотрели самые популярные модели и подходы, которые позволяют решать задачу классификации, а также их реализацию.\n",
        "\n",
        "Подведём итоги модуля.\n",
        "\n",
        "**В этом модуле мы:**\n",
        "\n",
        "+ узнали, что такое модель логистической регрессии и как она связана с задачей регрессии, несмотря на то что она решает задачу классификации;\n",
        "+ рассмотрели реализацию логистической регрессии в sklearn и научились с её помощью делать предсказания классов и оценок вероятностей принадлежностей к каждому из классов;\n",
        "+ познакомились с основными метриками классификации и научились оценивать качество классификатора;\n",
        "+ узнали, как бинарная классификация обобщается на случай мультиклассовой классификации и научились решать такие задачи;\n",
        "+ познакомились с деревьями решений и узнали, как происходит их построение;\n",
        "+ рассмотрели реализацию модели дерева решений в sklearn и научились с её помощью делать предсказания классов и оценок вероятностей;\n",
        "+ сделали свои первые шаги на пути к освоению ансамблевых моделей на примере бэггинга и обсудили принципы его работы;\n",
        "+ рассмотрели реализацию случайного леса (Random Forest) и научились с его помощью делать предсказания классов и оценок вероятностей;\n",
        "+ с помощью всех рассмотренных моделей решили настоящую бизнес-задачу классификации и даже оценили качество её решения.\n",
        "\n",
        "**Методы решения задачи классификации, которые мы рассмотрели в модуле:**\n",
        "\n",
        "+ LogisticRegression — модель логистической регрессии;\n",
        "+ PolynomialFeatures + LogisticRegression — модель полиномиальной логистической регрессии (или логистическая регрессия на полиномиальных признаках);\n",
        "+ DecisionTreeClassifier — модель дерева решений для классификации;\n",
        "+ RandomForestClassifier — случайный лес (бэггинг над деревьями решений + метод случайных подпространств).\n",
        "\n",
        "Отметим, что, помимо рассмотренных методов классификации, существует ещё множество методов, с которыми мы будем знакомиться и дальше."
      ]
    }
  ],
  "metadata": {
    "colab": {
      "provenance": []
    },
    "kernelspec": {
      "display_name": "Python 3.10.4 64-bit",
      "language": "python",
      "name": "python3"
    },
    "language_info": {
      "codemirror_mode": {
        "name": "ipython",
        "version": 3
      },
      "file_extension": ".py",
      "mimetype": "text/x-python",
      "name": "python",
      "nbconvert_exporter": "python",
      "pygments_lexer": "ipython3",
      "version": "3.10.4"
    },
    "vscode": {
      "interpreter": {
        "hash": "d3e10ef16274dd72e574b8fa73b58450b957d8421a2901baded3cca26fcf5dda"
      }
    }
  },
  "nbformat": 4,
  "nbformat_minor": 0
}
