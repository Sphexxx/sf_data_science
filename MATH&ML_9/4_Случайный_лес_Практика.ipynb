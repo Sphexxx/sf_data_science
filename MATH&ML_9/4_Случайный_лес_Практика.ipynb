{
  "cells": [
    {
      "cell_type": "markdown",
      "metadata": {
        "id": "bPxpCEqgTsyS"
      },
      "source": [
        "✍ В предыдущем юните мы познакомились с теоретической основой случайного леса, а в этом закрепим пройденный материал на практике.\n",
        "\n",
        "Пожалуй, каждый из нас практически ежедневно смотрит прогноз погоды: будет сегодня тепло или холодно, брать ли зонт? Мы расстраиваемся, если внезапно идёт дождь, а мы оказались к этому не готовы. Иногда можно понять, что будет дождь, просто взглянув на небо, но часто такие предположения оказываются неверными. Надёжнее всего пользоваться прогнозами, которые публикуют специалисты. А задумывались ли вы, как формируются эти прогнозы?\n",
        "\n",
        "Да-да, здесь тоже не обошлось без машинного обучения. В этом юните мы с вами немного коснёмся метеорологии, чтобы предсказать, будет ли дождь в Австралии. Попутно вы узнаете, какие факторы влияют на вероятность дождя — возможно, вы научитесь предсказывать его точнее, чем метеорологические службы, и больше никогда не окажетесь в нужный момент без зонта.\n",
        "\n",
        "Давайте посмотрим, с какими данными нам предстоит работать."
      ]
    },
    {
      "cell_type": "code",
      "execution_count": 1,
      "metadata": {
        "id": "l9B9fJHU3AeL"
      },
      "outputs": [],
      "source": [
        "import pandas as pd\n",
        "import numpy as np\n",
        "\n",
        "from sklearn import tree\n",
        "from sklearn import model_selection\n",
        "from sklearn import metrics\n",
        "from sklearn.metrics import roc_auc_score\n",
        "from sklearn.model_selection import train_test_split, GridSearchCV\n",
        "from sklearn.linear_model import LogisticRegression\n",
        "from sklearn.linear_model import LinearRegression\n",
        "from sklearn.tree import DecisionTreeRegressor\n",
        "from sklearn.tree import DecisionTreeClassifier\n",
        "from sklearn.ensemble import RandomForestClassifier\n",
        "from sklearn.ensemble import RandomForestRegressor"
      ]
    },
    {
      "cell_type": "code",
      "execution_count": 2,
      "metadata": {
        "colab": {
          "base_uri": "https://localhost:8080/",
          "height": 386
        },
        "id": "pL13HF38UcyV",
        "outputId": "ca2e54b3-f5b3-42c1-e7db-461a1e6e6ee0"
      },
      "outputs": [
        {
          "data": {
            "text/html": [
              "<div>\n",
              "<style scoped>\n",
              "    .dataframe tbody tr th:only-of-type {\n",
              "        vertical-align: middle;\n",
              "    }\n",
              "\n",
              "    .dataframe tbody tr th {\n",
              "        vertical-align: top;\n",
              "    }\n",
              "\n",
              "    .dataframe thead th {\n",
              "        text-align: right;\n",
              "    }\n",
              "</style>\n",
              "<table border=\"1\" class=\"dataframe\">\n",
              "  <thead>\n",
              "    <tr style=\"text-align: right;\">\n",
              "      <th></th>\n",
              "      <th>Date</th>\n",
              "      <th>Location</th>\n",
              "      <th>MinTemp</th>\n",
              "      <th>MaxTemp</th>\n",
              "      <th>Rainfall</th>\n",
              "      <th>Evaporation</th>\n",
              "      <th>Sunshine</th>\n",
              "      <th>WindGustDir</th>\n",
              "      <th>WindGustSpeed</th>\n",
              "      <th>WindDir9am</th>\n",
              "      <th>...</th>\n",
              "      <th>Humidity9am</th>\n",
              "      <th>Humidity3pm</th>\n",
              "      <th>Pressure9am</th>\n",
              "      <th>Pressure3pm</th>\n",
              "      <th>Cloud9am</th>\n",
              "      <th>Cloud3pm</th>\n",
              "      <th>Temp9am</th>\n",
              "      <th>Temp3pm</th>\n",
              "      <th>RainToday</th>\n",
              "      <th>RainTomorrow</th>\n",
              "    </tr>\n",
              "  </thead>\n",
              "  <tbody>\n",
              "    <tr>\n",
              "      <th>0</th>\n",
              "      <td>2008-12-01</td>\n",
              "      <td>Albury</td>\n",
              "      <td>13.4</td>\n",
              "      <td>22.9</td>\n",
              "      <td>0.6</td>\n",
              "      <td>NaN</td>\n",
              "      <td>NaN</td>\n",
              "      <td>W</td>\n",
              "      <td>44.0</td>\n",
              "      <td>W</td>\n",
              "      <td>...</td>\n",
              "      <td>71.0</td>\n",
              "      <td>22.0</td>\n",
              "      <td>1007.7</td>\n",
              "      <td>1007.1</td>\n",
              "      <td>8.0</td>\n",
              "      <td>NaN</td>\n",
              "      <td>16.9</td>\n",
              "      <td>21.8</td>\n",
              "      <td>No</td>\n",
              "      <td>No</td>\n",
              "    </tr>\n",
              "    <tr>\n",
              "      <th>1</th>\n",
              "      <td>2008-12-02</td>\n",
              "      <td>Albury</td>\n",
              "      <td>7.4</td>\n",
              "      <td>25.1</td>\n",
              "      <td>0.0</td>\n",
              "      <td>NaN</td>\n",
              "      <td>NaN</td>\n",
              "      <td>WNW</td>\n",
              "      <td>44.0</td>\n",
              "      <td>NNW</td>\n",
              "      <td>...</td>\n",
              "      <td>44.0</td>\n",
              "      <td>25.0</td>\n",
              "      <td>1010.6</td>\n",
              "      <td>1007.8</td>\n",
              "      <td>NaN</td>\n",
              "      <td>NaN</td>\n",
              "      <td>17.2</td>\n",
              "      <td>24.3</td>\n",
              "      <td>No</td>\n",
              "      <td>No</td>\n",
              "    </tr>\n",
              "    <tr>\n",
              "      <th>2</th>\n",
              "      <td>2008-12-03</td>\n",
              "      <td>Albury</td>\n",
              "      <td>12.9</td>\n",
              "      <td>25.7</td>\n",
              "      <td>0.0</td>\n",
              "      <td>NaN</td>\n",
              "      <td>NaN</td>\n",
              "      <td>WSW</td>\n",
              "      <td>46.0</td>\n",
              "      <td>W</td>\n",
              "      <td>...</td>\n",
              "      <td>38.0</td>\n",
              "      <td>30.0</td>\n",
              "      <td>1007.6</td>\n",
              "      <td>1008.7</td>\n",
              "      <td>NaN</td>\n",
              "      <td>2.0</td>\n",
              "      <td>21.0</td>\n",
              "      <td>23.2</td>\n",
              "      <td>No</td>\n",
              "      <td>No</td>\n",
              "    </tr>\n",
              "    <tr>\n",
              "      <th>3</th>\n",
              "      <td>2008-12-04</td>\n",
              "      <td>Albury</td>\n",
              "      <td>9.2</td>\n",
              "      <td>28.0</td>\n",
              "      <td>0.0</td>\n",
              "      <td>NaN</td>\n",
              "      <td>NaN</td>\n",
              "      <td>NE</td>\n",
              "      <td>24.0</td>\n",
              "      <td>SE</td>\n",
              "      <td>...</td>\n",
              "      <td>45.0</td>\n",
              "      <td>16.0</td>\n",
              "      <td>1017.6</td>\n",
              "      <td>1012.8</td>\n",
              "      <td>NaN</td>\n",
              "      <td>NaN</td>\n",
              "      <td>18.1</td>\n",
              "      <td>26.5</td>\n",
              "      <td>No</td>\n",
              "      <td>No</td>\n",
              "    </tr>\n",
              "    <tr>\n",
              "      <th>4</th>\n",
              "      <td>2008-12-05</td>\n",
              "      <td>Albury</td>\n",
              "      <td>17.5</td>\n",
              "      <td>32.3</td>\n",
              "      <td>1.0</td>\n",
              "      <td>NaN</td>\n",
              "      <td>NaN</td>\n",
              "      <td>W</td>\n",
              "      <td>41.0</td>\n",
              "      <td>ENE</td>\n",
              "      <td>...</td>\n",
              "      <td>82.0</td>\n",
              "      <td>33.0</td>\n",
              "      <td>1010.8</td>\n",
              "      <td>1006.0</td>\n",
              "      <td>7.0</td>\n",
              "      <td>8.0</td>\n",
              "      <td>17.8</td>\n",
              "      <td>29.7</td>\n",
              "      <td>No</td>\n",
              "      <td>No</td>\n",
              "    </tr>\n",
              "  </tbody>\n",
              "</table>\n",
              "<p>5 rows × 23 columns</p>\n",
              "</div>"
            ],
            "text/plain": [
              "        Date Location  MinTemp  MaxTemp  Rainfall  Evaporation  Sunshine  \\\n",
              "0 2008-12-01   Albury     13.4     22.9       0.6          NaN       NaN   \n",
              "1 2008-12-02   Albury      7.4     25.1       0.0          NaN       NaN   \n",
              "2 2008-12-03   Albury     12.9     25.7       0.0          NaN       NaN   \n",
              "3 2008-12-04   Albury      9.2     28.0       0.0          NaN       NaN   \n",
              "4 2008-12-05   Albury     17.5     32.3       1.0          NaN       NaN   \n",
              "\n",
              "  WindGustDir  WindGustSpeed WindDir9am  ... Humidity9am  Humidity3pm  \\\n",
              "0           W           44.0          W  ...        71.0         22.0   \n",
              "1         WNW           44.0        NNW  ...        44.0         25.0   \n",
              "2         WSW           46.0          W  ...        38.0         30.0   \n",
              "3          NE           24.0         SE  ...        45.0         16.0   \n",
              "4           W           41.0        ENE  ...        82.0         33.0   \n",
              "\n",
              "   Pressure9am  Pressure3pm  Cloud9am  Cloud3pm  Temp9am  Temp3pm  RainToday  \\\n",
              "0       1007.7       1007.1       8.0       NaN     16.9     21.8         No   \n",
              "1       1010.6       1007.8       NaN       NaN     17.2     24.3         No   \n",
              "2       1007.6       1008.7       NaN       2.0     21.0     23.2         No   \n",
              "3       1017.6       1012.8       NaN       NaN     18.1     26.5         No   \n",
              "4       1010.8       1006.0       7.0       8.0     17.8     29.7         No   \n",
              "\n",
              "   RainTomorrow  \n",
              "0            No  \n",
              "1            No  \n",
              "2            No  \n",
              "3            No  \n",
              "4            No  \n",
              "\n",
              "[5 rows x 23 columns]"
            ]
          },
          "execution_count": 2,
          "metadata": {},
          "output_type": "execute_result"
        }
      ],
      "source": [
        "df = pd.read_csv(\"data/weatherAUS.csv\", parse_dates=[\"Date\"])\n",
        "df.head()"
      ]
    },
    {
      "cell_type": "code",
      "execution_count": 3,
      "metadata": {
        "colab": {
          "base_uri": "https://localhost:8080/"
        },
        "id": "cbnXA-2WUzkv",
        "outputId": "791ad4ee-d75e-4964-8f26-0a5a449bdd21"
      },
      "outputs": [
        {
          "name": "stdout",
          "output_type": "stream",
          "text": [
            "<class 'pandas.core.frame.DataFrame'>\n",
            "RangeIndex: 145460 entries, 0 to 145459\n",
            "Data columns (total 23 columns):\n",
            " #   Column         Non-Null Count   Dtype         \n",
            "---  ------         --------------   -----         \n",
            " 0   Date           145460 non-null  datetime64[ns]\n",
            " 1   Location       145460 non-null  object        \n",
            " 2   MinTemp        143975 non-null  float64       \n",
            " 3   MaxTemp        144199 non-null  float64       \n",
            " 4   Rainfall       142199 non-null  float64       \n",
            " 5   Evaporation    82670 non-null   float64       \n",
            " 6   Sunshine       75625 non-null   float64       \n",
            " 7   WindGustDir    135134 non-null  object        \n",
            " 8   WindGustSpeed  135197 non-null  float64       \n",
            " 9   WindDir9am     134894 non-null  object        \n",
            " 10  WindDir3pm     141232 non-null  object        \n",
            " 11  WindSpeed9am   143693 non-null  float64       \n",
            " 12  WindSpeed3pm   142398 non-null  float64       \n",
            " 13  Humidity9am    142806 non-null  float64       \n",
            " 14  Humidity3pm    140953 non-null  float64       \n",
            " 15  Pressure9am    130395 non-null  float64       \n",
            " 16  Pressure3pm    130432 non-null  float64       \n",
            " 17  Cloud9am       89572 non-null   float64       \n",
            " 18  Cloud3pm       86102 non-null   float64       \n",
            " 19  Temp9am        143693 non-null  float64       \n",
            " 20  Temp3pm        141851 non-null  float64       \n",
            " 21  RainToday      142199 non-null  object        \n",
            " 22  RainTomorrow   142193 non-null  object        \n",
            "dtypes: datetime64[ns](1), float64(16), object(6)\n",
            "memory usage: 25.5+ MB\n"
          ]
        }
      ],
      "source": [
        "df.info()"
      ]
    },
    {
      "cell_type": "markdown",
      "metadata": {
        "id": "1MbWBi2BVEDu"
      },
      "source": [
        "+ Date — дата, в которую зафиксировано наблюдение;\n",
        "+ Location — местонахождение метеорологической станции;\n",
        "+ MinTemp — минимальная температура (℃);\n",
        "+ MaxTemp — максимальная температура (℃);\n",
        "+ Rainfall — количество осадков (дождь) за сутки (мм);\n",
        "+ Evaporation — количество испарений до 9 утра (мм);\n",
        "+ Sunshine — количество часов в сутках, когда светило солнце;\n",
        "+ WindGustDir — направление самого сильного порыва ветра за последние 24 часа;\n",
        "+ WindGustSpeed — скорость самого сильного порыва ветра за последние 24 часа;\n",
        "+ WindDir9am — направление ветра в 9 утра;\n",
        "+ WindDir3pm — направление ветра в 3 часа дня;\n",
        "+ WindSpeed9am — скорость ветра в 9 часов утра;\n",
        "+ WindSpeed3pm — скорость ветра в 3 часа дня;\n",
        "+ Humidity9am — влажность в 9 утра;\n",
        "+ Humidity3pm — влажность в 3 часа дня;\n",
        "+ Pressure9am — атмосферное давление в 9 утра;\n",
        "+ Pressure3pm — атмосферное давление в 3 часа дня;\n",
        "+ Cloud9am — часть неба, закрытая облаками, в 9 утра;\n",
        "+ Cloud3pm — часть неба, закрытая облаками, в 3 часа дня;\n",
        "+ Temp9am — температура в 9 утра;\n",
        "+ Temp3pm — температура в 3 часа дня;\n",
        "+ RainToday — наличие дождя в этот день;\n",
        "+ RainTomorrow — наличие дождя на следующий день."
      ]
    },
    {
      "cell_type": "markdown",
      "metadata": {
        "id": "qPCunEWBU7dY"
      },
      "source": [
        "Данные содержат 23 признака и 145 460 наблюдений. Из этих 23 признаков шесть — категориальные, в одном записана дата, а остальные являются непрерывными числовыми данными.\n",
        "\n",
        "+ Примеры числовых признаков: температура, скорость ветра, влажность, облачность, атмосферное давление в разное время суток, количество осадков, испарение, количество часов с солнечной погодой.\n",
        "+ Примеры категориальных признаков: местоположение, направление ветра в разное время суток, наличие дождя сегодня или завтра.\n",
        "\n",
        "**Целевой переменной** является столбец *RainTomorrow*. Значение этой переменной мы и будем пытаться предсказать."
      ]
    },
    {
      "cell_type": "markdown",
      "metadata": {
        "id": "erMJzcFHVNEF"
      },
      "source": [
        "## Задание 4.1\n",
        "\n",
        "Сколько суммарно пропусков в данных?"
      ]
    },
    {
      "cell_type": "code",
      "execution_count": 4,
      "metadata": {
        "colab": {
          "base_uri": "https://localhost:8080/"
        },
        "id": "IglOV8ygU3h0",
        "outputId": "6f65dc71-f989-47f4-dd0d-9e4579367fec"
      },
      "outputs": [
        {
          "data": {
            "text/plain": [
              "343248"
            ]
          },
          "execution_count": 4,
          "metadata": {},
          "output_type": "execute_result"
        }
      ],
      "source": [
        "df.isnull().sum().sum()"
      ]
    },
    {
      "cell_type": "markdown",
      "metadata": {
        "id": "Mp8mQ4UwVaEM"
      },
      "source": [
        "Можно отметить, что в данных много пропусков, но для нас это не проблема, так как случайный лес прекрасно работает в таких ситуациях, и скоро у нас будет возможность в этом убедиться."
      ]
    },
    {
      "cell_type": "markdown",
      "metadata": {
        "id": "c9RK8Lf3VbAE"
      },
      "source": [
        "## Задание 4.2\n",
        "\n",
        "В некоторых признаках пропусков более 40 % — удалите такие признаки. Сколько их было?"
      ]
    },
    {
      "cell_type": "code",
      "execution_count": 5,
      "metadata": {
        "id": "0cSLZJUeVUhR"
      },
      "outputs": [],
      "source": [
        "round(df.isna().sum() / len(df), 3)\n",
        "df.drop(['Evaporation','Sunshine','Cloud3pm'], axis = 1, inplace = True)"
      ]
    },
    {
      "cell_type": "markdown",
      "metadata": {
        "id": "UWh94nFsVt6v"
      },
      "source": [
        "## Задание 4.3\n",
        "\n",
        "Теперь обработаем признаки *RainToday* и *RainTomorrow* таким образом, чтобы вместо *yes* было значение 1, а вместо *no* — значение 0. Обратите внимание на то, что в признаке *RainTomorrow* присутствуют пропуски, и их трогать не нужно, они должны остаться пропусками. Поэтому обрабатывайте столбцы таким образом, чтобы не видоизменить пропущенные значения.\n",
        "\n",
        "Вычислите среднее арифметическое для преобразованного признака *RainToday* и запишите его в ответ, предварительно округлив до двух знаков после точки-разделителя."
      ]
    },
    {
      "cell_type": "code",
      "execution_count": 6,
      "metadata": {
        "id": "EffHp-u0Vk1O"
      },
      "outputs": [],
      "source": [
        "df.RainToday = df.RainToday.map({'No': 0, 'Yes': 1})\n",
        "df.RainTomorrow = df.RainTomorrow.map({'No': 0, 'Yes': 1})"
      ]
    },
    {
      "cell_type": "code",
      "execution_count": 7,
      "metadata": {
        "colab": {
          "base_uri": "https://localhost:8080/"
        },
        "id": "sQZMg5QKV4qc",
        "outputId": "510a4bf8-2708-48f1-aaf4-c7000111afe2"
      },
      "outputs": [
        {
          "data": {
            "text/plain": [
              "0.22419285648984874"
            ]
          },
          "execution_count": 7,
          "metadata": {},
          "output_type": "execute_result"
        }
      ],
      "source": [
        "df['RainToday'].mean()"
      ]
    },
    {
      "cell_type": "markdown",
      "metadata": {
        "id": "a7PdUZQlXRYV"
      },
      "source": [
        "## Задание 4.4\n",
        "\n",
        "Обработайте признак Date таким образом, чтобы выделить в отдельный признак Month (номер месяца). Изначальный признак Date удалите. Определите, в какой месяц в среднем за день выпадает больше всего дождей. В качестве ответа введите порядковый номер месяца."
      ]
    },
    {
      "cell_type": "code",
      "execution_count": 8,
      "metadata": {
        "colab": {
          "base_uri": "https://localhost:8080/",
          "height": 457
        },
        "id": "YA3hkW-sWMr-",
        "outputId": "5f6f2017-5a04-4537-dbf5-e6e361d92cd7"
      },
      "outputs": [
        {
          "name": "stderr",
          "output_type": "stream",
          "text": [
            "C:\\Users\\sphex\\AppData\\Local\\Temp\\ipykernel_8808\\1749877501.py:4: FutureWarning: The default value of numeric_only in DataFrameGroupBy.mean is deprecated. In a future version, numeric_only will default to False. Either specify numeric_only or select only columns which should be valid for the function.\n",
            "  df_season = df.groupby('Month').mean()\n"
          ]
        },
        {
          "data": {
            "text/html": [
              "<div>\n",
              "<style scoped>\n",
              "    .dataframe tbody tr th:only-of-type {\n",
              "        vertical-align: middle;\n",
              "    }\n",
              "\n",
              "    .dataframe tbody tr th {\n",
              "        vertical-align: top;\n",
              "    }\n",
              "\n",
              "    .dataframe thead th {\n",
              "        text-align: right;\n",
              "    }\n",
              "</style>\n",
              "<table border=\"1\" class=\"dataframe\">\n",
              "  <thead>\n",
              "    <tr style=\"text-align: right;\">\n",
              "      <th></th>\n",
              "      <th>RainToday</th>\n",
              "    </tr>\n",
              "    <tr>\n",
              "      <th>Month</th>\n",
              "      <th></th>\n",
              "    </tr>\n",
              "  </thead>\n",
              "  <tbody>\n",
              "    <tr>\n",
              "      <th>1</th>\n",
              "      <td>0.189484</td>\n",
              "    </tr>\n",
              "    <tr>\n",
              "      <th>2</th>\n",
              "      <td>0.206746</td>\n",
              "    </tr>\n",
              "    <tr>\n",
              "      <th>3</th>\n",
              "      <td>0.217135</td>\n",
              "    </tr>\n",
              "    <tr>\n",
              "      <th>4</th>\n",
              "      <td>0.216845</td>\n",
              "    </tr>\n",
              "    <tr>\n",
              "      <th>5</th>\n",
              "      <td>0.222163</td>\n",
              "    </tr>\n",
              "    <tr>\n",
              "      <th>6</th>\n",
              "      <td>0.263638</td>\n",
              "    </tr>\n",
              "    <tr>\n",
              "      <th>7</th>\n",
              "      <td>0.270736</td>\n",
              "    </tr>\n",
              "    <tr>\n",
              "      <th>8</th>\n",
              "      <td>0.253167</td>\n",
              "    </tr>\n",
              "    <tr>\n",
              "      <th>9</th>\n",
              "      <td>0.229135</td>\n",
              "    </tr>\n",
              "    <tr>\n",
              "      <th>10</th>\n",
              "      <td>0.196512</td>\n",
              "    </tr>\n",
              "    <tr>\n",
              "      <th>11</th>\n",
              "      <td>0.210843</td>\n",
              "    </tr>\n",
              "    <tr>\n",
              "      <th>12</th>\n",
              "      <td>0.213037</td>\n",
              "    </tr>\n",
              "  </tbody>\n",
              "</table>\n",
              "</div>"
            ],
            "text/plain": [
              "       RainToday\n",
              "Month           \n",
              "1       0.189484\n",
              "2       0.206746\n",
              "3       0.217135\n",
              "4       0.216845\n",
              "5       0.222163\n",
              "6       0.263638\n",
              "7       0.270736\n",
              "8       0.253167\n",
              "9       0.229135\n",
              "10      0.196512\n",
              "11      0.210843\n",
              "12      0.213037"
            ]
          },
          "execution_count": 8,
          "metadata": {},
          "output_type": "execute_result"
        }
      ],
      "source": [
        "df.Date = pd.to_datetime(df.Date)\n",
        "df['Month'] = df.Date.dt.month\n",
        "df.drop('Date', axis = 1, inplace = True)\n",
        "df_season = df.groupby('Month').mean()\n",
        "df_season[['RainToday']]"
      ]
    },
    {
      "cell_type": "markdown",
      "metadata": {
        "id": "lnhDPqxIb7ot"
      },
      "source": [
        "## Задание 4.5\n",
        "\n",
        "Обработайте оставшиеся категориальные признаки. С помощью метода get_dummies с настройками по умолчанию создайте dummy-переменные для всех категориальных признаков (их пять), которые есть в данных на этот момент.\n",
        "\n",
        "Кодировку признаков важно выполнить именно в следующем порядке: categoricals = ['Month', 'Location', 'WindGustDir', 'WindDir9am', 'WindDir3pm']. Это необходимо для того, чтобы ваши дальнейшие ответы сходились с нашим решением, так как алгоритм случайного леса, который мы будем использовать в дальнейшем, чувствителен к порядку столбцов.\n",
        "\n",
        "Сколько теперь признаков в данных, если считать целевую переменную?"
      ]
    },
    {
      "cell_type": "code",
      "execution_count": 9,
      "metadata": {
        "colab": {
          "base_uri": "https://localhost:8080/"
        },
        "id": "zm08_kxKXh1V",
        "outputId": "2604ddcf-af24-4b93-eacb-8b91f0626798"
      },
      "outputs": [
        {
          "data": {
            "text/plain": [
              "(145460, 124)"
            ]
          },
          "execution_count": 9,
          "metadata": {},
          "output_type": "execute_result"
        }
      ],
      "source": [
        "categoricals = ['Month', 'Location', 'WindGustDir', 'WindDir9am', 'WindDir3pm']\n",
        "df_dummies = pd.get_dummies(df, columns=categoricals)\n",
        "df_dummies.shape"
      ]
    },
    {
      "cell_type": "markdown",
      "metadata": {
        "id": "EYdZcZEPcGmd"
      },
      "source": [
        "## Задание 4.6\n",
        "\n",
        "Осталось совсем немного. Удалите все строки, где есть пропуски. Далее разбейте данные на обучающую и тестовую выборки в соотношении 70/30, в качестве значения параметра random_state возьмите число 31.\n",
        "\n",
        "Каково среднее значение целевой переменной на тестовой выборке? Ответ округлите до двух знаков после точки-разделителя."
      ]
    },
    {
      "cell_type": "code",
      "execution_count": 10,
      "metadata": {
        "colab": {
          "base_uri": "https://localhost:8080/"
        },
        "id": "9GrS1JwRcCcW",
        "outputId": "43df51cc-3a6c-4664-80ad-79836bf9b89c"
      },
      "outputs": [
        {
          "data": {
            "text/plain": [
              "0.22770253002811142"
            ]
          },
          "execution_count": 10,
          "metadata": {},
          "output_type": "execute_result"
        }
      ],
      "source": [
        "df_dummies.dropna(inplace=True)\n",
        "X = df_dummies.drop('RainTomorrow', axis = 1)\n",
        "y = df_dummies['RainTomorrow']  \n",
        "X_train, X_test, y_train, y_test = train_test_split(X, y, test_size=0.3, random_state = 31)\n",
        "y_test.mean()"
      ]
    },
    {
      "cell_type": "markdown",
      "metadata": {
        "id": "HxZH7W2adYtl"
      },
      "source": [
        "## Задание 4.7\n",
        "\n",
        "Теперь давайте вспомним про бутстреп. Он не понадобится нам для решения этой задачи, но будет полезно реализовать его «вручную».\n",
        "\n",
        "Сделайте оценку стандартного отклонения для среднего значения минимальной температуры для обучающей выборки (то есть для среднего значения по признаку MinTemp). Для этого сгенерируйте 1000 случайных выборок из наших данных — каждая из них должна быть такого же объёма, как и обучающая выборка. Для генерации выборки используйте np.random.randint(): сгенерируйте необходимое количество индексов и по ним извлеките соответствующие элементы выборки. Случайность фиксируйте с помощью np.random.seed(31).\n",
        "\n",
        "Для каждой выборки вычислите среднее значение, а после найдите стандартное отклонение для этих значений. Ответ округлите до двух знаков после точки-разделителя."
      ]
    },
    {
      "cell_type": "code",
      "execution_count": 11,
      "metadata": {
        "colab": {
          "base_uri": "https://localhost:8080/"
        },
        "id": "cF0Fe04tKGBw",
        "outputId": "977d5715-bb52-4770-9c3b-a1eee32eb76b"
      },
      "outputs": [
        {
          "data": {
            "text/plain": [
              "0.03"
            ]
          },
          "execution_count": 11,
          "metadata": {},
          "output_type": "execute_result"
        }
      ],
      "source": [
        "np.random.seed(31)\n",
        "\n",
        "samples = X_train[\"MinTemp\"].values[\n",
        "    np.random.randint(0, len(X_train), (1000, len(X_train)))\n",
        "]\n",
        "\n",
        "round(np.std(np.mean(samples, axis=1)), 2)"
      ]
    },
    {
      "cell_type": "markdown",
      "metadata": {
        "id": "CI53PswkNGvW"
      },
      "source": [
        "## Задание 4.8\n",
        "\n",
        "Теперь можно перейти к обучению прогностических моделей. Начнём с того, что построим простейшую логистическую регрессию (без настройки гиперпараметров). Это будет та модель, с качеством которой мы будем сравнивать результаты, полученные далее, чтобы оценить превосходство случайного леса над простыми методами.\n",
        "\n",
        "В качестве ответа введите значение метрики roc_auc на тестовой выборке. Ответ округлите до двух знаков после точки-разделителя."
      ]
    },
    {
      "cell_type": "code",
      "execution_count": 12,
      "metadata": {
        "colab": {
          "base_uri": "https://localhost:8080/"
        },
        "id": "TDJqgcrEKIfC",
        "outputId": "35229016-5587-468e-caa9-0eb5beed6daa"
      },
      "outputs": [
        {
          "name": "stderr",
          "output_type": "stream",
          "text": [
            "c:\\Users\\sphex\\AppData\\Local\\Programs\\Python\\Python310\\lib\\site-packages\\sklearn\\linear_model\\_logistic.py:444: ConvergenceWarning: lbfgs failed to converge (status=1):\n",
            "STOP: TOTAL NO. of ITERATIONS REACHED LIMIT.\n",
            "\n",
            "Increase the number of iterations (max_iter) or scale the data as shown in:\n",
            "    https://scikit-learn.org/stable/modules/preprocessing.html\n",
            "Please also refer to the documentation for alternative solver options:\n",
            "    https://scikit-learn.org/stable/modules/linear_model.html#logistic-regression\n",
            "  n_iter_i = _check_optimize_result(\n"
          ]
        },
        {
          "data": {
            "text/plain": [
              "0.7274030225534013"
            ]
          },
          "execution_count": 12,
          "metadata": {},
          "output_type": "execute_result"
        }
      ],
      "source": [
        "clf = LogisticRegression()\n",
        "clf.fit(X_train, y_train)\n",
        "preds_train = clf.predict(X_train)\n",
        "preds_test = clf.predict(X_test)\n",
        "roc_auc_score(y_test, preds_test)"
      ]
    },
    {
      "cell_type": "markdown",
      "metadata": {
        "id": "KNXwD3AKNV0t"
      },
      "source": [
        "## Задание 4.9"
      ]
    },
    {
      "cell_type": "code",
      "execution_count": 13,
      "metadata": {
        "colab": {
          "base_uri": "https://localhost:8080/"
        },
        "id": "EanV0niaNJtI",
        "outputId": "cf5baae7-336f-4f11-f3b4-2abcece86cae"
      },
      "outputs": [
        {
          "name": "stdout",
          "output_type": "stream",
          "text": [
            "Fitting 3 folds for each of 96 candidates, totalling 288 fits\n",
            "[CV 1/3] END max_depth=5, max_leaf_nodes=2, min_samples_split=2;, score=0.817 total time=   0.2s\n",
            "[CV 2/3] END max_depth=5, max_leaf_nodes=2, min_samples_split=2;, score=0.820 total time=   0.2s\n",
            "[CV 3/3] END max_depth=5, max_leaf_nodes=2, min_samples_split=2;, score=0.825 total time=   0.1s\n",
            "[CV 1/3] END max_depth=5, max_leaf_nodes=2, min_samples_split=3;, score=0.817 total time=   0.1s\n",
            "[CV 2/3] END max_depth=5, max_leaf_nodes=2, min_samples_split=3;, score=0.820 total time=   0.1s\n",
            "[CV 3/3] END max_depth=5, max_leaf_nodes=2, min_samples_split=3;, score=0.825 total time=   0.1s\n",
            "[CV 1/3] END max_depth=5, max_leaf_nodes=2, min_samples_split=4;, score=0.817 total time=   0.1s\n",
            "[CV 2/3] END max_depth=5, max_leaf_nodes=2, min_samples_split=4;, score=0.820 total time=   0.1s\n",
            "[CV 3/3] END max_depth=5, max_leaf_nodes=2, min_samples_split=4;, score=0.825 total time=   0.1s\n",
            "[CV 1/3] END max_depth=5, max_leaf_nodes=3, min_samples_split=2;, score=0.819 total time=   0.1s\n",
            "[CV 2/3] END max_depth=5, max_leaf_nodes=3, min_samples_split=2;, score=0.820 total time=   0.1s\n",
            "[CV 3/3] END max_depth=5, max_leaf_nodes=3, min_samples_split=2;, score=0.825 total time=   0.1s\n",
            "[CV 1/3] END max_depth=5, max_leaf_nodes=3, min_samples_split=3;, score=0.819 total time=   0.1s\n",
            "[CV 2/3] END max_depth=5, max_leaf_nodes=3, min_samples_split=3;, score=0.820 total time=   0.1s\n",
            "[CV 3/3] END max_depth=5, max_leaf_nodes=3, min_samples_split=3;, score=0.825 total time=   0.1s\n",
            "[CV 1/3] END max_depth=5, max_leaf_nodes=3, min_samples_split=4;, score=0.819 total time=   0.1s\n",
            "[CV 2/3] END max_depth=5, max_leaf_nodes=3, min_samples_split=4;, score=0.820 total time=   0.2s\n",
            "[CV 3/3] END max_depth=5, max_leaf_nodes=3, min_samples_split=4;, score=0.825 total time=   0.1s\n",
            "[CV 1/3] END max_depth=5, max_leaf_nodes=4, min_samples_split=2;, score=0.819 total time=   0.2s\n",
            "[CV 2/3] END max_depth=5, max_leaf_nodes=4, min_samples_split=2;, score=0.820 total time=   0.1s\n",
            "[CV 3/3] END max_depth=5, max_leaf_nodes=4, min_samples_split=2;, score=0.825 total time=   0.1s\n",
            "[CV 1/3] END max_depth=5, max_leaf_nodes=4, min_samples_split=3;, score=0.819 total time=   0.1s\n",
            "[CV 2/3] END max_depth=5, max_leaf_nodes=4, min_samples_split=3;, score=0.820 total time=   0.2s\n",
            "[CV 3/3] END max_depth=5, max_leaf_nodes=4, min_samples_split=3;, score=0.825 total time=   0.1s\n",
            "[CV 1/3] END max_depth=5, max_leaf_nodes=4, min_samples_split=4;, score=0.819 total time=   0.2s\n",
            "[CV 2/3] END max_depth=5, max_leaf_nodes=4, min_samples_split=4;, score=0.820 total time=   0.1s\n",
            "[CV 3/3] END max_depth=5, max_leaf_nodes=4, min_samples_split=4;, score=0.825 total time=   0.2s\n",
            "[CV 1/3] END max_depth=5, max_leaf_nodes=5, min_samples_split=2;, score=0.819 total time=   0.1s\n",
            "[CV 2/3] END max_depth=5, max_leaf_nodes=5, min_samples_split=2;, score=0.820 total time=   0.1s\n",
            "[CV 3/3] END max_depth=5, max_leaf_nodes=5, min_samples_split=2;, score=0.825 total time=   0.3s\n",
            "[CV 1/3] END max_depth=5, max_leaf_nodes=5, min_samples_split=3;, score=0.819 total time=   0.1s\n",
            "[CV 2/3] END max_depth=5, max_leaf_nodes=5, min_samples_split=3;, score=0.820 total time=   0.1s\n",
            "[CV 3/3] END max_depth=5, max_leaf_nodes=5, min_samples_split=3;, score=0.825 total time=   0.2s\n",
            "[CV 1/3] END max_depth=5, max_leaf_nodes=5, min_samples_split=4;, score=0.819 total time=   0.2s\n",
            "[CV 2/3] END max_depth=5, max_leaf_nodes=5, min_samples_split=4;, score=0.820 total time=   0.1s\n",
            "[CV 3/3] END max_depth=5, max_leaf_nodes=5, min_samples_split=4;, score=0.825 total time=   0.1s\n",
            "[CV 1/3] END max_depth=5, max_leaf_nodes=6, min_samples_split=2;, score=0.819 total time=   0.1s\n",
            "[CV 2/3] END max_depth=5, max_leaf_nodes=6, min_samples_split=2;, score=0.820 total time=   0.2s\n",
            "[CV 3/3] END max_depth=5, max_leaf_nodes=6, min_samples_split=2;, score=0.832 total time=   0.1s\n",
            "[CV 1/3] END max_depth=5, max_leaf_nodes=6, min_samples_split=3;, score=0.819 total time=   0.1s\n",
            "[CV 2/3] END max_depth=5, max_leaf_nodes=6, min_samples_split=3;, score=0.820 total time=   0.1s\n",
            "[CV 3/3] END max_depth=5, max_leaf_nodes=6, min_samples_split=3;, score=0.832 total time=   0.1s\n",
            "[CV 1/3] END max_depth=5, max_leaf_nodes=6, min_samples_split=4;, score=0.819 total time=   0.2s\n",
            "[CV 2/3] END max_depth=5, max_leaf_nodes=6, min_samples_split=4;, score=0.820 total time=   0.2s\n",
            "[CV 3/3] END max_depth=5, max_leaf_nodes=6, min_samples_split=4;, score=0.832 total time=   0.1s\n",
            "[CV 1/3] END max_depth=5, max_leaf_nodes=7, min_samples_split=2;, score=0.831 total time=   0.2s\n",
            "[CV 2/3] END max_depth=5, max_leaf_nodes=7, min_samples_split=2;, score=0.834 total time=   0.2s\n",
            "[CV 3/3] END max_depth=5, max_leaf_nodes=7, min_samples_split=2;, score=0.832 total time=   0.2s\n",
            "[CV 1/3] END max_depth=5, max_leaf_nodes=7, min_samples_split=3;, score=0.831 total time=   0.2s\n",
            "[CV 2/3] END max_depth=5, max_leaf_nodes=7, min_samples_split=3;, score=0.834 total time=   0.2s\n",
            "[CV 3/3] END max_depth=5, max_leaf_nodes=7, min_samples_split=3;, score=0.832 total time=   0.2s\n",
            "[CV 1/3] END max_depth=5, max_leaf_nodes=7, min_samples_split=4;, score=0.831 total time=   0.3s\n",
            "[CV 2/3] END max_depth=5, max_leaf_nodes=7, min_samples_split=4;, score=0.834 total time=   0.2s\n",
            "[CV 3/3] END max_depth=5, max_leaf_nodes=7, min_samples_split=4;, score=0.832 total time=   0.2s\n",
            "[CV 1/3] END max_depth=5, max_leaf_nodes=8, min_samples_split=2;, score=0.835 total time=   0.2s\n",
            "[CV 2/3] END max_depth=5, max_leaf_nodes=8, min_samples_split=2;, score=0.840 total time=   0.2s\n",
            "[CV 3/3] END max_depth=5, max_leaf_nodes=8, min_samples_split=2;, score=0.836 total time=   0.2s\n",
            "[CV 1/3] END max_depth=5, max_leaf_nodes=8, min_samples_split=3;, score=0.835 total time=   0.2s\n",
            "[CV 2/3] END max_depth=5, max_leaf_nodes=8, min_samples_split=3;, score=0.840 total time=   0.2s\n",
            "[CV 3/3] END max_depth=5, max_leaf_nodes=8, min_samples_split=3;, score=0.836 total time=   0.2s\n",
            "[CV 1/3] END max_depth=5, max_leaf_nodes=8, min_samples_split=4;, score=0.835 total time=   0.2s\n",
            "[CV 2/3] END max_depth=5, max_leaf_nodes=8, min_samples_split=4;, score=0.840 total time=   0.2s\n",
            "[CV 3/3] END max_depth=5, max_leaf_nodes=8, min_samples_split=4;, score=0.836 total time=   0.2s\n",
            "[CV 1/3] END max_depth=5, max_leaf_nodes=9, min_samples_split=2;, score=0.835 total time=   0.2s\n",
            "[CV 2/3] END max_depth=5, max_leaf_nodes=9, min_samples_split=2;, score=0.840 total time=   0.2s\n",
            "[CV 3/3] END max_depth=5, max_leaf_nodes=9, min_samples_split=2;, score=0.837 total time=   0.2s\n",
            "[CV 1/3] END max_depth=5, max_leaf_nodes=9, min_samples_split=3;, score=0.835 total time=   0.2s\n",
            "[CV 2/3] END max_depth=5, max_leaf_nodes=9, min_samples_split=3;, score=0.840 total time=   0.2s\n",
            "[CV 3/3] END max_depth=5, max_leaf_nodes=9, min_samples_split=3;, score=0.837 total time=   0.2s\n",
            "[CV 1/3] END max_depth=5, max_leaf_nodes=9, min_samples_split=4;, score=0.835 total time=   0.2s\n",
            "[CV 2/3] END max_depth=5, max_leaf_nodes=9, min_samples_split=4;, score=0.840 total time=   0.2s\n",
            "[CV 3/3] END max_depth=5, max_leaf_nodes=9, min_samples_split=4;, score=0.837 total time=   0.2s\n",
            "[CV 1/3] END max_depth=7, max_leaf_nodes=2, min_samples_split=2;, score=0.817 total time=   0.1s\n",
            "[CV 2/3] END max_depth=7, max_leaf_nodes=2, min_samples_split=2;, score=0.820 total time=   0.1s\n",
            "[CV 3/3] END max_depth=7, max_leaf_nodes=2, min_samples_split=2;, score=0.825 total time=   0.1s\n",
            "[CV 1/3] END max_depth=7, max_leaf_nodes=2, min_samples_split=3;, score=0.817 total time=   0.1s\n",
            "[CV 2/3] END max_depth=7, max_leaf_nodes=2, min_samples_split=3;, score=0.820 total time=   0.1s\n",
            "[CV 3/3] END max_depth=7, max_leaf_nodes=2, min_samples_split=3;, score=0.825 total time=   0.1s\n",
            "[CV 1/3] END max_depth=7, max_leaf_nodes=2, min_samples_split=4;, score=0.817 total time=   0.1s\n",
            "[CV 2/3] END max_depth=7, max_leaf_nodes=2, min_samples_split=4;, score=0.820 total time=   0.2s\n",
            "[CV 3/3] END max_depth=7, max_leaf_nodes=2, min_samples_split=4;, score=0.825 total time=   0.1s\n",
            "[CV 1/3] END max_depth=7, max_leaf_nodes=3, min_samples_split=2;, score=0.819 total time=   0.1s\n",
            "[CV 2/3] END max_depth=7, max_leaf_nodes=3, min_samples_split=2;, score=0.820 total time=   0.1s\n",
            "[CV 3/3] END max_depth=7, max_leaf_nodes=3, min_samples_split=2;, score=0.825 total time=   0.1s\n",
            "[CV 1/3] END max_depth=7, max_leaf_nodes=3, min_samples_split=3;, score=0.819 total time=   0.1s\n",
            "[CV 2/3] END max_depth=7, max_leaf_nodes=3, min_samples_split=3;, score=0.820 total time=   0.1s\n",
            "[CV 3/3] END max_depth=7, max_leaf_nodes=3, min_samples_split=3;, score=0.825 total time=   0.1s\n",
            "[CV 1/3] END max_depth=7, max_leaf_nodes=3, min_samples_split=4;, score=0.819 total time=   0.1s\n",
            "[CV 2/3] END max_depth=7, max_leaf_nodes=3, min_samples_split=4;, score=0.820 total time=   0.1s\n",
            "[CV 3/3] END max_depth=7, max_leaf_nodes=3, min_samples_split=4;, score=0.825 total time=   0.1s\n",
            "[CV 1/3] END max_depth=7, max_leaf_nodes=4, min_samples_split=2;, score=0.819 total time=   0.1s\n",
            "[CV 2/3] END max_depth=7, max_leaf_nodes=4, min_samples_split=2;, score=0.820 total time=   0.1s\n",
            "[CV 3/3] END max_depth=7, max_leaf_nodes=4, min_samples_split=2;, score=0.825 total time=   0.1s\n",
            "[CV 1/3] END max_depth=7, max_leaf_nodes=4, min_samples_split=3;, score=0.819 total time=   0.1s\n",
            "[CV 2/3] END max_depth=7, max_leaf_nodes=4, min_samples_split=3;, score=0.820 total time=   0.1s\n",
            "[CV 3/3] END max_depth=7, max_leaf_nodes=4, min_samples_split=3;, score=0.825 total time=   0.1s\n",
            "[CV 1/3] END max_depth=7, max_leaf_nodes=4, min_samples_split=4;, score=0.819 total time=   0.1s\n",
            "[CV 2/3] END max_depth=7, max_leaf_nodes=4, min_samples_split=4;, score=0.820 total time=   0.1s\n",
            "[CV 3/3] END max_depth=7, max_leaf_nodes=4, min_samples_split=4;, score=0.825 total time=   0.2s\n",
            "[CV 1/3] END max_depth=7, max_leaf_nodes=5, min_samples_split=2;, score=0.819 total time=   0.2s\n",
            "[CV 2/3] END max_depth=7, max_leaf_nodes=5, min_samples_split=2;, score=0.820 total time=   0.2s\n",
            "[CV 3/3] END max_depth=7, max_leaf_nodes=5, min_samples_split=2;, score=0.825 total time=   0.2s\n",
            "[CV 1/3] END max_depth=7, max_leaf_nodes=5, min_samples_split=3;, score=0.819 total time=   0.1s\n",
            "[CV 2/3] END max_depth=7, max_leaf_nodes=5, min_samples_split=3;, score=0.820 total time=   0.1s\n",
            "[CV 3/3] END max_depth=7, max_leaf_nodes=5, min_samples_split=3;, score=0.825 total time=   0.1s\n",
            "[CV 1/3] END max_depth=7, max_leaf_nodes=5, min_samples_split=4;, score=0.819 total time=   0.1s\n",
            "[CV 2/3] END max_depth=7, max_leaf_nodes=5, min_samples_split=4;, score=0.820 total time=   0.1s\n",
            "[CV 3/3] END max_depth=7, max_leaf_nodes=5, min_samples_split=4;, score=0.825 total time=   0.2s\n",
            "[CV 1/3] END max_depth=7, max_leaf_nodes=6, min_samples_split=2;, score=0.819 total time=   0.2s\n",
            "[CV 2/3] END max_depth=7, max_leaf_nodes=6, min_samples_split=2;, score=0.820 total time=   0.2s\n",
            "[CV 3/3] END max_depth=7, max_leaf_nodes=6, min_samples_split=2;, score=0.832 total time=   0.1s\n",
            "[CV 1/3] END max_depth=7, max_leaf_nodes=6, min_samples_split=3;, score=0.819 total time=   0.2s\n",
            "[CV 2/3] END max_depth=7, max_leaf_nodes=6, min_samples_split=3;, score=0.820 total time=   0.1s\n",
            "[CV 3/3] END max_depth=7, max_leaf_nodes=6, min_samples_split=3;, score=0.832 total time=   0.1s\n",
            "[CV 1/3] END max_depth=7, max_leaf_nodes=6, min_samples_split=4;, score=0.819 total time=   0.2s\n",
            "[CV 2/3] END max_depth=7, max_leaf_nodes=6, min_samples_split=4;, score=0.820 total time=   0.2s\n",
            "[CV 3/3] END max_depth=7, max_leaf_nodes=6, min_samples_split=4;, score=0.832 total time=   0.2s\n",
            "[CV 1/3] END max_depth=7, max_leaf_nodes=7, min_samples_split=2;, score=0.831 total time=   0.2s\n",
            "[CV 2/3] END max_depth=7, max_leaf_nodes=7, min_samples_split=2;, score=0.834 total time=   0.3s\n",
            "[CV 3/3] END max_depth=7, max_leaf_nodes=7, min_samples_split=2;, score=0.832 total time=   0.2s\n",
            "[CV 1/3] END max_depth=7, max_leaf_nodes=7, min_samples_split=3;, score=0.831 total time=   0.2s\n",
            "[CV 2/3] END max_depth=7, max_leaf_nodes=7, min_samples_split=3;, score=0.834 total time=   0.2s\n",
            "[CV 3/3] END max_depth=7, max_leaf_nodes=7, min_samples_split=3;, score=0.832 total time=   0.2s\n",
            "[CV 1/3] END max_depth=7, max_leaf_nodes=7, min_samples_split=4;, score=0.831 total time=   0.2s\n",
            "[CV 2/3] END max_depth=7, max_leaf_nodes=7, min_samples_split=4;, score=0.834 total time=   0.2s\n",
            "[CV 3/3] END max_depth=7, max_leaf_nodes=7, min_samples_split=4;, score=0.832 total time=   0.2s\n",
            "[CV 1/3] END max_depth=7, max_leaf_nodes=8, min_samples_split=2;, score=0.835 total time=   0.2s\n",
            "[CV 2/3] END max_depth=7, max_leaf_nodes=8, min_samples_split=2;, score=0.840 total time=   0.2s\n",
            "[CV 3/3] END max_depth=7, max_leaf_nodes=8, min_samples_split=2;, score=0.836 total time=   0.2s\n",
            "[CV 1/3] END max_depth=7, max_leaf_nodes=8, min_samples_split=3;, score=0.835 total time=   0.2s\n",
            "[CV 2/3] END max_depth=7, max_leaf_nodes=8, min_samples_split=3;, score=0.840 total time=   0.2s\n",
            "[CV 3/3] END max_depth=7, max_leaf_nodes=8, min_samples_split=3;, score=0.836 total time=   0.2s\n",
            "[CV 1/3] END max_depth=7, max_leaf_nodes=8, min_samples_split=4;, score=0.835 total time=   0.2s\n",
            "[CV 2/3] END max_depth=7, max_leaf_nodes=8, min_samples_split=4;, score=0.840 total time=   0.2s\n",
            "[CV 3/3] END max_depth=7, max_leaf_nodes=8, min_samples_split=4;, score=0.836 total time=   0.2s\n",
            "[CV 1/3] END max_depth=7, max_leaf_nodes=9, min_samples_split=2;, score=0.835 total time=   0.2s\n",
            "[CV 2/3] END max_depth=7, max_leaf_nodes=9, min_samples_split=2;, score=0.840 total time=   0.2s\n",
            "[CV 3/3] END max_depth=7, max_leaf_nodes=9, min_samples_split=2;, score=0.837 total time=   0.3s\n",
            "[CV 1/3] END max_depth=7, max_leaf_nodes=9, min_samples_split=3;, score=0.835 total time=   0.3s\n",
            "[CV 2/3] END max_depth=7, max_leaf_nodes=9, min_samples_split=3;, score=0.840 total time=   0.2s\n",
            "[CV 3/3] END max_depth=7, max_leaf_nodes=9, min_samples_split=3;, score=0.837 total time=   0.2s\n",
            "[CV 1/3] END max_depth=7, max_leaf_nodes=9, min_samples_split=4;, score=0.835 total time=   0.2s\n",
            "[CV 2/3] END max_depth=7, max_leaf_nodes=9, min_samples_split=4;, score=0.840 total time=   0.2s\n",
            "[CV 3/3] END max_depth=7, max_leaf_nodes=9, min_samples_split=4;, score=0.837 total time=   0.2s\n",
            "[CV 1/3] END max_depth=9, max_leaf_nodes=2, min_samples_split=2;, score=0.817 total time=   0.1s\n",
            "[CV 2/3] END max_depth=9, max_leaf_nodes=2, min_samples_split=2;, score=0.820 total time=   0.1s\n",
            "[CV 3/3] END max_depth=9, max_leaf_nodes=2, min_samples_split=2;, score=0.825 total time=   0.1s\n",
            "[CV 1/3] END max_depth=9, max_leaf_nodes=2, min_samples_split=3;, score=0.817 total time=   0.1s\n",
            "[CV 2/3] END max_depth=9, max_leaf_nodes=2, min_samples_split=3;, score=0.820 total time=   0.1s\n",
            "[CV 3/3] END max_depth=9, max_leaf_nodes=2, min_samples_split=3;, score=0.825 total time=   0.1s\n",
            "[CV 1/3] END max_depth=9, max_leaf_nodes=2, min_samples_split=4;, score=0.817 total time=   0.1s\n",
            "[CV 2/3] END max_depth=9, max_leaf_nodes=2, min_samples_split=4;, score=0.820 total time=   0.1s\n",
            "[CV 3/3] END max_depth=9, max_leaf_nodes=2, min_samples_split=4;, score=0.825 total time=   0.1s\n",
            "[CV 1/3] END max_depth=9, max_leaf_nodes=3, min_samples_split=2;, score=0.819 total time=   0.1s\n",
            "[CV 2/3] END max_depth=9, max_leaf_nodes=3, min_samples_split=2;, score=0.820 total time=   0.1s\n",
            "[CV 3/3] END max_depth=9, max_leaf_nodes=3, min_samples_split=2;, score=0.825 total time=   0.1s\n",
            "[CV 1/3] END max_depth=9, max_leaf_nodes=3, min_samples_split=3;, score=0.819 total time=   0.1s\n",
            "[CV 2/3] END max_depth=9, max_leaf_nodes=3, min_samples_split=3;, score=0.820 total time=   0.1s\n",
            "[CV 3/3] END max_depth=9, max_leaf_nodes=3, min_samples_split=3;, score=0.825 total time=   0.1s\n",
            "[CV 1/3] END max_depth=9, max_leaf_nodes=3, min_samples_split=4;, score=0.819 total time=   0.1s\n",
            "[CV 2/3] END max_depth=9, max_leaf_nodes=3, min_samples_split=4;, score=0.820 total time=   0.1s\n",
            "[CV 3/3] END max_depth=9, max_leaf_nodes=3, min_samples_split=4;, score=0.825 total time=   0.1s\n",
            "[CV 1/3] END max_depth=9, max_leaf_nodes=4, min_samples_split=2;, score=0.819 total time=   0.1s\n",
            "[CV 2/3] END max_depth=9, max_leaf_nodes=4, min_samples_split=2;, score=0.820 total time=   0.3s\n",
            "[CV 3/3] END max_depth=9, max_leaf_nodes=4, min_samples_split=2;, score=0.825 total time=   0.2s\n",
            "[CV 1/3] END max_depth=9, max_leaf_nodes=4, min_samples_split=3;, score=0.819 total time=   0.2s\n",
            "[CV 2/3] END max_depth=9, max_leaf_nodes=4, min_samples_split=3;, score=0.820 total time=   0.1s\n",
            "[CV 3/3] END max_depth=9, max_leaf_nodes=4, min_samples_split=3;, score=0.825 total time=   0.1s\n",
            "[CV 1/3] END max_depth=9, max_leaf_nodes=4, min_samples_split=4;, score=0.819 total time=   0.1s\n",
            "[CV 2/3] END max_depth=9, max_leaf_nodes=4, min_samples_split=4;, score=0.820 total time=   0.2s\n",
            "[CV 3/3] END max_depth=9, max_leaf_nodes=4, min_samples_split=4;, score=0.825 total time=   0.2s\n",
            "[CV 1/3] END max_depth=9, max_leaf_nodes=5, min_samples_split=2;, score=0.819 total time=   0.2s\n",
            "[CV 2/3] END max_depth=9, max_leaf_nodes=5, min_samples_split=2;, score=0.820 total time=   0.1s\n",
            "[CV 3/3] END max_depth=9, max_leaf_nodes=5, min_samples_split=2;, score=0.825 total time=   0.1s\n",
            "[CV 1/3] END max_depth=9, max_leaf_nodes=5, min_samples_split=3;, score=0.819 total time=   0.2s\n",
            "[CV 2/3] END max_depth=9, max_leaf_nodes=5, min_samples_split=3;, score=0.820 total time=   0.2s\n",
            "[CV 3/3] END max_depth=9, max_leaf_nodes=5, min_samples_split=3;, score=0.825 total time=   0.2s\n",
            "[CV 1/3] END max_depth=9, max_leaf_nodes=5, min_samples_split=4;, score=0.819 total time=   0.2s\n",
            "[CV 2/3] END max_depth=9, max_leaf_nodes=5, min_samples_split=4;, score=0.820 total time=   0.1s\n",
            "[CV 3/3] END max_depth=9, max_leaf_nodes=5, min_samples_split=4;, score=0.825 total time=   0.2s\n",
            "[CV 1/3] END max_depth=9, max_leaf_nodes=6, min_samples_split=2;, score=0.819 total time=   0.2s\n",
            "[CV 2/3] END max_depth=9, max_leaf_nodes=6, min_samples_split=2;, score=0.820 total time=   0.3s\n",
            "[CV 3/3] END max_depth=9, max_leaf_nodes=6, min_samples_split=2;, score=0.832 total time=   0.3s\n",
            "[CV 1/3] END max_depth=9, max_leaf_nodes=6, min_samples_split=3;, score=0.819 total time=   0.2s\n",
            "[CV 2/3] END max_depth=9, max_leaf_nodes=6, min_samples_split=3;, score=0.820 total time=   0.2s\n",
            "[CV 3/3] END max_depth=9, max_leaf_nodes=6, min_samples_split=3;, score=0.832 total time=   0.2s\n",
            "[CV 1/3] END max_depth=9, max_leaf_nodes=6, min_samples_split=4;, score=0.819 total time=   0.1s\n",
            "[CV 2/3] END max_depth=9, max_leaf_nodes=6, min_samples_split=4;, score=0.820 total time=   0.2s\n",
            "[CV 3/3] END max_depth=9, max_leaf_nodes=6, min_samples_split=4;, score=0.832 total time=   0.1s\n",
            "[CV 1/3] END max_depth=9, max_leaf_nodes=7, min_samples_split=2;, score=0.831 total time=   0.1s\n",
            "[CV 2/3] END max_depth=9, max_leaf_nodes=7, min_samples_split=2;, score=0.834 total time=   0.1s\n",
            "[CV 3/3] END max_depth=9, max_leaf_nodes=7, min_samples_split=2;, score=0.832 total time=   0.2s\n",
            "[CV 1/3] END max_depth=9, max_leaf_nodes=7, min_samples_split=3;, score=0.831 total time=   0.1s\n",
            "[CV 2/3] END max_depth=9, max_leaf_nodes=7, min_samples_split=3;, score=0.834 total time=   0.2s\n",
            "[CV 3/3] END max_depth=9, max_leaf_nodes=7, min_samples_split=3;, score=0.832 total time=   0.1s\n",
            "[CV 1/3] END max_depth=9, max_leaf_nodes=7, min_samples_split=4;, score=0.831 total time=   0.2s\n",
            "[CV 2/3] END max_depth=9, max_leaf_nodes=7, min_samples_split=4;, score=0.834 total time=   0.2s\n",
            "[CV 3/3] END max_depth=9, max_leaf_nodes=7, min_samples_split=4;, score=0.832 total time=   0.1s\n",
            "[CV 1/3] END max_depth=9, max_leaf_nodes=8, min_samples_split=2;, score=0.835 total time=   0.3s\n",
            "[CV 2/3] END max_depth=9, max_leaf_nodes=8, min_samples_split=2;, score=0.840 total time=   0.4s\n",
            "[CV 3/3] END max_depth=9, max_leaf_nodes=8, min_samples_split=2;, score=0.836 total time=   0.3s\n",
            "[CV 1/3] END max_depth=9, max_leaf_nodes=8, min_samples_split=3;, score=0.835 total time=   0.2s\n",
            "[CV 2/3] END max_depth=9, max_leaf_nodes=8, min_samples_split=3;, score=0.840 total time=   0.2s\n",
            "[CV 3/3] END max_depth=9, max_leaf_nodes=8, min_samples_split=3;, score=0.836 total time=   0.2s\n",
            "[CV 1/3] END max_depth=9, max_leaf_nodes=8, min_samples_split=4;, score=0.835 total time=   0.2s\n",
            "[CV 2/3] END max_depth=9, max_leaf_nodes=8, min_samples_split=4;, score=0.840 total time=   0.2s\n",
            "[CV 3/3] END max_depth=9, max_leaf_nodes=8, min_samples_split=4;, score=0.836 total time=   0.2s\n",
            "[CV 1/3] END max_depth=9, max_leaf_nodes=9, min_samples_split=2;, score=0.835 total time=   0.2s\n",
            "[CV 2/3] END max_depth=9, max_leaf_nodes=9, min_samples_split=2;, score=0.840 total time=   0.2s\n",
            "[CV 3/3] END max_depth=9, max_leaf_nodes=9, min_samples_split=2;, score=0.837 total time=   0.2s\n",
            "[CV 1/3] END max_depth=9, max_leaf_nodes=9, min_samples_split=3;, score=0.835 total time=   0.3s\n",
            "[CV 2/3] END max_depth=9, max_leaf_nodes=9, min_samples_split=3;, score=0.840 total time=   0.4s\n",
            "[CV 3/3] END max_depth=9, max_leaf_nodes=9, min_samples_split=3;, score=0.837 total time=   0.4s\n",
            "[CV 1/3] END max_depth=9, max_leaf_nodes=9, min_samples_split=4;, score=0.835 total time=   0.5s\n",
            "[CV 2/3] END max_depth=9, max_leaf_nodes=9, min_samples_split=4;, score=0.840 total time=   0.2s\n",
            "[CV 3/3] END max_depth=9, max_leaf_nodes=9, min_samples_split=4;, score=0.837 total time=   0.2s\n",
            "[CV 1/3] END max_depth=11, max_leaf_nodes=2, min_samples_split=2;, score=0.817 total time=   0.2s\n",
            "[CV 2/3] END max_depth=11, max_leaf_nodes=2, min_samples_split=2;, score=0.820 total time=   0.2s\n",
            "[CV 3/3] END max_depth=11, max_leaf_nodes=2, min_samples_split=2;, score=0.825 total time=   0.1s\n",
            "[CV 1/3] END max_depth=11, max_leaf_nodes=2, min_samples_split=3;, score=0.817 total time=   0.1s\n",
            "[CV 2/3] END max_depth=11, max_leaf_nodes=2, min_samples_split=3;, score=0.820 total time=   0.1s\n",
            "[CV 3/3] END max_depth=11, max_leaf_nodes=2, min_samples_split=3;, score=0.825 total time=   0.2s\n",
            "[CV 1/3] END max_depth=11, max_leaf_nodes=2, min_samples_split=4;, score=0.817 total time=   0.2s\n",
            "[CV 2/3] END max_depth=11, max_leaf_nodes=2, min_samples_split=4;, score=0.820 total time=   0.1s\n",
            "[CV 3/3] END max_depth=11, max_leaf_nodes=2, min_samples_split=4;, score=0.825 total time=   0.1s\n",
            "[CV 1/3] END max_depth=11, max_leaf_nodes=3, min_samples_split=2;, score=0.819 total time=   0.1s\n",
            "[CV 2/3] END max_depth=11, max_leaf_nodes=3, min_samples_split=2;, score=0.820 total time=   0.1s\n",
            "[CV 3/3] END max_depth=11, max_leaf_nodes=3, min_samples_split=2;, score=0.825 total time=   0.1s\n",
            "[CV 1/3] END max_depth=11, max_leaf_nodes=3, min_samples_split=3;, score=0.819 total time=   0.1s\n",
            "[CV 2/3] END max_depth=11, max_leaf_nodes=3, min_samples_split=3;, score=0.820 total time=   0.1s\n",
            "[CV 3/3] END max_depth=11, max_leaf_nodes=3, min_samples_split=3;, score=0.825 total time=   0.1s\n",
            "[CV 1/3] END max_depth=11, max_leaf_nodes=3, min_samples_split=4;, score=0.819 total time=   0.1s\n",
            "[CV 2/3] END max_depth=11, max_leaf_nodes=3, min_samples_split=4;, score=0.820 total time=   0.1s\n",
            "[CV 3/3] END max_depth=11, max_leaf_nodes=3, min_samples_split=4;, score=0.825 total time=   0.1s\n",
            "[CV 1/3] END max_depth=11, max_leaf_nodes=4, min_samples_split=2;, score=0.819 total time=   0.1s\n",
            "[CV 2/3] END max_depth=11, max_leaf_nodes=4, min_samples_split=2;, score=0.820 total time=   0.1s\n",
            "[CV 3/3] END max_depth=11, max_leaf_nodes=4, min_samples_split=2;, score=0.825 total time=   0.1s\n",
            "[CV 1/3] END max_depth=11, max_leaf_nodes=4, min_samples_split=3;, score=0.819 total time=   0.1s\n",
            "[CV 2/3] END max_depth=11, max_leaf_nodes=4, min_samples_split=3;, score=0.820 total time=   0.1s\n",
            "[CV 3/3] END max_depth=11, max_leaf_nodes=4, min_samples_split=3;, score=0.825 total time=   0.1s\n",
            "[CV 1/3] END max_depth=11, max_leaf_nodes=4, min_samples_split=4;, score=0.819 total time=   0.1s\n",
            "[CV 2/3] END max_depth=11, max_leaf_nodes=4, min_samples_split=4;, score=0.820 total time=   0.1s\n",
            "[CV 3/3] END max_depth=11, max_leaf_nodes=4, min_samples_split=4;, score=0.825 total time=   0.1s\n",
            "[CV 1/3] END max_depth=11, max_leaf_nodes=5, min_samples_split=2;, score=0.819 total time=   0.1s\n",
            "[CV 2/3] END max_depth=11, max_leaf_nodes=5, min_samples_split=2;, score=0.820 total time=   0.2s\n",
            "[CV 3/3] END max_depth=11, max_leaf_nodes=5, min_samples_split=2;, score=0.825 total time=   0.1s\n",
            "[CV 1/3] END max_depth=11, max_leaf_nodes=5, min_samples_split=3;, score=0.819 total time=   0.1s\n",
            "[CV 2/3] END max_depth=11, max_leaf_nodes=5, min_samples_split=3;, score=0.820 total time=   0.1s\n",
            "[CV 3/3] END max_depth=11, max_leaf_nodes=5, min_samples_split=3;, score=0.825 total time=   0.1s\n",
            "[CV 1/3] END max_depth=11, max_leaf_nodes=5, min_samples_split=4;, score=0.819 total time=   0.1s\n",
            "[CV 2/3] END max_depth=11, max_leaf_nodes=5, min_samples_split=4;, score=0.820 total time=   0.1s\n",
            "[CV 3/3] END max_depth=11, max_leaf_nodes=5, min_samples_split=4;, score=0.825 total time=   0.1s\n",
            "[CV 1/3] END max_depth=11, max_leaf_nodes=6, min_samples_split=2;, score=0.819 total time=   0.2s\n",
            "[CV 2/3] END max_depth=11, max_leaf_nodes=6, min_samples_split=2;, score=0.820 total time=   0.1s\n",
            "[CV 3/3] END max_depth=11, max_leaf_nodes=6, min_samples_split=2;, score=0.832 total time=   0.1s\n",
            "[CV 1/3] END max_depth=11, max_leaf_nodes=6, min_samples_split=3;, score=0.819 total time=   0.3s\n",
            "[CV 2/3] END max_depth=11, max_leaf_nodes=6, min_samples_split=3;, score=0.820 total time=   0.3s\n",
            "[CV 3/3] END max_depth=11, max_leaf_nodes=6, min_samples_split=3;, score=0.832 total time=   0.2s\n",
            "[CV 1/3] END max_depth=11, max_leaf_nodes=6, min_samples_split=4;, score=0.819 total time=   0.2s\n",
            "[CV 2/3] END max_depth=11, max_leaf_nodes=6, min_samples_split=4;, score=0.820 total time=   0.5s\n",
            "[CV 3/3] END max_depth=11, max_leaf_nodes=6, min_samples_split=4;, score=0.832 total time=   0.1s\n",
            "[CV 1/3] END max_depth=11, max_leaf_nodes=7, min_samples_split=2;, score=0.831 total time=   0.1s\n",
            "[CV 2/3] END max_depth=11, max_leaf_nodes=7, min_samples_split=2;, score=0.834 total time=   0.1s\n",
            "[CV 3/3] END max_depth=11, max_leaf_nodes=7, min_samples_split=2;, score=0.832 total time=   0.2s\n",
            "[CV 1/3] END max_depth=11, max_leaf_nodes=7, min_samples_split=3;, score=0.831 total time=   0.2s\n",
            "[CV 2/3] END max_depth=11, max_leaf_nodes=7, min_samples_split=3;, score=0.834 total time=   0.1s\n",
            "[CV 3/3] END max_depth=11, max_leaf_nodes=7, min_samples_split=3;, score=0.832 total time=   0.2s\n",
            "[CV 1/3] END max_depth=11, max_leaf_nodes=7, min_samples_split=4;, score=0.831 total time=   0.2s\n",
            "[CV 2/3] END max_depth=11, max_leaf_nodes=7, min_samples_split=4;, score=0.834 total time=   0.2s\n",
            "[CV 3/3] END max_depth=11, max_leaf_nodes=7, min_samples_split=4;, score=0.832 total time=   0.2s\n",
            "[CV 1/3] END max_depth=11, max_leaf_nodes=8, min_samples_split=2;, score=0.835 total time=   0.2s\n",
            "[CV 2/3] END max_depth=11, max_leaf_nodes=8, min_samples_split=2;, score=0.840 total time=   0.3s\n",
            "[CV 3/3] END max_depth=11, max_leaf_nodes=8, min_samples_split=2;, score=0.836 total time=   0.4s\n",
            "[CV 1/3] END max_depth=11, max_leaf_nodes=8, min_samples_split=3;, score=0.835 total time=   0.2s\n",
            "[CV 2/3] END max_depth=11, max_leaf_nodes=8, min_samples_split=3;, score=0.840 total time=   0.2s\n",
            "[CV 3/3] END max_depth=11, max_leaf_nodes=8, min_samples_split=3;, score=0.836 total time=   0.2s\n",
            "[CV 1/3] END max_depth=11, max_leaf_nodes=8, min_samples_split=4;, score=0.835 total time=   0.2s\n",
            "[CV 2/3] END max_depth=11, max_leaf_nodes=8, min_samples_split=4;, score=0.840 total time=   0.2s\n",
            "[CV 3/3] END max_depth=11, max_leaf_nodes=8, min_samples_split=4;, score=0.836 total time=   0.2s\n",
            "[CV 1/3] END max_depth=11, max_leaf_nodes=9, min_samples_split=2;, score=0.835 total time=   0.3s\n",
            "[CV 2/3] END max_depth=11, max_leaf_nodes=9, min_samples_split=2;, score=0.840 total time=   0.3s\n",
            "[CV 3/3] END max_depth=11, max_leaf_nodes=9, min_samples_split=2;, score=0.837 total time=   0.2s\n",
            "[CV 1/3] END max_depth=11, max_leaf_nodes=9, min_samples_split=3;, score=0.835 total time=   0.2s\n",
            "[CV 2/3] END max_depth=11, max_leaf_nodes=9, min_samples_split=3;, score=0.840 total time=   0.2s\n",
            "[CV 3/3] END max_depth=11, max_leaf_nodes=9, min_samples_split=3;, score=0.837 total time=   0.3s\n",
            "[CV 1/3] END max_depth=11, max_leaf_nodes=9, min_samples_split=4;, score=0.835 total time=   0.2s\n",
            "[CV 2/3] END max_depth=11, max_leaf_nodes=9, min_samples_split=4;, score=0.840 total time=   0.3s\n",
            "[CV 3/3] END max_depth=11, max_leaf_nodes=9, min_samples_split=4;, score=0.837 total time=   0.3s\n",
            "{'max_depth': 5, 'max_leaf_nodes': 9, 'min_samples_split': 2}\n",
            "0.7\n"
          ]
        }
      ],
      "source": [
        "params = {\n",
        "    'max_leaf_nodes': list(range(2, 10)), \n",
        "    'min_samples_split': [2, 3, 4], \n",
        "    'max_depth': [5,7,9,11]\n",
        "}\n",
        "\n",
        "grid_search_cv = GridSearchCV(DecisionTreeClassifier(random_state=42), params, verbose=3, cv=3)\n",
        "grid_search_cv.fit(X_train, y_train)\n",
        "print(grid_search_cv.best_params_)\n",
        "\n",
        "clf = DecisionTreeClassifier(max_depth = 5, max_leaf_nodes = 9, min_samples_split = 2, random_state=42)\n",
        "clf.fit(X_train, y_train)\n",
        "preds_train = clf.predict(X_train)\n",
        "preds_test = clf.predict(X_test)\n",
        "print(round(roc_auc_score(y_test, preds_test), 2))"
      ]
    },
    {
      "cell_type": "markdown",
      "metadata": {
        "id": "zC6fVKEwOXSQ"
      },
      "source": [
        "## Задание 4.10"
      ]
    },
    {
      "cell_type": "code",
      "execution_count": 14,
      "metadata": {
        "colab": {
          "base_uri": "https://localhost:8080/"
        },
        "id": "4IjvX4duOY59",
        "outputId": "43ced661-5d42-41c2-8cec-044c49ffd2f6"
      },
      "outputs": [
        {
          "name": "stdout",
          "output_type": "stream",
          "text": [
            "0.73\n"
          ]
        }
      ],
      "source": [
        "clf = RandomForestClassifier(n_estimators = 100, random_state=31)\n",
        "clf.fit(X_train, y_train)\n",
        "preds_train = clf.predict(X_train)\n",
        "preds_test = clf.predict(X_test)\n",
        "print(round(roc_auc_score(y_test, preds_test), 2))"
      ]
    },
    {
      "cell_type": "markdown",
      "metadata": {
        "id": "xsa3rgoO_ivc"
      },
      "source": [
        "## Задание 4.11"
      ]
    },
    {
      "cell_type": "code",
      "execution_count": 15,
      "metadata": {
        "colab": {
          "base_uri": "https://localhost:8080/"
        },
        "id": "FuYN6Rk2Oax6",
        "outputId": "bd024c38-3cab-408d-f891-df067428ae2c"
      },
      "outputs": [
        {
          "name": "stdout",
          "output_type": "stream",
          "text": [
            "Fitting 3 folds for each of 60 candidates, totalling 180 fits\n",
            "[CV 1/3] END max_depth=5, max_features=4, min_samples_leaf=3;, score=0.776 total time=   1.6s\n",
            "[CV 2/3] END max_depth=5, max_features=4, min_samples_leaf=3;, score=0.775 total time=   1.6s\n",
            "[CV 3/3] END max_depth=5, max_features=4, min_samples_leaf=3;, score=0.775 total time=   1.4s\n",
            "[CV 1/3] END max_depth=5, max_features=4, min_samples_leaf=5;, score=0.776 total time=   1.5s\n",
            "[CV 2/3] END max_depth=5, max_features=4, min_samples_leaf=5;, score=0.775 total time=   1.5s\n",
            "[CV 3/3] END max_depth=5, max_features=4, min_samples_leaf=5;, score=0.775 total time=   1.9s\n",
            "[CV 1/3] END max_depth=5, max_features=4, min_samples_leaf=7;, score=0.776 total time=   1.7s\n",
            "[CV 2/3] END max_depth=5, max_features=4, min_samples_leaf=7;, score=0.775 total time=   1.7s\n",
            "[CV 3/3] END max_depth=5, max_features=4, min_samples_leaf=7;, score=0.775 total time=   1.4s\n",
            "[CV 1/3] END max_depth=5, max_features=4, min_samples_leaf=9;, score=0.776 total time=   1.2s\n",
            "[CV 2/3] END max_depth=5, max_features=4, min_samples_leaf=9;, score=0.775 total time=   1.2s\n",
            "[CV 3/3] END max_depth=5, max_features=4, min_samples_leaf=9;, score=0.775 total time=   1.3s\n",
            "[CV 1/3] END max_depth=5, max_features=4, min_samples_leaf=11;, score=0.776 total time=   1.2s\n",
            "[CV 2/3] END max_depth=5, max_features=4, min_samples_leaf=11;, score=0.775 total time=   1.3s\n",
            "[CV 3/3] END max_depth=5, max_features=4, min_samples_leaf=11;, score=0.775 total time=   1.5s\n",
            "[CV 1/3] END max_depth=5, max_features=5, min_samples_leaf=3;, score=0.782 total time=   1.3s\n",
            "[CV 2/3] END max_depth=5, max_features=5, min_samples_leaf=3;, score=0.780 total time=   1.4s\n",
            "[CV 3/3] END max_depth=5, max_features=5, min_samples_leaf=3;, score=0.781 total time=   1.5s\n",
            "[CV 1/3] END max_depth=5, max_features=5, min_samples_leaf=5;, score=0.781 total time=   1.5s\n",
            "[CV 2/3] END max_depth=5, max_features=5, min_samples_leaf=5;, score=0.781 total time=   1.6s\n",
            "[CV 3/3] END max_depth=5, max_features=5, min_samples_leaf=5;, score=0.781 total time=   1.4s\n",
            "[CV 1/3] END max_depth=5, max_features=5, min_samples_leaf=7;, score=0.782 total time=   1.4s\n",
            "[CV 2/3] END max_depth=5, max_features=5, min_samples_leaf=7;, score=0.780 total time=   1.4s\n",
            "[CV 3/3] END max_depth=5, max_features=5, min_samples_leaf=7;, score=0.782 total time=   1.3s\n",
            "[CV 1/3] END max_depth=5, max_features=5, min_samples_leaf=9;, score=0.782 total time=   1.3s\n",
            "[CV 2/3] END max_depth=5, max_features=5, min_samples_leaf=9;, score=0.779 total time=   1.4s\n",
            "[CV 3/3] END max_depth=5, max_features=5, min_samples_leaf=9;, score=0.781 total time=   1.5s\n",
            "[CV 1/3] END max_depth=5, max_features=5, min_samples_leaf=11;, score=0.784 total time=   1.6s\n",
            "[CV 2/3] END max_depth=5, max_features=5, min_samples_leaf=11;, score=0.781 total time=   1.6s\n",
            "[CV 3/3] END max_depth=5, max_features=5, min_samples_leaf=11;, score=0.783 total time=   1.4s\n",
            "[CV 1/3] END max_depth=5, max_features=6, min_samples_leaf=3;, score=0.795 total time=   1.6s\n",
            "[CV 2/3] END max_depth=5, max_features=6, min_samples_leaf=3;, score=0.793 total time=   1.6s\n",
            "[CV 3/3] END max_depth=5, max_features=6, min_samples_leaf=3;, score=0.796 total time=   1.5s\n",
            "[CV 1/3] END max_depth=5, max_features=6, min_samples_leaf=5;, score=0.793 total time=   1.4s\n",
            "[CV 2/3] END max_depth=5, max_features=6, min_samples_leaf=5;, score=0.792 total time=   1.5s\n",
            "[CV 3/3] END max_depth=5, max_features=6, min_samples_leaf=5;, score=0.795 total time=   1.4s\n",
            "[CV 1/3] END max_depth=5, max_features=6, min_samples_leaf=7;, score=0.798 total time=   1.4s\n",
            "[CV 2/3] END max_depth=5, max_features=6, min_samples_leaf=7;, score=0.794 total time=   1.4s\n",
            "[CV 3/3] END max_depth=5, max_features=6, min_samples_leaf=7;, score=0.795 total time=   1.7s\n",
            "[CV 1/3] END max_depth=5, max_features=6, min_samples_leaf=9;, score=0.796 total time=   1.6s\n",
            "[CV 2/3] END max_depth=5, max_features=6, min_samples_leaf=9;, score=0.795 total time=   1.6s\n",
            "[CV 3/3] END max_depth=5, max_features=6, min_samples_leaf=9;, score=0.795 total time=   2.0s\n",
            "[CV 1/3] END max_depth=5, max_features=6, min_samples_leaf=11;, score=0.795 total time=   2.0s\n",
            "[CV 2/3] END max_depth=5, max_features=6, min_samples_leaf=11;, score=0.798 total time=   1.6s\n",
            "[CV 3/3] END max_depth=5, max_features=6, min_samples_leaf=11;, score=0.795 total time=   1.9s\n",
            "[CV 1/3] END max_depth=5, max_features=7, min_samples_leaf=3;, score=0.798 total time=   1.9s\n",
            "[CV 2/3] END max_depth=5, max_features=7, min_samples_leaf=3;, score=0.801 total time=   2.9s\n",
            "[CV 3/3] END max_depth=5, max_features=7, min_samples_leaf=3;, score=0.794 total time=   1.9s\n",
            "[CV 1/3] END max_depth=5, max_features=7, min_samples_leaf=5;, score=0.798 total time=   1.8s\n",
            "[CV 2/3] END max_depth=5, max_features=7, min_samples_leaf=5;, score=0.801 total time=   2.0s\n",
            "[CV 3/3] END max_depth=5, max_features=7, min_samples_leaf=5;, score=0.797 total time=   2.1s\n",
            "[CV 1/3] END max_depth=5, max_features=7, min_samples_leaf=7;, score=0.794 total time=   1.7s\n",
            "[CV 2/3] END max_depth=5, max_features=7, min_samples_leaf=7;, score=0.800 total time=   1.8s\n",
            "[CV 3/3] END max_depth=5, max_features=7, min_samples_leaf=7;, score=0.795 total time=   1.6s\n",
            "[CV 1/3] END max_depth=5, max_features=7, min_samples_leaf=9;, score=0.796 total time=   1.6s\n",
            "[CV 2/3] END max_depth=5, max_features=7, min_samples_leaf=9;, score=0.800 total time=   1.5s\n",
            "[CV 3/3] END max_depth=5, max_features=7, min_samples_leaf=9;, score=0.795 total time=   1.5s\n",
            "[CV 1/3] END max_depth=5, max_features=7, min_samples_leaf=11;, score=0.796 total time=   1.6s\n",
            "[CV 2/3] END max_depth=5, max_features=7, min_samples_leaf=11;, score=0.803 total time=   1.6s\n",
            "[CV 3/3] END max_depth=5, max_features=7, min_samples_leaf=11;, score=0.795 total time=   1.6s\n",
            "[CV 1/3] END max_depth=10, max_features=4, min_samples_leaf=3;, score=0.810 total time=   2.1s\n",
            "[CV 2/3] END max_depth=10, max_features=4, min_samples_leaf=3;, score=0.815 total time=   2.3s\n",
            "[CV 3/3] END max_depth=10, max_features=4, min_samples_leaf=3;, score=0.813 total time=   3.0s\n",
            "[CV 1/3] END max_depth=10, max_features=4, min_samples_leaf=5;, score=0.812 total time=   2.6s\n",
            "[CV 2/3] END max_depth=10, max_features=4, min_samples_leaf=5;, score=0.811 total time=   2.1s\n",
            "[CV 3/3] END max_depth=10, max_features=4, min_samples_leaf=5;, score=0.813 total time=   2.3s\n",
            "[CV 1/3] END max_depth=10, max_features=4, min_samples_leaf=7;, score=0.811 total time=   2.7s\n",
            "[CV 2/3] END max_depth=10, max_features=4, min_samples_leaf=7;, score=0.812 total time=   2.5s\n",
            "[CV 3/3] END max_depth=10, max_features=4, min_samples_leaf=7;, score=0.812 total time=   2.1s\n",
            "[CV 1/3] END max_depth=10, max_features=4, min_samples_leaf=9;, score=0.809 total time=   2.4s\n",
            "[CV 2/3] END max_depth=10, max_features=4, min_samples_leaf=9;, score=0.812 total time=   3.1s\n",
            "[CV 3/3] END max_depth=10, max_features=4, min_samples_leaf=9;, score=0.811 total time=   2.2s\n",
            "[CV 1/3] END max_depth=10, max_features=4, min_samples_leaf=11;, score=0.813 total time=   2.4s\n",
            "[CV 2/3] END max_depth=10, max_features=4, min_samples_leaf=11;, score=0.812 total time=   3.3s\n",
            "[CV 3/3] END max_depth=10, max_features=4, min_samples_leaf=11;, score=0.813 total time=   2.9s\n",
            "[CV 1/3] END max_depth=10, max_features=5, min_samples_leaf=3;, score=0.819 total time=   2.7s\n",
            "[CV 2/3] END max_depth=10, max_features=5, min_samples_leaf=3;, score=0.826 total time=   2.6s\n",
            "[CV 3/3] END max_depth=10, max_features=5, min_samples_leaf=3;, score=0.820 total time=   3.2s\n",
            "[CV 1/3] END max_depth=10, max_features=5, min_samples_leaf=5;, score=0.821 total time=   2.9s\n",
            "[CV 2/3] END max_depth=10, max_features=5, min_samples_leaf=5;, score=0.826 total time=   2.8s\n",
            "[CV 3/3] END max_depth=10, max_features=5, min_samples_leaf=5;, score=0.820 total time=   2.5s\n",
            "[CV 1/3] END max_depth=10, max_features=5, min_samples_leaf=7;, score=0.820 total time=   2.2s\n",
            "[CV 2/3] END max_depth=10, max_features=5, min_samples_leaf=7;, score=0.819 total time=   2.3s\n",
            "[CV 3/3] END max_depth=10, max_features=5, min_samples_leaf=7;, score=0.820 total time=   2.2s\n",
            "[CV 1/3] END max_depth=10, max_features=5, min_samples_leaf=9;, score=0.819 total time=   2.1s\n",
            "[CV 2/3] END max_depth=10, max_features=5, min_samples_leaf=9;, score=0.824 total time=   2.2s\n",
            "[CV 3/3] END max_depth=10, max_features=5, min_samples_leaf=9;, score=0.816 total time=   2.3s\n",
            "[CV 1/3] END max_depth=10, max_features=5, min_samples_leaf=11;, score=0.822 total time=   2.2s\n",
            "[CV 2/3] END max_depth=10, max_features=5, min_samples_leaf=11;, score=0.826 total time=   2.2s\n",
            "[CV 3/3] END max_depth=10, max_features=5, min_samples_leaf=11;, score=0.817 total time=   2.2s\n",
            "[CV 1/3] END max_depth=10, max_features=6, min_samples_leaf=3;, score=0.832 total time=   2.4s\n",
            "[CV 2/3] END max_depth=10, max_features=6, min_samples_leaf=3;, score=0.834 total time=   2.4s\n",
            "[CV 3/3] END max_depth=10, max_features=6, min_samples_leaf=3;, score=0.830 total time=   2.4s\n",
            "[CV 1/3] END max_depth=10, max_features=6, min_samples_leaf=5;, score=0.829 total time=   2.5s\n",
            "[CV 2/3] END max_depth=10, max_features=6, min_samples_leaf=5;, score=0.835 total time=   2.5s\n",
            "[CV 3/3] END max_depth=10, max_features=6, min_samples_leaf=5;, score=0.828 total time=   2.5s\n",
            "[CV 1/3] END max_depth=10, max_features=6, min_samples_leaf=7;, score=0.831 total time=   2.4s\n",
            "[CV 2/3] END max_depth=10, max_features=6, min_samples_leaf=7;, score=0.835 total time=   2.5s\n",
            "[CV 3/3] END max_depth=10, max_features=6, min_samples_leaf=7;, score=0.831 total time=   2.6s\n",
            "[CV 1/3] END max_depth=10, max_features=6, min_samples_leaf=9;, score=0.830 total time=   2.6s\n",
            "[CV 2/3] END max_depth=10, max_features=6, min_samples_leaf=9;, score=0.835 total time=   2.5s\n",
            "[CV 3/3] END max_depth=10, max_features=6, min_samples_leaf=9;, score=0.831 total time=   2.5s\n",
            "[CV 1/3] END max_depth=10, max_features=6, min_samples_leaf=11;, score=0.831 total time=   2.3s\n",
            "[CV 2/3] END max_depth=10, max_features=6, min_samples_leaf=11;, score=0.835 total time=   2.5s\n",
            "[CV 3/3] END max_depth=10, max_features=6, min_samples_leaf=11;, score=0.827 total time=   2.5s\n",
            "[CV 1/3] END max_depth=10, max_features=7, min_samples_leaf=3;, score=0.833 total time=   3.3s\n",
            "[CV 2/3] END max_depth=10, max_features=7, min_samples_leaf=3;, score=0.839 total time=   3.1s\n",
            "[CV 3/3] END max_depth=10, max_features=7, min_samples_leaf=3;, score=0.831 total time=   2.9s\n",
            "[CV 1/3] END max_depth=10, max_features=7, min_samples_leaf=5;, score=0.834 total time=   3.0s\n",
            "[CV 2/3] END max_depth=10, max_features=7, min_samples_leaf=5;, score=0.838 total time=   3.2s\n",
            "[CV 3/3] END max_depth=10, max_features=7, min_samples_leaf=5;, score=0.832 total time=   3.5s\n",
            "[CV 1/3] END max_depth=10, max_features=7, min_samples_leaf=7;, score=0.831 total time=   3.7s\n",
            "[CV 2/3] END max_depth=10, max_features=7, min_samples_leaf=7;, score=0.838 total time=   3.0s\n",
            "[CV 3/3] END max_depth=10, max_features=7, min_samples_leaf=7;, score=0.829 total time=   3.6s\n",
            "[CV 1/3] END max_depth=10, max_features=7, min_samples_leaf=9;, score=0.833 total time=   4.8s\n",
            "[CV 2/3] END max_depth=10, max_features=7, min_samples_leaf=9;, score=0.838 total time=   3.1s\n",
            "[CV 3/3] END max_depth=10, max_features=7, min_samples_leaf=9;, score=0.831 total time=   2.9s\n",
            "[CV 1/3] END max_depth=10, max_features=7, min_samples_leaf=11;, score=0.834 total time=   2.6s\n",
            "[CV 2/3] END max_depth=10, max_features=7, min_samples_leaf=11;, score=0.837 total time=   2.5s\n",
            "[CV 3/3] END max_depth=10, max_features=7, min_samples_leaf=11;, score=0.828 total time=   2.5s\n",
            "[CV 1/3] END max_depth=15, max_features=4, min_samples_leaf=3;, score=0.829 total time=   2.6s\n",
            "[CV 2/3] END max_depth=15, max_features=4, min_samples_leaf=3;, score=0.836 total time=   2.8s\n",
            "[CV 3/3] END max_depth=15, max_features=4, min_samples_leaf=3;, score=0.829 total time=   2.6s\n",
            "[CV 1/3] END max_depth=15, max_features=4, min_samples_leaf=5;, score=0.828 total time=   2.5s\n",
            "[CV 2/3] END max_depth=15, max_features=4, min_samples_leaf=5;, score=0.834 total time=   2.5s\n",
            "[CV 3/3] END max_depth=15, max_features=4, min_samples_leaf=5;, score=0.829 total time=   2.7s\n",
            "[CV 1/3] END max_depth=15, max_features=4, min_samples_leaf=7;, score=0.828 total time=   2.6s\n",
            "[CV 2/3] END max_depth=15, max_features=4, min_samples_leaf=7;, score=0.832 total time=   3.1s\n",
            "[CV 3/3] END max_depth=15, max_features=4, min_samples_leaf=7;, score=0.827 total time=   3.4s\n",
            "[CV 1/3] END max_depth=15, max_features=4, min_samples_leaf=9;, score=0.825 total time=   3.1s\n",
            "[CV 2/3] END max_depth=15, max_features=4, min_samples_leaf=9;, score=0.832 total time=   2.9s\n",
            "[CV 3/3] END max_depth=15, max_features=4, min_samples_leaf=9;, score=0.824 total time=   2.7s\n",
            "[CV 1/3] END max_depth=15, max_features=4, min_samples_leaf=11;, score=0.826 total time=   3.0s\n",
            "[CV 2/3] END max_depth=15, max_features=4, min_samples_leaf=11;, score=0.831 total time=   2.6s\n",
            "[CV 3/3] END max_depth=15, max_features=4, min_samples_leaf=11;, score=0.824 total time=   2.6s\n",
            "[CV 1/3] END max_depth=15, max_features=5, min_samples_leaf=3;, score=0.832 total time=   3.2s\n",
            "[CV 2/3] END max_depth=15, max_features=5, min_samples_leaf=3;, score=0.843 total time=   3.1s\n",
            "[CV 3/3] END max_depth=15, max_features=5, min_samples_leaf=3;, score=0.833 total time=   3.2s\n",
            "[CV 1/3] END max_depth=15, max_features=5, min_samples_leaf=5;, score=0.835 total time=   4.2s\n",
            "[CV 2/3] END max_depth=15, max_features=5, min_samples_leaf=5;, score=0.843 total time=   3.9s\n",
            "[CV 3/3] END max_depth=15, max_features=5, min_samples_leaf=5;, score=0.834 total time=   3.0s\n",
            "[CV 1/3] END max_depth=15, max_features=5, min_samples_leaf=7;, score=0.834 total time=   4.7s\n",
            "[CV 2/3] END max_depth=15, max_features=5, min_samples_leaf=7;, score=0.839 total time=   3.6s\n",
            "[CV 3/3] END max_depth=15, max_features=5, min_samples_leaf=7;, score=0.830 total time=   2.8s\n",
            "[CV 1/3] END max_depth=15, max_features=5, min_samples_leaf=9;, score=0.832 total time=   3.8s\n",
            "[CV 2/3] END max_depth=15, max_features=5, min_samples_leaf=9;, score=0.838 total time=   3.2s\n",
            "[CV 3/3] END max_depth=15, max_features=5, min_samples_leaf=9;, score=0.831 total time=   3.1s\n",
            "[CV 1/3] END max_depth=15, max_features=5, min_samples_leaf=11;, score=0.834 total time=   3.6s\n",
            "[CV 2/3] END max_depth=15, max_features=5, min_samples_leaf=11;, score=0.838 total time=   3.3s\n",
            "[CV 3/3] END max_depth=15, max_features=5, min_samples_leaf=11;, score=0.831 total time=   3.2s\n",
            "[CV 1/3] END max_depth=15, max_features=6, min_samples_leaf=3;, score=0.841 total time=   3.6s\n",
            "[CV 2/3] END max_depth=15, max_features=6, min_samples_leaf=3;, score=0.847 total time=   3.8s\n",
            "[CV 3/3] END max_depth=15, max_features=6, min_samples_leaf=3;, score=0.840 total time=   3.9s\n",
            "[CV 1/3] END max_depth=15, max_features=6, min_samples_leaf=5;, score=0.842 total time=   3.5s\n",
            "[CV 2/3] END max_depth=15, max_features=6, min_samples_leaf=5;, score=0.847 total time=   3.7s\n",
            "[CV 3/3] END max_depth=15, max_features=6, min_samples_leaf=5;, score=0.839 total time=   4.0s\n",
            "[CV 1/3] END max_depth=15, max_features=6, min_samples_leaf=7;, score=0.842 total time=   3.5s\n",
            "[CV 2/3] END max_depth=15, max_features=6, min_samples_leaf=7;, score=0.845 total time=   3.7s\n",
            "[CV 3/3] END max_depth=15, max_features=6, min_samples_leaf=7;, score=0.841 total time=   3.8s\n",
            "[CV 1/3] END max_depth=15, max_features=6, min_samples_leaf=9;, score=0.840 total time=   3.2s\n",
            "[CV 2/3] END max_depth=15, max_features=6, min_samples_leaf=9;, score=0.845 total time=   3.4s\n",
            "[CV 3/3] END max_depth=15, max_features=6, min_samples_leaf=9;, score=0.837 total time=   3.5s\n",
            "[CV 1/3] END max_depth=15, max_features=6, min_samples_leaf=11;, score=0.840 total time=   3.3s\n",
            "[CV 2/3] END max_depth=15, max_features=6, min_samples_leaf=11;, score=0.846 total time=   3.4s\n",
            "[CV 3/3] END max_depth=15, max_features=6, min_samples_leaf=11;, score=0.838 total time=   3.1s\n",
            "[CV 1/3] END max_depth=15, max_features=7, min_samples_leaf=3;, score=0.845 total time=   3.9s\n",
            "[CV 2/3] END max_depth=15, max_features=7, min_samples_leaf=3;, score=0.850 total time=   3.7s\n",
            "[CV 3/3] END max_depth=15, max_features=7, min_samples_leaf=3;, score=0.845 total time=   3.7s\n",
            "[CV 1/3] END max_depth=15, max_features=7, min_samples_leaf=5;, score=0.844 total time=   4.2s\n",
            "[CV 2/3] END max_depth=15, max_features=7, min_samples_leaf=5;, score=0.849 total time=   3.8s\n",
            "[CV 3/3] END max_depth=15, max_features=7, min_samples_leaf=5;, score=0.844 total time=   4.0s\n",
            "[CV 1/3] END max_depth=15, max_features=7, min_samples_leaf=7;, score=0.842 total time=   3.9s\n",
            "[CV 2/3] END max_depth=15, max_features=7, min_samples_leaf=7;, score=0.850 total time=   3.8s\n",
            "[CV 3/3] END max_depth=15, max_features=7, min_samples_leaf=7;, score=0.841 total time=   4.0s\n",
            "[CV 1/3] END max_depth=15, max_features=7, min_samples_leaf=9;, score=0.842 total time=   3.8s\n",
            "[CV 2/3] END max_depth=15, max_features=7, min_samples_leaf=9;, score=0.848 total time=   3.7s\n",
            "[CV 3/3] END max_depth=15, max_features=7, min_samples_leaf=9;, score=0.841 total time=   4.1s\n",
            "[CV 1/3] END max_depth=15, max_features=7, min_samples_leaf=11;, score=0.840 total time=   3.6s\n",
            "[CV 2/3] END max_depth=15, max_features=7, min_samples_leaf=11;, score=0.847 total time=   3.3s\n",
            "[CV 3/3] END max_depth=15, max_features=7, min_samples_leaf=11;, score=0.840 total time=   3.6s\n",
            "{'max_depth': 15, 'max_features': 7, 'min_samples_leaf': 3}\n",
            "0.7\n"
          ]
        }
      ],
      "source": [
        "params = {\n",
        "    'max_features': [4, 5, 6, 7], \n",
        "    'min_samples_leaf': [3, 5, 7, 9, 11], \n",
        "    'max_depth': [5, 10, 15]\n",
        "}\n",
        "grid_search_cv = GridSearchCV(RandomForestClassifier(random_state=31), params, verbose=3, cv=3)\n",
        "grid_search_cv.fit(X_train, y_train)\n",
        "print(grid_search_cv.best_params_)\n",
        "clf = RandomForestClassifier(max_depth=15, max_features=7, min_samples_leaf=3, random_state=31)\n",
        "clf.fit(X_train, y_train)\n",
        "preds_train = clf.predict(X_train)\n",
        "preds_test = clf.predict(X_test)\n",
        "print(round(roc_auc_score(y_test, preds_test), 2))"
      ]
    },
    {
      "cell_type": "markdown",
      "metadata": {
        "id": "Rt9uMrYjAFUb"
      },
      "source": [
        "## Задание 4.12"
      ]
    },
    {
      "cell_type": "code",
      "execution_count": 16,
      "metadata": {
        "colab": {
          "base_uri": "https://localhost:8080/",
          "height": 424
        },
        "id": "AWWVgNnE_wk1",
        "outputId": "c5b209ce-fc54-40a7-f32d-1fe83045d8a4"
      },
      "outputs": [
        {
          "data": {
            "text/html": [
              "<div>\n",
              "<style scoped>\n",
              "    .dataframe tbody tr th:only-of-type {\n",
              "        vertical-align: middle;\n",
              "    }\n",
              "\n",
              "    .dataframe tbody tr th {\n",
              "        vertical-align: top;\n",
              "    }\n",
              "\n",
              "    .dataframe thead th {\n",
              "        text-align: right;\n",
              "    }\n",
              "</style>\n",
              "<table border=\"1\" class=\"dataframe\">\n",
              "  <thead>\n",
              "    <tr style=\"text-align: right;\">\n",
              "      <th></th>\n",
              "      <th>feat</th>\n",
              "      <th>coef</th>\n",
              "    </tr>\n",
              "  </thead>\n",
              "  <tbody>\n",
              "    <tr>\n",
              "      <th>7</th>\n",
              "      <td>Humidity3pm</td>\n",
              "      <td>0.250783</td>\n",
              "    </tr>\n",
              "    <tr>\n",
              "      <th>2</th>\n",
              "      <td>Rainfall</td>\n",
              "      <td>0.079757</td>\n",
              "    </tr>\n",
              "    <tr>\n",
              "      <th>6</th>\n",
              "      <td>Humidity9am</td>\n",
              "      <td>0.070403</td>\n",
              "    </tr>\n",
              "    <tr>\n",
              "      <th>10</th>\n",
              "      <td>Cloud9am</td>\n",
              "      <td>0.067092</td>\n",
              "    </tr>\n",
              "    <tr>\n",
              "      <th>9</th>\n",
              "      <td>Pressure3pm</td>\n",
              "      <td>0.065272</td>\n",
              "    </tr>\n",
              "    <tr>\n",
              "      <th>...</th>\n",
              "      <td>...</td>\n",
              "      <td>...</td>\n",
              "    </tr>\n",
              "    <tr>\n",
              "      <th>50</th>\n",
              "      <td>Location_Newcastle</td>\n",
              "      <td>0.000000</td>\n",
              "    </tr>\n",
              "    <tr>\n",
              "      <th>62</th>\n",
              "      <td>Location_SalmonGums</td>\n",
              "      <td>0.000000</td>\n",
              "    </tr>\n",
              "    <tr>\n",
              "      <th>51</th>\n",
              "      <td>Location_Nhil</td>\n",
              "      <td>0.000000</td>\n",
              "    </tr>\n",
              "    <tr>\n",
              "      <th>52</th>\n",
              "      <td>Location_NorahHead</td>\n",
              "      <td>0.000000</td>\n",
              "    </tr>\n",
              "    <tr>\n",
              "      <th>40</th>\n",
              "      <td>Location_GoldCoast</td>\n",
              "      <td>0.000000</td>\n",
              "    </tr>\n",
              "  </tbody>\n",
              "</table>\n",
              "<p>123 rows × 2 columns</p>\n",
              "</div>"
            ],
            "text/plain": [
              "                   feat      coef\n",
              "7           Humidity3pm  0.250783\n",
              "2              Rainfall  0.079757\n",
              "6           Humidity9am  0.070403\n",
              "10             Cloud9am  0.067092\n",
              "9           Pressure3pm  0.065272\n",
              "..                  ...       ...\n",
              "50   Location_Newcastle  0.000000\n",
              "62  Location_SalmonGums  0.000000\n",
              "51        Location_Nhil  0.000000\n",
              "52   Location_NorahHead  0.000000\n",
              "40   Location_GoldCoast  0.000000\n",
              "\n",
              "[123 rows x 2 columns]"
            ]
          },
          "execution_count": 16,
          "metadata": {},
          "output_type": "execute_result"
        }
      ],
      "source": [
        "feature_names = [x for x in df_dummies if x != 'RainTomorrow']\n",
        "pd.DataFrame({'feat': feature_names,\n",
        "              'coef': clf.feature_importances_}).sort_values(by='coef', ascending=False)"
      ]
    },
    {
      "cell_type": "markdown",
      "metadata": {
        "id": "XVmWyxQvB07Q"
      },
      "source": [
        "⭐ Итак, вы потренировались решать задачу классификации с помощью случайного леса, рассмотрели на практике некоторые важные свойства этого ансамбля и узнали, от каких факторов зависит, будет ли завтра дождь — весьма полезная информация.\n",
        "\n",
        "Однако, как вы помните, случайный лес — это не единственный вид ансамблей. Уже в следующем юните мы продолжим наше погружение в этот класс алгоритмов и изучим бустинг →"
      ]
    }
  ],
  "metadata": {
    "colab": {
      "provenance": []
    },
    "kernelspec": {
      "display_name": "Python 3",
      "name": "python3"
    },
    "language_info": {
      "codemirror_mode": {
        "name": "ipython",
        "version": 3
      },
      "file_extension": ".py",
      "mimetype": "text/x-python",
      "name": "python",
      "nbconvert_exporter": "python",
      "pygments_lexer": "ipython3",
      "version": "3.10.8"
    }
  },
  "nbformat": 4,
  "nbformat_minor": 0
}
