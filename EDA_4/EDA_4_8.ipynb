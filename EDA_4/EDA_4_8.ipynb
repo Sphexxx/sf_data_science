{
  "cells": [
    {
      "cell_type": "markdown",
      "metadata": {
        "id": "kk8hfaOzuH3f"
      },
      "source": [
        "# **Домашнее задание**"
      ]
    },
    {
      "cell_type": "markdown",
      "metadata": {
        "id": "JMrxIJqFuOkv"
      },
      "source": [
        "### Используя информацию по мидиям Петербурга и Магадана, которые представлены в виде двух массивов petersburg и magadan в разделе ANOVA тест, проверьте данные на нормальность и на наличие корреляции. Для этого:\n",
        "\n",
        "+ Объедините 2 массива в DataFrame.\n",
        "+ Обоснуйте выбор теста на корреляцию.\n",
        "+ Сделайте вывод по гипотезе.\n",
        "\n",
        "### Также ответьте на вопрос:\n",
        "\n",
        "+ Какова разница в среднем размере мидии в зависимости от города-производителя.\n",
        "+ Обоснуйте выбор теста.\n",
        "+ Сделайте вывод по гипотезе."
      ]
    },
    {
      "cell_type": "code",
      "execution_count": 1,
      "metadata": {
        "id": "Cbncj6oPuBam"
      },
      "outputs": [],
      "source": [
        "import pandas as pd\n",
        "import matplotlib.pyplot as plt\n",
        "from scipy import stats\n",
        "from IPython.display import display"
      ]
    },
    {
      "cell_type": "markdown",
      "metadata": {
        "id": "WIEktBa8uwrL"
      },
      "source": [
        "# 1. Объединим 2 массива в DataFrame:"
      ]
    },
    {
      "cell_type": "code",
      "execution_count": 2,
      "metadata": {
        "colab": {
          "base_uri": "https://localhost:8080/",
          "height": 300
        },
        "id": "jf5NTaliELts",
        "outputId": "fd4f7699-3ecd-48a3-ac1b-007c68c4bef6"
      },
      "outputs": [
        {
          "data": {
            "text/html": [
              "<div>\n",
              "<style scoped>\n",
              "    .dataframe tbody tr th:only-of-type {\n",
              "        vertical-align: middle;\n",
              "    }\n",
              "\n",
              "    .dataframe tbody tr th {\n",
              "        vertical-align: top;\n",
              "    }\n",
              "\n",
              "    .dataframe thead th {\n",
              "        text-align: right;\n",
              "    }\n",
              "</style>\n",
              "<table border=\"1\" class=\"dataframe\">\n",
              "  <thead>\n",
              "    <tr style=\"text-align: right;\">\n",
              "      <th></th>\n",
              "      <th>Petersburg</th>\n",
              "      <th>Magadan</th>\n",
              "    </tr>\n",
              "  </thead>\n",
              "  <tbody>\n",
              "    <tr>\n",
              "      <th>0</th>\n",
              "      <td>0.0974</td>\n",
              "      <td>0.1033</td>\n",
              "    </tr>\n",
              "    <tr>\n",
              "      <th>1</th>\n",
              "      <td>0.1352</td>\n",
              "      <td>0.0915</td>\n",
              "    </tr>\n",
              "    <tr>\n",
              "      <th>2</th>\n",
              "      <td>0.0817</td>\n",
              "      <td>0.0781</td>\n",
              "    </tr>\n",
              "    <tr>\n",
              "      <th>3</th>\n",
              "      <td>0.1016</td>\n",
              "      <td>0.0685</td>\n",
              "    </tr>\n",
              "    <tr>\n",
              "      <th>4</th>\n",
              "      <td>0.0968</td>\n",
              "      <td>0.0677</td>\n",
              "    </tr>\n",
              "    <tr>\n",
              "      <th>5</th>\n",
              "      <td>0.1064</td>\n",
              "      <td>0.0697</td>\n",
              "    </tr>\n",
              "    <tr>\n",
              "      <th>6</th>\n",
              "      <td>0.1050</td>\n",
              "      <td>0.0764</td>\n",
              "    </tr>\n",
              "    <tr>\n",
              "      <th>7</th>\n",
              "      <td>NaN</td>\n",
              "      <td>0.0689</td>\n",
              "    </tr>\n",
              "  </tbody>\n",
              "</table>\n",
              "</div>"
            ],
            "text/plain": [
              "   Petersburg  Magadan\n",
              "0      0.0974   0.1033\n",
              "1      0.1352   0.0915\n",
              "2      0.0817   0.0781\n",
              "3      0.1016   0.0685\n",
              "4      0.0968   0.0677\n",
              "5      0.1064   0.0697\n",
              "6      0.1050   0.0764\n",
              "7         NaN   0.0689"
            ]
          },
          "metadata": {},
          "output_type": "display_data"
        }
      ],
      "source": [
        "# исходные данные:\n",
        "petersburg = [0.0974, 0.1352, 0.0817, 0.1016, 0.0968, 0.1064, 0.105]\n",
        "magadan = [0.1033, 0.0915, 0.0781, 0.0685, 0.0677, 0.0697, 0.0764, 0.0689]\n",
        "\n",
        "# формируем DataFrame:\n",
        "oysters = pd.DataFrame({\n",
        "    'Petersburg': pd.Series(petersburg),\n",
        "    'Magadan': pd.Series(magadan)})\n",
        "\n",
        "display(oysters)"
      ]
    },
    {
      "cell_type": "markdown",
      "metadata": {
        "id": "SGf_szZYvDpO"
      },
      "source": [
        "### Так как длина списка *petersburg* меньше *magadan*, в DataFrame мы получили значение Nan. Заменим его на среднее-арифметическое."
      ]
    },
    {
      "cell_type": "code",
      "execution_count": 3,
      "metadata": {
        "colab": {
          "base_uri": "https://localhost:8080/",
          "height": 300
        },
        "id": "zLNnb-PqEgim",
        "outputId": "39efefd9-ff5a-4424-d53d-e9ecb9434f79"
      },
      "outputs": [
        {
          "data": {
            "text/html": [
              "<div>\n",
              "<style scoped>\n",
              "    .dataframe tbody tr th:only-of-type {\n",
              "        vertical-align: middle;\n",
              "    }\n",
              "\n",
              "    .dataframe tbody tr th {\n",
              "        vertical-align: top;\n",
              "    }\n",
              "\n",
              "    .dataframe thead th {\n",
              "        text-align: right;\n",
              "    }\n",
              "</style>\n",
              "<table border=\"1\" class=\"dataframe\">\n",
              "  <thead>\n",
              "    <tr style=\"text-align: right;\">\n",
              "      <th></th>\n",
              "      <th>Petersburg</th>\n",
              "      <th>Magadan</th>\n",
              "    </tr>\n",
              "  </thead>\n",
              "  <tbody>\n",
              "    <tr>\n",
              "      <th>0</th>\n",
              "      <td>0.097400</td>\n",
              "      <td>0.1033</td>\n",
              "    </tr>\n",
              "    <tr>\n",
              "      <th>1</th>\n",
              "      <td>0.135200</td>\n",
              "      <td>0.0915</td>\n",
              "    </tr>\n",
              "    <tr>\n",
              "      <th>2</th>\n",
              "      <td>0.081700</td>\n",
              "      <td>0.0781</td>\n",
              "    </tr>\n",
              "    <tr>\n",
              "      <th>3</th>\n",
              "      <td>0.101600</td>\n",
              "      <td>0.0685</td>\n",
              "    </tr>\n",
              "    <tr>\n",
              "      <th>4</th>\n",
              "      <td>0.096800</td>\n",
              "      <td>0.0677</td>\n",
              "    </tr>\n",
              "    <tr>\n",
              "      <th>5</th>\n",
              "      <td>0.106400</td>\n",
              "      <td>0.0697</td>\n",
              "    </tr>\n",
              "    <tr>\n",
              "      <th>6</th>\n",
              "      <td>0.105000</td>\n",
              "      <td>0.0764</td>\n",
              "    </tr>\n",
              "    <tr>\n",
              "      <th>7</th>\n",
              "      <td>0.103443</td>\n",
              "      <td>0.0689</td>\n",
              "    </tr>\n",
              "  </tbody>\n",
              "</table>\n",
              "</div>"
            ],
            "text/plain": [
              "   Petersburg  Magadan\n",
              "0    0.097400   0.1033\n",
              "1    0.135200   0.0915\n",
              "2    0.081700   0.0781\n",
              "3    0.101600   0.0685\n",
              "4    0.096800   0.0677\n",
              "5    0.106400   0.0697\n",
              "6    0.105000   0.0764\n",
              "7    0.103443   0.0689"
            ]
          },
          "metadata": {},
          "output_type": "display_data"
        }
      ],
      "source": [
        "oysters['Petersburg'].fillna(oysters['Petersburg'].mean(), inplace=True)\n",
        "\n",
        "display(oysters)"
      ]
    },
    {
      "cell_type": "markdown",
      "metadata": {
        "id": "wx-iuDv9vaeh"
      },
      "source": [
        "# 2. Обоснуем выбор теста на корреляцию:\n",
        "\n",
        "Проведем исследование в несколько этапов:\n",
        "+ визуально оценим нормальность данных используя метод с графиками нормальных квантилей (q-q plot);\n",
        "+ выберем и проведем тест на нормальность;\n",
        "+ основываясь на характере данных и показателях нормальности распределения выберем тест на корреляцию:"
      ]
    },
    {
      "cell_type": "code",
      "execution_count": 4,
      "metadata": {
        "colab": {
          "base_uri": "https://localhost:8080/",
          "height": 459
        },
        "id": "qCoxKOKbVMlc",
        "outputId": "9a6001b4-a7dd-4fa4-be63-a1b8d35ab5c9"
      },
      "outputs": [
        {
          "data": {
            "image/png": "[encoded data removed]",
            "text/plain": [
              "<Figure size 1008x504 with 2 Axes>"
            ]
          },
          "metadata": {
            "needs_background": "light"
          },
          "output_type": "display_data"
        }
      ],
      "source": [
        "fig, ax = plt.subplots(nrows=1, ncols=2, figsize=(14, 7))\n",
        "\n",
        "stats.probplot(oysters['Petersburg'], plot=ax[0])\n",
        "ax[0].set_title('Устрицы Петербурга (qq plot)')\n",
        "\n",
        "stats.probplot(oysters['Magadan'], plot=ax[1])\n",
        "ax[1].set_title('Устрицы Магадана (qq plot)')\n",
        "\n",
        "plt.show()"
      ]
    },
    {
      "cell_type": "markdown",
      "metadata": {
        "id": "Y23WDAvYWbgF"
      },
      "source": [
        "### На графиках хорошо видно, что значения отклоняются от прямой нормального распределения. Но все же значения на графике слева ближе к нормальному, а на графике справа - коэффициент нормальности будет ниже."
      ]
    },
    {
      "cell_type": "code",
      "execution_count": 5,
      "metadata": {
        "id": "iQHe4GvuYXPF"
      },
      "outputs": [],
      "source": [
        "# формулируем гипотезы и устанавливаем уровень значимости:\n",
        "H0 = 'Данные распределены нормально'\n",
        "Ha = 'Данные не распределены нормально (мы отвергаем H0)'\n",
        "alpha = 0.05"
      ]
    },
    {
      "cell_type": "markdown",
      "metadata": {
        "id": "dv62uahYY73o"
      },
      "source": [
        "### Учитывай небольшой размер выборок, наиболее лучшим инструментом для определения нормальности будет тест Шапиро-Уилка:"
      ]
    },
    {
      "cell_type": "code",
      "execution_count": 6,
      "metadata": {
        "colab": {
          "base_uri": "https://localhost:8080/"
        },
        "id": "ZwClvNS4Ylw1",
        "outputId": "48534d1a-69b0-488f-a4f1-6b359a0a4d1e"
      },
      "outputs": [
        {
          "name": "stdout",
          "output_type": "stream",
          "text": [
            "Для устриц из Петербурга: p=0.123\n",
            "Данные распределены нормально\n",
            "\n",
            "Для устриц из Магадана: p=0.036\n",
            "Данные не распределены нормально (мы отвергаем H0)\n"
          ]
        }
      ],
      "source": [
        "_, p = stats.shapiro(oysters['Petersburg'])\n",
        "print('Для устриц из Петербурга: p=%.3f' % p)\n",
        "print(H0) if p > alpha else print(Ha)\n",
        "\n",
        "_, p = stats.shapiro(oysters['Magadan'])\n",
        "print('\\nДля устриц из Магадана: p=%.3f' % p)\n",
        "print(H0) if p > alpha else print(Ha)"
      ]
    },
    {
      "cell_type": "markdown",
      "metadata": {
        "id": "JQQ6oMFpcIgs"
      },
      "source": [
        "### Для проведения теста на корреляцию можно использовать параметрические и непараметрические методы. Непараметрические считаются менее мощными по сравнению с параметрическими. В то же время непараметрические методы более надежны в случаях, когда есть сомнения в том, что анализируемый признак имеет нормальное распределение."
      ]
    },
    {
      "cell_type": "markdown",
      "metadata": {
        "id": "aWPfhwTXa1M3"
      },
      "source": [
        "### Спорная ситуация с данными:\n",
        "\n",
        "- с одной стороны, мы имеем дело с непрерывными, а не категориальными данными, одно из распределений имеет черты нормальности;\n",
        "- с другой стороны, одна из выборок не распределена нормально;\n",
        "\n",
        "### Поэтому проведем два теста на корреляцию - Пирсона и Спирмена, и сравним результат.\n",
        "\n",
        "Корреляция размеров устриц из разных городов, как влияние одной из выборок на другую - не имеет смысла. Однако все же можно попробовать осмысленно интерпретировать полученный результат. Предположим, что есть некий фактор, оказывающий одинаковое влияние на распределение размера устриц независимо от региона. Тогда данные будут иметь сильную корреляцию."
      ]
    },
    {
      "cell_type": "code",
      "execution_count": 7,
      "metadata": {
        "id": "eBwZotOcZT5Z"
      },
      "outputs": [],
      "source": [
        "# исходя из идеи выше, примем нулевую и альтернативную гипотезы:\n",
        "H0 = 'Данные не коррелируют между собой. Общий фактор влияния отсутствует.'\n",
        "Ha = 'Данные коррелируют между собой. Общий внешний фактор существует.(мы отвергаем H0)'"
      ]
    },
    {
      "cell_type": "code",
      "execution_count": 8,
      "metadata": {
        "colab": {
          "base_uri": "https://localhost:8080/"
        },
        "id": "YhzySIOdcfu1",
        "outputId": "a9542d13-0687-453a-aa42-1f7c585f7908"
      },
      "outputs": [
        {
          "name": "stdout",
          "output_type": "stream",
          "text": [
            "Коэффициент корреляции Пирсона: 0.245\n",
            "Вероятность отсутствия связи: 0.559\n",
            "Данные не коррелируют между собой. Общий фактор влияния отсутствует.\n"
          ]
        }
      ],
      "source": [
        "# рассчитаем коэффициент корреляции и вероятность отсутствия связи по Пирсону:\n",
        "corr_pirson, p_p = stats.pearsonr(oysters['Petersburg'], oysters['Magadan'])\n",
        "\n",
        "# так как в функции scipy.stats.pearsonr  p это двухсторонняя p-величина, то при проверке H0 необходимо alpha/2\n",
        "print('Коэффициент корреляции Пирсона: %.3f' % corr_pirson)\n",
        "print('Вероятность отсутствия связи: %.3f' % p_p)\n",
        "print(H0) if p_p > alpha/2 else print(Ha)"
      ]
    },
    {
      "cell_type": "code",
      "execution_count": 9,
      "metadata": {
        "colab": {
          "base_uri": "https://localhost:8080/"
        },
        "id": "ow8QTnLjcuiG",
        "outputId": "9829ea2c-4674-48e2-c5fc-5809604b86aa"
      },
      "outputs": [
        {
          "name": "stdout",
          "output_type": "stream",
          "text": [
            "\n",
            "Коэффициент корреляции Спирмена: 0.167\n",
            "Вероятность отсутствия связи: 0.693\n",
            "Данные не коррелируют между собой. Общий фактор влияния отсутствует.\n"
          ]
        }
      ],
      "source": [
        "# рассчитаем коэффициент корреляции и вероятность отсутствия связи по Спирмену:\n",
        "corr_spearman, p_s = stats.spearmanr(oysters['Petersburg'], oysters['Magadan'])\n",
        "\n",
        "print('\\nКоэффициент корреляции Спирмена: %.3f' % corr_spearman)\n",
        "print('Вероятность отсутствия связи: %.3f' % p_s)\n",
        "print(H0) if p_s > alpha else print(Ha)"
      ]
    },
    {
      "cell_type": "markdown",
      "metadata": {
        "id": "wr_fWDSQdBgW"
      },
      "source": [
        "# 3. Сделаем вывод по гипотезе:\n",
        "\n",
        "Очевидно, что данные никак не связаны между собой. Предположение о влиянии одного параметра на другой не имеет смысла.\n",
        "\n",
        "Также отвергнута гипотеза о существовании некого внешнего фактора, который мог бы оказывать схожее влияние на данные совокупности, о чем бы свидетельствовало наличие корреляционной связи данных выборок.\n",
        "\n",
        "И корреляционный тест Пирсона и тест Спирмена показывают низкие коэффициенты корреляции данных и высокие вероятности отсутствия связи.\n",
        "\n",
        "### Данные выборки значимо не коррелируют друг с другом и имеют разную логику распределения данных."
      ]
    },
    {
      "cell_type": "markdown",
      "metadata": {
        "id": "P3fwVp_KdKtg"
      },
      "source": [
        "# 4. Какова разница в среднем размере мидии в зависимости от города-производителя?"
      ]
    },
    {
      "cell_type": "code",
      "execution_count": 10,
      "metadata": {
        "colab": {
          "base_uri": "https://localhost:8080/"
        },
        "id": "ntyXiPr0c1N7",
        "outputId": "eaf5ccac-9ce2-4a98-c39e-761bc52e6bee"
      },
      "outputs": [
        {
          "name": "stdout",
          "output_type": "stream",
          "text": [
            "Средний размер мидий из Петербурга - 0.103\n",
            "Средний размер мидий из Магадана - 0.078\n",
            "\n",
            "Разница размеров составляет - 0.025 ед.\n"
          ]
        }
      ],
      "source": [
        "# рассчитаем средние размеры мидий по двум городам:\n",
        "oysters_petersburg_mean = round(oysters['Petersburg'].mean(), 3)\n",
        "print(f'Средний размер мидий из Петербурга - {oysters_petersburg_mean}')\n",
        "\n",
        "oysters_magadan_mean = round(oysters['Magadan'].mean(), 3)\n",
        "print(f'Средний размер мидий из Магадана - {oysters_magadan_mean}')\n",
        "\n",
        "oysters_diff = abs(round(oysters_petersburg_mean - oysters_magadan_mean, 3))\n",
        "print(f'\\nРазница размеров составляет - {oysters_diff} ед.')"
      ]
    },
    {
      "cell_type": "markdown",
      "metadata": {
        "id": "lkgf7SwQdVvM"
      },
      "source": [
        "### Разница среднего размера мидий равна 0.025. Можно сказать, что мидии из Магадана в среднем почти на четверть меньше мидий из Петербурга."
      ]
    },
    {
      "cell_type": "markdown",
      "metadata": {
        "id": "zBvK0ru5do24"
      },
      "source": [
        "# 5. Обоснуем выбор теста и проведем тест на сравнение выборок:\n",
        "\n",
        "### Необходим тест на сравнение двух выборок. Независимой категориальной переменной будет выступать город-производитель устриц. Зависимой количественной переменной - размер устриц.\n",
        "\n",
        "### Для этих целей подходит независимый t-тест (так как сравнивается ровно две группы).\n",
        "\n",
        "T-критерий описывается как статистический критерий, который проверяет, сильно ли отличаются значения совокупности двух выборок, используя t-распределение, которое используется, когда стандартное отклонение неизвестно, а размер выборки невелик. Это инструмент для анализа, взяты ли две выборки из одной популяции."
      ]
    },
    {
      "cell_type": "code",
      "execution_count": 11,
      "metadata": {
        "colab": {
          "base_uri": "https://localhost:8080/"
        },
        "id": "WNPPhQL3dP33",
        "outputId": "3bb21acd-0606-4bd2-e6ef-c384bd71eb62"
      },
      "outputs": [
        {
          "name": "stdout",
          "output_type": "stream",
          "text": [
            "Вероятность отсутствия значимой разницы средних параметров в выборках составляет - 0.003\n",
            "\n",
            "Принимаем альтернативную гипотезу:  Есть значимая разница между размерами устриц в разных городах.\n"
          ]
        }
      ],
      "source": [
        "# сформулируем гипотезы:\n",
        "H0 = 'Нет значимой разницы между размерами устриц в разных городах.'\n",
        "Ha = 'Есть значимая разница между размерами устриц в разных городах.'\n",
        "\n",
        "# проведем t-тест и рассчитаем значение p-value:\n",
        "test_results = stats.ttest_ind(oysters['Petersburg'], oysters['Magadan'], equal_var=True)\n",
        "p = round(test_results[1],3)\n",
        "\n",
        "print(f'Вероятность отсутствия значимой разницы средних параметров в выборках составляет - {p}\\n')\n",
        "print('Принимаем нулевую гипотезу: ', H0) if p > alpha else print('Принимаем альтернативную гипотезу: ', Ha)"
      ]
    },
    {
      "cell_type": "markdown",
      "metadata": {
        "id": "dUn5GbeZd9kg"
      },
      "source": [
        "# 6. Сделаем вывод по гипотезе:\n",
        "\n",
        "### Значимая разница между размерами устриц из разных городов подтверждается результатами t-теста, также как и простым сравнением средних показателей по двум выборкам."
      ]
    }
  ],
  "metadata": {
    "colab": {
      "collapsed_sections": [],
      "name": "EDA_4_8.ipynb",
      "provenance": []
    },
    "kernelspec": {
      "display_name": "Python 3.10.4 64-bit",
      "language": "python",
      "name": "python3"
    },
    "language_info": {
      "codemirror_mode": {
        "name": "ipython",
        "version": 3
      },
      "file_extension": ".py",
      "mimetype": "text/x-python",
      "name": "python",
      "nbconvert_exporter": "python",
      "pygments_lexer": "ipython3",
      "version": "3.10.4"
    },
    "vscode": {
      "interpreter": {
        "hash": "d3e10ef16274dd72e574b8fa73b58450b957d8421a2901baded3cca26fcf5dda"
      }
    }
  },
  "nbformat": 4,
  "nbformat_minor": 0
}
